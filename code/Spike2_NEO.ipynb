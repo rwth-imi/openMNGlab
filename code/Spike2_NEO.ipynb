{
 "cells": [
  {
   "cell_type": "code",
   "execution_count": null,
   "metadata": {},
   "outputs": [],
   "source": [
    "%load_ext autoreload\n",
    "%autoreload 2\n",
    "from pathlib import Path\n",
    "import neo\n",
    "import neo_importers.neo_spike_importer as spike_importer\n",
    "from neo_importers.neo_wrapper import MNGRecording\n",
    "from features import FeatureDatabase\n",
    "\n",
    "file_name = Path(\"..\")/\"..\"/\"Files\"/\"latency_experiment_roberto\"/\"20_05_13_U1a_pulse_Latenz.smr\"\n",
    "\n",
    "# maybe we could make the spike importer return a recording object immediately?\n",
    "# or recording + block representation?\n",
    "bl, id_map = spike_importer.import_spike_file(file_name, \n",
    "                                      stimuli_event_channels={\"DigMark\"},\n",
    "                                      action_potential_channels= \"all\"\n",
    "                                      )\n",
    "seg: neo.core.Segment = bl.segments[0]\n",
    "recording = MNGRecording(bl.segments[0])\n",
    "\n",
    "print(\"There are the following channels in this recording: \" + str(recording.all_channels.keys()))"
   ]
  },
  {
   "cell_type": "code",
   "execution_count": null,
   "metadata": {},
   "outputs": [],
   "source": [
    "print(recording.electrical_stimulus_channels_raw[\"es.0\"].array_annotations)"
   ]
  },
  {
   "cell_type": "code",
   "execution_count": null,
   "metadata": {},
   "outputs": [],
   "source": [
    "from neo.core import AnalogSignal\n",
    "\n",
    "rd_channel: AnalogSignal\n",
    "for key, rd_channel in recording.raw_data_channels.items():\n",
    "    print(key, rd_channel.name)"
   ]
  },
  {
   "cell_type": "code",
   "execution_count": null,
   "metadata": {},
   "outputs": [],
   "source": [
    "%autoreload 2\n",
    "from features import ResponseLatencyFeatureExtractor, NormalizedSignalEnergyExtractor, SpikeCountExtractor, AdaptiveSpikeCountExtractor\n",
    "from quantities import second\n",
    "\n",
    "# define feature db\n",
    "db = FeatureDatabase(Path(\"../../Files/latency_experiment_roberto/20_05_13_U1a_pulse_Latenz_Features\"), recording)\n",
    "\n",
    "try: # check if we can just load the features somehow\n",
    "    db.load()\n",
    "    print(\"Found feature database and loaded from files...\")\n",
    "except Exception as ex: # extract the features from the data base\n",
    "    ap_channels = list(recording.action_potential_channels.keys())\n",
    "    db.extract_features(ap_channels, ResponseLatencyFeatureExtractor, stimulus_channel = \"es.0\")\n",
    "    db.extract_features(ap_channels, NormalizedSignalEnergyExtractor)\n",
    "    db.extract_features(ap_channels, SpikeCountExtractor, timeframe = 100 * second, num_intervals = 8)\n",
    "    db.extract_features(ap_channels, AdaptiveSpikeCountExtractor, timeframe = 100 * second, num_intervals = 6)\n",
    "    db.store()\n",
    "    print(\"Created and stored new feature db...\")"
   ]
  },
  {
   "cell_type": "code",
   "execution_count": null,
   "metadata": {},
   "outputs": [],
   "source": [
    "%autoreload 2\n",
    "from fibre_tracking import APTrack\n",
    "\n",
    "raw_signal = recording.raw_data_channel_by_name(name = \"Signal\")\n",
    "el_stimuli = recording.electrical_stimulus_channels[\"es.0\"]\n",
    "ap_channel = recording.action_potential_channels[\"ap.2\"]\n",
    "\n",
    "ap_track = APTrack.from_aps(el_stimuli = el_stimuli, aps = list(ap_channel[0 : 3]))\n",
    "ap_track.color = \"green\"\n",
    "\n",
    "print(ap_track)"
   ]
  },
  {
   "cell_type": "code",
   "execution_count": null,
   "metadata": {},
   "outputs": [],
   "source": [
    "%autoreload 2\n",
    "ap_track.extend_downwards(raw_signal = raw_signal, el_stimuli = el_stimuli, num_sweeps = 2)"
   ]
  },
  {
   "cell_type": "code",
   "execution_count": null,
   "metadata": {},
   "outputs": [],
   "source": [
    "%autoreload 2\n",
    "from plotting import FallingLeafPlot\n",
    "from quantities import second, minute\n",
    "from neo_importers.neo_wrapper import TypeID\n",
    "\n",
    "signal_channel = id_map[TypeID.RAW_DATA][\"Signal\"]\n",
    "flp = FallingLeafPlot(recording = recording, feature_db = db, \\\n",
    "                      width = 750, height = 450)\n",
    "\n",
    "flp.plot(action_potential_channels = \"all\", plot_raw_signal = True, analog_signal_channel = signal_channel, \\\n",
    "         t_start = 0 * minute, post_stimulus_timeframe = 0.01 * second, num_intervals = 25, \n",
    "         ap_tracks = [ap_track])"
   ]
  },
  {
   "cell_type": "code",
   "execution_count": null,
   "metadata": {},
   "outputs": [],
   "source": []
  }
 ],
 "metadata": {
  "kernelspec": {
   "display_name": "neuro-venv",
   "language": "python",
   "name": "neuro-venv"
  },
  "language_info": {
   "codemirror_mode": {
    "name": "ipython",
    "version": 3
   },
   "file_extension": ".py",
   "mimetype": "text/x-python",
   "name": "python",
   "nbconvert_exporter": "python",
   "pygments_lexer": "ipython3",
   "version": "3.7.0"
  }
 },
 "nbformat": 4,
 "nbformat_minor": 4
}
