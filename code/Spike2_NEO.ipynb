{
 "cells": [
  {
   "cell_type": "code",
   "execution_count": 7,
   "metadata": {},
   "outputs": [
    {
     "name": "stdout",
     "output_type": "stream",
     "text": [
      "The autoreload extension is already loaded. To reload it, use:\n",
      "  %reload_ext autoreload\n"
     ]
    },
    {
     "name": "stderr",
     "output_type": "stream",
     "text": [
      "Units \"°C\" can not be converted to a quantity. Using dimensionless instead\n",
      "Units \"°C\" can not be converted to a quantity. Using dimensionless instead\n",
      "Units \"mN\" can not be converted to a quantity. Using dimensionless instead\n",
      "Units \"mN\" can not be converted to a quantity. Using dimensionless instead\n"
     ]
    },
    {
     "name": "stdout",
     "output_type": "stream",
     "text": [
      "There are the following channels in this recording: dict_keys(['rd.2', 'rd.1', 'rd.0', 'es.0', 'ap.0', 'ap.2', 'ap.4', 'ap.1', 'ap.3'])\n"
     ]
    }
   ],
   "source": [
    "%load_ext autoreload\n",
    "%autoreload 2\n",
    "from pathlib import Path\n",
    "import neo\n",
    "import neo_importers.neo_spike_importer as spike_importer\n",
    "from neo_importers.neo_wrapper import MNGRecording\n",
    "from features import FeatureDatabase\n",
    "\n",
    "file_name = Path(\"..\")/\"..\"/\"Files\"/\"11_10_27U2a.smr\"\n",
    "\n",
    "# maybe we could make the spike importer return a recording object immediately?\n",
    "# or recording + block representation?\n",
    "bl = spike_importer.import_spike_file(file_name, \n",
    "                                      stimuli_event_channels={\"DigMark\"},\n",
    "                                      action_potential_channels={\"nw-1_0#1\", \"nw-1_0#2\", \"nw-1_0#3\", \"nw-1_0#4\", \"nw-1_0#5\"}\n",
    "                                      )\n",
    "seg: neo.core.Segment = bl.segments[0]\n",
    "recording = MNGRecording(bl.segments[0])\n",
    "\n",
    "print(\"There are the following channels in this recording: \" + str(recording.all_channels.keys()))"
   ]
  },
  {
   "cell_type": "code",
   "execution_count": 20,
   "metadata": {},
   "outputs": [],
   "source": [
    "%autoreload 2\n",
    "from features import ResponseLatencyFeatureExtractor, NormalizedSignalEnergyExtractor, SpikeCountExtractor, AdaptiveSpikeCountExtractor\n",
    "from quantities import second\n",
    "\n",
    "# define feature db\n",
    "db = FeatureDatabase(Path(\"../../Files/11_10_27U2a_Features\"), recording)\n",
    "\n",
    "try: # check if we can just load the features somehow\n",
    "    db.load()\n",
    "except Exception as ex: # extract the features from the data base\n",
    "    ap_channels = list(recording.action_potential_channels.keys())\n",
    "    db.extract_features(ap_channels, ResponseLatencyFeatureExtractor, stimulus_channel = \"es.0\")\n",
    "    db.extract_features(ap_channels, NormalizedSignalEnergyExtractor)\n",
    "    db.extract_features(ap_channels, SpikeCountExtractor, timeframe = 100 * second, num_intervals = 8)\n",
    "    db.extract_features(ap_channels, AdaptiveSpikeCountExtractor, timeframe = 100 * second, num_intervals = 6)\n",
    "    db.store()"
   ]
  },
  {
   "cell_type": "code",
   "execution_count": 14,
   "metadata": {},
   "outputs": [],
   "source": []
  },
  {
   "cell_type": "code",
   "execution_count": null,
   "metadata": {},
   "outputs": [],
   "source": []
  }
 ],
 "metadata": {
  "kernelspec": {
   "display_name": "Python 3",
   "language": "python",
   "name": "python3"
  },
  "language_info": {
   "codemirror_mode": {
    "name": "ipython",
    "version": 3
   },
   "file_extension": ".py",
   "mimetype": "text/x-python",
   "name": "python",
   "nbconvert_exporter": "python",
   "pygments_lexer": "ipython3",
   "version": "3.7.0"
  }
 },
 "nbformat": 4,
 "nbformat_minor": 4
}
