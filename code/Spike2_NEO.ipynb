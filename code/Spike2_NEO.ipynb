{
 "cells": [
  {
   "cell_type": "code",
   "execution_count": 1,
   "metadata": {},
   "outputs": [
    {
     "name": "stderr",
     "output_type": "stream",
     "text": [
      "Units \"°C\" can not be converted to a quantity. Using dimensionless instead\n",
      "Units \"°C\" can not be converted to a quantity. Using dimensionless instead\n"
     ]
    },
    {
     "name": "stdout",
     "output_type": "stream",
     "text": [
      "There are the following channels in this recording: dict_keys(['rd.0', 'rd.1', 'es.0', 'ap.0', 'ap.1', 'ap.2', 'ap.3', 'ap.4'])\n"
     ]
    }
   ],
   "source": [
    "%load_ext autoreload\n",
    "%autoreload 2\n",
    "from pathlib import Path\n",
    "import neo\n",
    "import neo_importers.neo_spike_importer as spike_importer\n",
    "from neo_importers.neo_wrapper import MNGRecording\n",
    "from features import FeatureDatabase\n",
    "\n",
    "file_name = Path(\"..\")/\"..\"/\"Files\"/\"latency_experiment_roberto\"/\"20_05_13_U1a_pulse_Latenz.smr\"\n",
    "\n",
    "# maybe we could make the spike importer return a recording object immediately?\n",
    "# or recording + block representation?\n",
    "bl, id_map = spike_importer.import_spike_file(file_name, \n",
    "                                      stimuli_event_channels={\"DigMark\"},\n",
    "                                      action_potential_channels= \"all\"\n",
    "                                      )\n",
    "seg: neo.core.Segment = bl.segments[0]\n",
    "recording = MNGRecording(bl.segments[0])\n",
    "\n",
    "print(\"There are the following channels in this recording: \" + str(recording.all_channels.keys()))"
   ]
  },
  {
   "cell_type": "code",
   "execution_count": 20,
   "metadata": {},
   "outputs": [
    {
     "name": "stdout",
     "output_type": "stream",
     "text": [
      "rd.0 Temp.\n",
      "rd.1 Signal\n"
     ]
    }
   ],
   "source": [
    "from neo.core import AnalogSignal\n",
    "\n",
    "rd_channel: AnalogSignal\n",
    "for key, rd_channel in recording.raw_data_channels.items():\n",
    "    print(key, rd_channel.name)"
   ]
  },
  {
   "cell_type": "code",
   "execution_count": 2,
   "metadata": {},
   "outputs": [
    {
     "name": "stdout",
     "output_type": "stream",
     "text": [
      "Found feature database and loaded from files...\n"
     ]
    }
   ],
   "source": [
    "%autoreload 2\n",
    "from features import ResponseLatencyFeatureExtractor, NormalizedSignalEnergyExtractor, SpikeCountExtractor, AdaptiveSpikeCountExtractor\n",
    "from quantities import second\n",
    "\n",
    "# define feature db\n",
    "db = FeatureDatabase(Path(\"../../Files/latency_experiment_roberto/20_05_13_U1a_pulse_Latenz_Features\"), recording)\n",
    "\n",
    "try: # check if we can just load the features somehow\n",
    "    db.load()\n",
    "    print(\"Found feature database and loaded from files...\")\n",
    "except Exception as ex: # extract the features from the data base\n",
    "    ap_channels = list(recording.action_potential_channels.keys())\n",
    "    db.extract_features(ap_channels, ResponseLatencyFeatureExtractor, stimulus_channel = \"es.0\")\n",
    "    db.extract_features(ap_channels, NormalizedSignalEnergyExtractor)\n",
    "    db.extract_features(ap_channels, SpikeCountExtractor, timeframe = 100 * second, num_intervals = 8)\n",
    "    db.extract_features(ap_channels, AdaptiveSpikeCountExtractor, timeframe = 100 * second, num_intervals = 6)\n",
    "    db.store()\n",
    "    print(\"Created and stored new feature db...\")"
   ]
  },
  {
   "cell_type": "code",
   "execution_count": 26,
   "metadata": {},
   "outputs": [
    {
     "name": "stdout",
     "output_type": "stream",
     "text": [
      "AP Track with 10 latencies:\n",
      "Starts at sweep 0 with latency 0.004640000000008559 s.\n"
     ]
    }
   ],
   "source": [
    "%autoreload 2\n",
    "from fibre_tracking import APTrack\n",
    "\n",
    "raw_signal = recording.raw_data_channel_by_name(name = \"Signal\")\n",
    "el_stimuli = recording.electrical_stimulus_channels[\"es.0\"]\n",
    "ap_channel = recording.action_potential_channels[\"ap.2\"]\n",
    "\n",
    "ap_track = APTrack.from_aps(el_stimuli = el_stimuli, aps = list(ap_channel[0 : 10]))\n",
    "ap_track.color = \"green\"\n",
    "\n",
    "print(ap_track)"
   ]
  },
  {
   "cell_type": "code",
   "execution_count": 27,
   "metadata": {},
   "outputs": [
    {
     "name": "stderr",
     "output_type": "stream",
     "text": [
      "100%|██████████████████████████████████████████████████████████████████████████████████| 10/10 [00:27<00:00,  2.72s/it]\n"
     ]
    }
   ],
   "source": [
    "%autoreload 2\n",
    "ap_track.extend_downwards(raw_signal = raw_signal, el_stimuli = el_stimuli, num_sweeps = 10)"
   ]
  },
  {
   "cell_type": "code",
   "execution_count": 29,
   "metadata": {},
   "outputs": [
    {
     "name": "stdout",
     "output_type": "stream",
     "text": [
      "0.0 min 173.15185999999997 s\n"
     ]
    },
    {
     "data": {
      "application/vnd.plotly.v1+json": {
       "config": {
        "plotlyServerURL": "https://plot.ly"
       },
       "data": [
        {
         "hovertemplate": "%{text}",
         "marker": {
          "color": "Black",
          "symbol": "star"
         },
         "mode": "markers",
         "name": "Electrical Stimuli",
         "text": [
          "time = 73.1444 s<br>Index = 0",
          "time = 77.1447 s<br>Index = 1",
          "time = 81.1450 s<br>Index = 2",
          "time = 85.1453 s<br>Index = 3",
          "time = 89.1456 s<br>Index = 4",
          "time = 93.1459 s<br>Index = 5",
          "time = 97.1462 s<br>Index = 6",
          "time = 101.1465 s<br>Index = 7",
          "time = 105.1468 s<br>Index = 8",
          "time = 109.1471 s<br>Index = 9",
          "time = 113.1474 s<br>Index = 10",
          "time = 117.1477 s<br>Index = 11",
          "time = 121.1480 s<br>Index = 12",
          "time = 125.1483 s<br>Index = 13",
          "time = 129.1486 s<br>Index = 14",
          "time = 133.1489 s<br>Index = 15",
          "time = 137.1492 s<br>Index = 16",
          "time = 141.1495 s<br>Index = 17",
          "time = 145.1498 s<br>Index = 18",
          "time = 149.1501 s<br>Index = 19",
          "time = 153.1504 s<br>Index = 20",
          "time = 157.1507 s<br>Index = 21",
          "time = 161.1510 s<br>Index = 22",
          "time = 165.1513 s<br>Index = 23",
          "time = 169.1516 s<br>Index = 24"
         ],
         "type": "scattergl",
         "x": [
          0,
          0,
          0,
          0,
          0,
          0,
          0,
          0,
          0,
          0,
          0,
          0,
          0,
          0,
          0,
          0,
          0,
          0,
          0,
          0,
          0,
          0,
          0,
          0,
          0
         ],
         "y": [
          73.144365,
          77.14465999999999,
          81.14496,
          85.14526,
          89.14555999999999,
          93.14585999999998,
          97.14616,
          101.14645999999999,
          105.14675999999999,
          109.14706,
          113.14735999999999,
          117.14765999999999,
          121.14795999999998,
          125.14826,
          129.14855999999997,
          133.14885999999998,
          137.14916,
          141.14945999999998,
          145.14976499999997,
          149.15006,
          153.15035999999998,
          157.15066,
          161.15096,
          165.15125999999998,
          169.15156
         ]
        },
        {
         "hovertemplate": "%{text}",
         "legendgroup": "rawsignal",
         "line": {
          "color": "firebrick",
          "width": 0.5
         },
         "mode": "lines",
         "name": "Raw Signal",
         "showlegend": true,
         "text": [
          "time = 73.1444 s<br>amp = 30.20 dimensionless",
          "time = 73.1644 s<br>amp = 30.20 dimensionless"
         ],
         "type": "scattergl",
         "x": [
          0,
          0.02
         ],
         "y": [
          74.02960205078125,
          74.02942657470703
         ]
        },
        {
         "hovertemplate": "%{text}",
         "legendgroup": "rawsignal",
         "line": {
          "color": "firebrick",
          "width": 0.5
         },
         "mode": "lines",
         "name": "Raw Signal",
         "showlegend": false,
         "text": [
          "time = 77.1447 s<br>amp = 30.21 dimensionless",
          "time = 77.1647 s<br>amp = 30.21 dimensionless"
         ],
         "type": "scattergl",
         "x": [
          0,
          0.02
         ],
         "y": [
          78.91580963134766,
          78.91545104980469
         ]
        },
        {
         "hovertemplate": "%{text}",
         "legendgroup": "rawsignal",
         "line": {
          "color": "firebrick",
          "width": 0.5
         },
         "mode": "lines",
         "name": "Raw Signal",
         "showlegend": false,
         "text": [
          "time = 81.1450 s<br>amp = 30.18 dimensionless",
          "time = 81.1650 s<br>amp = 30.19 dimensionless"
         ],
         "type": "scattergl",
         "x": [
          0,
          0.02
         ],
         "y": [
          82.9139633178711,
          82.91468048095703
         ]
        },
        {
         "hovertemplate": "%{text}",
         "legendgroup": "rawsignal",
         "line": {
          "color": "firebrick",
          "width": 0.5
         },
         "mode": "lines",
         "name": "Raw Signal",
         "showlegend": false,
         "text": [
          "time = 85.1453 s<br>amp = 30.18 dimensionless",
          "time = 85.1653 s<br>amp = 30.19 dimensionless"
         ],
         "type": "scattergl",
         "x": [
          0,
          0.02
         ],
         "y": [
          86.91480255126953,
          86.91534423828125
         ]
        },
        {
         "hovertemplate": "%{text}",
         "legendgroup": "rawsignal",
         "line": {
          "color": "firebrick",
          "width": 0.5
         },
         "mode": "lines",
         "name": "Raw Signal",
         "showlegend": false,
         "text": [
          "time = 89.1456 s<br>amp = 30.20 dimensionless",
          "time = 89.1656 s<br>amp = 30.21 dimensionless"
         ],
         "type": "scattergl",
         "x": [
          0,
          0.02
         ],
         "y": [
          90.91600036621094,
          90.91653442382812
         ]
        },
        {
         "hovertemplate": "%{text}",
         "legendgroup": "rawsignal",
         "line": {
          "color": "firebrick",
          "width": 0.5
         },
         "mode": "lines",
         "name": "Raw Signal",
         "showlegend": false,
         "text": [
          "time = 93.1459 s<br>amp = 30.22 dimensionless",
          "time = 93.1659 s<br>amp = 30.22 dimensionless"
         ],
         "type": "scattergl",
         "x": [
          0,
          0.02
         ],
         "y": [
          94.917724609375,
          94.917724609375
         ]
        },
        {
         "hovertemplate": "%{text}",
         "legendgroup": "rawsignal",
         "line": {
          "color": "firebrick",
          "width": 0.5
         },
         "mode": "lines",
         "name": "Raw Signal",
         "showlegend": false,
         "text": [
          "time = 97.1462 s<br>amp = 30.24 dimensionless",
          "time = 97.1662 s<br>amp = 30.25 dimensionless"
         ],
         "type": "scattergl",
         "x": [
          0,
          0.02
         ],
         "y": [
          98.91909790039062,
          98.91927337646484
         ]
        },
        {
         "hovertemplate": "%{text}",
         "legendgroup": "rawsignal",
         "line": {
          "color": "firebrick",
          "width": 0.5
         },
         "mode": "lines",
         "name": "Raw Signal",
         "showlegend": false,
         "text": [
          "time = 101.1465 s<br>amp = 30.23 dimensionless",
          "time = 101.1665 s<br>amp = 30.24 dimensionless"
         ],
         "type": "scattergl",
         "x": [
          0,
          0.02
         ],
         "y": [
          102.91851043701172,
          102.91940307617188
         ]
        },
        {
         "hovertemplate": "%{text}",
         "legendgroup": "rawsignal",
         "line": {
          "color": "firebrick",
          "width": 0.5
         },
         "mode": "lines",
         "name": "Raw Signal",
         "showlegend": false,
         "text": [
          "time = 105.1468 s<br>amp = 30.24 dimensionless",
          "time = 105.1668 s<br>amp = 30.25 dimensionless"
         ],
         "type": "scattergl",
         "x": [
          0,
          0.02
         ],
         "y": [
          106.9197006225586,
          106.91987609863281
         ]
        },
        {
         "hovertemplate": "%{text}",
         "legendgroup": "rawsignal",
         "line": {
          "color": "firebrick",
          "width": 0.5
         },
         "mode": "lines",
         "name": "Raw Signal",
         "showlegend": false,
         "text": [
          "time = 109.1471 s<br>amp = 30.28 dimensionless",
          "time = 109.1671 s<br>amp = 30.28 dimensionless"
         ],
         "type": "scattergl",
         "x": [
          0,
          0.02
         ],
         "y": [
          110.92232513427734,
          110.92196655273438
         ]
        },
        {
         "hovertemplate": "%{text}",
         "legendgroup": "rawsignal",
         "line": {
          "color": "firebrick",
          "width": 0.5
         },
         "mode": "lines",
         "name": "Raw Signal",
         "showlegend": false,
         "text": [
          "time = 113.1474 s<br>amp = 30.31 dimensionless",
          "time = 113.1674 s<br>amp = 30.36 dimensionless"
         ],
         "type": "scattergl",
         "x": [
          0,
          0.02
         ],
         "y": [
          114.9244155883789,
          114.92745971679688
         ]
        },
        {
         "hovertemplate": "%{text}",
         "legendgroup": "rawsignal",
         "line": {
          "color": "firebrick",
          "width": 0.5
         },
         "mode": "lines",
         "name": "Raw Signal",
         "showlegend": false,
         "text": [
          "time = 117.1477 s<br>amp = 30.32 dimensionless",
          "time = 117.1677 s<br>amp = 30.33 dimensionless"
         ],
         "type": "scattergl",
         "x": [
          0,
          0.02
         ],
         "y": [
          118.9250717163086,
          118.92561340332031
         ]
        },
        {
         "hovertemplate": "%{text}",
         "legendgroup": "rawsignal",
         "line": {
          "color": "firebrick",
          "width": 0.5
         },
         "mode": "lines",
         "name": "Raw Signal",
         "showlegend": false,
         "text": [
          "time = 121.1480 s<br>amp = 30.35 dimensionless",
          "time = 121.1680 s<br>amp = 30.36 dimensionless"
         ],
         "type": "scattergl",
         "x": [
          0,
          0.02
         ],
         "y": [
          122.9269790649414,
          122.92769622802734
         ]
        },
        {
         "hovertemplate": "%{text}",
         "legendgroup": "rawsignal",
         "line": {
          "color": "firebrick",
          "width": 0.5
         },
         "mode": "lines",
         "name": "Raw Signal",
         "showlegend": false,
         "text": [
          "time = 125.1483 s<br>amp = 30.35 dimensionless",
          "time = 125.1683 s<br>amp = 30.36 dimensionless"
         ],
         "type": "scattergl",
         "x": [
          0,
          0.02
         ],
         "y": [
          126.92764282226562,
          126.9280014038086
         ]
        },
        {
         "hovertemplate": "%{text}",
         "legendgroup": "rawsignal",
         "line": {
          "color": "firebrick",
          "width": 0.5
         },
         "mode": "lines",
         "name": "Raw Signal",
         "showlegend": false,
         "text": [
          "time = 129.1486 s<br>amp = 30.35 dimensionless",
          "time = 129.1686 s<br>amp = 30.36 dimensionless"
         ],
         "type": "scattergl",
         "x": [
          0,
          0.02
         ],
         "y": [
          130.92776489257812,
          130.92811584472656
         ]
        },
        {
         "hovertemplate": "%{text}",
         "legendgroup": "rawsignal",
         "line": {
          "color": "firebrick",
          "width": 0.5
         },
         "mode": "lines",
         "name": "Raw Signal",
         "showlegend": false,
         "text": [
          "time = 133.1489 s<br>amp = 30.34 dimensionless",
          "time = 133.1689 s<br>amp = 30.35 dimensionless"
         ],
         "type": "scattergl",
         "x": [
          0,
          0.02
         ],
         "y": [
          134.92770385742188,
          134.92788696289062
         ]
        },
        {
         "hovertemplate": "%{text}",
         "legendgroup": "rawsignal",
         "line": {
          "color": "firebrick",
          "width": 0.5
         },
         "mode": "lines",
         "name": "Raw Signal",
         "showlegend": false,
         "text": [
          "time = 137.1492 s<br>amp = 30.34 dimensionless",
          "time = 137.1692 s<br>amp = 30.34 dimensionless"
         ],
         "type": "scattergl",
         "x": [
          0,
          0.02
         ],
         "y": [
          138.92799377441406,
          138.92799377441406
         ]
        },
        {
         "hovertemplate": "%{text}",
         "legendgroup": "rawsignal",
         "line": {
          "color": "firebrick",
          "width": 0.5
         },
         "mode": "lines",
         "name": "Raw Signal",
         "showlegend": false,
         "text": [
          "time = 141.1495 s<br>amp = 30.30 dimensionless",
          "time = 141.1695 s<br>amp = 30.31 dimensionless"
         ],
         "type": "scattergl",
         "x": [
          0,
          0.02
         ],
         "y": [
          142.92579650878906,
          142.92616271972656
         ]
        },
        {
         "hovertemplate": "%{text}",
         "legendgroup": "rawsignal",
         "line": {
          "color": "firebrick",
          "width": 0.5
         },
         "mode": "lines",
         "name": "Raw Signal",
         "showlegend": false,
         "text": [
          "time = 145.1498 s<br>amp = 30.33 dimensionless",
          "time = 145.1698 s<br>amp = 30.32 dimensionless"
         ],
         "type": "scattergl",
         "x": [
          0,
          0.02
         ],
         "y": [
          146.9275360107422,
          146.927001953125
         ]
        },
        {
         "hovertemplate": "%{text}",
         "legendgroup": "rawsignal",
         "line": {
          "color": "firebrick",
          "width": 0.5
         },
         "mode": "lines",
         "name": "Raw Signal",
         "showlegend": false,
         "text": [
          "time = 149.1501 s<br>amp = 30.34 dimensionless"
         ],
         "type": "scattergl",
         "x": [
          0
         ],
         "y": [
          150.92872619628906
         ]
        },
        {
         "hovertemplate": "%{text}",
         "legendgroup": "rawsignal",
         "line": {
          "color": "firebrick",
          "width": 0.5
         },
         "mode": "lines",
         "name": "Raw Signal",
         "showlegend": false,
         "text": [
          "time = 153.1504 s<br>amp = 30.35 dimensionless"
         ],
         "type": "scattergl",
         "x": [
          0
         ],
         "y": [
          154.92938232421875
         ]
        },
        {
         "hovertemplate": "%{text}",
         "legendgroup": "rawsignal",
         "line": {
          "color": "firebrick",
          "width": 0.5
         },
         "mode": "lines",
         "name": "Raw Signal",
         "showlegend": false,
         "text": [
          "time = 157.1507 s<br>amp = 30.36 dimensionless"
         ],
         "type": "scattergl",
         "x": [
          0
         ],
         "y": [
          158.9302215576172
         ]
        },
        {
         "hovertemplate": "%{text}",
         "legendgroup": "rawsignal",
         "line": {
          "color": "firebrick",
          "width": 0.5
         },
         "mode": "lines",
         "name": "Raw Signal",
         "showlegend": false,
         "text": [
          "time = 161.1510 s<br>amp = 30.37 dimensionless"
         ],
         "type": "scattergl",
         "x": [
          0
         ],
         "y": [
          162.93141174316406
         ]
        },
        {
         "hovertemplate": "%{text}",
         "legendgroup": "rawsignal",
         "line": {
          "color": "firebrick",
          "width": 0.5
         },
         "mode": "lines",
         "name": "Raw Signal",
         "showlegend": false,
         "text": [
          "time = 165.1513 s<br>amp = 30.37 dimensionless"
         ],
         "type": "scattergl",
         "x": [
          0
         ],
         "y": [
          166.93190002441406
         ]
        },
        {
         "hovertemplate": "%{text}",
         "legendgroup": "rawsignal",
         "line": {
          "color": "firebrick",
          "width": 0.5
         },
         "mode": "lines",
         "name": "Raw Signal",
         "showlegend": false,
         "text": [
          "time = 169.1516 s<br>amp = 30.36 dimensionless"
         ],
         "type": "scattergl",
         "x": [
          0
         ],
         "y": [
          170.04127502441406
         ]
        },
        {
         "hovertemplate": "%{text}",
         "marker": {
          "size": 7,
          "symbol": []
         },
         "mode": "markers",
         "name": "ap.0",
         "showlegend": true,
         "text": [],
         "type": "scatter",
         "x": [],
         "y": []
        },
        {
         "hovertemplate": "%{text}",
         "marker": {
          "size": 7,
          "symbol": []
         },
         "mode": "markers",
         "name": "ap.1",
         "showlegend": true,
         "text": [],
         "type": "scatter",
         "x": [],
         "y": []
        },
        {
         "hovertemplate": "%{text}",
         "marker": {
          "size": 7,
          "symbol": [
           "triangle-nw",
           "triangle-ne",
           "triangle-nw",
           "triangle-ne",
           "triangle-nw",
           "triangle-ne",
           "triangle-nw",
           "triangle-ne",
           "triangle-nw",
           "triangle-ne",
           "triangle-nw",
           "triangle-ne",
           "triangle-nw",
           "triangle-ne",
           "triangle-nw",
           "triangle-ne",
           "triangle-nw",
           "triangle-ne",
           "triangle-nw",
           "triangle-ne",
           "triangle-nw",
           "triangle-ne",
           "triangle-nw",
           "triangle-ne",
           "triangle-nw",
           "triangle-ne",
           "triangle-nw",
           "triangle-ne",
           "triangle-nw",
           "triangle-ne",
           "triangle-nw",
           "triangle-ne",
           "triangle-nw",
           "triangle-ne",
           "triangle-nw",
           "triangle-ne",
           "triangle-nw",
           "triangle-ne",
           "triangle-nw",
           "triangle-ne",
           "triangle-nw",
           "triangle-ne",
           "triangle-nw",
           "triangle-ne",
           "triangle-nw",
           "triangle-ne",
           "triangle-nw",
           "triangle-ne",
           "triangle-nw",
           "triangle-ne"
          ]
         },
         "mode": "markers",
         "name": "ap.2",
         "showlegend": true,
         "text": [
          "Latency: 0.0034 s",
          "Latency: 0.0060 s",
          "Latency: 0.0033 s",
          "Latency: 0.0059 s",
          "Latency: 0.0034 s",
          "Latency: 0.0060 s",
          "Latency: 0.0034 s",
          "Latency: 0.0060 s",
          "Latency: 0.0034 s",
          "Latency: 0.0060 s",
          "Latency: 0.0034 s",
          "Latency: 0.0060 s",
          "Latency: 0.0034 s",
          "Latency: 0.0060 s",
          "Latency: 0.0033 s",
          "Latency: 0.0059 s",
          "Latency: 0.0034 s",
          "Latency: 0.0060 s",
          "Latency: 0.0034 s",
          "Latency: 0.0060 s",
          "Latency: 0.0033 s",
          "Latency: 0.0059 s",
          "Latency: 0.0034 s",
          "Latency: 0.0060 s",
          "Latency: 0.0033 s",
          "Latency: 0.0059 s",
          "Latency: 0.0034 s",
          "Latency: 0.0060 s",
          "Latency: 0.0034 s",
          "Latency: 0.0060 s",
          "Latency: 0.0035 s",
          "Latency: 0.0061 s",
          "Latency: 0.0034 s",
          "Latency: 0.0060 s",
          "Latency: 0.0033 s",
          "Latency: 0.0059 s",
          "Latency: 0.0034 s",
          "Latency: 0.0060 s",
          "Latency: 0.0034 s",
          "Latency: 0.0060 s",
          "Latency: 0.0034 s",
          "Latency: 0.0060 s",
          "Latency: 0.0034 s",
          "Latency: 0.0060 s",
          "Latency: 0.0034 s",
          "Latency: 0.0060 s",
          "Latency: 0.0034 s",
          "Latency: 0.0060 s",
          "Latency: 0.0034 s",
          "Latency: 0.0060 s"
         ],
         "type": "scatter",
         "x": [
          0.0033849999999944203,
          0.005984999999995466,
          0.0033400000000085583,
          0.005940000000009604,
          0.0033899999999960073,
          0.005989999999997053,
          0.0033899999999960073,
          0.005989999999997053,
          0.003390000000010218,
          0.005990000000011264,
          0.003390000000010218,
          0.005990000000011264,
          0.0033899999999960073,
          0.005989999999997053,
          0.0033399999999943475,
          0.005939999999995393,
          0.003439999999997667,
          0.006039999999998713,
          0.0033899999999960073,
          0.005989999999997053,
          0.0032899999999926877,
          0.005889999999993734,
          0.003439999999997667,
          0.006039999999998713,
          0.0033400000000085583,
          0.005940000000009604,
          0.0033899999999960073,
          0.005989999999997053,
          0.003440000000011878,
          0.006040000000012924,
          0.003489999999999327,
          0.006090000000000373,
          0.0034399999999834563,
          0.006039999999984502,
          0.0033400000000085583,
          0.005940000000009604,
          0.003435000000024502,
          0.006035000000025548,
          0.0034399999999834563,
          0.006039999999984502,
          0.003440000000011878,
          0.006040000000012924,
          0.0033899999999960073,
          0.005989999999997053,
          0.0034399999999834563,
          0.006039999999984502,
          0.0033899999999960073,
          0.005989999999997053,
          0.0033899999999960073,
          0.005989999999997053
         ],
         "y": [
          73.144365,
          73.144365,
          77.14465999999999,
          77.14465999999999,
          81.14496,
          81.14496,
          85.14526,
          85.14526,
          89.14555999999999,
          89.14555999999999,
          93.14585999999998,
          93.14585999999998,
          97.14616,
          97.14616,
          101.14645999999999,
          101.14645999999999,
          105.14675999999999,
          105.14675999999999,
          109.14706,
          109.14706,
          113.14735999999999,
          113.14735999999999,
          117.14765999999999,
          117.14765999999999,
          121.14795999999998,
          121.14795999999998,
          125.14826,
          125.14826,
          129.14855999999997,
          129.14855999999997,
          133.14885999999998,
          133.14885999999998,
          137.14916,
          137.14916,
          141.14945999999998,
          141.14945999999998,
          145.14976499999997,
          145.14976499999997,
          149.15006,
          149.15006,
          153.15035999999998,
          153.15035999999998,
          157.15066,
          157.15066,
          161.15096,
          161.15096,
          165.15125999999998,
          165.15125999999998,
          169.15156,
          169.15156
         ]
        },
        {
         "hovertemplate": "%{text}",
         "marker": {
          "size": 7,
          "symbol": []
         },
         "mode": "markers",
         "name": "ap.3",
         "showlegend": true,
         "text": [],
         "type": "scatter",
         "x": [],
         "y": []
        },
        {
         "hovertemplate": "%{text}",
         "marker": {
          "size": 7,
          "symbol": []
         },
         "mode": "markers",
         "name": "ap.4",
         "showlegend": true,
         "text": [],
         "type": "scatter",
         "x": [],
         "y": []
        },
        {
         "line": {
          "color": "green",
          "width": 0.75
         },
         "mode": "lines",
         "name": "AP Track",
         "type": "scatter",
         "x": [
          0.004684999999994421,
          0.004640000000008559,
          0.004689999999996008,
          0.004689999999996008,
          0.004690000000010219,
          0.004690000000010219,
          0.004689999999996008,
          0.004639999999994348,
          0.004739999999997668,
          0.004689999999996008,
          0.005300999999997602,
          0.005282181818178997,
          0.005432454545451295,
          0.005347342657338984,
          0.005437615384611284,
          0.005289030969026441,
          0.005321446553441602,
          0.005352979784915583,
          0.005143728702664075,
          0.0053632495502371254
         ],
         "y": [
          73.144365,
          77.14465999999999,
          81.14496,
          85.14526,
          89.14555999999999,
          93.14585999999998,
          97.14616,
          101.14645999999999,
          105.14675999999999,
          109.14706,
          113.14735999999999,
          117.14765999999999,
          121.14795999999998,
          125.14826,
          129.14855999999997,
          133.14885999999998,
          137.14916,
          141.14945999999998,
          145.14976499999997,
          149.15006
         ]
        }
       ],
       "layout": {
        "height": 600,
        "template": {
         "data": {
          "bar": [
           {
            "error_x": {
             "color": "#2a3f5f"
            },
            "error_y": {
             "color": "#2a3f5f"
            },
            "marker": {
             "line": {
              "color": "#E5ECF6",
              "width": 0.5
             }
            },
            "type": "bar"
           }
          ],
          "barpolar": [
           {
            "marker": {
             "line": {
              "color": "#E5ECF6",
              "width": 0.5
             }
            },
            "type": "barpolar"
           }
          ],
          "carpet": [
           {
            "aaxis": {
             "endlinecolor": "#2a3f5f",
             "gridcolor": "white",
             "linecolor": "white",
             "minorgridcolor": "white",
             "startlinecolor": "#2a3f5f"
            },
            "baxis": {
             "endlinecolor": "#2a3f5f",
             "gridcolor": "white",
             "linecolor": "white",
             "minorgridcolor": "white",
             "startlinecolor": "#2a3f5f"
            },
            "type": "carpet"
           }
          ],
          "choropleth": [
           {
            "colorbar": {
             "outlinewidth": 0,
             "ticks": ""
            },
            "type": "choropleth"
           }
          ],
          "contour": [
           {
            "colorbar": {
             "outlinewidth": 0,
             "ticks": ""
            },
            "colorscale": [
             [
              0,
              "#0d0887"
             ],
             [
              0.1111111111111111,
              "#46039f"
             ],
             [
              0.2222222222222222,
              "#7201a8"
             ],
             [
              0.3333333333333333,
              "#9c179e"
             ],
             [
              0.4444444444444444,
              "#bd3786"
             ],
             [
              0.5555555555555556,
              "#d8576b"
             ],
             [
              0.6666666666666666,
              "#ed7953"
             ],
             [
              0.7777777777777778,
              "#fb9f3a"
             ],
             [
              0.8888888888888888,
              "#fdca26"
             ],
             [
              1,
              "#f0f921"
             ]
            ],
            "type": "contour"
           }
          ],
          "contourcarpet": [
           {
            "colorbar": {
             "outlinewidth": 0,
             "ticks": ""
            },
            "type": "contourcarpet"
           }
          ],
          "heatmap": [
           {
            "colorbar": {
             "outlinewidth": 0,
             "ticks": ""
            },
            "colorscale": [
             [
              0,
              "#0d0887"
             ],
             [
              0.1111111111111111,
              "#46039f"
             ],
             [
              0.2222222222222222,
              "#7201a8"
             ],
             [
              0.3333333333333333,
              "#9c179e"
             ],
             [
              0.4444444444444444,
              "#bd3786"
             ],
             [
              0.5555555555555556,
              "#d8576b"
             ],
             [
              0.6666666666666666,
              "#ed7953"
             ],
             [
              0.7777777777777778,
              "#fb9f3a"
             ],
             [
              0.8888888888888888,
              "#fdca26"
             ],
             [
              1,
              "#f0f921"
             ]
            ],
            "type": "heatmap"
           }
          ],
          "heatmapgl": [
           {
            "colorbar": {
             "outlinewidth": 0,
             "ticks": ""
            },
            "colorscale": [
             [
              0,
              "#0d0887"
             ],
             [
              0.1111111111111111,
              "#46039f"
             ],
             [
              0.2222222222222222,
              "#7201a8"
             ],
             [
              0.3333333333333333,
              "#9c179e"
             ],
             [
              0.4444444444444444,
              "#bd3786"
             ],
             [
              0.5555555555555556,
              "#d8576b"
             ],
             [
              0.6666666666666666,
              "#ed7953"
             ],
             [
              0.7777777777777778,
              "#fb9f3a"
             ],
             [
              0.8888888888888888,
              "#fdca26"
             ],
             [
              1,
              "#f0f921"
             ]
            ],
            "type": "heatmapgl"
           }
          ],
          "histogram": [
           {
            "marker": {
             "colorbar": {
              "outlinewidth": 0,
              "ticks": ""
             }
            },
            "type": "histogram"
           }
          ],
          "histogram2d": [
           {
            "colorbar": {
             "outlinewidth": 0,
             "ticks": ""
            },
            "colorscale": [
             [
              0,
              "#0d0887"
             ],
             [
              0.1111111111111111,
              "#46039f"
             ],
             [
              0.2222222222222222,
              "#7201a8"
             ],
             [
              0.3333333333333333,
              "#9c179e"
             ],
             [
              0.4444444444444444,
              "#bd3786"
             ],
             [
              0.5555555555555556,
              "#d8576b"
             ],
             [
              0.6666666666666666,
              "#ed7953"
             ],
             [
              0.7777777777777778,
              "#fb9f3a"
             ],
             [
              0.8888888888888888,
              "#fdca26"
             ],
             [
              1,
              "#f0f921"
             ]
            ],
            "type": "histogram2d"
           }
          ],
          "histogram2dcontour": [
           {
            "colorbar": {
             "outlinewidth": 0,
             "ticks": ""
            },
            "colorscale": [
             [
              0,
              "#0d0887"
             ],
             [
              0.1111111111111111,
              "#46039f"
             ],
             [
              0.2222222222222222,
              "#7201a8"
             ],
             [
              0.3333333333333333,
              "#9c179e"
             ],
             [
              0.4444444444444444,
              "#bd3786"
             ],
             [
              0.5555555555555556,
              "#d8576b"
             ],
             [
              0.6666666666666666,
              "#ed7953"
             ],
             [
              0.7777777777777778,
              "#fb9f3a"
             ],
             [
              0.8888888888888888,
              "#fdca26"
             ],
             [
              1,
              "#f0f921"
             ]
            ],
            "type": "histogram2dcontour"
           }
          ],
          "mesh3d": [
           {
            "colorbar": {
             "outlinewidth": 0,
             "ticks": ""
            },
            "type": "mesh3d"
           }
          ],
          "parcoords": [
           {
            "line": {
             "colorbar": {
              "outlinewidth": 0,
              "ticks": ""
             }
            },
            "type": "parcoords"
           }
          ],
          "pie": [
           {
            "automargin": true,
            "type": "pie"
           }
          ],
          "scatter": [
           {
            "marker": {
             "colorbar": {
              "outlinewidth": 0,
              "ticks": ""
             }
            },
            "type": "scatter"
           }
          ],
          "scatter3d": [
           {
            "line": {
             "colorbar": {
              "outlinewidth": 0,
              "ticks": ""
             }
            },
            "marker": {
             "colorbar": {
              "outlinewidth": 0,
              "ticks": ""
             }
            },
            "type": "scatter3d"
           }
          ],
          "scattercarpet": [
           {
            "marker": {
             "colorbar": {
              "outlinewidth": 0,
              "ticks": ""
             }
            },
            "type": "scattercarpet"
           }
          ],
          "scattergeo": [
           {
            "marker": {
             "colorbar": {
              "outlinewidth": 0,
              "ticks": ""
             }
            },
            "type": "scattergeo"
           }
          ],
          "scattergl": [
           {
            "marker": {
             "colorbar": {
              "outlinewidth": 0,
              "ticks": ""
             }
            },
            "type": "scattergl"
           }
          ],
          "scattermapbox": [
           {
            "marker": {
             "colorbar": {
              "outlinewidth": 0,
              "ticks": ""
             }
            },
            "type": "scattermapbox"
           }
          ],
          "scatterpolar": [
           {
            "marker": {
             "colorbar": {
              "outlinewidth": 0,
              "ticks": ""
             }
            },
            "type": "scatterpolar"
           }
          ],
          "scatterpolargl": [
           {
            "marker": {
             "colorbar": {
              "outlinewidth": 0,
              "ticks": ""
             }
            },
            "type": "scatterpolargl"
           }
          ],
          "scatterternary": [
           {
            "marker": {
             "colorbar": {
              "outlinewidth": 0,
              "ticks": ""
             }
            },
            "type": "scatterternary"
           }
          ],
          "surface": [
           {
            "colorbar": {
             "outlinewidth": 0,
             "ticks": ""
            },
            "colorscale": [
             [
              0,
              "#0d0887"
             ],
             [
              0.1111111111111111,
              "#46039f"
             ],
             [
              0.2222222222222222,
              "#7201a8"
             ],
             [
              0.3333333333333333,
              "#9c179e"
             ],
             [
              0.4444444444444444,
              "#bd3786"
             ],
             [
              0.5555555555555556,
              "#d8576b"
             ],
             [
              0.6666666666666666,
              "#ed7953"
             ],
             [
              0.7777777777777778,
              "#fb9f3a"
             ],
             [
              0.8888888888888888,
              "#fdca26"
             ],
             [
              1,
              "#f0f921"
             ]
            ],
            "type": "surface"
           }
          ],
          "table": [
           {
            "cells": {
             "fill": {
              "color": "#EBF0F8"
             },
             "line": {
              "color": "white"
             }
            },
            "header": {
             "fill": {
              "color": "#C8D4E3"
             },
             "line": {
              "color": "white"
             }
            },
            "type": "table"
           }
          ]
         },
         "layout": {
          "annotationdefaults": {
           "arrowcolor": "#2a3f5f",
           "arrowhead": 0,
           "arrowwidth": 1
          },
          "autotypenumbers": "strict",
          "coloraxis": {
           "colorbar": {
            "outlinewidth": 0,
            "ticks": ""
           }
          },
          "colorscale": {
           "diverging": [
            [
             0,
             "#8e0152"
            ],
            [
             0.1,
             "#c51b7d"
            ],
            [
             0.2,
             "#de77ae"
            ],
            [
             0.3,
             "#f1b6da"
            ],
            [
             0.4,
             "#fde0ef"
            ],
            [
             0.5,
             "#f7f7f7"
            ],
            [
             0.6,
             "#e6f5d0"
            ],
            [
             0.7,
             "#b8e186"
            ],
            [
             0.8,
             "#7fbc41"
            ],
            [
             0.9,
             "#4d9221"
            ],
            [
             1,
             "#276419"
            ]
           ],
           "sequential": [
            [
             0,
             "#0d0887"
            ],
            [
             0.1111111111111111,
             "#46039f"
            ],
            [
             0.2222222222222222,
             "#7201a8"
            ],
            [
             0.3333333333333333,
             "#9c179e"
            ],
            [
             0.4444444444444444,
             "#bd3786"
            ],
            [
             0.5555555555555556,
             "#d8576b"
            ],
            [
             0.6666666666666666,
             "#ed7953"
            ],
            [
             0.7777777777777778,
             "#fb9f3a"
            ],
            [
             0.8888888888888888,
             "#fdca26"
            ],
            [
             1,
             "#f0f921"
            ]
           ],
           "sequentialminus": [
            [
             0,
             "#0d0887"
            ],
            [
             0.1111111111111111,
             "#46039f"
            ],
            [
             0.2222222222222222,
             "#7201a8"
            ],
            [
             0.3333333333333333,
             "#9c179e"
            ],
            [
             0.4444444444444444,
             "#bd3786"
            ],
            [
             0.5555555555555556,
             "#d8576b"
            ],
            [
             0.6666666666666666,
             "#ed7953"
            ],
            [
             0.7777777777777778,
             "#fb9f3a"
            ],
            [
             0.8888888888888888,
             "#fdca26"
            ],
            [
             1,
             "#f0f921"
            ]
           ]
          },
          "colorway": [
           "#636efa",
           "#EF553B",
           "#00cc96",
           "#ab63fa",
           "#FFA15A",
           "#19d3f3",
           "#FF6692",
           "#B6E880",
           "#FF97FF",
           "#FECB52"
          ],
          "font": {
           "color": "#2a3f5f"
          },
          "geo": {
           "bgcolor": "white",
           "lakecolor": "white",
           "landcolor": "#E5ECF6",
           "showlakes": true,
           "showland": true,
           "subunitcolor": "white"
          },
          "hoverlabel": {
           "align": "left"
          },
          "hovermode": "closest",
          "mapbox": {
           "style": "light"
          },
          "paper_bgcolor": "white",
          "plot_bgcolor": "#E5ECF6",
          "polar": {
           "angularaxis": {
            "gridcolor": "white",
            "linecolor": "white",
            "ticks": ""
           },
           "bgcolor": "#E5ECF6",
           "radialaxis": {
            "gridcolor": "white",
            "linecolor": "white",
            "ticks": ""
           }
          },
          "scene": {
           "xaxis": {
            "backgroundcolor": "#E5ECF6",
            "gridcolor": "white",
            "gridwidth": 2,
            "linecolor": "white",
            "showbackground": true,
            "ticks": "",
            "zerolinecolor": "white"
           },
           "yaxis": {
            "backgroundcolor": "#E5ECF6",
            "gridcolor": "white",
            "gridwidth": 2,
            "linecolor": "white",
            "showbackground": true,
            "ticks": "",
            "zerolinecolor": "white"
           },
           "zaxis": {
            "backgroundcolor": "#E5ECF6",
            "gridcolor": "white",
            "gridwidth": 2,
            "linecolor": "white",
            "showbackground": true,
            "ticks": "",
            "zerolinecolor": "white"
           }
          },
          "shapedefaults": {
           "line": {
            "color": "#2a3f5f"
           }
          },
          "ternary": {
           "aaxis": {
            "gridcolor": "white",
            "linecolor": "white",
            "ticks": ""
           },
           "baxis": {
            "gridcolor": "white",
            "linecolor": "white",
            "ticks": ""
           },
           "bgcolor": "#E5ECF6",
           "caxis": {
            "gridcolor": "white",
            "linecolor": "white",
            "ticks": ""
           }
          },
          "title": {
           "x": 0.05
          },
          "xaxis": {
           "automargin": true,
           "gridcolor": "white",
           "linecolor": "white",
           "ticks": "",
           "title": {
            "standoff": 15
           },
           "zerolinecolor": "white",
           "zerolinewidth": 2
          },
          "yaxis": {
           "automargin": true,
           "gridcolor": "white",
           "linecolor": "white",
           "ticks": "",
           "title": {
            "standoff": 15
           },
           "zerolinecolor": "white",
           "zerolinewidth": 2
          }
         }
        },
        "width": 1000,
        "xaxis": {
         "title": {
          "text": "Latency (s)"
         }
        },
        "yaxis": {
         "autorange": "reversed",
         "title": {
          "text": "Time (s)"
         }
        }
       }
      },
      "text/html": [
       "<div>                            <div id=\"692960aa-74bb-4ac6-8048-9a1b2169f45f\" class=\"plotly-graph-div\" style=\"height:600px; width:1000px;\"></div>            <script type=\"text/javascript\">                require([\"plotly\"], function(Plotly) {                    window.PLOTLYENV=window.PLOTLYENV || {};                                    if (document.getElementById(\"692960aa-74bb-4ac6-8048-9a1b2169f45f\")) {                    Plotly.newPlot(                        \"692960aa-74bb-4ac6-8048-9a1b2169f45f\",                        [{\"hovertemplate\": \"%{text}\", \"marker\": {\"color\": \"Black\", \"symbol\": \"star\"}, \"mode\": \"markers\", \"name\": \"Electrical Stimuli\", \"text\": [\"time = 73.1444 s<br>Index = 0\", \"time = 77.1447 s<br>Index = 1\", \"time = 81.1450 s<br>Index = 2\", \"time = 85.1453 s<br>Index = 3\", \"time = 89.1456 s<br>Index = 4\", \"time = 93.1459 s<br>Index = 5\", \"time = 97.1462 s<br>Index = 6\", \"time = 101.1465 s<br>Index = 7\", \"time = 105.1468 s<br>Index = 8\", \"time = 109.1471 s<br>Index = 9\", \"time = 113.1474 s<br>Index = 10\", \"time = 117.1477 s<br>Index = 11\", \"time = 121.1480 s<br>Index = 12\", \"time = 125.1483 s<br>Index = 13\", \"time = 129.1486 s<br>Index = 14\", \"time = 133.1489 s<br>Index = 15\", \"time = 137.1492 s<br>Index = 16\", \"time = 141.1495 s<br>Index = 17\", \"time = 145.1498 s<br>Index = 18\", \"time = 149.1501 s<br>Index = 19\", \"time = 153.1504 s<br>Index = 20\", \"time = 157.1507 s<br>Index = 21\", \"time = 161.1510 s<br>Index = 22\", \"time = 165.1513 s<br>Index = 23\", \"time = 169.1516 s<br>Index = 24\"], \"type\": \"scattergl\", \"x\": [0.0, 0.0, 0.0, 0.0, 0.0, 0.0, 0.0, 0.0, 0.0, 0.0, 0.0, 0.0, 0.0, 0.0, 0.0, 0.0, 0.0, 0.0, 0.0, 0.0, 0.0, 0.0, 0.0, 0.0, 0.0], \"y\": [73.144365, 77.14465999999999, 81.14496, 85.14526, 89.14555999999999, 93.14585999999998, 97.14616, 101.14645999999999, 105.14675999999999, 109.14706, 113.14735999999999, 117.14765999999999, 121.14795999999998, 125.14826, 129.14855999999997, 133.14885999999998, 137.14916, 141.14945999999998, 145.14976499999997, 149.15006, 153.15035999999998, 157.15066, 161.15096, 165.15125999999998, 169.15156]}, {\"hovertemplate\": \"%{text}\", \"legendgroup\": \"rawsignal\", \"line\": {\"color\": \"firebrick\", \"width\": 0.5}, \"mode\": \"lines\", \"name\": \"Raw Signal\", \"showlegend\": true, \"text\": [\"time = 73.1444 s<br>amp = 30.20 dimensionless\", \"time = 73.1644 s<br>amp = 30.20 dimensionless\"], \"type\": \"scattergl\", \"x\": [0.0, 0.02], \"y\": [74.02960205078125, 74.02942657470703]}, {\"hovertemplate\": \"%{text}\", \"legendgroup\": \"rawsignal\", \"line\": {\"color\": \"firebrick\", \"width\": 0.5}, \"mode\": \"lines\", \"name\": \"Raw Signal\", \"showlegend\": false, \"text\": [\"time = 77.1447 s<br>amp = 30.21 dimensionless\", \"time = 77.1647 s<br>amp = 30.21 dimensionless\"], \"type\": \"scattergl\", \"x\": [0.0, 0.02], \"y\": [78.91580963134766, 78.91545104980469]}, {\"hovertemplate\": \"%{text}\", \"legendgroup\": \"rawsignal\", \"line\": {\"color\": \"firebrick\", \"width\": 0.5}, \"mode\": \"lines\", \"name\": \"Raw Signal\", \"showlegend\": false, \"text\": [\"time = 81.1450 s<br>amp = 30.18 dimensionless\", \"time = 81.1650 s<br>amp = 30.19 dimensionless\"], \"type\": \"scattergl\", \"x\": [0.0, 0.02], \"y\": [82.9139633178711, 82.91468048095703]}, {\"hovertemplate\": \"%{text}\", \"legendgroup\": \"rawsignal\", \"line\": {\"color\": \"firebrick\", \"width\": 0.5}, \"mode\": \"lines\", \"name\": \"Raw Signal\", \"showlegend\": false, \"text\": [\"time = 85.1453 s<br>amp = 30.18 dimensionless\", \"time = 85.1653 s<br>amp = 30.19 dimensionless\"], \"type\": \"scattergl\", \"x\": [0.0, 0.02], \"y\": [86.91480255126953, 86.91534423828125]}, {\"hovertemplate\": \"%{text}\", \"legendgroup\": \"rawsignal\", \"line\": {\"color\": \"firebrick\", \"width\": 0.5}, \"mode\": \"lines\", \"name\": \"Raw Signal\", \"showlegend\": false, \"text\": [\"time = 89.1456 s<br>amp = 30.20 dimensionless\", \"time = 89.1656 s<br>amp = 30.21 dimensionless\"], \"type\": \"scattergl\", \"x\": [0.0, 0.02], \"y\": [90.91600036621094, 90.91653442382812]}, {\"hovertemplate\": \"%{text}\", \"legendgroup\": \"rawsignal\", \"line\": {\"color\": \"firebrick\", \"width\": 0.5}, \"mode\": \"lines\", \"name\": \"Raw Signal\", \"showlegend\": false, \"text\": [\"time = 93.1459 s<br>amp = 30.22 dimensionless\", \"time = 93.1659 s<br>amp = 30.22 dimensionless\"], \"type\": \"scattergl\", \"x\": [0.0, 0.02], \"y\": [94.917724609375, 94.917724609375]}, {\"hovertemplate\": \"%{text}\", \"legendgroup\": \"rawsignal\", \"line\": {\"color\": \"firebrick\", \"width\": 0.5}, \"mode\": \"lines\", \"name\": \"Raw Signal\", \"showlegend\": false, \"text\": [\"time = 97.1462 s<br>amp = 30.24 dimensionless\", \"time = 97.1662 s<br>amp = 30.25 dimensionless\"], \"type\": \"scattergl\", \"x\": [0.0, 0.02], \"y\": [98.91909790039062, 98.91927337646484]}, {\"hovertemplate\": \"%{text}\", \"legendgroup\": \"rawsignal\", \"line\": {\"color\": \"firebrick\", \"width\": 0.5}, \"mode\": \"lines\", \"name\": \"Raw Signal\", \"showlegend\": false, \"text\": [\"time = 101.1465 s<br>amp = 30.23 dimensionless\", \"time = 101.1665 s<br>amp = 30.24 dimensionless\"], \"type\": \"scattergl\", \"x\": [0.0, 0.02], \"y\": [102.91851043701172, 102.91940307617188]}, {\"hovertemplate\": \"%{text}\", \"legendgroup\": \"rawsignal\", \"line\": {\"color\": \"firebrick\", \"width\": 0.5}, \"mode\": \"lines\", \"name\": \"Raw Signal\", \"showlegend\": false, \"text\": [\"time = 105.1468 s<br>amp = 30.24 dimensionless\", \"time = 105.1668 s<br>amp = 30.25 dimensionless\"], \"type\": \"scattergl\", \"x\": [0.0, 0.02], \"y\": [106.9197006225586, 106.91987609863281]}, {\"hovertemplate\": \"%{text}\", \"legendgroup\": \"rawsignal\", \"line\": {\"color\": \"firebrick\", \"width\": 0.5}, \"mode\": \"lines\", \"name\": \"Raw Signal\", \"showlegend\": false, \"text\": [\"time = 109.1471 s<br>amp = 30.28 dimensionless\", \"time = 109.1671 s<br>amp = 30.28 dimensionless\"], \"type\": \"scattergl\", \"x\": [0.0, 0.02], \"y\": [110.92232513427734, 110.92196655273438]}, {\"hovertemplate\": \"%{text}\", \"legendgroup\": \"rawsignal\", \"line\": {\"color\": \"firebrick\", \"width\": 0.5}, \"mode\": \"lines\", \"name\": \"Raw Signal\", \"showlegend\": false, \"text\": [\"time = 113.1474 s<br>amp = 30.31 dimensionless\", \"time = 113.1674 s<br>amp = 30.36 dimensionless\"], \"type\": \"scattergl\", \"x\": [0.0, 0.02], \"y\": [114.9244155883789, 114.92745971679688]}, {\"hovertemplate\": \"%{text}\", \"legendgroup\": \"rawsignal\", \"line\": {\"color\": \"firebrick\", \"width\": 0.5}, \"mode\": \"lines\", \"name\": \"Raw Signal\", \"showlegend\": false, \"text\": [\"time = 117.1477 s<br>amp = 30.32 dimensionless\", \"time = 117.1677 s<br>amp = 30.33 dimensionless\"], \"type\": \"scattergl\", \"x\": [0.0, 0.02], \"y\": [118.9250717163086, 118.92561340332031]}, {\"hovertemplate\": \"%{text}\", \"legendgroup\": \"rawsignal\", \"line\": {\"color\": \"firebrick\", \"width\": 0.5}, \"mode\": \"lines\", \"name\": \"Raw Signal\", \"showlegend\": false, \"text\": [\"time = 121.1480 s<br>amp = 30.35 dimensionless\", \"time = 121.1680 s<br>amp = 30.36 dimensionless\"], \"type\": \"scattergl\", \"x\": [0.0, 0.02], \"y\": [122.9269790649414, 122.92769622802734]}, {\"hovertemplate\": \"%{text}\", \"legendgroup\": \"rawsignal\", \"line\": {\"color\": \"firebrick\", \"width\": 0.5}, \"mode\": \"lines\", \"name\": \"Raw Signal\", \"showlegend\": false, \"text\": [\"time = 125.1483 s<br>amp = 30.35 dimensionless\", \"time = 125.1683 s<br>amp = 30.36 dimensionless\"], \"type\": \"scattergl\", \"x\": [0.0, 0.02], \"y\": [126.92764282226562, 126.9280014038086]}, {\"hovertemplate\": \"%{text}\", \"legendgroup\": \"rawsignal\", \"line\": {\"color\": \"firebrick\", \"width\": 0.5}, \"mode\": \"lines\", \"name\": \"Raw Signal\", \"showlegend\": false, \"text\": [\"time = 129.1486 s<br>amp = 30.35 dimensionless\", \"time = 129.1686 s<br>amp = 30.36 dimensionless\"], \"type\": \"scattergl\", \"x\": [0.0, 0.02], \"y\": [130.92776489257812, 130.92811584472656]}, {\"hovertemplate\": \"%{text}\", \"legendgroup\": \"rawsignal\", \"line\": {\"color\": \"firebrick\", \"width\": 0.5}, \"mode\": \"lines\", \"name\": \"Raw Signal\", \"showlegend\": false, \"text\": [\"time = 133.1489 s<br>amp = 30.34 dimensionless\", \"time = 133.1689 s<br>amp = 30.35 dimensionless\"], \"type\": \"scattergl\", \"x\": [0.0, 0.02], \"y\": [134.92770385742188, 134.92788696289062]}, {\"hovertemplate\": \"%{text}\", \"legendgroup\": \"rawsignal\", \"line\": {\"color\": \"firebrick\", \"width\": 0.5}, \"mode\": \"lines\", \"name\": \"Raw Signal\", \"showlegend\": false, \"text\": [\"time = 137.1492 s<br>amp = 30.34 dimensionless\", \"time = 137.1692 s<br>amp = 30.34 dimensionless\"], \"type\": \"scattergl\", \"x\": [0.0, 0.02], \"y\": [138.92799377441406, 138.92799377441406]}, {\"hovertemplate\": \"%{text}\", \"legendgroup\": \"rawsignal\", \"line\": {\"color\": \"firebrick\", \"width\": 0.5}, \"mode\": \"lines\", \"name\": \"Raw Signal\", \"showlegend\": false, \"text\": [\"time = 141.1495 s<br>amp = 30.30 dimensionless\", \"time = 141.1695 s<br>amp = 30.31 dimensionless\"], \"type\": \"scattergl\", \"x\": [0.0, 0.02], \"y\": [142.92579650878906, 142.92616271972656]}, {\"hovertemplate\": \"%{text}\", \"legendgroup\": \"rawsignal\", \"line\": {\"color\": \"firebrick\", \"width\": 0.5}, \"mode\": \"lines\", \"name\": \"Raw Signal\", \"showlegend\": false, \"text\": [\"time = 145.1498 s<br>amp = 30.33 dimensionless\", \"time = 145.1698 s<br>amp = 30.32 dimensionless\"], \"type\": \"scattergl\", \"x\": [0.0, 0.02], \"y\": [146.9275360107422, 146.927001953125]}, {\"hovertemplate\": \"%{text}\", \"legendgroup\": \"rawsignal\", \"line\": {\"color\": \"firebrick\", \"width\": 0.5}, \"mode\": \"lines\", \"name\": \"Raw Signal\", \"showlegend\": false, \"text\": [\"time = 149.1501 s<br>amp = 30.34 dimensionless\"], \"type\": \"scattergl\", \"x\": [0.0], \"y\": [150.92872619628906]}, {\"hovertemplate\": \"%{text}\", \"legendgroup\": \"rawsignal\", \"line\": {\"color\": \"firebrick\", \"width\": 0.5}, \"mode\": \"lines\", \"name\": \"Raw Signal\", \"showlegend\": false, \"text\": [\"time = 153.1504 s<br>amp = 30.35 dimensionless\"], \"type\": \"scattergl\", \"x\": [0.0], \"y\": [154.92938232421875]}, {\"hovertemplate\": \"%{text}\", \"legendgroup\": \"rawsignal\", \"line\": {\"color\": \"firebrick\", \"width\": 0.5}, \"mode\": \"lines\", \"name\": \"Raw Signal\", \"showlegend\": false, \"text\": [\"time = 157.1507 s<br>amp = 30.36 dimensionless\"], \"type\": \"scattergl\", \"x\": [0.0], \"y\": [158.9302215576172]}, {\"hovertemplate\": \"%{text}\", \"legendgroup\": \"rawsignal\", \"line\": {\"color\": \"firebrick\", \"width\": 0.5}, \"mode\": \"lines\", \"name\": \"Raw Signal\", \"showlegend\": false, \"text\": [\"time = 161.1510 s<br>amp = 30.37 dimensionless\"], \"type\": \"scattergl\", \"x\": [0.0], \"y\": [162.93141174316406]}, {\"hovertemplate\": \"%{text}\", \"legendgroup\": \"rawsignal\", \"line\": {\"color\": \"firebrick\", \"width\": 0.5}, \"mode\": \"lines\", \"name\": \"Raw Signal\", \"showlegend\": false, \"text\": [\"time = 165.1513 s<br>amp = 30.37 dimensionless\"], \"type\": \"scattergl\", \"x\": [0.0], \"y\": [166.93190002441406]}, {\"hovertemplate\": \"%{text}\", \"legendgroup\": \"rawsignal\", \"line\": {\"color\": \"firebrick\", \"width\": 0.5}, \"mode\": \"lines\", \"name\": \"Raw Signal\", \"showlegend\": false, \"text\": [\"time = 169.1516 s<br>amp = 30.36 dimensionless\"], \"type\": \"scattergl\", \"x\": [0.0], \"y\": [170.04127502441406]}, {\"hovertemplate\": \"%{text}\", \"marker\": {\"size\": 7, \"symbol\": []}, \"mode\": \"markers\", \"name\": \"ap.0\", \"showlegend\": true, \"text\": [], \"type\": \"scatter\", \"x\": [], \"y\": []}, {\"hovertemplate\": \"%{text}\", \"marker\": {\"size\": 7, \"symbol\": []}, \"mode\": \"markers\", \"name\": \"ap.1\", \"showlegend\": true, \"text\": [], \"type\": \"scatter\", \"x\": [], \"y\": []}, {\"hovertemplate\": \"%{text}\", \"marker\": {\"size\": 7, \"symbol\": [\"triangle-nw\", \"triangle-ne\", \"triangle-nw\", \"triangle-ne\", \"triangle-nw\", \"triangle-ne\", \"triangle-nw\", \"triangle-ne\", \"triangle-nw\", \"triangle-ne\", \"triangle-nw\", \"triangle-ne\", \"triangle-nw\", \"triangle-ne\", \"triangle-nw\", \"triangle-ne\", \"triangle-nw\", \"triangle-ne\", \"triangle-nw\", \"triangle-ne\", \"triangle-nw\", \"triangle-ne\", \"triangle-nw\", \"triangle-ne\", \"triangle-nw\", \"triangle-ne\", \"triangle-nw\", \"triangle-ne\", \"triangle-nw\", \"triangle-ne\", \"triangle-nw\", \"triangle-ne\", \"triangle-nw\", \"triangle-ne\", \"triangle-nw\", \"triangle-ne\", \"triangle-nw\", \"triangle-ne\", \"triangle-nw\", \"triangle-ne\", \"triangle-nw\", \"triangle-ne\", \"triangle-nw\", \"triangle-ne\", \"triangle-nw\", \"triangle-ne\", \"triangle-nw\", \"triangle-ne\", \"triangle-nw\", \"triangle-ne\"]}, \"mode\": \"markers\", \"name\": \"ap.2\", \"showlegend\": true, \"text\": [\"Latency: 0.0034 s\", \"Latency: 0.0060 s\", \"Latency: 0.0033 s\", \"Latency: 0.0059 s\", \"Latency: 0.0034 s\", \"Latency: 0.0060 s\", \"Latency: 0.0034 s\", \"Latency: 0.0060 s\", \"Latency: 0.0034 s\", \"Latency: 0.0060 s\", \"Latency: 0.0034 s\", \"Latency: 0.0060 s\", \"Latency: 0.0034 s\", \"Latency: 0.0060 s\", \"Latency: 0.0033 s\", \"Latency: 0.0059 s\", \"Latency: 0.0034 s\", \"Latency: 0.0060 s\", \"Latency: 0.0034 s\", \"Latency: 0.0060 s\", \"Latency: 0.0033 s\", \"Latency: 0.0059 s\", \"Latency: 0.0034 s\", \"Latency: 0.0060 s\", \"Latency: 0.0033 s\", \"Latency: 0.0059 s\", \"Latency: 0.0034 s\", \"Latency: 0.0060 s\", \"Latency: 0.0034 s\", \"Latency: 0.0060 s\", \"Latency: 0.0035 s\", \"Latency: 0.0061 s\", \"Latency: 0.0034 s\", \"Latency: 0.0060 s\", \"Latency: 0.0033 s\", \"Latency: 0.0059 s\", \"Latency: 0.0034 s\", \"Latency: 0.0060 s\", \"Latency: 0.0034 s\", \"Latency: 0.0060 s\", \"Latency: 0.0034 s\", \"Latency: 0.0060 s\", \"Latency: 0.0034 s\", \"Latency: 0.0060 s\", \"Latency: 0.0034 s\", \"Latency: 0.0060 s\", \"Latency: 0.0034 s\", \"Latency: 0.0060 s\", \"Latency: 0.0034 s\", \"Latency: 0.0060 s\"], \"type\": \"scatter\", \"x\": [0.0033849999999944203, 0.005984999999995466, 0.0033400000000085583, 0.005940000000009604, 0.0033899999999960073, 0.005989999999997053, 0.0033899999999960073, 0.005989999999997053, 0.003390000000010218, 0.005990000000011264, 0.003390000000010218, 0.005990000000011264, 0.0033899999999960073, 0.005989999999997053, 0.0033399999999943475, 0.005939999999995393, 0.003439999999997667, 0.006039999999998713, 0.0033899999999960073, 0.005989999999997053, 0.0032899999999926877, 0.005889999999993734, 0.003439999999997667, 0.006039999999998713, 0.0033400000000085583, 0.005940000000009604, 0.0033899999999960073, 0.005989999999997053, 0.003440000000011878, 0.006040000000012924, 0.003489999999999327, 0.006090000000000373, 0.0034399999999834563, 0.006039999999984502, 0.0033400000000085583, 0.005940000000009604, 0.003435000000024502, 0.006035000000025548, 0.0034399999999834563, 0.006039999999984502, 0.003440000000011878, 0.006040000000012924, 0.0033899999999960073, 0.005989999999997053, 0.0034399999999834563, 0.006039999999984502, 0.0033899999999960073, 0.005989999999997053, 0.0033899999999960073, 0.005989999999997053], \"y\": [73.144365, 73.144365, 77.14465999999999, 77.14465999999999, 81.14496, 81.14496, 85.14526, 85.14526, 89.14555999999999, 89.14555999999999, 93.14585999999998, 93.14585999999998, 97.14616, 97.14616, 101.14645999999999, 101.14645999999999, 105.14675999999999, 105.14675999999999, 109.14706, 109.14706, 113.14735999999999, 113.14735999999999, 117.14765999999999, 117.14765999999999, 121.14795999999998, 121.14795999999998, 125.14826, 125.14826, 129.14855999999997, 129.14855999999997, 133.14885999999998, 133.14885999999998, 137.14916, 137.14916, 141.14945999999998, 141.14945999999998, 145.14976499999997, 145.14976499999997, 149.15006, 149.15006, 153.15035999999998, 153.15035999999998, 157.15066, 157.15066, 161.15096, 161.15096, 165.15125999999998, 165.15125999999998, 169.15156, 169.15156]}, {\"hovertemplate\": \"%{text}\", \"marker\": {\"size\": 7, \"symbol\": []}, \"mode\": \"markers\", \"name\": \"ap.3\", \"showlegend\": true, \"text\": [], \"type\": \"scatter\", \"x\": [], \"y\": []}, {\"hovertemplate\": \"%{text}\", \"marker\": {\"size\": 7, \"symbol\": []}, \"mode\": \"markers\", \"name\": \"ap.4\", \"showlegend\": true, \"text\": [], \"type\": \"scatter\", \"x\": [], \"y\": []}, {\"line\": {\"color\": \"green\", \"width\": 0.75}, \"mode\": \"lines\", \"name\": \"AP Track\", \"type\": \"scatter\", \"x\": [0.004684999999994421, 0.004640000000008559, 0.004689999999996008, 0.004689999999996008, 0.004690000000010219, 0.004690000000010219, 0.004689999999996008, 0.004639999999994348, 0.004739999999997668, 0.004689999999996008, 0.005300999999997602, 0.005282181818178997, 0.005432454545451295, 0.005347342657338984, 0.005437615384611284, 0.005289030969026441, 0.005321446553441602, 0.005352979784915583, 0.005143728702664075, 0.0053632495502371254], \"y\": [73.144365, 77.14465999999999, 81.14496, 85.14526, 89.14555999999999, 93.14585999999998, 97.14616, 101.14645999999999, 105.14675999999999, 109.14706, 113.14735999999999, 117.14765999999999, 121.14795999999998, 125.14826, 129.14855999999997, 133.14885999999998, 137.14916, 141.14945999999998, 145.14976499999997, 149.15006]}],                        {\"height\": 600, \"template\": {\"data\": {\"bar\": [{\"error_x\": {\"color\": \"#2a3f5f\"}, \"error_y\": {\"color\": \"#2a3f5f\"}, \"marker\": {\"line\": {\"color\": \"#E5ECF6\", \"width\": 0.5}}, \"type\": \"bar\"}], \"barpolar\": [{\"marker\": {\"line\": {\"color\": \"#E5ECF6\", \"width\": 0.5}}, \"type\": \"barpolar\"}], \"carpet\": [{\"aaxis\": {\"endlinecolor\": \"#2a3f5f\", \"gridcolor\": \"white\", \"linecolor\": \"white\", \"minorgridcolor\": \"white\", \"startlinecolor\": \"#2a3f5f\"}, \"baxis\": {\"endlinecolor\": \"#2a3f5f\", \"gridcolor\": \"white\", \"linecolor\": \"white\", \"minorgridcolor\": \"white\", \"startlinecolor\": \"#2a3f5f\"}, \"type\": \"carpet\"}], \"choropleth\": [{\"colorbar\": {\"outlinewidth\": 0, \"ticks\": \"\"}, \"type\": \"choropleth\"}], \"contour\": [{\"colorbar\": {\"outlinewidth\": 0, \"ticks\": \"\"}, \"colorscale\": [[0.0, \"#0d0887\"], [0.1111111111111111, \"#46039f\"], [0.2222222222222222, \"#7201a8\"], [0.3333333333333333, \"#9c179e\"], [0.4444444444444444, \"#bd3786\"], [0.5555555555555556, \"#d8576b\"], [0.6666666666666666, \"#ed7953\"], [0.7777777777777778, \"#fb9f3a\"], [0.8888888888888888, \"#fdca26\"], [1.0, \"#f0f921\"]], \"type\": \"contour\"}], \"contourcarpet\": [{\"colorbar\": {\"outlinewidth\": 0, \"ticks\": \"\"}, \"type\": \"contourcarpet\"}], \"heatmap\": [{\"colorbar\": {\"outlinewidth\": 0, \"ticks\": \"\"}, \"colorscale\": [[0.0, \"#0d0887\"], [0.1111111111111111, \"#46039f\"], [0.2222222222222222, \"#7201a8\"], [0.3333333333333333, \"#9c179e\"], [0.4444444444444444, \"#bd3786\"], [0.5555555555555556, \"#d8576b\"], [0.6666666666666666, \"#ed7953\"], [0.7777777777777778, \"#fb9f3a\"], [0.8888888888888888, \"#fdca26\"], [1.0, \"#f0f921\"]], \"type\": \"heatmap\"}], \"heatmapgl\": [{\"colorbar\": {\"outlinewidth\": 0, \"ticks\": \"\"}, \"colorscale\": [[0.0, \"#0d0887\"], [0.1111111111111111, \"#46039f\"], [0.2222222222222222, \"#7201a8\"], [0.3333333333333333, \"#9c179e\"], [0.4444444444444444, \"#bd3786\"], [0.5555555555555556, \"#d8576b\"], [0.6666666666666666, \"#ed7953\"], [0.7777777777777778, \"#fb9f3a\"], [0.8888888888888888, \"#fdca26\"], [1.0, \"#f0f921\"]], \"type\": \"heatmapgl\"}], \"histogram\": [{\"marker\": {\"colorbar\": {\"outlinewidth\": 0, \"ticks\": \"\"}}, \"type\": \"histogram\"}], \"histogram2d\": [{\"colorbar\": {\"outlinewidth\": 0, \"ticks\": \"\"}, \"colorscale\": [[0.0, \"#0d0887\"], [0.1111111111111111, \"#46039f\"], [0.2222222222222222, \"#7201a8\"], [0.3333333333333333, \"#9c179e\"], [0.4444444444444444, \"#bd3786\"], [0.5555555555555556, \"#d8576b\"], [0.6666666666666666, \"#ed7953\"], [0.7777777777777778, \"#fb9f3a\"], [0.8888888888888888, \"#fdca26\"], [1.0, \"#f0f921\"]], \"type\": \"histogram2d\"}], \"histogram2dcontour\": [{\"colorbar\": {\"outlinewidth\": 0, \"ticks\": \"\"}, \"colorscale\": [[0.0, \"#0d0887\"], [0.1111111111111111, \"#46039f\"], [0.2222222222222222, \"#7201a8\"], [0.3333333333333333, \"#9c179e\"], [0.4444444444444444, \"#bd3786\"], [0.5555555555555556, \"#d8576b\"], [0.6666666666666666, \"#ed7953\"], [0.7777777777777778, \"#fb9f3a\"], [0.8888888888888888, \"#fdca26\"], [1.0, \"#f0f921\"]], \"type\": \"histogram2dcontour\"}], \"mesh3d\": [{\"colorbar\": {\"outlinewidth\": 0, \"ticks\": \"\"}, \"type\": \"mesh3d\"}], \"parcoords\": [{\"line\": {\"colorbar\": {\"outlinewidth\": 0, \"ticks\": \"\"}}, \"type\": \"parcoords\"}], \"pie\": [{\"automargin\": true, \"type\": \"pie\"}], \"scatter\": [{\"marker\": {\"colorbar\": {\"outlinewidth\": 0, \"ticks\": \"\"}}, \"type\": \"scatter\"}], \"scatter3d\": [{\"line\": {\"colorbar\": {\"outlinewidth\": 0, \"ticks\": \"\"}}, \"marker\": {\"colorbar\": {\"outlinewidth\": 0, \"ticks\": \"\"}}, \"type\": \"scatter3d\"}], \"scattercarpet\": [{\"marker\": {\"colorbar\": {\"outlinewidth\": 0, \"ticks\": \"\"}}, \"type\": \"scattercarpet\"}], \"scattergeo\": [{\"marker\": {\"colorbar\": {\"outlinewidth\": 0, \"ticks\": \"\"}}, \"type\": \"scattergeo\"}], \"scattergl\": [{\"marker\": {\"colorbar\": {\"outlinewidth\": 0, \"ticks\": \"\"}}, \"type\": \"scattergl\"}], \"scattermapbox\": [{\"marker\": {\"colorbar\": {\"outlinewidth\": 0, \"ticks\": \"\"}}, \"type\": \"scattermapbox\"}], \"scatterpolar\": [{\"marker\": {\"colorbar\": {\"outlinewidth\": 0, \"ticks\": \"\"}}, \"type\": \"scatterpolar\"}], \"scatterpolargl\": [{\"marker\": {\"colorbar\": {\"outlinewidth\": 0, \"ticks\": \"\"}}, \"type\": \"scatterpolargl\"}], \"scatterternary\": [{\"marker\": {\"colorbar\": {\"outlinewidth\": 0, \"ticks\": \"\"}}, \"type\": \"scatterternary\"}], \"surface\": [{\"colorbar\": {\"outlinewidth\": 0, \"ticks\": \"\"}, \"colorscale\": [[0.0, \"#0d0887\"], [0.1111111111111111, \"#46039f\"], [0.2222222222222222, \"#7201a8\"], [0.3333333333333333, \"#9c179e\"], [0.4444444444444444, \"#bd3786\"], [0.5555555555555556, \"#d8576b\"], [0.6666666666666666, \"#ed7953\"], [0.7777777777777778, \"#fb9f3a\"], [0.8888888888888888, \"#fdca26\"], [1.0, \"#f0f921\"]], \"type\": \"surface\"}], \"table\": [{\"cells\": {\"fill\": {\"color\": \"#EBF0F8\"}, \"line\": {\"color\": \"white\"}}, \"header\": {\"fill\": {\"color\": \"#C8D4E3\"}, \"line\": {\"color\": \"white\"}}, \"type\": \"table\"}]}, \"layout\": {\"annotationdefaults\": {\"arrowcolor\": \"#2a3f5f\", \"arrowhead\": 0, \"arrowwidth\": 1}, \"autotypenumbers\": \"strict\", \"coloraxis\": {\"colorbar\": {\"outlinewidth\": 0, \"ticks\": \"\"}}, \"colorscale\": {\"diverging\": [[0, \"#8e0152\"], [0.1, \"#c51b7d\"], [0.2, \"#de77ae\"], [0.3, \"#f1b6da\"], [0.4, \"#fde0ef\"], [0.5, \"#f7f7f7\"], [0.6, \"#e6f5d0\"], [0.7, \"#b8e186\"], [0.8, \"#7fbc41\"], [0.9, \"#4d9221\"], [1, \"#276419\"]], \"sequential\": [[0.0, \"#0d0887\"], [0.1111111111111111, \"#46039f\"], [0.2222222222222222, \"#7201a8\"], [0.3333333333333333, \"#9c179e\"], [0.4444444444444444, \"#bd3786\"], [0.5555555555555556, \"#d8576b\"], [0.6666666666666666, \"#ed7953\"], [0.7777777777777778, \"#fb9f3a\"], [0.8888888888888888, \"#fdca26\"], [1.0, \"#f0f921\"]], \"sequentialminus\": [[0.0, \"#0d0887\"], [0.1111111111111111, \"#46039f\"], [0.2222222222222222, \"#7201a8\"], [0.3333333333333333, \"#9c179e\"], [0.4444444444444444, \"#bd3786\"], [0.5555555555555556, \"#d8576b\"], [0.6666666666666666, \"#ed7953\"], [0.7777777777777778, \"#fb9f3a\"], [0.8888888888888888, \"#fdca26\"], [1.0, \"#f0f921\"]]}, \"colorway\": [\"#636efa\", \"#EF553B\", \"#00cc96\", \"#ab63fa\", \"#FFA15A\", \"#19d3f3\", \"#FF6692\", \"#B6E880\", \"#FF97FF\", \"#FECB52\"], \"font\": {\"color\": \"#2a3f5f\"}, \"geo\": {\"bgcolor\": \"white\", \"lakecolor\": \"white\", \"landcolor\": \"#E5ECF6\", \"showlakes\": true, \"showland\": true, \"subunitcolor\": \"white\"}, \"hoverlabel\": {\"align\": \"left\"}, \"hovermode\": \"closest\", \"mapbox\": {\"style\": \"light\"}, \"paper_bgcolor\": \"white\", \"plot_bgcolor\": \"#E5ECF6\", \"polar\": {\"angularaxis\": {\"gridcolor\": \"white\", \"linecolor\": \"white\", \"ticks\": \"\"}, \"bgcolor\": \"#E5ECF6\", \"radialaxis\": {\"gridcolor\": \"white\", \"linecolor\": \"white\", \"ticks\": \"\"}}, \"scene\": {\"xaxis\": {\"backgroundcolor\": \"#E5ECF6\", \"gridcolor\": \"white\", \"gridwidth\": 2, \"linecolor\": \"white\", \"showbackground\": true, \"ticks\": \"\", \"zerolinecolor\": \"white\"}, \"yaxis\": {\"backgroundcolor\": \"#E5ECF6\", \"gridcolor\": \"white\", \"gridwidth\": 2, \"linecolor\": \"white\", \"showbackground\": true, \"ticks\": \"\", \"zerolinecolor\": \"white\"}, \"zaxis\": {\"backgroundcolor\": \"#E5ECF6\", \"gridcolor\": \"white\", \"gridwidth\": 2, \"linecolor\": \"white\", \"showbackground\": true, \"ticks\": \"\", \"zerolinecolor\": \"white\"}}, \"shapedefaults\": {\"line\": {\"color\": \"#2a3f5f\"}}, \"ternary\": {\"aaxis\": {\"gridcolor\": \"white\", \"linecolor\": \"white\", \"ticks\": \"\"}, \"baxis\": {\"gridcolor\": \"white\", \"linecolor\": \"white\", \"ticks\": \"\"}, \"bgcolor\": \"#E5ECF6\", \"caxis\": {\"gridcolor\": \"white\", \"linecolor\": \"white\", \"ticks\": \"\"}}, \"title\": {\"x\": 0.05}, \"xaxis\": {\"automargin\": true, \"gridcolor\": \"white\", \"linecolor\": \"white\", \"ticks\": \"\", \"title\": {\"standoff\": 15}, \"zerolinecolor\": \"white\", \"zerolinewidth\": 2}, \"yaxis\": {\"automargin\": true, \"gridcolor\": \"white\", \"linecolor\": \"white\", \"ticks\": \"\", \"title\": {\"standoff\": 15}, \"zerolinecolor\": \"white\", \"zerolinewidth\": 2}}}, \"width\": 1000, \"xaxis\": {\"title\": {\"text\": \"Latency (s)\"}}, \"yaxis\": {\"autorange\": \"reversed\", \"title\": {\"text\": \"Time (s)\"}}},                        {\"responsive\": true}                    ).then(function(){\n",
       "                            \n",
       "var gd = document.getElementById('692960aa-74bb-4ac6-8048-9a1b2169f45f');\n",
       "var x = new MutationObserver(function (mutations, observer) {{\n",
       "        var display = window.getComputedStyle(gd).display;\n",
       "        if (!display || display === 'none') {{\n",
       "            console.log([gd, 'removed!']);\n",
       "            Plotly.purge(gd);\n",
       "            observer.disconnect();\n",
       "        }}\n",
       "}});\n",
       "\n",
       "// Listen for the removal of the full notebook cells\n",
       "var notebookContainer = gd.closest('#notebook-container');\n",
       "if (notebookContainer) {{\n",
       "    x.observe(notebookContainer, {childList: true});\n",
       "}}\n",
       "\n",
       "// Listen for the clearing of the current output cell\n",
       "var outputEl = gd.closest('.output');\n",
       "if (outputEl) {{\n",
       "    x.observe(outputEl, {childList: true});\n",
       "}}\n",
       "\n",
       "                        })                };                });            </script>        </div>"
      ]
     },
     "metadata": {},
     "output_type": "display_data"
    }
   ],
   "source": [
    "%autoreload 2\n",
    "from plotting import FallingLeafPlot\n",
    "\n",
    "from quantities import second, minute\n",
    "\n",
    "flp = FallingLeafPlot(recording = recording, feature_db = db)\n",
    "\n",
    "flp.plot(action_potential_channels = \"all\", plot_raw_signal = True, analog_signal_channel = \"rd.0\", \\\n",
    "         t_start = 0 * minute, post_stimulus_timeframe = 0.02 * second, num_intervals = 25, \n",
    "         ap_tracks = [ap_track])"
   ]
  },
  {
   "cell_type": "code",
   "execution_count": null,
   "metadata": {},
   "outputs": [],
   "source": []
  }
 ],
 "metadata": {
  "kernelspec": {
   "display_name": "Python 3",
   "language": "python",
   "name": "python3"
  },
  "language_info": {
   "codemirror_mode": {
    "name": "ipython",
    "version": 3
   },
   "file_extension": ".py",
   "mimetype": "text/x-python",
   "name": "python",
   "nbconvert_exporter": "python",
   "pygments_lexer": "ipython3",
   "version": "3.7.0"
  }
 },
 "nbformat": 4,
 "nbformat_minor": 4
}