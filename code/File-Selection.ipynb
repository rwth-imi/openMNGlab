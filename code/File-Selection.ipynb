{
 "cells": [
  {
   "cell_type": "code",
   "execution_count": 13,
   "metadata": {},
   "outputs": [],
   "source": [
    "import tkinter as tk\n",
    "from tkinter import filedialog\n",
    "\n",
    "# create a root window, bring to top and withdraw it\n",
    "root = tk.Tk()\n",
    "root.wm_attributes('-topmost', 1)\n",
    "root.withdraw() \n",
    "\n",
    "# request the user to select the file\n",
    "file_path = filedialog.askopenfilename(parent = root, title = \"Select Exported Spike Recording\", filetypes = [(\"Comma-separated value\",\"*.csv\")], initialdir = \"../data/\")"
   ]
  },
  {
   "cell_type": "code",
   "execution_count": 57,
   "metadata": {},
   "outputs": [
    {
     "data": {
      "application/vnd.jupyter.widget-view+json": {
       "model_id": "0e32725888f74ba8ad8701283480edd2",
       "version_major": 2,
       "version_minor": 0
      },
      "text/plain": [
       "HBox(children=(VBox(children=(Label(value='Select the time information channel: '), Select(options=('Time', '8…"
      ]
     },
     "metadata": {},
     "output_type": "display_data"
    },
    {
     "data": {
      "application/vnd.jupyter.widget-view+json": {
       "model_id": "406dcc75c204418bb0d18085f5d8c494",
       "version_major": 2,
       "version_minor": 0
      },
      "text/plain": [
       "HBox(children=(VBox(children=(Checkbox(value=True, description='Load regular electrical stimuli from channel: …"
      ]
     },
     "metadata": {},
     "output_type": "display_data"
    },
    {
     "data": {
      "application/vnd.jupyter.widget-view+json": {
       "model_id": "e3755717065c4b219afaede1c9da4e27",
       "version_major": 2,
       "version_minor": 0
      },
      "text/plain": [
       "VBox(children=(Checkbox(value=True, description='Load action potentials from channels: ', indent=False), Selec…"
      ]
     },
     "metadata": {},
     "output_type": "display_data"
    },
    {
     "data": {
      "application/vnd.jupyter.widget-view+json": {
       "model_id": "51dd3d82bdae4f30b7adf654f8521c9a",
       "version_major": 2,
       "version_minor": 0
      },
      "text/plain": [
       "Button(description='Import File', layout=Layout(border='1px solid'), style=ButtonStyle())"
      ]
     },
     "metadata": {},
     "output_type": "display_data"
    }
   ],
   "source": [
    "import pandas as pd\n",
    "import ipywidgets as widgets\n",
    "\n",
    "# read first line of the DF to get the channel names\n",
    "df = pd.read_csv(filepath_or_buffer = file_path, nrows = 0)\n",
    "channel_names = df.columns.values\n",
    "\n",
    "# a box for time and signal\n",
    "sel_time = widgets.Select(options = channel_names, disabled = False)\n",
    "time_box = widgets.VBox([widgets.Label(value = \"Select the time information channel: \"), sel_time_channel])\n",
    "\n",
    "sel_signal = widgets.Select(options = channel_names, disabled = False)\n",
    "signal_box = widgets.VBox([widgets.Label(value = \"Select the signal channel: \"), sel_signal])\n",
    "\n",
    "time_sig_box = widgets.HBox([time_box, signal_box], layout = widgets.Layout(border = \"1px solid\"))\n",
    "\n",
    "# one box for the stimuli\n",
    "chk_load_reg_stim = widgets.Checkbox(value = True, description = \"Load regular electrical stimuli from channel: \", indent = False)\n",
    "sel_reg_stimuli = widgets.Select(options = channel_names, disabled = False)\n",
    "reg_stim_box = widgets.VBox([chk_load_reg_stim, sel_reg_stimuli])\n",
    "\n",
    "chk_load_extra_stim = widgets.Checkbox(value = False, description = \"Load extra electrical stimuli from channel: \", indent = False)\n",
    "sel_ex_stimuli = widgets.Select(options = channel_names, disabled = False)\n",
    "ex_stim_box = widgets.VBox([chk_load_extra_stim, sel_ex_stimuli])\n",
    "\n",
    "chk_load_mech_stim = widgets.Checkbox(value = False, description = \"Load mechanical stimuli from channel: \", indent = False)\n",
    "mech_stimuli = widgets.Select(options = channel_names, disabled = False)\n",
    "mech_stim_box = widgets.VBox([chk_load_mech_stim, mech_stimuli])\n",
    "\n",
    "stim_box = widgets.HBox([reg_stim_box, ex_stim_box, mech_stim_box], layout = widgets.Layout(border = \"1px solid\"))\n",
    "\n",
    "# one box for the AP channels\n",
    "chk_load_aps = widgets.Checkbox(value = True, description = \"Load action potentials from channels: \", indent = False)\n",
    "sel_ap = widgets.SelectMultiple(options = channel_names, disabled = False)\n",
    "\n",
    "ap_box = widgets.VBox([chk_load_aps, sel_ap], layout = widgets.Layout(border = \"1px solid\"))\n",
    "\n",
    "# the function that is called when the button is clicked\n",
    "def load_file(btn):\n",
    "    print(\"Test!\")\n",
    "\n",
    "# button to load the file\n",
    "btn_load_file = widgets.Button(description = \"Import File\", layout = widgets.Layout(border = \"1px solid\"))\n",
    "btn_load_file.on_click(load_file)\n",
    "display(time_sig_box, stim_box, ap_box, btn_load_file)"
   ]
  },
  {
   "cell_type": "code",
   "execution_count": null,
   "metadata": {},
   "outputs": [],
   "source": [
    "%load_ext autoreload\n",
    "%autoreload 2\n",
    "\n",
    "from importers import SpikeImporter\n",
    "\n",
    "data_folder = \"../data/\"\n",
    "file_name = \"11_10_27U2a_2000s_2300s_20000Hz_Force_AllFibres\"\n",
    "file_ending = \".csv\"\n",
    "\n",
    "time_channel = \"Time\"\n",
    "signal_channel = \"1 Signal\"\n",
    "stimulus_channel = \"32 DigMark\"\n",
    "ap_marker_channels = [\"801 nw-1\", \"12 nw-1\", \"14 nw-1\"]\n",
    "force_channel = \"3 Force\"\n",
    "# extra_stimuli_channel = \"801 DigMark\"\n",
    "\n",
    "# load the animal file\n",
    "importer = SpikeImporter(filepath = data_folder + file_name + file_ending, time_channel = time_channel, signal_channel = signal_channel)\n",
    "\n",
    "print(\"Data loaded.\")\n",
    "\n",
    "# define the max. time so that two sequential waveform-values are belonging to the same AP\n",
    "# the time is in seconds, so 0.005 equals 5ms\n",
    "max_gap_time = 0.005\n",
    "force_thresh = 0.5\n",
    "\n",
    "# retrieve the events from the importer \n",
    "el_stimuli = importer.get_electrical_stimuli(regular_stimulus_channel = stimulus_channel)\n",
    "ex_stimuli = importer.get_extra_stimuli(extra_stimulus_channel = extra_stimuli_channel, regular_el_stimuli = el_stimuli)\n",
    "mech_stimuli = importer.get_mechanical_stimuli(force_channel = force_channel, threshold = force_thresh, max_gap_time = 0.005)\n",
    "actpots = importer.get_action_potentials(max_gap_time = max_gap_time, ap_marker_channels = ap_marker_channels, \\\n",
    "                                       el_stimuli = el_stimuli, mech_stimuli = mech_stimuli)\n",
    "raw_signal = importer.get_raw_signal_split_by_stimuli(el_stimuli = el_stimuli, verbose = False)"
   ]
  }
 ],
 "metadata": {
  "kernelspec": {
   "display_name": "Python 3",
   "language": "python",
   "name": "python3"
  },
  "language_info": {
   "codemirror_mode": {
    "name": "ipython",
    "version": 3
   },
   "file_extension": ".py",
   "mimetype": "text/x-python",
   "name": "python",
   "nbconvert_exporter": "python",
   "pygments_lexer": "ipython3",
   "version": "3.7.5"
  }
 },
 "nbformat": 4,
 "nbformat_minor": 2
}
