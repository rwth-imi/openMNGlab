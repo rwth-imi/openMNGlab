{
 "cells": [
  {
   "cell_type": "code",
   "execution_count": 1,
   "metadata": {
    "scrolled": false
   },
   "outputs": [
    {
     "name": "stdout",
     "output_type": "stream",
     "text": [
      "Data loaded.\n"
     ]
    }
   ],
   "source": [
    "import importers\n",
    "import importlib\n",
    "importlib.reload(importers)\n",
    "from importers import SpikeImporter\n",
    "\n",
    "data_folder = \"../data/\"\n",
    "file_name = \"20_05_13_U1a_4960s_5400s\"\n",
    "file_ending = \".csv\"\n",
    "\n",
    "time_channel = \"Time\"\n",
    "signal_channel = \"1 Signal\"\n",
    "stimulus_channel = \"32 DigMark\"\n",
    "# ap_marker_channels = [\"801 nw-1\", \"12 nw-1\", \"14 nw-1\"]\n",
    "ap_marker_channels = [\"3 nw-1\"]\n",
    "# force_channel = \"3 Force\"\n",
    "extra_stimuli_channel = \"801 DigMark\"\n",
    "\n",
    "# load the animal file\n",
    "importer = SpikeImporter(filepath = data_folder + file_name + file_ending, time_channel = time_channel, signal_channel = signal_channel)\n",
    "\n",
    "print(\"Data loaded.\")\n",
    "\n",
    "# define the max. time so that two sequential waveform-values are belonging to the same AP\n",
    "# the time is in seconds, so 0.005 equals 5ms\n",
    "max_gap_time = 0.005\n",
    "force_thresh = 0.5\n",
    "\n",
    "# retrieve the events from the importer \n",
    "el_stimuli = importer.getElectricalStimuli(regular_stimulus_channel = stimulus_channel)\n",
    "ex_stimuli = importer.getExtraStimuli(extra_stimulus_channel = extra_stimuli_channel)\n",
    "# mech_stimuli = importer.getMechanicalStimuli(threshold = force_thresh, max_gap_time = 0.005)\n",
    "actpots = importer.getActionPotentials(max_gap_time = max_gap_time, ap_marker_channels = ap_marker_channels, \\\n",
    "                                       el_stimuli = el_stimuli, mech_stimuli = [])"
   ]
  },
  {
   "cell_type": "code",
   "execution_count": 3,
   "metadata": {
    "scrolled": false
   },
   "outputs": [
    {
     "name": "stdout",
     "output_type": "stream",
     "text": [
      "Clustering done.\n"
     ]
    },
    {
     "data": {
      "text/plain": [
       "'\\n# iterate over all the clusters and plot them\\ncluster_index = -1\\nwhile cluster_index <= max(labels):\\n    # get a mask for all samples belonging to the cluster and retrieve those feature vectors\\n    indices = (labels == cluster_index)\\n    print(indices)\\n    cluster_features = features[indices]\\n    \\n    # plot the cluster with the appropriate label\\n    # print(\"Plotting cluster: \" + str(cluster_index))\\n    plt.scatter(x = cluster_features[: , 0], y = cluster_features[:, 1], label = \"Cluster \" + str(cluster_index) if cluster_index > -1 else \"Noise\")\\n    # go to the next cluster\\n    cluster_index = cluster_index + 1\\n'"
      ]
     },
     "execution_count": 3,
     "metadata": {},
     "output_type": "execute_result"
    }
   ],
   "source": [
    "''' \n",
    "This cell performs the clustering according to\n",
    "- distance to previous stimulus\n",
    "- normalized signal energy of the APs\n",
    "'''\n",
    "import metrics\n",
    "# reload the clustering classes\n",
    "# hacky workaround atm\n",
    "import importlib\n",
    "importlib.reload(metrics)\n",
    "from metrics import clustering_metrics\n",
    "importlib.reload(clustering_metrics)\n",
    "\n",
    "from sklearn.cluster import DBSCAN\n",
    "import numpy as np\n",
    "\n",
    "# build feature vectors from the features provided by AP class\n",
    "features = np.array([[ap.getDistanceToPreviousElectricalStimulus(), ap.getNormalizedEnergy()] for ap in actpots])\n",
    "channel_indices = np.array([ap.getChannelIndex() for ap in actpots])\n",
    "labels = DBSCAN(eps = 0.001, min_samples = 5, metric = clustering_metrics.TimeDistAndEnergy).fit_predict(features)\n",
    "print(\"Clustering done.\")\n",
    "\n",
    "'''\n",
    "# iterate over all the clusters and plot them\n",
    "cluster_index = -1\n",
    "while cluster_index <= max(labels):\n",
    "    # get a mask for all samples belonging to the cluster and retrieve those feature vectors\n",
    "    indices = (labels == cluster_index)\n",
    "    print(indices)\n",
    "    cluster_features = features[indices]\n",
    "    \n",
    "    # plot the cluster with the appropriate label\n",
    "    # print(\"Plotting cluster: \" + str(cluster_index))\n",
    "    plt.scatter(x = cluster_features[: , 0], y = cluster_features[:, 1], label = \"Cluster \" + str(cluster_index) if cluster_index > -1 else \"Noise\")\n",
    "    # go to the next cluster\n",
    "    cluster_index = cluster_index + 1\n",
    "'''\n"
   ]
  },
  {
   "cell_type": "code",
   "execution_count": 4,
   "metadata": {
    "scrolled": false
   },
   "outputs": [
    {
     "data": {
      "text/plain": [
       "<Figure size 1500x1000 with 1 Axes>"
      ]
     },
     "metadata": {},
     "output_type": "display_data"
    }
   ],
   "source": [
    "import matplotlib.pyplot as plt\n",
    "\n",
    "markers = ['o', 'x', 's', 'D']\n",
    "cluster_colors = ['b', 'g', 'r', 'c', 'm', 'y', 'k', 'gray']\n",
    "\n",
    "# where to save the results\n",
    "results_folder = \"../results/\"\n",
    "results_ending = \".png\"\n",
    "\n",
    "# initialize figure\n",
    "plt.figure(figsize = (15, 10))\n",
    "\n",
    "channel_index = 0\n",
    "while channel_index <= max(channel_indices):\n",
    "    # get a mask for all APs from this channel\n",
    "    indices = (channel_indices == channel_index)\n",
    "    \n",
    "    # get the 'cut' list of features and the colors corresponding to their cluster membership\n",
    "    channel_features = features[indices, :]\n",
    "    colors = np.array([cluster_colors[label % len(cluster_colors)] for label in labels])\n",
    "    colors = colors[indices]\n",
    "    \n",
    "    # plot APs with marker according to channel index\n",
    "    plt.scatter(x = channel_features[:, 0], y = channel_features[:, 1], c = colors, marker = markers[channel_index], label = \"Template \" + str(channel_index))\n",
    "    \n",
    "    channel_index = channel_index + 1\n",
    "\n",
    "    \n",
    "plt.xlabel(\"Distance to stimulus (s)\")\n",
    "# plt.xscale('log')\n",
    "# plt.xlim(0, 0.1)\n",
    "# plt.xlim(0.24, 0.26)\n",
    "plt.ylabel(\"Normalized AP energy (mV^2)\")\n",
    "plt.legend()\n",
    "plt.savefig(results_folder + \"dbscan_clustering_\" + file_name + results_ending, dpi = 400)\n",
    "plt.show()"
   ]
  },
  {
   "cell_type": "code",
   "execution_count": null,
   "metadata": {
    "scrolled": false
   },
   "outputs": [],
   "source": []
  }
 ],
 "metadata": {
  "kernelspec": {
   "display_name": "Python 3",
   "language": "python",
   "name": "python3"
  },
  "language_info": {
   "codemirror_mode": {
    "name": "ipython",
    "version": 3
   },
   "file_extension": ".py",
   "mimetype": "text/x-python",
   "name": "python",
   "nbconvert_exporter": "python",
   "pygments_lexer": "ipython3",
   "version": "3.7.5"
  }
 },
 "nbformat": 4,
 "nbformat_minor": 2
}
