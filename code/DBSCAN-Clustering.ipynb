{
 "cells": [
  {
   "cell_type": "code",
   "execution_count": 43,
   "metadata": {},
   "outputs": [
    {
     "name": "stdout",
     "output_type": "stream",
     "text": [
      "Data loaded.\n"
     ]
    }
   ],
   "source": [
    "from importers import SpikeImporter\n",
    "\n",
    "# load the animal file\n",
    "importer = SpikeImporter(filepath = \"../data/11_10_27U2a_2030s_2100s_10000Hz.csv\")\n",
    "\n",
    "# try retrieving the APs and eletrical stimuli\n",
    "# print(importer.getActionPotentials(channel_name = \"801 nw-1\"))\n",
    "# print(importer.getElectricalStimuli(channel_name = \"32 DigMark\"))\n",
    "print(\"Data loaded.\")"
   ]
  },
  {
   "cell_type": "code",
   "execution_count": 50,
   "metadata": {},
   "outputs": [
    {
     "name": "stdout",
     "output_type": "stream",
     "text": [
      "List of eletrical stimuli created.\n",
      "List of APs created.\n"
     ]
    }
   ],
   "source": [
    "import signal_artifacts\n",
    "# reload the signal_artifacts classes\n",
    "# hacky workaround atm\n",
    "import importlib\n",
    "importlib.reload(signal_artifacts)\n",
    "# only now, import the individual classes\n",
    "from signal_artifacts import ActionPotential\n",
    "from signal_artifacts import ElectricalStimulus\n",
    "\n",
    "# define the max. time so that two sequential waveform-values are belonging to the same AP\n",
    "# the time is in seconds, so 0.005 equals 5ms\n",
    "max_gap_time = 0.005\n",
    "# state explicitly the name of the time column\n",
    "time_column = \"Time\"\n",
    "\n",
    "\n",
    "# go through the eletrical stimuli dataframe and construct objects from this\n",
    "el_stimuli_df = importer.getElectricalStimuli(channel_name = \"32 DigMark\")\n",
    "el_stimuli = []\n",
    "for index, row in el_stimuli_df.iterrows():\n",
    "    es = ElectricalStimulus(input_data = row)\n",
    "    el_stimuli.append(es)\n",
    "print(\"List of eletrical stimuli created.\")\n",
    "\n",
    "\n",
    "# go through the dataframe and construct the APs\n",
    "actpots_df = importer.getActionPotentials(channel_name = \"801 nw-1\")\n",
    "actpots = []\n",
    "index = 0\n",
    "while index < len(actpots_df.index) - 1:\n",
    "    # assume that the first index is always the onset of an AP\n",
    "    onset = index\n",
    "    \n",
    "    len_df = len(actpots_df.index)\n",
    "    # increase the DF(!) index as long as the time distance to the next row is small enough\n",
    "    while (abs(actpots_df.iloc[index + 1][time_column] - actpots_df.iloc[index][time_column]) < max_gap_time):\n",
    "        index = index + 1\n",
    "        # break out of the loop if we reached the end\n",
    "        if (index == len_df - 1):\n",
    "            break\n",
    "        \n",
    "    # then, this is the last index\n",
    "    offset = index\n",
    "        \n",
    "    # create AP object from the shortened dataframe\n",
    "    # range does not include the last position, therefore + 1 !\n",
    "    # also, pass the electrical stimuli so that the class can get the closest one\n",
    "    # print(str(onset) + \" to \" + str(offset))\n",
    "    ap = ActionPotential(input_df = actpots_df.iloc[range(onset, offset + 1)], el_stimuli = el_stimuli)\n",
    "    actpots.append(ap)\n",
    "    \n",
    "    # \"jump\" to the next AP\n",
    "    index = index + 1\n",
    "print(\"List of APs created.\")"
   ]
  },
  {
   "cell_type": "code",
   "execution_count": 53,
   "metadata": {},
   "outputs": [
    {
     "data": {
      "image/png": "[encoded data removed]",
      "text/plain": [
       "<Figure size 432x288 with 1 Axes>"
      ]
     },
     "metadata": {
      "needs_background": "light"
     },
     "output_type": "display_data"
    }
   ],
   "source": [
    "import clustering\n",
    "# reload the clustering classes\n",
    "# hacky workaround atm\n",
    "import importlib\n",
    "importlib.reload(clustering)\n",
    "\n",
    "import matplotlib.pyplot as plt\n",
    "from sklearn.cluster import DBSCAN\n",
    "\n",
    "dist_to_stimuli = [ap.getDistanceToPreviousElectricalStimulus() for ap in actpots]\n",
    "norm_energies = [ap.getNormalizedEnergy() for ap in actpots]\n",
    "\n",
    "plt.scatter(x = dist_to_stimuli, y = norm_energies)\n",
    "plt.xlabel(\"Distance to stimulus (s)\")\n",
    "plt.ylabel(\"Normalized AP energy (mV^2)\")\n",
    "plt.show()"
   ]
  },
  {
   "cell_type": "code",
   "execution_count": null,
   "metadata": {},
   "outputs": [],
   "source": []
  }
 ],
 "metadata": {
  "kernelspec": {
   "display_name": "Python 3",
   "language": "python",
   "name": "python3"
  },
  "language_info": {
   "codemirror_mode": {
    "name": "ipython",
    "version": 3
   },
   "file_extension": ".py",
   "mimetype": "text/x-python",
   "name": "python",
   "nbconvert_exporter": "python",
   "pygments_lexer": "ipython3",
   "version": "3.7.5"
  }
 },
 "nbformat": 4,
 "nbformat_minor": 2
}
