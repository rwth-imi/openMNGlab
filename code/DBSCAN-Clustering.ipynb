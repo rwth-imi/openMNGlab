{
 "cells": [
  {
   "cell_type": "code",
   "execution_count": 1,
   "metadata": {},
   "outputs": [
    {
     "name": "stdout",
     "output_type": "stream",
     "text": [
      "Data loaded.\n"
     ]
    }
   ],
   "source": [
    "import importers\n",
    "import importlib\n",
    "importlib.reload(importers)\n",
    "from importers import SpikeImporter\n",
    "\n",
    "data_folder = \"../data/\"\n",
    "file_name = \"11_10_27U2a_2000s_2030s_20000Hz_NoForce_BigFibre\"\n",
    "file_ending = \".csv\"\n",
    "\n",
    "time_channel = \"Time\"\n",
    "signal_channel = \"1 Signal\"\n",
    "stimulus_channel = \"32 DigMark\"\n",
    "ap_marker_channels = [\"801 nw-1\", \"14 nw-1\"]\n",
    "force_channel = \"3 Force\"\n",
    "\n",
    "# load the animal file\n",
    "importer = SpikeImporter(filepath = data_folder + file_name + file_ending, \\\n",
    "                         time_channel = time_channel, signal_channel = signal_channel, stimulus_channel = stimulus_channel, \\\n",
    "                         ap_marker_channels = ap_marker_channels, force_channel = force_channel)\n",
    "\n",
    "print(\"Data loaded.\")"
   ]
  },
  {
   "cell_type": "code",
   "execution_count": 2,
   "metadata": {},
   "outputs": [
    {
     "name": "stdout",
     "output_type": "stream",
     "text": [
      "List of eletrical stimuli created.\n",
      "List of APs created.\n",
      "List of mechanical stimuli created.\n"
     ]
    }
   ],
   "source": [
    "# define the max. time so that two sequential waveform-values are belonging to the same AP\n",
    "# the time is in seconds, so 0.005 equals 5ms\n",
    "max_gap_time = 0.005\n",
    "force_thresh = 0.5\n",
    "\n",
    "# retrieve the events from the importer \n",
    "el_stimuli = importer.getElectricalStimuli()\n",
    "actpots = importer.getActionPotentials(max_gap_time = max_gap_time, el_stimuli = el_stimuli)\n",
    "mech_stimuli = importer.getMechanicalStimuli(threshold = force_thresh, max_gap_time = 0.005)"
   ]
  },
  {
   "cell_type": "code",
   "execution_count": 3,
   "metadata": {},
   "outputs": [
    {
     "name": "stdout",
     "output_type": "stream",
     "text": [
      "Clustering done.\n"
     ]
    }
   ],
   "source": [
    "import clustering\n",
    "# reload the clustering classes\n",
    "# hacky workaround atm\n",
    "import importlib\n",
    "importlib.reload(clustering)\n",
    "\n",
    "from sklearn.cluster import DBSCAN\n",
    "import numpy as np\n",
    "\n",
    "# build feature vectors from the features provided by AP class\n",
    "features = np.array([[ap.getDistanceToPreviousElectricalStimulus(), ap.getNormalizedEnergy()] for ap in actpots])\n",
    "labels = DBSCAN(eps = 0.0005, min_samples = 3, metric = clustering.actionPotDistance).fit_predict(features)\n",
    "print(\"Clustering done.\")"
   ]
  },
  {
   "cell_type": "code",
   "execution_count": 5,
   "metadata": {},
   "outputs": [
    {
     "data": {
      "image/png": "[encoded data removed]",
      "text/plain": [
       "<Figure size 1080x720 with 1 Axes>"
      ]
     },
     "metadata": {
      "needs_background": "light"
     },
     "output_type": "display_data"
    }
   ],
   "source": [
    "import matplotlib.pyplot as plt\n",
    "\n",
    "# initialize figure\n",
    "plt.figure(figsize = (15, 10))\n",
    "\n",
    "# where to save the results\n",
    "results_folder = \"../results/\"\n",
    "results_ending = \".png\"\n",
    "\n",
    "# iterate over all the clusters and plot them\n",
    "cluster_index = -1\n",
    "while cluster_index <= max(labels):\n",
    "    # get a mask for all samples belonging to the cluster and retrieve those feature vectors\n",
    "    indices = (labels == cluster_index)\n",
    "    cluster_features = features[indices]\n",
    "    # plot the cluster with the appropriate label\n",
    "    # print(\"Plotting cluster: \" + str(cluster_index))\n",
    "    plt.scatter(x = cluster_features[: , 0], y = cluster_features[:, 1], label = \"Cluster \" + str(cluster_index) if cluster_index > -1 else \"Noise\")\n",
    "    # go to the next cluster\n",
    "    cluster_index = cluster_index + 1\n",
    "\n",
    "plt.xlabel(\"Distance to stimulus (s)\")\n",
    "plt.xscale('log')\n",
    "#plt.xlim(0, 0.0125)\n",
    "plt.ylabel(\"Normalized AP energy (mV^2)\")\n",
    "plt.legend()\n",
    "plt.savefig(results_folder + \"dbscan_clustering_\" + file_name + results_ending, dpi = 400)\n",
    "plt.show()"
   ]
  },
  {
   "cell_type": "code",
   "execution_count": null,
   "metadata": {},
   "outputs": [],
   "source": []
  }
 ],
 "metadata": {
  "kernelspec": {
   "display_name": "Python 3",
   "language": "python",
   "name": "python3"
  },
  "language_info": {
   "codemirror_mode": {
    "name": "ipython",
    "version": 3
   },
   "file_extension": ".py",
   "mimetype": "text/x-python",
   "name": "python",
   "nbconvert_exporter": "python",
   "pygments_lexer": "ipython3",
   "version": "3.7.5"
  }
 },
 "nbformat": 4,
 "nbformat_minor": 2
}
