{
 "cells": [
  {
   "cell_type": "code",
   "execution_count": 20,
   "metadata": {},
   "outputs": [
    {
     "name": "stdout",
     "output_type": "stream",
     "text": [
      "Data loaded.\n"
     ]
    }
   ],
   "source": [
    "from importers import SpikeImporter\n",
    "\n",
    "data_folder = \"../data/\"\n",
    "file_name = \"11_10_27U2a_2150s_2200s_10000Hz\"\n",
    "file_ending = \".csv\"\n",
    "\n",
    "# load the animal file\n",
    "# importer = SpikeImporter(filepath = \"../data/11_10_27U2a_2030s_2100s_10000Hz.csv\")\n",
    "importer = SpikeImporter(filepath = data_folder + file_name + file_ending)\n",
    "\n",
    "# try retrieving the APs and eletrical stimuli\n",
    "# print(importer.getActionPotentials(channel_name = \"801 nw-1\"))\n",
    "# print(importer.getElectricalStimuli(channel_name = \"32 DigMark\"))\n",
    "print(\"Data loaded.\")"
   ]
  },
  {
   "cell_type": "code",
   "execution_count": 21,
   "metadata": {},
   "outputs": [
    {
     "name": "stdout",
     "output_type": "stream",
     "text": [
      "List of eletrical stimuli created.\n",
      "List of APs created.\n"
     ]
    }
   ],
   "source": [
    "import signal_artifacts\n",
    "# reload the signal_artifacts classes\n",
    "# hacky workaround atm\n",
    "import importlib\n",
    "importlib.reload(signal_artifacts)\n",
    "# only now, import the individual classes\n",
    "from signal_artifacts import ActionPotential\n",
    "from signal_artifacts import ElectricalStimulus\n",
    "\n",
    "# define the max. time so that two sequential waveform-values are belonging to the same AP\n",
    "# the time is in seconds, so 0.005 equals 5ms\n",
    "max_gap_time = 0.005\n",
    "# state explicitly the name of the time column\n",
    "time_column = \"Time\"\n",
    "\n",
    "\n",
    "# go through the eletrical stimuli dataframe and construct objects from this\n",
    "el_stimuli_df = importer.getElectricalStimuli(channel_name = \"32 DigMark\")\n",
    "el_stimuli = []\n",
    "for index, row in el_stimuli_df.iterrows():\n",
    "    es = ElectricalStimulus(input_data = row)\n",
    "    el_stimuli.append(es)\n",
    "print(\"List of eletrical stimuli created.\")\n",
    "\n",
    "\n",
    "# go through the dataframe and construct the APs\n",
    "actpots_df = importer.getActionPotentials(channel_name = \"801 nw-1\")\n",
    "actpots = []\n",
    "index = 0\n",
    "while index < len(actpots_df.index) - 1:\n",
    "    # assume that the first index is always the onset of an AP\n",
    "    onset = index\n",
    "    \n",
    "    len_df = len(actpots_df.index)\n",
    "    # increase the DF(!) index as long as the time distance to the next row is small enough\n",
    "    while (abs(actpots_df.iloc[index + 1][time_column] - actpots_df.iloc[index][time_column]) < max_gap_time):\n",
    "        index = index + 1\n",
    "        # break out of the loop if we reached the end\n",
    "        if (index == len_df - 1):\n",
    "            break\n",
    "        \n",
    "    # then, this is the last index\n",
    "    offset = index\n",
    "        \n",
    "    # create AP object from the shortened dataframe\n",
    "    # range does not include the last position, therefore + 1 !\n",
    "    # also, pass the electrical stimuli so that the class can get the closest one\n",
    "    # print(str(onset) + \" to \" + str(offset))\n",
    "    ap = ActionPotential(input_df = actpots_df.iloc[range(onset, offset + 1)], el_stimuli = el_stimuli)\n",
    "    actpots.append(ap)\n",
    "    \n",
    "    # \"jump\" to the next AP\n",
    "    index = index + 1\n",
    "print(\"List of APs created.\")"
   ]
  },
  {
   "cell_type": "code",
   "execution_count": 36,
   "metadata": {},
   "outputs": [
    {
     "name": "stdout",
     "output_type": "stream",
     "text": [
      "Plotting cluster: -1\n",
      "Plotting cluster: 0\n",
      "Plotting cluster: 1\n",
      "Plotting cluster: 2\n"
     ]
    },
    {
     "data": {
      "image/png": "[encoded data removed]",
      "text/plain": [
       "<Figure size 1080x720 with 1 Axes>"
      ]
     },
     "metadata": {
      "needs_background": "light"
     },
     "output_type": "display_data"
    }
   ],
   "source": [
    "import clustering\n",
    "# reload the clustering classes\n",
    "# hacky workaround atm\n",
    "import importlib\n",
    "importlib.reload(clustering)\n",
    "\n",
    "import matplotlib.pyplot as plt\n",
    "from sklearn.cluster import DBSCAN\n",
    "import numpy as np\n",
    "\n",
    "# where to save the results\n",
    "results_folder = \"../results/\"\n",
    "results_ending = \".png\"\n",
    "\n",
    "# build feature vectors from the features provided by AP class\n",
    "features = np.array([[ap.getDistanceToPreviousElectricalStimulus(), ap.getNormalizedEnergy()] for ap in actpots])\n",
    "labels = DBSCAN(eps = 0.0001, min_samples = 3, metric = clustering.actionPotDistance).fit_predict(features)\n",
    "\n",
    "# initialize figure\n",
    "plt.figure(figsize = (15, 10))\n",
    "\n",
    "# iterate over all the clusters and plot them\n",
    "cluster_index = -1\n",
    "while cluster_index <= max(labels):\n",
    "    # get a mask for all samples belonging to the cluster and retrieve those feature vectors\n",
    "    indices = (labels == cluster_index)\n",
    "    cluster_features = features[indices]\n",
    "    # plot the cluster with the appropriate label\n",
    "    print(\"Plotting cluster: \" + str(cluster_index))\n",
    "    plt.scatter(x = cluster_features[: , 0], y = cluster_features[:, 1], label = \"Cluster \" + str(cluster_index) if cluster_index > -1 else \"Noise\")\n",
    "    # go to the next cluster\n",
    "    cluster_index = cluster_index + 1\n",
    "\n",
    "plt.xlabel(\"Distance to stimulus (s)\")\n",
    "plt.xscale('linear')\n",
    "plt.xlim(0.0075, 0.0125)\n",
    "plt.ylabel(\"Normalized AP energy (mV^2)\")\n",
    "plt.legend()\n",
    "plt.savefig(results_folder + \"dbscan_clustering_\" + file_name + results_ending, dpi = 400)\n",
    "plt.show()"
   ]
  },
  {
   "cell_type": "code",
   "execution_count": null,
   "metadata": {},
   "outputs": [],
   "source": []
  }
 ],
 "metadata": {
  "kernelspec": {
   "display_name": "Python 3",
   "language": "python",
   "name": "python3"
  },
  "language_info": {
   "codemirror_mode": {
    "name": "ipython",
    "version": 3
   },
   "file_extension": ".py",
   "mimetype": "text/x-python",
   "name": "python",
   "nbconvert_exporter": "python",
   "pygments_lexer": "ipython3",
   "version": "3.7.5"
  }
 },
 "nbformat": 4,
 "nbformat_minor": 2
}
