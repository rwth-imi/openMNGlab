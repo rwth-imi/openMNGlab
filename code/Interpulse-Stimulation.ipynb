{
 "cells": [
  {
   "cell_type": "code",
   "execution_count": 12,
   "metadata": {},
   "outputs": [
    {
     "name": "stdout",
     "output_type": "stream",
     "text": [
      "The autoreload extension is already loaded. To reload it, use:\n",
      "  %reload_ext autoreload\n",
      "Data loaded.\n",
      "List of eletrical stimuli created.\n",
      "List of extra eletrical stimuli created.\n",
      "Finished processing AP channel 1 out of 1\n",
      "List of APs created.\n",
      "Done with cropping the intervals\n"
     ]
    }
   ],
   "source": [
    "%load_ext autoreload\n",
    "%autoreload 2\n",
    "\n",
    "from importers import SpikeImporter\n",
    "\n",
    "data_folder = \"../data/\"\n",
    "file_name = \"20_05_13_U1a_4960s_5400s\"\n",
    "file_ending = \".csv\"\n",
    "\n",
    "time_channel = \"Time\"\n",
    "signal_channel = \"1 Signal\"\n",
    "stimulus_channel = \"32 DigMark\"\n",
    "ap_marker_channels = [\"3 nw-1\"]\n",
    "extra_stimuli_channel = \"801 DigMark\"\n",
    "\n",
    "# load the animal file\n",
    "importer = SpikeImporter(filepath = data_folder + file_name + file_ending, time_channel = time_channel, signal_channel = signal_channel)\n",
    "\n",
    "print(\"Data loaded.\")\n",
    "\n",
    "# define the max. time so that two sequential waveform-values are belonging to the same AP\n",
    "# the time is in seconds, so 0.005 equals 5ms\n",
    "max_gap_time = 0.005\n",
    "\n",
    "# retrieve the events from the importer \n",
    "el_stimuli = importer.get_electrical_stimuli(regular_stimulus_channel = stimulus_channel)\n",
    "el_extra_stimuli = importer.get_extra_stimuli(extra_stimulus_channel = extra_stimuli_channel, regular_el_stimuli = el_stimuli, verbose = False)\n",
    "actpots = importer.get_action_potentials(ap_marker_channels = ap_marker_channels, verbose = False)\n",
    "raw_signal = importer.get_raw_signal_split_by_stimuli(el_stimuli = el_stimuli, verbose = False)"
   ]
  },
  {
   "cell_type": "code",
   "execution_count": 13,
   "metadata": {},
   "outputs": [
    {
     "name": "stderr",
     "output_type": "stream",
     "text": [
      "100%|█████████████████████████████████████████████████████████████████████████████| 227/227 [00:00<00:00, 28432.14it/s]"
     ]
    },
    {
     "name": "stdout",
     "output_type": "stream",
     "text": [
      "Extracting features from every AP\n"
     ]
    },
    {
     "name": "stderr",
     "output_type": "stream",
     "text": [
      "\n"
     ]
    }
   ],
   "source": [
    "'''\n",
    "Here, we extract some features from the APs:\n",
    "- postpulse distance (aka latency)\n",
    "- normalized signal energy\n",
    "'''\n",
    "%autoreload 2\n",
    "from tqdm import tqdm\n",
    "from feature_extraction import calc_dist_to_prev_reg_el_stimulus, calc_normalized_energy, get_spike_count\n",
    "\n",
    "print(\"Extracting features from every AP\")\n",
    "\n",
    "# all_el_stimuli = el_stimuli.copy()\n",
    "# all_el_stimuli.extend(importer.get_electrical_stimuli(regular_stimulus_channel = extra_stimuli_channel))\n",
    "\n",
    "for ap in tqdm(actpots):\n",
    "    ap.features[\"latency\"], ap.prev_stimuli[\"regular\"] = calc_dist_to_prev_reg_el_stimulus(ap, el_stimuli)\n",
    "    ap.features[\"energy\"] = calc_normalized_energy(ap)"
   ]
  },
  {
   "cell_type": "code",
   "execution_count": 47,
   "metadata": {},
   "outputs": [
    {
     "data": {
      "application/vnd.plotly.v1+json": {
       "config": {
        "plotlyServerURL": "https://plot.ly"
       },
       "data": [
        {
         "hovertemplate": "%{text}",
         "marker": {
          "color": [
           "blue",
           "blue",
           "blue",
           "blue",
           "blue",
           "black",
           "blue",
           "black",
           "blue",
           "black",
           "black",
           "black",
           "black",
           "black",
           "black",
           "blue",
           "blue",
           "black",
           "blue",
           "black",
           "blue",
           "black",
           "blue",
           "black",
           "blue",
           "black",
           "blue",
           "black",
           "black",
           "blue",
           "blue",
           "black",
           "black",
           "black",
           "black",
           "black",
           "blue",
           "black",
           "blue",
           "black",
           "blue",
           "blue",
           "blue",
           "blue",
           "blue",
           "black",
           "black",
           "black",
           "black",
           "black",
           "black",
           "black",
           "blue",
           "black",
           "blue",
           "black",
           "blue",
           "black",
           "blue",
           "blue",
           "black",
           "blue",
           "blue",
           "blue",
           "black",
           "black",
           "black",
           "black",
           "black",
           "black",
           "black",
           "black",
           "blue",
           "blue",
           "black",
           "black",
           "blue",
           "blue",
           "blue",
           "blue",
           "blue",
           "black",
           "black",
           "black",
           "blue",
           "black",
           "blue",
           "blue",
           "blue",
           "blue",
           "blue",
           "blue",
           "blue",
           "black",
           "black",
           "black",
           "black",
           "blue",
           "blue",
           "black",
           "blue",
           "black",
           "blue",
           "blue",
           "blue",
           "blue",
           "blue",
           "black",
           "black",
           "black",
           "black",
           "black",
           "black",
           "black",
           "black",
           "blue",
           "black",
           "blue",
           "blue",
           "blue",
           "blue",
           "blue",
           "black",
           "blue",
           "blue",
           "black",
           "black",
           "black",
           "black",
           "black",
           "black",
           "black",
           "black",
           "black",
           "black",
           "blue",
           "blue",
           "black",
           "black",
           "blue",
           "blue",
           "blue",
           "blue",
           "blue",
           "blue",
           "black",
           "black",
           "black",
           "black",
           "black",
           "black",
           "black",
           "blue",
           "black",
           "blue",
           "black",
           "blue",
           "blue",
           "blue",
           "blue",
           "black",
           "black",
           "black",
           "black",
           "black",
           "black",
           "black",
           "black",
           "black",
           "blue",
           "blue",
           "blue",
           "blue",
           "black",
           "blue",
           "blue",
           "blue",
           "black",
           "blue",
           "black",
           "black",
           "black",
           "black",
           "black",
           "black",
           "black",
           "black",
           "black",
           "blue",
           "black",
           "blue",
           "blue",
           "blue",
           "blue",
           "black",
           "blue",
           "blue",
           "black",
           "black",
           "black",
           "black",
           "black",
           "black",
           "blue",
           "blue",
           "blue",
           "blue",
           "blue",
           "black",
           "blue",
           "blue",
           "black",
           "black",
           "black",
           "black",
           "black",
           "black",
           "blue",
           "black",
           "blue",
           "blue",
           "black",
           "blue",
           "black",
           "black",
           "blue",
           "black"
          ],
          "symbol": [
           0,
           0,
           0,
           0,
           0,
           0,
           0,
           0,
           0,
           0,
           0,
           0,
           0,
           0,
           0,
           0,
           0,
           0,
           0,
           0,
           0,
           0,
           0,
           0,
           0,
           0,
           0,
           0,
           0,
           0,
           0,
           0,
           0,
           0,
           0,
           0,
           0,
           0,
           0,
           0,
           0,
           0,
           0,
           0,
           0,
           0,
           0,
           0,
           0,
           0,
           0,
           0,
           0,
           0,
           0,
           0,
           0,
           0,
           0,
           0,
           0,
           0,
           0,
           0,
           0,
           0,
           0,
           0,
           0,
           0,
           0,
           0,
           0,
           0,
           0,
           0,
           0,
           0,
           0,
           0,
           0,
           0,
           0,
           0,
           0,
           0,
           0,
           0,
           0,
           0,
           0,
           0,
           0,
           0,
           0,
           0,
           0,
           0,
           0,
           0,
           0,
           0,
           0,
           0,
           0,
           0,
           0,
           0,
           0,
           0,
           0,
           0,
           0,
           0,
           0,
           0,
           0,
           0,
           0,
           0,
           0,
           0,
           0,
           0,
           0,
           0,
           0,
           0,
           0,
           0,
           0,
           0,
           0,
           0,
           0,
           0,
           0,
           0,
           0,
           0,
           0,
           0,
           0,
           0,
           0,
           0,
           0,
           0,
           0,
           0,
           0,
           0,
           0,
           0,
           0,
           0,
           0,
           0,
           0,
           0,
           0,
           0,
           0,
           0,
           0,
           0,
           0,
           0,
           0,
           0,
           0,
           0,
           0,
           0,
           0,
           0,
           0,
           0,
           0,
           0,
           0,
           0,
           0,
           0,
           0,
           0,
           0,
           0,
           0,
           0,
           0,
           0,
           0,
           0,
           0,
           0,
           0,
           0,
           0,
           0,
           0,
           0,
           0,
           0,
           0,
           0,
           0,
           0,
           0,
           0,
           0,
           0,
           0,
           0,
           0,
           0,
           0,
           0,
           0,
           0,
           0,
           0,
           0,
           0,
           0,
           0,
           0
          ]
         },
         "mode": "markers",
         "text": [
          "Latency: 55.35ms<br>Energy: 492602.87mV^2<br>Cluster Index: 0<br>Channel Index: 0<br>",
          "Latency: 55.25ms<br>Energy: 474010.23mV^2<br>Cluster Index: 0<br>Channel Index: 0<br>",
          "Latency: 55.40ms<br>Energy: 499170.06mV^2<br>Cluster Index: 0<br>Channel Index: 0<br>",
          "Latency: 55.50ms<br>Energy: 467836.58mV^2<br>Cluster Index: 0<br>Channel Index: 0<br>",
          "Latency: 55.70ms<br>Energy: 496150.22mV^2<br>Cluster Index: 0<br>Channel Index: 0<br>",
          "Latency: 89.80ms<br>Energy: 471432.34mV^2<br>Cluster Index: -1<br>Channel Index: 0<br>",
          "Latency: 56.00ms<br>Energy: 512735.34mV^2<br>Cluster Index: 0<br>Channel Index: 0<br>",
          "Latency: 87.50ms<br>Energy: 613601.52mV^2<br>Cluster Index: -1<br>Channel Index: 0<br>",
          "Latency: 56.35ms<br>Energy: 492185.37mV^2<br>Cluster Index: 0<br>Channel Index: 0<br>",
          "Latency: 2455.35ms<br>Energy: 397746.61mV^2<br>Cluster Index: -1<br>Channel Index: 0<br>",
          "Latency: 2658.60ms<br>Energy: 449923.40mV^2<br>Cluster Index: -1<br>Channel Index: 0<br>",
          "Latency: 2697.20ms<br>Energy: 558882.33mV^2<br>Cluster Index: -1<br>Channel Index: 0<br>",
          "Latency: 2861.60ms<br>Energy: 632302.33mV^2<br>Cluster Index: -1<br>Channel Index: 0<br>",
          "Latency: 3061.40ms<br>Energy: 421809.65mV^2<br>Cluster Index: -1<br>Channel Index: 0<br>",
          "Latency: 3111.80ms<br>Energy: 484615.81mV^2<br>Cluster Index: -1<br>Channel Index: 0<br>",
          "Latency: 61.35ms<br>Energy: 513387.48mV^2<br>Cluster Index: 0<br>Channel Index: 0<br>",
          "Latency: 72.35ms<br>Energy: 770091.73mV^2<br>Cluster Index: 0<br>Channel Index: 0<br>",
          "Latency: 125.90ms<br>Energy: 634300.16mV^2<br>Cluster Index: -1<br>Channel Index: 0<br>",
          "Latency: 59.90ms<br>Energy: 574607.29mV^2<br>Cluster Index: 0<br>Channel Index: 0<br>",
          "Latency: 94.60ms<br>Energy: 583039.21mV^2<br>Cluster Index: -1<br>Channel Index: 0<br>",
          "Latency: 59.15ms<br>Energy: 536935.88mV^2<br>Cluster Index: 0<br>Channel Index: 0<br>",
          "Latency: 116.80ms<br>Energy: 772733.91mV^2<br>Cluster Index: -1<br>Channel Index: 0<br>",
          "Latency: 58.35ms<br>Energy: 499366.06mV^2<br>Cluster Index: 0<br>Channel Index: 0<br>",
          "Latency: 89.85ms<br>Energy: 511191.01mV^2<br>Cluster Index: -1<br>Channel Index: 0<br>",
          "Latency: 58.50ms<br>Energy: 538189.64mV^2<br>Cluster Index: 0<br>Channel Index: 0<br>",
          "Latency: 94.50ms<br>Energy: 623640.43mV^2<br>Cluster Index: -1<br>Channel Index: 0<br>",
          "Latency: 58.60ms<br>Energy: 452541.62mV^2<br>Cluster Index: 0<br>Channel Index: 0<br>",
          "Latency: 617.75ms<br>Energy: 513068.01mV^2<br>Cluster Index: -1<br>Channel Index: 0<br>",
          "Latency: 673.80ms<br>Energy: 737274.49mV^2<br>Cluster Index: -1<br>Channel Index: 0<br>",
          "Latency: 59.25ms<br>Energy: 486397.35mV^2<br>Cluster Index: 0<br>Channel Index: 0<br>",
          "Latency: 58.75ms<br>Energy: 469377.04mV^2<br>Cluster Index: 0<br>Channel Index: 0<br>",
          "Latency: 2457.55ms<br>Energy: 424790.81mV^2<br>Cluster Index: -1<br>Channel Index: 0<br>",
          "Latency: 2707.05ms<br>Energy: 551189.09mV^2<br>Cluster Index: -1<br>Channel Index: 0<br>",
          "Latency: 2863.80ms<br>Energy: 565338.26mV^2<br>Cluster Index: -1<br>Channel Index: 0<br>",
          "Latency: 2923.95ms<br>Energy: 645416.92mV^2<br>Cluster Index: -1<br>Channel Index: 0<br>",
          "Latency: 3065.70ms<br>Energy: 608314.67mV^2<br>Cluster Index: -1<br>Channel Index: 0<br>",
          "Latency: 63.65ms<br>Energy: 497039.27mV^2<br>Cluster Index: 0<br>Channel Index: 0<br>",
          "Latency: 145.35ms<br>Energy: 629514.27mV^2<br>Cluster Index: -1<br>Channel Index: 0<br>",
          "Latency: 62.15ms<br>Energy: 455787.82mV^2<br>Cluster Index: 0<br>Channel Index: 0<br>",
          "Latency: 101.80ms<br>Energy: 461566.45mV^2<br>Cluster Index: -1<br>Channel Index: 0<br>",
          "Latency: 61.15ms<br>Energy: 515252.22mV^2<br>Cluster Index: 0<br>Channel Index: 0<br>",
          "Latency: 60.30ms<br>Energy: 564174.12mV^2<br>Cluster Index: 0<br>Channel Index: 0<br>",
          "Latency: 59.45ms<br>Energy: 471215.69mV^2<br>Cluster Index: 0<br>Channel Index: 0<br>",
          "Latency: 59.05ms<br>Energy: 548936.31mV^2<br>Cluster Index: 0<br>Channel Index: 0<br>",
          "Latency: 59.00ms<br>Energy: 529612.03mV^2<br>Cluster Index: 0<br>Channel Index: 0<br>",
          "Latency: 146.85ms<br>Energy: 807489.66mV^2<br>Cluster Index: -1<br>Channel Index: 0<br>",
          "Latency: 2457.95ms<br>Energy: 462680.50mV^2<br>Cluster Index: -1<br>Channel Index: 0<br>",
          "Latency: 2489.95ms<br>Energy: 562934.59mV^2<br>Cluster Index: -1<br>Channel Index: 0<br>",
          "Latency: 2663.40ms<br>Energy: 536345.16mV^2<br>Cluster Index: -1<br>Channel Index: 0<br>",
          "Latency: 2705.85ms<br>Energy: 530943.18mV^2<br>Cluster Index: -1<br>Channel Index: 0<br>",
          "Latency: 3065.20ms<br>Energy: 578029.04mV^2<br>Cluster Index: -1<br>Channel Index: 0<br>",
          "Latency: 3110.55ms<br>Energy: 580794.33mV^2<br>Cluster Index: -1<br>Channel Index: 0<br>",
          "Latency: 64.90ms<br>Energy: 481556.74mV^2<br>Cluster Index: 0<br>Channel Index: 0<br>",
          "Latency: 121.90ms<br>Energy: 638744.89mV^2<br>Cluster Index: -1<br>Channel Index: 0<br>",
          "Latency: 62.85ms<br>Energy: 496744.64mV^2<br>Cluster Index: 0<br>Channel Index: 0<br>",
          "Latency: 100.00ms<br>Energy: 603205.70mV^2<br>Cluster Index: -1<br>Channel Index: 0<br>",
          "Latency: 62.20ms<br>Energy: 514981.22mV^2<br>Cluster Index: 0<br>Channel Index: 0<br>",
          "Latency: 114.15ms<br>Energy: 532028.40mV^2<br>Cluster Index: -1<br>Channel Index: 0<br>",
          "Latency: 61.90ms<br>Energy: 527321.48mV^2<br>Cluster Index: 0<br>Channel Index: 0<br>",
          "Latency: 60.95ms<br>Energy: 420895.72mV^2<br>Cluster Index: 0<br>Channel Index: 0<br>",
          "Latency: 103.55ms<br>Energy: 554906.50mV^2<br>Cluster Index: -1<br>Channel Index: 0<br>",
          "Latency: 61.00ms<br>Energy: 410934.33mV^2<br>Cluster Index: 0<br>Channel Index: 0<br>",
          "Latency: 60.40ms<br>Energy: 465572.25mV^2<br>Cluster Index: 0<br>Channel Index: 0<br>",
          "Latency: 60.20ms<br>Energy: 392144.14mV^2<br>Cluster Index: 0<br>Channel Index: 0<br>",
          "Latency: 400.75ms<br>Energy: 826713.25mV^2<br>Cluster Index: -1<br>Channel Index: 0<br>",
          "Latency: 2459.30ms<br>Energy: 669109.51mV^2<br>Cluster Index: -1<br>Channel Index: 0<br>",
          "Latency: 2663.05ms<br>Energy: 530225.24mV^2<br>Cluster Index: -1<br>Channel Index: 0<br>",
          "Latency: 2677.75ms<br>Energy: 813761.04mV^2<br>Cluster Index: -1<br>Channel Index: 0<br>",
          "Latency: 2863.80ms<br>Energy: 510467.26mV^2<br>Cluster Index: -1<br>Channel Index: 0<br>",
          "Latency: 2901.25ms<br>Energy: 585561.60mV^2<br>Cluster Index: -1<br>Channel Index: 0<br>",
          "Latency: 3066.80ms<br>Energy: 524928.86mV^2<br>Cluster Index: -1<br>Channel Index: 0<br>",
          "Latency: 3124.90ms<br>Energy: 598078.74mV^2<br>Cluster Index: -1<br>Channel Index: 0<br>",
          "Latency: 63.45ms<br>Energy: 480595.32mV^2<br>Cluster Index: 0<br>Channel Index: 0<br>",
          "Latency: 61.95ms<br>Energy: 484690.77mV^2<br>Cluster Index: 0<br>Channel Index: 0<br>",
          "Latency: 137.80ms<br>Energy: 801336.76mV^2<br>Cluster Index: -1<br>Channel Index: 0<br>",
          "Latency: 742.35ms<br>Energy: 805404.45mV^2<br>Cluster Index: -1<br>Channel Index: 0<br>",
          "Latency: 61.40ms<br>Energy: 503959.06mV^2<br>Cluster Index: 0<br>Channel Index: 0<br>",
          "Latency: 61.10ms<br>Energy: 432732.92mV^2<br>Cluster Index: 0<br>Channel Index: 0<br>",
          "Latency: 60.95ms<br>Energy: 451438.10mV^2<br>Cluster Index: 0<br>Channel Index: 0<br>",
          "Latency: 60.95ms<br>Energy: 497801.01mV^2<br>Cluster Index: 0<br>Channel Index: 0<br>",
          "Latency: 60.90ms<br>Energy: 473176.93mV^2<br>Cluster Index: 0<br>Channel Index: 0<br>",
          "Latency: 2660.00ms<br>Energy: 607463.17mV^2<br>Cluster Index: -1<br>Channel Index: 0<br>",
          "Latency: 2863.60ms<br>Energy: 578514.52mV^2<br>Cluster Index: -1<br>Channel Index: 0<br>",
          "Latency: 3064.65ms<br>Energy: 434268.04mV^2<br>Cluster Index: -1<br>Channel Index: 0<br>",
          "Latency: 63.00ms<br>Energy: 496477.25mV^2<br>Cluster Index: 0<br>Channel Index: 0<br>",
          "Latency: 105.60ms<br>Energy: 628698.84mV^2<br>Cluster Index: -1<br>Channel Index: 0<br>",
          "Latency: 62.15ms<br>Energy: 384011.83mV^2<br>Cluster Index: 0<br>Channel Index: 0<br>",
          "Latency: 61.65ms<br>Energy: 591116.71mV^2<br>Cluster Index: 0<br>Channel Index: 0<br>",
          "Latency: 61.60ms<br>Energy: 564311.93mV^2<br>Cluster Index: 0<br>Channel Index: 0<br>",
          "Latency: 61.40ms<br>Energy: 531566.50mV^2<br>Cluster Index: 0<br>Channel Index: 0<br>",
          "Latency: 61.15ms<br>Energy: 459035.97mV^2<br>Cluster Index: 0<br>Channel Index: 0<br>",
          "Latency: 61.20ms<br>Energy: 489097.36mV^2<br>Cluster Index: 0<br>Channel Index: 0<br>",
          "Latency: 61.10ms<br>Energy: 631359.25mV^2<br>Cluster Index: 0<br>Channel Index: 0<br>",
          "Latency: 2660.30ms<br>Energy: 567132.95mV^2<br>Cluster Index: -1<br>Channel Index: 0<br>",
          "Latency: 2864.00ms<br>Energy: 583210.11mV^2<br>Cluster Index: -1<br>Channel Index: 0<br>",
          "Latency: 3064.95ms<br>Energy: 515440.24mV^2<br>Cluster Index: -1<br>Channel Index: 0<br>",
          "Latency: 3120.45ms<br>Energy: 592861.55mV^2<br>Cluster Index: -1<br>Channel Index: 0<br>",
          "Latency: 64.45ms<br>Energy: 516923.83mV^2<br>Cluster Index: 0<br>Channel Index: 0<br>",
          "Latency: 62.50ms<br>Energy: 604567.72mV^2<br>Cluster Index: 0<br>Channel Index: 0<br>",
          "Latency: 101.90ms<br>Energy: 576537.25mV^2<br>Cluster Index: -1<br>Channel Index: 0<br>",
          "Latency: 62.40ms<br>Energy: 476676.02mV^2<br>Cluster Index: 0<br>Channel Index: 0<br>",
          "Latency: 100.70ms<br>Energy: 609358.32mV^2<br>Cluster Index: -1<br>Channel Index: 0<br>",
          "Latency: 62.40ms<br>Energy: 511391.12mV^2<br>Cluster Index: 0<br>Channel Index: 0<br>",
          "Latency: 62.00ms<br>Energy: 494654.40mV^2<br>Cluster Index: 0<br>Channel Index: 0<br>",
          "Latency: 61.85ms<br>Energy: 411790.67mV^2<br>Cluster Index: 0<br>Channel Index: 0<br>",
          "Latency: 61.80ms<br>Energy: 603296.69mV^2<br>Cluster Index: 0<br>Channel Index: 0<br>",
          "Latency: 61.90ms<br>Energy: 494012.65mV^2<br>Cluster Index: 0<br>Channel Index: 0<br>",
          "Latency: 2060.95ms<br>Energy: 523954.40mV^2<br>Cluster Index: -1<br>Channel Index: 0<br>",
          "Latency: 2264.85ms<br>Energy: 655500.10mV^2<br>Cluster Index: -1<br>Channel Index: 0<br>",
          "Latency: 2465.55ms<br>Energy: 560290.22mV^2<br>Cluster Index: -1<br>Channel Index: 0<br>",
          "Latency: 2666.55ms<br>Energy: 505449.70mV^2<br>Cluster Index: -1<br>Channel Index: 0<br>",
          "Latency: 2721.95ms<br>Energy: 625817.66mV^2<br>Cluster Index: -1<br>Channel Index: 0<br>",
          "Latency: 2869.70ms<br>Energy: 579701.03mV^2<br>Cluster Index: -1<br>Channel Index: 0<br>",
          "Latency: 3069.35ms<br>Energy: 518306.46mV^2<br>Cluster Index: -1<br>Channel Index: 0<br>",
          "Latency: 3165.80ms<br>Energy: 613749.93mV^2<br>Cluster Index: -1<br>Channel Index: 0<br>",
          "Latency: 69.10ms<br>Energy: 546349.69mV^2<br>Cluster Index: 0<br>Channel Index: 0<br>",
          "Latency: 152.40ms<br>Energy: 626833.58mV^2<br>Cluster Index: -1<br>Channel Index: 0<br>",
          "Latency: 67.05ms<br>Energy: 475862.16mV^2<br>Cluster Index: 0<br>Channel Index: 0<br>",
          "Latency: 65.35ms<br>Energy: 461851.07mV^2<br>Cluster Index: 0<br>Channel Index: 0<br>",
          "Latency: 64.30ms<br>Energy: 503664.37mV^2<br>Cluster Index: 0<br>Channel Index: 0<br>",
          "Latency: 63.85ms<br>Energy: 522420.82mV^2<br>Cluster Index: 0<br>Channel Index: 0<br>",
          "Latency: 63.60ms<br>Energy: 492185.09mV^2<br>Cluster Index: 0<br>Channel Index: 0<br>",
          "Latency: 101.65ms<br>Energy: 490577.86mV^2<br>Cluster Index: -1<br>Channel Index: 0<br>",
          "Latency: 63.85ms<br>Energy: 544638.32mV^2<br>Cluster Index: 0<br>Channel Index: 0<br>",
          "Latency: 63.65ms<br>Energy: 547996.36mV^2<br>Cluster Index: 0<br>Channel Index: 0<br>",
          "Latency: 2062.75ms<br>Energy: 553508.80mV^2<br>Cluster Index: -1<br>Channel Index: 0<br>",
          "Latency: 2266.50ms<br>Energy: 523666.62mV^2<br>Cluster Index: -1<br>Channel Index: 0<br>",
          "Latency: 2307.40ms<br>Energy: 623703.57mV^2<br>Cluster Index: -1<br>Channel Index: 0<br>",
          "Latency: 2470.00ms<br>Energy: 645107.51mV^2<br>Cluster Index: -1<br>Channel Index: 0<br>",
          "Latency: 2522.00ms<br>Energy: 562825.32mV^2<br>Cluster Index: -1<br>Channel Index: 0<br>",
          "Latency: 2671.75ms<br>Energy: 613898.34mV^2<br>Cluster Index: -1<br>Channel Index: 0<br>",
          "Latency: 2720.00ms<br>Energy: 568166.64mV^2<br>Cluster Index: -1<br>Channel Index: 0<br>",
          "Latency: 2873.05ms<br>Energy: 601060.74mV^2<br>Cluster Index: -1<br>Channel Index: 0<br>",
          "Latency: 2972.20ms<br>Energy: 608131.35mV^2<br>Cluster Index: -1<br>Channel Index: 0<br>",
          "Latency: 3075.30ms<br>Energy: 634344.28mV^2<br>Cluster Index: -1<br>Channel Index: 0<br>",
          "Latency: 72.40ms<br>Energy: 648295.09mV^2<br>Cluster Index: 0<br>Channel Index: 0<br>",
          "Latency: 69.70ms<br>Energy: 486124.48mV^2<br>Cluster Index: 0<br>Channel Index: 0<br>",
          "Latency: 1370.35ms<br>Energy: 909912.72mV^2<br>Cluster Index: -1<br>Channel Index: 0<br>",
          "Latency: 3211.05ms<br>Energy: 770855.36mV^2<br>Cluster Index: -1<br>Channel Index: 0<br>",
          "Latency: 67.95ms<br>Energy: 523502.64mV^2<br>Cluster Index: 0<br>Channel Index: 0<br>",
          "Latency: 66.80ms<br>Energy: 575509.81mV^2<br>Cluster Index: 0<br>Channel Index: 0<br>",
          "Latency: 65.75ms<br>Energy: 607430.77mV^2<br>Cluster Index: 0<br>Channel Index: 0<br>",
          "Latency: 65.20ms<br>Energy: 485835.68mV^2<br>Cluster Index: 0<br>Channel Index: 0<br>",
          "Latency: 64.80ms<br>Energy: 456815.14mV^2<br>Cluster Index: 0<br>Channel Index: 0<br>",
          "Latency: 64.55ms<br>Energy: 512029.30mV^2<br>Cluster Index: 0<br>Channel Index: 0<br>",
          "Latency: 2063.70ms<br>Energy: 466543.53mV^2<br>Cluster Index: -1<br>Channel Index: 0<br>",
          "Latency: 2267.65ms<br>Energy: 546668.81mV^2<br>Cluster Index: -1<br>Channel Index: 0<br>",
          "Latency: 2468.55ms<br>Energy: 458636.38mV^2<br>Cluster Index: -1<br>Channel Index: 0<br>",
          "Latency: 2669.30ms<br>Energy: 535204.29mV^2<br>Cluster Index: -1<br>Channel Index: 0<br>",
          "Latency: 2870.55ms<br>Energy: 509425.25mV^2<br>Cluster Index: -1<br>Channel Index: 0<br>",
          "Latency: 2937.20ms<br>Energy: 621740.48mV^2<br>Cluster Index: -1<br>Channel Index: 0<br>",
          "Latency: 3073.45ms<br>Energy: 492988.18mV^2<br>Cluster Index: -1<br>Channel Index: 0<br>",
          "Latency: 72.15ms<br>Energy: 510091.93mV^2<br>Cluster Index: 0<br>Channel Index: 0<br>",
          "Latency: 147.25ms<br>Energy: 675313.92mV^2<br>Cluster Index: -1<br>Channel Index: 0<br>",
          "Latency: 67.75ms<br>Energy: 506896.04mV^2<br>Cluster Index: 0<br>Channel Index: 0<br>",
          "Latency: 115.10ms<br>Energy: 620057.64mV^2<br>Cluster Index: -1<br>Channel Index: 0<br>",
          "Latency: 66.70ms<br>Energy: 467562.40mV^2<br>Cluster Index: 0<br>Channel Index: 0<br>",
          "Latency: 66.10ms<br>Energy: 766878.93mV^2<br>Cluster Index: 0<br>Channel Index: 0<br>",
          "Latency: 65.75ms<br>Energy: 533910.34mV^2<br>Cluster Index: 0<br>Channel Index: 0<br>",
          "Latency: 65.50ms<br>Energy: 540336.78mV^2<br>Cluster Index: 0<br>Channel Index: 0<br>",
          "Latency: 2064.70ms<br>Energy: 566312.17mV^2<br>Cluster Index: -1<br>Channel Index: 0<br>",
          "Latency: 2268.70ms<br>Energy: 574727.90mV^2<br>Cluster Index: -1<br>Channel Index: 0<br>",
          "Latency: 2315.30ms<br>Energy: 587989.08mV^2<br>Cluster Index: -1<br>Channel Index: 0<br>",
          "Latency: 2472.15ms<br>Energy: 535270.85mV^2<br>Cluster Index: -1<br>Channel Index: 0<br>",
          "Latency: 2671.95ms<br>Energy: 538036.12mV^2<br>Cluster Index: -1<br>Channel Index: 0<br>",
          "Latency: 2725.35ms<br>Energy: 541620.15mV^2<br>Cluster Index: -1<br>Channel Index: 0<br>",
          "Latency: 2874.60ms<br>Energy: 596572.38mV^2<br>Cluster Index: -1<br>Channel Index: 0<br>",
          "Latency: 2948.60ms<br>Energy: 617406.48mV^2<br>Cluster Index: -1<br>Channel Index: 0<br>",
          "Latency: 3076.50ms<br>Energy: 705898.05mV^2<br>Cluster Index: -1<br>Channel Index: 0<br>",
          "Latency: 74.10ms<br>Energy: 524420.94mV^2<br>Cluster Index: 0<br>Channel Index: 0<br>",
          "Latency: 71.10ms<br>Energy: 639213.51mV^2<br>Cluster Index: 0<br>Channel Index: 0<br>",
          "Latency: 69.05ms<br>Energy: 567288.70mV^2<br>Cluster Index: 0<br>Channel Index: 0<br>",
          "Latency: 68.10ms<br>Energy: 481246.58mV^2<br>Cluster Index: 0<br>Channel Index: 0<br>",
          "Latency: 118.05ms<br>Energy: 584791.14mV^2<br>Cluster Index: -1<br>Channel Index: 0<br>",
          "Latency: 67.90ms<br>Energy: 486436.70mV^2<br>Cluster Index: 0<br>Channel Index: 0<br>",
          "Latency: 67.40ms<br>Energy: 532428.08mV^2<br>Cluster Index: 0<br>Channel Index: 0<br>",
          "Latency: 67.10ms<br>Energy: 645899.18mV^2<br>Cluster Index: 0<br>Channel Index: 0<br>",
          "Latency: 1198.55ms<br>Energy: 707723.04mV^2<br>Cluster Index: -1<br>Channel Index: 0<br>",
          "Latency: 66.70ms<br>Energy: 595745.10mV^2<br>Cluster Index: 0<br>Channel Index: 0<br>",
          "Latency: 995.00ms<br>Energy: 1001870.72mV^2<br>Cluster Index: -1<br>Channel Index: 0<br>",
          "Latency: 2566.05ms<br>Energy: 441678.03mV^2<br>Cluster Index: -1<br>Channel Index: 0<br>",
          "Latency: 2672.70ms<br>Energy: 510176.82mV^2<br>Cluster Index: -1<br>Channel Index: 0<br>",
          "Latency: 2773.95ms<br>Energy: 589361.83mV^2<br>Cluster Index: -1<br>Channel Index: 0<br>",
          "Latency: 2828.65ms<br>Energy: 556249.36mV^2<br>Cluster Index: -1<br>Channel Index: 0<br>",
          "Latency: 2878.25ms<br>Energy: 628373.02mV^2<br>Cluster Index: -1<br>Channel Index: 0<br>",
          "Latency: 2934.25ms<br>Energy: 659117.55mV^2<br>Cluster Index: -1<br>Channel Index: 0<br>",
          "Latency: 2979.55ms<br>Energy: 656473.93mV^2<br>Cluster Index: -1<br>Channel Index: 0<br>",
          "Latency: 3078.20ms<br>Energy: 583311.07mV^2<br>Cluster Index: -1<br>Channel Index: 0<br>",
          "Latency: 74.55ms<br>Energy: 581198.01mV^2<br>Cluster Index: 0<br>Channel Index: 0<br>",
          "Latency: 136.20ms<br>Energy: 504527.29mV^2<br>Cluster Index: -1<br>Channel Index: 0<br>",
          "Latency: 72.45ms<br>Energy: 695608.26mV^2<br>Cluster Index: 0<br>Channel Index: 0<br>",
          "Latency: 70.80ms<br>Energy: 594835.61mV^2<br>Cluster Index: 0<br>Channel Index: 0<br>",
          "Latency: 69.45ms<br>Energy: 655268.75mV^2<br>Cluster Index: 0<br>Channel Index: 0<br>",
          "Latency: 68.55ms<br>Energy: 521093.18mV^2<br>Cluster Index: 0<br>Channel Index: 0<br>",
          "Latency: 125.35ms<br>Energy: 599137.13mV^2<br>Cluster Index: -1<br>Channel Index: 0<br>",
          "Latency: 68.80ms<br>Energy: 732988.12mV^2<br>Cluster Index: 0<br>Channel Index: 0<br>",
          "Latency: 68.35ms<br>Energy: 551015.78mV^2<br>Cluster Index: 0<br>Channel Index: 0<br>",
          "Latency: 2567.35ms<br>Energy: 682226.84mV^2<br>Cluster Index: -1<br>Channel Index: 0<br>",
          "Latency: 2674.20ms<br>Energy: 537976.42mV^2<br>Cluster Index: -1<br>Channel Index: 0<br>",
          "Latency: 2876.55ms<br>Energy: 679146.54mV^2<br>Cluster Index: -1<br>Channel Index: 0<br>",
          "Latency: 2977.40ms<br>Energy: 479744.27mV^2<br>Cluster Index: -1<br>Channel Index: 0<br>",
          "Latency: 3078.30ms<br>Energy: 616447.73mV^2<br>Cluster Index: -1<br>Channel Index: 0<br>",
          "Latency: 3183.35ms<br>Energy: 574738.54mV^2<br>Cluster Index: -1<br>Channel Index: 0<br>",
          "Latency: 75.15ms<br>Energy: 491634.66mV^2<br>Cluster Index: 0<br>Channel Index: 0<br>",
          "Latency: 72.40ms<br>Energy: 553446.25mV^2<br>Cluster Index: 0<br>Channel Index: 0<br>",
          "Latency: 70.75ms<br>Energy: 555720.38mV^2<br>Cluster Index: 0<br>Channel Index: 0<br>",
          "Latency: 69.95ms<br>Energy: 578202.59mV^2<br>Cluster Index: 0<br>Channel Index: 0<br>",
          "Latency: 69.40ms<br>Energy: 534846.88mV^2<br>Cluster Index: 0<br>Channel Index: 0<br>",
          "Latency: 131.50ms<br>Energy: 514796.95mV^2<br>Cluster Index: -1<br>Channel Index: 0<br>",
          "Latency: 69.75ms<br>Energy: 479506.13mV^2<br>Cluster Index: 0<br>Channel Index: 0<br>",
          "Latency: 69.75ms<br>Energy: 596295.10mV^2<br>Cluster Index: 0<br>Channel Index: 0<br>",
          "Latency: 2568.55ms<br>Energy: 592483.43mV^2<br>Cluster Index: -1<br>Channel Index: 0<br>",
          "Latency: 2624.25ms<br>Energy: 606939.59mV^2<br>Cluster Index: -1<br>Channel Index: 0<br>",
          "Latency: 2679.45ms<br>Energy: 649279.04mV^2<br>Cluster Index: -1<br>Channel Index: 0<br>",
          "Latency: 2748.00ms<br>Energy: 802125.64mV^2<br>Cluster Index: -1<br>Channel Index: 0<br>",
          "Latency: 2782.15ms<br>Energy: 584429.95mV^2<br>Cluster Index: -1<br>Channel Index: 0<br>",
          "Latency: 2880.75ms<br>Energy: 642604.24mV^2<br>Cluster Index: -1<br>Channel Index: 0<br>",
          "Latency: 77.70ms<br>Energy: 513851.78mV^2<br>Cluster Index: 0<br>Channel Index: 0<br>",
          "Latency: 155.85ms<br>Energy: 640992.22mV^2<br>Cluster Index: -1<br>Channel Index: 0<br>",
          "Latency: 75.20ms<br>Energy: 467708.20mV^2<br>Cluster Index: 0<br>Channel Index: 0<br>",
          "Latency: 73.10ms<br>Energy: 683978.86mV^2<br>Cluster Index: 0<br>Channel Index: 0<br>",
          "Latency: 2660.50ms<br>Energy: 694610.17mV^2<br>Cluster Index: -1<br>Channel Index: 0<br>",
          "Latency: 72.10ms<br>Energy: 564150.14mV^2<br>Cluster Index: 0<br>Channel Index: 0<br>",
          "Latency: 137.20ms<br>Energy: 633782.42mV^2<br>Cluster Index: -1<br>Channel Index: 0<br>",
          "Latency: 1827.60ms<br>Energy: 774152.82mV^2<br>Cluster Index: -1<br>Channel Index: 0<br>",
          "Latency: 71.75ms<br>Energy: 507747.94mV^2<br>Cluster Index: 0<br>Channel Index: 0<br>",
          "Latency: 1922.55ms<br>Energy: 677887.71mV^2<br>Cluster Index: -1<br>Channel Index: 0<br>"
         ],
         "type": "scatter",
         "x": [
          0.05534999999999979,
          0.05525000000000091,
          0.05540000000000056,
          0.0555000000000021,
          0.05570000000000164,
          0.08980000000000032,
          0.055999999999997385,
          0.08749999999999858,
          0.0563500000000019,
          2.455350000000003,
          2.6586,
          2.6972000000000023,
          2.861600000000003,
          3.061399999999999,
          3.1118000000000023,
          0.061350000000004457,
          0.07235000000000014,
          0.12590000000000146,
          0.059899999999998954,
          0.0945999999999998,
          0.05915000000000248,
          0.1167999999999978,
          0.05834999999999724,
          0.08984999999999843,
          0.05850000000000222,
          0.09449999999999648,
          0.05859999999999843,
          0.6177500000000009,
          0.6738,
          0.05924999999999869,
          0.05875000000000341,
          2.457550000000005,
          2.7070500000000024,
          2.863800000000005,
          2.923949999999998,
          3.0656999999999996,
          0.06364999999999554,
          0.14534999999999343,
          0.06215000000000259,
          0.10179999999999723,
          0.06114999999999782,
          0.06029999999999802,
          0.059449999999998226,
          0.05904999999999916,
          0.05900000000001171,
          0.1468500000000006,
          2.4579499999999967,
          2.4899499999999932,
          2.6633999999999958,
          2.705849999999998,
          3.06519999999999,
          3.1105500000000035,
          0.0648999999999944,
          0.12189999999999657,
          0.06284999999999741,
          0.10000000000000853,
          0.06219999999999004,
          0.11414999999999509,
          0.06189999999999429,
          0.06094999999999118,
          0.10354999999999848,
          0.06100000000000705,
          0.06040000000000134,
          0.0601999999999947,
          0.40075000000000216,
          2.459299999999999,
          2.663049999999984,
          2.677749999999989,
          2.863800000000012,
          2.9012499999999903,
          3.0667999999999864,
          3.124900000000011,
          0.06345000000001733,
          0.061950000000024374,
          0.1377999999999986,
          0.742350000000016,
          0.061399999999991905,
          0.06110000000001037,
          0.06094999999999118,
          0.06094999999999118,
          0.06090000000000373,
          2.6599999999999966,
          2.863599999999991,
          3.0646500000000003,
          0.06299999999998818,
          0.10560000000000969,
          0.06215000000000259,
          0.061650000000014415,
          0.061599999999998545,
          0.06140000000002033,
          0.06114999999999782,
          0.061199999999985266,
          0.06110000000001037,
          2.6603000000000065,
          2.8640000000000043,
          3.0649500000000103,
          3.1204500000000053,
          0.06444999999999368,
          0.0625,
          0.10190000000000055,
          0.06239999999999668,
          0.10070000000001755,
          0.06239999999999668,
          0.0619999999999834,
          0.06184999999999263,
          0.061800000000005184,
          0.06189999999998008,
          2.060949999999991,
          2.2648499999999956,
          2.465549999999979,
          2.666550000000001,
          2.7219499999999925,
          2.8696999999999946,
          3.069349999999986,
          3.16579999999999,
          0.06909999999999172,
          0.1524000000000001,
          0.06704999999999472,
          0.06534999999999513,
          0.06430000000000291,
          0.06385000000000218,
          0.0636000000000081,
          0.10165000000000646,
          0.06385000000000218,
          0.06364999999999554,
          2.062749999999994,
          2.2664999999999793,
          2.3074000000000012,
          2.4699999999999704,
          2.5219999999999914,
          2.6717499999999745,
          2.7199999999999704,
          2.873049999999978,
          2.9721999999999866,
          3.07529999999997,
          0.07240000000001601,
          0.06970000000001164,
          1.3703500000000304,
          3.21105,
          0.06794999999999618,
          0.06680000000000064,
          0.06575000000003683,
          0.06519999999994752,
          0.06480000000004793,
          0.064549999999997,
          2.063699999999983,
          2.2676499999999464,
          2.4685499999999934,
          2.6692999999999643,
          2.87054999999998,
          2.9371999999999616,
          3.07344999999998,
          0.07215000000002192,
          0.14724999999998545,
          0.06774999999998954,
          0.11509999999998399,
          0.06670000000002574,
          0.06610000000000582,
          0.06575000000003683,
          0.06550000000004275,
          2.064700000000016,
          2.268700000000024,
          2.315300000000036,
          2.472149999999999,
          2.671950000000038,
          2.7253500000000486,
          2.8746000000000436,
          2.948599999999999,
          3.07650000000001,
          0.07409999999998718,
          0.07110000000000127,
          0.06905000000000427,
          0.06810000000001537,
          0.11804999999998245,
          0.06790000000000873,
          0.06740000000002055,
          0.06709999999998217,
          1.1985500000000116,
          0.06670000000002574,
          0.9950000000000045,
          2.5660500000000184,
          2.6727000000000203,
          2.7739500000000135,
          2.828649999999982,
          2.878250000000037,
          2.93425000000002,
          2.9795500000000175,
          3.078200000000038,
          0.0745499999999879,
          0.1361999999999739,
          0.07245000000000346,
          0.07079999999996289,
          0.06944999999996071,
          0.0685500000000161,
          0.125349999999969,
          0.06880000000001019,
          0.06835000000000946,
          2.5673499999999763,
          2.674199999999985,
          2.876550000000009,
          2.9773999999999887,
          3.078300000000013,
          3.1833500000000186,
          0.07515000000000782,
          0.07240000000001601,
          0.07074999999997544,
          0.06995000000000573,
          0.06939999999997326,
          0.13149999999995998,
          0.06974999999999909,
          0.06974999999999909,
          2.568550000000016,
          2.6242500000000177,
          2.6794499999999744,
          2.7479999999999905,
          2.7821500000000015,
          2.8807499999999777,
          0.077699999999993,
          0.15584999999998672,
          0.07519999999999527,
          0.07310000000001082,
          2.660500000000013,
          0.07210000000003447,
          0.1372000000000071,
          1.827600000000018,
          0.07175000000000864,
          1.922550000000001
         ],
         "y": [
          492602.87056603754,
          474010.2309433963,
          499170.06188679254,
          467836.5754716982,
          496150.22339622636,
          471432.3424528302,
          512735.3375471697,
          613601.5173584906,
          492185.37490566034,
          397746.6118867926,
          449923.398490566,
          558882.3252830189,
          632302.3275471698,
          421809.64924528304,
          484615.80830188683,
          513387.4790566036,
          770091.72754717,
          634300.160754717,
          574607.2905660378,
          583039.2098113208,
          536935.8771698114,
          772733.908490566,
          499366.05566037755,
          511191.00754716987,
          538189.6398113208,
          623640.4339622641,
          452541.62433962256,
          513068.00603773585,
          737274.4892452828,
          486397.34773584903,
          469377.0360377359,
          424790.8075471699,
          551189.0875471696,
          565338.2601886792,
          645416.9215094341,
          608314.6666037736,
          497039.27037735836,
          629514.27,
          455787.8243396227,
          461566.45037735836,
          515252.2166037736,
          564174.1211320753,
          471215.6926415093,
          548936.310754717,
          529612.0322641508,
          807489.6641509437,
          462680.50018867926,
          562934.5871698114,
          536345.1556603775,
          530943.1784905661,
          578029.0432075474,
          580794.3281132075,
          481556.7426415092,
          638744.8943396227,
          496744.6405660378,
          603205.6998113209,
          514981.22490566043,
          532028.4018867924,
          527321.4767924529,
          420895.71830188675,
          554906.5028301886,
          410934.3305660378,
          465572.2503773584,
          392144.14339622646,
          826713.2481132075,
          669109.5069811322,
          530225.243207547,
          813761.0420754716,
          510467.2558490564,
          585561.6037735849,
          524928.8577358491,
          598078.7366037737,
          480595.3173584905,
          484690.76584905694,
          801336.7583018872,
          805404.4526415094,
          503959.056037736,
          432732.9198113209,
          451438.09603773576,
          497801.00622641505,
          473176.9335849057,
          607463.1698113208,
          578514.5218867925,
          434268.0418867925,
          496477.2509433962,
          628698.8415094339,
          384011.82603773585,
          591116.7103773584,
          564311.9254716982,
          531566.501509434,
          459035.9683018868,
          489097.36301886785,
          631359.251509434,
          567132.9481132077,
          583210.1083018867,
          515440.2384905659,
          592861.550754717,
          516923.8309433962,
          604567.7228301887,
          576537.2541509435,
          476676.0241509433,
          609358.322264151,
          511391.1169811321,
          494654.404528302,
          411790.6683018869,
          603296.6915094341,
          494012.64716981124,
          523954.40018867934,
          655500.0962264151,
          560290.2164150944,
          505449.70169811335,
          625817.6622641509,
          579701.0324528305,
          518306.4573584906,
          613749.932264151,
          546349.6886792453,
          626833.5758490565,
          475862.1620754716,
          461851.06584905664,
          503664.36905660375,
          522420.8222641509,
          492185.0949056604,
          490577.8613207547,
          544638.319245283,
          547996.3598113209,
          553508.7956603774,
          523666.6211320754,
          623703.5741509433,
          645107.5113207548,
          562825.3198113207,
          613898.3439622641,
          568166.6416981133,
          601060.7360377357,
          608131.3511320754,
          634344.280566038,
          648295.0928301886,
          486124.48433962255,
          909912.7175471697,
          770855.3645283018,
          523502.6377358491,
          575509.8113207547,
          607430.7716981131,
          485835.68132075487,
          456815.13981132064,
          512029.3049056605,
          466543.53320754704,
          546668.8128301887,
          458636.3849056603,
          535204.2888679245,
          509425.24849056615,
          621740.4813207545,
          492988.18339622644,
          510091.9269811321,
          675313.920566038,
          506896.0371698116,
          620057.6439622642,
          467562.4037735849,
          766878.9269811317,
          533910.344528302,
          540336.7811320755,
          566312.1720754717,
          574727.8966037735,
          587989.0816981131,
          535270.8464150942,
          538036.1249056603,
          541620.1515094339,
          596572.3762264149,
          617406.4750943397,
          705898.0484905663,
          524420.9394339623,
          639213.5145283019,
          567288.6973584905,
          481246.57622641505,
          584791.1386792451,
          486436.7030188679,
          532428.0824528304,
          645899.1756603774,
          707723.0415094341,
          595745.1043396225,
          1001870.7177358491,
          441678.031698113,
          510176.82094339625,
          589361.831509434,
          556249.3562264149,
          628373.019245283,
          659117.5516981136,
          656473.9266037737,
          583311.0749056606,
          581198.0101886793,
          504527.2884905659,
          695608.2586792451,
          594835.6105660377,
          655268.7516981133,
          521093.1750943396,
          599137.1333962264,
          732988.1167924526,
          551015.7771698112,
          682226.8437735846,
          537976.4190566037,
          679146.5356603774,
          479744.26622641506,
          616447.729056604,
          574738.543207547,
          491634.66377358505,
          553446.2501886794,
          555720.3839622643,
          578202.5881132077,
          534846.8781132076,
          514796.94943396206,
          479506.1296226415,
          596295.0952830189,
          592483.4250943398,
          606939.5879245283,
          649279.0367924528,
          802125.6424528302,
          584429.9496226417,
          642604.2405660376,
          513851.7809433962,
          640992.2156603775,
          467708.2037735847,
          683978.8620754719,
          694610.1709433962,
          564150.136981132,
          633782.4237735851,
          774152.8237735848,
          507747.9411320754,
          677887.713018868
         ]
        }
       ],
       "layout": {
        "height": 600,
        "template": {
         "data": {
          "bar": [
           {
            "error_x": {
             "color": "#2a3f5f"
            },
            "error_y": {
             "color": "#2a3f5f"
            },
            "marker": {
             "line": {
              "color": "#E5ECF6",
              "width": 0.5
             }
            },
            "type": "bar"
           }
          ],
          "barpolar": [
           {
            "marker": {
             "line": {
              "color": "#E5ECF6",
              "width": 0.5
             }
            },
            "type": "barpolar"
           }
          ],
          "carpet": [
           {
            "aaxis": {
             "endlinecolor": "#2a3f5f",
             "gridcolor": "white",
             "linecolor": "white",
             "minorgridcolor": "white",
             "startlinecolor": "#2a3f5f"
            },
            "baxis": {
             "endlinecolor": "#2a3f5f",
             "gridcolor": "white",
             "linecolor": "white",
             "minorgridcolor": "white",
             "startlinecolor": "#2a3f5f"
            },
            "type": "carpet"
           }
          ],
          "choropleth": [
           {
            "colorbar": {
             "outlinewidth": 0,
             "ticks": ""
            },
            "type": "choropleth"
           }
          ],
          "contour": [
           {
            "colorbar": {
             "outlinewidth": 0,
             "ticks": ""
            },
            "colorscale": [
             [
              0,
              "#0d0887"
             ],
             [
              0.1111111111111111,
              "#46039f"
             ],
             [
              0.2222222222222222,
              "#7201a8"
             ],
             [
              0.3333333333333333,
              "#9c179e"
             ],
             [
              0.4444444444444444,
              "#bd3786"
             ],
             [
              0.5555555555555556,
              "#d8576b"
             ],
             [
              0.6666666666666666,
              "#ed7953"
             ],
             [
              0.7777777777777778,
              "#fb9f3a"
             ],
             [
              0.8888888888888888,
              "#fdca26"
             ],
             [
              1,
              "#f0f921"
             ]
            ],
            "type": "contour"
           }
          ],
          "contourcarpet": [
           {
            "colorbar": {
             "outlinewidth": 0,
             "ticks": ""
            },
            "type": "contourcarpet"
           }
          ],
          "heatmap": [
           {
            "colorbar": {
             "outlinewidth": 0,
             "ticks": ""
            },
            "colorscale": [
             [
              0,
              "#0d0887"
             ],
             [
              0.1111111111111111,
              "#46039f"
             ],
             [
              0.2222222222222222,
              "#7201a8"
             ],
             [
              0.3333333333333333,
              "#9c179e"
             ],
             [
              0.4444444444444444,
              "#bd3786"
             ],
             [
              0.5555555555555556,
              "#d8576b"
             ],
             [
              0.6666666666666666,
              "#ed7953"
             ],
             [
              0.7777777777777778,
              "#fb9f3a"
             ],
             [
              0.8888888888888888,
              "#fdca26"
             ],
             [
              1,
              "#f0f921"
             ]
            ],
            "type": "heatmap"
           }
          ],
          "heatmapgl": [
           {
            "colorbar": {
             "outlinewidth": 0,
             "ticks": ""
            },
            "colorscale": [
             [
              0,
              "#0d0887"
             ],
             [
              0.1111111111111111,
              "#46039f"
             ],
             [
              0.2222222222222222,
              "#7201a8"
             ],
             [
              0.3333333333333333,
              "#9c179e"
             ],
             [
              0.4444444444444444,
              "#bd3786"
             ],
             [
              0.5555555555555556,
              "#d8576b"
             ],
             [
              0.6666666666666666,
              "#ed7953"
             ],
             [
              0.7777777777777778,
              "#fb9f3a"
             ],
             [
              0.8888888888888888,
              "#fdca26"
             ],
             [
              1,
              "#f0f921"
             ]
            ],
            "type": "heatmapgl"
           }
          ],
          "histogram": [
           {
            "marker": {
             "colorbar": {
              "outlinewidth": 0,
              "ticks": ""
             }
            },
            "type": "histogram"
           }
          ],
          "histogram2d": [
           {
            "colorbar": {
             "outlinewidth": 0,
             "ticks": ""
            },
            "colorscale": [
             [
              0,
              "#0d0887"
             ],
             [
              0.1111111111111111,
              "#46039f"
             ],
             [
              0.2222222222222222,
              "#7201a8"
             ],
             [
              0.3333333333333333,
              "#9c179e"
             ],
             [
              0.4444444444444444,
              "#bd3786"
             ],
             [
              0.5555555555555556,
              "#d8576b"
             ],
             [
              0.6666666666666666,
              "#ed7953"
             ],
             [
              0.7777777777777778,
              "#fb9f3a"
             ],
             [
              0.8888888888888888,
              "#fdca26"
             ],
             [
              1,
              "#f0f921"
             ]
            ],
            "type": "histogram2d"
           }
          ],
          "histogram2dcontour": [
           {
            "colorbar": {
             "outlinewidth": 0,
             "ticks": ""
            },
            "colorscale": [
             [
              0,
              "#0d0887"
             ],
             [
              0.1111111111111111,
              "#46039f"
             ],
             [
              0.2222222222222222,
              "#7201a8"
             ],
             [
              0.3333333333333333,
              "#9c179e"
             ],
             [
              0.4444444444444444,
              "#bd3786"
             ],
             [
              0.5555555555555556,
              "#d8576b"
             ],
             [
              0.6666666666666666,
              "#ed7953"
             ],
             [
              0.7777777777777778,
              "#fb9f3a"
             ],
             [
              0.8888888888888888,
              "#fdca26"
             ],
             [
              1,
              "#f0f921"
             ]
            ],
            "type": "histogram2dcontour"
           }
          ],
          "mesh3d": [
           {
            "colorbar": {
             "outlinewidth": 0,
             "ticks": ""
            },
            "type": "mesh3d"
           }
          ],
          "parcoords": [
           {
            "line": {
             "colorbar": {
              "outlinewidth": 0,
              "ticks": ""
             }
            },
            "type": "parcoords"
           }
          ],
          "pie": [
           {
            "automargin": true,
            "type": "pie"
           }
          ],
          "scatter": [
           {
            "marker": {
             "colorbar": {
              "outlinewidth": 0,
              "ticks": ""
             }
            },
            "type": "scatter"
           }
          ],
          "scatter3d": [
           {
            "line": {
             "colorbar": {
              "outlinewidth": 0,
              "ticks": ""
             }
            },
            "marker": {
             "colorbar": {
              "outlinewidth": 0,
              "ticks": ""
             }
            },
            "type": "scatter3d"
           }
          ],
          "scattercarpet": [
           {
            "marker": {
             "colorbar": {
              "outlinewidth": 0,
              "ticks": ""
             }
            },
            "type": "scattercarpet"
           }
          ],
          "scattergeo": [
           {
            "marker": {
             "colorbar": {
              "outlinewidth": 0,
              "ticks": ""
             }
            },
            "type": "scattergeo"
           }
          ],
          "scattergl": [
           {
            "marker": {
             "colorbar": {
              "outlinewidth": 0,
              "ticks": ""
             }
            },
            "type": "scattergl"
           }
          ],
          "scattermapbox": [
           {
            "marker": {
             "colorbar": {
              "outlinewidth": 0,
              "ticks": ""
             }
            },
            "type": "scattermapbox"
           }
          ],
          "scatterpolar": [
           {
            "marker": {
             "colorbar": {
              "outlinewidth": 0,
              "ticks": ""
             }
            },
            "type": "scatterpolar"
           }
          ],
          "scatterpolargl": [
           {
            "marker": {
             "colorbar": {
              "outlinewidth": 0,
              "ticks": ""
             }
            },
            "type": "scatterpolargl"
           }
          ],
          "scatterternary": [
           {
            "marker": {
             "colorbar": {
              "outlinewidth": 0,
              "ticks": ""
             }
            },
            "type": "scatterternary"
           }
          ],
          "surface": [
           {
            "colorbar": {
             "outlinewidth": 0,
             "ticks": ""
            },
            "colorscale": [
             [
              0,
              "#0d0887"
             ],
             [
              0.1111111111111111,
              "#46039f"
             ],
             [
              0.2222222222222222,
              "#7201a8"
             ],
             [
              0.3333333333333333,
              "#9c179e"
             ],
             [
              0.4444444444444444,
              "#bd3786"
             ],
             [
              0.5555555555555556,
              "#d8576b"
             ],
             [
              0.6666666666666666,
              "#ed7953"
             ],
             [
              0.7777777777777778,
              "#fb9f3a"
             ],
             [
              0.8888888888888888,
              "#fdca26"
             ],
             [
              1,
              "#f0f921"
             ]
            ],
            "type": "surface"
           }
          ],
          "table": [
           {
            "cells": {
             "fill": {
              "color": "#EBF0F8"
             },
             "line": {
              "color": "white"
             }
            },
            "header": {
             "fill": {
              "color": "#C8D4E3"
             },
             "line": {
              "color": "white"
             }
            },
            "type": "table"
           }
          ]
         },
         "layout": {
          "annotationdefaults": {
           "arrowcolor": "#2a3f5f",
           "arrowhead": 0,
           "arrowwidth": 1
          },
          "coloraxis": {
           "colorbar": {
            "outlinewidth": 0,
            "ticks": ""
           }
          },
          "colorscale": {
           "diverging": [
            [
             0,
             "#8e0152"
            ],
            [
             0.1,
             "#c51b7d"
            ],
            [
             0.2,
             "#de77ae"
            ],
            [
             0.3,
             "#f1b6da"
            ],
            [
             0.4,
             "#fde0ef"
            ],
            [
             0.5,
             "#f7f7f7"
            ],
            [
             0.6,
             "#e6f5d0"
            ],
            [
             0.7,
             "#b8e186"
            ],
            [
             0.8,
             "#7fbc41"
            ],
            [
             0.9,
             "#4d9221"
            ],
            [
             1,
             "#276419"
            ]
           ],
           "sequential": [
            [
             0,
             "#0d0887"
            ],
            [
             0.1111111111111111,
             "#46039f"
            ],
            [
             0.2222222222222222,
             "#7201a8"
            ],
            [
             0.3333333333333333,
             "#9c179e"
            ],
            [
             0.4444444444444444,
             "#bd3786"
            ],
            [
             0.5555555555555556,
             "#d8576b"
            ],
            [
             0.6666666666666666,
             "#ed7953"
            ],
            [
             0.7777777777777778,
             "#fb9f3a"
            ],
            [
             0.8888888888888888,
             "#fdca26"
            ],
            [
             1,
             "#f0f921"
            ]
           ],
           "sequentialminus": [
            [
             0,
             "#0d0887"
            ],
            [
             0.1111111111111111,
             "#46039f"
            ],
            [
             0.2222222222222222,
             "#7201a8"
            ],
            [
             0.3333333333333333,
             "#9c179e"
            ],
            [
             0.4444444444444444,
             "#bd3786"
            ],
            [
             0.5555555555555556,
             "#d8576b"
            ],
            [
             0.6666666666666666,
             "#ed7953"
            ],
            [
             0.7777777777777778,
             "#fb9f3a"
            ],
            [
             0.8888888888888888,
             "#fdca26"
            ],
            [
             1,
             "#f0f921"
            ]
           ]
          },
          "colorway": [
           "#636efa",
           "#EF553B",
           "#00cc96",
           "#ab63fa",
           "#FFA15A",
           "#19d3f3",
           "#FF6692",
           "#B6E880",
           "#FF97FF",
           "#FECB52"
          ],
          "font": {
           "color": "#2a3f5f"
          },
          "geo": {
           "bgcolor": "white",
           "lakecolor": "white",
           "landcolor": "#E5ECF6",
           "showlakes": true,
           "showland": true,
           "subunitcolor": "white"
          },
          "hoverlabel": {
           "align": "left"
          },
          "hovermode": "closest",
          "mapbox": {
           "style": "light"
          },
          "paper_bgcolor": "white",
          "plot_bgcolor": "#E5ECF6",
          "polar": {
           "angularaxis": {
            "gridcolor": "white",
            "linecolor": "white",
            "ticks": ""
           },
           "bgcolor": "#E5ECF6",
           "radialaxis": {
            "gridcolor": "white",
            "linecolor": "white",
            "ticks": ""
           }
          },
          "scene": {
           "xaxis": {
            "backgroundcolor": "#E5ECF6",
            "gridcolor": "white",
            "gridwidth": 2,
            "linecolor": "white",
            "showbackground": true,
            "ticks": "",
            "zerolinecolor": "white"
           },
           "yaxis": {
            "backgroundcolor": "#E5ECF6",
            "gridcolor": "white",
            "gridwidth": 2,
            "linecolor": "white",
            "showbackground": true,
            "ticks": "",
            "zerolinecolor": "white"
           },
           "zaxis": {
            "backgroundcolor": "#E5ECF6",
            "gridcolor": "white",
            "gridwidth": 2,
            "linecolor": "white",
            "showbackground": true,
            "ticks": "",
            "zerolinecolor": "white"
           }
          },
          "shapedefaults": {
           "line": {
            "color": "#2a3f5f"
           }
          },
          "ternary": {
           "aaxis": {
            "gridcolor": "white",
            "linecolor": "white",
            "ticks": ""
           },
           "baxis": {
            "gridcolor": "white",
            "linecolor": "white",
            "ticks": ""
           },
           "bgcolor": "#E5ECF6",
           "caxis": {
            "gridcolor": "white",
            "linecolor": "white",
            "ticks": ""
           }
          },
          "title": {
           "x": 0.05
          },
          "xaxis": {
           "automargin": true,
           "gridcolor": "white",
           "linecolor": "white",
           "ticks": "",
           "title": {
            "standoff": 15
           },
           "zerolinecolor": "white",
           "zerolinewidth": 2
          },
          "yaxis": {
           "automargin": true,
           "gridcolor": "white",
           "linecolor": "white",
           "ticks": "",
           "title": {
            "standoff": 15
           },
           "zerolinecolor": "white",
           "zerolinewidth": 2
          }
         }
        },
        "width": 1000,
        "xaxis": {
         "title": {
          "text": "Distance to previous regular stimulus (s)"
         }
        },
        "yaxis": {
         "title": {
          "text": "Normalized signal energy (mV^2)"
         }
        }
       }
      },
      "text/html": [
       "<div>\n",
       "        \n",
       "        \n",
       "            <div id=\"23c8daee-ebf5-4f39-a113-f5ec3d18916d\" class=\"plotly-graph-div\" style=\"height:600px; width:1000px;\"></div>\n",
       "            <script type=\"text/javascript\">\n",
       "                require([\"plotly\"], function(Plotly) {\n",
       "                    window.PLOTLYENV=window.PLOTLYENV || {};\n",
       "                    \n",
       "                if (document.getElementById(\"23c8daee-ebf5-4f39-a113-f5ec3d18916d\")) {\n",
       "                    Plotly.newPlot(\n",
       "                        '23c8daee-ebf5-4f39-a113-f5ec3d18916d',\n",
       "                        [{\"hovertemplate\": \"%{text}\", \"marker\": {\"color\": [\"blue\", \"blue\", \"blue\", \"blue\", \"blue\", \"black\", \"blue\", \"black\", \"blue\", \"black\", \"black\", \"black\", \"black\", \"black\", \"black\", \"blue\", \"blue\", \"black\", \"blue\", \"black\", \"blue\", \"black\", \"blue\", \"black\", \"blue\", \"black\", \"blue\", \"black\", \"black\", \"blue\", \"blue\", \"black\", \"black\", \"black\", \"black\", \"black\", \"blue\", \"black\", \"blue\", \"black\", \"blue\", \"blue\", \"blue\", \"blue\", \"blue\", \"black\", \"black\", \"black\", \"black\", \"black\", \"black\", \"black\", \"blue\", \"black\", \"blue\", \"black\", \"blue\", \"black\", \"blue\", \"blue\", \"black\", \"blue\", \"blue\", \"blue\", \"black\", \"black\", \"black\", \"black\", \"black\", \"black\", \"black\", \"black\", \"blue\", \"blue\", \"black\", \"black\", \"blue\", \"blue\", \"blue\", \"blue\", \"blue\", \"black\", \"black\", \"black\", \"blue\", \"black\", \"blue\", \"blue\", \"blue\", \"blue\", \"blue\", \"blue\", \"blue\", \"black\", \"black\", \"black\", \"black\", \"blue\", \"blue\", \"black\", \"blue\", \"black\", \"blue\", \"blue\", \"blue\", \"blue\", \"blue\", \"black\", \"black\", \"black\", \"black\", \"black\", \"black\", \"black\", \"black\", \"blue\", \"black\", \"blue\", \"blue\", \"blue\", \"blue\", \"blue\", \"black\", \"blue\", \"blue\", \"black\", \"black\", \"black\", \"black\", \"black\", \"black\", \"black\", \"black\", \"black\", \"black\", \"blue\", \"blue\", \"black\", \"black\", \"blue\", \"blue\", \"blue\", \"blue\", \"blue\", \"blue\", \"black\", \"black\", \"black\", \"black\", \"black\", \"black\", \"black\", \"blue\", \"black\", \"blue\", \"black\", \"blue\", \"blue\", \"blue\", \"blue\", \"black\", \"black\", \"black\", \"black\", \"black\", \"black\", \"black\", \"black\", \"black\", \"blue\", \"blue\", \"blue\", \"blue\", \"black\", \"blue\", \"blue\", \"blue\", \"black\", \"blue\", \"black\", \"black\", \"black\", \"black\", \"black\", \"black\", \"black\", \"black\", \"black\", \"blue\", \"black\", \"blue\", \"blue\", \"blue\", \"blue\", \"black\", \"blue\", \"blue\", \"black\", \"black\", \"black\", \"black\", \"black\", \"black\", \"blue\", \"blue\", \"blue\", \"blue\", \"blue\", \"black\", \"blue\", \"blue\", \"black\", \"black\", \"black\", \"black\", \"black\", \"black\", \"blue\", \"black\", \"blue\", \"blue\", \"black\", \"blue\", \"black\", \"black\", \"blue\", \"black\"], \"symbol\": [0, 0, 0, 0, 0, 0, 0, 0, 0, 0, 0, 0, 0, 0, 0, 0, 0, 0, 0, 0, 0, 0, 0, 0, 0, 0, 0, 0, 0, 0, 0, 0, 0, 0, 0, 0, 0, 0, 0, 0, 0, 0, 0, 0, 0, 0, 0, 0, 0, 0, 0, 0, 0, 0, 0, 0, 0, 0, 0, 0, 0, 0, 0, 0, 0, 0, 0, 0, 0, 0, 0, 0, 0, 0, 0, 0, 0, 0, 0, 0, 0, 0, 0, 0, 0, 0, 0, 0, 0, 0, 0, 0, 0, 0, 0, 0, 0, 0, 0, 0, 0, 0, 0, 0, 0, 0, 0, 0, 0, 0, 0, 0, 0, 0, 0, 0, 0, 0, 0, 0, 0, 0, 0, 0, 0, 0, 0, 0, 0, 0, 0, 0, 0, 0, 0, 0, 0, 0, 0, 0, 0, 0, 0, 0, 0, 0, 0, 0, 0, 0, 0, 0, 0, 0, 0, 0, 0, 0, 0, 0, 0, 0, 0, 0, 0, 0, 0, 0, 0, 0, 0, 0, 0, 0, 0, 0, 0, 0, 0, 0, 0, 0, 0, 0, 0, 0, 0, 0, 0, 0, 0, 0, 0, 0, 0, 0, 0, 0, 0, 0, 0, 0, 0, 0, 0, 0, 0, 0, 0, 0, 0, 0, 0, 0, 0, 0, 0, 0, 0, 0, 0, 0, 0, 0, 0, 0, 0]}, \"mode\": \"markers\", \"text\": [\"Latency: 55.35ms<br>Energy: 492602.87mV^2<br>Cluster Index: 0<br>Channel Index: 0<br>\", \"Latency: 55.25ms<br>Energy: 474010.23mV^2<br>Cluster Index: 0<br>Channel Index: 0<br>\", \"Latency: 55.40ms<br>Energy: 499170.06mV^2<br>Cluster Index: 0<br>Channel Index: 0<br>\", \"Latency: 55.50ms<br>Energy: 467836.58mV^2<br>Cluster Index: 0<br>Channel Index: 0<br>\", \"Latency: 55.70ms<br>Energy: 496150.22mV^2<br>Cluster Index: 0<br>Channel Index: 0<br>\", \"Latency: 89.80ms<br>Energy: 471432.34mV^2<br>Cluster Index: -1<br>Channel Index: 0<br>\", \"Latency: 56.00ms<br>Energy: 512735.34mV^2<br>Cluster Index: 0<br>Channel Index: 0<br>\", \"Latency: 87.50ms<br>Energy: 613601.52mV^2<br>Cluster Index: -1<br>Channel Index: 0<br>\", \"Latency: 56.35ms<br>Energy: 492185.37mV^2<br>Cluster Index: 0<br>Channel Index: 0<br>\", \"Latency: 2455.35ms<br>Energy: 397746.61mV^2<br>Cluster Index: -1<br>Channel Index: 0<br>\", \"Latency: 2658.60ms<br>Energy: 449923.40mV^2<br>Cluster Index: -1<br>Channel Index: 0<br>\", \"Latency: 2697.20ms<br>Energy: 558882.33mV^2<br>Cluster Index: -1<br>Channel Index: 0<br>\", \"Latency: 2861.60ms<br>Energy: 632302.33mV^2<br>Cluster Index: -1<br>Channel Index: 0<br>\", \"Latency: 3061.40ms<br>Energy: 421809.65mV^2<br>Cluster Index: -1<br>Channel Index: 0<br>\", \"Latency: 3111.80ms<br>Energy: 484615.81mV^2<br>Cluster Index: -1<br>Channel Index: 0<br>\", \"Latency: 61.35ms<br>Energy: 513387.48mV^2<br>Cluster Index: 0<br>Channel Index: 0<br>\", \"Latency: 72.35ms<br>Energy: 770091.73mV^2<br>Cluster Index: 0<br>Channel Index: 0<br>\", \"Latency: 125.90ms<br>Energy: 634300.16mV^2<br>Cluster Index: -1<br>Channel Index: 0<br>\", \"Latency: 59.90ms<br>Energy: 574607.29mV^2<br>Cluster Index: 0<br>Channel Index: 0<br>\", \"Latency: 94.60ms<br>Energy: 583039.21mV^2<br>Cluster Index: -1<br>Channel Index: 0<br>\", \"Latency: 59.15ms<br>Energy: 536935.88mV^2<br>Cluster Index: 0<br>Channel Index: 0<br>\", \"Latency: 116.80ms<br>Energy: 772733.91mV^2<br>Cluster Index: -1<br>Channel Index: 0<br>\", \"Latency: 58.35ms<br>Energy: 499366.06mV^2<br>Cluster Index: 0<br>Channel Index: 0<br>\", \"Latency: 89.85ms<br>Energy: 511191.01mV^2<br>Cluster Index: -1<br>Channel Index: 0<br>\", \"Latency: 58.50ms<br>Energy: 538189.64mV^2<br>Cluster Index: 0<br>Channel Index: 0<br>\", \"Latency: 94.50ms<br>Energy: 623640.43mV^2<br>Cluster Index: -1<br>Channel Index: 0<br>\", \"Latency: 58.60ms<br>Energy: 452541.62mV^2<br>Cluster Index: 0<br>Channel Index: 0<br>\", \"Latency: 617.75ms<br>Energy: 513068.01mV^2<br>Cluster Index: -1<br>Channel Index: 0<br>\", \"Latency: 673.80ms<br>Energy: 737274.49mV^2<br>Cluster Index: -1<br>Channel Index: 0<br>\", \"Latency: 59.25ms<br>Energy: 486397.35mV^2<br>Cluster Index: 0<br>Channel Index: 0<br>\", \"Latency: 58.75ms<br>Energy: 469377.04mV^2<br>Cluster Index: 0<br>Channel Index: 0<br>\", \"Latency: 2457.55ms<br>Energy: 424790.81mV^2<br>Cluster Index: -1<br>Channel Index: 0<br>\", \"Latency: 2707.05ms<br>Energy: 551189.09mV^2<br>Cluster Index: -1<br>Channel Index: 0<br>\", \"Latency: 2863.80ms<br>Energy: 565338.26mV^2<br>Cluster Index: -1<br>Channel Index: 0<br>\", \"Latency: 2923.95ms<br>Energy: 645416.92mV^2<br>Cluster Index: -1<br>Channel Index: 0<br>\", \"Latency: 3065.70ms<br>Energy: 608314.67mV^2<br>Cluster Index: -1<br>Channel Index: 0<br>\", \"Latency: 63.65ms<br>Energy: 497039.27mV^2<br>Cluster Index: 0<br>Channel Index: 0<br>\", \"Latency: 145.35ms<br>Energy: 629514.27mV^2<br>Cluster Index: -1<br>Channel Index: 0<br>\", \"Latency: 62.15ms<br>Energy: 455787.82mV^2<br>Cluster Index: 0<br>Channel Index: 0<br>\", \"Latency: 101.80ms<br>Energy: 461566.45mV^2<br>Cluster Index: -1<br>Channel Index: 0<br>\", \"Latency: 61.15ms<br>Energy: 515252.22mV^2<br>Cluster Index: 0<br>Channel Index: 0<br>\", \"Latency: 60.30ms<br>Energy: 564174.12mV^2<br>Cluster Index: 0<br>Channel Index: 0<br>\", \"Latency: 59.45ms<br>Energy: 471215.69mV^2<br>Cluster Index: 0<br>Channel Index: 0<br>\", \"Latency: 59.05ms<br>Energy: 548936.31mV^2<br>Cluster Index: 0<br>Channel Index: 0<br>\", \"Latency: 59.00ms<br>Energy: 529612.03mV^2<br>Cluster Index: 0<br>Channel Index: 0<br>\", \"Latency: 146.85ms<br>Energy: 807489.66mV^2<br>Cluster Index: -1<br>Channel Index: 0<br>\", \"Latency: 2457.95ms<br>Energy: 462680.50mV^2<br>Cluster Index: -1<br>Channel Index: 0<br>\", \"Latency: 2489.95ms<br>Energy: 562934.59mV^2<br>Cluster Index: -1<br>Channel Index: 0<br>\", \"Latency: 2663.40ms<br>Energy: 536345.16mV^2<br>Cluster Index: -1<br>Channel Index: 0<br>\", \"Latency: 2705.85ms<br>Energy: 530943.18mV^2<br>Cluster Index: -1<br>Channel Index: 0<br>\", \"Latency: 3065.20ms<br>Energy: 578029.04mV^2<br>Cluster Index: -1<br>Channel Index: 0<br>\", \"Latency: 3110.55ms<br>Energy: 580794.33mV^2<br>Cluster Index: -1<br>Channel Index: 0<br>\", \"Latency: 64.90ms<br>Energy: 481556.74mV^2<br>Cluster Index: 0<br>Channel Index: 0<br>\", \"Latency: 121.90ms<br>Energy: 638744.89mV^2<br>Cluster Index: -1<br>Channel Index: 0<br>\", \"Latency: 62.85ms<br>Energy: 496744.64mV^2<br>Cluster Index: 0<br>Channel Index: 0<br>\", \"Latency: 100.00ms<br>Energy: 603205.70mV^2<br>Cluster Index: -1<br>Channel Index: 0<br>\", \"Latency: 62.20ms<br>Energy: 514981.22mV^2<br>Cluster Index: 0<br>Channel Index: 0<br>\", \"Latency: 114.15ms<br>Energy: 532028.40mV^2<br>Cluster Index: -1<br>Channel Index: 0<br>\", \"Latency: 61.90ms<br>Energy: 527321.48mV^2<br>Cluster Index: 0<br>Channel Index: 0<br>\", \"Latency: 60.95ms<br>Energy: 420895.72mV^2<br>Cluster Index: 0<br>Channel Index: 0<br>\", \"Latency: 103.55ms<br>Energy: 554906.50mV^2<br>Cluster Index: -1<br>Channel Index: 0<br>\", \"Latency: 61.00ms<br>Energy: 410934.33mV^2<br>Cluster Index: 0<br>Channel Index: 0<br>\", \"Latency: 60.40ms<br>Energy: 465572.25mV^2<br>Cluster Index: 0<br>Channel Index: 0<br>\", \"Latency: 60.20ms<br>Energy: 392144.14mV^2<br>Cluster Index: 0<br>Channel Index: 0<br>\", \"Latency: 400.75ms<br>Energy: 826713.25mV^2<br>Cluster Index: -1<br>Channel Index: 0<br>\", \"Latency: 2459.30ms<br>Energy: 669109.51mV^2<br>Cluster Index: -1<br>Channel Index: 0<br>\", \"Latency: 2663.05ms<br>Energy: 530225.24mV^2<br>Cluster Index: -1<br>Channel Index: 0<br>\", \"Latency: 2677.75ms<br>Energy: 813761.04mV^2<br>Cluster Index: -1<br>Channel Index: 0<br>\", \"Latency: 2863.80ms<br>Energy: 510467.26mV^2<br>Cluster Index: -1<br>Channel Index: 0<br>\", \"Latency: 2901.25ms<br>Energy: 585561.60mV^2<br>Cluster Index: -1<br>Channel Index: 0<br>\", \"Latency: 3066.80ms<br>Energy: 524928.86mV^2<br>Cluster Index: -1<br>Channel Index: 0<br>\", \"Latency: 3124.90ms<br>Energy: 598078.74mV^2<br>Cluster Index: -1<br>Channel Index: 0<br>\", \"Latency: 63.45ms<br>Energy: 480595.32mV^2<br>Cluster Index: 0<br>Channel Index: 0<br>\", \"Latency: 61.95ms<br>Energy: 484690.77mV^2<br>Cluster Index: 0<br>Channel Index: 0<br>\", \"Latency: 137.80ms<br>Energy: 801336.76mV^2<br>Cluster Index: -1<br>Channel Index: 0<br>\", \"Latency: 742.35ms<br>Energy: 805404.45mV^2<br>Cluster Index: -1<br>Channel Index: 0<br>\", \"Latency: 61.40ms<br>Energy: 503959.06mV^2<br>Cluster Index: 0<br>Channel Index: 0<br>\", \"Latency: 61.10ms<br>Energy: 432732.92mV^2<br>Cluster Index: 0<br>Channel Index: 0<br>\", \"Latency: 60.95ms<br>Energy: 451438.10mV^2<br>Cluster Index: 0<br>Channel Index: 0<br>\", \"Latency: 60.95ms<br>Energy: 497801.01mV^2<br>Cluster Index: 0<br>Channel Index: 0<br>\", \"Latency: 60.90ms<br>Energy: 473176.93mV^2<br>Cluster Index: 0<br>Channel Index: 0<br>\", \"Latency: 2660.00ms<br>Energy: 607463.17mV^2<br>Cluster Index: -1<br>Channel Index: 0<br>\", \"Latency: 2863.60ms<br>Energy: 578514.52mV^2<br>Cluster Index: -1<br>Channel Index: 0<br>\", \"Latency: 3064.65ms<br>Energy: 434268.04mV^2<br>Cluster Index: -1<br>Channel Index: 0<br>\", \"Latency: 63.00ms<br>Energy: 496477.25mV^2<br>Cluster Index: 0<br>Channel Index: 0<br>\", \"Latency: 105.60ms<br>Energy: 628698.84mV^2<br>Cluster Index: -1<br>Channel Index: 0<br>\", \"Latency: 62.15ms<br>Energy: 384011.83mV^2<br>Cluster Index: 0<br>Channel Index: 0<br>\", \"Latency: 61.65ms<br>Energy: 591116.71mV^2<br>Cluster Index: 0<br>Channel Index: 0<br>\", \"Latency: 61.60ms<br>Energy: 564311.93mV^2<br>Cluster Index: 0<br>Channel Index: 0<br>\", \"Latency: 61.40ms<br>Energy: 531566.50mV^2<br>Cluster Index: 0<br>Channel Index: 0<br>\", \"Latency: 61.15ms<br>Energy: 459035.97mV^2<br>Cluster Index: 0<br>Channel Index: 0<br>\", \"Latency: 61.20ms<br>Energy: 489097.36mV^2<br>Cluster Index: 0<br>Channel Index: 0<br>\", \"Latency: 61.10ms<br>Energy: 631359.25mV^2<br>Cluster Index: 0<br>Channel Index: 0<br>\", \"Latency: 2660.30ms<br>Energy: 567132.95mV^2<br>Cluster Index: -1<br>Channel Index: 0<br>\", \"Latency: 2864.00ms<br>Energy: 583210.11mV^2<br>Cluster Index: -1<br>Channel Index: 0<br>\", \"Latency: 3064.95ms<br>Energy: 515440.24mV^2<br>Cluster Index: -1<br>Channel Index: 0<br>\", \"Latency: 3120.45ms<br>Energy: 592861.55mV^2<br>Cluster Index: -1<br>Channel Index: 0<br>\", \"Latency: 64.45ms<br>Energy: 516923.83mV^2<br>Cluster Index: 0<br>Channel Index: 0<br>\", \"Latency: 62.50ms<br>Energy: 604567.72mV^2<br>Cluster Index: 0<br>Channel Index: 0<br>\", \"Latency: 101.90ms<br>Energy: 576537.25mV^2<br>Cluster Index: -1<br>Channel Index: 0<br>\", \"Latency: 62.40ms<br>Energy: 476676.02mV^2<br>Cluster Index: 0<br>Channel Index: 0<br>\", \"Latency: 100.70ms<br>Energy: 609358.32mV^2<br>Cluster Index: -1<br>Channel Index: 0<br>\", \"Latency: 62.40ms<br>Energy: 511391.12mV^2<br>Cluster Index: 0<br>Channel Index: 0<br>\", \"Latency: 62.00ms<br>Energy: 494654.40mV^2<br>Cluster Index: 0<br>Channel Index: 0<br>\", \"Latency: 61.85ms<br>Energy: 411790.67mV^2<br>Cluster Index: 0<br>Channel Index: 0<br>\", \"Latency: 61.80ms<br>Energy: 603296.69mV^2<br>Cluster Index: 0<br>Channel Index: 0<br>\", \"Latency: 61.90ms<br>Energy: 494012.65mV^2<br>Cluster Index: 0<br>Channel Index: 0<br>\", \"Latency: 2060.95ms<br>Energy: 523954.40mV^2<br>Cluster Index: -1<br>Channel Index: 0<br>\", \"Latency: 2264.85ms<br>Energy: 655500.10mV^2<br>Cluster Index: -1<br>Channel Index: 0<br>\", \"Latency: 2465.55ms<br>Energy: 560290.22mV^2<br>Cluster Index: -1<br>Channel Index: 0<br>\", \"Latency: 2666.55ms<br>Energy: 505449.70mV^2<br>Cluster Index: -1<br>Channel Index: 0<br>\", \"Latency: 2721.95ms<br>Energy: 625817.66mV^2<br>Cluster Index: -1<br>Channel Index: 0<br>\", \"Latency: 2869.70ms<br>Energy: 579701.03mV^2<br>Cluster Index: -1<br>Channel Index: 0<br>\", \"Latency: 3069.35ms<br>Energy: 518306.46mV^2<br>Cluster Index: -1<br>Channel Index: 0<br>\", \"Latency: 3165.80ms<br>Energy: 613749.93mV^2<br>Cluster Index: -1<br>Channel Index: 0<br>\", \"Latency: 69.10ms<br>Energy: 546349.69mV^2<br>Cluster Index: 0<br>Channel Index: 0<br>\", \"Latency: 152.40ms<br>Energy: 626833.58mV^2<br>Cluster Index: -1<br>Channel Index: 0<br>\", \"Latency: 67.05ms<br>Energy: 475862.16mV^2<br>Cluster Index: 0<br>Channel Index: 0<br>\", \"Latency: 65.35ms<br>Energy: 461851.07mV^2<br>Cluster Index: 0<br>Channel Index: 0<br>\", \"Latency: 64.30ms<br>Energy: 503664.37mV^2<br>Cluster Index: 0<br>Channel Index: 0<br>\", \"Latency: 63.85ms<br>Energy: 522420.82mV^2<br>Cluster Index: 0<br>Channel Index: 0<br>\", \"Latency: 63.60ms<br>Energy: 492185.09mV^2<br>Cluster Index: 0<br>Channel Index: 0<br>\", \"Latency: 101.65ms<br>Energy: 490577.86mV^2<br>Cluster Index: -1<br>Channel Index: 0<br>\", \"Latency: 63.85ms<br>Energy: 544638.32mV^2<br>Cluster Index: 0<br>Channel Index: 0<br>\", \"Latency: 63.65ms<br>Energy: 547996.36mV^2<br>Cluster Index: 0<br>Channel Index: 0<br>\", \"Latency: 2062.75ms<br>Energy: 553508.80mV^2<br>Cluster Index: -1<br>Channel Index: 0<br>\", \"Latency: 2266.50ms<br>Energy: 523666.62mV^2<br>Cluster Index: -1<br>Channel Index: 0<br>\", \"Latency: 2307.40ms<br>Energy: 623703.57mV^2<br>Cluster Index: -1<br>Channel Index: 0<br>\", \"Latency: 2470.00ms<br>Energy: 645107.51mV^2<br>Cluster Index: -1<br>Channel Index: 0<br>\", \"Latency: 2522.00ms<br>Energy: 562825.32mV^2<br>Cluster Index: -1<br>Channel Index: 0<br>\", \"Latency: 2671.75ms<br>Energy: 613898.34mV^2<br>Cluster Index: -1<br>Channel Index: 0<br>\", \"Latency: 2720.00ms<br>Energy: 568166.64mV^2<br>Cluster Index: -1<br>Channel Index: 0<br>\", \"Latency: 2873.05ms<br>Energy: 601060.74mV^2<br>Cluster Index: -1<br>Channel Index: 0<br>\", \"Latency: 2972.20ms<br>Energy: 608131.35mV^2<br>Cluster Index: -1<br>Channel Index: 0<br>\", \"Latency: 3075.30ms<br>Energy: 634344.28mV^2<br>Cluster Index: -1<br>Channel Index: 0<br>\", \"Latency: 72.40ms<br>Energy: 648295.09mV^2<br>Cluster Index: 0<br>Channel Index: 0<br>\", \"Latency: 69.70ms<br>Energy: 486124.48mV^2<br>Cluster Index: 0<br>Channel Index: 0<br>\", \"Latency: 1370.35ms<br>Energy: 909912.72mV^2<br>Cluster Index: -1<br>Channel Index: 0<br>\", \"Latency: 3211.05ms<br>Energy: 770855.36mV^2<br>Cluster Index: -1<br>Channel Index: 0<br>\", \"Latency: 67.95ms<br>Energy: 523502.64mV^2<br>Cluster Index: 0<br>Channel Index: 0<br>\", \"Latency: 66.80ms<br>Energy: 575509.81mV^2<br>Cluster Index: 0<br>Channel Index: 0<br>\", \"Latency: 65.75ms<br>Energy: 607430.77mV^2<br>Cluster Index: 0<br>Channel Index: 0<br>\", \"Latency: 65.20ms<br>Energy: 485835.68mV^2<br>Cluster Index: 0<br>Channel Index: 0<br>\", \"Latency: 64.80ms<br>Energy: 456815.14mV^2<br>Cluster Index: 0<br>Channel Index: 0<br>\", \"Latency: 64.55ms<br>Energy: 512029.30mV^2<br>Cluster Index: 0<br>Channel Index: 0<br>\", \"Latency: 2063.70ms<br>Energy: 466543.53mV^2<br>Cluster Index: -1<br>Channel Index: 0<br>\", \"Latency: 2267.65ms<br>Energy: 546668.81mV^2<br>Cluster Index: -1<br>Channel Index: 0<br>\", \"Latency: 2468.55ms<br>Energy: 458636.38mV^2<br>Cluster Index: -1<br>Channel Index: 0<br>\", \"Latency: 2669.30ms<br>Energy: 535204.29mV^2<br>Cluster Index: -1<br>Channel Index: 0<br>\", \"Latency: 2870.55ms<br>Energy: 509425.25mV^2<br>Cluster Index: -1<br>Channel Index: 0<br>\", \"Latency: 2937.20ms<br>Energy: 621740.48mV^2<br>Cluster Index: -1<br>Channel Index: 0<br>\", \"Latency: 3073.45ms<br>Energy: 492988.18mV^2<br>Cluster Index: -1<br>Channel Index: 0<br>\", \"Latency: 72.15ms<br>Energy: 510091.93mV^2<br>Cluster Index: 0<br>Channel Index: 0<br>\", \"Latency: 147.25ms<br>Energy: 675313.92mV^2<br>Cluster Index: -1<br>Channel Index: 0<br>\", \"Latency: 67.75ms<br>Energy: 506896.04mV^2<br>Cluster Index: 0<br>Channel Index: 0<br>\", \"Latency: 115.10ms<br>Energy: 620057.64mV^2<br>Cluster Index: -1<br>Channel Index: 0<br>\", \"Latency: 66.70ms<br>Energy: 467562.40mV^2<br>Cluster Index: 0<br>Channel Index: 0<br>\", \"Latency: 66.10ms<br>Energy: 766878.93mV^2<br>Cluster Index: 0<br>Channel Index: 0<br>\", \"Latency: 65.75ms<br>Energy: 533910.34mV^2<br>Cluster Index: 0<br>Channel Index: 0<br>\", \"Latency: 65.50ms<br>Energy: 540336.78mV^2<br>Cluster Index: 0<br>Channel Index: 0<br>\", \"Latency: 2064.70ms<br>Energy: 566312.17mV^2<br>Cluster Index: -1<br>Channel Index: 0<br>\", \"Latency: 2268.70ms<br>Energy: 574727.90mV^2<br>Cluster Index: -1<br>Channel Index: 0<br>\", \"Latency: 2315.30ms<br>Energy: 587989.08mV^2<br>Cluster Index: -1<br>Channel Index: 0<br>\", \"Latency: 2472.15ms<br>Energy: 535270.85mV^2<br>Cluster Index: -1<br>Channel Index: 0<br>\", \"Latency: 2671.95ms<br>Energy: 538036.12mV^2<br>Cluster Index: -1<br>Channel Index: 0<br>\", \"Latency: 2725.35ms<br>Energy: 541620.15mV^2<br>Cluster Index: -1<br>Channel Index: 0<br>\", \"Latency: 2874.60ms<br>Energy: 596572.38mV^2<br>Cluster Index: -1<br>Channel Index: 0<br>\", \"Latency: 2948.60ms<br>Energy: 617406.48mV^2<br>Cluster Index: -1<br>Channel Index: 0<br>\", \"Latency: 3076.50ms<br>Energy: 705898.05mV^2<br>Cluster Index: -1<br>Channel Index: 0<br>\", \"Latency: 74.10ms<br>Energy: 524420.94mV^2<br>Cluster Index: 0<br>Channel Index: 0<br>\", \"Latency: 71.10ms<br>Energy: 639213.51mV^2<br>Cluster Index: 0<br>Channel Index: 0<br>\", \"Latency: 69.05ms<br>Energy: 567288.70mV^2<br>Cluster Index: 0<br>Channel Index: 0<br>\", \"Latency: 68.10ms<br>Energy: 481246.58mV^2<br>Cluster Index: 0<br>Channel Index: 0<br>\", \"Latency: 118.05ms<br>Energy: 584791.14mV^2<br>Cluster Index: -1<br>Channel Index: 0<br>\", \"Latency: 67.90ms<br>Energy: 486436.70mV^2<br>Cluster Index: 0<br>Channel Index: 0<br>\", \"Latency: 67.40ms<br>Energy: 532428.08mV^2<br>Cluster Index: 0<br>Channel Index: 0<br>\", \"Latency: 67.10ms<br>Energy: 645899.18mV^2<br>Cluster Index: 0<br>Channel Index: 0<br>\", \"Latency: 1198.55ms<br>Energy: 707723.04mV^2<br>Cluster Index: -1<br>Channel Index: 0<br>\", \"Latency: 66.70ms<br>Energy: 595745.10mV^2<br>Cluster Index: 0<br>Channel Index: 0<br>\", \"Latency: 995.00ms<br>Energy: 1001870.72mV^2<br>Cluster Index: -1<br>Channel Index: 0<br>\", \"Latency: 2566.05ms<br>Energy: 441678.03mV^2<br>Cluster Index: -1<br>Channel Index: 0<br>\", \"Latency: 2672.70ms<br>Energy: 510176.82mV^2<br>Cluster Index: -1<br>Channel Index: 0<br>\", \"Latency: 2773.95ms<br>Energy: 589361.83mV^2<br>Cluster Index: -1<br>Channel Index: 0<br>\", \"Latency: 2828.65ms<br>Energy: 556249.36mV^2<br>Cluster Index: -1<br>Channel Index: 0<br>\", \"Latency: 2878.25ms<br>Energy: 628373.02mV^2<br>Cluster Index: -1<br>Channel Index: 0<br>\", \"Latency: 2934.25ms<br>Energy: 659117.55mV^2<br>Cluster Index: -1<br>Channel Index: 0<br>\", \"Latency: 2979.55ms<br>Energy: 656473.93mV^2<br>Cluster Index: -1<br>Channel Index: 0<br>\", \"Latency: 3078.20ms<br>Energy: 583311.07mV^2<br>Cluster Index: -1<br>Channel Index: 0<br>\", \"Latency: 74.55ms<br>Energy: 581198.01mV^2<br>Cluster Index: 0<br>Channel Index: 0<br>\", \"Latency: 136.20ms<br>Energy: 504527.29mV^2<br>Cluster Index: -1<br>Channel Index: 0<br>\", \"Latency: 72.45ms<br>Energy: 695608.26mV^2<br>Cluster Index: 0<br>Channel Index: 0<br>\", \"Latency: 70.80ms<br>Energy: 594835.61mV^2<br>Cluster Index: 0<br>Channel Index: 0<br>\", \"Latency: 69.45ms<br>Energy: 655268.75mV^2<br>Cluster Index: 0<br>Channel Index: 0<br>\", \"Latency: 68.55ms<br>Energy: 521093.18mV^2<br>Cluster Index: 0<br>Channel Index: 0<br>\", \"Latency: 125.35ms<br>Energy: 599137.13mV^2<br>Cluster Index: -1<br>Channel Index: 0<br>\", \"Latency: 68.80ms<br>Energy: 732988.12mV^2<br>Cluster Index: 0<br>Channel Index: 0<br>\", \"Latency: 68.35ms<br>Energy: 551015.78mV^2<br>Cluster Index: 0<br>Channel Index: 0<br>\", \"Latency: 2567.35ms<br>Energy: 682226.84mV^2<br>Cluster Index: -1<br>Channel Index: 0<br>\", \"Latency: 2674.20ms<br>Energy: 537976.42mV^2<br>Cluster Index: -1<br>Channel Index: 0<br>\", \"Latency: 2876.55ms<br>Energy: 679146.54mV^2<br>Cluster Index: -1<br>Channel Index: 0<br>\", \"Latency: 2977.40ms<br>Energy: 479744.27mV^2<br>Cluster Index: -1<br>Channel Index: 0<br>\", \"Latency: 3078.30ms<br>Energy: 616447.73mV^2<br>Cluster Index: -1<br>Channel Index: 0<br>\", \"Latency: 3183.35ms<br>Energy: 574738.54mV^2<br>Cluster Index: -1<br>Channel Index: 0<br>\", \"Latency: 75.15ms<br>Energy: 491634.66mV^2<br>Cluster Index: 0<br>Channel Index: 0<br>\", \"Latency: 72.40ms<br>Energy: 553446.25mV^2<br>Cluster Index: 0<br>Channel Index: 0<br>\", \"Latency: 70.75ms<br>Energy: 555720.38mV^2<br>Cluster Index: 0<br>Channel Index: 0<br>\", \"Latency: 69.95ms<br>Energy: 578202.59mV^2<br>Cluster Index: 0<br>Channel Index: 0<br>\", \"Latency: 69.40ms<br>Energy: 534846.88mV^2<br>Cluster Index: 0<br>Channel Index: 0<br>\", \"Latency: 131.50ms<br>Energy: 514796.95mV^2<br>Cluster Index: -1<br>Channel Index: 0<br>\", \"Latency: 69.75ms<br>Energy: 479506.13mV^2<br>Cluster Index: 0<br>Channel Index: 0<br>\", \"Latency: 69.75ms<br>Energy: 596295.10mV^2<br>Cluster Index: 0<br>Channel Index: 0<br>\", \"Latency: 2568.55ms<br>Energy: 592483.43mV^2<br>Cluster Index: -1<br>Channel Index: 0<br>\", \"Latency: 2624.25ms<br>Energy: 606939.59mV^2<br>Cluster Index: -1<br>Channel Index: 0<br>\", \"Latency: 2679.45ms<br>Energy: 649279.04mV^2<br>Cluster Index: -1<br>Channel Index: 0<br>\", \"Latency: 2748.00ms<br>Energy: 802125.64mV^2<br>Cluster Index: -1<br>Channel Index: 0<br>\", \"Latency: 2782.15ms<br>Energy: 584429.95mV^2<br>Cluster Index: -1<br>Channel Index: 0<br>\", \"Latency: 2880.75ms<br>Energy: 642604.24mV^2<br>Cluster Index: -1<br>Channel Index: 0<br>\", \"Latency: 77.70ms<br>Energy: 513851.78mV^2<br>Cluster Index: 0<br>Channel Index: 0<br>\", \"Latency: 155.85ms<br>Energy: 640992.22mV^2<br>Cluster Index: -1<br>Channel Index: 0<br>\", \"Latency: 75.20ms<br>Energy: 467708.20mV^2<br>Cluster Index: 0<br>Channel Index: 0<br>\", \"Latency: 73.10ms<br>Energy: 683978.86mV^2<br>Cluster Index: 0<br>Channel Index: 0<br>\", \"Latency: 2660.50ms<br>Energy: 694610.17mV^2<br>Cluster Index: -1<br>Channel Index: 0<br>\", \"Latency: 72.10ms<br>Energy: 564150.14mV^2<br>Cluster Index: 0<br>Channel Index: 0<br>\", \"Latency: 137.20ms<br>Energy: 633782.42mV^2<br>Cluster Index: -1<br>Channel Index: 0<br>\", \"Latency: 1827.60ms<br>Energy: 774152.82mV^2<br>Cluster Index: -1<br>Channel Index: 0<br>\", \"Latency: 71.75ms<br>Energy: 507747.94mV^2<br>Cluster Index: 0<br>Channel Index: 0<br>\", \"Latency: 1922.55ms<br>Energy: 677887.71mV^2<br>Cluster Index: -1<br>Channel Index: 0<br>\"], \"type\": \"scatter\", \"x\": [0.05534999999999979, 0.05525000000000091, 0.05540000000000056, 0.0555000000000021, 0.05570000000000164, 0.08980000000000032, 0.055999999999997385, 0.08749999999999858, 0.0563500000000019, 2.455350000000003, 2.6586, 2.6972000000000023, 2.861600000000003, 3.061399999999999, 3.1118000000000023, 0.061350000000004457, 0.07235000000000014, 0.12590000000000146, 0.059899999999998954, 0.0945999999999998, 0.05915000000000248, 0.1167999999999978, 0.05834999999999724, 0.08984999999999843, 0.05850000000000222, 0.09449999999999648, 0.05859999999999843, 0.6177500000000009, 0.6738, 0.05924999999999869, 0.05875000000000341, 2.457550000000005, 2.7070500000000024, 2.863800000000005, 2.923949999999998, 3.0656999999999996, 0.06364999999999554, 0.14534999999999343, 0.06215000000000259, 0.10179999999999723, 0.06114999999999782, 0.06029999999999802, 0.059449999999998226, 0.05904999999999916, 0.05900000000001171, 0.1468500000000006, 2.4579499999999967, 2.4899499999999932, 2.6633999999999958, 2.705849999999998, 3.06519999999999, 3.1105500000000035, 0.0648999999999944, 0.12189999999999657, 0.06284999999999741, 0.10000000000000853, 0.06219999999999004, 0.11414999999999509, 0.06189999999999429, 0.06094999999999118, 0.10354999999999848, 0.06100000000000705, 0.06040000000000134, 0.0601999999999947, 0.40075000000000216, 2.459299999999999, 2.663049999999984, 2.677749999999989, 2.863800000000012, 2.9012499999999903, 3.0667999999999864, 3.124900000000011, 0.06345000000001733, 0.061950000000024374, 0.1377999999999986, 0.742350000000016, 0.061399999999991905, 0.06110000000001037, 0.06094999999999118, 0.06094999999999118, 0.06090000000000373, 2.6599999999999966, 2.863599999999991, 3.0646500000000003, 0.06299999999998818, 0.10560000000000969, 0.06215000000000259, 0.061650000000014415, 0.061599999999998545, 0.06140000000002033, 0.06114999999999782, 0.061199999999985266, 0.06110000000001037, 2.6603000000000065, 2.8640000000000043, 3.0649500000000103, 3.1204500000000053, 0.06444999999999368, 0.0625, 0.10190000000000055, 0.06239999999999668, 0.10070000000001755, 0.06239999999999668, 0.0619999999999834, 0.06184999999999263, 0.061800000000005184, 0.06189999999998008, 2.060949999999991, 2.2648499999999956, 2.465549999999979, 2.666550000000001, 2.7219499999999925, 2.8696999999999946, 3.069349999999986, 3.16579999999999, 0.06909999999999172, 0.1524000000000001, 0.06704999999999472, 0.06534999999999513, 0.06430000000000291, 0.06385000000000218, 0.0636000000000081, 0.10165000000000646, 0.06385000000000218, 0.06364999999999554, 2.062749999999994, 2.2664999999999793, 2.3074000000000012, 2.4699999999999704, 2.5219999999999914, 2.6717499999999745, 2.7199999999999704, 2.873049999999978, 2.9721999999999866, 3.07529999999997, 0.07240000000001601, 0.06970000000001164, 1.3703500000000304, 3.21105, 0.06794999999999618, 0.06680000000000064, 0.06575000000003683, 0.06519999999994752, 0.06480000000004793, 0.064549999999997, 2.063699999999983, 2.2676499999999464, 2.4685499999999934, 2.6692999999999643, 2.87054999999998, 2.9371999999999616, 3.07344999999998, 0.07215000000002192, 0.14724999999998545, 0.06774999999998954, 0.11509999999998399, 0.06670000000002574, 0.06610000000000582, 0.06575000000003683, 0.06550000000004275, 2.064700000000016, 2.268700000000024, 2.315300000000036, 2.472149999999999, 2.671950000000038, 2.7253500000000486, 2.8746000000000436, 2.948599999999999, 3.07650000000001, 0.07409999999998718, 0.07110000000000127, 0.06905000000000427, 0.06810000000001537, 0.11804999999998245, 0.06790000000000873, 0.06740000000002055, 0.06709999999998217, 1.1985500000000116, 0.06670000000002574, 0.9950000000000045, 2.5660500000000184, 2.6727000000000203, 2.7739500000000135, 2.828649999999982, 2.878250000000037, 2.93425000000002, 2.9795500000000175, 3.078200000000038, 0.0745499999999879, 0.1361999999999739, 0.07245000000000346, 0.07079999999996289, 0.06944999999996071, 0.0685500000000161, 0.125349999999969, 0.06880000000001019, 0.06835000000000946, 2.5673499999999763, 2.674199999999985, 2.876550000000009, 2.9773999999999887, 3.078300000000013, 3.1833500000000186, 0.07515000000000782, 0.07240000000001601, 0.07074999999997544, 0.06995000000000573, 0.06939999999997326, 0.13149999999995998, 0.06974999999999909, 0.06974999999999909, 2.568550000000016, 2.6242500000000177, 2.6794499999999744, 2.7479999999999905, 2.7821500000000015, 2.8807499999999777, 0.077699999999993, 0.15584999999998672, 0.07519999999999527, 0.07310000000001082, 2.660500000000013, 0.07210000000003447, 0.1372000000000071, 1.827600000000018, 0.07175000000000864, 1.922550000000001], \"y\": [492602.87056603754, 474010.2309433963, 499170.06188679254, 467836.5754716982, 496150.22339622636, 471432.3424528302, 512735.3375471697, 613601.5173584906, 492185.37490566034, 397746.6118867926, 449923.398490566, 558882.3252830189, 632302.3275471698, 421809.64924528304, 484615.80830188683, 513387.4790566036, 770091.72754717, 634300.160754717, 574607.2905660378, 583039.2098113208, 536935.8771698114, 772733.908490566, 499366.05566037755, 511191.00754716987, 538189.6398113208, 623640.4339622641, 452541.62433962256, 513068.00603773585, 737274.4892452828, 486397.34773584903, 469377.0360377359, 424790.8075471699, 551189.0875471696, 565338.2601886792, 645416.9215094341, 608314.6666037736, 497039.27037735836, 629514.27, 455787.8243396227, 461566.45037735836, 515252.2166037736, 564174.1211320753, 471215.6926415093, 548936.310754717, 529612.0322641508, 807489.6641509437, 462680.50018867926, 562934.5871698114, 536345.1556603775, 530943.1784905661, 578029.0432075474, 580794.3281132075, 481556.7426415092, 638744.8943396227, 496744.6405660378, 603205.6998113209, 514981.22490566043, 532028.4018867924, 527321.4767924529, 420895.71830188675, 554906.5028301886, 410934.3305660378, 465572.2503773584, 392144.14339622646, 826713.2481132075, 669109.5069811322, 530225.243207547, 813761.0420754716, 510467.2558490564, 585561.6037735849, 524928.8577358491, 598078.7366037737, 480595.3173584905, 484690.76584905694, 801336.7583018872, 805404.4526415094, 503959.056037736, 432732.9198113209, 451438.09603773576, 497801.00622641505, 473176.9335849057, 607463.1698113208, 578514.5218867925, 434268.0418867925, 496477.2509433962, 628698.8415094339, 384011.82603773585, 591116.7103773584, 564311.9254716982, 531566.501509434, 459035.9683018868, 489097.36301886785, 631359.251509434, 567132.9481132077, 583210.1083018867, 515440.2384905659, 592861.550754717, 516923.8309433962, 604567.7228301887, 576537.2541509435, 476676.0241509433, 609358.322264151, 511391.1169811321, 494654.404528302, 411790.6683018869, 603296.6915094341, 494012.64716981124, 523954.40018867934, 655500.0962264151, 560290.2164150944, 505449.70169811335, 625817.6622641509, 579701.0324528305, 518306.4573584906, 613749.932264151, 546349.6886792453, 626833.5758490565, 475862.1620754716, 461851.06584905664, 503664.36905660375, 522420.8222641509, 492185.0949056604, 490577.8613207547, 544638.319245283, 547996.3598113209, 553508.7956603774, 523666.6211320754, 623703.5741509433, 645107.5113207548, 562825.3198113207, 613898.3439622641, 568166.6416981133, 601060.7360377357, 608131.3511320754, 634344.280566038, 648295.0928301886, 486124.48433962255, 909912.7175471697, 770855.3645283018, 523502.6377358491, 575509.8113207547, 607430.7716981131, 485835.68132075487, 456815.13981132064, 512029.3049056605, 466543.53320754704, 546668.8128301887, 458636.3849056603, 535204.2888679245, 509425.24849056615, 621740.4813207545, 492988.18339622644, 510091.9269811321, 675313.920566038, 506896.0371698116, 620057.6439622642, 467562.4037735849, 766878.9269811317, 533910.344528302, 540336.7811320755, 566312.1720754717, 574727.8966037735, 587989.0816981131, 535270.8464150942, 538036.1249056603, 541620.1515094339, 596572.3762264149, 617406.4750943397, 705898.0484905663, 524420.9394339623, 639213.5145283019, 567288.6973584905, 481246.57622641505, 584791.1386792451, 486436.7030188679, 532428.0824528304, 645899.1756603774, 707723.0415094341, 595745.1043396225, 1001870.7177358491, 441678.031698113, 510176.82094339625, 589361.831509434, 556249.3562264149, 628373.019245283, 659117.5516981136, 656473.9266037737, 583311.0749056606, 581198.0101886793, 504527.2884905659, 695608.2586792451, 594835.6105660377, 655268.7516981133, 521093.1750943396, 599137.1333962264, 732988.1167924526, 551015.7771698112, 682226.8437735846, 537976.4190566037, 679146.5356603774, 479744.26622641506, 616447.729056604, 574738.543207547, 491634.66377358505, 553446.2501886794, 555720.3839622643, 578202.5881132077, 534846.8781132076, 514796.94943396206, 479506.1296226415, 596295.0952830189, 592483.4250943398, 606939.5879245283, 649279.0367924528, 802125.6424528302, 584429.9496226417, 642604.2405660376, 513851.7809433962, 640992.2156603775, 467708.2037735847, 683978.8620754719, 694610.1709433962, 564150.136981132, 633782.4237735851, 774152.8237735848, 507747.9411320754, 677887.713018868]}],\n",
       "                        {\"height\": 600, \"template\": {\"data\": {\"bar\": [{\"error_x\": {\"color\": \"#2a3f5f\"}, \"error_y\": {\"color\": \"#2a3f5f\"}, \"marker\": {\"line\": {\"color\": \"#E5ECF6\", \"width\": 0.5}}, \"type\": \"bar\"}], \"barpolar\": [{\"marker\": {\"line\": {\"color\": \"#E5ECF6\", \"width\": 0.5}}, \"type\": \"barpolar\"}], \"carpet\": [{\"aaxis\": {\"endlinecolor\": \"#2a3f5f\", \"gridcolor\": \"white\", \"linecolor\": \"white\", \"minorgridcolor\": \"white\", \"startlinecolor\": \"#2a3f5f\"}, \"baxis\": {\"endlinecolor\": \"#2a3f5f\", \"gridcolor\": \"white\", \"linecolor\": \"white\", \"minorgridcolor\": \"white\", \"startlinecolor\": \"#2a3f5f\"}, \"type\": \"carpet\"}], \"choropleth\": [{\"colorbar\": {\"outlinewidth\": 0, \"ticks\": \"\"}, \"type\": \"choropleth\"}], \"contour\": [{\"colorbar\": {\"outlinewidth\": 0, \"ticks\": \"\"}, \"colorscale\": [[0.0, \"#0d0887\"], [0.1111111111111111, \"#46039f\"], [0.2222222222222222, \"#7201a8\"], [0.3333333333333333, \"#9c179e\"], [0.4444444444444444, \"#bd3786\"], [0.5555555555555556, \"#d8576b\"], [0.6666666666666666, \"#ed7953\"], [0.7777777777777778, \"#fb9f3a\"], [0.8888888888888888, \"#fdca26\"], [1.0, \"#f0f921\"]], \"type\": \"contour\"}], \"contourcarpet\": [{\"colorbar\": {\"outlinewidth\": 0, \"ticks\": \"\"}, \"type\": \"contourcarpet\"}], \"heatmap\": [{\"colorbar\": {\"outlinewidth\": 0, \"ticks\": \"\"}, \"colorscale\": [[0.0, \"#0d0887\"], [0.1111111111111111, \"#46039f\"], [0.2222222222222222, \"#7201a8\"], [0.3333333333333333, \"#9c179e\"], [0.4444444444444444, \"#bd3786\"], [0.5555555555555556, \"#d8576b\"], [0.6666666666666666, \"#ed7953\"], [0.7777777777777778, \"#fb9f3a\"], [0.8888888888888888, \"#fdca26\"], [1.0, \"#f0f921\"]], \"type\": \"heatmap\"}], \"heatmapgl\": [{\"colorbar\": {\"outlinewidth\": 0, \"ticks\": \"\"}, \"colorscale\": [[0.0, \"#0d0887\"], [0.1111111111111111, \"#46039f\"], [0.2222222222222222, \"#7201a8\"], [0.3333333333333333, \"#9c179e\"], [0.4444444444444444, \"#bd3786\"], [0.5555555555555556, \"#d8576b\"], [0.6666666666666666, \"#ed7953\"], [0.7777777777777778, \"#fb9f3a\"], [0.8888888888888888, \"#fdca26\"], [1.0, \"#f0f921\"]], \"type\": \"heatmapgl\"}], \"histogram\": [{\"marker\": {\"colorbar\": {\"outlinewidth\": 0, \"ticks\": \"\"}}, \"type\": \"histogram\"}], \"histogram2d\": [{\"colorbar\": {\"outlinewidth\": 0, \"ticks\": \"\"}, \"colorscale\": [[0.0, \"#0d0887\"], [0.1111111111111111, \"#46039f\"], [0.2222222222222222, \"#7201a8\"], [0.3333333333333333, \"#9c179e\"], [0.4444444444444444, \"#bd3786\"], [0.5555555555555556, \"#d8576b\"], [0.6666666666666666, \"#ed7953\"], [0.7777777777777778, \"#fb9f3a\"], [0.8888888888888888, \"#fdca26\"], [1.0, \"#f0f921\"]], \"type\": \"histogram2d\"}], \"histogram2dcontour\": [{\"colorbar\": {\"outlinewidth\": 0, \"ticks\": \"\"}, \"colorscale\": [[0.0, \"#0d0887\"], [0.1111111111111111, \"#46039f\"], [0.2222222222222222, \"#7201a8\"], [0.3333333333333333, \"#9c179e\"], [0.4444444444444444, \"#bd3786\"], [0.5555555555555556, \"#d8576b\"], [0.6666666666666666, \"#ed7953\"], [0.7777777777777778, \"#fb9f3a\"], [0.8888888888888888, \"#fdca26\"], [1.0, \"#f0f921\"]], \"type\": \"histogram2dcontour\"}], \"mesh3d\": [{\"colorbar\": {\"outlinewidth\": 0, \"ticks\": \"\"}, \"type\": \"mesh3d\"}], \"parcoords\": [{\"line\": {\"colorbar\": {\"outlinewidth\": 0, \"ticks\": \"\"}}, \"type\": \"parcoords\"}], \"pie\": [{\"automargin\": true, \"type\": \"pie\"}], \"scatter\": [{\"marker\": {\"colorbar\": {\"outlinewidth\": 0, \"ticks\": \"\"}}, \"type\": \"scatter\"}], \"scatter3d\": [{\"line\": {\"colorbar\": {\"outlinewidth\": 0, \"ticks\": \"\"}}, \"marker\": {\"colorbar\": {\"outlinewidth\": 0, \"ticks\": \"\"}}, \"type\": \"scatter3d\"}], \"scattercarpet\": [{\"marker\": {\"colorbar\": {\"outlinewidth\": 0, \"ticks\": \"\"}}, \"type\": \"scattercarpet\"}], \"scattergeo\": [{\"marker\": {\"colorbar\": {\"outlinewidth\": 0, \"ticks\": \"\"}}, \"type\": \"scattergeo\"}], \"scattergl\": [{\"marker\": {\"colorbar\": {\"outlinewidth\": 0, \"ticks\": \"\"}}, \"type\": \"scattergl\"}], \"scattermapbox\": [{\"marker\": {\"colorbar\": {\"outlinewidth\": 0, \"ticks\": \"\"}}, \"type\": \"scattermapbox\"}], \"scatterpolar\": [{\"marker\": {\"colorbar\": {\"outlinewidth\": 0, \"ticks\": \"\"}}, \"type\": \"scatterpolar\"}], \"scatterpolargl\": [{\"marker\": {\"colorbar\": {\"outlinewidth\": 0, \"ticks\": \"\"}}, \"type\": \"scatterpolargl\"}], \"scatterternary\": [{\"marker\": {\"colorbar\": {\"outlinewidth\": 0, \"ticks\": \"\"}}, \"type\": \"scatterternary\"}], \"surface\": [{\"colorbar\": {\"outlinewidth\": 0, \"ticks\": \"\"}, \"colorscale\": [[0.0, \"#0d0887\"], [0.1111111111111111, \"#46039f\"], [0.2222222222222222, \"#7201a8\"], [0.3333333333333333, \"#9c179e\"], [0.4444444444444444, \"#bd3786\"], [0.5555555555555556, \"#d8576b\"], [0.6666666666666666, \"#ed7953\"], [0.7777777777777778, \"#fb9f3a\"], [0.8888888888888888, \"#fdca26\"], [1.0, \"#f0f921\"]], \"type\": \"surface\"}], \"table\": [{\"cells\": {\"fill\": {\"color\": \"#EBF0F8\"}, \"line\": {\"color\": \"white\"}}, \"header\": {\"fill\": {\"color\": \"#C8D4E3\"}, \"line\": {\"color\": \"white\"}}, \"type\": \"table\"}]}, \"layout\": {\"annotationdefaults\": {\"arrowcolor\": \"#2a3f5f\", \"arrowhead\": 0, \"arrowwidth\": 1}, \"coloraxis\": {\"colorbar\": {\"outlinewidth\": 0, \"ticks\": \"\"}}, \"colorscale\": {\"diverging\": [[0, \"#8e0152\"], [0.1, \"#c51b7d\"], [0.2, \"#de77ae\"], [0.3, \"#f1b6da\"], [0.4, \"#fde0ef\"], [0.5, \"#f7f7f7\"], [0.6, \"#e6f5d0\"], [0.7, \"#b8e186\"], [0.8, \"#7fbc41\"], [0.9, \"#4d9221\"], [1, \"#276419\"]], \"sequential\": [[0.0, \"#0d0887\"], [0.1111111111111111, \"#46039f\"], [0.2222222222222222, \"#7201a8\"], [0.3333333333333333, \"#9c179e\"], [0.4444444444444444, \"#bd3786\"], [0.5555555555555556, \"#d8576b\"], [0.6666666666666666, \"#ed7953\"], [0.7777777777777778, \"#fb9f3a\"], [0.8888888888888888, \"#fdca26\"], [1.0, \"#f0f921\"]], \"sequentialminus\": [[0.0, \"#0d0887\"], [0.1111111111111111, \"#46039f\"], [0.2222222222222222, \"#7201a8\"], [0.3333333333333333, \"#9c179e\"], [0.4444444444444444, \"#bd3786\"], [0.5555555555555556, \"#d8576b\"], [0.6666666666666666, \"#ed7953\"], [0.7777777777777778, \"#fb9f3a\"], [0.8888888888888888, \"#fdca26\"], [1.0, \"#f0f921\"]]}, \"colorway\": [\"#636efa\", \"#EF553B\", \"#00cc96\", \"#ab63fa\", \"#FFA15A\", \"#19d3f3\", \"#FF6692\", \"#B6E880\", \"#FF97FF\", \"#FECB52\"], \"font\": {\"color\": \"#2a3f5f\"}, \"geo\": {\"bgcolor\": \"white\", \"lakecolor\": \"white\", \"landcolor\": \"#E5ECF6\", \"showlakes\": true, \"showland\": true, \"subunitcolor\": \"white\"}, \"hoverlabel\": {\"align\": \"left\"}, \"hovermode\": \"closest\", \"mapbox\": {\"style\": \"light\"}, \"paper_bgcolor\": \"white\", \"plot_bgcolor\": \"#E5ECF6\", \"polar\": {\"angularaxis\": {\"gridcolor\": \"white\", \"linecolor\": \"white\", \"ticks\": \"\"}, \"bgcolor\": \"#E5ECF6\", \"radialaxis\": {\"gridcolor\": \"white\", \"linecolor\": \"white\", \"ticks\": \"\"}}, \"scene\": {\"xaxis\": {\"backgroundcolor\": \"#E5ECF6\", \"gridcolor\": \"white\", \"gridwidth\": 2, \"linecolor\": \"white\", \"showbackground\": true, \"ticks\": \"\", \"zerolinecolor\": \"white\"}, \"yaxis\": {\"backgroundcolor\": \"#E5ECF6\", \"gridcolor\": \"white\", \"gridwidth\": 2, \"linecolor\": \"white\", \"showbackground\": true, \"ticks\": \"\", \"zerolinecolor\": \"white\"}, \"zaxis\": {\"backgroundcolor\": \"#E5ECF6\", \"gridcolor\": \"white\", \"gridwidth\": 2, \"linecolor\": \"white\", \"showbackground\": true, \"ticks\": \"\", \"zerolinecolor\": \"white\"}}, \"shapedefaults\": {\"line\": {\"color\": \"#2a3f5f\"}}, \"ternary\": {\"aaxis\": {\"gridcolor\": \"white\", \"linecolor\": \"white\", \"ticks\": \"\"}, \"baxis\": {\"gridcolor\": \"white\", \"linecolor\": \"white\", \"ticks\": \"\"}, \"bgcolor\": \"#E5ECF6\", \"caxis\": {\"gridcolor\": \"white\", \"linecolor\": \"white\", \"ticks\": \"\"}}, \"title\": {\"x\": 0.05}, \"xaxis\": {\"automargin\": true, \"gridcolor\": \"white\", \"linecolor\": \"white\", \"ticks\": \"\", \"title\": {\"standoff\": 15}, \"zerolinecolor\": \"white\", \"zerolinewidth\": 2}, \"yaxis\": {\"automargin\": true, \"gridcolor\": \"white\", \"linecolor\": \"white\", \"ticks\": \"\", \"title\": {\"standoff\": 15}, \"zerolinecolor\": \"white\", \"zerolinewidth\": 2}}}, \"width\": 1000, \"xaxis\": {\"title\": {\"text\": \"Distance to previous regular stimulus (s)\"}}, \"yaxis\": {\"title\": {\"text\": \"Normalized signal energy (mV^2)\"}}},\n",
       "                        {\"responsive\": true}\n",
       "                    ).then(function(){\n",
       "                            \n",
       "var gd = document.getElementById('23c8daee-ebf5-4f39-a113-f5ec3d18916d');\n",
       "var x = new MutationObserver(function (mutations, observer) {{\n",
       "        var display = window.getComputedStyle(gd).display;\n",
       "        if (!display || display === 'none') {{\n",
       "            console.log([gd, 'removed!']);\n",
       "            Plotly.purge(gd);\n",
       "            observer.disconnect();\n",
       "        }}\n",
       "}});\n",
       "\n",
       "// Listen for the removal of the full notebook cells\n",
       "var notebookContainer = gd.closest('#notebook-container');\n",
       "if (notebookContainer) {{\n",
       "    x.observe(notebookContainer, {childList: true});\n",
       "}}\n",
       "\n",
       "// Listen for the clearing of the current output cell\n",
       "var outputEl = gd.closest('.output');\n",
       "if (outputEl) {{\n",
       "    x.observe(outputEl, {childList: true});\n",
       "}}\n",
       "\n",
       "                        })\n",
       "                };\n",
       "                });\n",
       "            </script>\n",
       "        </div>"
      ]
     },
     "metadata": {},
     "output_type": "display_data"
    }
   ],
   "source": [
    "''' \n",
    "This cell performs the clustering according to\n",
    "- distance to previous stimulus\n",
    "- normalized signal energy of the APs\n",
    "'''\n",
    "%autoreload 2\n",
    "from fibre_tracking import DBSCANClustering\n",
    "from plotting import ClusterPlot2D\n",
    "\n",
    "clustered_data_df = DBSCANClustering.perform_clustering(actpots, eps = 0.005, min_samples = 10, save_fibre_prediction = True)\n",
    "\n",
    "cl2dplot = ClusterPlot2D()\n",
    "cl2dplot.plot(clustered_data_df = clustered_data_df)"
   ]
  },
  {
   "cell_type": "code",
   "execution_count": 71,
   "metadata": {},
   "outputs": [
    {
     "data": {
      "application/vnd.jupyter.widget-view+json": {
       "model_id": "c4b7d565703e4a4686176f1505c4ff1f",
       "version_major": 2,
       "version_minor": 0
      },
      "text/plain": [
       "interactive(children=(FloatSlider(value=0.0, description='t_start', max=440.0), IntSlider(value=5, description…"
      ]
     },
     "metadata": {},
     "output_type": "display_data"
    },
    {
     "data": {
      "text/plain": [
       "<function ipywidgets.widgets.interaction._InteractFactory.__call__.<locals>.<lambda>(*args, **kwargs)>"
      ]
     },
     "execution_count": 71,
     "metadata": {},
     "output_type": "execute_result"
    }
   ],
   "source": [
    "%autoreload 2\n",
    "from plotting import FallingLeafPlot\n",
    "from ipywidgets import interact_manual, interactive, fixed, IntSlider, FloatSlider\n",
    "\n",
    "tmin, tmax = importer.get_time_range()\n",
    "max_interval_length = max([stim.interval_length for stim in el_stimuli])\n",
    "\n",
    "flplot = FallingLeafPlot()\n",
    "interact_manual(flplot.plot, regular_stimuli = fixed(el_stimuli), action_potentials = fixed(actpots), \\\n",
    "                t_start = FloatSlider(min = tmin, max = tmax, value = 0), \\\n",
    "                num_intervals = IntSlider(min = 1, max = len(el_stimuli), step = 1, value = 5), \\\n",
    "                post_stimulus_timeframe = FloatSlider(min = 0, max = max_interval_length, value = 0.1), \\\n",
    "                manual_name = \"Update Plot\")"
   ]
  },
  {
   "cell_type": "code",
   "execution_count": 48,
   "metadata": {},
   "outputs": [
    {
     "data": {
      "image/png": "[encoded data removed]",
      "text/plain": [
       "<Figure size 432x288 with 1 Axes>"
      ]
     },
     "metadata": {
      "needs_background": "light"
     },
     "output_type": "display_data"
    },
    {
     "name": "stdout",
     "output_type": "stream",
     "text": [
      "avg. len: 53 avg argmax: 13\n"
     ]
    },
    {
     "data": {
      "image/png": "[encoded data removed]",
      "text/plain": [
       "<Figure size 432x288 with 1 Axes>"
      ]
     },
     "metadata": {
      "needs_background": "light"
     },
     "output_type": "display_data"
    },
    {
     "data": {
      "image/png": "[encoded data removed]",
      "text/plain": [
       "<Figure size 432x288 with 1 Axes>"
      ]
     },
     "metadata": {
      "needs_background": "light"
     },
     "output_type": "display_data"
    }
   ],
   "source": [
    "%autoreload 2\n",
    "from fibre_tracking import ActionPotentialTemplate\n",
    "from metrics import normalized_cross_correlation\n",
    "import numpy as np\n",
    "import matplotlib.pyplot as plt\n",
    "\n",
    "# get the APs for a certain cluster number\n",
    "cluster_idcs = [0]\n",
    "filtered_aps = list(filter(lambda ap: ap.implied_fibre_index in cluster_idcs, actpots))\n",
    "\n",
    "template_candidate = ActionPotentialTemplate.from_ap_list(aps = filtered_aps)\n",
    "    \n",
    "template = template_candidate.signal_template\n",
    "corr = np.array([normalized_cross_correlation(template, ap.raw_signal) for ap in actpots])\n",
    "\n",
    "plt.figure()\n",
    "plt.hist(x = corr, bins = 100)\n",
    "plt.grid(axis = 'both')\n",
    "plt.xlabel(\"Normalized correlation coefficient\")\n",
    "plt.ylabel(\"Frequency\")\n",
    "plt.title(\"Histogram of correlation for the fibre candidate template\")\n",
    "plt.show()"
   ]
  },
  {
   "cell_type": "code",
   "execution_count": 77,
   "metadata": {},
   "outputs": [
    {
     "data": {
      "image/png": "[encoded data removed]",
      "text/plain": [
       "<Figure size 432x288 with 1 Axes>"
      ]
     },
     "metadata": {
      "needs_background": "light"
     },
     "output_type": "display_data"
    },
    {
     "name": "stdout",
     "output_type": "stream",
     "text": [
      "82\n",
      "21\n"
     ]
    }
   ],
   "source": [
    "'''\n",
    "    Try to perform some linear regression using the spike counts\n",
    "'''\n",
    "from sklearn.linear_model import LinearRegression\n",
    "from sklearn.model_selection import train_test_split\n",
    "from sklearn.metrics import mean_squared_error, r2_score\n",
    "import matplotlib.pyplot as plt \n",
    "\n",
    "for ap in actpots:\n",
    "    ap.features[\"spikecount\"] = get_spike_count(actpot = ap, actpots = actpots, timeframe = 400, num_intervals = 32)\n",
    "\n",
    "# restrict to only the \"interesting\" APs that we suspect as candidates\n",
    "candidate_aps = [ap for ap in actpots if ap.implied_fibre_index == 0]\n",
    "\n",
    "# get the features as lists\n",
    "spike_counts = [ap.features[\"spikecount\"] for ap in candidate_aps]\n",
    "latencies = [ap.features[\"latency\"] for ap in candidate_aps]\n",
    "\n",
    "# perform a split on the set to get some data for training and some for evaluation\n",
    "cnts_train, cnts_test, lat_train, lat_test = train_test_split(spike_counts, latencies, test_size = 0.2)\n",
    "\n",
    "regression = LinearRegression().fit(X = cnts_train, y = lat_train)\n",
    "\n",
    "lat_pred = regression.predict(cnts_test)\n",
    "\n",
    "plt.figure()\n",
    "plt.scatter(lat_test, lat_pred)\n",
    "plt.gca().plot([0, 1], [0, 1], transform = plt.gca().transAxes, color = \"r\")\n",
    "plt.xlabel(\"Observed Latency (ms)\")\n",
    "plt.ylabel(\"Predicted Latency (ms)\")\n",
    "plt.title(\"R^2 score: \" + \"{:.2f}\".format(r2_score(lat_test, lat_pred)))\n",
    "plt.gca().set_ylim(ymin=0)\n",
    "plt.gca().set_xlim(xmin=0)\n",
    "plt.show()\n",
    "\n",
    "print(len(cnts_train))\n",
    "print(len(cnts_test))"
   ]
  },
  {
   "cell_type": "code",
   "execution_count": 78,
   "metadata": {},
   "outputs": [
    {
     "data": {
      "image/png": "[encoded data removed]",
      "text/plain": [
       "<Figure size 432x288 with 1 Axes>"
      ]
     },
     "metadata": {
      "needs_background": "light"
     },
     "output_type": "display_data"
    }
   ],
   "source": [
    "# restrict to only the \"interesting\" APs that we suspect as candidates\n",
    "candidate_aps = [ap for ap in actpots if ap.implied_fibre_index == 0]\n",
    "\n",
    "timeframe_len = 400\n",
    "\n",
    "spike_counts = [get_spike_count(actpot = ap, actpots = actpots, timeframe = timeframe_len, num_intervals = 1) for ap in candidate_aps]\n",
    "latencies = [ap.features[\"latency\"] for ap in candidate_aps]\n",
    "\n",
    "plt.figure()\n",
    "plt.scatter(spike_counts, latencies)\n",
    "plt.xlabel(\"Number of action potentials in previous \" + str(timeframe_len) + \"s\")\n",
    "plt.ylabel(\"Latency of response to stimulus (s)\")\n",
    "plt.gca().set_ylim(ymin=0)\n",
    "plt.gca().set_xlim(xmin=0)\n",
    "plt.show()"
   ]
  },
  {
   "cell_type": "code",
   "execution_count": null,
   "metadata": {},
   "outputs": [],
   "source": []
  }
 ],
 "metadata": {
  "kernelspec": {
   "display_name": "Python 3",
   "language": "python",
   "name": "python3"
  },
  "language_info": {
   "codemirror_mode": {
    "name": "ipython",
    "version": 3
   },
   "file_extension": ".py",
   "mimetype": "text/x-python",
   "name": "python",
   "nbconvert_exporter": "python",
   "pygments_lexer": "ipython3",
   "version": "3.7.5"
  }
 },
 "nbformat": 4,
 "nbformat_minor": 2
}
