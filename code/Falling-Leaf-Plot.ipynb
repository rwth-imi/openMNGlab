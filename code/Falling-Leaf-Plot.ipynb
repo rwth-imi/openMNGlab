{
 "cells": [
  {
   "cell_type": "code",
   "execution_count": 1,
   "metadata": {},
   "outputs": [
    {
     "name": "stdout",
     "output_type": "stream",
     "text": [
      "Data loaded.\n",
      "List of eletrical stimuli created.\n",
      "List of extra eletrical stimuli created.\n",
      "Finished processing AP channel 1 out of 1\n",
      "List of APs created.\n"
     ]
    }
   ],
   "source": [
    "import importers\n",
    "import importlib\n",
    "importlib.reload(importers)\n",
    "from importers import SpikeImporter\n",
    "\n",
    "data_folder = \"../data/\"\n",
    "file_name = \"20_05_13_U1a_4960s_5400s\"\n",
    "file_ending = \".csv\"\n",
    "\n",
    "time_channel = \"Time\"\n",
    "signal_channel = \"1 Signal\"\n",
    "stimulus_channel = \"32 DigMark\"\n",
    "ap_marker_channels = [\"3 nw-1\"]\n",
    "extra_stimuli_channel = \"801 DigMark\"\n",
    "\n",
    "# load the animal file\n",
    "importer = SpikeImporter(filepath = data_folder + file_name + file_ending, time_channel = time_channel, signal_channel = signal_channel)\n",
    "\n",
    "print(\"Data loaded.\")\n",
    "\n",
    "# define the max. time so that two sequential waveform-values are belonging to the same AP\n",
    "# the time is in seconds, so 0.005 equals 5ms\n",
    "max_gap_time = 0.005\n",
    "\n",
    "# retrieve the events from the importer \n",
    "el_stimuli = importer.getElectricalStimuli(regular_stimulus_channel = stimulus_channel)\n",
    "el_extra_stimuli = importer.getExtraStimuli(extra_stimulus_channel = extra_stimuli_channel, regular_el_stimuli = el_stimuli, verbose = False)\n",
    "actpots = importer.getActionPotentials(max_gap_time = max_gap_time, ap_marker_channels = ap_marker_channels, \\\n",
    "                                       el_stimuli = el_stimuli, mech_stimuli = [], el_extra_stimuli = el_extra_stimuli, verbose = False)"
   ]
  },
  {
   "cell_type": "code",
   "execution_count": 2,
   "metadata": {},
   "outputs": [
    {
     "name": "stdout",
     "output_type": "stream",
     "text": [
      "Clustering done.\n"
     ]
    }
   ],
   "source": [
    "''' \n",
    "This cell performs the clustering according to\n",
    "- distance to previous stimulus\n",
    "- normalized signal energy of the APs\n",
    "'''\n",
    "import metrics\n",
    "# reload the clustering classes\n",
    "# hacky workaround atm\n",
    "import importlib\n",
    "importlib.reload(metrics)\n",
    "from metrics import clustering_metrics\n",
    "importlib.reload(clustering_metrics)\n",
    "\n",
    "from sklearn.cluster import DBSCAN\n",
    "import numpy as np\n",
    "\n",
    "# build feature vectors from the features provided by AP class\n",
    "features = np.array([[ap.getDistanceToPreviousRegularElectricalStimulus(), ap.getNormalizedEnergy()] for ap in actpots])\n",
    "channel_indices = np.array([ap.getChannelIndex() for ap in actpots])\n",
    "labels = DBSCAN(eps = 0.005, min_samples = 10, metric = clustering_metrics.TimeDistAndEnergy, metric_params = {'energy_importance': 0}).fit_predict(features)\n",
    "print(\"Clustering done.\")"
   ]
  },
  {
   "cell_type": "code",
   "execution_count": 3,
   "metadata": {},
   "outputs": [
    {
     "data": {
      "text/plain": [
       "<Figure size 1500x1000 with 1 Axes>"
      ]
     },
     "metadata": {},
     "output_type": "display_data"
    }
   ],
   "source": [
    "import matplotlib.pyplot as plt\n",
    "\n",
    "markers = ['o', 'x', 's', 'D']\n",
    "cluster_colors = ['b', 'g', 'r', 'c', 'm', 'y', 'k', 'gray']\n",
    "\n",
    "# where to save the results\n",
    "results_folder = \"../results/\"\n",
    "results_ending = \".png\"\n",
    "\n",
    "# initialize figure\n",
    "plt.figure(figsize = (15, 10))\n",
    "\n",
    "channel_index = 0\n",
    "while channel_index <= max(channel_indices):\n",
    "    # get a mask for all APs from this channel\n",
    "    indices = (channel_indices == channel_index)\n",
    "    \n",
    "    # get the 'cut' list of features and the colors corresponding to their cluster membership\n",
    "    channel_features = features[indices, :]\n",
    "    colors = np.array([cluster_colors[label % len(cluster_colors)] for label in labels])\n",
    "    colors = colors[indices]\n",
    "    \n",
    "    # plot APs with marker according to channel index\n",
    "    plt.scatter(x = channel_features[:, 0], y = channel_features[:, 1], c = colors, marker = markers[channel_index], label = \"Template \" + str(channel_index))\n",
    "    \n",
    "    channel_index = channel_index + 1\n",
    "\n",
    "    \n",
    "plt.xlabel(\"Distance to stimulus (s)\")\n",
    "# plt.xscale('log')\n",
    "# plt.xlim(0, 0.1)\n",
    "# plt.xlim(0.24, 0.26)\n",
    "plt.ylabel(\"Normalized AP energy (mV^2)\")\n",
    "plt.legend()\n",
    "plt.savefig(results_folder + \"dbscan_clustering_\" + file_name + results_ending, dpi = 400)\n",
    "plt.show()"
   ]
  },
  {
   "cell_type": "code",
   "execution_count": 4,
   "metadata": {},
   "outputs": [
    {
     "data": {
      "image/png": "[encoded data removed]",
      "text/plain": [
       "<Figure size 720x1080 with 1 Axes>"
      ]
     },
     "metadata": {
      "needs_background": "light"
     },
     "output_type": "display_data"
    }
   ],
   "source": [
    "import plotting\n",
    "import importlib\n",
    "importlib.reload(plotting)\n",
    "from plotting import FallingLeafPlot\n",
    "import itertools\n",
    "\n",
    "clusters_to_plot = [0]\n",
    "indices = [(True if lbl in clusters_to_plot else False) for lbl in labels]\n",
    "track_aps = list(itertools.compress(actpots, indices))\n",
    "\n",
    "flplot = FallingLeafPlot()\n",
    "flplot.plot(regular_stimuli = el_stimuli, action_potentials = track_aps)"
   ]
  },
  {
   "cell_type": "code",
   "execution_count": null,
   "metadata": {},
   "outputs": [],
   "source": []
  }
 ],
 "metadata": {
  "kernelspec": {
   "display_name": "Python 3",
   "language": "python",
   "name": "python3"
  },
  "language_info": {
   "codemirror_mode": {
    "name": "ipython",
    "version": 3
   },
   "file_extension": ".py",
   "mimetype": "text/x-python",
   "name": "python",
   "nbconvert_exporter": "python",
   "pygments_lexer": "ipython3",
   "version": "3.7.5"
  }
 },
 "nbformat": 4,
 "nbformat_minor": 2
}
