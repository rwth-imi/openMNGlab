{
 "cells": [
  {
   "cell_type": "code",
   "execution_count": 16,
   "metadata": {},
   "outputs": [
    {
     "name": "stderr",
     "output_type": "stream",
     "text": [
      "\r",
      "  0%|                                                                                            | 0/7 [00:00<?, ?it/s]"
     ]
    },
    {
     "name": "stdout",
     "output_type": "stream",
     "text": [
      "The autoreload extension is already loaded. To reload it, use:\n",
      "  %reload_ext autoreload\n",
      "Converting dapsys csv exports to valid format.\n"
     ]
    },
    {
     "name": "stderr",
     "output_type": "stream",
     "text": [
      "100%|████████████████████████████████████████████████████████████████████████████████████| 7/7 [00:56<00:00,  8.09s/it]\n"
     ]
    }
   ],
   "source": [
    "%load_ext autoreload\n",
    "%autoreload 2\n",
    "from pathlib import Path\n",
    "import os\n",
    "from neo_importers.neo_dapsys_importer import _do_files_need_fixing, _fix_separator_decimal_matching\n",
    "\n",
    "file_path = Path(\"..\")/\"..\"/\"Files\"/\"dapsys_crossing_tracks\"\n",
    "\n",
    "if _do_files_need_fixing(orig_path):\n",
    "    fixed_path = os.path.join(file_path, \"fixed\")\n",
    "    _fix_separator_decimal_matching(in_path = orig_path, out_path = fixed_path)\n",
    "    file_path = fixed_path"
   ]
  },
  {
   "cell_type": "code",
   "execution_count": 24,
   "metadata": {
    "scrolled": true
   },
   "outputs": [
    {
     "name": "stderr",
     "output_type": "stream",
     "text": [
      "Processing AP Track 0 with 307 latencies.: 100%|█████████████████████████████████████| 307/307 [00:03<00:00, 96.35it/s]\n",
      "Processing AP Track 1 with 309 latencies.: 100%|████████████████████████████████████| 309/309 [00:03<00:00, 100.19it/s]\n"
     ]
    }
   ],
   "source": [
    "from neo_importers.neo_dapsys_importer import import_dapsys_csv_files\n",
    "from neo.core import Block\n",
    "\n",
    "block: Block = import_dapsys_csv_files(directory = file_path, sampling_rate = \"imply\")"
   ]
  },
  {
   "cell_type": "code",
   "execution_count": null,
   "metadata": {},
   "outputs": [],
   "source": []
  }
 ],
 "metadata": {
  "kernelspec": {
   "display_name": "Python 3",
   "language": "python",
   "name": "python3"
  },
  "language_info": {
   "codemirror_mode": {
    "name": "ipython",
    "version": 3
   },
   "file_extension": ".py",
   "mimetype": "text/x-python",
   "name": "python",
   "nbconvert_exporter": "python",
   "pygments_lexer": "ipython3",
   "version": "3.7.0"
  }
 },
 "nbformat": 4,
 "nbformat_minor": 4
}
