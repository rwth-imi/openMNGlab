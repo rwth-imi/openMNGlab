{
 "cells": [
  {
   "cell_type": "code",
   "execution_count": null,
   "metadata": {},
   "outputs": [],
   "source": [
    "%load_ext autoreload\n",
    "%autoreload 2\n",
    "from gui import SpikeImportGUI\n",
    "from importers import SpikeImporter\n",
    "from recordings import MNGRecording\n",
    "\n",
    "# present the Spike GUI and let the user make his choices\n",
    "spike_gui = SpikeImportGUI()\n",
    "# then, create an importer object and use the gui parameters to create the recording object\n",
    "importer = SpikeImporter(filepath = spike_gui.filepath, time_channel = spike_gui.time_channel, signal_channel = spike_gui.signal_channel)\n",
    "recording = importer.create_recording(stimulus_channels = spike_gui.stimulus_channels, ap_channels = spike_gui.ap_channels, \\\n",
    "                                      force_threshold = spike_gui.force_threshold, max_ap_gap_time = spike_gui.max_ap_gap)\n",
    "_ = recording.split_into_sweeps()"
   ]
  },
  {
   "cell_type": "code",
   "execution_count": null,
   "metadata": {},
   "outputs": [],
   "source": [
    "'''\n",
    "Here, we extract some features from the APs:\n",
    "- postpulse distance (aka latency)\n",
    "- normalized signal energy\n",
    "'''\n",
    "%autoreload 2\n",
    "from tqdm import tqdm\n",
    "from feature_extraction import ResponseLatency, NormalizedSignalEnergy, SpikeCount, AdaptiveSpikeCount\n",
    "\n",
    "print(\"Extracting features from every AP\")\n",
    "features = [ResponseLatency(regular_el_stimuli = recording.el_stimuli), \\\n",
    "            NormalizedSignalEnergy(), \\\n",
    "            SpikeCount(actpots = recording.actpots, timeframe = 100, num_intervals = 16), \\\n",
    "            AdaptiveSpikeCount(actpots = recording.actpots, timeframe = 100, num_splits = 8)]\n",
    "\n",
    "for ap in tqdm(recording.actpots):\n",
    "    # for each of the features, calculate and store in the ap's dict\n",
    "    for feature in features:\n",
    "        ap.features[feature.get_feature_name()] = feature.get_feature_value(ap)\n",
    "\n",
    "    # also, save a reference to the previous electrical stimulus.\n",
    "    # we might need that later.\n",
    "    ap.prev_stimuli[\"regular\"] = MNGRecording.get_prev_stimulus(ap, recording.el_stimuli)"
   ]
  },
  {
   "cell_type": "code",
   "execution_count": null,
   "metadata": {},
   "outputs": [],
   "source": [
    "%autoreload 2\n",
    "from plotting import FallingLeafPlot\n",
    "from ipywidgets import interact_manual, fixed, IntSlider, FloatSlider\n",
    "\n",
    "tmin, tmax = importer.get_time_range()\n",
    "max_interval_length = max([stim.interval_length for stim in recording.el_stimuli])\n",
    "\n",
    "flplot = FallingLeafPlot()\n",
    "interact_manual(flplot.plot, regular_stimuli = fixed(recording.el_stimuli), action_potentials = fixed(recording.actpots), \\\n",
    "                t_start = FloatSlider(min = tmin, max = tmax, value = 0), \\\n",
    "                num_intervals = IntSlider(min = 1, max = len(recording.el_stimuli), step = 1, value = 300), \\\n",
    "                post_stimulus_timeframe = FloatSlider(min = 0, max = max_interval_length, step = 0.01, value = 0.05), \\\n",
    "                ap_tracks = fixed([]), \\\n",
    "                manual_name = \"Update Plot\")"
   ]
  },
  {
   "cell_type": "code",
   "execution_count": null,
   "metadata": {},
   "outputs": [],
   "source": [
    "''' \n",
    "This cell performs the clustering according to latency s.t. we can initialize a track\n",
    "'''\n",
    "%autoreload 2\n",
    "from fibre_tracking import DBSCANClustering\n",
    "\n",
    "# define the number of seconds that should be considered for initialization\n",
    "NUM_SECONDS = 100\n",
    "T_START = 0\n",
    "first_track_aps = [ap for ap in recording.actpots if ap.onset > T_START and ap.onset < T_START + NUM_SECONDS]\n",
    "\n",
    "initial_track_labels = DBSCANClustering.perform_clustering(actpots = first_track_aps, eps = 0.003, \\\n",
    "                                             min_samples = 10, plot_results = True)"
   ]
  },
  {
   "cell_type": "code",
   "execution_count": null,
   "metadata": {},
   "outputs": [],
   "source": [
    "%autoreload 2\n",
    "from fibre_tracking.ap_track import APTrack\n",
    "from plotting import FallingLeafPlot\n",
    "\n",
    "# now, we can try to construct tracks from this\n",
    "clean_track_aps = [ap for (ap, cls_idx) in zip(first_track_aps, initial_track_labels) if cls_idx == 0]\n",
    "ap_track = APTrack.from_aps(sweeps = recording.sweeps, aps = clean_track_aps)\n",
    "\n",
    "# Starting point for the falling leaf plot\n",
    "FLP_START_TIME = recording.sweeps[ap_track.sweep_idcs[0]].t_start\n",
    "FLP_POST_ST_TIMEFRAME = max(ap_track.latencies) * 1.5\n",
    "\n",
    "# plot this AP track for illustrative purposes\n",
    "flplot = FallingLeafPlot()\n",
    "flplot.plot(regular_stimuli = recording.el_stimuli, action_potentials = recording.actpots, t_start = FLP_START_TIME, \\\n",
    "            num_intervals = 500, ap_tracks = [ap_track], post_stimulus_timeframe = FLP_POST_ST_TIMEFRAME, plot_raw_signal= False)"
   ]
  },
  {
   "cell_type": "code",
   "execution_count": null,
   "metadata": {},
   "outputs": [],
   "source": [
    "%autoreload 2\n",
    "from fibre_tracking.ap_track import APTrack\n",
    "from plotting import FallingLeafPlot\n",
    "\n",
    "# for how many intervals do we want to extend the track?\n",
    "EXT_NUM_INTV = 500\n",
    "# Starting point for the falling leaf plot\n",
    "FLP_START_TIME = recording.sweeps[ap_track.sweep_idcs[0]].t_start\n",
    "FLP_POST_ST_TIMEFRAME = max(ap_track.latencies) * 1.5\n",
    "\n",
    "# extend the track for the given number of intervals\n",
    "ap_track.extend_downwards(recording.sweeps, num_sweeps = EXT_NUM_INTV, max_shift = 0.01, radius = 2, verbose = False)\n",
    "\n",
    "flplot = FallingLeafPlot()\n",
    "flplot.plot(regular_stimuli = recording.el_stimuli, action_potentials = recording.actpots, t_start = FLP_START_TIME, \\\n",
    "            num_intervals = len(ap_track), ap_tracks = [ap_track], post_stimulus_timeframe = FLP_POST_ST_TIMEFRAME, \\\n",
    "            plot_raw_signal= False)"
   ]
  },
  {
   "cell_type": "code",
   "execution_count": null,
   "metadata": {},
   "outputs": [],
   "source": [
    "%autoreload 2\n",
    "from fibre_tracking.ap_track import APTrack\n",
    "from plotting import FallingLeafPlot\n",
    "\n",
    "# and now, we can extract the nearest action potentials\n",
    "aps = ap_track.get_nearest_existing_aps(sweeps = recording.sweeps)\n",
    "\n",
    "# also, we may want to change the track's color :)\n",
    "ap_track.color = \"green\"\n",
    "\n",
    "# Starting point for the falling leaf plot\n",
    "FLP_START_TIME = recording.sweeps[ap_track.sweep_idcs[0]].t_start\n",
    "FLP_POST_ST_TIMEFRAME = max(ap_track.latencies) * 1.5\n",
    "\n",
    "flplot = FallingLeafPlot()\n",
    "flplot.plot(regular_stimuli = recording.el_stimuli, action_potentials = aps, t_start = FLP_START_TIME, num_intervals = len(ap_track), \\\n",
    "            ap_tracks = [ap_track], post_stimulus_timeframe = FLP_POST_ST_TIMEFRAME, plot_raw_signal = False)"
   ]
  },
  {
   "cell_type": "code",
   "execution_count": null,
   "metadata": {},
   "outputs": [],
   "source": [
    "%autoreload 2\n",
    "from signal_artifacts import ActionPotential\n",
    "\n",
    "ActionPotential.save_aps_to_csv(actpots = aps, fpath = \"../data/test_ap_export.csv\")"
   ]
  },
  {
   "cell_type": "code",
   "execution_count": null,
   "metadata": {},
   "outputs": [],
   "source": [
    "%autoreload 2\n",
    "from fibre_tracking import APTrack\n",
    "\n",
    "ap_track.remove_behind(sweep_idx = 40)"
   ]
  },
  {
   "cell_type": "code",
   "execution_count": null,
   "metadata": {},
   "outputs": [],
   "source": [
    "%autoreload 2\n",
    "from signal_artifacts import ActionPotential\n",
    "\n",
    "ap_df = ActionPotential.load_aps_from_csv(fpath = \"../data/test_ap_export.csv\")"
   ]
  },
  {
   "cell_type": "code",
   "execution_count": null,
   "metadata": {},
   "outputs": [],
   "source": [
    "%autoreload 2\n",
    "from signal_artifacts import ActionPotential\n",
    "\n",
    "aps = ActionPotential.load_aps_from_csv(fpath = \"../data/test_ap_export.csv\")"
   ]
  },
  {
   "cell_type": "code",
   "execution_count": null,
   "metadata": {},
   "outputs": [],
   "source": []
  },
  {
   "cell_type": "code",
   "execution_count": null,
   "metadata": {},
   "outputs": [],
   "source": []
  }
 ],
 "metadata": {
  "kernelspec": {
   "display_name": "Python 3",
   "language": "python",
   "name": "python3"
  },
  "language_info": {
   "codemirror_mode": {
    "name": "ipython",
    "version": 3
   },
   "file_extension": ".py",
   "mimetype": "text/x-python",
   "name": "python",
   "nbconvert_exporter": "python",
   "pygments_lexer": "ipython3",
   "version": "3.7.0"
  }
 },
 "nbformat": 4,
 "nbformat_minor": 4
}
