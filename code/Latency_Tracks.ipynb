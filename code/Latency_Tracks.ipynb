{
 "cells": [
  {
   "cell_type": "code",
   "execution_count": 1,
   "metadata": {},
   "outputs": [
    {
     "name": "stdout",
     "output_type": "stream",
     "text": [
      "List of eletrical stimuli created.\n",
      "Finished processing AP channel 1 out of 1\n",
      "List of APs created.\n",
      "Done with cropping the intervals\n"
     ]
    }
   ],
   "source": [
    "%load_ext autoreload\n",
    "%autoreload 2\n",
    "from gui import SpikeImportGUI\n",
    "from importers import SpikeImporter\n",
    "from recordings import MNGRecording\n",
    "\n",
    "# present the Spike GUI and let the user make his choices\n",
    "spike_gui = SpikeImportGUI()\n",
    "\n",
    "importer = SpikeImporter(filepath = spike_gui.filepath, time_channel = spike_gui.time_channel, signal_channel = spike_gui.signal_channel)\n",
    "    \n",
    "recording = MNGRecording.from_importer(importer = importer, stimulus_channels = spike_gui.stimulus_channels, \\\n",
    "                                      ap_channels = spike_gui.ap_channels, force_threshold = spike_gui.force_threshold, \\\n",
    "                                      max_ap_gap_time = spike_gui.max_ap_gap)"
   ]
  },
  {
   "cell_type": "code",
   "execution_count": 4,
   "metadata": {},
   "outputs": [
    {
     "name": "stderr",
     "output_type": "stream",
     "text": [
      " 19%|██████████████▊                                                                 | 42/227 [00:00<00:00, 412.23it/s]"
     ]
    },
    {
     "name": "stdout",
     "output_type": "stream",
     "text": [
      "Extracting features from every AP\n"
     ]
    },
    {
     "name": "stderr",
     "output_type": "stream",
     "text": [
      "100%|███████████████████████████████████████████████████████████████████████████████| 227/227 [00:00<00:00, 489.31it/s]\n"
     ]
    }
   ],
   "source": [
    "'''\n",
    "Here, we extract some features from the APs:\n",
    "- postpulse distance (aka latency)\n",
    "- normalized signal energy\n",
    "'''\n",
    "%autoreload 2\n",
    "from tqdm import tqdm\n",
    "from feature_extraction import ResponseLatency, NormalizedSignalEnergy, SpikeCount, AdaptiveSpikeCount\n",
    "\n",
    "print(\"Extracting features from every AP\")\n",
    "features = [ResponseLatency(regular_el_stimuli = recording.el_stimuli), \\\n",
    "            NormalizedSignalEnergy(), \\\n",
    "            SpikeCount(actpots = recording.actpots, timeframe = 100, num_intervals = 16), \\\n",
    "            AdaptiveSpikeCount(actpots = recording.actpots, timeframe = 100, num_splits = 8)]\n",
    "\n",
    "for ap in tqdm(recording.actpots):\n",
    "    # for each of the features, calculate and store in the ap's dict\n",
    "    for feature in features:\n",
    "        ap.features[feature.get_feature_name()] = feature.get_feature_value(ap)\n",
    "\n",
    "    # also, save a reference to the previous electrical stimulus.\n",
    "    # we might need that later.\n",
    "    ap.prev_stimuli[\"regular\"] = MNGRecording.get_prev_el_stimulus(ap, recording.el_stimuli)"
   ]
  },
  {
   "cell_type": "code",
   "execution_count": 49,
   "metadata": {},
   "outputs": [
    {
     "data": {
      "application/vnd.jupyter.widget-view+json": {
       "model_id": "f4ef8e1cc8cc4045aa77062e347bd20c",
       "version_major": 2,
       "version_minor": 0
      },
      "text/plain": [
       "interactive(children=(FloatSlider(value=0.0, description='t_start', max=440.0), IntSlider(value=5, description…"
      ]
     },
     "metadata": {},
     "output_type": "display_data"
    },
    {
     "data": {
      "text/plain": [
       "<function ipywidgets.widgets.interaction._InteractFactory.__call__.<locals>.<lambda>(*args, **kwargs)>"
      ]
     },
     "execution_count": 49,
     "metadata": {},
     "output_type": "execute_result"
    }
   ],
   "source": [
    "%autoreload 2\n",
    "from plotting import FallingLeafPlot\n",
    "from ipywidgets import interact_manual, fixed, IntSlider, FloatSlider\n",
    "\n",
    "tmin, tmax = importer.get_time_range()\n",
    "max_interval_length = max([stim.interval_length for stim in recording.el_stimuli])\n",
    "\n",
    "flplot = FallingLeafPlot()\n",
    "interact_manual(flplot.plot, regular_stimuli = fixed(recording.el_stimuli), action_potentials = fixed(recording.actpots), \\\n",
    "                t_start = FloatSlider(min = tmin, max = tmax, value = 0), \\\n",
    "                num_intervals = IntSlider(min = 1, max = len(recording.el_stimuli), step = 1, value = 5), \\\n",
    "                post_stimulus_timeframe = FloatSlider(min = 0, max = max_interval_length, value = 0.1), \\\n",
    "                manual_name = \"Update Plot\")"
   ]
  },
  {
   "cell_type": "code",
   "execution_count": 54,
   "metadata": {},
   "outputs": [
    {
     "data": {
      "image/png": "[encoded data removed]",
      "text/plain": [
       "<Figure size 720x540 with 1 Axes>"
      ]
     },
     "metadata": {
      "needs_background": "light"
     },
     "output_type": "display_data"
    }
   ],
   "source": [
    "%autoreload 2\n",
    "from metrics import median_RMS\n",
    "import numpy as np\n",
    "import matplotlib.pyplot as plt\n",
    "\n",
    "sweeps = recording.split_into_sweeps()\n",
    "\n",
    "shifts = np.linspace(start = -0.01, stop = 0.01, num = 21)\n",
    "rms = [median_RMS(sweeps, center_sweep_idx = 7, latency_shift = sh, latency = 0.06, radius = 2, window_size = 0.0015) \\\n",
    "       for sh in shifts]\n",
    "\n",
    "plt.figure(figsize = (10, 7.5))\n",
    "plt.plot(shifts, rms)\n",
    "plt.xlabel(\"Latency shift factor or slope m (in ms/sweep)\")\n",
    "plt.ylabel(\"Median root mean square\")\n",
    "plt.title(\"Radius 2, window size of 1.5 ms in each direction\")\n",
    "plt.show()\n",
    "\n"
   ]
  },
  {
   "cell_type": "code",
   "execution_count": null,
   "metadata": {},
   "outputs": [],
   "source": []
  }
 ],
 "metadata": {
  "kernelspec": {
   "display_name": "Python 3",
   "language": "python",
   "name": "python3"
  },
  "language_info": {
   "codemirror_mode": {
    "name": "ipython",
    "version": 3
   },
   "file_extension": ".py",
   "mimetype": "text/x-python",
   "name": "python",
   "nbconvert_exporter": "python",
   "pygments_lexer": "ipython3",
   "version": "3.7.0"
  }
 },
 "nbformat": 4,
 "nbformat_minor": 4
}
