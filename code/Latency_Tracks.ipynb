{
 "cells": [
  {
   "cell_type": "code",
   "execution_count": 5,
   "metadata": {},
   "outputs": [
    {
     "name": "stdout",
     "output_type": "stream",
     "text": [
      "The autoreload extension is already loaded. To reload it, use:\n",
      "  %reload_ext autoreload\n",
      "List of eletrical stimuli created.\n",
      "List of extra eletrical stimuli created.\n",
      "Finished processing AP channel 1 out of 1\n",
      "List of APs created.\n",
      "Done with cropping the intervals\n"
     ]
    }
   ],
   "source": [
    "%load_ext autoreload\n",
    "%autoreload 2\n",
    "from gui import SpikeImportGUI\n",
    "from importers import SpikeImporter\n",
    "from recordings import MNGRecording\n",
    "\n",
    "# present the Spike GUI and let the user make his choices\n",
    "spike_gui = SpikeImportGUI()\n",
    "# then, create an importer object and use the gui parameters to create the recording object\n",
    "importer = SpikeImporter(filepath = spike_gui.filepath, time_channel = spike_gui.time_channel, signal_channel = spike_gui.signal_channel)\n",
    "recording = importer.create_recording(stimulus_channels = spike_gui.stimulus_channels, ap_channels = spike_gui.ap_channels, \\\n",
    "                                      force_threshold = spike_gui.force_threshold, max_ap_gap_time = spike_gui.max_ap_gap)\n",
    "_ = recording.split_into_sweeps()"
   ]
  },
  {
   "cell_type": "code",
   "execution_count": 6,
   "metadata": {},
   "outputs": [
    {
     "name": "stderr",
     "output_type": "stream",
     "text": [
      " 19%|███████████████▌                                                                | 44/227 [00:00<00:00, 431.49it/s]"
     ]
    },
    {
     "name": "stdout",
     "output_type": "stream",
     "text": [
      "Extracting features from every AP\n"
     ]
    },
    {
     "name": "stderr",
     "output_type": "stream",
     "text": [
      "100%|███████████████████████████████████████████████████████████████████████████████| 227/227 [00:00<00:00, 498.43it/s]\n"
     ]
    }
   ],
   "source": [
    "'''\n",
    "Here, we extract some features from the APs:\n",
    "- postpulse distance (aka latency)\n",
    "- normalized signal energy\n",
    "'''\n",
    "%autoreload 2\n",
    "from tqdm import tqdm\n",
    "from feature_extraction import ResponseLatency, NormalizedSignalEnergy, SpikeCount, AdaptiveSpikeCount\n",
    "\n",
    "print(\"Extracting features from every AP\")\n",
    "features = [ResponseLatency(regular_el_stimuli = recording.el_stimuli), \\\n",
    "            NormalizedSignalEnergy(), \\\n",
    "            SpikeCount(actpots = recording.actpots, timeframe = 100, num_intervals = 16), \\\n",
    "            AdaptiveSpikeCount(actpots = recording.actpots, timeframe = 100, num_splits = 8)]\n",
    "\n",
    "for ap in tqdm(recording.actpots):\n",
    "    # for each of the features, calculate and store in the ap's dict\n",
    "    for feature in features:\n",
    "        ap.features[feature.get_feature_name()] = feature.get_feature_value(ap)\n",
    "\n",
    "    # also, save a reference to the previous electrical stimulus.\n",
    "    # we might need that later.\n",
    "    ap.prev_stimuli[\"regular\"] = MNGRecording.get_prev_el_stimulus(ap, recording.el_stimuli)"
   ]
  },
  {
   "cell_type": "code",
   "execution_count": 8,
   "metadata": {},
   "outputs": [
    {
     "data": {
      "application/vnd.jupyter.widget-view+json": {
       "model_id": "2ad468b30c3e43caa390463ad6165104",
       "version_major": 2,
       "version_minor": 0
      },
      "text/plain": [
       "interactive(children=(FloatSlider(value=0.0, description='t_start', max=440.0), IntSlider(value=109, descripti…"
      ]
     },
     "metadata": {},
     "output_type": "display_data"
    },
    {
     "data": {
      "text/plain": [
       "<function ipywidgets.widgets.interaction._InteractFactory.__call__.<locals>.<lambda>(*args, **kwargs)>"
      ]
     },
     "execution_count": 8,
     "metadata": {},
     "output_type": "execute_result"
    }
   ],
   "source": [
    "%autoreload 2\n",
    "from plotting import FallingLeafPlot\n",
    "from ipywidgets import interact_manual, fixed, IntSlider, FloatSlider\n",
    "\n",
    "tmin, tmax = importer.get_time_range()\n",
    "max_interval_length = max([stim.interval_length for stim in recording.el_stimuli])\n",
    "\n",
    "flplot = FallingLeafPlot()\n",
    "interact_manual(flplot.plot, regular_stimuli = fixed(recording.el_stimuli), action_potentials = fixed(recording.actpots), \\\n",
    "                t_start = FloatSlider(min = tmin, max = tmax, value = 0), \\\n",
    "                num_intervals = IntSlider(min = 1, max = len(recording.el_stimuli), step = 1, value = 300), \\\n",
    "                post_stimulus_timeframe = FloatSlider(min = 0, max = max_interval_length, step = 0.01, value = 0.05), \\\n",
    "                ap_tracks = fixed([]), \\\n",
    "                manual_name = \"Update Plot\")"
   ]
  },
  {
   "cell_type": "code",
   "execution_count": 11,
   "metadata": {
    "scrolled": false
   },
   "outputs": [
    {
     "data": {
      "application/vnd.plotly.v1+json": {
       "config": {
        "plotlyServerURL": "https://plot.ly"
       },
       "data": [
        {
         "hovertemplate": "%{text}",
         "marker": {
          "color": [
           "blue",
           "blue",
           "blue",
           "blue",
           "blue",
           "black",
           "blue",
           "black",
           "blue",
           "black",
           "black",
           "black",
           "black",
           "black",
           "black",
           "blue",
           "black",
           "black",
           "blue",
           "black",
           "blue",
           "black",
           "blue",
           "black",
           "blue",
           "black",
           "blue",
           "black",
           "black",
           "blue",
           "blue",
           "black",
           "black",
           "black",
           "black",
           "black",
           "blue",
           "black",
           "blue",
           "black",
           "blue",
           "blue",
           "blue",
           "blue",
           "blue",
           "black",
           "black",
           "black",
           "black",
           "black",
           "black",
           "black",
           "black",
           "black"
          ],
          "symbol": [
           0,
           0,
           0,
           0,
           0,
           0,
           0,
           0,
           0,
           0,
           0,
           0,
           0,
           0,
           0,
           0,
           0,
           0,
           0,
           0,
           0,
           0,
           0,
           0,
           0,
           0,
           0,
           0,
           0,
           0,
           0,
           0,
           0,
           0,
           0,
           0,
           0,
           0,
           0,
           0,
           0,
           0,
           0,
           0,
           0,
           0,
           0,
           0,
           0,
           0,
           0,
           0,
           0,
           0
          ]
         },
         "mode": "markers",
         "text": [
          "Latency: 55.35ms<br>Energy: 492602.87mV^2<br>Cluster Index: 0<br>Channel Index: 0<br>",
          "Latency: 55.25ms<br>Energy: 474010.23mV^2<br>Cluster Index: 0<br>Channel Index: 0<br>",
          "Latency: 55.40ms<br>Energy: 499170.06mV^2<br>Cluster Index: 0<br>Channel Index: 0<br>",
          "Latency: 55.50ms<br>Energy: 467836.58mV^2<br>Cluster Index: 0<br>Channel Index: 0<br>",
          "Latency: 55.70ms<br>Energy: 496150.22mV^2<br>Cluster Index: 0<br>Channel Index: 0<br>",
          "Latency: 89.80ms<br>Energy: 471432.34mV^2<br>Cluster Index: -1<br>Channel Index: 0<br>",
          "Latency: 56.00ms<br>Energy: 512735.34mV^2<br>Cluster Index: 0<br>Channel Index: 0<br>",
          "Latency: 87.50ms<br>Energy: 613601.52mV^2<br>Cluster Index: -1<br>Channel Index: 0<br>",
          "Latency: 56.35ms<br>Energy: 492185.37mV^2<br>Cluster Index: 0<br>Channel Index: 0<br>",
          "Latency: 2455.35ms<br>Energy: 397746.61mV^2<br>Cluster Index: -1<br>Channel Index: 0<br>",
          "Latency: 2658.60ms<br>Energy: 449923.40mV^2<br>Cluster Index: -1<br>Channel Index: 0<br>",
          "Latency: 2697.20ms<br>Energy: 558882.33mV^2<br>Cluster Index: -1<br>Channel Index: 0<br>",
          "Latency: 2861.60ms<br>Energy: 632302.33mV^2<br>Cluster Index: -1<br>Channel Index: 0<br>",
          "Latency: 3061.40ms<br>Energy: 421809.65mV^2<br>Cluster Index: -1<br>Channel Index: 0<br>",
          "Latency: 3111.80ms<br>Energy: 484615.81mV^2<br>Cluster Index: -1<br>Channel Index: 0<br>",
          "Latency: 61.35ms<br>Energy: 513387.48mV^2<br>Cluster Index: 0<br>Channel Index: 0<br>",
          "Latency: 72.35ms<br>Energy: 770091.73mV^2<br>Cluster Index: -1<br>Channel Index: 0<br>",
          "Latency: 125.90ms<br>Energy: 634300.16mV^2<br>Cluster Index: -1<br>Channel Index: 0<br>",
          "Latency: 59.90ms<br>Energy: 574607.29mV^2<br>Cluster Index: 0<br>Channel Index: 0<br>",
          "Latency: 94.60ms<br>Energy: 583039.21mV^2<br>Cluster Index: -1<br>Channel Index: 0<br>",
          "Latency: 59.15ms<br>Energy: 536935.88mV^2<br>Cluster Index: 0<br>Channel Index: 0<br>",
          "Latency: 116.80ms<br>Energy: 772733.91mV^2<br>Cluster Index: -1<br>Channel Index: 0<br>",
          "Latency: 58.35ms<br>Energy: 499366.06mV^2<br>Cluster Index: 0<br>Channel Index: 0<br>",
          "Latency: 89.85ms<br>Energy: 511191.01mV^2<br>Cluster Index: -1<br>Channel Index: 0<br>",
          "Latency: 58.50ms<br>Energy: 538189.64mV^2<br>Cluster Index: 0<br>Channel Index: 0<br>",
          "Latency: 94.50ms<br>Energy: 623640.43mV^2<br>Cluster Index: -1<br>Channel Index: 0<br>",
          "Latency: 58.60ms<br>Energy: 452541.62mV^2<br>Cluster Index: 0<br>Channel Index: 0<br>",
          "Latency: 617.75ms<br>Energy: 513068.01mV^2<br>Cluster Index: -1<br>Channel Index: 0<br>",
          "Latency: 673.80ms<br>Energy: 737274.49mV^2<br>Cluster Index: -1<br>Channel Index: 0<br>",
          "Latency: 59.25ms<br>Energy: 486397.35mV^2<br>Cluster Index: 0<br>Channel Index: 0<br>",
          "Latency: 58.75ms<br>Energy: 469377.04mV^2<br>Cluster Index: 0<br>Channel Index: 0<br>",
          "Latency: 2457.55ms<br>Energy: 424790.81mV^2<br>Cluster Index: -1<br>Channel Index: 0<br>",
          "Latency: 2707.05ms<br>Energy: 551189.09mV^2<br>Cluster Index: -1<br>Channel Index: 0<br>",
          "Latency: 2863.80ms<br>Energy: 565338.26mV^2<br>Cluster Index: -1<br>Channel Index: 0<br>",
          "Latency: 2923.95ms<br>Energy: 645416.92mV^2<br>Cluster Index: -1<br>Channel Index: 0<br>",
          "Latency: 3065.70ms<br>Energy: 608314.67mV^2<br>Cluster Index: -1<br>Channel Index: 0<br>",
          "Latency: 63.65ms<br>Energy: 497039.27mV^2<br>Cluster Index: 0<br>Channel Index: 0<br>",
          "Latency: 145.35ms<br>Energy: 629514.27mV^2<br>Cluster Index: -1<br>Channel Index: 0<br>",
          "Latency: 62.15ms<br>Energy: 455787.82mV^2<br>Cluster Index: 0<br>Channel Index: 0<br>",
          "Latency: 101.80ms<br>Energy: 461566.45mV^2<br>Cluster Index: -1<br>Channel Index: 0<br>",
          "Latency: 61.15ms<br>Energy: 515252.22mV^2<br>Cluster Index: 0<br>Channel Index: 0<br>",
          "Latency: 60.30ms<br>Energy: 564174.12mV^2<br>Cluster Index: 0<br>Channel Index: 0<br>",
          "Latency: 59.45ms<br>Energy: 471215.69mV^2<br>Cluster Index: 0<br>Channel Index: 0<br>",
          "Latency: 59.05ms<br>Energy: 548936.31mV^2<br>Cluster Index: 0<br>Channel Index: 0<br>",
          "Latency: 59.00ms<br>Energy: 529612.03mV^2<br>Cluster Index: 0<br>Channel Index: 0<br>",
          "Latency: 146.85ms<br>Energy: 807489.66mV^2<br>Cluster Index: -1<br>Channel Index: 0<br>",
          "Latency: 2457.95ms<br>Energy: 462680.50mV^2<br>Cluster Index: -1<br>Channel Index: 0<br>",
          "Latency: 2489.95ms<br>Energy: 562934.59mV^2<br>Cluster Index: -1<br>Channel Index: 0<br>",
          "Latency: 2663.40ms<br>Energy: 536345.16mV^2<br>Cluster Index: -1<br>Channel Index: 0<br>",
          "Latency: 2705.85ms<br>Energy: 530943.18mV^2<br>Cluster Index: -1<br>Channel Index: 0<br>",
          "Latency: 3065.20ms<br>Energy: 578029.04mV^2<br>Cluster Index: -1<br>Channel Index: 0<br>",
          "Latency: 3110.55ms<br>Energy: 580794.33mV^2<br>Cluster Index: -1<br>Channel Index: 0<br>",
          "Latency: 64.90ms<br>Energy: 481556.74mV^2<br>Cluster Index: -1<br>Channel Index: 0<br>",
          "Latency: 121.90ms<br>Energy: 638744.89mV^2<br>Cluster Index: -1<br>Channel Index: 0<br>"
         ],
         "type": "scatter",
         "x": [
          0.05534999999999979,
          0.05525000000000091,
          0.05540000000000056,
          0.0555000000000021,
          0.05570000000000164,
          0.08980000000000032,
          0.055999999999997385,
          0.08749999999999858,
          0.0563500000000019,
          2.455350000000003,
          2.6586,
          2.6972000000000023,
          2.861600000000003,
          3.061399999999999,
          3.1118000000000023,
          0.061350000000004457,
          0.07235000000000014,
          0.12590000000000146,
          0.059899999999998954,
          0.0945999999999998,
          0.05915000000000248,
          0.1167999999999978,
          0.05834999999999724,
          0.08984999999999843,
          0.05850000000000222,
          0.09449999999999648,
          0.05859999999999843,
          0.6177500000000009,
          0.6738,
          0.05924999999999869,
          0.05875000000000341,
          2.457550000000005,
          2.7070500000000024,
          2.863800000000005,
          2.923949999999998,
          3.0656999999999996,
          0.06364999999999554,
          0.14534999999999343,
          0.06215000000000259,
          0.10179999999999723,
          0.06114999999999782,
          0.06029999999999802,
          0.059449999999998226,
          0.05904999999999916,
          0.05900000000001171,
          0.1468500000000006,
          2.4579499999999967,
          2.4899499999999932,
          2.6633999999999958,
          2.705849999999998,
          3.06519999999999,
          3.1105500000000035,
          0.0648999999999944,
          0.12189999999999657
         ],
         "y": [
          5.65125,
          9.6514,
          13.6518,
          17.6521,
          21.65255,
          21.68665,
          25.6531,
          25.6846,
          29.6537,
          32.0527,
          32.25595,
          32.29455,
          32.45895,
          32.65875,
          32.70915,
          33.6591,
          33.6701,
          33.72365,
          37.6579,
          37.6926,
          41.6574,
          41.71505,
          45.65685,
          45.68835,
          49.6572,
          49.6932,
          53.65755,
          54.2167,
          54.27275,
          57.65845,
          61.6582,
          64.057,
          64.3065,
          64.46325,
          64.5234,
          64.66515,
          65.6635,
          65.7452,
          69.66225,
          69.7019,
          73.6615,
          77.6609,
          81.66025,
          85.6601,
          89.6603,
          89.74815,
          96.0595,
          96.0915,
          96.26495,
          96.3074,
          96.66675,
          96.7121,
          97.66685,
          97.72385
         ]
        }
       ],
       "layout": {
        "height": 600,
        "template": {
         "data": {
          "bar": [
           {
            "error_x": {
             "color": "#2a3f5f"
            },
            "error_y": {
             "color": "#2a3f5f"
            },
            "marker": {
             "line": {
              "color": "#E5ECF6",
              "width": 0.5
             }
            },
            "type": "bar"
           }
          ],
          "barpolar": [
           {
            "marker": {
             "line": {
              "color": "#E5ECF6",
              "width": 0.5
             }
            },
            "type": "barpolar"
           }
          ],
          "carpet": [
           {
            "aaxis": {
             "endlinecolor": "#2a3f5f",
             "gridcolor": "white",
             "linecolor": "white",
             "minorgridcolor": "white",
             "startlinecolor": "#2a3f5f"
            },
            "baxis": {
             "endlinecolor": "#2a3f5f",
             "gridcolor": "white",
             "linecolor": "white",
             "minorgridcolor": "white",
             "startlinecolor": "#2a3f5f"
            },
            "type": "carpet"
           }
          ],
          "choropleth": [
           {
            "colorbar": {
             "outlinewidth": 0,
             "ticks": ""
            },
            "type": "choropleth"
           }
          ],
          "contour": [
           {
            "colorbar": {
             "outlinewidth": 0,
             "ticks": ""
            },
            "colorscale": [
             [
              0,
              "#0d0887"
             ],
             [
              0.1111111111111111,
              "#46039f"
             ],
             [
              0.2222222222222222,
              "#7201a8"
             ],
             [
              0.3333333333333333,
              "#9c179e"
             ],
             [
              0.4444444444444444,
              "#bd3786"
             ],
             [
              0.5555555555555556,
              "#d8576b"
             ],
             [
              0.6666666666666666,
              "#ed7953"
             ],
             [
              0.7777777777777778,
              "#fb9f3a"
             ],
             [
              0.8888888888888888,
              "#fdca26"
             ],
             [
              1,
              "#f0f921"
             ]
            ],
            "type": "contour"
           }
          ],
          "contourcarpet": [
           {
            "colorbar": {
             "outlinewidth": 0,
             "ticks": ""
            },
            "type": "contourcarpet"
           }
          ],
          "heatmap": [
           {
            "colorbar": {
             "outlinewidth": 0,
             "ticks": ""
            },
            "colorscale": [
             [
              0,
              "#0d0887"
             ],
             [
              0.1111111111111111,
              "#46039f"
             ],
             [
              0.2222222222222222,
              "#7201a8"
             ],
             [
              0.3333333333333333,
              "#9c179e"
             ],
             [
              0.4444444444444444,
              "#bd3786"
             ],
             [
              0.5555555555555556,
              "#d8576b"
             ],
             [
              0.6666666666666666,
              "#ed7953"
             ],
             [
              0.7777777777777778,
              "#fb9f3a"
             ],
             [
              0.8888888888888888,
              "#fdca26"
             ],
             [
              1,
              "#f0f921"
             ]
            ],
            "type": "heatmap"
           }
          ],
          "heatmapgl": [
           {
            "colorbar": {
             "outlinewidth": 0,
             "ticks": ""
            },
            "colorscale": [
             [
              0,
              "#0d0887"
             ],
             [
              0.1111111111111111,
              "#46039f"
             ],
             [
              0.2222222222222222,
              "#7201a8"
             ],
             [
              0.3333333333333333,
              "#9c179e"
             ],
             [
              0.4444444444444444,
              "#bd3786"
             ],
             [
              0.5555555555555556,
              "#d8576b"
             ],
             [
              0.6666666666666666,
              "#ed7953"
             ],
             [
              0.7777777777777778,
              "#fb9f3a"
             ],
             [
              0.8888888888888888,
              "#fdca26"
             ],
             [
              1,
              "#f0f921"
             ]
            ],
            "type": "heatmapgl"
           }
          ],
          "histogram": [
           {
            "marker": {
             "colorbar": {
              "outlinewidth": 0,
              "ticks": ""
             }
            },
            "type": "histogram"
           }
          ],
          "histogram2d": [
           {
            "colorbar": {
             "outlinewidth": 0,
             "ticks": ""
            },
            "colorscale": [
             [
              0,
              "#0d0887"
             ],
             [
              0.1111111111111111,
              "#46039f"
             ],
             [
              0.2222222222222222,
              "#7201a8"
             ],
             [
              0.3333333333333333,
              "#9c179e"
             ],
             [
              0.4444444444444444,
              "#bd3786"
             ],
             [
              0.5555555555555556,
              "#d8576b"
             ],
             [
              0.6666666666666666,
              "#ed7953"
             ],
             [
              0.7777777777777778,
              "#fb9f3a"
             ],
             [
              0.8888888888888888,
              "#fdca26"
             ],
             [
              1,
              "#f0f921"
             ]
            ],
            "type": "histogram2d"
           }
          ],
          "histogram2dcontour": [
           {
            "colorbar": {
             "outlinewidth": 0,
             "ticks": ""
            },
            "colorscale": [
             [
              0,
              "#0d0887"
             ],
             [
              0.1111111111111111,
              "#46039f"
             ],
             [
              0.2222222222222222,
              "#7201a8"
             ],
             [
              0.3333333333333333,
              "#9c179e"
             ],
             [
              0.4444444444444444,
              "#bd3786"
             ],
             [
              0.5555555555555556,
              "#d8576b"
             ],
             [
              0.6666666666666666,
              "#ed7953"
             ],
             [
              0.7777777777777778,
              "#fb9f3a"
             ],
             [
              0.8888888888888888,
              "#fdca26"
             ],
             [
              1,
              "#f0f921"
             ]
            ],
            "type": "histogram2dcontour"
           }
          ],
          "mesh3d": [
           {
            "colorbar": {
             "outlinewidth": 0,
             "ticks": ""
            },
            "type": "mesh3d"
           }
          ],
          "parcoords": [
           {
            "line": {
             "colorbar": {
              "outlinewidth": 0,
              "ticks": ""
             }
            },
            "type": "parcoords"
           }
          ],
          "pie": [
           {
            "automargin": true,
            "type": "pie"
           }
          ],
          "scatter": [
           {
            "marker": {
             "colorbar": {
              "outlinewidth": 0,
              "ticks": ""
             }
            },
            "type": "scatter"
           }
          ],
          "scatter3d": [
           {
            "line": {
             "colorbar": {
              "outlinewidth": 0,
              "ticks": ""
             }
            },
            "marker": {
             "colorbar": {
              "outlinewidth": 0,
              "ticks": ""
             }
            },
            "type": "scatter3d"
           }
          ],
          "scattercarpet": [
           {
            "marker": {
             "colorbar": {
              "outlinewidth": 0,
              "ticks": ""
             }
            },
            "type": "scattercarpet"
           }
          ],
          "scattergeo": [
           {
            "marker": {
             "colorbar": {
              "outlinewidth": 0,
              "ticks": ""
             }
            },
            "type": "scattergeo"
           }
          ],
          "scattergl": [
           {
            "marker": {
             "colorbar": {
              "outlinewidth": 0,
              "ticks": ""
             }
            },
            "type": "scattergl"
           }
          ],
          "scattermapbox": [
           {
            "marker": {
             "colorbar": {
              "outlinewidth": 0,
              "ticks": ""
             }
            },
            "type": "scattermapbox"
           }
          ],
          "scatterpolar": [
           {
            "marker": {
             "colorbar": {
              "outlinewidth": 0,
              "ticks": ""
             }
            },
            "type": "scatterpolar"
           }
          ],
          "scatterpolargl": [
           {
            "marker": {
             "colorbar": {
              "outlinewidth": 0,
              "ticks": ""
             }
            },
            "type": "scatterpolargl"
           }
          ],
          "scatterternary": [
           {
            "marker": {
             "colorbar": {
              "outlinewidth": 0,
              "ticks": ""
             }
            },
            "type": "scatterternary"
           }
          ],
          "surface": [
           {
            "colorbar": {
             "outlinewidth": 0,
             "ticks": ""
            },
            "colorscale": [
             [
              0,
              "#0d0887"
             ],
             [
              0.1111111111111111,
              "#46039f"
             ],
             [
              0.2222222222222222,
              "#7201a8"
             ],
             [
              0.3333333333333333,
              "#9c179e"
             ],
             [
              0.4444444444444444,
              "#bd3786"
             ],
             [
              0.5555555555555556,
              "#d8576b"
             ],
             [
              0.6666666666666666,
              "#ed7953"
             ],
             [
              0.7777777777777778,
              "#fb9f3a"
             ],
             [
              0.8888888888888888,
              "#fdca26"
             ],
             [
              1,
              "#f0f921"
             ]
            ],
            "type": "surface"
           }
          ],
          "table": [
           {
            "cells": {
             "fill": {
              "color": "#EBF0F8"
             },
             "line": {
              "color": "white"
             }
            },
            "header": {
             "fill": {
              "color": "#C8D4E3"
             },
             "line": {
              "color": "white"
             }
            },
            "type": "table"
           }
          ]
         },
         "layout": {
          "annotationdefaults": {
           "arrowcolor": "#2a3f5f",
           "arrowhead": 0,
           "arrowwidth": 1
          },
          "coloraxis": {
           "colorbar": {
            "outlinewidth": 0,
            "ticks": ""
           }
          },
          "colorscale": {
           "diverging": [
            [
             0,
             "#8e0152"
            ],
            [
             0.1,
             "#c51b7d"
            ],
            [
             0.2,
             "#de77ae"
            ],
            [
             0.3,
             "#f1b6da"
            ],
            [
             0.4,
             "#fde0ef"
            ],
            [
             0.5,
             "#f7f7f7"
            ],
            [
             0.6,
             "#e6f5d0"
            ],
            [
             0.7,
             "#b8e186"
            ],
            [
             0.8,
             "#7fbc41"
            ],
            [
             0.9,
             "#4d9221"
            ],
            [
             1,
             "#276419"
            ]
           ],
           "sequential": [
            [
             0,
             "#0d0887"
            ],
            [
             0.1111111111111111,
             "#46039f"
            ],
            [
             0.2222222222222222,
             "#7201a8"
            ],
            [
             0.3333333333333333,
             "#9c179e"
            ],
            [
             0.4444444444444444,
             "#bd3786"
            ],
            [
             0.5555555555555556,
             "#d8576b"
            ],
            [
             0.6666666666666666,
             "#ed7953"
            ],
            [
             0.7777777777777778,
             "#fb9f3a"
            ],
            [
             0.8888888888888888,
             "#fdca26"
            ],
            [
             1,
             "#f0f921"
            ]
           ],
           "sequentialminus": [
            [
             0,
             "#0d0887"
            ],
            [
             0.1111111111111111,
             "#46039f"
            ],
            [
             0.2222222222222222,
             "#7201a8"
            ],
            [
             0.3333333333333333,
             "#9c179e"
            ],
            [
             0.4444444444444444,
             "#bd3786"
            ],
            [
             0.5555555555555556,
             "#d8576b"
            ],
            [
             0.6666666666666666,
             "#ed7953"
            ],
            [
             0.7777777777777778,
             "#fb9f3a"
            ],
            [
             0.8888888888888888,
             "#fdca26"
            ],
            [
             1,
             "#f0f921"
            ]
           ]
          },
          "colorway": [
           "#636efa",
           "#EF553B",
           "#00cc96",
           "#ab63fa",
           "#FFA15A",
           "#19d3f3",
           "#FF6692",
           "#B6E880",
           "#FF97FF",
           "#FECB52"
          ],
          "font": {
           "color": "#2a3f5f"
          },
          "geo": {
           "bgcolor": "white",
           "lakecolor": "white",
           "landcolor": "#E5ECF6",
           "showlakes": true,
           "showland": true,
           "subunitcolor": "white"
          },
          "hoverlabel": {
           "align": "left"
          },
          "hovermode": "closest",
          "mapbox": {
           "style": "light"
          },
          "paper_bgcolor": "white",
          "plot_bgcolor": "#E5ECF6",
          "polar": {
           "angularaxis": {
            "gridcolor": "white",
            "linecolor": "white",
            "ticks": ""
           },
           "bgcolor": "#E5ECF6",
           "radialaxis": {
            "gridcolor": "white",
            "linecolor": "white",
            "ticks": ""
           }
          },
          "scene": {
           "xaxis": {
            "backgroundcolor": "#E5ECF6",
            "gridcolor": "white",
            "gridwidth": 2,
            "linecolor": "white",
            "showbackground": true,
            "ticks": "",
            "zerolinecolor": "white"
           },
           "yaxis": {
            "backgroundcolor": "#E5ECF6",
            "gridcolor": "white",
            "gridwidth": 2,
            "linecolor": "white",
            "showbackground": true,
            "ticks": "",
            "zerolinecolor": "white"
           },
           "zaxis": {
            "backgroundcolor": "#E5ECF6",
            "gridcolor": "white",
            "gridwidth": 2,
            "linecolor": "white",
            "showbackground": true,
            "ticks": "",
            "zerolinecolor": "white"
           }
          },
          "shapedefaults": {
           "line": {
            "color": "#2a3f5f"
           }
          },
          "ternary": {
           "aaxis": {
            "gridcolor": "white",
            "linecolor": "white",
            "ticks": ""
           },
           "baxis": {
            "gridcolor": "white",
            "linecolor": "white",
            "ticks": ""
           },
           "bgcolor": "#E5ECF6",
           "caxis": {
            "gridcolor": "white",
            "linecolor": "white",
            "ticks": ""
           }
          },
          "title": {
           "x": 0.05
          },
          "xaxis": {
           "automargin": true,
           "gridcolor": "white",
           "linecolor": "white",
           "ticks": "",
           "title": {
            "standoff": 15
           },
           "zerolinecolor": "white",
           "zerolinewidth": 2
          },
          "yaxis": {
           "automargin": true,
           "gridcolor": "white",
           "linecolor": "white",
           "ticks": "",
           "title": {
            "standoff": 15
           },
           "zerolinecolor": "white",
           "zerolinewidth": 2
          }
         }
        },
        "width": 1000,
        "xaxis": {
         "title": {
          "text": "Response Latency (s)"
         }
        },
        "yaxis": {
         "title": {
          "text": "Time (s)"
         }
        }
       }
      },
      "text/html": [
       "<div>\n",
       "        \n",
       "        \n",
       "            <div id=\"f8263ac4-7d21-4e20-856c-ab7821f05b21\" class=\"plotly-graph-div\" style=\"height:600px; width:1000px;\"></div>\n",
       "            <script type=\"text/javascript\">\n",
       "                require([\"plotly\"], function(Plotly) {\n",
       "                    window.PLOTLYENV=window.PLOTLYENV || {};\n",
       "                    \n",
       "                if (document.getElementById(\"f8263ac4-7d21-4e20-856c-ab7821f05b21\")) {\n",
       "                    Plotly.newPlot(\n",
       "                        'f8263ac4-7d21-4e20-856c-ab7821f05b21',\n",
       "                        [{\"hovertemplate\": \"%{text}\", \"marker\": {\"color\": [\"blue\", \"blue\", \"blue\", \"blue\", \"blue\", \"black\", \"blue\", \"black\", \"blue\", \"black\", \"black\", \"black\", \"black\", \"black\", \"black\", \"blue\", \"black\", \"black\", \"blue\", \"black\", \"blue\", \"black\", \"blue\", \"black\", \"blue\", \"black\", \"blue\", \"black\", \"black\", \"blue\", \"blue\", \"black\", \"black\", \"black\", \"black\", \"black\", \"blue\", \"black\", \"blue\", \"black\", \"blue\", \"blue\", \"blue\", \"blue\", \"blue\", \"black\", \"black\", \"black\", \"black\", \"black\", \"black\", \"black\", \"black\", \"black\"], \"symbol\": [0, 0, 0, 0, 0, 0, 0, 0, 0, 0, 0, 0, 0, 0, 0, 0, 0, 0, 0, 0, 0, 0, 0, 0, 0, 0, 0, 0, 0, 0, 0, 0, 0, 0, 0, 0, 0, 0, 0, 0, 0, 0, 0, 0, 0, 0, 0, 0, 0, 0, 0, 0, 0, 0]}, \"mode\": \"markers\", \"text\": [\"Latency: 55.35ms<br>Energy: 492602.87mV^2<br>Cluster Index: 0<br>Channel Index: 0<br>\", \"Latency: 55.25ms<br>Energy: 474010.23mV^2<br>Cluster Index: 0<br>Channel Index: 0<br>\", \"Latency: 55.40ms<br>Energy: 499170.06mV^2<br>Cluster Index: 0<br>Channel Index: 0<br>\", \"Latency: 55.50ms<br>Energy: 467836.58mV^2<br>Cluster Index: 0<br>Channel Index: 0<br>\", \"Latency: 55.70ms<br>Energy: 496150.22mV^2<br>Cluster Index: 0<br>Channel Index: 0<br>\", \"Latency: 89.80ms<br>Energy: 471432.34mV^2<br>Cluster Index: -1<br>Channel Index: 0<br>\", \"Latency: 56.00ms<br>Energy: 512735.34mV^2<br>Cluster Index: 0<br>Channel Index: 0<br>\", \"Latency: 87.50ms<br>Energy: 613601.52mV^2<br>Cluster Index: -1<br>Channel Index: 0<br>\", \"Latency: 56.35ms<br>Energy: 492185.37mV^2<br>Cluster Index: 0<br>Channel Index: 0<br>\", \"Latency: 2455.35ms<br>Energy: 397746.61mV^2<br>Cluster Index: -1<br>Channel Index: 0<br>\", \"Latency: 2658.60ms<br>Energy: 449923.40mV^2<br>Cluster Index: -1<br>Channel Index: 0<br>\", \"Latency: 2697.20ms<br>Energy: 558882.33mV^2<br>Cluster Index: -1<br>Channel Index: 0<br>\", \"Latency: 2861.60ms<br>Energy: 632302.33mV^2<br>Cluster Index: -1<br>Channel Index: 0<br>\", \"Latency: 3061.40ms<br>Energy: 421809.65mV^2<br>Cluster Index: -1<br>Channel Index: 0<br>\", \"Latency: 3111.80ms<br>Energy: 484615.81mV^2<br>Cluster Index: -1<br>Channel Index: 0<br>\", \"Latency: 61.35ms<br>Energy: 513387.48mV^2<br>Cluster Index: 0<br>Channel Index: 0<br>\", \"Latency: 72.35ms<br>Energy: 770091.73mV^2<br>Cluster Index: -1<br>Channel Index: 0<br>\", \"Latency: 125.90ms<br>Energy: 634300.16mV^2<br>Cluster Index: -1<br>Channel Index: 0<br>\", \"Latency: 59.90ms<br>Energy: 574607.29mV^2<br>Cluster Index: 0<br>Channel Index: 0<br>\", \"Latency: 94.60ms<br>Energy: 583039.21mV^2<br>Cluster Index: -1<br>Channel Index: 0<br>\", \"Latency: 59.15ms<br>Energy: 536935.88mV^2<br>Cluster Index: 0<br>Channel Index: 0<br>\", \"Latency: 116.80ms<br>Energy: 772733.91mV^2<br>Cluster Index: -1<br>Channel Index: 0<br>\", \"Latency: 58.35ms<br>Energy: 499366.06mV^2<br>Cluster Index: 0<br>Channel Index: 0<br>\", \"Latency: 89.85ms<br>Energy: 511191.01mV^2<br>Cluster Index: -1<br>Channel Index: 0<br>\", \"Latency: 58.50ms<br>Energy: 538189.64mV^2<br>Cluster Index: 0<br>Channel Index: 0<br>\", \"Latency: 94.50ms<br>Energy: 623640.43mV^2<br>Cluster Index: -1<br>Channel Index: 0<br>\", \"Latency: 58.60ms<br>Energy: 452541.62mV^2<br>Cluster Index: 0<br>Channel Index: 0<br>\", \"Latency: 617.75ms<br>Energy: 513068.01mV^2<br>Cluster Index: -1<br>Channel Index: 0<br>\", \"Latency: 673.80ms<br>Energy: 737274.49mV^2<br>Cluster Index: -1<br>Channel Index: 0<br>\", \"Latency: 59.25ms<br>Energy: 486397.35mV^2<br>Cluster Index: 0<br>Channel Index: 0<br>\", \"Latency: 58.75ms<br>Energy: 469377.04mV^2<br>Cluster Index: 0<br>Channel Index: 0<br>\", \"Latency: 2457.55ms<br>Energy: 424790.81mV^2<br>Cluster Index: -1<br>Channel Index: 0<br>\", \"Latency: 2707.05ms<br>Energy: 551189.09mV^2<br>Cluster Index: -1<br>Channel Index: 0<br>\", \"Latency: 2863.80ms<br>Energy: 565338.26mV^2<br>Cluster Index: -1<br>Channel Index: 0<br>\", \"Latency: 2923.95ms<br>Energy: 645416.92mV^2<br>Cluster Index: -1<br>Channel Index: 0<br>\", \"Latency: 3065.70ms<br>Energy: 608314.67mV^2<br>Cluster Index: -1<br>Channel Index: 0<br>\", \"Latency: 63.65ms<br>Energy: 497039.27mV^2<br>Cluster Index: 0<br>Channel Index: 0<br>\", \"Latency: 145.35ms<br>Energy: 629514.27mV^2<br>Cluster Index: -1<br>Channel Index: 0<br>\", \"Latency: 62.15ms<br>Energy: 455787.82mV^2<br>Cluster Index: 0<br>Channel Index: 0<br>\", \"Latency: 101.80ms<br>Energy: 461566.45mV^2<br>Cluster Index: -1<br>Channel Index: 0<br>\", \"Latency: 61.15ms<br>Energy: 515252.22mV^2<br>Cluster Index: 0<br>Channel Index: 0<br>\", \"Latency: 60.30ms<br>Energy: 564174.12mV^2<br>Cluster Index: 0<br>Channel Index: 0<br>\", \"Latency: 59.45ms<br>Energy: 471215.69mV^2<br>Cluster Index: 0<br>Channel Index: 0<br>\", \"Latency: 59.05ms<br>Energy: 548936.31mV^2<br>Cluster Index: 0<br>Channel Index: 0<br>\", \"Latency: 59.00ms<br>Energy: 529612.03mV^2<br>Cluster Index: 0<br>Channel Index: 0<br>\", \"Latency: 146.85ms<br>Energy: 807489.66mV^2<br>Cluster Index: -1<br>Channel Index: 0<br>\", \"Latency: 2457.95ms<br>Energy: 462680.50mV^2<br>Cluster Index: -1<br>Channel Index: 0<br>\", \"Latency: 2489.95ms<br>Energy: 562934.59mV^2<br>Cluster Index: -1<br>Channel Index: 0<br>\", \"Latency: 2663.40ms<br>Energy: 536345.16mV^2<br>Cluster Index: -1<br>Channel Index: 0<br>\", \"Latency: 2705.85ms<br>Energy: 530943.18mV^2<br>Cluster Index: -1<br>Channel Index: 0<br>\", \"Latency: 3065.20ms<br>Energy: 578029.04mV^2<br>Cluster Index: -1<br>Channel Index: 0<br>\", \"Latency: 3110.55ms<br>Energy: 580794.33mV^2<br>Cluster Index: -1<br>Channel Index: 0<br>\", \"Latency: 64.90ms<br>Energy: 481556.74mV^2<br>Cluster Index: -1<br>Channel Index: 0<br>\", \"Latency: 121.90ms<br>Energy: 638744.89mV^2<br>Cluster Index: -1<br>Channel Index: 0<br>\"], \"type\": \"scatter\", \"x\": [0.05534999999999979, 0.05525000000000091, 0.05540000000000056, 0.0555000000000021, 0.05570000000000164, 0.08980000000000032, 0.055999999999997385, 0.08749999999999858, 0.0563500000000019, 2.455350000000003, 2.6586, 2.6972000000000023, 2.861600000000003, 3.061399999999999, 3.1118000000000023, 0.061350000000004457, 0.07235000000000014, 0.12590000000000146, 0.059899999999998954, 0.0945999999999998, 0.05915000000000248, 0.1167999999999978, 0.05834999999999724, 0.08984999999999843, 0.05850000000000222, 0.09449999999999648, 0.05859999999999843, 0.6177500000000009, 0.6738, 0.05924999999999869, 0.05875000000000341, 2.457550000000005, 2.7070500000000024, 2.863800000000005, 2.923949999999998, 3.0656999999999996, 0.06364999999999554, 0.14534999999999343, 0.06215000000000259, 0.10179999999999723, 0.06114999999999782, 0.06029999999999802, 0.059449999999998226, 0.05904999999999916, 0.05900000000001171, 0.1468500000000006, 2.4579499999999967, 2.4899499999999932, 2.6633999999999958, 2.705849999999998, 3.06519999999999, 3.1105500000000035, 0.0648999999999944, 0.12189999999999657], \"y\": [5.65125, 9.6514, 13.6518, 17.6521, 21.65255, 21.68665, 25.6531, 25.6846, 29.6537, 32.0527, 32.25595, 32.29455, 32.45895, 32.65875, 32.70915, 33.6591, 33.6701, 33.72365, 37.6579, 37.6926, 41.6574, 41.71505, 45.65685, 45.68835, 49.6572, 49.6932, 53.65755, 54.2167, 54.27275, 57.65845, 61.6582, 64.057, 64.3065, 64.46325, 64.5234, 64.66515, 65.6635, 65.7452, 69.66225, 69.7019, 73.6615, 77.6609, 81.66025, 85.6601, 89.6603, 89.74815, 96.0595, 96.0915, 96.26495, 96.3074, 96.66675, 96.7121, 97.66685, 97.72385]}],\n",
       "                        {\"height\": 600, \"template\": {\"data\": {\"bar\": [{\"error_x\": {\"color\": \"#2a3f5f\"}, \"error_y\": {\"color\": \"#2a3f5f\"}, \"marker\": {\"line\": {\"color\": \"#E5ECF6\", \"width\": 0.5}}, \"type\": \"bar\"}], \"barpolar\": [{\"marker\": {\"line\": {\"color\": \"#E5ECF6\", \"width\": 0.5}}, \"type\": \"barpolar\"}], \"carpet\": [{\"aaxis\": {\"endlinecolor\": \"#2a3f5f\", \"gridcolor\": \"white\", \"linecolor\": \"white\", \"minorgridcolor\": \"white\", \"startlinecolor\": \"#2a3f5f\"}, \"baxis\": {\"endlinecolor\": \"#2a3f5f\", \"gridcolor\": \"white\", \"linecolor\": \"white\", \"minorgridcolor\": \"white\", \"startlinecolor\": \"#2a3f5f\"}, \"type\": \"carpet\"}], \"choropleth\": [{\"colorbar\": {\"outlinewidth\": 0, \"ticks\": \"\"}, \"type\": \"choropleth\"}], \"contour\": [{\"colorbar\": {\"outlinewidth\": 0, \"ticks\": \"\"}, \"colorscale\": [[0.0, \"#0d0887\"], [0.1111111111111111, \"#46039f\"], [0.2222222222222222, \"#7201a8\"], [0.3333333333333333, \"#9c179e\"], [0.4444444444444444, \"#bd3786\"], [0.5555555555555556, \"#d8576b\"], [0.6666666666666666, \"#ed7953\"], [0.7777777777777778, \"#fb9f3a\"], [0.8888888888888888, \"#fdca26\"], [1.0, \"#f0f921\"]], \"type\": \"contour\"}], \"contourcarpet\": [{\"colorbar\": {\"outlinewidth\": 0, \"ticks\": \"\"}, \"type\": \"contourcarpet\"}], \"heatmap\": [{\"colorbar\": {\"outlinewidth\": 0, \"ticks\": \"\"}, \"colorscale\": [[0.0, \"#0d0887\"], [0.1111111111111111, \"#46039f\"], [0.2222222222222222, \"#7201a8\"], [0.3333333333333333, \"#9c179e\"], [0.4444444444444444, \"#bd3786\"], [0.5555555555555556, \"#d8576b\"], [0.6666666666666666, \"#ed7953\"], [0.7777777777777778, \"#fb9f3a\"], [0.8888888888888888, \"#fdca26\"], [1.0, \"#f0f921\"]], \"type\": \"heatmap\"}], \"heatmapgl\": [{\"colorbar\": {\"outlinewidth\": 0, \"ticks\": \"\"}, \"colorscale\": [[0.0, \"#0d0887\"], [0.1111111111111111, \"#46039f\"], [0.2222222222222222, \"#7201a8\"], [0.3333333333333333, \"#9c179e\"], [0.4444444444444444, \"#bd3786\"], [0.5555555555555556, \"#d8576b\"], [0.6666666666666666, \"#ed7953\"], [0.7777777777777778, \"#fb9f3a\"], [0.8888888888888888, \"#fdca26\"], [1.0, \"#f0f921\"]], \"type\": \"heatmapgl\"}], \"histogram\": [{\"marker\": {\"colorbar\": {\"outlinewidth\": 0, \"ticks\": \"\"}}, \"type\": \"histogram\"}], \"histogram2d\": [{\"colorbar\": {\"outlinewidth\": 0, \"ticks\": \"\"}, \"colorscale\": [[0.0, \"#0d0887\"], [0.1111111111111111, \"#46039f\"], [0.2222222222222222, \"#7201a8\"], [0.3333333333333333, \"#9c179e\"], [0.4444444444444444, \"#bd3786\"], [0.5555555555555556, \"#d8576b\"], [0.6666666666666666, \"#ed7953\"], [0.7777777777777778, \"#fb9f3a\"], [0.8888888888888888, \"#fdca26\"], [1.0, \"#f0f921\"]], \"type\": \"histogram2d\"}], \"histogram2dcontour\": [{\"colorbar\": {\"outlinewidth\": 0, \"ticks\": \"\"}, \"colorscale\": [[0.0, \"#0d0887\"], [0.1111111111111111, \"#46039f\"], [0.2222222222222222, \"#7201a8\"], [0.3333333333333333, \"#9c179e\"], [0.4444444444444444, \"#bd3786\"], [0.5555555555555556, \"#d8576b\"], [0.6666666666666666, \"#ed7953\"], [0.7777777777777778, \"#fb9f3a\"], [0.8888888888888888, \"#fdca26\"], [1.0, \"#f0f921\"]], \"type\": \"histogram2dcontour\"}], \"mesh3d\": [{\"colorbar\": {\"outlinewidth\": 0, \"ticks\": \"\"}, \"type\": \"mesh3d\"}], \"parcoords\": [{\"line\": {\"colorbar\": {\"outlinewidth\": 0, \"ticks\": \"\"}}, \"type\": \"parcoords\"}], \"pie\": [{\"automargin\": true, \"type\": \"pie\"}], \"scatter\": [{\"marker\": {\"colorbar\": {\"outlinewidth\": 0, \"ticks\": \"\"}}, \"type\": \"scatter\"}], \"scatter3d\": [{\"line\": {\"colorbar\": {\"outlinewidth\": 0, \"ticks\": \"\"}}, \"marker\": {\"colorbar\": {\"outlinewidth\": 0, \"ticks\": \"\"}}, \"type\": \"scatter3d\"}], \"scattercarpet\": [{\"marker\": {\"colorbar\": {\"outlinewidth\": 0, \"ticks\": \"\"}}, \"type\": \"scattercarpet\"}], \"scattergeo\": [{\"marker\": {\"colorbar\": {\"outlinewidth\": 0, \"ticks\": \"\"}}, \"type\": \"scattergeo\"}], \"scattergl\": [{\"marker\": {\"colorbar\": {\"outlinewidth\": 0, \"ticks\": \"\"}}, \"type\": \"scattergl\"}], \"scattermapbox\": [{\"marker\": {\"colorbar\": {\"outlinewidth\": 0, \"ticks\": \"\"}}, \"type\": \"scattermapbox\"}], \"scatterpolar\": [{\"marker\": {\"colorbar\": {\"outlinewidth\": 0, \"ticks\": \"\"}}, \"type\": \"scatterpolar\"}], \"scatterpolargl\": [{\"marker\": {\"colorbar\": {\"outlinewidth\": 0, \"ticks\": \"\"}}, \"type\": \"scatterpolargl\"}], \"scatterternary\": [{\"marker\": {\"colorbar\": {\"outlinewidth\": 0, \"ticks\": \"\"}}, \"type\": \"scatterternary\"}], \"surface\": [{\"colorbar\": {\"outlinewidth\": 0, \"ticks\": \"\"}, \"colorscale\": [[0.0, \"#0d0887\"], [0.1111111111111111, \"#46039f\"], [0.2222222222222222, \"#7201a8\"], [0.3333333333333333, \"#9c179e\"], [0.4444444444444444, \"#bd3786\"], [0.5555555555555556, \"#d8576b\"], [0.6666666666666666, \"#ed7953\"], [0.7777777777777778, \"#fb9f3a\"], [0.8888888888888888, \"#fdca26\"], [1.0, \"#f0f921\"]], \"type\": \"surface\"}], \"table\": [{\"cells\": {\"fill\": {\"color\": \"#EBF0F8\"}, \"line\": {\"color\": \"white\"}}, \"header\": {\"fill\": {\"color\": \"#C8D4E3\"}, \"line\": {\"color\": \"white\"}}, \"type\": \"table\"}]}, \"layout\": {\"annotationdefaults\": {\"arrowcolor\": \"#2a3f5f\", \"arrowhead\": 0, \"arrowwidth\": 1}, \"coloraxis\": {\"colorbar\": {\"outlinewidth\": 0, \"ticks\": \"\"}}, \"colorscale\": {\"diverging\": [[0, \"#8e0152\"], [0.1, \"#c51b7d\"], [0.2, \"#de77ae\"], [0.3, \"#f1b6da\"], [0.4, \"#fde0ef\"], [0.5, \"#f7f7f7\"], [0.6, \"#e6f5d0\"], [0.7, \"#b8e186\"], [0.8, \"#7fbc41\"], [0.9, \"#4d9221\"], [1, \"#276419\"]], \"sequential\": [[0.0, \"#0d0887\"], [0.1111111111111111, \"#46039f\"], [0.2222222222222222, \"#7201a8\"], [0.3333333333333333, \"#9c179e\"], [0.4444444444444444, \"#bd3786\"], [0.5555555555555556, \"#d8576b\"], [0.6666666666666666, \"#ed7953\"], [0.7777777777777778, \"#fb9f3a\"], [0.8888888888888888, \"#fdca26\"], [1.0, \"#f0f921\"]], \"sequentialminus\": [[0.0, \"#0d0887\"], [0.1111111111111111, \"#46039f\"], [0.2222222222222222, \"#7201a8\"], [0.3333333333333333, \"#9c179e\"], [0.4444444444444444, \"#bd3786\"], [0.5555555555555556, \"#d8576b\"], [0.6666666666666666, \"#ed7953\"], [0.7777777777777778, \"#fb9f3a\"], [0.8888888888888888, \"#fdca26\"], [1.0, \"#f0f921\"]]}, \"colorway\": [\"#636efa\", \"#EF553B\", \"#00cc96\", \"#ab63fa\", \"#FFA15A\", \"#19d3f3\", \"#FF6692\", \"#B6E880\", \"#FF97FF\", \"#FECB52\"], \"font\": {\"color\": \"#2a3f5f\"}, \"geo\": {\"bgcolor\": \"white\", \"lakecolor\": \"white\", \"landcolor\": \"#E5ECF6\", \"showlakes\": true, \"showland\": true, \"subunitcolor\": \"white\"}, \"hoverlabel\": {\"align\": \"left\"}, \"hovermode\": \"closest\", \"mapbox\": {\"style\": \"light\"}, \"paper_bgcolor\": \"white\", \"plot_bgcolor\": \"#E5ECF6\", \"polar\": {\"angularaxis\": {\"gridcolor\": \"white\", \"linecolor\": \"white\", \"ticks\": \"\"}, \"bgcolor\": \"#E5ECF6\", \"radialaxis\": {\"gridcolor\": \"white\", \"linecolor\": \"white\", \"ticks\": \"\"}}, \"scene\": {\"xaxis\": {\"backgroundcolor\": \"#E5ECF6\", \"gridcolor\": \"white\", \"gridwidth\": 2, \"linecolor\": \"white\", \"showbackground\": true, \"ticks\": \"\", \"zerolinecolor\": \"white\"}, \"yaxis\": {\"backgroundcolor\": \"#E5ECF6\", \"gridcolor\": \"white\", \"gridwidth\": 2, \"linecolor\": \"white\", \"showbackground\": true, \"ticks\": \"\", \"zerolinecolor\": \"white\"}, \"zaxis\": {\"backgroundcolor\": \"#E5ECF6\", \"gridcolor\": \"white\", \"gridwidth\": 2, \"linecolor\": \"white\", \"showbackground\": true, \"ticks\": \"\", \"zerolinecolor\": \"white\"}}, \"shapedefaults\": {\"line\": {\"color\": \"#2a3f5f\"}}, \"ternary\": {\"aaxis\": {\"gridcolor\": \"white\", \"linecolor\": \"white\", \"ticks\": \"\"}, \"baxis\": {\"gridcolor\": \"white\", \"linecolor\": \"white\", \"ticks\": \"\"}, \"bgcolor\": \"#E5ECF6\", \"caxis\": {\"gridcolor\": \"white\", \"linecolor\": \"white\", \"ticks\": \"\"}}, \"title\": {\"x\": 0.05}, \"xaxis\": {\"automargin\": true, \"gridcolor\": \"white\", \"linecolor\": \"white\", \"ticks\": \"\", \"title\": {\"standoff\": 15}, \"zerolinecolor\": \"white\", \"zerolinewidth\": 2}, \"yaxis\": {\"automargin\": true, \"gridcolor\": \"white\", \"linecolor\": \"white\", \"ticks\": \"\", \"title\": {\"standoff\": 15}, \"zerolinecolor\": \"white\", \"zerolinewidth\": 2}}}, \"width\": 1000, \"xaxis\": {\"title\": {\"text\": \"Response Latency (s)\"}}, \"yaxis\": {\"title\": {\"text\": \"Time (s)\"}}},\n",
       "                        {\"responsive\": true}\n",
       "                    ).then(function(){\n",
       "                            \n",
       "var gd = document.getElementById('f8263ac4-7d21-4e20-856c-ab7821f05b21');\n",
       "var x = new MutationObserver(function (mutations, observer) {{\n",
       "        var display = window.getComputedStyle(gd).display;\n",
       "        if (!display || display === 'none') {{\n",
       "            console.log([gd, 'removed!']);\n",
       "            Plotly.purge(gd);\n",
       "            observer.disconnect();\n",
       "        }}\n",
       "}});\n",
       "\n",
       "// Listen for the removal of the full notebook cells\n",
       "var notebookContainer = gd.closest('#notebook-container');\n",
       "if (notebookContainer) {{\n",
       "    x.observe(notebookContainer, {childList: true});\n",
       "}}\n",
       "\n",
       "// Listen for the clearing of the current output cell\n",
       "var outputEl = gd.closest('.output');\n",
       "if (outputEl) {{\n",
       "    x.observe(outputEl, {childList: true});\n",
       "}}\n",
       "\n",
       "                        })\n",
       "                };\n",
       "                });\n",
       "            </script>\n",
       "        </div>"
      ]
     },
     "metadata": {},
     "output_type": "display_data"
    }
   ],
   "source": [
    "''' \n",
    "This cell performs the clustering according to latency s.t. we can initialize a track\n",
    "'''\n",
    "%autoreload 2\n",
    "from fibre_tracking import DBSCANClustering\n",
    "\n",
    "# define the number of seconds that should be considered for initialization\n",
    "NUM_SECONDS = 100\n",
    "T_START = 0\n",
    "first_track_aps = [ap for ap in recording.actpots if ap.onset > T_START and ap.onset < T_START + NUM_SECONDS]\n",
    "\n",
    "initial_track_labels = DBSCANClustering.perform_clustering(actpots = first_track_aps, eps = 0.003, \\\n",
    "                                             min_samples = 10, plot_results = True)"
   ]
  },
  {
   "cell_type": "code",
   "execution_count": 19,
   "metadata": {},
   "outputs": [
    {
     "data": {
      "application/vnd.plotly.v1+json": {
       "config": {
        "plotlyServerURL": "https://plot.ly"
       },
       "data": [
        {
         "hovertemplate": "%{text}",
         "marker": {
          "color": "Black",
          "symbol": "star"
         },
         "mode": "markers",
         "name": "Electrical Stimuli",
         "text": [
          "time = 9.5961s<br>Index = 0",
          "time = 13.5964s<br>Index = 1",
          "time = 17.5966s<br>Index = 2",
          "time = 21.5968s<br>Index = 3",
          "time = 25.5971s<br>Index = 4",
          "time = 29.5973s<br>Index = 5",
          "time = 33.5977s<br>Index = 6",
          "time = 37.5980s<br>Index = 7",
          "time = 41.5983s<br>Index = 8",
          "time = 45.5985s<br>Index = 9",
          "time = 49.5987s<br>Index = 10",
          "time = 53.5990s<br>Index = 11",
          "time = 57.5992s<br>Index = 12",
          "time = 61.5994s<br>Index = 13",
          "time = 65.5999s<br>Index = 14",
          "time = 69.6001s<br>Index = 15",
          "time = 73.6004s<br>Index = 16",
          "time = 77.6006s<br>Index = 17",
          "time = 81.6008s<br>Index = 18",
          "time = 85.6011s<br>Index = 19",
          "time = 89.6013s<br>Index = 20",
          "time = 93.6016s<br>Index = 21",
          "time = 97.6020s<br>Index = 22",
          "time = 101.6022s<br>Index = 23",
          "time = 105.6025s<br>Index = 24",
          "time = 109.6027s<br>Index = 25",
          "time = 113.6029s<br>Index = 26",
          "time = 117.6031s<br>Index = 27",
          "time = 121.6034s<br>Index = 28",
          "time = 125.6037s<br>Index = 29",
          "time = 129.6041s<br>Index = 30",
          "time = 133.6043s<br>Index = 31",
          "time = 137.6045s<br>Index = 32",
          "time = 141.6048s<br>Index = 33",
          "time = 145.6050s<br>Index = 34",
          "time = 149.6053s<br>Index = 35",
          "time = 153.6055s<br>Index = 36",
          "time = 157.6058s<br>Index = 37",
          "time = 161.6061s<br>Index = 38",
          "time = 165.6063s<br>Index = 39",
          "time = 169.6066s<br>Index = 40",
          "time = 173.6068s<br>Index = 41",
          "time = 177.6070s<br>Index = 42",
          "time = 181.6073s<br>Index = 43",
          "time = 185.6076s<br>Index = 44",
          "time = 189.6078s<br>Index = 45",
          "time = 193.6081s<br>Index = 46",
          "time = 197.6084s<br>Index = 47",
          "time = 201.6086s<br>Index = 48",
          "time = 205.6088s<br>Index = 49",
          "time = 209.6091s<br>Index = 50",
          "time = 213.6094s<br>Index = 51",
          "time = 217.6096s<br>Index = 52",
          "time = 221.6098s<br>Index = 53",
          "time = 225.6104s<br>Index = 54",
          "time = 229.6106s<br>Index = 55",
          "time = 233.6108s<br>Index = 56",
          "time = 237.6111s<br>Index = 57",
          "time = 241.6113s<br>Index = 58",
          "time = 245.6115s<br>Index = 59",
          "time = 249.6118s<br>Index = 60",
          "time = 253.6121s<br>Index = 61",
          "time = 257.6126s<br>Index = 62",
          "time = 261.6128s<br>Index = 63",
          "time = 265.6130s<br>Index = 64",
          "time = 269.6133s<br>Index = 65",
          "time = 273.6135s<br>Index = 66",
          "time = 277.6138s<br>Index = 67",
          "time = 281.6140s<br>Index = 68",
          "time = 285.6143s<br>Index = 69",
          "time = 289.6148s<br>Index = 70",
          "time = 293.6150s<br>Index = 71",
          "time = 297.6153s<br>Index = 72",
          "time = 301.6155s<br>Index = 73",
          "time = 305.6157s<br>Index = 74",
          "time = 309.6160s<br>Index = 75",
          "time = 313.6162s<br>Index = 76",
          "time = 317.6165s<br>Index = 77",
          "time = 321.6170s<br>Index = 78",
          "time = 325.6173s<br>Index = 79",
          "time = 329.6175s<br>Index = 80",
          "time = 333.6178s<br>Index = 81",
          "time = 337.6180s<br>Index = 82",
          "time = 341.6182s<br>Index = 83",
          "time = 345.6184s<br>Index = 84",
          "time = 349.6187s<br>Index = 85",
          "time = 353.6193s<br>Index = 86",
          "time = 357.6195s<br>Index = 87",
          "time = 361.6197s<br>Index = 88",
          "time = 365.6200s<br>Index = 89",
          "time = 369.6202s<br>Index = 90",
          "time = 373.6205s<br>Index = 91",
          "time = 377.6207s<br>Index = 92",
          "time = 381.6209s<br>Index = 93",
          "time = 385.6214s<br>Index = 94",
          "time = 389.6217s<br>Index = 95",
          "time = 393.6220s<br>Index = 96",
          "time = 397.6222s<br>Index = 97",
          "time = 401.6224s<br>Index = 98",
          "time = 405.6227s<br>Index = 99",
          "time = 409.6229s<br>Index = 100",
          "time = 413.6232s<br>Index = 101",
          "time = 417.6237s<br>Index = 102",
          "time = 421.6239s<br>Index = 103",
          "time = 425.6241s<br>Index = 104",
          "time = 429.6244s<br>Index = 105",
          "time = 433.6246s<br>Index = 106",
          "time = 437.6249s<br>Index = 107"
         ],
         "type": "scatter",
         "x": [
          0,
          0,
          0,
          0,
          0,
          0,
          0,
          0,
          0,
          0,
          0,
          0,
          0,
          0,
          0,
          0,
          0,
          0,
          0,
          0,
          0,
          0,
          0,
          0,
          0,
          0,
          0,
          0,
          0,
          0,
          0,
          0,
          0,
          0,
          0,
          0,
          0,
          0,
          0,
          0,
          0,
          0,
          0,
          0,
          0,
          0,
          0,
          0,
          0,
          0,
          0,
          0,
          0,
          0,
          0,
          0,
          0,
          0,
          0,
          0,
          0,
          0,
          0,
          0,
          0,
          0,
          0,
          0,
          0,
          0,
          0,
          0,
          0,
          0,
          0,
          0,
          0,
          0,
          0,
          0,
          0,
          0,
          0,
          0,
          0,
          0,
          0,
          0,
          0,
          0,
          0,
          0,
          0,
          0,
          0,
          0,
          0,
          0,
          0,
          0,
          0,
          0,
          0,
          0,
          0,
          0,
          0,
          0
         ],
         "y": [
          9.59615,
          13.5964,
          17.5966,
          21.59685,
          25.5971,
          29.59735,
          33.59775,
          37.598,
          41.59825,
          45.5985,
          49.5987,
          53.59895,
          57.5992,
          61.59945,
          65.59985,
          69.6001,
          73.60035,
          77.6006,
          81.6008,
          85.60105,
          89.6013,
          93.60155,
          97.60195,
          101.6022,
          105.60245,
          109.6027,
          113.6029,
          117.60315,
          121.6034,
          125.60365,
          129.60405,
          133.6043,
          137.60455,
          141.6048,
          145.605,
          149.60525,
          153.6055,
          157.60575,
          161.6061,
          165.60635,
          169.6066,
          173.6068,
          177.60705,
          181.6073,
          185.60755,
          189.6078,
          193.60815,
          197.6084,
          201.6086,
          205.60885,
          209.6091,
          213.60935,
          217.6096,
          221.6098,
          225.61035,
          229.6106,
          233.61085,
          237.6111,
          241.6113,
          245.61155,
          249.6118,
          253.61205,
          257.6126,
          261.6128,
          265.61305,
          269.6133,
          273.61355,
          277.6138,
          281.614,
          285.61425,
          289.6148,
          293.61505,
          297.6153,
          301.6155,
          305.61575,
          309.616,
          313.61625,
          317.6165,
          321.617,
          325.61725,
          329.6175,
          333.61775,
          337.618,
          341.6182,
          345.61845,
          349.6187,
          353.61925,
          357.6195,
          361.6197,
          365.61995,
          369.6202,
          373.62045,
          377.6207,
          381.6209,
          385.62145,
          389.6217,
          393.62195,
          397.6222,
          401.6224,
          405.62265,
          409.6229,
          413.62315,
          417.6237,
          421.6239,
          425.62415,
          429.6244,
          433.62465,
          437.6249
         ]
        },
        {
         "hovertemplate": "%{text}",
         "marker": {
          "color": "black",
          "size": 7,
          "symbol": [
           "triangle-nw",
           "triangle-ne"
          ]
         },
         "mode": "markers",
         "showlegend": false,
         "text": [
          "Latency: 0.0553s<br>Fibre Index: None",
          "Offset: 0.0579s"
         ],
         "type": "scatter",
         "x": [
          0.05525000000000091,
          0.05785000000000018
         ],
         "y": [
          9.59615,
          9.59615
         ]
        },
        {
         "hovertemplate": "%{text}",
         "marker": {
          "color": "black",
          "size": 7,
          "symbol": [
           "triangle-nw",
           "triangle-ne"
          ]
         },
         "mode": "markers",
         "showlegend": false,
         "text": [
          "Latency: 0.0554s<br>Fibre Index: None",
          "Offset: 0.0580s"
         ],
         "type": "scatter",
         "x": [
          0.05540000000000056,
          0.058000000000001606
         ],
         "y": [
          13.5964,
          13.5964
         ]
        },
        {
         "hovertemplate": "%{text}",
         "marker": {
          "color": "black",
          "size": 7,
          "symbol": [
           "triangle-nw",
           "triangle-ne"
          ]
         },
         "mode": "markers",
         "showlegend": false,
         "text": [
          "Latency: 0.0555s<br>Fibre Index: None",
          "Offset: 0.0581s"
         ],
         "type": "scatter",
         "x": [
          0.0555000000000021,
          0.058099999999999596
         ],
         "y": [
          17.5966,
          17.5966
         ]
        },
        {
         "hovertemplate": "%{text}",
         "marker": {
          "color": "black",
          "size": 7,
          "symbol": [
           "triangle-nw",
           "triangle-ne"
          ]
         },
         "mode": "markers",
         "showlegend": false,
         "text": [
          "Latency: 0.0557s<br>Fibre Index: None",
          "Offset: 0.0583s"
         ],
         "type": "scatter",
         "x": [
          0.05570000000000164,
          0.05829999999999913
         ],
         "y": [
          21.59685,
          21.59685
         ]
        },
        {
         "hovertemplate": "%{text}",
         "marker": {
          "color": "black",
          "size": 7,
          "symbol": [
           "triangle-nw",
           "triangle-ne"
          ]
         },
         "mode": "markers",
         "showlegend": false,
         "text": [
          "Latency: 0.0898s<br>Fibre Index: None",
          "Offset: 0.0924s"
         ],
         "type": "scatter",
         "x": [
          0.08980000000000032,
          0.09240000000000137
         ],
         "y": [
          21.59685,
          21.59685
         ]
        },
        {
         "hovertemplate": "%{text}",
         "marker": {
          "color": "black",
          "size": 7,
          "symbol": [
           "triangle-nw",
           "triangle-ne"
          ]
         },
         "mode": "markers",
         "showlegend": false,
         "text": [
          "Latency: 0.0560s<br>Fibre Index: None",
          "Offset: 0.0586s"
         ],
         "type": "scatter",
         "x": [
          0.055999999999997385,
          0.05859999999999843
         ],
         "y": [
          25.5971,
          25.5971
         ]
        },
        {
         "hovertemplate": "%{text}",
         "marker": {
          "color": "black",
          "size": 7,
          "symbol": [
           "triangle-nw",
           "triangle-ne"
          ]
         },
         "mode": "markers",
         "showlegend": false,
         "text": [
          "Latency: 0.0875s<br>Fibre Index: None",
          "Offset: 0.0901s"
         ],
         "type": "scatter",
         "x": [
          0.08749999999999858,
          0.09009999999999962
         ],
         "y": [
          25.5971,
          25.5971
         ]
        },
        {
         "hovertemplate": "%{text}",
         "marker": {
          "color": "black",
          "size": 7,
          "symbol": [
           "triangle-nw",
           "triangle-ne"
          ]
         },
         "mode": "markers",
         "showlegend": false,
         "text": [
          "Latency: 0.0564s<br>Fibre Index: None",
          "Offset: 0.0590s"
         ],
         "type": "scatter",
         "x": [
          0.0563500000000019,
          0.058950000000002944
         ],
         "y": [
          29.59735,
          29.59735
         ]
        },
        {
         "hovertemplate": "%{text}",
         "marker": {
          "color": "black",
          "size": 7,
          "symbol": [
           "triangle-nw",
           "triangle-ne"
          ]
         },
         "mode": "markers",
         "showlegend": false,
         "text": [
          "Latency: 0.0614s<br>Fibre Index: None",
          "Offset: 0.0640s"
         ],
         "type": "scatter",
         "x": [
          0.061350000000004457,
          0.0639500000000055
         ],
         "y": [
          33.59775,
          33.59775
         ]
        },
        {
         "hovertemplate": "%{text}",
         "marker": {
          "color": "black",
          "size": 7,
          "symbol": [
           "triangle-nw",
           "triangle-ne"
          ]
         },
         "mode": "markers",
         "showlegend": false,
         "text": [
          "Latency: 0.0724s<br>Fibre Index: None",
          "Offset: 0.0750s"
         ],
         "type": "scatter",
         "x": [
          0.07235000000000014,
          0.07495000000000118
         ],
         "y": [
          33.59775,
          33.59775
         ]
        },
        {
         "hovertemplate": "%{text}",
         "marker": {
          "color": "black",
          "size": 7,
          "symbol": [
           "triangle-nw",
           "triangle-ne"
          ]
         },
         "mode": "markers",
         "showlegend": false,
         "text": [
          "Latency: 0.0599s<br>Fibre Index: None",
          "Offset: 0.0625s"
         ],
         "type": "scatter",
         "x": [
          0.059899999999998954,
          0.0625
         ],
         "y": [
          37.598,
          37.598
         ]
        },
        {
         "hovertemplate": "%{text}",
         "marker": {
          "color": "black",
          "size": 7,
          "symbol": [
           "triangle-nw",
           "triangle-ne"
          ]
         },
         "mode": "markers",
         "showlegend": false,
         "text": [
          "Latency: 0.0946s<br>Fibre Index: None",
          "Offset: 0.0972s"
         ],
         "type": "scatter",
         "x": [
          0.0945999999999998,
          0.09720000000000084
         ],
         "y": [
          37.598,
          37.598
         ]
        },
        {
         "hovertemplate": "%{text}",
         "marker": {
          "color": "black",
          "size": 7,
          "symbol": [
           "triangle-nw",
           "triangle-ne"
          ]
         },
         "mode": "markers",
         "showlegend": false,
         "text": [
          "Latency: 0.0592s<br>Fibre Index: None",
          "Offset: 0.0617s"
         ],
         "type": "scatter",
         "x": [
          0.05915000000000248,
          0.06174999999999642
         ],
         "y": [
          41.59825,
          41.59825
         ]
        },
        {
         "hovertemplate": "%{text}",
         "marker": {
          "color": "black",
          "size": 7,
          "symbol": [
           "triangle-nw",
           "triangle-ne"
          ]
         },
         "mode": "markers",
         "showlegend": false,
         "text": [
          "Latency: 0.0583s<br>Fibre Index: None",
          "Offset: 0.0609s"
         ],
         "type": "scatter",
         "x": [
          0.05834999999999724,
          0.06094999999999828
         ],
         "y": [
          45.5985,
          45.5985
         ]
        },
        {
         "hovertemplate": "%{text}",
         "marker": {
          "color": "black",
          "size": 7,
          "symbol": [
           "triangle-nw",
           "triangle-ne"
          ]
         },
         "mode": "markers",
         "showlegend": false,
         "text": [
          "Latency: 0.0898s<br>Fibre Index: None",
          "Offset: 0.0924s"
         ],
         "type": "scatter",
         "x": [
          0.08984999999999843,
          0.09244999999999948
         ],
         "y": [
          45.5985,
          45.5985
         ]
        },
        {
         "hovertemplate": "%{text}",
         "marker": {
          "color": "black",
          "size": 7,
          "symbol": [
           "triangle-nw",
           "triangle-ne"
          ]
         },
         "mode": "markers",
         "showlegend": false,
         "text": [
          "Latency: 0.0585s<br>Fibre Index: None",
          "Offset: 0.0611s"
         ],
         "type": "scatter",
         "x": [
          0.05850000000000222,
          0.06109999999999616
         ],
         "y": [
          49.5987,
          49.5987
         ]
        },
        {
         "hovertemplate": "%{text}",
         "marker": {
          "color": "black",
          "size": 7,
          "symbol": [
           "triangle-nw",
           "triangle-ne"
          ]
         },
         "mode": "markers",
         "showlegend": false,
         "text": [
          "Latency: 0.0945s<br>Fibre Index: None",
          "Offset: 0.0971s"
         ],
         "type": "scatter",
         "x": [
          0.09449999999999648,
          0.09709999999999752
         ],
         "y": [
          49.5987,
          49.5987
         ]
        },
        {
         "hovertemplate": "%{text}",
         "marker": {
          "color": "black",
          "size": 7,
          "symbol": [
           "triangle-nw",
           "triangle-ne"
          ]
         },
         "mode": "markers",
         "showlegend": false,
         "text": [
          "Latency: 0.0586s<br>Fibre Index: None",
          "Offset: 0.0612s"
         ],
         "type": "scatter",
         "x": [
          0.05859999999999843,
          0.06119999999999948
         ],
         "y": [
          53.59895,
          53.59895
         ]
        },
        {
         "hovertemplate": "%{text}",
         "marker": {
          "color": "black",
          "size": 7,
          "symbol": [
           "triangle-nw",
           "triangle-ne"
          ]
         },
         "mode": "markers",
         "showlegend": false,
         "text": [
          "Latency: 0.0592s<br>Fibre Index: None",
          "Offset: 0.0618s"
         ],
         "type": "scatter",
         "x": [
          0.05924999999999869,
          0.06184999999999974
         ],
         "y": [
          57.5992,
          57.5992
         ]
        },
        {
         "hovertemplate": "%{text}",
         "marker": {
          "color": "black",
          "size": 7,
          "symbol": [
           "triangle-nw",
           "triangle-ne"
          ]
         },
         "mode": "markers",
         "showlegend": false,
         "text": [
          "Latency: 0.0588s<br>Fibre Index: None",
          "Offset: 0.0614s"
         ],
         "type": "scatter",
         "x": [
          0.05875000000000341,
          0.061350000000004457
         ],
         "y": [
          61.59945,
          61.59945
         ]
        },
        {
         "hovertemplate": "%{text}",
         "marker": {
          "color": "black",
          "size": 7,
          "symbol": [
           "triangle-nw",
           "triangle-ne"
          ]
         },
         "mode": "markers",
         "showlegend": false,
         "text": [
          "Latency: 0.0636s<br>Fibre Index: None",
          "Offset: 0.0662s"
         ],
         "type": "scatter",
         "x": [
          0.06364999999999554,
          0.06624999999999659
         ],
         "y": [
          65.59985,
          65.59985
         ]
        },
        {
         "hovertemplate": "%{text}",
         "marker": {
          "color": "black",
          "size": 7,
          "symbol": [
           "triangle-nw",
           "triangle-ne"
          ]
         },
         "mode": "markers",
         "showlegend": false,
         "text": [
          "Latency: 0.0622s<br>Fibre Index: None",
          "Offset: 0.0648s"
         ],
         "type": "scatter",
         "x": [
          0.06215000000000259,
          0.06475000000000364
         ],
         "y": [
          69.6001,
          69.6001
         ]
        },
        {
         "hovertemplate": "%{text}",
         "marker": {
          "color": "black",
          "size": 7,
          "symbol": [
           "triangle-nw",
           "triangle-ne"
          ]
         },
         "mode": "markers",
         "showlegend": false,
         "text": [
          "Latency: 0.0611s<br>Fibre Index: None",
          "Offset: 0.0637s"
         ],
         "type": "scatter",
         "x": [
          0.06114999999999782,
          0.06374999999999886
         ],
         "y": [
          73.60035,
          73.60035
         ]
        },
        {
         "hovertemplate": "%{text}",
         "marker": {
          "color": "black",
          "size": 7,
          "symbol": [
           "triangle-nw",
           "triangle-ne"
          ]
         },
         "mode": "markers",
         "showlegend": false,
         "text": [
          "Latency: 0.0603s<br>Fibre Index: None",
          "Offset: 0.0629s"
         ],
         "type": "scatter",
         "x": [
          0.06029999999999802,
          0.06289999999999907
         ],
         "y": [
          77.6006,
          77.6006
         ]
        },
        {
         "hovertemplate": "%{text}",
         "marker": {
          "color": "black",
          "size": 7,
          "symbol": [
           "triangle-nw",
           "triangle-ne"
          ]
         },
         "mode": "markers",
         "showlegend": false,
         "text": [
          "Latency: 0.0594s<br>Fibre Index: None",
          "Offset: 0.0620s"
         ],
         "type": "scatter",
         "x": [
          0.059449999999998226,
          0.06204999999999927
         ],
         "y": [
          81.6008,
          81.6008
         ]
        },
        {
         "hovertemplate": "%{text}",
         "marker": {
          "color": "black",
          "size": 7,
          "symbol": [
           "triangle-nw",
           "triangle-ne"
          ]
         },
         "mode": "markers",
         "showlegend": false,
         "text": [
          "Latency: 0.0590s<br>Fibre Index: None",
          "Offset: 0.0617s"
         ],
         "type": "scatter",
         "x": [
          0.05904999999999916,
          0.061650000000000205
         ],
         "y": [
          85.60105,
          85.60105
         ]
        },
        {
         "hovertemplate": "%{text}",
         "marker": {
          "color": "black",
          "size": 7,
          "symbol": [
           "triangle-nw",
           "triangle-ne"
          ]
         },
         "mode": "markers",
         "showlegend": false,
         "text": [
          "Latency: 0.0590s<br>Fibre Index: None",
          "Offset: 0.0616s"
         ],
         "type": "scatter",
         "x": [
          0.05900000000001171,
          0.061599999999998545
         ],
         "y": [
          89.6013,
          89.6013
         ]
        },
        {
         "hovertemplate": "%{text}",
         "marker": {
          "color": "black",
          "size": 7,
          "symbol": [
           "triangle-nw",
           "triangle-ne"
          ]
         },
         "mode": "markers",
         "showlegend": false,
         "text": [
          "Latency: 0.0649s<br>Fibre Index: None",
          "Offset: 0.0675s"
         ],
         "type": "scatter",
         "x": [
          0.0648999999999944,
          0.06749999999999545
         ],
         "y": [
          97.60195,
          97.60195
         ]
        },
        {
         "hovertemplate": "%{text}",
         "marker": {
          "color": "black",
          "size": 7,
          "symbol": [
           "triangle-nw",
           "triangle-ne"
          ]
         },
         "mode": "markers",
         "showlegend": false,
         "text": [
          "Latency: 0.0628s<br>Fibre Index: None",
          "Offset: 0.0654s"
         ],
         "type": "scatter",
         "x": [
          0.06284999999999741,
          0.06544999999999845
         ],
         "y": [
          101.6022,
          101.6022
         ]
        },
        {
         "hovertemplate": "%{text}",
         "marker": {
          "color": "black",
          "size": 7,
          "symbol": [
           "triangle-nw",
           "triangle-ne"
          ]
         },
         "mode": "markers",
         "showlegend": false,
         "text": [
          "Latency: 0.0622s<br>Fibre Index: None",
          "Offset: 0.0648s"
         ],
         "type": "scatter",
         "x": [
          0.06219999999999004,
          0.06479999999999109
         ],
         "y": [
          105.60245,
          105.60245
         ]
        },
        {
         "hovertemplate": "%{text}",
         "marker": {
          "color": "black",
          "size": 7,
          "symbol": [
           "triangle-nw",
           "triangle-ne"
          ]
         },
         "mode": "markers",
         "showlegend": false,
         "text": [
          "Latency: 0.0619s<br>Fibre Index: None",
          "Offset: 0.0645s"
         ],
         "type": "scatter",
         "x": [
          0.06189999999999429,
          0.06449999999999534
         ],
         "y": [
          109.6027,
          109.6027
         ]
        },
        {
         "hovertemplate": "%{text}",
         "marker": {
          "color": "black",
          "size": 7,
          "symbol": [
           "triangle-nw",
           "triangle-ne"
          ]
         },
         "mode": "markers",
         "showlegend": false,
         "text": [
          "Latency: 0.0609s<br>Fibre Index: None",
          "Offset: 0.0635s"
         ],
         "type": "scatter",
         "x": [
          0.06094999999999118,
          0.06354999999999222
         ],
         "y": [
          113.6029,
          113.6029
         ]
        },
        {
         "hovertemplate": "%{text}",
         "marker": {
          "color": "black",
          "size": 7,
          "symbol": [
           "triangle-nw",
           "triangle-ne"
          ]
         },
         "mode": "markers",
         "showlegend": false,
         "text": [
          "Latency: 0.0610s<br>Fibre Index: None",
          "Offset: 0.0636s"
         ],
         "type": "scatter",
         "x": [
          0.06100000000000705,
          0.06359999999999388
         ],
         "y": [
          117.60315,
          117.60315
         ]
        },
        {
         "hovertemplate": "%{text}",
         "marker": {
          "color": "black",
          "size": 7,
          "symbol": [
           "triangle-nw",
           "triangle-ne"
          ]
         },
         "mode": "markers",
         "showlegend": false,
         "text": [
          "Latency: 0.0604s<br>Fibre Index: None",
          "Offset: 0.0630s"
         ],
         "type": "scatter",
         "x": [
          0.06040000000000134,
          0.06300000000000239
         ],
         "y": [
          121.6034,
          121.6034
         ]
        },
        {
         "hovertemplate": "%{text}",
         "marker": {
          "color": "black",
          "size": 7,
          "symbol": [
           "triangle-nw",
           "triangle-ne"
          ]
         },
         "mode": "markers",
         "showlegend": false,
         "text": [
          "Latency: 0.0602s<br>Fibre Index: None",
          "Offset: 0.0628s"
         ],
         "type": "scatter",
         "x": [
          0.0601999999999947,
          0.06279999999999575
         ],
         "y": [
          125.60365,
          125.60365
         ]
        },
        {
         "hovertemplate": "%{text}",
         "marker": {
          "color": "black",
          "size": 7,
          "symbol": [
           "triangle-nw",
           "triangle-ne"
          ]
         },
         "mode": "markers",
         "showlegend": false,
         "text": [
          "Latency: 0.0635s<br>Fibre Index: None",
          "Offset: 0.0661s"
         ],
         "type": "scatter",
         "x": [
          0.06345000000001733,
          0.06605000000001837
         ],
         "y": [
          133.6043,
          133.6043
         ]
        },
        {
         "hovertemplate": "%{text}",
         "marker": {
          "color": "black",
          "size": 7,
          "symbol": [
           "triangle-nw",
           "triangle-ne"
          ]
         },
         "mode": "markers",
         "showlegend": false,
         "text": [
          "Latency: 0.0620s<br>Fibre Index: None",
          "Offset: 0.0645s"
         ],
         "type": "scatter",
         "x": [
          0.061950000000024374,
          0.064549999999997
         ],
         "y": [
          137.60455,
          137.60455
         ]
        },
        {
         "hovertemplate": "%{text}",
         "marker": {
          "color": "black",
          "size": 7,
          "symbol": [
           "triangle-nw",
           "triangle-ne"
          ]
         },
         "mode": "markers",
         "showlegend": false,
         "text": [
          "Latency: 0.0614s<br>Fibre Index: None",
          "Offset: 0.0640s"
         ],
         "type": "scatter",
         "x": [
          0.061399999999991905,
          0.06399999999999295
         ],
         "y": [
          141.6048,
          141.6048
         ]
        },
        {
         "hovertemplate": "%{text}",
         "marker": {
          "color": "black",
          "size": 7,
          "symbol": [
           "triangle-nw",
           "triangle-ne"
          ]
         },
         "mode": "markers",
         "showlegend": false,
         "text": [
          "Latency: 0.0611s<br>Fibre Index: None",
          "Offset: 0.0637s"
         ],
         "type": "scatter",
         "x": [
          0.06110000000001037,
          0.06370000000001141
         ],
         "y": [
          145.605,
          145.605
         ]
        },
        {
         "hovertemplate": "%{text}",
         "marker": {
          "color": "black",
          "size": 7,
          "symbol": [
           "triangle-nw",
           "triangle-ne"
          ]
         },
         "mode": "markers",
         "showlegend": false,
         "text": [
          "Latency: 0.0609s<br>Fibre Index: None",
          "Offset: 0.0635s"
         ],
         "type": "scatter",
         "x": [
          0.06094999999999118,
          0.06354999999999222
         ],
         "y": [
          149.60525,
          149.60525
         ]
        },
        {
         "hovertemplate": "%{text}",
         "marker": {
          "color": "black",
          "size": 7,
          "symbol": [
           "triangle-nw",
           "triangle-ne"
          ]
         },
         "mode": "markers",
         "showlegend": false,
         "text": [
          "Latency: 0.0609s<br>Fibre Index: None",
          "Offset: 0.0635s"
         ],
         "type": "scatter",
         "x": [
          0.06094999999999118,
          0.06354999999999222
         ],
         "y": [
          153.6055,
          153.6055
         ]
        },
        {
         "hovertemplate": "%{text}",
         "marker": {
          "color": "black",
          "size": 7,
          "symbol": [
           "triangle-nw",
           "triangle-ne"
          ]
         },
         "mode": "markers",
         "showlegend": false,
         "text": [
          "Latency: 0.0609s<br>Fibre Index: None",
          "Offset: 0.0635s"
         ],
         "type": "scatter",
         "x": [
          0.06090000000000373,
          0.06350000000000477
         ],
         "y": [
          157.60575,
          157.60575
         ]
        },
        {
         "hovertemplate": "%{text}",
         "marker": {
          "color": "black",
          "size": 7,
          "symbol": [
           "triangle-nw",
           "triangle-ne"
          ]
         },
         "mode": "markers",
         "showlegend": false,
         "text": [
          "Latency: 0.0630s<br>Fibre Index: None",
          "Offset: 0.0656s"
         ],
         "type": "scatter",
         "x": [
          0.06299999999998818,
          0.06559999999998922
         ],
         "y": [
          161.6061,
          161.6061
         ]
        },
        {
         "hovertemplate": "%{text}",
         "marker": {
          "color": "black",
          "size": 7,
          "symbol": [
           "triangle-nw",
           "triangle-ne"
          ]
         },
         "mode": "markers",
         "showlegend": false,
         "text": [
          "Latency: 0.0622s<br>Fibre Index: None",
          "Offset: 0.0648s"
         ],
         "type": "scatter",
         "x": [
          0.06215000000000259,
          0.06475000000000364
         ],
         "y": [
          165.60635,
          165.60635
         ]
        },
        {
         "hovertemplate": "%{text}",
         "marker": {
          "color": "black",
          "size": 7,
          "symbol": [
           "triangle-nw",
           "triangle-ne"
          ]
         },
         "mode": "markers",
         "showlegend": false,
         "text": [
          "Latency: 0.0617s<br>Fibre Index: None",
          "Offset: 0.0643s"
         ],
         "type": "scatter",
         "x": [
          0.061650000000014415,
          0.06425000000001546
         ],
         "y": [
          169.6066,
          169.6066
         ]
        },
        {
         "hovertemplate": "%{text}",
         "marker": {
          "color": "black",
          "size": 7,
          "symbol": [
           "triangle-nw",
           "triangle-ne"
          ]
         },
         "mode": "markers",
         "showlegend": false,
         "text": [
          "Latency: 0.0616s<br>Fibre Index: None",
          "Offset: 0.0642s"
         ],
         "type": "scatter",
         "x": [
          0.061599999999998545,
          0.06419999999999959
         ],
         "y": [
          173.6068,
          173.6068
         ]
        },
        {
         "hovertemplate": "%{text}",
         "marker": {
          "color": "black",
          "size": 7,
          "symbol": [
           "triangle-nw",
           "triangle-ne"
          ]
         },
         "mode": "markers",
         "showlegend": false,
         "text": [
          "Latency: 0.0614s<br>Fibre Index: None",
          "Offset: 0.0640s"
         ],
         "type": "scatter",
         "x": [
          0.06140000000002033,
          0.06400000000002137
         ],
         "y": [
          177.60705,
          177.60705
         ]
        },
        {
         "hovertemplate": "%{text}",
         "marker": {
          "color": "black",
          "size": 7,
          "symbol": [
           "triangle-nw",
           "triangle-ne"
          ]
         },
         "mode": "markers",
         "showlegend": false,
         "text": [
          "Latency: 0.0611s<br>Fibre Index: None",
          "Offset: 0.0637s"
         ],
         "type": "scatter",
         "x": [
          0.06114999999999782,
          0.06374999999999886
         ],
         "y": [
          181.6073,
          181.6073
         ]
        },
        {
         "hovertemplate": "%{text}",
         "marker": {
          "color": "black",
          "size": 7,
          "symbol": [
           "triangle-nw",
           "triangle-ne"
          ]
         },
         "mode": "markers",
         "showlegend": false,
         "text": [
          "Latency: 0.0612s<br>Fibre Index: None",
          "Offset: 0.0638s"
         ],
         "type": "scatter",
         "x": [
          0.061199999999985266,
          0.06379999999998631
         ],
         "y": [
          185.60755,
          185.60755
         ]
        },
        {
         "hovertemplate": "%{text}",
         "marker": {
          "color": "black",
          "size": 7,
          "symbol": [
           "triangle-nw",
           "triangle-ne"
          ]
         },
         "mode": "markers",
         "showlegend": false,
         "text": [
          "Latency: 0.0611s<br>Fibre Index: None",
          "Offset: 0.0637s"
         ],
         "type": "scatter",
         "x": [
          0.06110000000001037,
          0.06370000000001141
         ],
         "y": [
          189.6078,
          189.6078
         ]
        },
        {
         "hovertemplate": "%{text}",
         "marker": {
          "color": "black",
          "size": 7,
          "symbol": [
           "triangle-nw",
           "triangle-ne"
          ]
         },
         "mode": "markers",
         "showlegend": false,
         "text": [
          "Latency: 0.0644s<br>Fibre Index: None",
          "Offset: 0.0670s"
         ],
         "type": "scatter",
         "x": [
          0.06444999999999368,
          0.06704999999999472
         ],
         "y": [
          193.60815,
          193.60815
         ]
        },
        {
         "hovertemplate": "%{text}",
         "marker": {
          "color": "black",
          "size": 7,
          "symbol": [
           "triangle-nw",
           "triangle-ne"
          ]
         },
         "mode": "markers",
         "showlegend": false,
         "text": [
          "Latency: 0.0625s<br>Fibre Index: None",
          "Offset: 0.0651s"
         ],
         "type": "scatter",
         "x": [
          0.0625,
          0.06510000000000105
         ],
         "y": [
          197.6084,
          197.6084
         ]
        },
        {
         "hovertemplate": "%{text}",
         "marker": {
          "color": "black",
          "size": 7,
          "symbol": [
           "triangle-nw",
           "triangle-ne"
          ]
         },
         "mode": "markers",
         "showlegend": false,
         "text": [
          "Latency: 0.0624s<br>Fibre Index: None",
          "Offset: 0.0650s"
         ],
         "type": "scatter",
         "x": [
          0.06239999999999668,
          0.06499999999999773
         ],
         "y": [
          201.6086,
          201.6086
         ]
        },
        {
         "hovertemplate": "%{text}",
         "marker": {
          "color": "black",
          "size": 7,
          "symbol": [
           "triangle-nw",
           "triangle-ne"
          ]
         },
         "mode": "markers",
         "showlegend": false,
         "text": [
          "Latency: 0.0624s<br>Fibre Index: None",
          "Offset: 0.0650s"
         ],
         "type": "scatter",
         "x": [
          0.06239999999999668,
          0.06499999999999773
         ],
         "y": [
          205.60885,
          205.60885
         ]
        },
        {
         "hovertemplate": "%{text}",
         "marker": {
          "color": "black",
          "size": 7,
          "symbol": [
           "triangle-nw",
           "triangle-ne"
          ]
         },
         "mode": "markers",
         "showlegend": false,
         "text": [
          "Latency: 0.0620s<br>Fibre Index: None",
          "Offset: 0.0646s"
         ],
         "type": "scatter",
         "x": [
          0.0619999999999834,
          0.06459999999998445
         ],
         "y": [
          209.6091,
          209.6091
         ]
        },
        {
         "hovertemplate": "%{text}",
         "marker": {
          "color": "black",
          "size": 7,
          "symbol": [
           "triangle-nw",
           "triangle-ne"
          ]
         },
         "mode": "markers",
         "showlegend": false,
         "text": [
          "Latency: 0.0618s<br>Fibre Index: None",
          "Offset: 0.0644s"
         ],
         "type": "scatter",
         "x": [
          0.06184999999999263,
          0.06444999999999368
         ],
         "y": [
          213.60935,
          213.60935
         ]
        },
        {
         "hovertemplate": "%{text}",
         "marker": {
          "color": "black",
          "size": 7,
          "symbol": [
           "triangle-nw",
           "triangle-ne"
          ]
         },
         "mode": "markers",
         "showlegend": false,
         "text": [
          "Latency: 0.0618s<br>Fibre Index: None",
          "Offset: 0.0644s"
         ],
         "type": "scatter",
         "x": [
          0.061800000000005184,
          0.06440000000000623
         ],
         "y": [
          217.6096,
          217.6096
         ]
        },
        {
         "hovertemplate": "%{text}",
         "marker": {
          "color": "black",
          "size": 7,
          "symbol": [
           "triangle-nw",
           "triangle-ne"
          ]
         },
         "mode": "markers",
         "showlegend": false,
         "text": [
          "Latency: 0.0619s<br>Fibre Index: None",
          "Offset: 0.0645s"
         ],
         "type": "scatter",
         "x": [
          0.06189999999998008,
          0.06449999999998113
         ],
         "y": [
          221.6098,
          221.6098
         ]
        },
        {
         "hovertemplate": "%{text}",
         "marker": {
          "color": "black",
          "size": 7,
          "symbol": [
           "triangle-nw",
           "triangle-ne"
          ]
         },
         "mode": "markers",
         "showlegend": false,
         "text": [
          "Latency: 0.0691s<br>Fibre Index: None",
          "Offset: 0.0717s"
         ],
         "type": "scatter",
         "x": [
          0.06909999999999172,
          0.07169999999999277
         ],
         "y": [
          225.61035,
          225.61035
         ]
        },
        {
         "hovertemplate": "%{text}",
         "marker": {
          "color": "black",
          "size": 7,
          "symbol": [
           "triangle-nw",
           "triangle-ne"
          ]
         },
         "mode": "markers",
         "showlegend": false,
         "text": [
          "Latency: 0.0670s<br>Fibre Index: None",
          "Offset: 0.0696s"
         ],
         "type": "scatter",
         "x": [
          0.06704999999999472,
          0.06964999999999577
         ],
         "y": [
          229.6106,
          229.6106
         ]
        },
        {
         "hovertemplate": "%{text}",
         "marker": {
          "color": "black",
          "size": 7,
          "symbol": [
           "triangle-nw",
           "triangle-ne"
          ]
         },
         "mode": "markers",
         "showlegend": false,
         "text": [
          "Latency: 0.0653s<br>Fibre Index: None",
          "Offset: 0.0679s"
         ],
         "type": "scatter",
         "x": [
          0.06534999999999513,
          0.06794999999999618
         ],
         "y": [
          233.61085,
          233.61085
         ]
        },
        {
         "hovertemplate": "%{text}",
         "marker": {
          "color": "black",
          "size": 7,
          "symbol": [
           "triangle-nw",
           "triangle-ne"
          ]
         },
         "mode": "markers",
         "showlegend": false,
         "text": [
          "Latency: 0.0643s<br>Fibre Index: None",
          "Offset: 0.0669s"
         ],
         "type": "scatter",
         "x": [
          0.06430000000000291,
          0.06690000000000396
         ],
         "y": [
          237.6111,
          237.6111
         ]
        },
        {
         "hovertemplate": "%{text}",
         "marker": {
          "color": "black",
          "size": 7,
          "symbol": [
           "triangle-nw",
           "triangle-ne"
          ]
         },
         "mode": "markers",
         "showlegend": false,
         "text": [
          "Latency: 0.0639s<br>Fibre Index: None",
          "Offset: 0.0665s"
         ],
         "type": "scatter",
         "x": [
          0.06385000000000218,
          0.06645000000000323
         ],
         "y": [
          241.6113,
          241.6113
         ]
        },
        {
         "hovertemplate": "%{text}",
         "marker": {
          "color": "black",
          "size": 7,
          "symbol": [
           "triangle-nw",
           "triangle-ne"
          ]
         },
         "mode": "markers",
         "showlegend": false,
         "text": [
          "Latency: 0.0636s<br>Fibre Index: None",
          "Offset: 0.0662s"
         ],
         "type": "scatter",
         "x": [
          0.0636000000000081,
          0.06620000000000914
         ],
         "y": [
          245.61155,
          245.61155
         ]
        },
        {
         "hovertemplate": "%{text}",
         "marker": {
          "color": "black",
          "size": 7,
          "symbol": [
           "triangle-nw",
           "triangle-ne"
          ]
         },
         "mode": "markers",
         "showlegend": false,
         "text": [
          "Latency: 0.0639s<br>Fibre Index: None",
          "Offset: 0.0665s"
         ],
         "type": "scatter",
         "x": [
          0.06385000000000218,
          0.06645000000000323
         ],
         "y": [
          249.6118,
          249.6118
         ]
        },
        {
         "hovertemplate": "%{text}",
         "marker": {
          "color": "black",
          "size": 7,
          "symbol": [
           "triangle-nw",
           "triangle-ne"
          ]
         },
         "mode": "markers",
         "showlegend": false,
         "text": [
          "Latency: 0.0636s<br>Fibre Index: None",
          "Offset: 0.0662s"
         ],
         "type": "scatter",
         "x": [
          0.06364999999999554,
          0.06624999999999659
         ],
         "y": [
          253.61205,
          253.61205
         ]
        },
        {
         "hovertemplate": "%{text}",
         "marker": {
          "color": "black",
          "size": 7,
          "symbol": [
           "triangle-nw",
           "triangle-ne"
          ]
         },
         "mode": "markers",
         "showlegend": false,
         "text": [
          "Latency: 0.0724s<br>Fibre Index: None",
          "Offset: 0.0750s"
         ],
         "type": "scatter",
         "x": [
          0.07240000000001601,
          0.07499999999998863
         ],
         "y": [
          257.6126,
          257.6126
         ]
        },
        {
         "hovertemplate": "%{text}",
         "marker": {
          "color": "black",
          "size": 7,
          "symbol": [
           "triangle-nw",
           "triangle-ne"
          ]
         },
         "mode": "markers",
         "showlegend": false,
         "text": [
          "Latency: 0.0697s<br>Fibre Index: None",
          "Offset: 0.0723s"
         ],
         "type": "scatter",
         "x": [
          0.06970000000001164,
          0.07229999999998427
         ],
         "y": [
          261.6128,
          261.6128
         ]
        },
        {
         "hovertemplate": "%{text}",
         "marker": {
          "color": "black",
          "size": 7,
          "symbol": [
           "triangle-nw",
           "triangle-ne"
          ]
         },
         "mode": "markers",
         "showlegend": false,
         "text": [
          "Latency: 0.0679s<br>Fibre Index: None",
          "Offset: 0.0706s"
         ],
         "type": "scatter",
         "x": [
          0.06794999999999618,
          0.07055000000002565
         ],
         "y": [
          265.61305,
          265.61305
         ]
        },
        {
         "hovertemplate": "%{text}",
         "marker": {
          "color": "black",
          "size": 7,
          "symbol": [
           "triangle-nw",
           "triangle-ne"
          ]
         },
         "mode": "markers",
         "showlegend": false,
         "text": [
          "Latency: 0.0668s<br>Fibre Index: None",
          "Offset: 0.0694s"
         ],
         "type": "scatter",
         "x": [
          0.06680000000000064,
          0.0694000000000301
         ],
         "y": [
          269.6133,
          269.6133
         ]
        },
        {
         "hovertemplate": "%{text}",
         "marker": {
          "color": "black",
          "size": 7,
          "symbol": [
           "triangle-nw",
           "triangle-ne"
          ]
         },
         "mode": "markers",
         "showlegend": false,
         "text": [
          "Latency: 0.0658s<br>Fibre Index: None",
          "Offset: 0.0684s"
         ],
         "type": "scatter",
         "x": [
          0.06575000000003683,
          0.06835000000000946
         ],
         "y": [
          273.61355,
          273.61355
         ]
        },
        {
         "hovertemplate": "%{text}",
         "marker": {
          "color": "black",
          "size": 7,
          "symbol": [
           "triangle-nw",
           "triangle-ne"
          ]
         },
         "mode": "markers",
         "showlegend": false,
         "text": [
          "Latency: 0.0652s<br>Fibre Index: None",
          "Offset: 0.0678s"
         ],
         "type": "scatter",
         "x": [
          0.06519999999994752,
          0.06779999999997699
         ],
         "y": [
          277.6138,
          277.6138
         ]
        },
        {
         "hovertemplate": "%{text}",
         "marker": {
          "color": "black",
          "size": 7,
          "symbol": [
           "triangle-nw",
           "triangle-ne"
          ]
         },
         "mode": "markers",
         "showlegend": false,
         "text": [
          "Latency: 0.0648s<br>Fibre Index: None",
          "Offset: 0.0674s"
         ],
         "type": "scatter",
         "x": [
          0.06480000000004793,
          0.06740000000002055
         ],
         "y": [
          281.614,
          281.614
         ]
        },
        {
         "hovertemplate": "%{text}",
         "marker": {
          "color": "black",
          "size": 7,
          "symbol": [
           "triangle-nw",
           "triangle-ne"
          ]
         },
         "mode": "markers",
         "showlegend": false,
         "text": [
          "Latency: 0.0645s<br>Fibre Index: None",
          "Offset: 0.0671s"
         ],
         "type": "scatter",
         "x": [
          0.064549999999997,
          0.06714999999996962
         ],
         "y": [
          285.61425,
          285.61425
         ]
        },
        {
         "hovertemplate": "%{text}",
         "marker": {
          "color": "black",
          "size": 7,
          "symbol": [
           "triangle-nw",
           "triangle-ne"
          ]
         },
         "mode": "markers",
         "showlegend": false,
         "text": [
          "Latency: 0.0722s<br>Fibre Index: None",
          "Offset: 0.0747s"
         ],
         "type": "scatter",
         "x": [
          0.07215000000002192,
          0.07474999999999454
         ],
         "y": [
          289.6148,
          289.6148
         ]
        },
        {
         "hovertemplate": "%{text}",
         "marker": {
          "color": "black",
          "size": 7,
          "symbol": [
           "triangle-nw",
           "triangle-ne"
          ]
         },
         "mode": "markers",
         "showlegend": false,
         "text": [
          "Latency: 0.0677s<br>Fibre Index: None",
          "Offset: 0.0704s"
         ],
         "type": "scatter",
         "x": [
          0.06774999999998954,
          0.07035000000001901
         ],
         "y": [
          297.6153,
          297.6153
         ]
        },
        {
         "hovertemplate": "%{text}",
         "marker": {
          "color": "black",
          "size": 7,
          "symbol": [
           "triangle-nw",
           "triangle-ne"
          ]
         },
         "mode": "markers",
         "showlegend": false,
         "text": [
          "Latency: 0.0667s<br>Fibre Index: None",
          "Offset: 0.0693s"
         ],
         "type": "scatter",
         "x": [
          0.06670000000002574,
          0.06929999999999836
         ],
         "y": [
          305.61575,
          305.61575
         ]
        },
        {
         "hovertemplate": "%{text}",
         "marker": {
          "color": "black",
          "size": 7,
          "symbol": [
           "triangle-nw",
           "triangle-ne"
          ]
         },
         "mode": "markers",
         "showlegend": false,
         "text": [
          "Latency: 0.0661s<br>Fibre Index: None",
          "Offset: 0.0687s"
         ],
         "type": "scatter",
         "x": [
          0.06610000000000582,
          0.06870000000003529
         ],
         "y": [
          309.616,
          309.616
         ]
        },
        {
         "hovertemplate": "%{text}",
         "marker": {
          "color": "black",
          "size": 7,
          "symbol": [
           "triangle-nw",
           "triangle-ne"
          ]
         },
         "mode": "markers",
         "showlegend": false,
         "text": [
          "Latency: 0.0658s<br>Fibre Index: None",
          "Offset: 0.0684s"
         ],
         "type": "scatter",
         "x": [
          0.06575000000003683,
          0.06835000000000946
         ],
         "y": [
          313.61625,
          313.61625
         ]
        },
        {
         "hovertemplate": "%{text}",
         "marker": {
          "color": "black",
          "size": 7,
          "symbol": [
           "triangle-nw",
           "triangle-ne"
          ]
         },
         "mode": "markers",
         "showlegend": false,
         "text": [
          "Latency: 0.0655s<br>Fibre Index: None",
          "Offset: 0.0681s"
         ],
         "type": "scatter",
         "x": [
          0.06550000000004275,
          0.06810000000001537
         ],
         "y": [
          317.6165,
          317.6165
         ]
        },
        {
         "hovertemplate": "%{text}",
         "marker": {
          "color": "black",
          "size": 7,
          "symbol": [
           "triangle-nw",
           "triangle-ne"
          ]
         },
         "mode": "markers",
         "showlegend": false,
         "text": [
          "Latency: 0.0741s<br>Fibre Index: None",
          "Offset: 0.0767s"
         ],
         "type": "scatter",
         "x": [
          0.07409999999998718,
          0.0766999999999598
         ],
         "y": [
          321.617,
          321.617
         ]
        },
        {
         "hovertemplate": "%{text}",
         "marker": {
          "color": "black",
          "size": 7,
          "symbol": [
           "triangle-nw",
           "triangle-ne"
          ]
         },
         "mode": "markers",
         "showlegend": false,
         "text": [
          "Latency: 0.0711s<br>Fibre Index: None",
          "Offset: 0.0737s"
         ],
         "type": "scatter",
         "x": [
          0.07110000000000127,
          0.0736999999999739
         ],
         "y": [
          325.61725,
          325.61725
         ]
        },
        {
         "hovertemplate": "%{text}",
         "marker": {
          "color": "black",
          "size": 7,
          "symbol": [
           "triangle-nw",
           "triangle-ne"
          ]
         },
         "mode": "markers",
         "showlegend": false,
         "text": [
          "Latency: 0.0691s<br>Fibre Index: None",
          "Offset: 0.0716s"
         ],
         "type": "scatter",
         "x": [
          0.06905000000000427,
          0.0716499999999769
         ],
         "y": [
          329.6175,
          329.6175
         ]
        },
        {
         "hovertemplate": "%{text}",
         "marker": {
          "color": "black",
          "size": 7,
          "symbol": [
           "triangle-nw",
           "triangle-ne"
          ]
         },
         "mode": "markers",
         "showlegend": false,
         "text": [
          "Latency: 0.0681s<br>Fibre Index: None",
          "Offset: 0.0707s"
         ],
         "type": "scatter",
         "x": [
          0.06810000000001537,
          0.070699999999988
         ],
         "y": [
          333.61775,
          333.61775
         ]
        },
        {
         "hovertemplate": "%{text}",
         "marker": {
          "color": "black",
          "size": 7,
          "symbol": [
           "triangle-nw",
           "triangle-ne"
          ]
         },
         "mode": "markers",
         "showlegend": false,
         "text": [
          "Latency: 0.0679s<br>Fibre Index: None",
          "Offset: 0.0705s"
         ],
         "type": "scatter",
         "x": [
          0.06790000000000873,
          0.07049999999998136
         ],
         "y": [
          337.618,
          337.618
         ]
        },
        {
         "hovertemplate": "%{text}",
         "marker": {
          "color": "black",
          "size": 7,
          "symbol": [
           "triangle-nw",
           "triangle-ne"
          ]
         },
         "mode": "markers",
         "showlegend": false,
         "text": [
          "Latency: 0.0674s<br>Fibre Index: None",
          "Offset: 0.0700s"
         ],
         "type": "scatter",
         "x": [
          0.06740000000002055,
          0.06999999999999318
         ],
         "y": [
          341.6182,
          341.6182
         ]
        },
        {
         "hovertemplate": "%{text}",
         "marker": {
          "color": "black",
          "size": 7,
          "symbol": [
           "triangle-nw",
           "triangle-ne"
          ]
         },
         "mode": "markers",
         "showlegend": false,
         "text": [
          "Latency: 0.0671s<br>Fibre Index: None",
          "Offset: 0.0697s"
         ],
         "type": "scatter",
         "x": [
          0.06709999999998217,
          0.06970000000001164
         ],
         "y": [
          345.61845,
          345.61845
         ]
        },
        {
         "hovertemplate": "%{text}",
         "marker": {
          "color": "black",
          "size": 7,
          "symbol": [
           "triangle-nw",
           "triangle-ne"
          ]
         },
         "mode": "markers",
         "showlegend": false,
         "text": [
          "Latency: 0.0667s<br>Fibre Index: None",
          "Offset: 0.0693s"
         ],
         "type": "scatter",
         "x": [
          0.06670000000002574,
          0.06929999999999836
         ],
         "y": [
          349.6187,
          349.6187
         ]
        },
        {
         "hovertemplate": "%{text}",
         "marker": {
          "color": "black",
          "size": 7,
          "symbol": [
           "triangle-nw",
           "triangle-ne"
          ]
         },
         "mode": "markers",
         "showlegend": false,
         "text": [
          "Latency: 0.0745s<br>Fibre Index: None",
          "Offset: 0.0771s"
         ],
         "type": "scatter",
         "x": [
          0.0745499999999879,
          0.07714999999996053
         ],
         "y": [
          353.61925,
          353.61925
         ]
        },
        {
         "hovertemplate": "%{text}",
         "marker": {
          "color": "black",
          "size": 7,
          "symbol": [
           "triangle-nw",
           "triangle-ne"
          ]
         },
         "mode": "markers",
         "showlegend": false,
         "text": [
          "Latency: 0.0725s<br>Fibre Index: None",
          "Offset: 0.0750s"
         ],
         "type": "scatter",
         "x": [
          0.07245000000000346,
          0.07504999999997608
         ],
         "y": [
          357.6195,
          357.6195
         ]
        },
        {
         "hovertemplate": "%{text}",
         "marker": {
          "color": "black",
          "size": 7,
          "symbol": [
           "triangle-nw",
           "triangle-ne"
          ]
         },
         "mode": "markers",
         "showlegend": false,
         "text": [
          "Latency: 0.0708s<br>Fibre Index: None",
          "Offset: 0.0734s"
         ],
         "type": "scatter",
         "x": [
          0.07079999999996289,
          0.07339999999999236
         ],
         "y": [
          361.6197,
          361.6197
         ]
        },
        {
         "hovertemplate": "%{text}",
         "marker": {
          "color": "black",
          "size": 7,
          "symbol": [
           "triangle-nw",
           "triangle-ne"
          ]
         },
         "mode": "markers",
         "showlegend": false,
         "text": [
          "Latency: 0.0694s<br>Fibre Index: None",
          "Offset: 0.0720s"
         ],
         "type": "scatter",
         "x": [
          0.06944999999996071,
          0.07204999999999018
         ],
         "y": [
          365.61995,
          365.61995
         ]
        },
        {
         "hovertemplate": "%{text}",
         "marker": {
          "color": "black",
          "size": 7,
          "symbol": [
           "triangle-nw",
           "triangle-ne"
          ]
         },
         "mode": "markers",
         "showlegend": false,
         "text": [
          "Latency: 0.0686s<br>Fibre Index: None",
          "Offset: 0.0711s"
         ],
         "type": "scatter",
         "x": [
          0.0685500000000161,
          0.07114999999998872
         ],
         "y": [
          369.6202,
          369.6202
         ]
        },
        {
         "hovertemplate": "%{text}",
         "marker": {
          "color": "black",
          "size": 7,
          "symbol": [
           "triangle-nw",
           "triangle-ne"
          ]
         },
         "mode": "markers",
         "showlegend": false,
         "text": [
          "Latency: 0.0688s<br>Fibre Index: None",
          "Offset: 0.0714s"
         ],
         "type": "scatter",
         "x": [
          0.06880000000001019,
          0.07139999999998281
         ],
         "y": [
          373.62045,
          373.62045
         ]
        },
        {
         "hovertemplate": "%{text}",
         "marker": {
          "color": "black",
          "size": 7,
          "symbol": [
           "triangle-nw",
           "triangle-ne"
          ]
         },
         "mode": "markers",
         "showlegend": false,
         "text": [
          "Latency: 0.0684s<br>Fibre Index: None",
          "Offset: 0.0709s"
         ],
         "type": "scatter",
         "x": [
          0.06835000000000946,
          0.07094999999998208
         ],
         "y": [
          377.6207,
          377.6207
         ]
        },
        {
         "hovertemplate": "%{text}",
         "marker": {
          "color": "black",
          "size": 7,
          "symbol": [
           "triangle-nw",
           "triangle-ne"
          ]
         },
         "mode": "markers",
         "showlegend": false,
         "text": [
          "Latency: 0.0752s<br>Fibre Index: None",
          "Offset: 0.0778s"
         ],
         "type": "scatter",
         "x": [
          0.07515000000000782,
          0.07775000000003729
         ],
         "y": [
          385.62145,
          385.62145
         ]
        },
        {
         "hovertemplate": "%{text}",
         "marker": {
          "color": "black",
          "size": 7,
          "symbol": [
           "triangle-nw",
           "triangle-ne"
          ]
         },
         "mode": "markers",
         "showlegend": false,
         "text": [
          "Latency: 0.0724s<br>Fibre Index: None",
          "Offset: 0.0750s"
         ],
         "type": "scatter",
         "x": [
          0.07240000000001601,
          0.07500000000004547
         ],
         "y": [
          389.6217,
          389.6217
         ]
        },
        {
         "hovertemplate": "%{text}",
         "marker": {
          "color": "black",
          "size": 7,
          "symbol": [
           "triangle-nw",
           "triangle-ne"
          ]
         },
         "mode": "markers",
         "showlegend": false,
         "text": [
          "Latency: 0.0707s<br>Fibre Index: None",
          "Offset: 0.0733s"
         ],
         "type": "scatter",
         "x": [
          0.07074999999997544,
          0.07334999999994807
         ],
         "y": [
          393.62195,
          393.62195
         ]
        },
        {
         "hovertemplate": "%{text}",
         "marker": {
          "color": "black",
          "size": 7,
          "symbol": [
           "triangle-nw",
           "triangle-ne"
          ]
         },
         "mode": "markers",
         "showlegend": false,
         "text": [
          "Latency: 0.0700s<br>Fibre Index: None",
          "Offset: 0.0725s"
         ],
         "type": "scatter",
         "x": [
          0.06995000000000573,
          0.07254999999997835
         ],
         "y": [
          397.6222,
          397.6222
         ]
        },
        {
         "hovertemplate": "%{text}",
         "marker": {
          "color": "black",
          "size": 7,
          "symbol": [
           "triangle-nw",
           "triangle-ne"
          ]
         },
         "mode": "markers",
         "showlegend": false,
         "text": [
          "Latency: 0.0694s<br>Fibre Index: None",
          "Offset: 0.0720s"
         ],
         "type": "scatter",
         "x": [
          0.06939999999997326,
          0.07199999999994589
         ],
         "y": [
          401.6224,
          401.6224
         ]
        },
        {
         "hovertemplate": "%{text}",
         "marker": {
          "color": "black",
          "size": 7,
          "symbol": [
           "triangle-nw",
           "triangle-ne"
          ]
         },
         "mode": "markers",
         "showlegend": false,
         "text": [
          "Latency: 0.0697s<br>Fibre Index: None",
          "Offset: 0.0723s"
         ],
         "type": "scatter",
         "x": [
          0.06974999999999909,
          0.07234999999997171
         ],
         "y": [
          405.62265,
          405.62265
         ]
        },
        {
         "hovertemplate": "%{text}",
         "marker": {
          "color": "black",
          "size": 7,
          "symbol": [
           "triangle-nw",
           "triangle-ne"
          ]
         },
         "mode": "markers",
         "showlegend": false,
         "text": [
          "Latency: 0.0697s<br>Fibre Index: None",
          "Offset: 0.0723s"
         ],
         "type": "scatter",
         "x": [
          0.06974999999999909,
          0.07234999999997171
         ],
         "y": [
          409.6229,
          409.6229
         ]
        },
        {
         "hovertemplate": "%{text}",
         "marker": {
          "color": "black",
          "size": 7,
          "symbol": [
           "triangle-nw",
           "triangle-ne"
          ]
         },
         "mode": "markers",
         "showlegend": false,
         "text": [
          "Latency: 0.0777s<br>Fibre Index: None",
          "Offset: 0.0803s"
         ],
         "type": "scatter",
         "x": [
          0.077699999999993,
          0.08030000000002246
         ],
         "y": [
          417.6237,
          417.6237
         ]
        },
        {
         "hovertemplate": "%{text}",
         "marker": {
          "color": "black",
          "size": 7,
          "symbol": [
           "triangle-nw",
           "triangle-ne"
          ]
         },
         "mode": "markers",
         "showlegend": false,
         "text": [
          "Latency: 0.0752s<br>Fibre Index: None",
          "Offset: 0.0778s"
         ],
         "type": "scatter",
         "x": [
          0.07519999999999527,
          0.07780000000002474
         ],
         "y": [
          421.6239,
          421.6239
         ]
        },
        {
         "hovertemplate": "%{text}",
         "marker": {
          "color": "black",
          "size": 7,
          "symbol": [
           "triangle-nw",
           "triangle-ne"
          ]
         },
         "mode": "markers",
         "showlegend": false,
         "text": [
          "Latency: 0.0731s<br>Fibre Index: None",
          "Offset: 0.0757s"
         ],
         "type": "scatter",
         "x": [
          0.07310000000001082,
          0.07570000000004029
         ],
         "y": [
          425.62415,
          425.62415
         ]
        },
        {
         "hovertemplate": "%{text}",
         "marker": {
          "color": "black",
          "size": 7,
          "symbol": [
           "triangle-nw",
           "triangle-ne"
          ]
         },
         "mode": "markers",
         "showlegend": false,
         "text": [
          "Latency: 0.0721s<br>Fibre Index: None",
          "Offset: 0.0747s"
         ],
         "type": "scatter",
         "x": [
          0.07210000000003447,
          0.0747000000000071
         ],
         "y": [
          429.6244,
          429.6244
         ]
        },
        {
         "hovertemplate": "%{text}",
         "marker": {
          "color": "black",
          "size": 7,
          "symbol": [
           "triangle-nw",
           "triangle-ne"
          ]
         },
         "mode": "markers",
         "showlegend": false,
         "text": [
          "Latency: 0.0718s<br>Fibre Index: None",
          "Offset: 0.0744s"
         ],
         "type": "scatter",
         "x": [
          0.07175000000000864,
          0.07435000000003811
         ],
         "y": [
          433.62465,
          433.62465
         ]
        },
        {
         "line": {
          "color": "red",
          "width": 0.75
         },
         "mode": "lines",
         "name": "AP Track",
         "type": "scatter",
         "x": [
          0.05664999999999987,
          0.056550000000000544,
          0.05670000000000108,
          0.05680000000000085,
          0.057000000000000384,
          0.05729999999999791,
          0.05765000000000242,
          0.06265000000000498,
          0.06119999999999948,
          0.06044999999999945,
          0.05964999999999776,
          0.05979999999999919,
          0.059899999999998954,
          0.060549999999999216,
          0.060050000000003934,
          0.06494999999999607,
          0.06345000000000312,
          0.06244999999999834,
          0.061599999999998545,
          0.06074999999999875,
          0.06034999999999968,
          0.06030000000000513
         ],
         "y": [
          5.5959,
          9.59615,
          13.5964,
          17.5966,
          21.59685,
          25.5971,
          29.59735,
          33.59775,
          37.598,
          41.59825,
          45.5985,
          49.5987,
          53.59895,
          57.5992,
          61.59945,
          65.59985,
          69.6001,
          73.60035,
          77.6006,
          81.6008,
          85.60105,
          89.6013
         ]
        }
       ],
       "layout": {
        "height": 600,
        "template": {
         "data": {
          "bar": [
           {
            "error_x": {
             "color": "#2a3f5f"
            },
            "error_y": {
             "color": "#2a3f5f"
            },
            "marker": {
             "line": {
              "color": "#E5ECF6",
              "width": 0.5
             }
            },
            "type": "bar"
           }
          ],
          "barpolar": [
           {
            "marker": {
             "line": {
              "color": "#E5ECF6",
              "width": 0.5
             }
            },
            "type": "barpolar"
           }
          ],
          "carpet": [
           {
            "aaxis": {
             "endlinecolor": "#2a3f5f",
             "gridcolor": "white",
             "linecolor": "white",
             "minorgridcolor": "white",
             "startlinecolor": "#2a3f5f"
            },
            "baxis": {
             "endlinecolor": "#2a3f5f",
             "gridcolor": "white",
             "linecolor": "white",
             "minorgridcolor": "white",
             "startlinecolor": "#2a3f5f"
            },
            "type": "carpet"
           }
          ],
          "choropleth": [
           {
            "colorbar": {
             "outlinewidth": 0,
             "ticks": ""
            },
            "type": "choropleth"
           }
          ],
          "contour": [
           {
            "colorbar": {
             "outlinewidth": 0,
             "ticks": ""
            },
            "colorscale": [
             [
              0,
              "#0d0887"
             ],
             [
              0.1111111111111111,
              "#46039f"
             ],
             [
              0.2222222222222222,
              "#7201a8"
             ],
             [
              0.3333333333333333,
              "#9c179e"
             ],
             [
              0.4444444444444444,
              "#bd3786"
             ],
             [
              0.5555555555555556,
              "#d8576b"
             ],
             [
              0.6666666666666666,
              "#ed7953"
             ],
             [
              0.7777777777777778,
              "#fb9f3a"
             ],
             [
              0.8888888888888888,
              "#fdca26"
             ],
             [
              1,
              "#f0f921"
             ]
            ],
            "type": "contour"
           }
          ],
          "contourcarpet": [
           {
            "colorbar": {
             "outlinewidth": 0,
             "ticks": ""
            },
            "type": "contourcarpet"
           }
          ],
          "heatmap": [
           {
            "colorbar": {
             "outlinewidth": 0,
             "ticks": ""
            },
            "colorscale": [
             [
              0,
              "#0d0887"
             ],
             [
              0.1111111111111111,
              "#46039f"
             ],
             [
              0.2222222222222222,
              "#7201a8"
             ],
             [
              0.3333333333333333,
              "#9c179e"
             ],
             [
              0.4444444444444444,
              "#bd3786"
             ],
             [
              0.5555555555555556,
              "#d8576b"
             ],
             [
              0.6666666666666666,
              "#ed7953"
             ],
             [
              0.7777777777777778,
              "#fb9f3a"
             ],
             [
              0.8888888888888888,
              "#fdca26"
             ],
             [
              1,
              "#f0f921"
             ]
            ],
            "type": "heatmap"
           }
          ],
          "heatmapgl": [
           {
            "colorbar": {
             "outlinewidth": 0,
             "ticks": ""
            },
            "colorscale": [
             [
              0,
              "#0d0887"
             ],
             [
              0.1111111111111111,
              "#46039f"
             ],
             [
              0.2222222222222222,
              "#7201a8"
             ],
             [
              0.3333333333333333,
              "#9c179e"
             ],
             [
              0.4444444444444444,
              "#bd3786"
             ],
             [
              0.5555555555555556,
              "#d8576b"
             ],
             [
              0.6666666666666666,
              "#ed7953"
             ],
             [
              0.7777777777777778,
              "#fb9f3a"
             ],
             [
              0.8888888888888888,
              "#fdca26"
             ],
             [
              1,
              "#f0f921"
             ]
            ],
            "type": "heatmapgl"
           }
          ],
          "histogram": [
           {
            "marker": {
             "colorbar": {
              "outlinewidth": 0,
              "ticks": ""
             }
            },
            "type": "histogram"
           }
          ],
          "histogram2d": [
           {
            "colorbar": {
             "outlinewidth": 0,
             "ticks": ""
            },
            "colorscale": [
             [
              0,
              "#0d0887"
             ],
             [
              0.1111111111111111,
              "#46039f"
             ],
             [
              0.2222222222222222,
              "#7201a8"
             ],
             [
              0.3333333333333333,
              "#9c179e"
             ],
             [
              0.4444444444444444,
              "#bd3786"
             ],
             [
              0.5555555555555556,
              "#d8576b"
             ],
             [
              0.6666666666666666,
              "#ed7953"
             ],
             [
              0.7777777777777778,
              "#fb9f3a"
             ],
             [
              0.8888888888888888,
              "#fdca26"
             ],
             [
              1,
              "#f0f921"
             ]
            ],
            "type": "histogram2d"
           }
          ],
          "histogram2dcontour": [
           {
            "colorbar": {
             "outlinewidth": 0,
             "ticks": ""
            },
            "colorscale": [
             [
              0,
              "#0d0887"
             ],
             [
              0.1111111111111111,
              "#46039f"
             ],
             [
              0.2222222222222222,
              "#7201a8"
             ],
             [
              0.3333333333333333,
              "#9c179e"
             ],
             [
              0.4444444444444444,
              "#bd3786"
             ],
             [
              0.5555555555555556,
              "#d8576b"
             ],
             [
              0.6666666666666666,
              "#ed7953"
             ],
             [
              0.7777777777777778,
              "#fb9f3a"
             ],
             [
              0.8888888888888888,
              "#fdca26"
             ],
             [
              1,
              "#f0f921"
             ]
            ],
            "type": "histogram2dcontour"
           }
          ],
          "mesh3d": [
           {
            "colorbar": {
             "outlinewidth": 0,
             "ticks": ""
            },
            "type": "mesh3d"
           }
          ],
          "parcoords": [
           {
            "line": {
             "colorbar": {
              "outlinewidth": 0,
              "ticks": ""
             }
            },
            "type": "parcoords"
           }
          ],
          "pie": [
           {
            "automargin": true,
            "type": "pie"
           }
          ],
          "scatter": [
           {
            "marker": {
             "colorbar": {
              "outlinewidth": 0,
              "ticks": ""
             }
            },
            "type": "scatter"
           }
          ],
          "scatter3d": [
           {
            "line": {
             "colorbar": {
              "outlinewidth": 0,
              "ticks": ""
             }
            },
            "marker": {
             "colorbar": {
              "outlinewidth": 0,
              "ticks": ""
             }
            },
            "type": "scatter3d"
           }
          ],
          "scattercarpet": [
           {
            "marker": {
             "colorbar": {
              "outlinewidth": 0,
              "ticks": ""
             }
            },
            "type": "scattercarpet"
           }
          ],
          "scattergeo": [
           {
            "marker": {
             "colorbar": {
              "outlinewidth": 0,
              "ticks": ""
             }
            },
            "type": "scattergeo"
           }
          ],
          "scattergl": [
           {
            "marker": {
             "colorbar": {
              "outlinewidth": 0,
              "ticks": ""
             }
            },
            "type": "scattergl"
           }
          ],
          "scattermapbox": [
           {
            "marker": {
             "colorbar": {
              "outlinewidth": 0,
              "ticks": ""
             }
            },
            "type": "scattermapbox"
           }
          ],
          "scatterpolar": [
           {
            "marker": {
             "colorbar": {
              "outlinewidth": 0,
              "ticks": ""
             }
            },
            "type": "scatterpolar"
           }
          ],
          "scatterpolargl": [
           {
            "marker": {
             "colorbar": {
              "outlinewidth": 0,
              "ticks": ""
             }
            },
            "type": "scatterpolargl"
           }
          ],
          "scatterternary": [
           {
            "marker": {
             "colorbar": {
              "outlinewidth": 0,
              "ticks": ""
             }
            },
            "type": "scatterternary"
           }
          ],
          "surface": [
           {
            "colorbar": {
             "outlinewidth": 0,
             "ticks": ""
            },
            "colorscale": [
             [
              0,
              "#0d0887"
             ],
             [
              0.1111111111111111,
              "#46039f"
             ],
             [
              0.2222222222222222,
              "#7201a8"
             ],
             [
              0.3333333333333333,
              "#9c179e"
             ],
             [
              0.4444444444444444,
              "#bd3786"
             ],
             [
              0.5555555555555556,
              "#d8576b"
             ],
             [
              0.6666666666666666,
              "#ed7953"
             ],
             [
              0.7777777777777778,
              "#fb9f3a"
             ],
             [
              0.8888888888888888,
              "#fdca26"
             ],
             [
              1,
              "#f0f921"
             ]
            ],
            "type": "surface"
           }
          ],
          "table": [
           {
            "cells": {
             "fill": {
              "color": "#EBF0F8"
             },
             "line": {
              "color": "white"
             }
            },
            "header": {
             "fill": {
              "color": "#C8D4E3"
             },
             "line": {
              "color": "white"
             }
            },
            "type": "table"
           }
          ]
         },
         "layout": {
          "annotationdefaults": {
           "arrowcolor": "#2a3f5f",
           "arrowhead": 0,
           "arrowwidth": 1
          },
          "coloraxis": {
           "colorbar": {
            "outlinewidth": 0,
            "ticks": ""
           }
          },
          "colorscale": {
           "diverging": [
            [
             0,
             "#8e0152"
            ],
            [
             0.1,
             "#c51b7d"
            ],
            [
             0.2,
             "#de77ae"
            ],
            [
             0.3,
             "#f1b6da"
            ],
            [
             0.4,
             "#fde0ef"
            ],
            [
             0.5,
             "#f7f7f7"
            ],
            [
             0.6,
             "#e6f5d0"
            ],
            [
             0.7,
             "#b8e186"
            ],
            [
             0.8,
             "#7fbc41"
            ],
            [
             0.9,
             "#4d9221"
            ],
            [
             1,
             "#276419"
            ]
           ],
           "sequential": [
            [
             0,
             "#0d0887"
            ],
            [
             0.1111111111111111,
             "#46039f"
            ],
            [
             0.2222222222222222,
             "#7201a8"
            ],
            [
             0.3333333333333333,
             "#9c179e"
            ],
            [
             0.4444444444444444,
             "#bd3786"
            ],
            [
             0.5555555555555556,
             "#d8576b"
            ],
            [
             0.6666666666666666,
             "#ed7953"
            ],
            [
             0.7777777777777778,
             "#fb9f3a"
            ],
            [
             0.8888888888888888,
             "#fdca26"
            ],
            [
             1,
             "#f0f921"
            ]
           ],
           "sequentialminus": [
            [
             0,
             "#0d0887"
            ],
            [
             0.1111111111111111,
             "#46039f"
            ],
            [
             0.2222222222222222,
             "#7201a8"
            ],
            [
             0.3333333333333333,
             "#9c179e"
            ],
            [
             0.4444444444444444,
             "#bd3786"
            ],
            [
             0.5555555555555556,
             "#d8576b"
            ],
            [
             0.6666666666666666,
             "#ed7953"
            ],
            [
             0.7777777777777778,
             "#fb9f3a"
            ],
            [
             0.8888888888888888,
             "#fdca26"
            ],
            [
             1,
             "#f0f921"
            ]
           ]
          },
          "colorway": [
           "#636efa",
           "#EF553B",
           "#00cc96",
           "#ab63fa",
           "#FFA15A",
           "#19d3f3",
           "#FF6692",
           "#B6E880",
           "#FF97FF",
           "#FECB52"
          ],
          "font": {
           "color": "#2a3f5f"
          },
          "geo": {
           "bgcolor": "white",
           "lakecolor": "white",
           "landcolor": "#E5ECF6",
           "showlakes": true,
           "showland": true,
           "subunitcolor": "white"
          },
          "hoverlabel": {
           "align": "left"
          },
          "hovermode": "closest",
          "mapbox": {
           "style": "light"
          },
          "paper_bgcolor": "white",
          "plot_bgcolor": "#E5ECF6",
          "polar": {
           "angularaxis": {
            "gridcolor": "white",
            "linecolor": "white",
            "ticks": ""
           },
           "bgcolor": "#E5ECF6",
           "radialaxis": {
            "gridcolor": "white",
            "linecolor": "white",
            "ticks": ""
           }
          },
          "scene": {
           "xaxis": {
            "backgroundcolor": "#E5ECF6",
            "gridcolor": "white",
            "gridwidth": 2,
            "linecolor": "white",
            "showbackground": true,
            "ticks": "",
            "zerolinecolor": "white"
           },
           "yaxis": {
            "backgroundcolor": "#E5ECF6",
            "gridcolor": "white",
            "gridwidth": 2,
            "linecolor": "white",
            "showbackground": true,
            "ticks": "",
            "zerolinecolor": "white"
           },
           "zaxis": {
            "backgroundcolor": "#E5ECF6",
            "gridcolor": "white",
            "gridwidth": 2,
            "linecolor": "white",
            "showbackground": true,
            "ticks": "",
            "zerolinecolor": "white"
           }
          },
          "shapedefaults": {
           "line": {
            "color": "#2a3f5f"
           }
          },
          "ternary": {
           "aaxis": {
            "gridcolor": "white",
            "linecolor": "white",
            "ticks": ""
           },
           "baxis": {
            "gridcolor": "white",
            "linecolor": "white",
            "ticks": ""
           },
           "bgcolor": "#E5ECF6",
           "caxis": {
            "gridcolor": "white",
            "linecolor": "white",
            "ticks": ""
           }
          },
          "title": {
           "x": 0.05
          },
          "xaxis": {
           "automargin": true,
           "gridcolor": "white",
           "linecolor": "white",
           "ticks": "",
           "title": {
            "standoff": 15
           },
           "zerolinecolor": "white",
           "zerolinewidth": 2
          },
          "yaxis": {
           "automargin": true,
           "gridcolor": "white",
           "linecolor": "white",
           "ticks": "",
           "title": {
            "standoff": 15
           },
           "zerolinecolor": "white",
           "zerolinewidth": 2
          }
         }
        },
        "width": 1000,
        "xaxis": {
         "title": {
          "text": "Latency (s)"
         }
        },
        "yaxis": {
         "autorange": "reversed",
         "title": {
          "text": "Time (s)"
         }
        }
       }
      },
      "text/html": [
       "<div>\n",
       "        \n",
       "        \n",
       "            <div id=\"cff03603-0f35-4a27-ae90-902b5f0723d9\" class=\"plotly-graph-div\" style=\"height:600px; width:1000px;\"></div>\n",
       "            <script type=\"text/javascript\">\n",
       "                require([\"plotly\"], function(Plotly) {\n",
       "                    window.PLOTLYENV=window.PLOTLYENV || {};\n",
       "                    \n",
       "                if (document.getElementById(\"cff03603-0f35-4a27-ae90-902b5f0723d9\")) {\n",
       "                    Plotly.newPlot(\n",
       "                        'cff03603-0f35-4a27-ae90-902b5f0723d9',\n",
       "                        [{\"hovertemplate\": \"%{text}\", \"marker\": {\"color\": \"Black\", \"symbol\": \"star\"}, \"mode\": \"markers\", \"name\": \"Electrical Stimuli\", \"text\": [\"time = 9.5961s<br>Index = 0\", \"time = 13.5964s<br>Index = 1\", \"time = 17.5966s<br>Index = 2\", \"time = 21.5968s<br>Index = 3\", \"time = 25.5971s<br>Index = 4\", \"time = 29.5973s<br>Index = 5\", \"time = 33.5977s<br>Index = 6\", \"time = 37.5980s<br>Index = 7\", \"time = 41.5983s<br>Index = 8\", \"time = 45.5985s<br>Index = 9\", \"time = 49.5987s<br>Index = 10\", \"time = 53.5990s<br>Index = 11\", \"time = 57.5992s<br>Index = 12\", \"time = 61.5994s<br>Index = 13\", \"time = 65.5999s<br>Index = 14\", \"time = 69.6001s<br>Index = 15\", \"time = 73.6004s<br>Index = 16\", \"time = 77.6006s<br>Index = 17\", \"time = 81.6008s<br>Index = 18\", \"time = 85.6011s<br>Index = 19\", \"time = 89.6013s<br>Index = 20\", \"time = 93.6016s<br>Index = 21\", \"time = 97.6020s<br>Index = 22\", \"time = 101.6022s<br>Index = 23\", \"time = 105.6025s<br>Index = 24\", \"time = 109.6027s<br>Index = 25\", \"time = 113.6029s<br>Index = 26\", \"time = 117.6031s<br>Index = 27\", \"time = 121.6034s<br>Index = 28\", \"time = 125.6037s<br>Index = 29\", \"time = 129.6041s<br>Index = 30\", \"time = 133.6043s<br>Index = 31\", \"time = 137.6045s<br>Index = 32\", \"time = 141.6048s<br>Index = 33\", \"time = 145.6050s<br>Index = 34\", \"time = 149.6053s<br>Index = 35\", \"time = 153.6055s<br>Index = 36\", \"time = 157.6058s<br>Index = 37\", \"time = 161.6061s<br>Index = 38\", \"time = 165.6063s<br>Index = 39\", \"time = 169.6066s<br>Index = 40\", \"time = 173.6068s<br>Index = 41\", \"time = 177.6070s<br>Index = 42\", \"time = 181.6073s<br>Index = 43\", \"time = 185.6076s<br>Index = 44\", \"time = 189.6078s<br>Index = 45\", \"time = 193.6081s<br>Index = 46\", \"time = 197.6084s<br>Index = 47\", \"time = 201.6086s<br>Index = 48\", \"time = 205.6088s<br>Index = 49\", \"time = 209.6091s<br>Index = 50\", \"time = 213.6094s<br>Index = 51\", \"time = 217.6096s<br>Index = 52\", \"time = 221.6098s<br>Index = 53\", \"time = 225.6104s<br>Index = 54\", \"time = 229.6106s<br>Index = 55\", \"time = 233.6108s<br>Index = 56\", \"time = 237.6111s<br>Index = 57\", \"time = 241.6113s<br>Index = 58\", \"time = 245.6115s<br>Index = 59\", \"time = 249.6118s<br>Index = 60\", \"time = 253.6121s<br>Index = 61\", \"time = 257.6126s<br>Index = 62\", \"time = 261.6128s<br>Index = 63\", \"time = 265.6130s<br>Index = 64\", \"time = 269.6133s<br>Index = 65\", \"time = 273.6135s<br>Index = 66\", \"time = 277.6138s<br>Index = 67\", \"time = 281.6140s<br>Index = 68\", \"time = 285.6143s<br>Index = 69\", \"time = 289.6148s<br>Index = 70\", \"time = 293.6150s<br>Index = 71\", \"time = 297.6153s<br>Index = 72\", \"time = 301.6155s<br>Index = 73\", \"time = 305.6157s<br>Index = 74\", \"time = 309.6160s<br>Index = 75\", \"time = 313.6162s<br>Index = 76\", \"time = 317.6165s<br>Index = 77\", \"time = 321.6170s<br>Index = 78\", \"time = 325.6173s<br>Index = 79\", \"time = 329.6175s<br>Index = 80\", \"time = 333.6178s<br>Index = 81\", \"time = 337.6180s<br>Index = 82\", \"time = 341.6182s<br>Index = 83\", \"time = 345.6184s<br>Index = 84\", \"time = 349.6187s<br>Index = 85\", \"time = 353.6193s<br>Index = 86\", \"time = 357.6195s<br>Index = 87\", \"time = 361.6197s<br>Index = 88\", \"time = 365.6200s<br>Index = 89\", \"time = 369.6202s<br>Index = 90\", \"time = 373.6205s<br>Index = 91\", \"time = 377.6207s<br>Index = 92\", \"time = 381.6209s<br>Index = 93\", \"time = 385.6214s<br>Index = 94\", \"time = 389.6217s<br>Index = 95\", \"time = 393.6220s<br>Index = 96\", \"time = 397.6222s<br>Index = 97\", \"time = 401.6224s<br>Index = 98\", \"time = 405.6227s<br>Index = 99\", \"time = 409.6229s<br>Index = 100\", \"time = 413.6232s<br>Index = 101\", \"time = 417.6237s<br>Index = 102\", \"time = 421.6239s<br>Index = 103\", \"time = 425.6241s<br>Index = 104\", \"time = 429.6244s<br>Index = 105\", \"time = 433.6246s<br>Index = 106\", \"time = 437.6249s<br>Index = 107\"], \"type\": \"scatter\", \"x\": [0, 0, 0, 0, 0, 0, 0, 0, 0, 0, 0, 0, 0, 0, 0, 0, 0, 0, 0, 0, 0, 0, 0, 0, 0, 0, 0, 0, 0, 0, 0, 0, 0, 0, 0, 0, 0, 0, 0, 0, 0, 0, 0, 0, 0, 0, 0, 0, 0, 0, 0, 0, 0, 0, 0, 0, 0, 0, 0, 0, 0, 0, 0, 0, 0, 0, 0, 0, 0, 0, 0, 0, 0, 0, 0, 0, 0, 0, 0, 0, 0, 0, 0, 0, 0, 0, 0, 0, 0, 0, 0, 0, 0, 0, 0, 0, 0, 0, 0, 0, 0, 0, 0, 0, 0, 0, 0, 0], \"y\": [9.59615, 13.5964, 17.5966, 21.59685, 25.5971, 29.59735, 33.59775, 37.598, 41.59825, 45.5985, 49.5987, 53.59895, 57.5992, 61.59945, 65.59985, 69.6001, 73.60035, 77.6006, 81.6008, 85.60105, 89.6013, 93.60155, 97.60195, 101.6022, 105.60245, 109.6027, 113.6029, 117.60315, 121.6034, 125.60365, 129.60405, 133.6043, 137.60455, 141.6048, 145.605, 149.60525, 153.6055, 157.60575, 161.6061, 165.60635, 169.6066, 173.6068, 177.60705, 181.6073, 185.60755, 189.6078, 193.60815, 197.6084, 201.6086, 205.60885, 209.6091, 213.60935, 217.6096, 221.6098, 225.61035, 229.6106, 233.61085, 237.6111, 241.6113, 245.61155, 249.6118, 253.61205, 257.6126, 261.6128, 265.61305, 269.6133, 273.61355, 277.6138, 281.614, 285.61425, 289.6148, 293.61505, 297.6153, 301.6155, 305.61575, 309.616, 313.61625, 317.6165, 321.617, 325.61725, 329.6175, 333.61775, 337.618, 341.6182, 345.61845, 349.6187, 353.61925, 357.6195, 361.6197, 365.61995, 369.6202, 373.62045, 377.6207, 381.6209, 385.62145, 389.6217, 393.62195, 397.6222, 401.6224, 405.62265, 409.6229, 413.62315, 417.6237, 421.6239, 425.62415, 429.6244, 433.62465, 437.6249]}, {\"hovertemplate\": \"%{text}\", \"marker\": {\"color\": \"black\", \"size\": 7, \"symbol\": [\"triangle-nw\", \"triangle-ne\"]}, \"mode\": \"markers\", \"showlegend\": false, \"text\": [\"Latency: 0.0553s<br>Fibre Index: None\", \"Offset: 0.0579s\"], \"type\": \"scatter\", \"x\": [0.05525000000000091, 0.05785000000000018], \"y\": [9.59615, 9.59615]}, {\"hovertemplate\": \"%{text}\", \"marker\": {\"color\": \"black\", \"size\": 7, \"symbol\": [\"triangle-nw\", \"triangle-ne\"]}, \"mode\": \"markers\", \"showlegend\": false, \"text\": [\"Latency: 0.0554s<br>Fibre Index: None\", \"Offset: 0.0580s\"], \"type\": \"scatter\", \"x\": [0.05540000000000056, 0.058000000000001606], \"y\": [13.5964, 13.5964]}, {\"hovertemplate\": \"%{text}\", \"marker\": {\"color\": \"black\", \"size\": 7, \"symbol\": [\"triangle-nw\", \"triangle-ne\"]}, \"mode\": \"markers\", \"showlegend\": false, \"text\": [\"Latency: 0.0555s<br>Fibre Index: None\", \"Offset: 0.0581s\"], \"type\": \"scatter\", \"x\": [0.0555000000000021, 0.058099999999999596], \"y\": [17.5966, 17.5966]}, {\"hovertemplate\": \"%{text}\", \"marker\": {\"color\": \"black\", \"size\": 7, \"symbol\": [\"triangle-nw\", \"triangle-ne\"]}, \"mode\": \"markers\", \"showlegend\": false, \"text\": [\"Latency: 0.0557s<br>Fibre Index: None\", \"Offset: 0.0583s\"], \"type\": \"scatter\", \"x\": [0.05570000000000164, 0.05829999999999913], \"y\": [21.59685, 21.59685]}, {\"hovertemplate\": \"%{text}\", \"marker\": {\"color\": \"black\", \"size\": 7, \"symbol\": [\"triangle-nw\", \"triangle-ne\"]}, \"mode\": \"markers\", \"showlegend\": false, \"text\": [\"Latency: 0.0898s<br>Fibre Index: None\", \"Offset: 0.0924s\"], \"type\": \"scatter\", \"x\": [0.08980000000000032, 0.09240000000000137], \"y\": [21.59685, 21.59685]}, {\"hovertemplate\": \"%{text}\", \"marker\": {\"color\": \"black\", \"size\": 7, \"symbol\": [\"triangle-nw\", \"triangle-ne\"]}, \"mode\": \"markers\", \"showlegend\": false, \"text\": [\"Latency: 0.0560s<br>Fibre Index: None\", \"Offset: 0.0586s\"], \"type\": \"scatter\", \"x\": [0.055999999999997385, 0.05859999999999843], \"y\": [25.5971, 25.5971]}, {\"hovertemplate\": \"%{text}\", \"marker\": {\"color\": \"black\", \"size\": 7, \"symbol\": [\"triangle-nw\", \"triangle-ne\"]}, \"mode\": \"markers\", \"showlegend\": false, \"text\": [\"Latency: 0.0875s<br>Fibre Index: None\", \"Offset: 0.0901s\"], \"type\": \"scatter\", \"x\": [0.08749999999999858, 0.09009999999999962], \"y\": [25.5971, 25.5971]}, {\"hovertemplate\": \"%{text}\", \"marker\": {\"color\": \"black\", \"size\": 7, \"symbol\": [\"triangle-nw\", \"triangle-ne\"]}, \"mode\": \"markers\", \"showlegend\": false, \"text\": [\"Latency: 0.0564s<br>Fibre Index: None\", \"Offset: 0.0590s\"], \"type\": \"scatter\", \"x\": [0.0563500000000019, 0.058950000000002944], \"y\": [29.59735, 29.59735]}, {\"hovertemplate\": \"%{text}\", \"marker\": {\"color\": \"black\", \"size\": 7, \"symbol\": [\"triangle-nw\", \"triangle-ne\"]}, \"mode\": \"markers\", \"showlegend\": false, \"text\": [\"Latency: 0.0614s<br>Fibre Index: None\", \"Offset: 0.0640s\"], \"type\": \"scatter\", \"x\": [0.061350000000004457, 0.0639500000000055], \"y\": [33.59775, 33.59775]}, {\"hovertemplate\": \"%{text}\", \"marker\": {\"color\": \"black\", \"size\": 7, \"symbol\": [\"triangle-nw\", \"triangle-ne\"]}, \"mode\": \"markers\", \"showlegend\": false, \"text\": [\"Latency: 0.0724s<br>Fibre Index: None\", \"Offset: 0.0750s\"], \"type\": \"scatter\", \"x\": [0.07235000000000014, 0.07495000000000118], \"y\": [33.59775, 33.59775]}, {\"hovertemplate\": \"%{text}\", \"marker\": {\"color\": \"black\", \"size\": 7, \"symbol\": [\"triangle-nw\", \"triangle-ne\"]}, \"mode\": \"markers\", \"showlegend\": false, \"text\": [\"Latency: 0.0599s<br>Fibre Index: None\", \"Offset: 0.0625s\"], \"type\": \"scatter\", \"x\": [0.059899999999998954, 0.0625], \"y\": [37.598, 37.598]}, {\"hovertemplate\": \"%{text}\", \"marker\": {\"color\": \"black\", \"size\": 7, \"symbol\": [\"triangle-nw\", \"triangle-ne\"]}, \"mode\": \"markers\", \"showlegend\": false, \"text\": [\"Latency: 0.0946s<br>Fibre Index: None\", \"Offset: 0.0972s\"], \"type\": \"scatter\", \"x\": [0.0945999999999998, 0.09720000000000084], \"y\": [37.598, 37.598]}, {\"hovertemplate\": \"%{text}\", \"marker\": {\"color\": \"black\", \"size\": 7, \"symbol\": [\"triangle-nw\", \"triangle-ne\"]}, \"mode\": \"markers\", \"showlegend\": false, \"text\": [\"Latency: 0.0592s<br>Fibre Index: None\", \"Offset: 0.0617s\"], \"type\": \"scatter\", \"x\": [0.05915000000000248, 0.06174999999999642], \"y\": [41.59825, 41.59825]}, {\"hovertemplate\": \"%{text}\", \"marker\": {\"color\": \"black\", \"size\": 7, \"symbol\": [\"triangle-nw\", \"triangle-ne\"]}, \"mode\": \"markers\", \"showlegend\": false, \"text\": [\"Latency: 0.0583s<br>Fibre Index: None\", \"Offset: 0.0609s\"], \"type\": \"scatter\", \"x\": [0.05834999999999724, 0.06094999999999828], \"y\": [45.5985, 45.5985]}, {\"hovertemplate\": \"%{text}\", \"marker\": {\"color\": \"black\", \"size\": 7, \"symbol\": [\"triangle-nw\", \"triangle-ne\"]}, \"mode\": \"markers\", \"showlegend\": false, \"text\": [\"Latency: 0.0898s<br>Fibre Index: None\", \"Offset: 0.0924s\"], \"type\": \"scatter\", \"x\": [0.08984999999999843, 0.09244999999999948], \"y\": [45.5985, 45.5985]}, {\"hovertemplate\": \"%{text}\", \"marker\": {\"color\": \"black\", \"size\": 7, \"symbol\": [\"triangle-nw\", \"triangle-ne\"]}, \"mode\": \"markers\", \"showlegend\": false, \"text\": [\"Latency: 0.0585s<br>Fibre Index: None\", \"Offset: 0.0611s\"], \"type\": \"scatter\", \"x\": [0.05850000000000222, 0.06109999999999616], \"y\": [49.5987, 49.5987]}, {\"hovertemplate\": \"%{text}\", \"marker\": {\"color\": \"black\", \"size\": 7, \"symbol\": [\"triangle-nw\", \"triangle-ne\"]}, \"mode\": \"markers\", \"showlegend\": false, \"text\": [\"Latency: 0.0945s<br>Fibre Index: None\", \"Offset: 0.0971s\"], \"type\": \"scatter\", \"x\": [0.09449999999999648, 0.09709999999999752], \"y\": [49.5987, 49.5987]}, {\"hovertemplate\": \"%{text}\", \"marker\": {\"color\": \"black\", \"size\": 7, \"symbol\": [\"triangle-nw\", \"triangle-ne\"]}, \"mode\": \"markers\", \"showlegend\": false, \"text\": [\"Latency: 0.0586s<br>Fibre Index: None\", \"Offset: 0.0612s\"], \"type\": \"scatter\", \"x\": [0.05859999999999843, 0.06119999999999948], \"y\": [53.59895, 53.59895]}, {\"hovertemplate\": \"%{text}\", \"marker\": {\"color\": \"black\", \"size\": 7, \"symbol\": [\"triangle-nw\", \"triangle-ne\"]}, \"mode\": \"markers\", \"showlegend\": false, \"text\": [\"Latency: 0.0592s<br>Fibre Index: None\", \"Offset: 0.0618s\"], \"type\": \"scatter\", \"x\": [0.05924999999999869, 0.06184999999999974], \"y\": [57.5992, 57.5992]}, {\"hovertemplate\": \"%{text}\", \"marker\": {\"color\": \"black\", \"size\": 7, \"symbol\": [\"triangle-nw\", \"triangle-ne\"]}, \"mode\": \"markers\", \"showlegend\": false, \"text\": [\"Latency: 0.0588s<br>Fibre Index: None\", \"Offset: 0.0614s\"], \"type\": \"scatter\", \"x\": [0.05875000000000341, 0.061350000000004457], \"y\": [61.59945, 61.59945]}, {\"hovertemplate\": \"%{text}\", \"marker\": {\"color\": \"black\", \"size\": 7, \"symbol\": [\"triangle-nw\", \"triangle-ne\"]}, \"mode\": \"markers\", \"showlegend\": false, \"text\": [\"Latency: 0.0636s<br>Fibre Index: None\", \"Offset: 0.0662s\"], \"type\": \"scatter\", \"x\": [0.06364999999999554, 0.06624999999999659], \"y\": [65.59985, 65.59985]}, {\"hovertemplate\": \"%{text}\", \"marker\": {\"color\": \"black\", \"size\": 7, \"symbol\": [\"triangle-nw\", \"triangle-ne\"]}, \"mode\": \"markers\", \"showlegend\": false, \"text\": [\"Latency: 0.0622s<br>Fibre Index: None\", \"Offset: 0.0648s\"], \"type\": \"scatter\", \"x\": [0.06215000000000259, 0.06475000000000364], \"y\": [69.6001, 69.6001]}, {\"hovertemplate\": \"%{text}\", \"marker\": {\"color\": \"black\", \"size\": 7, \"symbol\": [\"triangle-nw\", \"triangle-ne\"]}, \"mode\": \"markers\", \"showlegend\": false, \"text\": [\"Latency: 0.0611s<br>Fibre Index: None\", \"Offset: 0.0637s\"], \"type\": \"scatter\", \"x\": [0.06114999999999782, 0.06374999999999886], \"y\": [73.60035, 73.60035]}, {\"hovertemplate\": \"%{text}\", \"marker\": {\"color\": \"black\", \"size\": 7, \"symbol\": [\"triangle-nw\", \"triangle-ne\"]}, \"mode\": \"markers\", \"showlegend\": false, \"text\": [\"Latency: 0.0603s<br>Fibre Index: None\", \"Offset: 0.0629s\"], \"type\": \"scatter\", \"x\": [0.06029999999999802, 0.06289999999999907], \"y\": [77.6006, 77.6006]}, {\"hovertemplate\": \"%{text}\", \"marker\": {\"color\": \"black\", \"size\": 7, \"symbol\": [\"triangle-nw\", \"triangle-ne\"]}, \"mode\": \"markers\", \"showlegend\": false, \"text\": [\"Latency: 0.0594s<br>Fibre Index: None\", \"Offset: 0.0620s\"], \"type\": \"scatter\", \"x\": [0.059449999999998226, 0.06204999999999927], \"y\": [81.6008, 81.6008]}, {\"hovertemplate\": \"%{text}\", \"marker\": {\"color\": \"black\", \"size\": 7, \"symbol\": [\"triangle-nw\", \"triangle-ne\"]}, \"mode\": \"markers\", \"showlegend\": false, \"text\": [\"Latency: 0.0590s<br>Fibre Index: None\", \"Offset: 0.0617s\"], \"type\": \"scatter\", \"x\": [0.05904999999999916, 0.061650000000000205], \"y\": [85.60105, 85.60105]}, {\"hovertemplate\": \"%{text}\", \"marker\": {\"color\": \"black\", \"size\": 7, \"symbol\": [\"triangle-nw\", \"triangle-ne\"]}, \"mode\": \"markers\", \"showlegend\": false, \"text\": [\"Latency: 0.0590s<br>Fibre Index: None\", \"Offset: 0.0616s\"], \"type\": \"scatter\", \"x\": [0.05900000000001171, 0.061599999999998545], \"y\": [89.6013, 89.6013]}, {\"hovertemplate\": \"%{text}\", \"marker\": {\"color\": \"black\", \"size\": 7, \"symbol\": [\"triangle-nw\", \"triangle-ne\"]}, \"mode\": \"markers\", \"showlegend\": false, \"text\": [\"Latency: 0.0649s<br>Fibre Index: None\", \"Offset: 0.0675s\"], \"type\": \"scatter\", \"x\": [0.0648999999999944, 0.06749999999999545], \"y\": [97.60195, 97.60195]}, {\"hovertemplate\": \"%{text}\", \"marker\": {\"color\": \"black\", \"size\": 7, \"symbol\": [\"triangle-nw\", \"triangle-ne\"]}, \"mode\": \"markers\", \"showlegend\": false, \"text\": [\"Latency: 0.0628s<br>Fibre Index: None\", \"Offset: 0.0654s\"], \"type\": \"scatter\", \"x\": [0.06284999999999741, 0.06544999999999845], \"y\": [101.6022, 101.6022]}, {\"hovertemplate\": \"%{text}\", \"marker\": {\"color\": \"black\", \"size\": 7, \"symbol\": [\"triangle-nw\", \"triangle-ne\"]}, \"mode\": \"markers\", \"showlegend\": false, \"text\": [\"Latency: 0.0622s<br>Fibre Index: None\", \"Offset: 0.0648s\"], \"type\": \"scatter\", \"x\": [0.06219999999999004, 0.06479999999999109], \"y\": [105.60245, 105.60245]}, {\"hovertemplate\": \"%{text}\", \"marker\": {\"color\": \"black\", \"size\": 7, \"symbol\": [\"triangle-nw\", \"triangle-ne\"]}, \"mode\": \"markers\", \"showlegend\": false, \"text\": [\"Latency: 0.0619s<br>Fibre Index: None\", \"Offset: 0.0645s\"], \"type\": \"scatter\", \"x\": [0.06189999999999429, 0.06449999999999534], \"y\": [109.6027, 109.6027]}, {\"hovertemplate\": \"%{text}\", \"marker\": {\"color\": \"black\", \"size\": 7, \"symbol\": [\"triangle-nw\", \"triangle-ne\"]}, \"mode\": \"markers\", \"showlegend\": false, \"text\": [\"Latency: 0.0609s<br>Fibre Index: None\", \"Offset: 0.0635s\"], \"type\": \"scatter\", \"x\": [0.06094999999999118, 0.06354999999999222], \"y\": [113.6029, 113.6029]}, {\"hovertemplate\": \"%{text}\", \"marker\": {\"color\": \"black\", \"size\": 7, \"symbol\": [\"triangle-nw\", \"triangle-ne\"]}, \"mode\": \"markers\", \"showlegend\": false, \"text\": [\"Latency: 0.0610s<br>Fibre Index: None\", \"Offset: 0.0636s\"], \"type\": \"scatter\", \"x\": [0.06100000000000705, 0.06359999999999388], \"y\": [117.60315, 117.60315]}, {\"hovertemplate\": \"%{text}\", \"marker\": {\"color\": \"black\", \"size\": 7, \"symbol\": [\"triangle-nw\", \"triangle-ne\"]}, \"mode\": \"markers\", \"showlegend\": false, \"text\": [\"Latency: 0.0604s<br>Fibre Index: None\", \"Offset: 0.0630s\"], \"type\": \"scatter\", \"x\": [0.06040000000000134, 0.06300000000000239], \"y\": [121.6034, 121.6034]}, {\"hovertemplate\": \"%{text}\", \"marker\": {\"color\": \"black\", \"size\": 7, \"symbol\": [\"triangle-nw\", \"triangle-ne\"]}, \"mode\": \"markers\", \"showlegend\": false, \"text\": [\"Latency: 0.0602s<br>Fibre Index: None\", \"Offset: 0.0628s\"], \"type\": \"scatter\", \"x\": [0.0601999999999947, 0.06279999999999575], \"y\": [125.60365, 125.60365]}, {\"hovertemplate\": \"%{text}\", \"marker\": {\"color\": \"black\", \"size\": 7, \"symbol\": [\"triangle-nw\", \"triangle-ne\"]}, \"mode\": \"markers\", \"showlegend\": false, \"text\": [\"Latency: 0.0635s<br>Fibre Index: None\", \"Offset: 0.0661s\"], \"type\": \"scatter\", \"x\": [0.06345000000001733, 0.06605000000001837], \"y\": [133.6043, 133.6043]}, {\"hovertemplate\": \"%{text}\", \"marker\": {\"color\": \"black\", \"size\": 7, \"symbol\": [\"triangle-nw\", \"triangle-ne\"]}, \"mode\": \"markers\", \"showlegend\": false, \"text\": [\"Latency: 0.0620s<br>Fibre Index: None\", \"Offset: 0.0645s\"], \"type\": \"scatter\", \"x\": [0.061950000000024374, 0.064549999999997], \"y\": [137.60455, 137.60455]}, {\"hovertemplate\": \"%{text}\", \"marker\": {\"color\": \"black\", \"size\": 7, \"symbol\": [\"triangle-nw\", \"triangle-ne\"]}, \"mode\": \"markers\", \"showlegend\": false, \"text\": [\"Latency: 0.0614s<br>Fibre Index: None\", \"Offset: 0.0640s\"], \"type\": \"scatter\", \"x\": [0.061399999999991905, 0.06399999999999295], \"y\": [141.6048, 141.6048]}, {\"hovertemplate\": \"%{text}\", \"marker\": {\"color\": \"black\", \"size\": 7, \"symbol\": [\"triangle-nw\", \"triangle-ne\"]}, \"mode\": \"markers\", \"showlegend\": false, \"text\": [\"Latency: 0.0611s<br>Fibre Index: None\", \"Offset: 0.0637s\"], \"type\": \"scatter\", \"x\": [0.06110000000001037, 0.06370000000001141], \"y\": [145.605, 145.605]}, {\"hovertemplate\": \"%{text}\", \"marker\": {\"color\": \"black\", \"size\": 7, \"symbol\": [\"triangle-nw\", \"triangle-ne\"]}, \"mode\": \"markers\", \"showlegend\": false, \"text\": [\"Latency: 0.0609s<br>Fibre Index: None\", \"Offset: 0.0635s\"], \"type\": \"scatter\", \"x\": [0.06094999999999118, 0.06354999999999222], \"y\": [149.60525, 149.60525]}, {\"hovertemplate\": \"%{text}\", \"marker\": {\"color\": \"black\", \"size\": 7, \"symbol\": [\"triangle-nw\", \"triangle-ne\"]}, \"mode\": \"markers\", \"showlegend\": false, \"text\": [\"Latency: 0.0609s<br>Fibre Index: None\", \"Offset: 0.0635s\"], \"type\": \"scatter\", \"x\": [0.06094999999999118, 0.06354999999999222], \"y\": [153.6055, 153.6055]}, {\"hovertemplate\": \"%{text}\", \"marker\": {\"color\": \"black\", \"size\": 7, \"symbol\": [\"triangle-nw\", \"triangle-ne\"]}, \"mode\": \"markers\", \"showlegend\": false, \"text\": [\"Latency: 0.0609s<br>Fibre Index: None\", \"Offset: 0.0635s\"], \"type\": \"scatter\", \"x\": [0.06090000000000373, 0.06350000000000477], \"y\": [157.60575, 157.60575]}, {\"hovertemplate\": \"%{text}\", \"marker\": {\"color\": \"black\", \"size\": 7, \"symbol\": [\"triangle-nw\", \"triangle-ne\"]}, \"mode\": \"markers\", \"showlegend\": false, \"text\": [\"Latency: 0.0630s<br>Fibre Index: None\", \"Offset: 0.0656s\"], \"type\": \"scatter\", \"x\": [0.06299999999998818, 0.06559999999998922], \"y\": [161.6061, 161.6061]}, {\"hovertemplate\": \"%{text}\", \"marker\": {\"color\": \"black\", \"size\": 7, \"symbol\": [\"triangle-nw\", \"triangle-ne\"]}, \"mode\": \"markers\", \"showlegend\": false, \"text\": [\"Latency: 0.0622s<br>Fibre Index: None\", \"Offset: 0.0648s\"], \"type\": \"scatter\", \"x\": [0.06215000000000259, 0.06475000000000364], \"y\": [165.60635, 165.60635]}, {\"hovertemplate\": \"%{text}\", \"marker\": {\"color\": \"black\", \"size\": 7, \"symbol\": [\"triangle-nw\", \"triangle-ne\"]}, \"mode\": \"markers\", \"showlegend\": false, \"text\": [\"Latency: 0.0617s<br>Fibre Index: None\", \"Offset: 0.0643s\"], \"type\": \"scatter\", \"x\": [0.061650000000014415, 0.06425000000001546], \"y\": [169.6066, 169.6066]}, {\"hovertemplate\": \"%{text}\", \"marker\": {\"color\": \"black\", \"size\": 7, \"symbol\": [\"triangle-nw\", \"triangle-ne\"]}, \"mode\": \"markers\", \"showlegend\": false, \"text\": [\"Latency: 0.0616s<br>Fibre Index: None\", \"Offset: 0.0642s\"], \"type\": \"scatter\", \"x\": [0.061599999999998545, 0.06419999999999959], \"y\": [173.6068, 173.6068]}, {\"hovertemplate\": \"%{text}\", \"marker\": {\"color\": \"black\", \"size\": 7, \"symbol\": [\"triangle-nw\", \"triangle-ne\"]}, \"mode\": \"markers\", \"showlegend\": false, \"text\": [\"Latency: 0.0614s<br>Fibre Index: None\", \"Offset: 0.0640s\"], \"type\": \"scatter\", \"x\": [0.06140000000002033, 0.06400000000002137], \"y\": [177.60705, 177.60705]}, {\"hovertemplate\": \"%{text}\", \"marker\": {\"color\": \"black\", \"size\": 7, \"symbol\": [\"triangle-nw\", \"triangle-ne\"]}, \"mode\": \"markers\", \"showlegend\": false, \"text\": [\"Latency: 0.0611s<br>Fibre Index: None\", \"Offset: 0.0637s\"], \"type\": \"scatter\", \"x\": [0.06114999999999782, 0.06374999999999886], \"y\": [181.6073, 181.6073]}, {\"hovertemplate\": \"%{text}\", \"marker\": {\"color\": \"black\", \"size\": 7, \"symbol\": [\"triangle-nw\", \"triangle-ne\"]}, \"mode\": \"markers\", \"showlegend\": false, \"text\": [\"Latency: 0.0612s<br>Fibre Index: None\", \"Offset: 0.0638s\"], \"type\": \"scatter\", \"x\": [0.061199999999985266, 0.06379999999998631], \"y\": [185.60755, 185.60755]}, {\"hovertemplate\": \"%{text}\", \"marker\": {\"color\": \"black\", \"size\": 7, \"symbol\": [\"triangle-nw\", \"triangle-ne\"]}, \"mode\": \"markers\", \"showlegend\": false, \"text\": [\"Latency: 0.0611s<br>Fibre Index: None\", \"Offset: 0.0637s\"], \"type\": \"scatter\", \"x\": [0.06110000000001037, 0.06370000000001141], \"y\": [189.6078, 189.6078]}, {\"hovertemplate\": \"%{text}\", \"marker\": {\"color\": \"black\", \"size\": 7, \"symbol\": [\"triangle-nw\", \"triangle-ne\"]}, \"mode\": \"markers\", \"showlegend\": false, \"text\": [\"Latency: 0.0644s<br>Fibre Index: None\", \"Offset: 0.0670s\"], \"type\": \"scatter\", \"x\": [0.06444999999999368, 0.06704999999999472], \"y\": [193.60815, 193.60815]}, {\"hovertemplate\": \"%{text}\", \"marker\": {\"color\": \"black\", \"size\": 7, \"symbol\": [\"triangle-nw\", \"triangle-ne\"]}, \"mode\": \"markers\", \"showlegend\": false, \"text\": [\"Latency: 0.0625s<br>Fibre Index: None\", \"Offset: 0.0651s\"], \"type\": \"scatter\", \"x\": [0.0625, 0.06510000000000105], \"y\": [197.6084, 197.6084]}, {\"hovertemplate\": \"%{text}\", \"marker\": {\"color\": \"black\", \"size\": 7, \"symbol\": [\"triangle-nw\", \"triangle-ne\"]}, \"mode\": \"markers\", \"showlegend\": false, \"text\": [\"Latency: 0.0624s<br>Fibre Index: None\", \"Offset: 0.0650s\"], \"type\": \"scatter\", \"x\": [0.06239999999999668, 0.06499999999999773], \"y\": [201.6086, 201.6086]}, {\"hovertemplate\": \"%{text}\", \"marker\": {\"color\": \"black\", \"size\": 7, \"symbol\": [\"triangle-nw\", \"triangle-ne\"]}, \"mode\": \"markers\", \"showlegend\": false, \"text\": [\"Latency: 0.0624s<br>Fibre Index: None\", \"Offset: 0.0650s\"], \"type\": \"scatter\", \"x\": [0.06239999999999668, 0.06499999999999773], \"y\": [205.60885, 205.60885]}, {\"hovertemplate\": \"%{text}\", \"marker\": {\"color\": \"black\", \"size\": 7, \"symbol\": [\"triangle-nw\", \"triangle-ne\"]}, \"mode\": \"markers\", \"showlegend\": false, \"text\": [\"Latency: 0.0620s<br>Fibre Index: None\", \"Offset: 0.0646s\"], \"type\": \"scatter\", \"x\": [0.0619999999999834, 0.06459999999998445], \"y\": [209.6091, 209.6091]}, {\"hovertemplate\": \"%{text}\", \"marker\": {\"color\": \"black\", \"size\": 7, \"symbol\": [\"triangle-nw\", \"triangle-ne\"]}, \"mode\": \"markers\", \"showlegend\": false, \"text\": [\"Latency: 0.0618s<br>Fibre Index: None\", \"Offset: 0.0644s\"], \"type\": \"scatter\", \"x\": [0.06184999999999263, 0.06444999999999368], \"y\": [213.60935, 213.60935]}, {\"hovertemplate\": \"%{text}\", \"marker\": {\"color\": \"black\", \"size\": 7, \"symbol\": [\"triangle-nw\", \"triangle-ne\"]}, \"mode\": \"markers\", \"showlegend\": false, \"text\": [\"Latency: 0.0618s<br>Fibre Index: None\", \"Offset: 0.0644s\"], \"type\": \"scatter\", \"x\": [0.061800000000005184, 0.06440000000000623], \"y\": [217.6096, 217.6096]}, {\"hovertemplate\": \"%{text}\", \"marker\": {\"color\": \"black\", \"size\": 7, \"symbol\": [\"triangle-nw\", \"triangle-ne\"]}, \"mode\": \"markers\", \"showlegend\": false, \"text\": [\"Latency: 0.0619s<br>Fibre Index: None\", \"Offset: 0.0645s\"], \"type\": \"scatter\", \"x\": [0.06189999999998008, 0.06449999999998113], \"y\": [221.6098, 221.6098]}, {\"hovertemplate\": \"%{text}\", \"marker\": {\"color\": \"black\", \"size\": 7, \"symbol\": [\"triangle-nw\", \"triangle-ne\"]}, \"mode\": \"markers\", \"showlegend\": false, \"text\": [\"Latency: 0.0691s<br>Fibre Index: None\", \"Offset: 0.0717s\"], \"type\": \"scatter\", \"x\": [0.06909999999999172, 0.07169999999999277], \"y\": [225.61035, 225.61035]}, {\"hovertemplate\": \"%{text}\", \"marker\": {\"color\": \"black\", \"size\": 7, \"symbol\": [\"triangle-nw\", \"triangle-ne\"]}, \"mode\": \"markers\", \"showlegend\": false, \"text\": [\"Latency: 0.0670s<br>Fibre Index: None\", \"Offset: 0.0696s\"], \"type\": \"scatter\", \"x\": [0.06704999999999472, 0.06964999999999577], \"y\": [229.6106, 229.6106]}, {\"hovertemplate\": \"%{text}\", \"marker\": {\"color\": \"black\", \"size\": 7, \"symbol\": [\"triangle-nw\", \"triangle-ne\"]}, \"mode\": \"markers\", \"showlegend\": false, \"text\": [\"Latency: 0.0653s<br>Fibre Index: None\", \"Offset: 0.0679s\"], \"type\": \"scatter\", \"x\": [0.06534999999999513, 0.06794999999999618], \"y\": [233.61085, 233.61085]}, {\"hovertemplate\": \"%{text}\", \"marker\": {\"color\": \"black\", \"size\": 7, \"symbol\": [\"triangle-nw\", \"triangle-ne\"]}, \"mode\": \"markers\", \"showlegend\": false, \"text\": [\"Latency: 0.0643s<br>Fibre Index: None\", \"Offset: 0.0669s\"], \"type\": \"scatter\", \"x\": [0.06430000000000291, 0.06690000000000396], \"y\": [237.6111, 237.6111]}, {\"hovertemplate\": \"%{text}\", \"marker\": {\"color\": \"black\", \"size\": 7, \"symbol\": [\"triangle-nw\", \"triangle-ne\"]}, \"mode\": \"markers\", \"showlegend\": false, \"text\": [\"Latency: 0.0639s<br>Fibre Index: None\", \"Offset: 0.0665s\"], \"type\": \"scatter\", \"x\": [0.06385000000000218, 0.06645000000000323], \"y\": [241.6113, 241.6113]}, {\"hovertemplate\": \"%{text}\", \"marker\": {\"color\": \"black\", \"size\": 7, \"symbol\": [\"triangle-nw\", \"triangle-ne\"]}, \"mode\": \"markers\", \"showlegend\": false, \"text\": [\"Latency: 0.0636s<br>Fibre Index: None\", \"Offset: 0.0662s\"], \"type\": \"scatter\", \"x\": [0.0636000000000081, 0.06620000000000914], \"y\": [245.61155, 245.61155]}, {\"hovertemplate\": \"%{text}\", \"marker\": {\"color\": \"black\", \"size\": 7, \"symbol\": [\"triangle-nw\", \"triangle-ne\"]}, \"mode\": \"markers\", \"showlegend\": false, \"text\": [\"Latency: 0.0639s<br>Fibre Index: None\", \"Offset: 0.0665s\"], \"type\": \"scatter\", \"x\": [0.06385000000000218, 0.06645000000000323], \"y\": [249.6118, 249.6118]}, {\"hovertemplate\": \"%{text}\", \"marker\": {\"color\": \"black\", \"size\": 7, \"symbol\": [\"triangle-nw\", \"triangle-ne\"]}, \"mode\": \"markers\", \"showlegend\": false, \"text\": [\"Latency: 0.0636s<br>Fibre Index: None\", \"Offset: 0.0662s\"], \"type\": \"scatter\", \"x\": [0.06364999999999554, 0.06624999999999659], \"y\": [253.61205, 253.61205]}, {\"hovertemplate\": \"%{text}\", \"marker\": {\"color\": \"black\", \"size\": 7, \"symbol\": [\"triangle-nw\", \"triangle-ne\"]}, \"mode\": \"markers\", \"showlegend\": false, \"text\": [\"Latency: 0.0724s<br>Fibre Index: None\", \"Offset: 0.0750s\"], \"type\": \"scatter\", \"x\": [0.07240000000001601, 0.07499999999998863], \"y\": [257.6126, 257.6126]}, {\"hovertemplate\": \"%{text}\", \"marker\": {\"color\": \"black\", \"size\": 7, \"symbol\": [\"triangle-nw\", \"triangle-ne\"]}, \"mode\": \"markers\", \"showlegend\": false, \"text\": [\"Latency: 0.0697s<br>Fibre Index: None\", \"Offset: 0.0723s\"], \"type\": \"scatter\", \"x\": [0.06970000000001164, 0.07229999999998427], \"y\": [261.6128, 261.6128]}, {\"hovertemplate\": \"%{text}\", \"marker\": {\"color\": \"black\", \"size\": 7, \"symbol\": [\"triangle-nw\", \"triangle-ne\"]}, \"mode\": \"markers\", \"showlegend\": false, \"text\": [\"Latency: 0.0679s<br>Fibre Index: None\", \"Offset: 0.0706s\"], \"type\": \"scatter\", \"x\": [0.06794999999999618, 0.07055000000002565], \"y\": [265.61305, 265.61305]}, {\"hovertemplate\": \"%{text}\", \"marker\": {\"color\": \"black\", \"size\": 7, \"symbol\": [\"triangle-nw\", \"triangle-ne\"]}, \"mode\": \"markers\", \"showlegend\": false, \"text\": [\"Latency: 0.0668s<br>Fibre Index: None\", \"Offset: 0.0694s\"], \"type\": \"scatter\", \"x\": [0.06680000000000064, 0.0694000000000301], \"y\": [269.6133, 269.6133]}, {\"hovertemplate\": \"%{text}\", \"marker\": {\"color\": \"black\", \"size\": 7, \"symbol\": [\"triangle-nw\", \"triangle-ne\"]}, \"mode\": \"markers\", \"showlegend\": false, \"text\": [\"Latency: 0.0658s<br>Fibre Index: None\", \"Offset: 0.0684s\"], \"type\": \"scatter\", \"x\": [0.06575000000003683, 0.06835000000000946], \"y\": [273.61355, 273.61355]}, {\"hovertemplate\": \"%{text}\", \"marker\": {\"color\": \"black\", \"size\": 7, \"symbol\": [\"triangle-nw\", \"triangle-ne\"]}, \"mode\": \"markers\", \"showlegend\": false, \"text\": [\"Latency: 0.0652s<br>Fibre Index: None\", \"Offset: 0.0678s\"], \"type\": \"scatter\", \"x\": [0.06519999999994752, 0.06779999999997699], \"y\": [277.6138, 277.6138]}, {\"hovertemplate\": \"%{text}\", \"marker\": {\"color\": \"black\", \"size\": 7, \"symbol\": [\"triangle-nw\", \"triangle-ne\"]}, \"mode\": \"markers\", \"showlegend\": false, \"text\": [\"Latency: 0.0648s<br>Fibre Index: None\", \"Offset: 0.0674s\"], \"type\": \"scatter\", \"x\": [0.06480000000004793, 0.06740000000002055], \"y\": [281.614, 281.614]}, {\"hovertemplate\": \"%{text}\", \"marker\": {\"color\": \"black\", \"size\": 7, \"symbol\": [\"triangle-nw\", \"triangle-ne\"]}, \"mode\": \"markers\", \"showlegend\": false, \"text\": [\"Latency: 0.0645s<br>Fibre Index: None\", \"Offset: 0.0671s\"], \"type\": \"scatter\", \"x\": [0.064549999999997, 0.06714999999996962], \"y\": [285.61425, 285.61425]}, {\"hovertemplate\": \"%{text}\", \"marker\": {\"color\": \"black\", \"size\": 7, \"symbol\": [\"triangle-nw\", \"triangle-ne\"]}, \"mode\": \"markers\", \"showlegend\": false, \"text\": [\"Latency: 0.0722s<br>Fibre Index: None\", \"Offset: 0.0747s\"], \"type\": \"scatter\", \"x\": [0.07215000000002192, 0.07474999999999454], \"y\": [289.6148, 289.6148]}, {\"hovertemplate\": \"%{text}\", \"marker\": {\"color\": \"black\", \"size\": 7, \"symbol\": [\"triangle-nw\", \"triangle-ne\"]}, \"mode\": \"markers\", \"showlegend\": false, \"text\": [\"Latency: 0.0677s<br>Fibre Index: None\", \"Offset: 0.0704s\"], \"type\": \"scatter\", \"x\": [0.06774999999998954, 0.07035000000001901], \"y\": [297.6153, 297.6153]}, {\"hovertemplate\": \"%{text}\", \"marker\": {\"color\": \"black\", \"size\": 7, \"symbol\": [\"triangle-nw\", \"triangle-ne\"]}, \"mode\": \"markers\", \"showlegend\": false, \"text\": [\"Latency: 0.0667s<br>Fibre Index: None\", \"Offset: 0.0693s\"], \"type\": \"scatter\", \"x\": [0.06670000000002574, 0.06929999999999836], \"y\": [305.61575, 305.61575]}, {\"hovertemplate\": \"%{text}\", \"marker\": {\"color\": \"black\", \"size\": 7, \"symbol\": [\"triangle-nw\", \"triangle-ne\"]}, \"mode\": \"markers\", \"showlegend\": false, \"text\": [\"Latency: 0.0661s<br>Fibre Index: None\", \"Offset: 0.0687s\"], \"type\": \"scatter\", \"x\": [0.06610000000000582, 0.06870000000003529], \"y\": [309.616, 309.616]}, {\"hovertemplate\": \"%{text}\", \"marker\": {\"color\": \"black\", \"size\": 7, \"symbol\": [\"triangle-nw\", \"triangle-ne\"]}, \"mode\": \"markers\", \"showlegend\": false, \"text\": [\"Latency: 0.0658s<br>Fibre Index: None\", \"Offset: 0.0684s\"], \"type\": \"scatter\", \"x\": [0.06575000000003683, 0.06835000000000946], \"y\": [313.61625, 313.61625]}, {\"hovertemplate\": \"%{text}\", \"marker\": {\"color\": \"black\", \"size\": 7, \"symbol\": [\"triangle-nw\", \"triangle-ne\"]}, \"mode\": \"markers\", \"showlegend\": false, \"text\": [\"Latency: 0.0655s<br>Fibre Index: None\", \"Offset: 0.0681s\"], \"type\": \"scatter\", \"x\": [0.06550000000004275, 0.06810000000001537], \"y\": [317.6165, 317.6165]}, {\"hovertemplate\": \"%{text}\", \"marker\": {\"color\": \"black\", \"size\": 7, \"symbol\": [\"triangle-nw\", \"triangle-ne\"]}, \"mode\": \"markers\", \"showlegend\": false, \"text\": [\"Latency: 0.0741s<br>Fibre Index: None\", \"Offset: 0.0767s\"], \"type\": \"scatter\", \"x\": [0.07409999999998718, 0.0766999999999598], \"y\": [321.617, 321.617]}, {\"hovertemplate\": \"%{text}\", \"marker\": {\"color\": \"black\", \"size\": 7, \"symbol\": [\"triangle-nw\", \"triangle-ne\"]}, \"mode\": \"markers\", \"showlegend\": false, \"text\": [\"Latency: 0.0711s<br>Fibre Index: None\", \"Offset: 0.0737s\"], \"type\": \"scatter\", \"x\": [0.07110000000000127, 0.0736999999999739], \"y\": [325.61725, 325.61725]}, {\"hovertemplate\": \"%{text}\", \"marker\": {\"color\": \"black\", \"size\": 7, \"symbol\": [\"triangle-nw\", \"triangle-ne\"]}, \"mode\": \"markers\", \"showlegend\": false, \"text\": [\"Latency: 0.0691s<br>Fibre Index: None\", \"Offset: 0.0716s\"], \"type\": \"scatter\", \"x\": [0.06905000000000427, 0.0716499999999769], \"y\": [329.6175, 329.6175]}, {\"hovertemplate\": \"%{text}\", \"marker\": {\"color\": \"black\", \"size\": 7, \"symbol\": [\"triangle-nw\", \"triangle-ne\"]}, \"mode\": \"markers\", \"showlegend\": false, \"text\": [\"Latency: 0.0681s<br>Fibre Index: None\", \"Offset: 0.0707s\"], \"type\": \"scatter\", \"x\": [0.06810000000001537, 0.070699999999988], \"y\": [333.61775, 333.61775]}, {\"hovertemplate\": \"%{text}\", \"marker\": {\"color\": \"black\", \"size\": 7, \"symbol\": [\"triangle-nw\", \"triangle-ne\"]}, \"mode\": \"markers\", \"showlegend\": false, \"text\": [\"Latency: 0.0679s<br>Fibre Index: None\", \"Offset: 0.0705s\"], \"type\": \"scatter\", \"x\": [0.06790000000000873, 0.07049999999998136], \"y\": [337.618, 337.618]}, {\"hovertemplate\": \"%{text}\", \"marker\": {\"color\": \"black\", \"size\": 7, \"symbol\": [\"triangle-nw\", \"triangle-ne\"]}, \"mode\": \"markers\", \"showlegend\": false, \"text\": [\"Latency: 0.0674s<br>Fibre Index: None\", \"Offset: 0.0700s\"], \"type\": \"scatter\", \"x\": [0.06740000000002055, 0.06999999999999318], \"y\": [341.6182, 341.6182]}, {\"hovertemplate\": \"%{text}\", \"marker\": {\"color\": \"black\", \"size\": 7, \"symbol\": [\"triangle-nw\", \"triangle-ne\"]}, \"mode\": \"markers\", \"showlegend\": false, \"text\": [\"Latency: 0.0671s<br>Fibre Index: None\", \"Offset: 0.0697s\"], \"type\": \"scatter\", \"x\": [0.06709999999998217, 0.06970000000001164], \"y\": [345.61845, 345.61845]}, {\"hovertemplate\": \"%{text}\", \"marker\": {\"color\": \"black\", \"size\": 7, \"symbol\": [\"triangle-nw\", \"triangle-ne\"]}, \"mode\": \"markers\", \"showlegend\": false, \"text\": [\"Latency: 0.0667s<br>Fibre Index: None\", \"Offset: 0.0693s\"], \"type\": \"scatter\", \"x\": [0.06670000000002574, 0.06929999999999836], \"y\": [349.6187, 349.6187]}, {\"hovertemplate\": \"%{text}\", \"marker\": {\"color\": \"black\", \"size\": 7, \"symbol\": [\"triangle-nw\", \"triangle-ne\"]}, \"mode\": \"markers\", \"showlegend\": false, \"text\": [\"Latency: 0.0745s<br>Fibre Index: None\", \"Offset: 0.0771s\"], \"type\": \"scatter\", \"x\": [0.0745499999999879, 0.07714999999996053], \"y\": [353.61925, 353.61925]}, {\"hovertemplate\": \"%{text}\", \"marker\": {\"color\": \"black\", \"size\": 7, \"symbol\": [\"triangle-nw\", \"triangle-ne\"]}, \"mode\": \"markers\", \"showlegend\": false, \"text\": [\"Latency: 0.0725s<br>Fibre Index: None\", \"Offset: 0.0750s\"], \"type\": \"scatter\", \"x\": [0.07245000000000346, 0.07504999999997608], \"y\": [357.6195, 357.6195]}, {\"hovertemplate\": \"%{text}\", \"marker\": {\"color\": \"black\", \"size\": 7, \"symbol\": [\"triangle-nw\", \"triangle-ne\"]}, \"mode\": \"markers\", \"showlegend\": false, \"text\": [\"Latency: 0.0708s<br>Fibre Index: None\", \"Offset: 0.0734s\"], \"type\": \"scatter\", \"x\": [0.07079999999996289, 0.07339999999999236], \"y\": [361.6197, 361.6197]}, {\"hovertemplate\": \"%{text}\", \"marker\": {\"color\": \"black\", \"size\": 7, \"symbol\": [\"triangle-nw\", \"triangle-ne\"]}, \"mode\": \"markers\", \"showlegend\": false, \"text\": [\"Latency: 0.0694s<br>Fibre Index: None\", \"Offset: 0.0720s\"], \"type\": \"scatter\", \"x\": [0.06944999999996071, 0.07204999999999018], \"y\": [365.61995, 365.61995]}, {\"hovertemplate\": \"%{text}\", \"marker\": {\"color\": \"black\", \"size\": 7, \"symbol\": [\"triangle-nw\", \"triangle-ne\"]}, \"mode\": \"markers\", \"showlegend\": false, \"text\": [\"Latency: 0.0686s<br>Fibre Index: None\", \"Offset: 0.0711s\"], \"type\": \"scatter\", \"x\": [0.0685500000000161, 0.07114999999998872], \"y\": [369.6202, 369.6202]}, {\"hovertemplate\": \"%{text}\", \"marker\": {\"color\": \"black\", \"size\": 7, \"symbol\": [\"triangle-nw\", \"triangle-ne\"]}, \"mode\": \"markers\", \"showlegend\": false, \"text\": [\"Latency: 0.0688s<br>Fibre Index: None\", \"Offset: 0.0714s\"], \"type\": \"scatter\", \"x\": [0.06880000000001019, 0.07139999999998281], \"y\": [373.62045, 373.62045]}, {\"hovertemplate\": \"%{text}\", \"marker\": {\"color\": \"black\", \"size\": 7, \"symbol\": [\"triangle-nw\", \"triangle-ne\"]}, \"mode\": \"markers\", \"showlegend\": false, \"text\": [\"Latency: 0.0684s<br>Fibre Index: None\", \"Offset: 0.0709s\"], \"type\": \"scatter\", \"x\": [0.06835000000000946, 0.07094999999998208], \"y\": [377.6207, 377.6207]}, {\"hovertemplate\": \"%{text}\", \"marker\": {\"color\": \"black\", \"size\": 7, \"symbol\": [\"triangle-nw\", \"triangle-ne\"]}, \"mode\": \"markers\", \"showlegend\": false, \"text\": [\"Latency: 0.0752s<br>Fibre Index: None\", \"Offset: 0.0778s\"], \"type\": \"scatter\", \"x\": [0.07515000000000782, 0.07775000000003729], \"y\": [385.62145, 385.62145]}, {\"hovertemplate\": \"%{text}\", \"marker\": {\"color\": \"black\", \"size\": 7, \"symbol\": [\"triangle-nw\", \"triangle-ne\"]}, \"mode\": \"markers\", \"showlegend\": false, \"text\": [\"Latency: 0.0724s<br>Fibre Index: None\", \"Offset: 0.0750s\"], \"type\": \"scatter\", \"x\": [0.07240000000001601, 0.07500000000004547], \"y\": [389.6217, 389.6217]}, {\"hovertemplate\": \"%{text}\", \"marker\": {\"color\": \"black\", \"size\": 7, \"symbol\": [\"triangle-nw\", \"triangle-ne\"]}, \"mode\": \"markers\", \"showlegend\": false, \"text\": [\"Latency: 0.0707s<br>Fibre Index: None\", \"Offset: 0.0733s\"], \"type\": \"scatter\", \"x\": [0.07074999999997544, 0.07334999999994807], \"y\": [393.62195, 393.62195]}, {\"hovertemplate\": \"%{text}\", \"marker\": {\"color\": \"black\", \"size\": 7, \"symbol\": [\"triangle-nw\", \"triangle-ne\"]}, \"mode\": \"markers\", \"showlegend\": false, \"text\": [\"Latency: 0.0700s<br>Fibre Index: None\", \"Offset: 0.0725s\"], \"type\": \"scatter\", \"x\": [0.06995000000000573, 0.07254999999997835], \"y\": [397.6222, 397.6222]}, {\"hovertemplate\": \"%{text}\", \"marker\": {\"color\": \"black\", \"size\": 7, \"symbol\": [\"triangle-nw\", \"triangle-ne\"]}, \"mode\": \"markers\", \"showlegend\": false, \"text\": [\"Latency: 0.0694s<br>Fibre Index: None\", \"Offset: 0.0720s\"], \"type\": \"scatter\", \"x\": [0.06939999999997326, 0.07199999999994589], \"y\": [401.6224, 401.6224]}, {\"hovertemplate\": \"%{text}\", \"marker\": {\"color\": \"black\", \"size\": 7, \"symbol\": [\"triangle-nw\", \"triangle-ne\"]}, \"mode\": \"markers\", \"showlegend\": false, \"text\": [\"Latency: 0.0697s<br>Fibre Index: None\", \"Offset: 0.0723s\"], \"type\": \"scatter\", \"x\": [0.06974999999999909, 0.07234999999997171], \"y\": [405.62265, 405.62265]}, {\"hovertemplate\": \"%{text}\", \"marker\": {\"color\": \"black\", \"size\": 7, \"symbol\": [\"triangle-nw\", \"triangle-ne\"]}, \"mode\": \"markers\", \"showlegend\": false, \"text\": [\"Latency: 0.0697s<br>Fibre Index: None\", \"Offset: 0.0723s\"], \"type\": \"scatter\", \"x\": [0.06974999999999909, 0.07234999999997171], \"y\": [409.6229, 409.6229]}, {\"hovertemplate\": \"%{text}\", \"marker\": {\"color\": \"black\", \"size\": 7, \"symbol\": [\"triangle-nw\", \"triangle-ne\"]}, \"mode\": \"markers\", \"showlegend\": false, \"text\": [\"Latency: 0.0777s<br>Fibre Index: None\", \"Offset: 0.0803s\"], \"type\": \"scatter\", \"x\": [0.077699999999993, 0.08030000000002246], \"y\": [417.6237, 417.6237]}, {\"hovertemplate\": \"%{text}\", \"marker\": {\"color\": \"black\", \"size\": 7, \"symbol\": [\"triangle-nw\", \"triangle-ne\"]}, \"mode\": \"markers\", \"showlegend\": false, \"text\": [\"Latency: 0.0752s<br>Fibre Index: None\", \"Offset: 0.0778s\"], \"type\": \"scatter\", \"x\": [0.07519999999999527, 0.07780000000002474], \"y\": [421.6239, 421.6239]}, {\"hovertemplate\": \"%{text}\", \"marker\": {\"color\": \"black\", \"size\": 7, \"symbol\": [\"triangle-nw\", \"triangle-ne\"]}, \"mode\": \"markers\", \"showlegend\": false, \"text\": [\"Latency: 0.0731s<br>Fibre Index: None\", \"Offset: 0.0757s\"], \"type\": \"scatter\", \"x\": [0.07310000000001082, 0.07570000000004029], \"y\": [425.62415, 425.62415]}, {\"hovertemplate\": \"%{text}\", \"marker\": {\"color\": \"black\", \"size\": 7, \"symbol\": [\"triangle-nw\", \"triangle-ne\"]}, \"mode\": \"markers\", \"showlegend\": false, \"text\": [\"Latency: 0.0721s<br>Fibre Index: None\", \"Offset: 0.0747s\"], \"type\": \"scatter\", \"x\": [0.07210000000003447, 0.0747000000000071], \"y\": [429.6244, 429.6244]}, {\"hovertemplate\": \"%{text}\", \"marker\": {\"color\": \"black\", \"size\": 7, \"symbol\": [\"triangle-nw\", \"triangle-ne\"]}, \"mode\": \"markers\", \"showlegend\": false, \"text\": [\"Latency: 0.0718s<br>Fibre Index: None\", \"Offset: 0.0744s\"], \"type\": \"scatter\", \"x\": [0.07175000000000864, 0.07435000000003811], \"y\": [433.62465, 433.62465]}, {\"line\": {\"color\": \"red\", \"width\": 0.75}, \"mode\": \"lines\", \"name\": \"AP Track\", \"type\": \"scatter\", \"x\": [0.05664999999999987, 0.056550000000000544, 0.05670000000000108, 0.05680000000000085, 0.057000000000000384, 0.05729999999999791, 0.05765000000000242, 0.06265000000000498, 0.06119999999999948, 0.06044999999999945, 0.05964999999999776, 0.05979999999999919, 0.059899999999998954, 0.060549999999999216, 0.060050000000003934, 0.06494999999999607, 0.06345000000000312, 0.06244999999999834, 0.061599999999998545, 0.06074999999999875, 0.06034999999999968, 0.06030000000000513], \"y\": [5.5959, 9.59615, 13.5964, 17.5966, 21.59685, 25.5971, 29.59735, 33.59775, 37.598, 41.59825, 45.5985, 49.5987, 53.59895, 57.5992, 61.59945, 65.59985, 69.6001, 73.60035, 77.6006, 81.6008, 85.60105, 89.6013]}],\n",
       "                        {\"height\": 600, \"template\": {\"data\": {\"bar\": [{\"error_x\": {\"color\": \"#2a3f5f\"}, \"error_y\": {\"color\": \"#2a3f5f\"}, \"marker\": {\"line\": {\"color\": \"#E5ECF6\", \"width\": 0.5}}, \"type\": \"bar\"}], \"barpolar\": [{\"marker\": {\"line\": {\"color\": \"#E5ECF6\", \"width\": 0.5}}, \"type\": \"barpolar\"}], \"carpet\": [{\"aaxis\": {\"endlinecolor\": \"#2a3f5f\", \"gridcolor\": \"white\", \"linecolor\": \"white\", \"minorgridcolor\": \"white\", \"startlinecolor\": \"#2a3f5f\"}, \"baxis\": {\"endlinecolor\": \"#2a3f5f\", \"gridcolor\": \"white\", \"linecolor\": \"white\", \"minorgridcolor\": \"white\", \"startlinecolor\": \"#2a3f5f\"}, \"type\": \"carpet\"}], \"choropleth\": [{\"colorbar\": {\"outlinewidth\": 0, \"ticks\": \"\"}, \"type\": \"choropleth\"}], \"contour\": [{\"colorbar\": {\"outlinewidth\": 0, \"ticks\": \"\"}, \"colorscale\": [[0.0, \"#0d0887\"], [0.1111111111111111, \"#46039f\"], [0.2222222222222222, \"#7201a8\"], [0.3333333333333333, \"#9c179e\"], [0.4444444444444444, \"#bd3786\"], [0.5555555555555556, \"#d8576b\"], [0.6666666666666666, \"#ed7953\"], [0.7777777777777778, \"#fb9f3a\"], [0.8888888888888888, \"#fdca26\"], [1.0, \"#f0f921\"]], \"type\": \"contour\"}], \"contourcarpet\": [{\"colorbar\": {\"outlinewidth\": 0, \"ticks\": \"\"}, \"type\": \"contourcarpet\"}], \"heatmap\": [{\"colorbar\": {\"outlinewidth\": 0, \"ticks\": \"\"}, \"colorscale\": [[0.0, \"#0d0887\"], [0.1111111111111111, \"#46039f\"], [0.2222222222222222, \"#7201a8\"], [0.3333333333333333, \"#9c179e\"], [0.4444444444444444, \"#bd3786\"], [0.5555555555555556, \"#d8576b\"], [0.6666666666666666, \"#ed7953\"], [0.7777777777777778, \"#fb9f3a\"], [0.8888888888888888, \"#fdca26\"], [1.0, \"#f0f921\"]], \"type\": \"heatmap\"}], \"heatmapgl\": [{\"colorbar\": {\"outlinewidth\": 0, \"ticks\": \"\"}, \"colorscale\": [[0.0, \"#0d0887\"], [0.1111111111111111, \"#46039f\"], [0.2222222222222222, \"#7201a8\"], [0.3333333333333333, \"#9c179e\"], [0.4444444444444444, \"#bd3786\"], [0.5555555555555556, \"#d8576b\"], [0.6666666666666666, \"#ed7953\"], [0.7777777777777778, \"#fb9f3a\"], [0.8888888888888888, \"#fdca26\"], [1.0, \"#f0f921\"]], \"type\": \"heatmapgl\"}], \"histogram\": [{\"marker\": {\"colorbar\": {\"outlinewidth\": 0, \"ticks\": \"\"}}, \"type\": \"histogram\"}], \"histogram2d\": [{\"colorbar\": {\"outlinewidth\": 0, \"ticks\": \"\"}, \"colorscale\": [[0.0, \"#0d0887\"], [0.1111111111111111, \"#46039f\"], [0.2222222222222222, \"#7201a8\"], [0.3333333333333333, \"#9c179e\"], [0.4444444444444444, \"#bd3786\"], [0.5555555555555556, \"#d8576b\"], [0.6666666666666666, \"#ed7953\"], [0.7777777777777778, \"#fb9f3a\"], [0.8888888888888888, \"#fdca26\"], [1.0, \"#f0f921\"]], \"type\": \"histogram2d\"}], \"histogram2dcontour\": [{\"colorbar\": {\"outlinewidth\": 0, \"ticks\": \"\"}, \"colorscale\": [[0.0, \"#0d0887\"], [0.1111111111111111, \"#46039f\"], [0.2222222222222222, \"#7201a8\"], [0.3333333333333333, \"#9c179e\"], [0.4444444444444444, \"#bd3786\"], [0.5555555555555556, \"#d8576b\"], [0.6666666666666666, \"#ed7953\"], [0.7777777777777778, \"#fb9f3a\"], [0.8888888888888888, \"#fdca26\"], [1.0, \"#f0f921\"]], \"type\": \"histogram2dcontour\"}], \"mesh3d\": [{\"colorbar\": {\"outlinewidth\": 0, \"ticks\": \"\"}, \"type\": \"mesh3d\"}], \"parcoords\": [{\"line\": {\"colorbar\": {\"outlinewidth\": 0, \"ticks\": \"\"}}, \"type\": \"parcoords\"}], \"pie\": [{\"automargin\": true, \"type\": \"pie\"}], \"scatter\": [{\"marker\": {\"colorbar\": {\"outlinewidth\": 0, \"ticks\": \"\"}}, \"type\": \"scatter\"}], \"scatter3d\": [{\"line\": {\"colorbar\": {\"outlinewidth\": 0, \"ticks\": \"\"}}, \"marker\": {\"colorbar\": {\"outlinewidth\": 0, \"ticks\": \"\"}}, \"type\": \"scatter3d\"}], \"scattercarpet\": [{\"marker\": {\"colorbar\": {\"outlinewidth\": 0, \"ticks\": \"\"}}, \"type\": \"scattercarpet\"}], \"scattergeo\": [{\"marker\": {\"colorbar\": {\"outlinewidth\": 0, \"ticks\": \"\"}}, \"type\": \"scattergeo\"}], \"scattergl\": [{\"marker\": {\"colorbar\": {\"outlinewidth\": 0, \"ticks\": \"\"}}, \"type\": \"scattergl\"}], \"scattermapbox\": [{\"marker\": {\"colorbar\": {\"outlinewidth\": 0, \"ticks\": \"\"}}, \"type\": \"scattermapbox\"}], \"scatterpolar\": [{\"marker\": {\"colorbar\": {\"outlinewidth\": 0, \"ticks\": \"\"}}, \"type\": \"scatterpolar\"}], \"scatterpolargl\": [{\"marker\": {\"colorbar\": {\"outlinewidth\": 0, \"ticks\": \"\"}}, \"type\": \"scatterpolargl\"}], \"scatterternary\": [{\"marker\": {\"colorbar\": {\"outlinewidth\": 0, \"ticks\": \"\"}}, \"type\": \"scatterternary\"}], \"surface\": [{\"colorbar\": {\"outlinewidth\": 0, \"ticks\": \"\"}, \"colorscale\": [[0.0, \"#0d0887\"], [0.1111111111111111, \"#46039f\"], [0.2222222222222222, \"#7201a8\"], [0.3333333333333333, \"#9c179e\"], [0.4444444444444444, \"#bd3786\"], [0.5555555555555556, \"#d8576b\"], [0.6666666666666666, \"#ed7953\"], [0.7777777777777778, \"#fb9f3a\"], [0.8888888888888888, \"#fdca26\"], [1.0, \"#f0f921\"]], \"type\": \"surface\"}], \"table\": [{\"cells\": {\"fill\": {\"color\": \"#EBF0F8\"}, \"line\": {\"color\": \"white\"}}, \"header\": {\"fill\": {\"color\": \"#C8D4E3\"}, \"line\": {\"color\": \"white\"}}, \"type\": \"table\"}]}, \"layout\": {\"annotationdefaults\": {\"arrowcolor\": \"#2a3f5f\", \"arrowhead\": 0, \"arrowwidth\": 1}, \"coloraxis\": {\"colorbar\": {\"outlinewidth\": 0, \"ticks\": \"\"}}, \"colorscale\": {\"diverging\": [[0, \"#8e0152\"], [0.1, \"#c51b7d\"], [0.2, \"#de77ae\"], [0.3, \"#f1b6da\"], [0.4, \"#fde0ef\"], [0.5, \"#f7f7f7\"], [0.6, \"#e6f5d0\"], [0.7, \"#b8e186\"], [0.8, \"#7fbc41\"], [0.9, \"#4d9221\"], [1, \"#276419\"]], \"sequential\": [[0.0, \"#0d0887\"], [0.1111111111111111, \"#46039f\"], [0.2222222222222222, \"#7201a8\"], [0.3333333333333333, \"#9c179e\"], [0.4444444444444444, \"#bd3786\"], [0.5555555555555556, \"#d8576b\"], [0.6666666666666666, \"#ed7953\"], [0.7777777777777778, \"#fb9f3a\"], [0.8888888888888888, \"#fdca26\"], [1.0, \"#f0f921\"]], \"sequentialminus\": [[0.0, \"#0d0887\"], [0.1111111111111111, \"#46039f\"], [0.2222222222222222, \"#7201a8\"], [0.3333333333333333, \"#9c179e\"], [0.4444444444444444, \"#bd3786\"], [0.5555555555555556, \"#d8576b\"], [0.6666666666666666, \"#ed7953\"], [0.7777777777777778, \"#fb9f3a\"], [0.8888888888888888, \"#fdca26\"], [1.0, \"#f0f921\"]]}, \"colorway\": [\"#636efa\", \"#EF553B\", \"#00cc96\", \"#ab63fa\", \"#FFA15A\", \"#19d3f3\", \"#FF6692\", \"#B6E880\", \"#FF97FF\", \"#FECB52\"], \"font\": {\"color\": \"#2a3f5f\"}, \"geo\": {\"bgcolor\": \"white\", \"lakecolor\": \"white\", \"landcolor\": \"#E5ECF6\", \"showlakes\": true, \"showland\": true, \"subunitcolor\": \"white\"}, \"hoverlabel\": {\"align\": \"left\"}, \"hovermode\": \"closest\", \"mapbox\": {\"style\": \"light\"}, \"paper_bgcolor\": \"white\", \"plot_bgcolor\": \"#E5ECF6\", \"polar\": {\"angularaxis\": {\"gridcolor\": \"white\", \"linecolor\": \"white\", \"ticks\": \"\"}, \"bgcolor\": \"#E5ECF6\", \"radialaxis\": {\"gridcolor\": \"white\", \"linecolor\": \"white\", \"ticks\": \"\"}}, \"scene\": {\"xaxis\": {\"backgroundcolor\": \"#E5ECF6\", \"gridcolor\": \"white\", \"gridwidth\": 2, \"linecolor\": \"white\", \"showbackground\": true, \"ticks\": \"\", \"zerolinecolor\": \"white\"}, \"yaxis\": {\"backgroundcolor\": \"#E5ECF6\", \"gridcolor\": \"white\", \"gridwidth\": 2, \"linecolor\": \"white\", \"showbackground\": true, \"ticks\": \"\", \"zerolinecolor\": \"white\"}, \"zaxis\": {\"backgroundcolor\": \"#E5ECF6\", \"gridcolor\": \"white\", \"gridwidth\": 2, \"linecolor\": \"white\", \"showbackground\": true, \"ticks\": \"\", \"zerolinecolor\": \"white\"}}, \"shapedefaults\": {\"line\": {\"color\": \"#2a3f5f\"}}, \"ternary\": {\"aaxis\": {\"gridcolor\": \"white\", \"linecolor\": \"white\", \"ticks\": \"\"}, \"baxis\": {\"gridcolor\": \"white\", \"linecolor\": \"white\", \"ticks\": \"\"}, \"bgcolor\": \"#E5ECF6\", \"caxis\": {\"gridcolor\": \"white\", \"linecolor\": \"white\", \"ticks\": \"\"}}, \"title\": {\"x\": 0.05}, \"xaxis\": {\"automargin\": true, \"gridcolor\": \"white\", \"linecolor\": \"white\", \"ticks\": \"\", \"title\": {\"standoff\": 15}, \"zerolinecolor\": \"white\", \"zerolinewidth\": 2}, \"yaxis\": {\"automargin\": true, \"gridcolor\": \"white\", \"linecolor\": \"white\", \"ticks\": \"\", \"title\": {\"standoff\": 15}, \"zerolinecolor\": \"white\", \"zerolinewidth\": 2}}}, \"width\": 1000, \"xaxis\": {\"title\": {\"text\": \"Latency (s)\"}}, \"yaxis\": {\"autorange\": \"reversed\", \"title\": {\"text\": \"Time (s)\"}}},\n",
       "                        {\"responsive\": true}\n",
       "                    ).then(function(){\n",
       "                            \n",
       "var gd = document.getElementById('cff03603-0f35-4a27-ae90-902b5f0723d9');\n",
       "var x = new MutationObserver(function (mutations, observer) {{\n",
       "        var display = window.getComputedStyle(gd).display;\n",
       "        if (!display || display === 'none') {{\n",
       "            console.log([gd, 'removed!']);\n",
       "            Plotly.purge(gd);\n",
       "            observer.disconnect();\n",
       "        }}\n",
       "}});\n",
       "\n",
       "// Listen for the removal of the full notebook cells\n",
       "var notebookContainer = gd.closest('#notebook-container');\n",
       "if (notebookContainer) {{\n",
       "    x.observe(notebookContainer, {childList: true});\n",
       "}}\n",
       "\n",
       "// Listen for the clearing of the current output cell\n",
       "var outputEl = gd.closest('.output');\n",
       "if (outputEl) {{\n",
       "    x.observe(outputEl, {childList: true});\n",
       "}}\n",
       "\n",
       "                        })\n",
       "                };\n",
       "                });\n",
       "            </script>\n",
       "        </div>"
      ]
     },
     "metadata": {},
     "output_type": "display_data"
    }
   ],
   "source": [
    "%autoreload 2\n",
    "from fibre_tracking.ap_track import APTrack\n",
    "from plotting import FallingLeafPlot\n",
    "\n",
    "# now, we can try to construct tracks from this\n",
    "clean_track_aps = [ap for (ap, cls_idx) in zip(first_track_aps, initial_track_labels) if cls_idx == 0]\n",
    "ap_track = APTrack.from_aps(sweeps = recording.sweeps, aps = clean_track_aps)\n",
    "\n",
    "# Starting point for the falling leaf plot\n",
    "FLP_START_TIME = recording.sweeps[ap_track.sweep_idcs[0]].t_start\n",
    "FLP_POST_ST_TIMEFRAME = max(ap_track.latencies) * 1.5\n",
    "\n",
    "# plot this AP track for illustrative purposes\n",
    "flplot = FallingLeafPlot()\n",
    "flplot.plot(regular_stimuli = recording.el_stimuli, action_potentials = recording.actpots, t_start = FLP_START_TIME, \\\n",
    "            num_intervals = 500, ap_tracks = [ap_track], post_stimulus_timeframe = FLP_POST_ST_TIMEFRAME, plot_raw_signal= False)"
   ]
  },
  {
   "cell_type": "code",
   "execution_count": 20,
   "metadata": {},
   "outputs": [
    {
     "name": "stdout",
     "output_type": "stream",
     "text": [
      "The radius for median RMS calculation exceeds either the first or the last position in the sweep array. Reduce radius or increase the center sweep index to resolve this issue.\n"
     ]
    },
    {
     "data": {
      "application/vnd.plotly.v1+json": {
       "config": {
        "plotlyServerURL": "https://plot.ly"
       },
       "data": [
        {
         "hovertemplate": "%{text}",
         "marker": {
          "color": "Black",
          "symbol": "star"
         },
         "mode": "markers",
         "name": "Electrical Stimuli",
         "text": [
          "time = 9.5961s<br>Index = 0",
          "time = 13.5964s<br>Index = 1",
          "time = 17.5966s<br>Index = 2",
          "time = 21.5968s<br>Index = 3",
          "time = 25.5971s<br>Index = 4",
          "time = 29.5973s<br>Index = 5",
          "time = 33.5977s<br>Index = 6",
          "time = 37.5980s<br>Index = 7",
          "time = 41.5983s<br>Index = 8",
          "time = 45.5985s<br>Index = 9",
          "time = 49.5987s<br>Index = 10",
          "time = 53.5990s<br>Index = 11",
          "time = 57.5992s<br>Index = 12",
          "time = 61.5994s<br>Index = 13",
          "time = 65.5999s<br>Index = 14",
          "time = 69.6001s<br>Index = 15",
          "time = 73.6004s<br>Index = 16",
          "time = 77.6006s<br>Index = 17",
          "time = 81.6008s<br>Index = 18",
          "time = 85.6011s<br>Index = 19",
          "time = 89.6013s<br>Index = 20",
          "time = 93.6016s<br>Index = 21",
          "time = 97.6020s<br>Index = 22",
          "time = 101.6022s<br>Index = 23",
          "time = 105.6025s<br>Index = 24",
          "time = 109.6027s<br>Index = 25",
          "time = 113.6029s<br>Index = 26",
          "time = 117.6031s<br>Index = 27",
          "time = 121.6034s<br>Index = 28",
          "time = 125.6037s<br>Index = 29",
          "time = 129.6041s<br>Index = 30",
          "time = 133.6043s<br>Index = 31",
          "time = 137.6045s<br>Index = 32",
          "time = 141.6048s<br>Index = 33",
          "time = 145.6050s<br>Index = 34",
          "time = 149.6053s<br>Index = 35",
          "time = 153.6055s<br>Index = 36",
          "time = 157.6058s<br>Index = 37",
          "time = 161.6061s<br>Index = 38",
          "time = 165.6063s<br>Index = 39",
          "time = 169.6066s<br>Index = 40",
          "time = 173.6068s<br>Index = 41",
          "time = 177.6070s<br>Index = 42",
          "time = 181.6073s<br>Index = 43",
          "time = 185.6076s<br>Index = 44",
          "time = 189.6078s<br>Index = 45",
          "time = 193.6081s<br>Index = 46",
          "time = 197.6084s<br>Index = 47",
          "time = 201.6086s<br>Index = 48",
          "time = 205.6088s<br>Index = 49",
          "time = 209.6091s<br>Index = 50",
          "time = 213.6094s<br>Index = 51",
          "time = 217.6096s<br>Index = 52",
          "time = 221.6098s<br>Index = 53",
          "time = 225.6104s<br>Index = 54",
          "time = 229.6106s<br>Index = 55",
          "time = 233.6108s<br>Index = 56",
          "time = 237.6111s<br>Index = 57",
          "time = 241.6113s<br>Index = 58",
          "time = 245.6115s<br>Index = 59",
          "time = 249.6118s<br>Index = 60",
          "time = 253.6121s<br>Index = 61",
          "time = 257.6126s<br>Index = 62",
          "time = 261.6128s<br>Index = 63",
          "time = 265.6130s<br>Index = 64",
          "time = 269.6133s<br>Index = 65",
          "time = 273.6135s<br>Index = 66",
          "time = 277.6138s<br>Index = 67",
          "time = 281.6140s<br>Index = 68",
          "time = 285.6143s<br>Index = 69",
          "time = 289.6148s<br>Index = 70",
          "time = 293.6150s<br>Index = 71",
          "time = 297.6153s<br>Index = 72",
          "time = 301.6155s<br>Index = 73",
          "time = 305.6157s<br>Index = 74",
          "time = 309.6160s<br>Index = 75",
          "time = 313.6162s<br>Index = 76",
          "time = 317.6165s<br>Index = 77",
          "time = 321.6170s<br>Index = 78",
          "time = 325.6173s<br>Index = 79",
          "time = 329.6175s<br>Index = 80",
          "time = 333.6178s<br>Index = 81",
          "time = 337.6180s<br>Index = 82",
          "time = 341.6182s<br>Index = 83",
          "time = 345.6184s<br>Index = 84",
          "time = 349.6187s<br>Index = 85",
          "time = 353.6193s<br>Index = 86",
          "time = 357.6195s<br>Index = 87",
          "time = 361.6197s<br>Index = 88",
          "time = 365.6200s<br>Index = 89",
          "time = 369.6202s<br>Index = 90",
          "time = 373.6205s<br>Index = 91",
          "time = 377.6207s<br>Index = 92",
          "time = 381.6209s<br>Index = 93",
          "time = 385.6214s<br>Index = 94",
          "time = 389.6217s<br>Index = 95",
          "time = 393.6220s<br>Index = 96",
          "time = 397.6222s<br>Index = 97",
          "time = 401.6224s<br>Index = 98",
          "time = 405.6227s<br>Index = 99",
          "time = 409.6229s<br>Index = 100",
          "time = 413.6232s<br>Index = 101",
          "time = 417.6237s<br>Index = 102",
          "time = 421.6239s<br>Index = 103",
          "time = 425.6241s<br>Index = 104",
          "time = 429.6244s<br>Index = 105",
          "time = 433.6246s<br>Index = 106"
         ],
         "type": "scatter",
         "x": [
          0,
          0,
          0,
          0,
          0,
          0,
          0,
          0,
          0,
          0,
          0,
          0,
          0,
          0,
          0,
          0,
          0,
          0,
          0,
          0,
          0,
          0,
          0,
          0,
          0,
          0,
          0,
          0,
          0,
          0,
          0,
          0,
          0,
          0,
          0,
          0,
          0,
          0,
          0,
          0,
          0,
          0,
          0,
          0,
          0,
          0,
          0,
          0,
          0,
          0,
          0,
          0,
          0,
          0,
          0,
          0,
          0,
          0,
          0,
          0,
          0,
          0,
          0,
          0,
          0,
          0,
          0,
          0,
          0,
          0,
          0,
          0,
          0,
          0,
          0,
          0,
          0,
          0,
          0,
          0,
          0,
          0,
          0,
          0,
          0,
          0,
          0,
          0,
          0,
          0,
          0,
          0,
          0,
          0,
          0,
          0,
          0,
          0,
          0,
          0,
          0,
          0,
          0,
          0,
          0,
          0,
          0
         ],
         "y": [
          9.59615,
          13.5964,
          17.5966,
          21.59685,
          25.5971,
          29.59735,
          33.59775,
          37.598,
          41.59825,
          45.5985,
          49.5987,
          53.59895,
          57.5992,
          61.59945,
          65.59985,
          69.6001,
          73.60035,
          77.6006,
          81.6008,
          85.60105,
          89.6013,
          93.60155,
          97.60195,
          101.6022,
          105.60245,
          109.6027,
          113.6029,
          117.60315,
          121.6034,
          125.60365,
          129.60405,
          133.6043,
          137.60455,
          141.6048,
          145.605,
          149.60525,
          153.6055,
          157.60575,
          161.6061,
          165.60635,
          169.6066,
          173.6068,
          177.60705,
          181.6073,
          185.60755,
          189.6078,
          193.60815,
          197.6084,
          201.6086,
          205.60885,
          209.6091,
          213.60935,
          217.6096,
          221.6098,
          225.61035,
          229.6106,
          233.61085,
          237.6111,
          241.6113,
          245.61155,
          249.6118,
          253.61205,
          257.6126,
          261.6128,
          265.61305,
          269.6133,
          273.61355,
          277.6138,
          281.614,
          285.61425,
          289.6148,
          293.61505,
          297.6153,
          301.6155,
          305.61575,
          309.616,
          313.61625,
          317.6165,
          321.617,
          325.61725,
          329.6175,
          333.61775,
          337.618,
          341.6182,
          345.61845,
          349.6187,
          353.61925,
          357.6195,
          361.6197,
          365.61995,
          369.6202,
          373.62045,
          377.6207,
          381.6209,
          385.62145,
          389.6217,
          393.62195,
          397.6222,
          401.6224,
          405.62265,
          409.6229,
          413.62315,
          417.6237,
          421.6239,
          425.62415,
          429.6244,
          433.62465
         ]
        },
        {
         "hovertemplate": "%{text}",
         "marker": {
          "color": "black",
          "size": 7,
          "symbol": [
           "triangle-nw",
           "triangle-ne"
          ]
         },
         "mode": "markers",
         "showlegend": false,
         "text": [
          "Latency: 0.0553s<br>Fibre Index: None",
          "Offset: 0.0579s"
         ],
         "type": "scatter",
         "x": [
          0.05525000000000091,
          0.05785000000000018
         ],
         "y": [
          9.59615,
          9.59615
         ]
        },
        {
         "hovertemplate": "%{text}",
         "marker": {
          "color": "black",
          "size": 7,
          "symbol": [
           "triangle-nw",
           "triangle-ne"
          ]
         },
         "mode": "markers",
         "showlegend": false,
         "text": [
          "Latency: 0.0554s<br>Fibre Index: None",
          "Offset: 0.0580s"
         ],
         "type": "scatter",
         "x": [
          0.05540000000000056,
          0.058000000000001606
         ],
         "y": [
          13.5964,
          13.5964
         ]
        },
        {
         "hovertemplate": "%{text}",
         "marker": {
          "color": "black",
          "size": 7,
          "symbol": [
           "triangle-nw",
           "triangle-ne"
          ]
         },
         "mode": "markers",
         "showlegend": false,
         "text": [
          "Latency: 0.0555s<br>Fibre Index: None",
          "Offset: 0.0581s"
         ],
         "type": "scatter",
         "x": [
          0.0555000000000021,
          0.058099999999999596
         ],
         "y": [
          17.5966,
          17.5966
         ]
        },
        {
         "hovertemplate": "%{text}",
         "marker": {
          "color": "black",
          "size": 7,
          "symbol": [
           "triangle-nw",
           "triangle-ne"
          ]
         },
         "mode": "markers",
         "showlegend": false,
         "text": [
          "Latency: 0.0557s<br>Fibre Index: None",
          "Offset: 0.0583s"
         ],
         "type": "scatter",
         "x": [
          0.05570000000000164,
          0.05829999999999913
         ],
         "y": [
          21.59685,
          21.59685
         ]
        },
        {
         "hovertemplate": "%{text}",
         "marker": {
          "color": "black",
          "size": 7,
          "symbol": [
           "triangle-nw",
           "triangle-ne"
          ]
         },
         "mode": "markers",
         "showlegend": false,
         "text": [
          "Latency: 0.0898s<br>Fibre Index: None",
          "Offset: 0.0924s"
         ],
         "type": "scatter",
         "x": [
          0.08980000000000032,
          0.09240000000000137
         ],
         "y": [
          21.59685,
          21.59685
         ]
        },
        {
         "hovertemplate": "%{text}",
         "marker": {
          "color": "black",
          "size": 7,
          "symbol": [
           "triangle-nw",
           "triangle-ne"
          ]
         },
         "mode": "markers",
         "showlegend": false,
         "text": [
          "Latency: 0.0560s<br>Fibre Index: None",
          "Offset: 0.0586s"
         ],
         "type": "scatter",
         "x": [
          0.055999999999997385,
          0.05859999999999843
         ],
         "y": [
          25.5971,
          25.5971
         ]
        },
        {
         "hovertemplate": "%{text}",
         "marker": {
          "color": "black",
          "size": 7,
          "symbol": [
           "triangle-nw",
           "triangle-ne"
          ]
         },
         "mode": "markers",
         "showlegend": false,
         "text": [
          "Latency: 0.0875s<br>Fibre Index: None",
          "Offset: 0.0901s"
         ],
         "type": "scatter",
         "x": [
          0.08749999999999858,
          0.09009999999999962
         ],
         "y": [
          25.5971,
          25.5971
         ]
        },
        {
         "hovertemplate": "%{text}",
         "marker": {
          "color": "black",
          "size": 7,
          "symbol": [
           "triangle-nw",
           "triangle-ne"
          ]
         },
         "mode": "markers",
         "showlegend": false,
         "text": [
          "Latency: 0.0564s<br>Fibre Index: None",
          "Offset: 0.0590s"
         ],
         "type": "scatter",
         "x": [
          0.0563500000000019,
          0.058950000000002944
         ],
         "y": [
          29.59735,
          29.59735
         ]
        },
        {
         "hovertemplate": "%{text}",
         "marker": {
          "color": "black",
          "size": 7,
          "symbol": [
           "triangle-nw",
           "triangle-ne"
          ]
         },
         "mode": "markers",
         "showlegend": false,
         "text": [
          "Latency: 0.0614s<br>Fibre Index: None",
          "Offset: 0.0640s"
         ],
         "type": "scatter",
         "x": [
          0.061350000000004457,
          0.0639500000000055
         ],
         "y": [
          33.59775,
          33.59775
         ]
        },
        {
         "hovertemplate": "%{text}",
         "marker": {
          "color": "black",
          "size": 7,
          "symbol": [
           "triangle-nw",
           "triangle-ne"
          ]
         },
         "mode": "markers",
         "showlegend": false,
         "text": [
          "Latency: 0.0724s<br>Fibre Index: None",
          "Offset: 0.0750s"
         ],
         "type": "scatter",
         "x": [
          0.07235000000000014,
          0.07495000000000118
         ],
         "y": [
          33.59775,
          33.59775
         ]
        },
        {
         "hovertemplate": "%{text}",
         "marker": {
          "color": "black",
          "size": 7,
          "symbol": [
           "triangle-nw",
           "triangle-ne"
          ]
         },
         "mode": "markers",
         "showlegend": false,
         "text": [
          "Latency: 0.0599s<br>Fibre Index: None",
          "Offset: 0.0625s"
         ],
         "type": "scatter",
         "x": [
          0.059899999999998954,
          0.0625
         ],
         "y": [
          37.598,
          37.598
         ]
        },
        {
         "hovertemplate": "%{text}",
         "marker": {
          "color": "black",
          "size": 7,
          "symbol": [
           "triangle-nw",
           "triangle-ne"
          ]
         },
         "mode": "markers",
         "showlegend": false,
         "text": [
          "Latency: 0.0946s<br>Fibre Index: None",
          "Offset: 0.0972s"
         ],
         "type": "scatter",
         "x": [
          0.0945999999999998,
          0.09720000000000084
         ],
         "y": [
          37.598,
          37.598
         ]
        },
        {
         "hovertemplate": "%{text}",
         "marker": {
          "color": "black",
          "size": 7,
          "symbol": [
           "triangle-nw",
           "triangle-ne"
          ]
         },
         "mode": "markers",
         "showlegend": false,
         "text": [
          "Latency: 0.0592s<br>Fibre Index: None",
          "Offset: 0.0617s"
         ],
         "type": "scatter",
         "x": [
          0.05915000000000248,
          0.06174999999999642
         ],
         "y": [
          41.59825,
          41.59825
         ]
        },
        {
         "hovertemplate": "%{text}",
         "marker": {
          "color": "black",
          "size": 7,
          "symbol": [
           "triangle-nw",
           "triangle-ne"
          ]
         },
         "mode": "markers",
         "showlegend": false,
         "text": [
          "Latency: 0.0583s<br>Fibre Index: None",
          "Offset: 0.0609s"
         ],
         "type": "scatter",
         "x": [
          0.05834999999999724,
          0.06094999999999828
         ],
         "y": [
          45.5985,
          45.5985
         ]
        },
        {
         "hovertemplate": "%{text}",
         "marker": {
          "color": "black",
          "size": 7,
          "symbol": [
           "triangle-nw",
           "triangle-ne"
          ]
         },
         "mode": "markers",
         "showlegend": false,
         "text": [
          "Latency: 0.0898s<br>Fibre Index: None",
          "Offset: 0.0924s"
         ],
         "type": "scatter",
         "x": [
          0.08984999999999843,
          0.09244999999999948
         ],
         "y": [
          45.5985,
          45.5985
         ]
        },
        {
         "hovertemplate": "%{text}",
         "marker": {
          "color": "black",
          "size": 7,
          "symbol": [
           "triangle-nw",
           "triangle-ne"
          ]
         },
         "mode": "markers",
         "showlegend": false,
         "text": [
          "Latency: 0.0585s<br>Fibre Index: None",
          "Offset: 0.0611s"
         ],
         "type": "scatter",
         "x": [
          0.05850000000000222,
          0.06109999999999616
         ],
         "y": [
          49.5987,
          49.5987
         ]
        },
        {
         "hovertemplate": "%{text}",
         "marker": {
          "color": "black",
          "size": 7,
          "symbol": [
           "triangle-nw",
           "triangle-ne"
          ]
         },
         "mode": "markers",
         "showlegend": false,
         "text": [
          "Latency: 0.0945s<br>Fibre Index: None",
          "Offset: 0.0971s"
         ],
         "type": "scatter",
         "x": [
          0.09449999999999648,
          0.09709999999999752
         ],
         "y": [
          49.5987,
          49.5987
         ]
        },
        {
         "hovertemplate": "%{text}",
         "marker": {
          "color": "black",
          "size": 7,
          "symbol": [
           "triangle-nw",
           "triangle-ne"
          ]
         },
         "mode": "markers",
         "showlegend": false,
         "text": [
          "Latency: 0.0586s<br>Fibre Index: None",
          "Offset: 0.0612s"
         ],
         "type": "scatter",
         "x": [
          0.05859999999999843,
          0.06119999999999948
         ],
         "y": [
          53.59895,
          53.59895
         ]
        },
        {
         "hovertemplate": "%{text}",
         "marker": {
          "color": "black",
          "size": 7,
          "symbol": [
           "triangle-nw",
           "triangle-ne"
          ]
         },
         "mode": "markers",
         "showlegend": false,
         "text": [
          "Latency: 0.0592s<br>Fibre Index: None",
          "Offset: 0.0618s"
         ],
         "type": "scatter",
         "x": [
          0.05924999999999869,
          0.06184999999999974
         ],
         "y": [
          57.5992,
          57.5992
         ]
        },
        {
         "hovertemplate": "%{text}",
         "marker": {
          "color": "black",
          "size": 7,
          "symbol": [
           "triangle-nw",
           "triangle-ne"
          ]
         },
         "mode": "markers",
         "showlegend": false,
         "text": [
          "Latency: 0.0588s<br>Fibre Index: None",
          "Offset: 0.0614s"
         ],
         "type": "scatter",
         "x": [
          0.05875000000000341,
          0.061350000000004457
         ],
         "y": [
          61.59945,
          61.59945
         ]
        },
        {
         "hovertemplate": "%{text}",
         "marker": {
          "color": "black",
          "size": 7,
          "symbol": [
           "triangle-nw",
           "triangle-ne"
          ]
         },
         "mode": "markers",
         "showlegend": false,
         "text": [
          "Latency: 0.0636s<br>Fibre Index: None",
          "Offset: 0.0662s"
         ],
         "type": "scatter",
         "x": [
          0.06364999999999554,
          0.06624999999999659
         ],
         "y": [
          65.59985,
          65.59985
         ]
        },
        {
         "hovertemplate": "%{text}",
         "marker": {
          "color": "black",
          "size": 7,
          "symbol": [
           "triangle-nw",
           "triangle-ne"
          ]
         },
         "mode": "markers",
         "showlegend": false,
         "text": [
          "Latency: 0.0622s<br>Fibre Index: None",
          "Offset: 0.0648s"
         ],
         "type": "scatter",
         "x": [
          0.06215000000000259,
          0.06475000000000364
         ],
         "y": [
          69.6001,
          69.6001
         ]
        },
        {
         "hovertemplate": "%{text}",
         "marker": {
          "color": "black",
          "size": 7,
          "symbol": [
           "triangle-nw",
           "triangle-ne"
          ]
         },
         "mode": "markers",
         "showlegend": false,
         "text": [
          "Latency: 0.0611s<br>Fibre Index: None",
          "Offset: 0.0637s"
         ],
         "type": "scatter",
         "x": [
          0.06114999999999782,
          0.06374999999999886
         ],
         "y": [
          73.60035,
          73.60035
         ]
        },
        {
         "hovertemplate": "%{text}",
         "marker": {
          "color": "black",
          "size": 7,
          "symbol": [
           "triangle-nw",
           "triangle-ne"
          ]
         },
         "mode": "markers",
         "showlegend": false,
         "text": [
          "Latency: 0.0603s<br>Fibre Index: None",
          "Offset: 0.0629s"
         ],
         "type": "scatter",
         "x": [
          0.06029999999999802,
          0.06289999999999907
         ],
         "y": [
          77.6006,
          77.6006
         ]
        },
        {
         "hovertemplate": "%{text}",
         "marker": {
          "color": "black",
          "size": 7,
          "symbol": [
           "triangle-nw",
           "triangle-ne"
          ]
         },
         "mode": "markers",
         "showlegend": false,
         "text": [
          "Latency: 0.0594s<br>Fibre Index: None",
          "Offset: 0.0620s"
         ],
         "type": "scatter",
         "x": [
          0.059449999999998226,
          0.06204999999999927
         ],
         "y": [
          81.6008,
          81.6008
         ]
        },
        {
         "hovertemplate": "%{text}",
         "marker": {
          "color": "black",
          "size": 7,
          "symbol": [
           "triangle-nw",
           "triangle-ne"
          ]
         },
         "mode": "markers",
         "showlegend": false,
         "text": [
          "Latency: 0.0590s<br>Fibre Index: None",
          "Offset: 0.0617s"
         ],
         "type": "scatter",
         "x": [
          0.05904999999999916,
          0.061650000000000205
         ],
         "y": [
          85.60105,
          85.60105
         ]
        },
        {
         "hovertemplate": "%{text}",
         "marker": {
          "color": "black",
          "size": 7,
          "symbol": [
           "triangle-nw",
           "triangle-ne"
          ]
         },
         "mode": "markers",
         "showlegend": false,
         "text": [
          "Latency: 0.0590s<br>Fibre Index: None",
          "Offset: 0.0616s"
         ],
         "type": "scatter",
         "x": [
          0.05900000000001171,
          0.061599999999998545
         ],
         "y": [
          89.6013,
          89.6013
         ]
        },
        {
         "hovertemplate": "%{text}",
         "marker": {
          "color": "black",
          "size": 7,
          "symbol": [
           "triangle-nw",
           "triangle-ne"
          ]
         },
         "mode": "markers",
         "showlegend": false,
         "text": [
          "Latency: 0.0649s<br>Fibre Index: None",
          "Offset: 0.0675s"
         ],
         "type": "scatter",
         "x": [
          0.0648999999999944,
          0.06749999999999545
         ],
         "y": [
          97.60195,
          97.60195
         ]
        },
        {
         "hovertemplate": "%{text}",
         "marker": {
          "color": "black",
          "size": 7,
          "symbol": [
           "triangle-nw",
           "triangle-ne"
          ]
         },
         "mode": "markers",
         "showlegend": false,
         "text": [
          "Latency: 0.0628s<br>Fibre Index: None",
          "Offset: 0.0654s"
         ],
         "type": "scatter",
         "x": [
          0.06284999999999741,
          0.06544999999999845
         ],
         "y": [
          101.6022,
          101.6022
         ]
        },
        {
         "hovertemplate": "%{text}",
         "marker": {
          "color": "black",
          "size": 7,
          "symbol": [
           "triangle-nw",
           "triangle-ne"
          ]
         },
         "mode": "markers",
         "showlegend": false,
         "text": [
          "Latency: 0.0622s<br>Fibre Index: None",
          "Offset: 0.0648s"
         ],
         "type": "scatter",
         "x": [
          0.06219999999999004,
          0.06479999999999109
         ],
         "y": [
          105.60245,
          105.60245
         ]
        },
        {
         "hovertemplate": "%{text}",
         "marker": {
          "color": "black",
          "size": 7,
          "symbol": [
           "triangle-nw",
           "triangle-ne"
          ]
         },
         "mode": "markers",
         "showlegend": false,
         "text": [
          "Latency: 0.0619s<br>Fibre Index: None",
          "Offset: 0.0645s"
         ],
         "type": "scatter",
         "x": [
          0.06189999999999429,
          0.06449999999999534
         ],
         "y": [
          109.6027,
          109.6027
         ]
        },
        {
         "hovertemplate": "%{text}",
         "marker": {
          "color": "black",
          "size": 7,
          "symbol": [
           "triangle-nw",
           "triangle-ne"
          ]
         },
         "mode": "markers",
         "showlegend": false,
         "text": [
          "Latency: 0.0609s<br>Fibre Index: None",
          "Offset: 0.0635s"
         ],
         "type": "scatter",
         "x": [
          0.06094999999999118,
          0.06354999999999222
         ],
         "y": [
          113.6029,
          113.6029
         ]
        },
        {
         "hovertemplate": "%{text}",
         "marker": {
          "color": "black",
          "size": 7,
          "symbol": [
           "triangle-nw",
           "triangle-ne"
          ]
         },
         "mode": "markers",
         "showlegend": false,
         "text": [
          "Latency: 0.0610s<br>Fibre Index: None",
          "Offset: 0.0636s"
         ],
         "type": "scatter",
         "x": [
          0.06100000000000705,
          0.06359999999999388
         ],
         "y": [
          117.60315,
          117.60315
         ]
        },
        {
         "hovertemplate": "%{text}",
         "marker": {
          "color": "black",
          "size": 7,
          "symbol": [
           "triangle-nw",
           "triangle-ne"
          ]
         },
         "mode": "markers",
         "showlegend": false,
         "text": [
          "Latency: 0.0604s<br>Fibre Index: None",
          "Offset: 0.0630s"
         ],
         "type": "scatter",
         "x": [
          0.06040000000000134,
          0.06300000000000239
         ],
         "y": [
          121.6034,
          121.6034
         ]
        },
        {
         "hovertemplate": "%{text}",
         "marker": {
          "color": "black",
          "size": 7,
          "symbol": [
           "triangle-nw",
           "triangle-ne"
          ]
         },
         "mode": "markers",
         "showlegend": false,
         "text": [
          "Latency: 0.0602s<br>Fibre Index: None",
          "Offset: 0.0628s"
         ],
         "type": "scatter",
         "x": [
          0.0601999999999947,
          0.06279999999999575
         ],
         "y": [
          125.60365,
          125.60365
         ]
        },
        {
         "hovertemplate": "%{text}",
         "marker": {
          "color": "black",
          "size": 7,
          "symbol": [
           "triangle-nw",
           "triangle-ne"
          ]
         },
         "mode": "markers",
         "showlegend": false,
         "text": [
          "Latency: 0.0635s<br>Fibre Index: None",
          "Offset: 0.0661s"
         ],
         "type": "scatter",
         "x": [
          0.06345000000001733,
          0.06605000000001837
         ],
         "y": [
          133.6043,
          133.6043
         ]
        },
        {
         "hovertemplate": "%{text}",
         "marker": {
          "color": "black",
          "size": 7,
          "symbol": [
           "triangle-nw",
           "triangle-ne"
          ]
         },
         "mode": "markers",
         "showlegend": false,
         "text": [
          "Latency: 0.0620s<br>Fibre Index: None",
          "Offset: 0.0645s"
         ],
         "type": "scatter",
         "x": [
          0.061950000000024374,
          0.064549999999997
         ],
         "y": [
          137.60455,
          137.60455
         ]
        },
        {
         "hovertemplate": "%{text}",
         "marker": {
          "color": "black",
          "size": 7,
          "symbol": [
           "triangle-nw",
           "triangle-ne"
          ]
         },
         "mode": "markers",
         "showlegend": false,
         "text": [
          "Latency: 0.0614s<br>Fibre Index: None",
          "Offset: 0.0640s"
         ],
         "type": "scatter",
         "x": [
          0.061399999999991905,
          0.06399999999999295
         ],
         "y": [
          141.6048,
          141.6048
         ]
        },
        {
         "hovertemplate": "%{text}",
         "marker": {
          "color": "black",
          "size": 7,
          "symbol": [
           "triangle-nw",
           "triangle-ne"
          ]
         },
         "mode": "markers",
         "showlegend": false,
         "text": [
          "Latency: 0.0611s<br>Fibre Index: None",
          "Offset: 0.0637s"
         ],
         "type": "scatter",
         "x": [
          0.06110000000001037,
          0.06370000000001141
         ],
         "y": [
          145.605,
          145.605
         ]
        },
        {
         "hovertemplate": "%{text}",
         "marker": {
          "color": "black",
          "size": 7,
          "symbol": [
           "triangle-nw",
           "triangle-ne"
          ]
         },
         "mode": "markers",
         "showlegend": false,
         "text": [
          "Latency: 0.0609s<br>Fibre Index: None",
          "Offset: 0.0635s"
         ],
         "type": "scatter",
         "x": [
          0.06094999999999118,
          0.06354999999999222
         ],
         "y": [
          149.60525,
          149.60525
         ]
        },
        {
         "hovertemplate": "%{text}",
         "marker": {
          "color": "black",
          "size": 7,
          "symbol": [
           "triangle-nw",
           "triangle-ne"
          ]
         },
         "mode": "markers",
         "showlegend": false,
         "text": [
          "Latency: 0.0609s<br>Fibre Index: None",
          "Offset: 0.0635s"
         ],
         "type": "scatter",
         "x": [
          0.06094999999999118,
          0.06354999999999222
         ],
         "y": [
          153.6055,
          153.6055
         ]
        },
        {
         "hovertemplate": "%{text}",
         "marker": {
          "color": "black",
          "size": 7,
          "symbol": [
           "triangle-nw",
           "triangle-ne"
          ]
         },
         "mode": "markers",
         "showlegend": false,
         "text": [
          "Latency: 0.0609s<br>Fibre Index: None",
          "Offset: 0.0635s"
         ],
         "type": "scatter",
         "x": [
          0.06090000000000373,
          0.06350000000000477
         ],
         "y": [
          157.60575,
          157.60575
         ]
        },
        {
         "hovertemplate": "%{text}",
         "marker": {
          "color": "black",
          "size": 7,
          "symbol": [
           "triangle-nw",
           "triangle-ne"
          ]
         },
         "mode": "markers",
         "showlegend": false,
         "text": [
          "Latency: 0.0630s<br>Fibre Index: None",
          "Offset: 0.0656s"
         ],
         "type": "scatter",
         "x": [
          0.06299999999998818,
          0.06559999999998922
         ],
         "y": [
          161.6061,
          161.6061
         ]
        },
        {
         "hovertemplate": "%{text}",
         "marker": {
          "color": "black",
          "size": 7,
          "symbol": [
           "triangle-nw",
           "triangle-ne"
          ]
         },
         "mode": "markers",
         "showlegend": false,
         "text": [
          "Latency: 0.0622s<br>Fibre Index: None",
          "Offset: 0.0648s"
         ],
         "type": "scatter",
         "x": [
          0.06215000000000259,
          0.06475000000000364
         ],
         "y": [
          165.60635,
          165.60635
         ]
        },
        {
         "hovertemplate": "%{text}",
         "marker": {
          "color": "black",
          "size": 7,
          "symbol": [
           "triangle-nw",
           "triangle-ne"
          ]
         },
         "mode": "markers",
         "showlegend": false,
         "text": [
          "Latency: 0.0617s<br>Fibre Index: None",
          "Offset: 0.0643s"
         ],
         "type": "scatter",
         "x": [
          0.061650000000014415,
          0.06425000000001546
         ],
         "y": [
          169.6066,
          169.6066
         ]
        },
        {
         "hovertemplate": "%{text}",
         "marker": {
          "color": "black",
          "size": 7,
          "symbol": [
           "triangle-nw",
           "triangle-ne"
          ]
         },
         "mode": "markers",
         "showlegend": false,
         "text": [
          "Latency: 0.0616s<br>Fibre Index: None",
          "Offset: 0.0642s"
         ],
         "type": "scatter",
         "x": [
          0.061599999999998545,
          0.06419999999999959
         ],
         "y": [
          173.6068,
          173.6068
         ]
        },
        {
         "hovertemplate": "%{text}",
         "marker": {
          "color": "black",
          "size": 7,
          "symbol": [
           "triangle-nw",
           "triangle-ne"
          ]
         },
         "mode": "markers",
         "showlegend": false,
         "text": [
          "Latency: 0.0614s<br>Fibre Index: None",
          "Offset: 0.0640s"
         ],
         "type": "scatter",
         "x": [
          0.06140000000002033,
          0.06400000000002137
         ],
         "y": [
          177.60705,
          177.60705
         ]
        },
        {
         "hovertemplate": "%{text}",
         "marker": {
          "color": "black",
          "size": 7,
          "symbol": [
           "triangle-nw",
           "triangle-ne"
          ]
         },
         "mode": "markers",
         "showlegend": false,
         "text": [
          "Latency: 0.0611s<br>Fibre Index: None",
          "Offset: 0.0637s"
         ],
         "type": "scatter",
         "x": [
          0.06114999999999782,
          0.06374999999999886
         ],
         "y": [
          181.6073,
          181.6073
         ]
        },
        {
         "hovertemplate": "%{text}",
         "marker": {
          "color": "black",
          "size": 7,
          "symbol": [
           "triangle-nw",
           "triangle-ne"
          ]
         },
         "mode": "markers",
         "showlegend": false,
         "text": [
          "Latency: 0.0612s<br>Fibre Index: None",
          "Offset: 0.0638s"
         ],
         "type": "scatter",
         "x": [
          0.061199999999985266,
          0.06379999999998631
         ],
         "y": [
          185.60755,
          185.60755
         ]
        },
        {
         "hovertemplate": "%{text}",
         "marker": {
          "color": "black",
          "size": 7,
          "symbol": [
           "triangle-nw",
           "triangle-ne"
          ]
         },
         "mode": "markers",
         "showlegend": false,
         "text": [
          "Latency: 0.0611s<br>Fibre Index: None",
          "Offset: 0.0637s"
         ],
         "type": "scatter",
         "x": [
          0.06110000000001037,
          0.06370000000001141
         ],
         "y": [
          189.6078,
          189.6078
         ]
        },
        {
         "hovertemplate": "%{text}",
         "marker": {
          "color": "black",
          "size": 7,
          "symbol": [
           "triangle-nw",
           "triangle-ne"
          ]
         },
         "mode": "markers",
         "showlegend": false,
         "text": [
          "Latency: 0.0644s<br>Fibre Index: None",
          "Offset: 0.0670s"
         ],
         "type": "scatter",
         "x": [
          0.06444999999999368,
          0.06704999999999472
         ],
         "y": [
          193.60815,
          193.60815
         ]
        },
        {
         "hovertemplate": "%{text}",
         "marker": {
          "color": "black",
          "size": 7,
          "symbol": [
           "triangle-nw",
           "triangle-ne"
          ]
         },
         "mode": "markers",
         "showlegend": false,
         "text": [
          "Latency: 0.0625s<br>Fibre Index: None",
          "Offset: 0.0651s"
         ],
         "type": "scatter",
         "x": [
          0.0625,
          0.06510000000000105
         ],
         "y": [
          197.6084,
          197.6084
         ]
        },
        {
         "hovertemplate": "%{text}",
         "marker": {
          "color": "black",
          "size": 7,
          "symbol": [
           "triangle-nw",
           "triangle-ne"
          ]
         },
         "mode": "markers",
         "showlegend": false,
         "text": [
          "Latency: 0.0624s<br>Fibre Index: None",
          "Offset: 0.0650s"
         ],
         "type": "scatter",
         "x": [
          0.06239999999999668,
          0.06499999999999773
         ],
         "y": [
          201.6086,
          201.6086
         ]
        },
        {
         "hovertemplate": "%{text}",
         "marker": {
          "color": "black",
          "size": 7,
          "symbol": [
           "triangle-nw",
           "triangle-ne"
          ]
         },
         "mode": "markers",
         "showlegend": false,
         "text": [
          "Latency: 0.0624s<br>Fibre Index: None",
          "Offset: 0.0650s"
         ],
         "type": "scatter",
         "x": [
          0.06239999999999668,
          0.06499999999999773
         ],
         "y": [
          205.60885,
          205.60885
         ]
        },
        {
         "hovertemplate": "%{text}",
         "marker": {
          "color": "black",
          "size": 7,
          "symbol": [
           "triangle-nw",
           "triangle-ne"
          ]
         },
         "mode": "markers",
         "showlegend": false,
         "text": [
          "Latency: 0.0620s<br>Fibre Index: None",
          "Offset: 0.0646s"
         ],
         "type": "scatter",
         "x": [
          0.0619999999999834,
          0.06459999999998445
         ],
         "y": [
          209.6091,
          209.6091
         ]
        },
        {
         "hovertemplate": "%{text}",
         "marker": {
          "color": "black",
          "size": 7,
          "symbol": [
           "triangle-nw",
           "triangle-ne"
          ]
         },
         "mode": "markers",
         "showlegend": false,
         "text": [
          "Latency: 0.0618s<br>Fibre Index: None",
          "Offset: 0.0644s"
         ],
         "type": "scatter",
         "x": [
          0.06184999999999263,
          0.06444999999999368
         ],
         "y": [
          213.60935,
          213.60935
         ]
        },
        {
         "hovertemplate": "%{text}",
         "marker": {
          "color": "black",
          "size": 7,
          "symbol": [
           "triangle-nw",
           "triangle-ne"
          ]
         },
         "mode": "markers",
         "showlegend": false,
         "text": [
          "Latency: 0.0618s<br>Fibre Index: None",
          "Offset: 0.0644s"
         ],
         "type": "scatter",
         "x": [
          0.061800000000005184,
          0.06440000000000623
         ],
         "y": [
          217.6096,
          217.6096
         ]
        },
        {
         "hovertemplate": "%{text}",
         "marker": {
          "color": "black",
          "size": 7,
          "symbol": [
           "triangle-nw",
           "triangle-ne"
          ]
         },
         "mode": "markers",
         "showlegend": false,
         "text": [
          "Latency: 0.0619s<br>Fibre Index: None",
          "Offset: 0.0645s"
         ],
         "type": "scatter",
         "x": [
          0.06189999999998008,
          0.06449999999998113
         ],
         "y": [
          221.6098,
          221.6098
         ]
        },
        {
         "hovertemplate": "%{text}",
         "marker": {
          "color": "black",
          "size": 7,
          "symbol": [
           "triangle-nw",
           "triangle-ne"
          ]
         },
         "mode": "markers",
         "showlegend": false,
         "text": [
          "Latency: 0.0691s<br>Fibre Index: None",
          "Offset: 0.0717s"
         ],
         "type": "scatter",
         "x": [
          0.06909999999999172,
          0.07169999999999277
         ],
         "y": [
          225.61035,
          225.61035
         ]
        },
        {
         "hovertemplate": "%{text}",
         "marker": {
          "color": "black",
          "size": 7,
          "symbol": [
           "triangle-nw",
           "triangle-ne"
          ]
         },
         "mode": "markers",
         "showlegend": false,
         "text": [
          "Latency: 0.0670s<br>Fibre Index: None",
          "Offset: 0.0696s"
         ],
         "type": "scatter",
         "x": [
          0.06704999999999472,
          0.06964999999999577
         ],
         "y": [
          229.6106,
          229.6106
         ]
        },
        {
         "hovertemplate": "%{text}",
         "marker": {
          "color": "black",
          "size": 7,
          "symbol": [
           "triangle-nw",
           "triangle-ne"
          ]
         },
         "mode": "markers",
         "showlegend": false,
         "text": [
          "Latency: 0.0653s<br>Fibre Index: None",
          "Offset: 0.0679s"
         ],
         "type": "scatter",
         "x": [
          0.06534999999999513,
          0.06794999999999618
         ],
         "y": [
          233.61085,
          233.61085
         ]
        },
        {
         "hovertemplate": "%{text}",
         "marker": {
          "color": "black",
          "size": 7,
          "symbol": [
           "triangle-nw",
           "triangle-ne"
          ]
         },
         "mode": "markers",
         "showlegend": false,
         "text": [
          "Latency: 0.0643s<br>Fibre Index: None",
          "Offset: 0.0669s"
         ],
         "type": "scatter",
         "x": [
          0.06430000000000291,
          0.06690000000000396
         ],
         "y": [
          237.6111,
          237.6111
         ]
        },
        {
         "hovertemplate": "%{text}",
         "marker": {
          "color": "black",
          "size": 7,
          "symbol": [
           "triangle-nw",
           "triangle-ne"
          ]
         },
         "mode": "markers",
         "showlegend": false,
         "text": [
          "Latency: 0.0639s<br>Fibre Index: None",
          "Offset: 0.0665s"
         ],
         "type": "scatter",
         "x": [
          0.06385000000000218,
          0.06645000000000323
         ],
         "y": [
          241.6113,
          241.6113
         ]
        },
        {
         "hovertemplate": "%{text}",
         "marker": {
          "color": "black",
          "size": 7,
          "symbol": [
           "triangle-nw",
           "triangle-ne"
          ]
         },
         "mode": "markers",
         "showlegend": false,
         "text": [
          "Latency: 0.0636s<br>Fibre Index: None",
          "Offset: 0.0662s"
         ],
         "type": "scatter",
         "x": [
          0.0636000000000081,
          0.06620000000000914
         ],
         "y": [
          245.61155,
          245.61155
         ]
        },
        {
         "hovertemplate": "%{text}",
         "marker": {
          "color": "black",
          "size": 7,
          "symbol": [
           "triangle-nw",
           "triangle-ne"
          ]
         },
         "mode": "markers",
         "showlegend": false,
         "text": [
          "Latency: 0.0639s<br>Fibre Index: None",
          "Offset: 0.0665s"
         ],
         "type": "scatter",
         "x": [
          0.06385000000000218,
          0.06645000000000323
         ],
         "y": [
          249.6118,
          249.6118
         ]
        },
        {
         "hovertemplate": "%{text}",
         "marker": {
          "color": "black",
          "size": 7,
          "symbol": [
           "triangle-nw",
           "triangle-ne"
          ]
         },
         "mode": "markers",
         "showlegend": false,
         "text": [
          "Latency: 0.0636s<br>Fibre Index: None",
          "Offset: 0.0662s"
         ],
         "type": "scatter",
         "x": [
          0.06364999999999554,
          0.06624999999999659
         ],
         "y": [
          253.61205,
          253.61205
         ]
        },
        {
         "hovertemplate": "%{text}",
         "marker": {
          "color": "black",
          "size": 7,
          "symbol": [
           "triangle-nw",
           "triangle-ne"
          ]
         },
         "mode": "markers",
         "showlegend": false,
         "text": [
          "Latency: 0.0724s<br>Fibre Index: None",
          "Offset: 0.0750s"
         ],
         "type": "scatter",
         "x": [
          0.07240000000001601,
          0.07499999999998863
         ],
         "y": [
          257.6126,
          257.6126
         ]
        },
        {
         "hovertemplate": "%{text}",
         "marker": {
          "color": "black",
          "size": 7,
          "symbol": [
           "triangle-nw",
           "triangle-ne"
          ]
         },
         "mode": "markers",
         "showlegend": false,
         "text": [
          "Latency: 0.0697s<br>Fibre Index: None",
          "Offset: 0.0723s"
         ],
         "type": "scatter",
         "x": [
          0.06970000000001164,
          0.07229999999998427
         ],
         "y": [
          261.6128,
          261.6128
         ]
        },
        {
         "hovertemplate": "%{text}",
         "marker": {
          "color": "black",
          "size": 7,
          "symbol": [
           "triangle-nw",
           "triangle-ne"
          ]
         },
         "mode": "markers",
         "showlegend": false,
         "text": [
          "Latency: 0.0679s<br>Fibre Index: None",
          "Offset: 0.0706s"
         ],
         "type": "scatter",
         "x": [
          0.06794999999999618,
          0.07055000000002565
         ],
         "y": [
          265.61305,
          265.61305
         ]
        },
        {
         "hovertemplate": "%{text}",
         "marker": {
          "color": "black",
          "size": 7,
          "symbol": [
           "triangle-nw",
           "triangle-ne"
          ]
         },
         "mode": "markers",
         "showlegend": false,
         "text": [
          "Latency: 0.0668s<br>Fibre Index: None",
          "Offset: 0.0694s"
         ],
         "type": "scatter",
         "x": [
          0.06680000000000064,
          0.0694000000000301
         ],
         "y": [
          269.6133,
          269.6133
         ]
        },
        {
         "hovertemplate": "%{text}",
         "marker": {
          "color": "black",
          "size": 7,
          "symbol": [
           "triangle-nw",
           "triangle-ne"
          ]
         },
         "mode": "markers",
         "showlegend": false,
         "text": [
          "Latency: 0.0658s<br>Fibre Index: None",
          "Offset: 0.0684s"
         ],
         "type": "scatter",
         "x": [
          0.06575000000003683,
          0.06835000000000946
         ],
         "y": [
          273.61355,
          273.61355
         ]
        },
        {
         "hovertemplate": "%{text}",
         "marker": {
          "color": "black",
          "size": 7,
          "symbol": [
           "triangle-nw",
           "triangle-ne"
          ]
         },
         "mode": "markers",
         "showlegend": false,
         "text": [
          "Latency: 0.0652s<br>Fibre Index: None",
          "Offset: 0.0678s"
         ],
         "type": "scatter",
         "x": [
          0.06519999999994752,
          0.06779999999997699
         ],
         "y": [
          277.6138,
          277.6138
         ]
        },
        {
         "hovertemplate": "%{text}",
         "marker": {
          "color": "black",
          "size": 7,
          "symbol": [
           "triangle-nw",
           "triangle-ne"
          ]
         },
         "mode": "markers",
         "showlegend": false,
         "text": [
          "Latency: 0.0648s<br>Fibre Index: None",
          "Offset: 0.0674s"
         ],
         "type": "scatter",
         "x": [
          0.06480000000004793,
          0.06740000000002055
         ],
         "y": [
          281.614,
          281.614
         ]
        },
        {
         "hovertemplate": "%{text}",
         "marker": {
          "color": "black",
          "size": 7,
          "symbol": [
           "triangle-nw",
           "triangle-ne"
          ]
         },
         "mode": "markers",
         "showlegend": false,
         "text": [
          "Latency: 0.0645s<br>Fibre Index: None",
          "Offset: 0.0671s"
         ],
         "type": "scatter",
         "x": [
          0.064549999999997,
          0.06714999999996962
         ],
         "y": [
          285.61425,
          285.61425
         ]
        },
        {
         "hovertemplate": "%{text}",
         "marker": {
          "color": "black",
          "size": 7,
          "symbol": [
           "triangle-nw",
           "triangle-ne"
          ]
         },
         "mode": "markers",
         "showlegend": false,
         "text": [
          "Latency: 0.0722s<br>Fibre Index: None",
          "Offset: 0.0747s"
         ],
         "type": "scatter",
         "x": [
          0.07215000000002192,
          0.07474999999999454
         ],
         "y": [
          289.6148,
          289.6148
         ]
        },
        {
         "hovertemplate": "%{text}",
         "marker": {
          "color": "black",
          "size": 7,
          "symbol": [
           "triangle-nw",
           "triangle-ne"
          ]
         },
         "mode": "markers",
         "showlegend": false,
         "text": [
          "Latency: 0.0677s<br>Fibre Index: None",
          "Offset: 0.0704s"
         ],
         "type": "scatter",
         "x": [
          0.06774999999998954,
          0.07035000000001901
         ],
         "y": [
          297.6153,
          297.6153
         ]
        },
        {
         "hovertemplate": "%{text}",
         "marker": {
          "color": "black",
          "size": 7,
          "symbol": [
           "triangle-nw",
           "triangle-ne"
          ]
         },
         "mode": "markers",
         "showlegend": false,
         "text": [
          "Latency: 0.0667s<br>Fibre Index: None",
          "Offset: 0.0693s"
         ],
         "type": "scatter",
         "x": [
          0.06670000000002574,
          0.06929999999999836
         ],
         "y": [
          305.61575,
          305.61575
         ]
        },
        {
         "hovertemplate": "%{text}",
         "marker": {
          "color": "black",
          "size": 7,
          "symbol": [
           "triangle-nw",
           "triangle-ne"
          ]
         },
         "mode": "markers",
         "showlegend": false,
         "text": [
          "Latency: 0.0661s<br>Fibre Index: None",
          "Offset: 0.0687s"
         ],
         "type": "scatter",
         "x": [
          0.06610000000000582,
          0.06870000000003529
         ],
         "y": [
          309.616,
          309.616
         ]
        },
        {
         "hovertemplate": "%{text}",
         "marker": {
          "color": "black",
          "size": 7,
          "symbol": [
           "triangle-nw",
           "triangle-ne"
          ]
         },
         "mode": "markers",
         "showlegend": false,
         "text": [
          "Latency: 0.0658s<br>Fibre Index: None",
          "Offset: 0.0684s"
         ],
         "type": "scatter",
         "x": [
          0.06575000000003683,
          0.06835000000000946
         ],
         "y": [
          313.61625,
          313.61625
         ]
        },
        {
         "hovertemplate": "%{text}",
         "marker": {
          "color": "black",
          "size": 7,
          "symbol": [
           "triangle-nw",
           "triangle-ne"
          ]
         },
         "mode": "markers",
         "showlegend": false,
         "text": [
          "Latency: 0.0655s<br>Fibre Index: None",
          "Offset: 0.0681s"
         ],
         "type": "scatter",
         "x": [
          0.06550000000004275,
          0.06810000000001537
         ],
         "y": [
          317.6165,
          317.6165
         ]
        },
        {
         "hovertemplate": "%{text}",
         "marker": {
          "color": "black",
          "size": 7,
          "symbol": [
           "triangle-nw",
           "triangle-ne"
          ]
         },
         "mode": "markers",
         "showlegend": false,
         "text": [
          "Latency: 0.0741s<br>Fibre Index: None",
          "Offset: 0.0767s"
         ],
         "type": "scatter",
         "x": [
          0.07409999999998718,
          0.0766999999999598
         ],
         "y": [
          321.617,
          321.617
         ]
        },
        {
         "hovertemplate": "%{text}",
         "marker": {
          "color": "black",
          "size": 7,
          "symbol": [
           "triangle-nw",
           "triangle-ne"
          ]
         },
         "mode": "markers",
         "showlegend": false,
         "text": [
          "Latency: 0.0711s<br>Fibre Index: None",
          "Offset: 0.0737s"
         ],
         "type": "scatter",
         "x": [
          0.07110000000000127,
          0.0736999999999739
         ],
         "y": [
          325.61725,
          325.61725
         ]
        },
        {
         "hovertemplate": "%{text}",
         "marker": {
          "color": "black",
          "size": 7,
          "symbol": [
           "triangle-nw",
           "triangle-ne"
          ]
         },
         "mode": "markers",
         "showlegend": false,
         "text": [
          "Latency: 0.0691s<br>Fibre Index: None",
          "Offset: 0.0716s"
         ],
         "type": "scatter",
         "x": [
          0.06905000000000427,
          0.0716499999999769
         ],
         "y": [
          329.6175,
          329.6175
         ]
        },
        {
         "hovertemplate": "%{text}",
         "marker": {
          "color": "black",
          "size": 7,
          "symbol": [
           "triangle-nw",
           "triangle-ne"
          ]
         },
         "mode": "markers",
         "showlegend": false,
         "text": [
          "Latency: 0.0681s<br>Fibre Index: None",
          "Offset: 0.0707s"
         ],
         "type": "scatter",
         "x": [
          0.06810000000001537,
          0.070699999999988
         ],
         "y": [
          333.61775,
          333.61775
         ]
        },
        {
         "hovertemplate": "%{text}",
         "marker": {
          "color": "black",
          "size": 7,
          "symbol": [
           "triangle-nw",
           "triangle-ne"
          ]
         },
         "mode": "markers",
         "showlegend": false,
         "text": [
          "Latency: 0.0679s<br>Fibre Index: None",
          "Offset: 0.0705s"
         ],
         "type": "scatter",
         "x": [
          0.06790000000000873,
          0.07049999999998136
         ],
         "y": [
          337.618,
          337.618
         ]
        },
        {
         "hovertemplate": "%{text}",
         "marker": {
          "color": "black",
          "size": 7,
          "symbol": [
           "triangle-nw",
           "triangle-ne"
          ]
         },
         "mode": "markers",
         "showlegend": false,
         "text": [
          "Latency: 0.0674s<br>Fibre Index: None",
          "Offset: 0.0700s"
         ],
         "type": "scatter",
         "x": [
          0.06740000000002055,
          0.06999999999999318
         ],
         "y": [
          341.6182,
          341.6182
         ]
        },
        {
         "hovertemplate": "%{text}",
         "marker": {
          "color": "black",
          "size": 7,
          "symbol": [
           "triangle-nw",
           "triangle-ne"
          ]
         },
         "mode": "markers",
         "showlegend": false,
         "text": [
          "Latency: 0.0671s<br>Fibre Index: None",
          "Offset: 0.0697s"
         ],
         "type": "scatter",
         "x": [
          0.06709999999998217,
          0.06970000000001164
         ],
         "y": [
          345.61845,
          345.61845
         ]
        },
        {
         "hovertemplate": "%{text}",
         "marker": {
          "color": "black",
          "size": 7,
          "symbol": [
           "triangle-nw",
           "triangle-ne"
          ]
         },
         "mode": "markers",
         "showlegend": false,
         "text": [
          "Latency: 0.0667s<br>Fibre Index: None",
          "Offset: 0.0693s"
         ],
         "type": "scatter",
         "x": [
          0.06670000000002574,
          0.06929999999999836
         ],
         "y": [
          349.6187,
          349.6187
         ]
        },
        {
         "hovertemplate": "%{text}",
         "marker": {
          "color": "black",
          "size": 7,
          "symbol": [
           "triangle-nw",
           "triangle-ne"
          ]
         },
         "mode": "markers",
         "showlegend": false,
         "text": [
          "Latency: 0.0745s<br>Fibre Index: None",
          "Offset: 0.0771s"
         ],
         "type": "scatter",
         "x": [
          0.0745499999999879,
          0.07714999999996053
         ],
         "y": [
          353.61925,
          353.61925
         ]
        },
        {
         "hovertemplate": "%{text}",
         "marker": {
          "color": "black",
          "size": 7,
          "symbol": [
           "triangle-nw",
           "triangle-ne"
          ]
         },
         "mode": "markers",
         "showlegend": false,
         "text": [
          "Latency: 0.0725s<br>Fibre Index: None",
          "Offset: 0.0750s"
         ],
         "type": "scatter",
         "x": [
          0.07245000000000346,
          0.07504999999997608
         ],
         "y": [
          357.6195,
          357.6195
         ]
        },
        {
         "hovertemplate": "%{text}",
         "marker": {
          "color": "black",
          "size": 7,
          "symbol": [
           "triangle-nw",
           "triangle-ne"
          ]
         },
         "mode": "markers",
         "showlegend": false,
         "text": [
          "Latency: 0.0708s<br>Fibre Index: None",
          "Offset: 0.0734s"
         ],
         "type": "scatter",
         "x": [
          0.07079999999996289,
          0.07339999999999236
         ],
         "y": [
          361.6197,
          361.6197
         ]
        },
        {
         "hovertemplate": "%{text}",
         "marker": {
          "color": "black",
          "size": 7,
          "symbol": [
           "triangle-nw",
           "triangle-ne"
          ]
         },
         "mode": "markers",
         "showlegend": false,
         "text": [
          "Latency: 0.0694s<br>Fibre Index: None",
          "Offset: 0.0720s"
         ],
         "type": "scatter",
         "x": [
          0.06944999999996071,
          0.07204999999999018
         ],
         "y": [
          365.61995,
          365.61995
         ]
        },
        {
         "hovertemplate": "%{text}",
         "marker": {
          "color": "black",
          "size": 7,
          "symbol": [
           "triangle-nw",
           "triangle-ne"
          ]
         },
         "mode": "markers",
         "showlegend": false,
         "text": [
          "Latency: 0.0686s<br>Fibre Index: None",
          "Offset: 0.0711s"
         ],
         "type": "scatter",
         "x": [
          0.0685500000000161,
          0.07114999999998872
         ],
         "y": [
          369.6202,
          369.6202
         ]
        },
        {
         "hovertemplate": "%{text}",
         "marker": {
          "color": "black",
          "size": 7,
          "symbol": [
           "triangle-nw",
           "triangle-ne"
          ]
         },
         "mode": "markers",
         "showlegend": false,
         "text": [
          "Latency: 0.0688s<br>Fibre Index: None",
          "Offset: 0.0714s"
         ],
         "type": "scatter",
         "x": [
          0.06880000000001019,
          0.07139999999998281
         ],
         "y": [
          373.62045,
          373.62045
         ]
        },
        {
         "hovertemplate": "%{text}",
         "marker": {
          "color": "black",
          "size": 7,
          "symbol": [
           "triangle-nw",
           "triangle-ne"
          ]
         },
         "mode": "markers",
         "showlegend": false,
         "text": [
          "Latency: 0.0684s<br>Fibre Index: None",
          "Offset: 0.0709s"
         ],
         "type": "scatter",
         "x": [
          0.06835000000000946,
          0.07094999999998208
         ],
         "y": [
          377.6207,
          377.6207
         ]
        },
        {
         "hovertemplate": "%{text}",
         "marker": {
          "color": "black",
          "size": 7,
          "symbol": [
           "triangle-nw",
           "triangle-ne"
          ]
         },
         "mode": "markers",
         "showlegend": false,
         "text": [
          "Latency: 0.0752s<br>Fibre Index: None",
          "Offset: 0.0778s"
         ],
         "type": "scatter",
         "x": [
          0.07515000000000782,
          0.07775000000003729
         ],
         "y": [
          385.62145,
          385.62145
         ]
        },
        {
         "hovertemplate": "%{text}",
         "marker": {
          "color": "black",
          "size": 7,
          "symbol": [
           "triangle-nw",
           "triangle-ne"
          ]
         },
         "mode": "markers",
         "showlegend": false,
         "text": [
          "Latency: 0.0724s<br>Fibre Index: None",
          "Offset: 0.0750s"
         ],
         "type": "scatter",
         "x": [
          0.07240000000001601,
          0.07500000000004547
         ],
         "y": [
          389.6217,
          389.6217
         ]
        },
        {
         "hovertemplate": "%{text}",
         "marker": {
          "color": "black",
          "size": 7,
          "symbol": [
           "triangle-nw",
           "triangle-ne"
          ]
         },
         "mode": "markers",
         "showlegend": false,
         "text": [
          "Latency: 0.0707s<br>Fibre Index: None",
          "Offset: 0.0733s"
         ],
         "type": "scatter",
         "x": [
          0.07074999999997544,
          0.07334999999994807
         ],
         "y": [
          393.62195,
          393.62195
         ]
        },
        {
         "hovertemplate": "%{text}",
         "marker": {
          "color": "black",
          "size": 7,
          "symbol": [
           "triangle-nw",
           "triangle-ne"
          ]
         },
         "mode": "markers",
         "showlegend": false,
         "text": [
          "Latency: 0.0700s<br>Fibre Index: None",
          "Offset: 0.0725s"
         ],
         "type": "scatter",
         "x": [
          0.06995000000000573,
          0.07254999999997835
         ],
         "y": [
          397.6222,
          397.6222
         ]
        },
        {
         "hovertemplate": "%{text}",
         "marker": {
          "color": "black",
          "size": 7,
          "symbol": [
           "triangle-nw",
           "triangle-ne"
          ]
         },
         "mode": "markers",
         "showlegend": false,
         "text": [
          "Latency: 0.0694s<br>Fibre Index: None",
          "Offset: 0.0720s"
         ],
         "type": "scatter",
         "x": [
          0.06939999999997326,
          0.07199999999994589
         ],
         "y": [
          401.6224,
          401.6224
         ]
        },
        {
         "hovertemplate": "%{text}",
         "marker": {
          "color": "black",
          "size": 7,
          "symbol": [
           "triangle-nw",
           "triangle-ne"
          ]
         },
         "mode": "markers",
         "showlegend": false,
         "text": [
          "Latency: 0.0697s<br>Fibre Index: None",
          "Offset: 0.0723s"
         ],
         "type": "scatter",
         "x": [
          0.06974999999999909,
          0.07234999999997171
         ],
         "y": [
          405.62265,
          405.62265
         ]
        },
        {
         "hovertemplate": "%{text}",
         "marker": {
          "color": "black",
          "size": 7,
          "symbol": [
           "triangle-nw",
           "triangle-ne"
          ]
         },
         "mode": "markers",
         "showlegend": false,
         "text": [
          "Latency: 0.0697s<br>Fibre Index: None",
          "Offset: 0.0723s"
         ],
         "type": "scatter",
         "x": [
          0.06974999999999909,
          0.07234999999997171
         ],
         "y": [
          409.6229,
          409.6229
         ]
        },
        {
         "hovertemplate": "%{text}",
         "marker": {
          "color": "black",
          "size": 7,
          "symbol": [
           "triangle-nw",
           "triangle-ne"
          ]
         },
         "mode": "markers",
         "showlegend": false,
         "text": [
          "Latency: 0.0777s<br>Fibre Index: None",
          "Offset: 0.0803s"
         ],
         "type": "scatter",
         "x": [
          0.077699999999993,
          0.08030000000002246
         ],
         "y": [
          417.6237,
          417.6237
         ]
        },
        {
         "hovertemplate": "%{text}",
         "marker": {
          "color": "black",
          "size": 7,
          "symbol": [
           "triangle-nw",
           "triangle-ne"
          ]
         },
         "mode": "markers",
         "showlegend": false,
         "text": [
          "Latency: 0.0752s<br>Fibre Index: None",
          "Offset: 0.0778s"
         ],
         "type": "scatter",
         "x": [
          0.07519999999999527,
          0.07780000000002474
         ],
         "y": [
          421.6239,
          421.6239
         ]
        },
        {
         "hovertemplate": "%{text}",
         "marker": {
          "color": "black",
          "size": 7,
          "symbol": [
           "triangle-nw",
           "triangle-ne"
          ]
         },
         "mode": "markers",
         "showlegend": false,
         "text": [
          "Latency: 0.0731s<br>Fibre Index: None",
          "Offset: 0.0757s"
         ],
         "type": "scatter",
         "x": [
          0.07310000000001082,
          0.07570000000004029
         ],
         "y": [
          425.62415,
          425.62415
         ]
        },
        {
         "hovertemplate": "%{text}",
         "marker": {
          "color": "black",
          "size": 7,
          "symbol": [
           "triangle-nw",
           "triangle-ne"
          ]
         },
         "mode": "markers",
         "showlegend": false,
         "text": [
          "Latency: 0.0721s<br>Fibre Index: None",
          "Offset: 0.0747s"
         ],
         "type": "scatter",
         "x": [
          0.07210000000003447,
          0.0747000000000071
         ],
         "y": [
          429.6244,
          429.6244
         ]
        },
        {
         "hovertemplate": "%{text}",
         "marker": {
          "color": "black",
          "size": 7,
          "symbol": [
           "triangle-nw",
           "triangle-ne"
          ]
         },
         "mode": "markers",
         "showlegend": false,
         "text": [
          "Latency: 0.0718s<br>Fibre Index: None",
          "Offset: 0.0744s"
         ],
         "type": "scatter",
         "x": [
          0.07175000000000864,
          0.07435000000003811
         ],
         "y": [
          433.62465,
          433.62465
         ]
        },
        {
         "line": {
          "color": "red",
          "width": 0.75
         },
         "mode": "lines",
         "name": "AP Track",
         "type": "scatter",
         "x": [
          0.05664999999999987,
          0.056550000000000544,
          0.05670000000000108,
          0.05680000000000085,
          0.057000000000000384,
          0.05729999999999791,
          0.05765000000000242,
          0.06265000000000498,
          0.06119999999999948,
          0.06044999999999945,
          0.05964999999999776,
          0.05979999999999919,
          0.059899999999998954,
          0.060549999999999216,
          0.060050000000003934,
          0.06494999999999607,
          0.06345000000000312,
          0.06244999999999834,
          0.061599999999998545,
          0.06074999999999875,
          0.06034999999999968,
          0.06030000000000513,
          0.06051038961038975,
          0.06235892151326947,
          0.06453209109730862,
          0.0638239273480144,
          0.06333607129102792,
          0.0627308363166625,
          0.06241025742695315,
          0.06203155045842608,
          0.06119583199564616,
          0.06305258665114574,
          0.06515369614535509,
          0.06349571473047344,
          0.06280457823537795,
          0.062420668631038734,
          0.06198977489971544,
          0.06231263492214584,
          0.062274186267478104,
          0.06303303855747973,
          0.06306932674491728,
          0.06310415151772066,
          0.06313758256230105,
          0.06276968470322696,
          0.06276415470884632,
          0.0627570085528495,
          0.0627483165031329,
          0.06313814434240798,
          0.0635598870753,
          0.06401326246125334,
          0.06369798478598213,
          0.06295102083620112,
          0.06294191510663132,
          0.06333164827401358,
          0.06294989297179415,
          0.06373823867967576,
          0.06818268828366128,
          0.06733540856433849,
          0.0656075480827653,
          0.06534549706933936,
          0.06545700537794734,
          0.06516851368655532,
          0.06525421554355035,
          0.06573971258743738,
          0.07105001121862597,
          0.0694803098498146,
          0.06819182060221532,
          0.06720925627546631,
          0.06655680608392367,
          0.06625814958377066,
          0.06593647030929045,
          0.06599193389195307,
          0.0712469279910477,
          0.06998639697598706,
          0.0686408604074277,
          0.0684108553703999,
          0.06776007840354749,
          0.06706787970053656,
          0.06713452215636671,
          0.06720077512826314,
          0.07246664835332411,
          0.07078894133147148,
          0.06941487779049817,
          0.06916429353251037,
          0.06889477640016807,
          0.06820643573841394,
          0.06828077633520978,
          0.06715479616215801,
          0.07397395705493695,
          0.0722981230549682,
          0.07093449879282711,
          0.07070113094094253,
          0.07005056289794463,
          0.06976567975443251,
          0.0698636838220848,
          0.07196150871840458,
          0.0737424915094612,
          0.07238971141391987,
          0.07137221429754965,
          0.07110647970437045,
          0.07482474511119122,
          0.07108550556751703,
          0.07119002451733916,
          0.07089439117323408,
          0.07698322384854649,
          0.07490040817221041,
          0.07352788899183137
         ],
         "y": [
          5.5959,
          9.59615,
          13.5964,
          17.5966,
          21.59685,
          25.5971,
          29.59735,
          33.59775,
          37.598,
          41.59825,
          45.5985,
          49.5987,
          53.59895,
          57.5992,
          61.59945,
          65.59985,
          69.6001,
          73.60035,
          77.6006,
          81.6008,
          85.60105,
          89.6013,
          93.60155,
          97.60195,
          101.6022,
          105.60245,
          109.6027,
          113.6029,
          117.60315,
          121.6034,
          125.60365,
          129.60405,
          133.6043,
          137.60455,
          141.6048,
          145.605,
          149.60525,
          153.6055,
          157.60575,
          161.6061,
          165.60635,
          169.6066,
          173.6068,
          177.60705,
          181.6073,
          185.60755,
          189.6078,
          193.60815,
          197.6084,
          201.6086,
          205.60885,
          209.6091,
          213.60935,
          217.6096,
          221.6098,
          225.61035,
          229.6106,
          233.61085,
          237.6111,
          241.6113,
          245.61155,
          249.6118,
          253.61205,
          257.6126,
          261.6128,
          265.61305,
          269.6133,
          273.61355,
          277.6138,
          281.614,
          285.61425,
          289.6148,
          293.61505,
          297.6153,
          301.6155,
          305.61575,
          309.616,
          313.61625,
          317.6165,
          321.617,
          325.61725,
          329.6175,
          333.61775,
          337.618,
          341.6182,
          345.61845,
          349.6187,
          353.61925,
          357.6195,
          361.6197,
          365.61995,
          369.6202,
          373.62045,
          377.6207,
          381.6209,
          385.62145,
          389.6217,
          393.62195,
          397.6222,
          401.6224,
          405.62265,
          409.6229,
          413.62315,
          417.6237,
          421.6239,
          425.62415,
          429.6244
         ]
        }
       ],
       "layout": {
        "height": 600,
        "template": {
         "data": {
          "bar": [
           {
            "error_x": {
             "color": "#2a3f5f"
            },
            "error_y": {
             "color": "#2a3f5f"
            },
            "marker": {
             "line": {
              "color": "#E5ECF6",
              "width": 0.5
             }
            },
            "type": "bar"
           }
          ],
          "barpolar": [
           {
            "marker": {
             "line": {
              "color": "#E5ECF6",
              "width": 0.5
             }
            },
            "type": "barpolar"
           }
          ],
          "carpet": [
           {
            "aaxis": {
             "endlinecolor": "#2a3f5f",
             "gridcolor": "white",
             "linecolor": "white",
             "minorgridcolor": "white",
             "startlinecolor": "#2a3f5f"
            },
            "baxis": {
             "endlinecolor": "#2a3f5f",
             "gridcolor": "white",
             "linecolor": "white",
             "minorgridcolor": "white",
             "startlinecolor": "#2a3f5f"
            },
            "type": "carpet"
           }
          ],
          "choropleth": [
           {
            "colorbar": {
             "outlinewidth": 0,
             "ticks": ""
            },
            "type": "choropleth"
           }
          ],
          "contour": [
           {
            "colorbar": {
             "outlinewidth": 0,
             "ticks": ""
            },
            "colorscale": [
             [
              0,
              "#0d0887"
             ],
             [
              0.1111111111111111,
              "#46039f"
             ],
             [
              0.2222222222222222,
              "#7201a8"
             ],
             [
              0.3333333333333333,
              "#9c179e"
             ],
             [
              0.4444444444444444,
              "#bd3786"
             ],
             [
              0.5555555555555556,
              "#d8576b"
             ],
             [
              0.6666666666666666,
              "#ed7953"
             ],
             [
              0.7777777777777778,
              "#fb9f3a"
             ],
             [
              0.8888888888888888,
              "#fdca26"
             ],
             [
              1,
              "#f0f921"
             ]
            ],
            "type": "contour"
           }
          ],
          "contourcarpet": [
           {
            "colorbar": {
             "outlinewidth": 0,
             "ticks": ""
            },
            "type": "contourcarpet"
           }
          ],
          "heatmap": [
           {
            "colorbar": {
             "outlinewidth": 0,
             "ticks": ""
            },
            "colorscale": [
             [
              0,
              "#0d0887"
             ],
             [
              0.1111111111111111,
              "#46039f"
             ],
             [
              0.2222222222222222,
              "#7201a8"
             ],
             [
              0.3333333333333333,
              "#9c179e"
             ],
             [
              0.4444444444444444,
              "#bd3786"
             ],
             [
              0.5555555555555556,
              "#d8576b"
             ],
             [
              0.6666666666666666,
              "#ed7953"
             ],
             [
              0.7777777777777778,
              "#fb9f3a"
             ],
             [
              0.8888888888888888,
              "#fdca26"
             ],
             [
              1,
              "#f0f921"
             ]
            ],
            "type": "heatmap"
           }
          ],
          "heatmapgl": [
           {
            "colorbar": {
             "outlinewidth": 0,
             "ticks": ""
            },
            "colorscale": [
             [
              0,
              "#0d0887"
             ],
             [
              0.1111111111111111,
              "#46039f"
             ],
             [
              0.2222222222222222,
              "#7201a8"
             ],
             [
              0.3333333333333333,
              "#9c179e"
             ],
             [
              0.4444444444444444,
              "#bd3786"
             ],
             [
              0.5555555555555556,
              "#d8576b"
             ],
             [
              0.6666666666666666,
              "#ed7953"
             ],
             [
              0.7777777777777778,
              "#fb9f3a"
             ],
             [
              0.8888888888888888,
              "#fdca26"
             ],
             [
              1,
              "#f0f921"
             ]
            ],
            "type": "heatmapgl"
           }
          ],
          "histogram": [
           {
            "marker": {
             "colorbar": {
              "outlinewidth": 0,
              "ticks": ""
             }
            },
            "type": "histogram"
           }
          ],
          "histogram2d": [
           {
            "colorbar": {
             "outlinewidth": 0,
             "ticks": ""
            },
            "colorscale": [
             [
              0,
              "#0d0887"
             ],
             [
              0.1111111111111111,
              "#46039f"
             ],
             [
              0.2222222222222222,
              "#7201a8"
             ],
             [
              0.3333333333333333,
              "#9c179e"
             ],
             [
              0.4444444444444444,
              "#bd3786"
             ],
             [
              0.5555555555555556,
              "#d8576b"
             ],
             [
              0.6666666666666666,
              "#ed7953"
             ],
             [
              0.7777777777777778,
              "#fb9f3a"
             ],
             [
              0.8888888888888888,
              "#fdca26"
             ],
             [
              1,
              "#f0f921"
             ]
            ],
            "type": "histogram2d"
           }
          ],
          "histogram2dcontour": [
           {
            "colorbar": {
             "outlinewidth": 0,
             "ticks": ""
            },
            "colorscale": [
             [
              0,
              "#0d0887"
             ],
             [
              0.1111111111111111,
              "#46039f"
             ],
             [
              0.2222222222222222,
              "#7201a8"
             ],
             [
              0.3333333333333333,
              "#9c179e"
             ],
             [
              0.4444444444444444,
              "#bd3786"
             ],
             [
              0.5555555555555556,
              "#d8576b"
             ],
             [
              0.6666666666666666,
              "#ed7953"
             ],
             [
              0.7777777777777778,
              "#fb9f3a"
             ],
             [
              0.8888888888888888,
              "#fdca26"
             ],
             [
              1,
              "#f0f921"
             ]
            ],
            "type": "histogram2dcontour"
           }
          ],
          "mesh3d": [
           {
            "colorbar": {
             "outlinewidth": 0,
             "ticks": ""
            },
            "type": "mesh3d"
           }
          ],
          "parcoords": [
           {
            "line": {
             "colorbar": {
              "outlinewidth": 0,
              "ticks": ""
             }
            },
            "type": "parcoords"
           }
          ],
          "pie": [
           {
            "automargin": true,
            "type": "pie"
           }
          ],
          "scatter": [
           {
            "marker": {
             "colorbar": {
              "outlinewidth": 0,
              "ticks": ""
             }
            },
            "type": "scatter"
           }
          ],
          "scatter3d": [
           {
            "line": {
             "colorbar": {
              "outlinewidth": 0,
              "ticks": ""
             }
            },
            "marker": {
             "colorbar": {
              "outlinewidth": 0,
              "ticks": ""
             }
            },
            "type": "scatter3d"
           }
          ],
          "scattercarpet": [
           {
            "marker": {
             "colorbar": {
              "outlinewidth": 0,
              "ticks": ""
             }
            },
            "type": "scattercarpet"
           }
          ],
          "scattergeo": [
           {
            "marker": {
             "colorbar": {
              "outlinewidth": 0,
              "ticks": ""
             }
            },
            "type": "scattergeo"
           }
          ],
          "scattergl": [
           {
            "marker": {
             "colorbar": {
              "outlinewidth": 0,
              "ticks": ""
             }
            },
            "type": "scattergl"
           }
          ],
          "scattermapbox": [
           {
            "marker": {
             "colorbar": {
              "outlinewidth": 0,
              "ticks": ""
             }
            },
            "type": "scattermapbox"
           }
          ],
          "scatterpolar": [
           {
            "marker": {
             "colorbar": {
              "outlinewidth": 0,
              "ticks": ""
             }
            },
            "type": "scatterpolar"
           }
          ],
          "scatterpolargl": [
           {
            "marker": {
             "colorbar": {
              "outlinewidth": 0,
              "ticks": ""
             }
            },
            "type": "scatterpolargl"
           }
          ],
          "scatterternary": [
           {
            "marker": {
             "colorbar": {
              "outlinewidth": 0,
              "ticks": ""
             }
            },
            "type": "scatterternary"
           }
          ],
          "surface": [
           {
            "colorbar": {
             "outlinewidth": 0,
             "ticks": ""
            },
            "colorscale": [
             [
              0,
              "#0d0887"
             ],
             [
              0.1111111111111111,
              "#46039f"
             ],
             [
              0.2222222222222222,
              "#7201a8"
             ],
             [
              0.3333333333333333,
              "#9c179e"
             ],
             [
              0.4444444444444444,
              "#bd3786"
             ],
             [
              0.5555555555555556,
              "#d8576b"
             ],
             [
              0.6666666666666666,
              "#ed7953"
             ],
             [
              0.7777777777777778,
              "#fb9f3a"
             ],
             [
              0.8888888888888888,
              "#fdca26"
             ],
             [
              1,
              "#f0f921"
             ]
            ],
            "type": "surface"
           }
          ],
          "table": [
           {
            "cells": {
             "fill": {
              "color": "#EBF0F8"
             },
             "line": {
              "color": "white"
             }
            },
            "header": {
             "fill": {
              "color": "#C8D4E3"
             },
             "line": {
              "color": "white"
             }
            },
            "type": "table"
           }
          ]
         },
         "layout": {
          "annotationdefaults": {
           "arrowcolor": "#2a3f5f",
           "arrowhead": 0,
           "arrowwidth": 1
          },
          "coloraxis": {
           "colorbar": {
            "outlinewidth": 0,
            "ticks": ""
           }
          },
          "colorscale": {
           "diverging": [
            [
             0,
             "#8e0152"
            ],
            [
             0.1,
             "#c51b7d"
            ],
            [
             0.2,
             "#de77ae"
            ],
            [
             0.3,
             "#f1b6da"
            ],
            [
             0.4,
             "#fde0ef"
            ],
            [
             0.5,
             "#f7f7f7"
            ],
            [
             0.6,
             "#e6f5d0"
            ],
            [
             0.7,
             "#b8e186"
            ],
            [
             0.8,
             "#7fbc41"
            ],
            [
             0.9,
             "#4d9221"
            ],
            [
             1,
             "#276419"
            ]
           ],
           "sequential": [
            [
             0,
             "#0d0887"
            ],
            [
             0.1111111111111111,
             "#46039f"
            ],
            [
             0.2222222222222222,
             "#7201a8"
            ],
            [
             0.3333333333333333,
             "#9c179e"
            ],
            [
             0.4444444444444444,
             "#bd3786"
            ],
            [
             0.5555555555555556,
             "#d8576b"
            ],
            [
             0.6666666666666666,
             "#ed7953"
            ],
            [
             0.7777777777777778,
             "#fb9f3a"
            ],
            [
             0.8888888888888888,
             "#fdca26"
            ],
            [
             1,
             "#f0f921"
            ]
           ],
           "sequentialminus": [
            [
             0,
             "#0d0887"
            ],
            [
             0.1111111111111111,
             "#46039f"
            ],
            [
             0.2222222222222222,
             "#7201a8"
            ],
            [
             0.3333333333333333,
             "#9c179e"
            ],
            [
             0.4444444444444444,
             "#bd3786"
            ],
            [
             0.5555555555555556,
             "#d8576b"
            ],
            [
             0.6666666666666666,
             "#ed7953"
            ],
            [
             0.7777777777777778,
             "#fb9f3a"
            ],
            [
             0.8888888888888888,
             "#fdca26"
            ],
            [
             1,
             "#f0f921"
            ]
           ]
          },
          "colorway": [
           "#636efa",
           "#EF553B",
           "#00cc96",
           "#ab63fa",
           "#FFA15A",
           "#19d3f3",
           "#FF6692",
           "#B6E880",
           "#FF97FF",
           "#FECB52"
          ],
          "font": {
           "color": "#2a3f5f"
          },
          "geo": {
           "bgcolor": "white",
           "lakecolor": "white",
           "landcolor": "#E5ECF6",
           "showlakes": true,
           "showland": true,
           "subunitcolor": "white"
          },
          "hoverlabel": {
           "align": "left"
          },
          "hovermode": "closest",
          "mapbox": {
           "style": "light"
          },
          "paper_bgcolor": "white",
          "plot_bgcolor": "#E5ECF6",
          "polar": {
           "angularaxis": {
            "gridcolor": "white",
            "linecolor": "white",
            "ticks": ""
           },
           "bgcolor": "#E5ECF6",
           "radialaxis": {
            "gridcolor": "white",
            "linecolor": "white",
            "ticks": ""
           }
          },
          "scene": {
           "xaxis": {
            "backgroundcolor": "#E5ECF6",
            "gridcolor": "white",
            "gridwidth": 2,
            "linecolor": "white",
            "showbackground": true,
            "ticks": "",
            "zerolinecolor": "white"
           },
           "yaxis": {
            "backgroundcolor": "#E5ECF6",
            "gridcolor": "white",
            "gridwidth": 2,
            "linecolor": "white",
            "showbackground": true,
            "ticks": "",
            "zerolinecolor": "white"
           },
           "zaxis": {
            "backgroundcolor": "#E5ECF6",
            "gridcolor": "white",
            "gridwidth": 2,
            "linecolor": "white",
            "showbackground": true,
            "ticks": "",
            "zerolinecolor": "white"
           }
          },
          "shapedefaults": {
           "line": {
            "color": "#2a3f5f"
           }
          },
          "ternary": {
           "aaxis": {
            "gridcolor": "white",
            "linecolor": "white",
            "ticks": ""
           },
           "baxis": {
            "gridcolor": "white",
            "linecolor": "white",
            "ticks": ""
           },
           "bgcolor": "#E5ECF6",
           "caxis": {
            "gridcolor": "white",
            "linecolor": "white",
            "ticks": ""
           }
          },
          "title": {
           "x": 0.05
          },
          "xaxis": {
           "automargin": true,
           "gridcolor": "white",
           "linecolor": "white",
           "ticks": "",
           "title": {
            "standoff": 15
           },
           "zerolinecolor": "white",
           "zerolinewidth": 2
          },
          "yaxis": {
           "automargin": true,
           "gridcolor": "white",
           "linecolor": "white",
           "ticks": "",
           "title": {
            "standoff": 15
           },
           "zerolinecolor": "white",
           "zerolinewidth": 2
          }
         }
        },
        "width": 1000,
        "xaxis": {
         "title": {
          "text": "Latency (s)"
         }
        },
        "yaxis": {
         "autorange": "reversed",
         "title": {
          "text": "Time (s)"
         }
        }
       }
      },
      "text/html": [
       "<div>\n",
       "        \n",
       "        \n",
       "            <div id=\"f5691655-b2d9-4545-ab53-7ee085e29fd5\" class=\"plotly-graph-div\" style=\"height:600px; width:1000px;\"></div>\n",
       "            <script type=\"text/javascript\">\n",
       "                require([\"plotly\"], function(Plotly) {\n",
       "                    window.PLOTLYENV=window.PLOTLYENV || {};\n",
       "                    \n",
       "                if (document.getElementById(\"f5691655-b2d9-4545-ab53-7ee085e29fd5\")) {\n",
       "                    Plotly.newPlot(\n",
       "                        'f5691655-b2d9-4545-ab53-7ee085e29fd5',\n",
       "                        [{\"hovertemplate\": \"%{text}\", \"marker\": {\"color\": \"Black\", \"symbol\": \"star\"}, \"mode\": \"markers\", \"name\": \"Electrical Stimuli\", \"text\": [\"time = 9.5961s<br>Index = 0\", \"time = 13.5964s<br>Index = 1\", \"time = 17.5966s<br>Index = 2\", \"time = 21.5968s<br>Index = 3\", \"time = 25.5971s<br>Index = 4\", \"time = 29.5973s<br>Index = 5\", \"time = 33.5977s<br>Index = 6\", \"time = 37.5980s<br>Index = 7\", \"time = 41.5983s<br>Index = 8\", \"time = 45.5985s<br>Index = 9\", \"time = 49.5987s<br>Index = 10\", \"time = 53.5990s<br>Index = 11\", \"time = 57.5992s<br>Index = 12\", \"time = 61.5994s<br>Index = 13\", \"time = 65.5999s<br>Index = 14\", \"time = 69.6001s<br>Index = 15\", \"time = 73.6004s<br>Index = 16\", \"time = 77.6006s<br>Index = 17\", \"time = 81.6008s<br>Index = 18\", \"time = 85.6011s<br>Index = 19\", \"time = 89.6013s<br>Index = 20\", \"time = 93.6016s<br>Index = 21\", \"time = 97.6020s<br>Index = 22\", \"time = 101.6022s<br>Index = 23\", \"time = 105.6025s<br>Index = 24\", \"time = 109.6027s<br>Index = 25\", \"time = 113.6029s<br>Index = 26\", \"time = 117.6031s<br>Index = 27\", \"time = 121.6034s<br>Index = 28\", \"time = 125.6037s<br>Index = 29\", \"time = 129.6041s<br>Index = 30\", \"time = 133.6043s<br>Index = 31\", \"time = 137.6045s<br>Index = 32\", \"time = 141.6048s<br>Index = 33\", \"time = 145.6050s<br>Index = 34\", \"time = 149.6053s<br>Index = 35\", \"time = 153.6055s<br>Index = 36\", \"time = 157.6058s<br>Index = 37\", \"time = 161.6061s<br>Index = 38\", \"time = 165.6063s<br>Index = 39\", \"time = 169.6066s<br>Index = 40\", \"time = 173.6068s<br>Index = 41\", \"time = 177.6070s<br>Index = 42\", \"time = 181.6073s<br>Index = 43\", \"time = 185.6076s<br>Index = 44\", \"time = 189.6078s<br>Index = 45\", \"time = 193.6081s<br>Index = 46\", \"time = 197.6084s<br>Index = 47\", \"time = 201.6086s<br>Index = 48\", \"time = 205.6088s<br>Index = 49\", \"time = 209.6091s<br>Index = 50\", \"time = 213.6094s<br>Index = 51\", \"time = 217.6096s<br>Index = 52\", \"time = 221.6098s<br>Index = 53\", \"time = 225.6104s<br>Index = 54\", \"time = 229.6106s<br>Index = 55\", \"time = 233.6108s<br>Index = 56\", \"time = 237.6111s<br>Index = 57\", \"time = 241.6113s<br>Index = 58\", \"time = 245.6115s<br>Index = 59\", \"time = 249.6118s<br>Index = 60\", \"time = 253.6121s<br>Index = 61\", \"time = 257.6126s<br>Index = 62\", \"time = 261.6128s<br>Index = 63\", \"time = 265.6130s<br>Index = 64\", \"time = 269.6133s<br>Index = 65\", \"time = 273.6135s<br>Index = 66\", \"time = 277.6138s<br>Index = 67\", \"time = 281.6140s<br>Index = 68\", \"time = 285.6143s<br>Index = 69\", \"time = 289.6148s<br>Index = 70\", \"time = 293.6150s<br>Index = 71\", \"time = 297.6153s<br>Index = 72\", \"time = 301.6155s<br>Index = 73\", \"time = 305.6157s<br>Index = 74\", \"time = 309.6160s<br>Index = 75\", \"time = 313.6162s<br>Index = 76\", \"time = 317.6165s<br>Index = 77\", \"time = 321.6170s<br>Index = 78\", \"time = 325.6173s<br>Index = 79\", \"time = 329.6175s<br>Index = 80\", \"time = 333.6178s<br>Index = 81\", \"time = 337.6180s<br>Index = 82\", \"time = 341.6182s<br>Index = 83\", \"time = 345.6184s<br>Index = 84\", \"time = 349.6187s<br>Index = 85\", \"time = 353.6193s<br>Index = 86\", \"time = 357.6195s<br>Index = 87\", \"time = 361.6197s<br>Index = 88\", \"time = 365.6200s<br>Index = 89\", \"time = 369.6202s<br>Index = 90\", \"time = 373.6205s<br>Index = 91\", \"time = 377.6207s<br>Index = 92\", \"time = 381.6209s<br>Index = 93\", \"time = 385.6214s<br>Index = 94\", \"time = 389.6217s<br>Index = 95\", \"time = 393.6220s<br>Index = 96\", \"time = 397.6222s<br>Index = 97\", \"time = 401.6224s<br>Index = 98\", \"time = 405.6227s<br>Index = 99\", \"time = 409.6229s<br>Index = 100\", \"time = 413.6232s<br>Index = 101\", \"time = 417.6237s<br>Index = 102\", \"time = 421.6239s<br>Index = 103\", \"time = 425.6241s<br>Index = 104\", \"time = 429.6244s<br>Index = 105\", \"time = 433.6246s<br>Index = 106\"], \"type\": \"scatter\", \"x\": [0, 0, 0, 0, 0, 0, 0, 0, 0, 0, 0, 0, 0, 0, 0, 0, 0, 0, 0, 0, 0, 0, 0, 0, 0, 0, 0, 0, 0, 0, 0, 0, 0, 0, 0, 0, 0, 0, 0, 0, 0, 0, 0, 0, 0, 0, 0, 0, 0, 0, 0, 0, 0, 0, 0, 0, 0, 0, 0, 0, 0, 0, 0, 0, 0, 0, 0, 0, 0, 0, 0, 0, 0, 0, 0, 0, 0, 0, 0, 0, 0, 0, 0, 0, 0, 0, 0, 0, 0, 0, 0, 0, 0, 0, 0, 0, 0, 0, 0, 0, 0, 0, 0, 0, 0, 0, 0], \"y\": [9.59615, 13.5964, 17.5966, 21.59685, 25.5971, 29.59735, 33.59775, 37.598, 41.59825, 45.5985, 49.5987, 53.59895, 57.5992, 61.59945, 65.59985, 69.6001, 73.60035, 77.6006, 81.6008, 85.60105, 89.6013, 93.60155, 97.60195, 101.6022, 105.60245, 109.6027, 113.6029, 117.60315, 121.6034, 125.60365, 129.60405, 133.6043, 137.60455, 141.6048, 145.605, 149.60525, 153.6055, 157.60575, 161.6061, 165.60635, 169.6066, 173.6068, 177.60705, 181.6073, 185.60755, 189.6078, 193.60815, 197.6084, 201.6086, 205.60885, 209.6091, 213.60935, 217.6096, 221.6098, 225.61035, 229.6106, 233.61085, 237.6111, 241.6113, 245.61155, 249.6118, 253.61205, 257.6126, 261.6128, 265.61305, 269.6133, 273.61355, 277.6138, 281.614, 285.61425, 289.6148, 293.61505, 297.6153, 301.6155, 305.61575, 309.616, 313.61625, 317.6165, 321.617, 325.61725, 329.6175, 333.61775, 337.618, 341.6182, 345.61845, 349.6187, 353.61925, 357.6195, 361.6197, 365.61995, 369.6202, 373.62045, 377.6207, 381.6209, 385.62145, 389.6217, 393.62195, 397.6222, 401.6224, 405.62265, 409.6229, 413.62315, 417.6237, 421.6239, 425.62415, 429.6244, 433.62465]}, {\"hovertemplate\": \"%{text}\", \"marker\": {\"color\": \"black\", \"size\": 7, \"symbol\": [\"triangle-nw\", \"triangle-ne\"]}, \"mode\": \"markers\", \"showlegend\": false, \"text\": [\"Latency: 0.0553s<br>Fibre Index: None\", \"Offset: 0.0579s\"], \"type\": \"scatter\", \"x\": [0.05525000000000091, 0.05785000000000018], \"y\": [9.59615, 9.59615]}, {\"hovertemplate\": \"%{text}\", \"marker\": {\"color\": \"black\", \"size\": 7, \"symbol\": [\"triangle-nw\", \"triangle-ne\"]}, \"mode\": \"markers\", \"showlegend\": false, \"text\": [\"Latency: 0.0554s<br>Fibre Index: None\", \"Offset: 0.0580s\"], \"type\": \"scatter\", \"x\": [0.05540000000000056, 0.058000000000001606], \"y\": [13.5964, 13.5964]}, {\"hovertemplate\": \"%{text}\", \"marker\": {\"color\": \"black\", \"size\": 7, \"symbol\": [\"triangle-nw\", \"triangle-ne\"]}, \"mode\": \"markers\", \"showlegend\": false, \"text\": [\"Latency: 0.0555s<br>Fibre Index: None\", \"Offset: 0.0581s\"], \"type\": \"scatter\", \"x\": [0.0555000000000021, 0.058099999999999596], \"y\": [17.5966, 17.5966]}, {\"hovertemplate\": \"%{text}\", \"marker\": {\"color\": \"black\", \"size\": 7, \"symbol\": [\"triangle-nw\", \"triangle-ne\"]}, \"mode\": \"markers\", \"showlegend\": false, \"text\": [\"Latency: 0.0557s<br>Fibre Index: None\", \"Offset: 0.0583s\"], \"type\": \"scatter\", \"x\": [0.05570000000000164, 0.05829999999999913], \"y\": [21.59685, 21.59685]}, {\"hovertemplate\": \"%{text}\", \"marker\": {\"color\": \"black\", \"size\": 7, \"symbol\": [\"triangle-nw\", \"triangle-ne\"]}, \"mode\": \"markers\", \"showlegend\": false, \"text\": [\"Latency: 0.0898s<br>Fibre Index: None\", \"Offset: 0.0924s\"], \"type\": \"scatter\", \"x\": [0.08980000000000032, 0.09240000000000137], \"y\": [21.59685, 21.59685]}, {\"hovertemplate\": \"%{text}\", \"marker\": {\"color\": \"black\", \"size\": 7, \"symbol\": [\"triangle-nw\", \"triangle-ne\"]}, \"mode\": \"markers\", \"showlegend\": false, \"text\": [\"Latency: 0.0560s<br>Fibre Index: None\", \"Offset: 0.0586s\"], \"type\": \"scatter\", \"x\": [0.055999999999997385, 0.05859999999999843], \"y\": [25.5971, 25.5971]}, {\"hovertemplate\": \"%{text}\", \"marker\": {\"color\": \"black\", \"size\": 7, \"symbol\": [\"triangle-nw\", \"triangle-ne\"]}, \"mode\": \"markers\", \"showlegend\": false, \"text\": [\"Latency: 0.0875s<br>Fibre Index: None\", \"Offset: 0.0901s\"], \"type\": \"scatter\", \"x\": [0.08749999999999858, 0.09009999999999962], \"y\": [25.5971, 25.5971]}, {\"hovertemplate\": \"%{text}\", \"marker\": {\"color\": \"black\", \"size\": 7, \"symbol\": [\"triangle-nw\", \"triangle-ne\"]}, \"mode\": \"markers\", \"showlegend\": false, \"text\": [\"Latency: 0.0564s<br>Fibre Index: None\", \"Offset: 0.0590s\"], \"type\": \"scatter\", \"x\": [0.0563500000000019, 0.058950000000002944], \"y\": [29.59735, 29.59735]}, {\"hovertemplate\": \"%{text}\", \"marker\": {\"color\": \"black\", \"size\": 7, \"symbol\": [\"triangle-nw\", \"triangle-ne\"]}, \"mode\": \"markers\", \"showlegend\": false, \"text\": [\"Latency: 0.0614s<br>Fibre Index: None\", \"Offset: 0.0640s\"], \"type\": \"scatter\", \"x\": [0.061350000000004457, 0.0639500000000055], \"y\": [33.59775, 33.59775]}, {\"hovertemplate\": \"%{text}\", \"marker\": {\"color\": \"black\", \"size\": 7, \"symbol\": [\"triangle-nw\", \"triangle-ne\"]}, \"mode\": \"markers\", \"showlegend\": false, \"text\": [\"Latency: 0.0724s<br>Fibre Index: None\", \"Offset: 0.0750s\"], \"type\": \"scatter\", \"x\": [0.07235000000000014, 0.07495000000000118], \"y\": [33.59775, 33.59775]}, {\"hovertemplate\": \"%{text}\", \"marker\": {\"color\": \"black\", \"size\": 7, \"symbol\": [\"triangle-nw\", \"triangle-ne\"]}, \"mode\": \"markers\", \"showlegend\": false, \"text\": [\"Latency: 0.0599s<br>Fibre Index: None\", \"Offset: 0.0625s\"], \"type\": \"scatter\", \"x\": [0.059899999999998954, 0.0625], \"y\": [37.598, 37.598]}, {\"hovertemplate\": \"%{text}\", \"marker\": {\"color\": \"black\", \"size\": 7, \"symbol\": [\"triangle-nw\", \"triangle-ne\"]}, \"mode\": \"markers\", \"showlegend\": false, \"text\": [\"Latency: 0.0946s<br>Fibre Index: None\", \"Offset: 0.0972s\"], \"type\": \"scatter\", \"x\": [0.0945999999999998, 0.09720000000000084], \"y\": [37.598, 37.598]}, {\"hovertemplate\": \"%{text}\", \"marker\": {\"color\": \"black\", \"size\": 7, \"symbol\": [\"triangle-nw\", \"triangle-ne\"]}, \"mode\": \"markers\", \"showlegend\": false, \"text\": [\"Latency: 0.0592s<br>Fibre Index: None\", \"Offset: 0.0617s\"], \"type\": \"scatter\", \"x\": [0.05915000000000248, 0.06174999999999642], \"y\": [41.59825, 41.59825]}, {\"hovertemplate\": \"%{text}\", \"marker\": {\"color\": \"black\", \"size\": 7, \"symbol\": [\"triangle-nw\", \"triangle-ne\"]}, \"mode\": \"markers\", \"showlegend\": false, \"text\": [\"Latency: 0.0583s<br>Fibre Index: None\", \"Offset: 0.0609s\"], \"type\": \"scatter\", \"x\": [0.05834999999999724, 0.06094999999999828], \"y\": [45.5985, 45.5985]}, {\"hovertemplate\": \"%{text}\", \"marker\": {\"color\": \"black\", \"size\": 7, \"symbol\": [\"triangle-nw\", \"triangle-ne\"]}, \"mode\": \"markers\", \"showlegend\": false, \"text\": [\"Latency: 0.0898s<br>Fibre Index: None\", \"Offset: 0.0924s\"], \"type\": \"scatter\", \"x\": [0.08984999999999843, 0.09244999999999948], \"y\": [45.5985, 45.5985]}, {\"hovertemplate\": \"%{text}\", \"marker\": {\"color\": \"black\", \"size\": 7, \"symbol\": [\"triangle-nw\", \"triangle-ne\"]}, \"mode\": \"markers\", \"showlegend\": false, \"text\": [\"Latency: 0.0585s<br>Fibre Index: None\", \"Offset: 0.0611s\"], \"type\": \"scatter\", \"x\": [0.05850000000000222, 0.06109999999999616], \"y\": [49.5987, 49.5987]}, {\"hovertemplate\": \"%{text}\", \"marker\": {\"color\": \"black\", \"size\": 7, \"symbol\": [\"triangle-nw\", \"triangle-ne\"]}, \"mode\": \"markers\", \"showlegend\": false, \"text\": [\"Latency: 0.0945s<br>Fibre Index: None\", \"Offset: 0.0971s\"], \"type\": \"scatter\", \"x\": [0.09449999999999648, 0.09709999999999752], \"y\": [49.5987, 49.5987]}, {\"hovertemplate\": \"%{text}\", \"marker\": {\"color\": \"black\", \"size\": 7, \"symbol\": [\"triangle-nw\", \"triangle-ne\"]}, \"mode\": \"markers\", \"showlegend\": false, \"text\": [\"Latency: 0.0586s<br>Fibre Index: None\", \"Offset: 0.0612s\"], \"type\": \"scatter\", \"x\": [0.05859999999999843, 0.06119999999999948], \"y\": [53.59895, 53.59895]}, {\"hovertemplate\": \"%{text}\", \"marker\": {\"color\": \"black\", \"size\": 7, \"symbol\": [\"triangle-nw\", \"triangle-ne\"]}, \"mode\": \"markers\", \"showlegend\": false, \"text\": [\"Latency: 0.0592s<br>Fibre Index: None\", \"Offset: 0.0618s\"], \"type\": \"scatter\", \"x\": [0.05924999999999869, 0.06184999999999974], \"y\": [57.5992, 57.5992]}, {\"hovertemplate\": \"%{text}\", \"marker\": {\"color\": \"black\", \"size\": 7, \"symbol\": [\"triangle-nw\", \"triangle-ne\"]}, \"mode\": \"markers\", \"showlegend\": false, \"text\": [\"Latency: 0.0588s<br>Fibre Index: None\", \"Offset: 0.0614s\"], \"type\": \"scatter\", \"x\": [0.05875000000000341, 0.061350000000004457], \"y\": [61.59945, 61.59945]}, {\"hovertemplate\": \"%{text}\", \"marker\": {\"color\": \"black\", \"size\": 7, \"symbol\": [\"triangle-nw\", \"triangle-ne\"]}, \"mode\": \"markers\", \"showlegend\": false, \"text\": [\"Latency: 0.0636s<br>Fibre Index: None\", \"Offset: 0.0662s\"], \"type\": \"scatter\", \"x\": [0.06364999999999554, 0.06624999999999659], \"y\": [65.59985, 65.59985]}, {\"hovertemplate\": \"%{text}\", \"marker\": {\"color\": \"black\", \"size\": 7, \"symbol\": [\"triangle-nw\", \"triangle-ne\"]}, \"mode\": \"markers\", \"showlegend\": false, \"text\": [\"Latency: 0.0622s<br>Fibre Index: None\", \"Offset: 0.0648s\"], \"type\": \"scatter\", \"x\": [0.06215000000000259, 0.06475000000000364], \"y\": [69.6001, 69.6001]}, {\"hovertemplate\": \"%{text}\", \"marker\": {\"color\": \"black\", \"size\": 7, \"symbol\": [\"triangle-nw\", \"triangle-ne\"]}, \"mode\": \"markers\", \"showlegend\": false, \"text\": [\"Latency: 0.0611s<br>Fibre Index: None\", \"Offset: 0.0637s\"], \"type\": \"scatter\", \"x\": [0.06114999999999782, 0.06374999999999886], \"y\": [73.60035, 73.60035]}, {\"hovertemplate\": \"%{text}\", \"marker\": {\"color\": \"black\", \"size\": 7, \"symbol\": [\"triangle-nw\", \"triangle-ne\"]}, \"mode\": \"markers\", \"showlegend\": false, \"text\": [\"Latency: 0.0603s<br>Fibre Index: None\", \"Offset: 0.0629s\"], \"type\": \"scatter\", \"x\": [0.06029999999999802, 0.06289999999999907], \"y\": [77.6006, 77.6006]}, {\"hovertemplate\": \"%{text}\", \"marker\": {\"color\": \"black\", \"size\": 7, \"symbol\": [\"triangle-nw\", \"triangle-ne\"]}, \"mode\": \"markers\", \"showlegend\": false, \"text\": [\"Latency: 0.0594s<br>Fibre Index: None\", \"Offset: 0.0620s\"], \"type\": \"scatter\", \"x\": [0.059449999999998226, 0.06204999999999927], \"y\": [81.6008, 81.6008]}, {\"hovertemplate\": \"%{text}\", \"marker\": {\"color\": \"black\", \"size\": 7, \"symbol\": [\"triangle-nw\", \"triangle-ne\"]}, \"mode\": \"markers\", \"showlegend\": false, \"text\": [\"Latency: 0.0590s<br>Fibre Index: None\", \"Offset: 0.0617s\"], \"type\": \"scatter\", \"x\": [0.05904999999999916, 0.061650000000000205], \"y\": [85.60105, 85.60105]}, {\"hovertemplate\": \"%{text}\", \"marker\": {\"color\": \"black\", \"size\": 7, \"symbol\": [\"triangle-nw\", \"triangle-ne\"]}, \"mode\": \"markers\", \"showlegend\": false, \"text\": [\"Latency: 0.0590s<br>Fibre Index: None\", \"Offset: 0.0616s\"], \"type\": \"scatter\", \"x\": [0.05900000000001171, 0.061599999999998545], \"y\": [89.6013, 89.6013]}, {\"hovertemplate\": \"%{text}\", \"marker\": {\"color\": \"black\", \"size\": 7, \"symbol\": [\"triangle-nw\", \"triangle-ne\"]}, \"mode\": \"markers\", \"showlegend\": false, \"text\": [\"Latency: 0.0649s<br>Fibre Index: None\", \"Offset: 0.0675s\"], \"type\": \"scatter\", \"x\": [0.0648999999999944, 0.06749999999999545], \"y\": [97.60195, 97.60195]}, {\"hovertemplate\": \"%{text}\", \"marker\": {\"color\": \"black\", \"size\": 7, \"symbol\": [\"triangle-nw\", \"triangle-ne\"]}, \"mode\": \"markers\", \"showlegend\": false, \"text\": [\"Latency: 0.0628s<br>Fibre Index: None\", \"Offset: 0.0654s\"], \"type\": \"scatter\", \"x\": [0.06284999999999741, 0.06544999999999845], \"y\": [101.6022, 101.6022]}, {\"hovertemplate\": \"%{text}\", \"marker\": {\"color\": \"black\", \"size\": 7, \"symbol\": [\"triangle-nw\", \"triangle-ne\"]}, \"mode\": \"markers\", \"showlegend\": false, \"text\": [\"Latency: 0.0622s<br>Fibre Index: None\", \"Offset: 0.0648s\"], \"type\": \"scatter\", \"x\": [0.06219999999999004, 0.06479999999999109], \"y\": [105.60245, 105.60245]}, {\"hovertemplate\": \"%{text}\", \"marker\": {\"color\": \"black\", \"size\": 7, \"symbol\": [\"triangle-nw\", \"triangle-ne\"]}, \"mode\": \"markers\", \"showlegend\": false, \"text\": [\"Latency: 0.0619s<br>Fibre Index: None\", \"Offset: 0.0645s\"], \"type\": \"scatter\", \"x\": [0.06189999999999429, 0.06449999999999534], \"y\": [109.6027, 109.6027]}, {\"hovertemplate\": \"%{text}\", \"marker\": {\"color\": \"black\", \"size\": 7, \"symbol\": [\"triangle-nw\", \"triangle-ne\"]}, \"mode\": \"markers\", \"showlegend\": false, \"text\": [\"Latency: 0.0609s<br>Fibre Index: None\", \"Offset: 0.0635s\"], \"type\": \"scatter\", \"x\": [0.06094999999999118, 0.06354999999999222], \"y\": [113.6029, 113.6029]}, {\"hovertemplate\": \"%{text}\", \"marker\": {\"color\": \"black\", \"size\": 7, \"symbol\": [\"triangle-nw\", \"triangle-ne\"]}, \"mode\": \"markers\", \"showlegend\": false, \"text\": [\"Latency: 0.0610s<br>Fibre Index: None\", \"Offset: 0.0636s\"], \"type\": \"scatter\", \"x\": [0.06100000000000705, 0.06359999999999388], \"y\": [117.60315, 117.60315]}, {\"hovertemplate\": \"%{text}\", \"marker\": {\"color\": \"black\", \"size\": 7, \"symbol\": [\"triangle-nw\", \"triangle-ne\"]}, \"mode\": \"markers\", \"showlegend\": false, \"text\": [\"Latency: 0.0604s<br>Fibre Index: None\", \"Offset: 0.0630s\"], \"type\": \"scatter\", \"x\": [0.06040000000000134, 0.06300000000000239], \"y\": [121.6034, 121.6034]}, {\"hovertemplate\": \"%{text}\", \"marker\": {\"color\": \"black\", \"size\": 7, \"symbol\": [\"triangle-nw\", \"triangle-ne\"]}, \"mode\": \"markers\", \"showlegend\": false, \"text\": [\"Latency: 0.0602s<br>Fibre Index: None\", \"Offset: 0.0628s\"], \"type\": \"scatter\", \"x\": [0.0601999999999947, 0.06279999999999575], \"y\": [125.60365, 125.60365]}, {\"hovertemplate\": \"%{text}\", \"marker\": {\"color\": \"black\", \"size\": 7, \"symbol\": [\"triangle-nw\", \"triangle-ne\"]}, \"mode\": \"markers\", \"showlegend\": false, \"text\": [\"Latency: 0.0635s<br>Fibre Index: None\", \"Offset: 0.0661s\"], \"type\": \"scatter\", \"x\": [0.06345000000001733, 0.06605000000001837], \"y\": [133.6043, 133.6043]}, {\"hovertemplate\": \"%{text}\", \"marker\": {\"color\": \"black\", \"size\": 7, \"symbol\": [\"triangle-nw\", \"triangle-ne\"]}, \"mode\": \"markers\", \"showlegend\": false, \"text\": [\"Latency: 0.0620s<br>Fibre Index: None\", \"Offset: 0.0645s\"], \"type\": \"scatter\", \"x\": [0.061950000000024374, 0.064549999999997], \"y\": [137.60455, 137.60455]}, {\"hovertemplate\": \"%{text}\", \"marker\": {\"color\": \"black\", \"size\": 7, \"symbol\": [\"triangle-nw\", \"triangle-ne\"]}, \"mode\": \"markers\", \"showlegend\": false, \"text\": [\"Latency: 0.0614s<br>Fibre Index: None\", \"Offset: 0.0640s\"], \"type\": \"scatter\", \"x\": [0.061399999999991905, 0.06399999999999295], \"y\": [141.6048, 141.6048]}, {\"hovertemplate\": \"%{text}\", \"marker\": {\"color\": \"black\", \"size\": 7, \"symbol\": [\"triangle-nw\", \"triangle-ne\"]}, \"mode\": \"markers\", \"showlegend\": false, \"text\": [\"Latency: 0.0611s<br>Fibre Index: None\", \"Offset: 0.0637s\"], \"type\": \"scatter\", \"x\": [0.06110000000001037, 0.06370000000001141], \"y\": [145.605, 145.605]}, {\"hovertemplate\": \"%{text}\", \"marker\": {\"color\": \"black\", \"size\": 7, \"symbol\": [\"triangle-nw\", \"triangle-ne\"]}, \"mode\": \"markers\", \"showlegend\": false, \"text\": [\"Latency: 0.0609s<br>Fibre Index: None\", \"Offset: 0.0635s\"], \"type\": \"scatter\", \"x\": [0.06094999999999118, 0.06354999999999222], \"y\": [149.60525, 149.60525]}, {\"hovertemplate\": \"%{text}\", \"marker\": {\"color\": \"black\", \"size\": 7, \"symbol\": [\"triangle-nw\", \"triangle-ne\"]}, \"mode\": \"markers\", \"showlegend\": false, \"text\": [\"Latency: 0.0609s<br>Fibre Index: None\", \"Offset: 0.0635s\"], \"type\": \"scatter\", \"x\": [0.06094999999999118, 0.06354999999999222], \"y\": [153.6055, 153.6055]}, {\"hovertemplate\": \"%{text}\", \"marker\": {\"color\": \"black\", \"size\": 7, \"symbol\": [\"triangle-nw\", \"triangle-ne\"]}, \"mode\": \"markers\", \"showlegend\": false, \"text\": [\"Latency: 0.0609s<br>Fibre Index: None\", \"Offset: 0.0635s\"], \"type\": \"scatter\", \"x\": [0.06090000000000373, 0.06350000000000477], \"y\": [157.60575, 157.60575]}, {\"hovertemplate\": \"%{text}\", \"marker\": {\"color\": \"black\", \"size\": 7, \"symbol\": [\"triangle-nw\", \"triangle-ne\"]}, \"mode\": \"markers\", \"showlegend\": false, \"text\": [\"Latency: 0.0630s<br>Fibre Index: None\", \"Offset: 0.0656s\"], \"type\": \"scatter\", \"x\": [0.06299999999998818, 0.06559999999998922], \"y\": [161.6061, 161.6061]}, {\"hovertemplate\": \"%{text}\", \"marker\": {\"color\": \"black\", \"size\": 7, \"symbol\": [\"triangle-nw\", \"triangle-ne\"]}, \"mode\": \"markers\", \"showlegend\": false, \"text\": [\"Latency: 0.0622s<br>Fibre Index: None\", \"Offset: 0.0648s\"], \"type\": \"scatter\", \"x\": [0.06215000000000259, 0.06475000000000364], \"y\": [165.60635, 165.60635]}, {\"hovertemplate\": \"%{text}\", \"marker\": {\"color\": \"black\", \"size\": 7, \"symbol\": [\"triangle-nw\", \"triangle-ne\"]}, \"mode\": \"markers\", \"showlegend\": false, \"text\": [\"Latency: 0.0617s<br>Fibre Index: None\", \"Offset: 0.0643s\"], \"type\": \"scatter\", \"x\": [0.061650000000014415, 0.06425000000001546], \"y\": [169.6066, 169.6066]}, {\"hovertemplate\": \"%{text}\", \"marker\": {\"color\": \"black\", \"size\": 7, \"symbol\": [\"triangle-nw\", \"triangle-ne\"]}, \"mode\": \"markers\", \"showlegend\": false, \"text\": [\"Latency: 0.0616s<br>Fibre Index: None\", \"Offset: 0.0642s\"], \"type\": \"scatter\", \"x\": [0.061599999999998545, 0.06419999999999959], \"y\": [173.6068, 173.6068]}, {\"hovertemplate\": \"%{text}\", \"marker\": {\"color\": \"black\", \"size\": 7, \"symbol\": [\"triangle-nw\", \"triangle-ne\"]}, \"mode\": \"markers\", \"showlegend\": false, \"text\": [\"Latency: 0.0614s<br>Fibre Index: None\", \"Offset: 0.0640s\"], \"type\": \"scatter\", \"x\": [0.06140000000002033, 0.06400000000002137], \"y\": [177.60705, 177.60705]}, {\"hovertemplate\": \"%{text}\", \"marker\": {\"color\": \"black\", \"size\": 7, \"symbol\": [\"triangle-nw\", \"triangle-ne\"]}, \"mode\": \"markers\", \"showlegend\": false, \"text\": [\"Latency: 0.0611s<br>Fibre Index: None\", \"Offset: 0.0637s\"], \"type\": \"scatter\", \"x\": [0.06114999999999782, 0.06374999999999886], \"y\": [181.6073, 181.6073]}, {\"hovertemplate\": \"%{text}\", \"marker\": {\"color\": \"black\", \"size\": 7, \"symbol\": [\"triangle-nw\", \"triangle-ne\"]}, \"mode\": \"markers\", \"showlegend\": false, \"text\": [\"Latency: 0.0612s<br>Fibre Index: None\", \"Offset: 0.0638s\"], \"type\": \"scatter\", \"x\": [0.061199999999985266, 0.06379999999998631], \"y\": [185.60755, 185.60755]}, {\"hovertemplate\": \"%{text}\", \"marker\": {\"color\": \"black\", \"size\": 7, \"symbol\": [\"triangle-nw\", \"triangle-ne\"]}, \"mode\": \"markers\", \"showlegend\": false, \"text\": [\"Latency: 0.0611s<br>Fibre Index: None\", \"Offset: 0.0637s\"], \"type\": \"scatter\", \"x\": [0.06110000000001037, 0.06370000000001141], \"y\": [189.6078, 189.6078]}, {\"hovertemplate\": \"%{text}\", \"marker\": {\"color\": \"black\", \"size\": 7, \"symbol\": [\"triangle-nw\", \"triangle-ne\"]}, \"mode\": \"markers\", \"showlegend\": false, \"text\": [\"Latency: 0.0644s<br>Fibre Index: None\", \"Offset: 0.0670s\"], \"type\": \"scatter\", \"x\": [0.06444999999999368, 0.06704999999999472], \"y\": [193.60815, 193.60815]}, {\"hovertemplate\": \"%{text}\", \"marker\": {\"color\": \"black\", \"size\": 7, \"symbol\": [\"triangle-nw\", \"triangle-ne\"]}, \"mode\": \"markers\", \"showlegend\": false, \"text\": [\"Latency: 0.0625s<br>Fibre Index: None\", \"Offset: 0.0651s\"], \"type\": \"scatter\", \"x\": [0.0625, 0.06510000000000105], \"y\": [197.6084, 197.6084]}, {\"hovertemplate\": \"%{text}\", \"marker\": {\"color\": \"black\", \"size\": 7, \"symbol\": [\"triangle-nw\", \"triangle-ne\"]}, \"mode\": \"markers\", \"showlegend\": false, \"text\": [\"Latency: 0.0624s<br>Fibre Index: None\", \"Offset: 0.0650s\"], \"type\": \"scatter\", \"x\": [0.06239999999999668, 0.06499999999999773], \"y\": [201.6086, 201.6086]}, {\"hovertemplate\": \"%{text}\", \"marker\": {\"color\": \"black\", \"size\": 7, \"symbol\": [\"triangle-nw\", \"triangle-ne\"]}, \"mode\": \"markers\", \"showlegend\": false, \"text\": [\"Latency: 0.0624s<br>Fibre Index: None\", \"Offset: 0.0650s\"], \"type\": \"scatter\", \"x\": [0.06239999999999668, 0.06499999999999773], \"y\": [205.60885, 205.60885]}, {\"hovertemplate\": \"%{text}\", \"marker\": {\"color\": \"black\", \"size\": 7, \"symbol\": [\"triangle-nw\", \"triangle-ne\"]}, \"mode\": \"markers\", \"showlegend\": false, \"text\": [\"Latency: 0.0620s<br>Fibre Index: None\", \"Offset: 0.0646s\"], \"type\": \"scatter\", \"x\": [0.0619999999999834, 0.06459999999998445], \"y\": [209.6091, 209.6091]}, {\"hovertemplate\": \"%{text}\", \"marker\": {\"color\": \"black\", \"size\": 7, \"symbol\": [\"triangle-nw\", \"triangle-ne\"]}, \"mode\": \"markers\", \"showlegend\": false, \"text\": [\"Latency: 0.0618s<br>Fibre Index: None\", \"Offset: 0.0644s\"], \"type\": \"scatter\", \"x\": [0.06184999999999263, 0.06444999999999368], \"y\": [213.60935, 213.60935]}, {\"hovertemplate\": \"%{text}\", \"marker\": {\"color\": \"black\", \"size\": 7, \"symbol\": [\"triangle-nw\", \"triangle-ne\"]}, \"mode\": \"markers\", \"showlegend\": false, \"text\": [\"Latency: 0.0618s<br>Fibre Index: None\", \"Offset: 0.0644s\"], \"type\": \"scatter\", \"x\": [0.061800000000005184, 0.06440000000000623], \"y\": [217.6096, 217.6096]}, {\"hovertemplate\": \"%{text}\", \"marker\": {\"color\": \"black\", \"size\": 7, \"symbol\": [\"triangle-nw\", \"triangle-ne\"]}, \"mode\": \"markers\", \"showlegend\": false, \"text\": [\"Latency: 0.0619s<br>Fibre Index: None\", \"Offset: 0.0645s\"], \"type\": \"scatter\", \"x\": [0.06189999999998008, 0.06449999999998113], \"y\": [221.6098, 221.6098]}, {\"hovertemplate\": \"%{text}\", \"marker\": {\"color\": \"black\", \"size\": 7, \"symbol\": [\"triangle-nw\", \"triangle-ne\"]}, \"mode\": \"markers\", \"showlegend\": false, \"text\": [\"Latency: 0.0691s<br>Fibre Index: None\", \"Offset: 0.0717s\"], \"type\": \"scatter\", \"x\": [0.06909999999999172, 0.07169999999999277], \"y\": [225.61035, 225.61035]}, {\"hovertemplate\": \"%{text}\", \"marker\": {\"color\": \"black\", \"size\": 7, \"symbol\": [\"triangle-nw\", \"triangle-ne\"]}, \"mode\": \"markers\", \"showlegend\": false, \"text\": [\"Latency: 0.0670s<br>Fibre Index: None\", \"Offset: 0.0696s\"], \"type\": \"scatter\", \"x\": [0.06704999999999472, 0.06964999999999577], \"y\": [229.6106, 229.6106]}, {\"hovertemplate\": \"%{text}\", \"marker\": {\"color\": \"black\", \"size\": 7, \"symbol\": [\"triangle-nw\", \"triangle-ne\"]}, \"mode\": \"markers\", \"showlegend\": false, \"text\": [\"Latency: 0.0653s<br>Fibre Index: None\", \"Offset: 0.0679s\"], \"type\": \"scatter\", \"x\": [0.06534999999999513, 0.06794999999999618], \"y\": [233.61085, 233.61085]}, {\"hovertemplate\": \"%{text}\", \"marker\": {\"color\": \"black\", \"size\": 7, \"symbol\": [\"triangle-nw\", \"triangle-ne\"]}, \"mode\": \"markers\", \"showlegend\": false, \"text\": [\"Latency: 0.0643s<br>Fibre Index: None\", \"Offset: 0.0669s\"], \"type\": \"scatter\", \"x\": [0.06430000000000291, 0.06690000000000396], \"y\": [237.6111, 237.6111]}, {\"hovertemplate\": \"%{text}\", \"marker\": {\"color\": \"black\", \"size\": 7, \"symbol\": [\"triangle-nw\", \"triangle-ne\"]}, \"mode\": \"markers\", \"showlegend\": false, \"text\": [\"Latency: 0.0639s<br>Fibre Index: None\", \"Offset: 0.0665s\"], \"type\": \"scatter\", \"x\": [0.06385000000000218, 0.06645000000000323], \"y\": [241.6113, 241.6113]}, {\"hovertemplate\": \"%{text}\", \"marker\": {\"color\": \"black\", \"size\": 7, \"symbol\": [\"triangle-nw\", \"triangle-ne\"]}, \"mode\": \"markers\", \"showlegend\": false, \"text\": [\"Latency: 0.0636s<br>Fibre Index: None\", \"Offset: 0.0662s\"], \"type\": \"scatter\", \"x\": [0.0636000000000081, 0.06620000000000914], \"y\": [245.61155, 245.61155]}, {\"hovertemplate\": \"%{text}\", \"marker\": {\"color\": \"black\", \"size\": 7, \"symbol\": [\"triangle-nw\", \"triangle-ne\"]}, \"mode\": \"markers\", \"showlegend\": false, \"text\": [\"Latency: 0.0639s<br>Fibre Index: None\", \"Offset: 0.0665s\"], \"type\": \"scatter\", \"x\": [0.06385000000000218, 0.06645000000000323], \"y\": [249.6118, 249.6118]}, {\"hovertemplate\": \"%{text}\", \"marker\": {\"color\": \"black\", \"size\": 7, \"symbol\": [\"triangle-nw\", \"triangle-ne\"]}, \"mode\": \"markers\", \"showlegend\": false, \"text\": [\"Latency: 0.0636s<br>Fibre Index: None\", \"Offset: 0.0662s\"], \"type\": \"scatter\", \"x\": [0.06364999999999554, 0.06624999999999659], \"y\": [253.61205, 253.61205]}, {\"hovertemplate\": \"%{text}\", \"marker\": {\"color\": \"black\", \"size\": 7, \"symbol\": [\"triangle-nw\", \"triangle-ne\"]}, \"mode\": \"markers\", \"showlegend\": false, \"text\": [\"Latency: 0.0724s<br>Fibre Index: None\", \"Offset: 0.0750s\"], \"type\": \"scatter\", \"x\": [0.07240000000001601, 0.07499999999998863], \"y\": [257.6126, 257.6126]}, {\"hovertemplate\": \"%{text}\", \"marker\": {\"color\": \"black\", \"size\": 7, \"symbol\": [\"triangle-nw\", \"triangle-ne\"]}, \"mode\": \"markers\", \"showlegend\": false, \"text\": [\"Latency: 0.0697s<br>Fibre Index: None\", \"Offset: 0.0723s\"], \"type\": \"scatter\", \"x\": [0.06970000000001164, 0.07229999999998427], \"y\": [261.6128, 261.6128]}, {\"hovertemplate\": \"%{text}\", \"marker\": {\"color\": \"black\", \"size\": 7, \"symbol\": [\"triangle-nw\", \"triangle-ne\"]}, \"mode\": \"markers\", \"showlegend\": false, \"text\": [\"Latency: 0.0679s<br>Fibre Index: None\", \"Offset: 0.0706s\"], \"type\": \"scatter\", \"x\": [0.06794999999999618, 0.07055000000002565], \"y\": [265.61305, 265.61305]}, {\"hovertemplate\": \"%{text}\", \"marker\": {\"color\": \"black\", \"size\": 7, \"symbol\": [\"triangle-nw\", \"triangle-ne\"]}, \"mode\": \"markers\", \"showlegend\": false, \"text\": [\"Latency: 0.0668s<br>Fibre Index: None\", \"Offset: 0.0694s\"], \"type\": \"scatter\", \"x\": [0.06680000000000064, 0.0694000000000301], \"y\": [269.6133, 269.6133]}, {\"hovertemplate\": \"%{text}\", \"marker\": {\"color\": \"black\", \"size\": 7, \"symbol\": [\"triangle-nw\", \"triangle-ne\"]}, \"mode\": \"markers\", \"showlegend\": false, \"text\": [\"Latency: 0.0658s<br>Fibre Index: None\", \"Offset: 0.0684s\"], \"type\": \"scatter\", \"x\": [0.06575000000003683, 0.06835000000000946], \"y\": [273.61355, 273.61355]}, {\"hovertemplate\": \"%{text}\", \"marker\": {\"color\": \"black\", \"size\": 7, \"symbol\": [\"triangle-nw\", \"triangle-ne\"]}, \"mode\": \"markers\", \"showlegend\": false, \"text\": [\"Latency: 0.0652s<br>Fibre Index: None\", \"Offset: 0.0678s\"], \"type\": \"scatter\", \"x\": [0.06519999999994752, 0.06779999999997699], \"y\": [277.6138, 277.6138]}, {\"hovertemplate\": \"%{text}\", \"marker\": {\"color\": \"black\", \"size\": 7, \"symbol\": [\"triangle-nw\", \"triangle-ne\"]}, \"mode\": \"markers\", \"showlegend\": false, \"text\": [\"Latency: 0.0648s<br>Fibre Index: None\", \"Offset: 0.0674s\"], \"type\": \"scatter\", \"x\": [0.06480000000004793, 0.06740000000002055], \"y\": [281.614, 281.614]}, {\"hovertemplate\": \"%{text}\", \"marker\": {\"color\": \"black\", \"size\": 7, \"symbol\": [\"triangle-nw\", \"triangle-ne\"]}, \"mode\": \"markers\", \"showlegend\": false, \"text\": [\"Latency: 0.0645s<br>Fibre Index: None\", \"Offset: 0.0671s\"], \"type\": \"scatter\", \"x\": [0.064549999999997, 0.06714999999996962], \"y\": [285.61425, 285.61425]}, {\"hovertemplate\": \"%{text}\", \"marker\": {\"color\": \"black\", \"size\": 7, \"symbol\": [\"triangle-nw\", \"triangle-ne\"]}, \"mode\": \"markers\", \"showlegend\": false, \"text\": [\"Latency: 0.0722s<br>Fibre Index: None\", \"Offset: 0.0747s\"], \"type\": \"scatter\", \"x\": [0.07215000000002192, 0.07474999999999454], \"y\": [289.6148, 289.6148]}, {\"hovertemplate\": \"%{text}\", \"marker\": {\"color\": \"black\", \"size\": 7, \"symbol\": [\"triangle-nw\", \"triangle-ne\"]}, \"mode\": \"markers\", \"showlegend\": false, \"text\": [\"Latency: 0.0677s<br>Fibre Index: None\", \"Offset: 0.0704s\"], \"type\": \"scatter\", \"x\": [0.06774999999998954, 0.07035000000001901], \"y\": [297.6153, 297.6153]}, {\"hovertemplate\": \"%{text}\", \"marker\": {\"color\": \"black\", \"size\": 7, \"symbol\": [\"triangle-nw\", \"triangle-ne\"]}, \"mode\": \"markers\", \"showlegend\": false, \"text\": [\"Latency: 0.0667s<br>Fibre Index: None\", \"Offset: 0.0693s\"], \"type\": \"scatter\", \"x\": [0.06670000000002574, 0.06929999999999836], \"y\": [305.61575, 305.61575]}, {\"hovertemplate\": \"%{text}\", \"marker\": {\"color\": \"black\", \"size\": 7, \"symbol\": [\"triangle-nw\", \"triangle-ne\"]}, \"mode\": \"markers\", \"showlegend\": false, \"text\": [\"Latency: 0.0661s<br>Fibre Index: None\", \"Offset: 0.0687s\"], \"type\": \"scatter\", \"x\": [0.06610000000000582, 0.06870000000003529], \"y\": [309.616, 309.616]}, {\"hovertemplate\": \"%{text}\", \"marker\": {\"color\": \"black\", \"size\": 7, \"symbol\": [\"triangle-nw\", \"triangle-ne\"]}, \"mode\": \"markers\", \"showlegend\": false, \"text\": [\"Latency: 0.0658s<br>Fibre Index: None\", \"Offset: 0.0684s\"], \"type\": \"scatter\", \"x\": [0.06575000000003683, 0.06835000000000946], \"y\": [313.61625, 313.61625]}, {\"hovertemplate\": \"%{text}\", \"marker\": {\"color\": \"black\", \"size\": 7, \"symbol\": [\"triangle-nw\", \"triangle-ne\"]}, \"mode\": \"markers\", \"showlegend\": false, \"text\": [\"Latency: 0.0655s<br>Fibre Index: None\", \"Offset: 0.0681s\"], \"type\": \"scatter\", \"x\": [0.06550000000004275, 0.06810000000001537], \"y\": [317.6165, 317.6165]}, {\"hovertemplate\": \"%{text}\", \"marker\": {\"color\": \"black\", \"size\": 7, \"symbol\": [\"triangle-nw\", \"triangle-ne\"]}, \"mode\": \"markers\", \"showlegend\": false, \"text\": [\"Latency: 0.0741s<br>Fibre Index: None\", \"Offset: 0.0767s\"], \"type\": \"scatter\", \"x\": [0.07409999999998718, 0.0766999999999598], \"y\": [321.617, 321.617]}, {\"hovertemplate\": \"%{text}\", \"marker\": {\"color\": \"black\", \"size\": 7, \"symbol\": [\"triangle-nw\", \"triangle-ne\"]}, \"mode\": \"markers\", \"showlegend\": false, \"text\": [\"Latency: 0.0711s<br>Fibre Index: None\", \"Offset: 0.0737s\"], \"type\": \"scatter\", \"x\": [0.07110000000000127, 0.0736999999999739], \"y\": [325.61725, 325.61725]}, {\"hovertemplate\": \"%{text}\", \"marker\": {\"color\": \"black\", \"size\": 7, \"symbol\": [\"triangle-nw\", \"triangle-ne\"]}, \"mode\": \"markers\", \"showlegend\": false, \"text\": [\"Latency: 0.0691s<br>Fibre Index: None\", \"Offset: 0.0716s\"], \"type\": \"scatter\", \"x\": [0.06905000000000427, 0.0716499999999769], \"y\": [329.6175, 329.6175]}, {\"hovertemplate\": \"%{text}\", \"marker\": {\"color\": \"black\", \"size\": 7, \"symbol\": [\"triangle-nw\", \"triangle-ne\"]}, \"mode\": \"markers\", \"showlegend\": false, \"text\": [\"Latency: 0.0681s<br>Fibre Index: None\", \"Offset: 0.0707s\"], \"type\": \"scatter\", \"x\": [0.06810000000001537, 0.070699999999988], \"y\": [333.61775, 333.61775]}, {\"hovertemplate\": \"%{text}\", \"marker\": {\"color\": \"black\", \"size\": 7, \"symbol\": [\"triangle-nw\", \"triangle-ne\"]}, \"mode\": \"markers\", \"showlegend\": false, \"text\": [\"Latency: 0.0679s<br>Fibre Index: None\", \"Offset: 0.0705s\"], \"type\": \"scatter\", \"x\": [0.06790000000000873, 0.07049999999998136], \"y\": [337.618, 337.618]}, {\"hovertemplate\": \"%{text}\", \"marker\": {\"color\": \"black\", \"size\": 7, \"symbol\": [\"triangle-nw\", \"triangle-ne\"]}, \"mode\": \"markers\", \"showlegend\": false, \"text\": [\"Latency: 0.0674s<br>Fibre Index: None\", \"Offset: 0.0700s\"], \"type\": \"scatter\", \"x\": [0.06740000000002055, 0.06999999999999318], \"y\": [341.6182, 341.6182]}, {\"hovertemplate\": \"%{text}\", \"marker\": {\"color\": \"black\", \"size\": 7, \"symbol\": [\"triangle-nw\", \"triangle-ne\"]}, \"mode\": \"markers\", \"showlegend\": false, \"text\": [\"Latency: 0.0671s<br>Fibre Index: None\", \"Offset: 0.0697s\"], \"type\": \"scatter\", \"x\": [0.06709999999998217, 0.06970000000001164], \"y\": [345.61845, 345.61845]}, {\"hovertemplate\": \"%{text}\", \"marker\": {\"color\": \"black\", \"size\": 7, \"symbol\": [\"triangle-nw\", \"triangle-ne\"]}, \"mode\": \"markers\", \"showlegend\": false, \"text\": [\"Latency: 0.0667s<br>Fibre Index: None\", \"Offset: 0.0693s\"], \"type\": \"scatter\", \"x\": [0.06670000000002574, 0.06929999999999836], \"y\": [349.6187, 349.6187]}, {\"hovertemplate\": \"%{text}\", \"marker\": {\"color\": \"black\", \"size\": 7, \"symbol\": [\"triangle-nw\", \"triangle-ne\"]}, \"mode\": \"markers\", \"showlegend\": false, \"text\": [\"Latency: 0.0745s<br>Fibre Index: None\", \"Offset: 0.0771s\"], \"type\": \"scatter\", \"x\": [0.0745499999999879, 0.07714999999996053], \"y\": [353.61925, 353.61925]}, {\"hovertemplate\": \"%{text}\", \"marker\": {\"color\": \"black\", \"size\": 7, \"symbol\": [\"triangle-nw\", \"triangle-ne\"]}, \"mode\": \"markers\", \"showlegend\": false, \"text\": [\"Latency: 0.0725s<br>Fibre Index: None\", \"Offset: 0.0750s\"], \"type\": \"scatter\", \"x\": [0.07245000000000346, 0.07504999999997608], \"y\": [357.6195, 357.6195]}, {\"hovertemplate\": \"%{text}\", \"marker\": {\"color\": \"black\", \"size\": 7, \"symbol\": [\"triangle-nw\", \"triangle-ne\"]}, \"mode\": \"markers\", \"showlegend\": false, \"text\": [\"Latency: 0.0708s<br>Fibre Index: None\", \"Offset: 0.0734s\"], \"type\": \"scatter\", \"x\": [0.07079999999996289, 0.07339999999999236], \"y\": [361.6197, 361.6197]}, {\"hovertemplate\": \"%{text}\", \"marker\": {\"color\": \"black\", \"size\": 7, \"symbol\": [\"triangle-nw\", \"triangle-ne\"]}, \"mode\": \"markers\", \"showlegend\": false, \"text\": [\"Latency: 0.0694s<br>Fibre Index: None\", \"Offset: 0.0720s\"], \"type\": \"scatter\", \"x\": [0.06944999999996071, 0.07204999999999018], \"y\": [365.61995, 365.61995]}, {\"hovertemplate\": \"%{text}\", \"marker\": {\"color\": \"black\", \"size\": 7, \"symbol\": [\"triangle-nw\", \"triangle-ne\"]}, \"mode\": \"markers\", \"showlegend\": false, \"text\": [\"Latency: 0.0686s<br>Fibre Index: None\", \"Offset: 0.0711s\"], \"type\": \"scatter\", \"x\": [0.0685500000000161, 0.07114999999998872], \"y\": [369.6202, 369.6202]}, {\"hovertemplate\": \"%{text}\", \"marker\": {\"color\": \"black\", \"size\": 7, \"symbol\": [\"triangle-nw\", \"triangle-ne\"]}, \"mode\": \"markers\", \"showlegend\": false, \"text\": [\"Latency: 0.0688s<br>Fibre Index: None\", \"Offset: 0.0714s\"], \"type\": \"scatter\", \"x\": [0.06880000000001019, 0.07139999999998281], \"y\": [373.62045, 373.62045]}, {\"hovertemplate\": \"%{text}\", \"marker\": {\"color\": \"black\", \"size\": 7, \"symbol\": [\"triangle-nw\", \"triangle-ne\"]}, \"mode\": \"markers\", \"showlegend\": false, \"text\": [\"Latency: 0.0684s<br>Fibre Index: None\", \"Offset: 0.0709s\"], \"type\": \"scatter\", \"x\": [0.06835000000000946, 0.07094999999998208], \"y\": [377.6207, 377.6207]}, {\"hovertemplate\": \"%{text}\", \"marker\": {\"color\": \"black\", \"size\": 7, \"symbol\": [\"triangle-nw\", \"triangle-ne\"]}, \"mode\": \"markers\", \"showlegend\": false, \"text\": [\"Latency: 0.0752s<br>Fibre Index: None\", \"Offset: 0.0778s\"], \"type\": \"scatter\", \"x\": [0.07515000000000782, 0.07775000000003729], \"y\": [385.62145, 385.62145]}, {\"hovertemplate\": \"%{text}\", \"marker\": {\"color\": \"black\", \"size\": 7, \"symbol\": [\"triangle-nw\", \"triangle-ne\"]}, \"mode\": \"markers\", \"showlegend\": false, \"text\": [\"Latency: 0.0724s<br>Fibre Index: None\", \"Offset: 0.0750s\"], \"type\": \"scatter\", \"x\": [0.07240000000001601, 0.07500000000004547], \"y\": [389.6217, 389.6217]}, {\"hovertemplate\": \"%{text}\", \"marker\": {\"color\": \"black\", \"size\": 7, \"symbol\": [\"triangle-nw\", \"triangle-ne\"]}, \"mode\": \"markers\", \"showlegend\": false, \"text\": [\"Latency: 0.0707s<br>Fibre Index: None\", \"Offset: 0.0733s\"], \"type\": \"scatter\", \"x\": [0.07074999999997544, 0.07334999999994807], \"y\": [393.62195, 393.62195]}, {\"hovertemplate\": \"%{text}\", \"marker\": {\"color\": \"black\", \"size\": 7, \"symbol\": [\"triangle-nw\", \"triangle-ne\"]}, \"mode\": \"markers\", \"showlegend\": false, \"text\": [\"Latency: 0.0700s<br>Fibre Index: None\", \"Offset: 0.0725s\"], \"type\": \"scatter\", \"x\": [0.06995000000000573, 0.07254999999997835], \"y\": [397.6222, 397.6222]}, {\"hovertemplate\": \"%{text}\", \"marker\": {\"color\": \"black\", \"size\": 7, \"symbol\": [\"triangle-nw\", \"triangle-ne\"]}, \"mode\": \"markers\", \"showlegend\": false, \"text\": [\"Latency: 0.0694s<br>Fibre Index: None\", \"Offset: 0.0720s\"], \"type\": \"scatter\", \"x\": [0.06939999999997326, 0.07199999999994589], \"y\": [401.6224, 401.6224]}, {\"hovertemplate\": \"%{text}\", \"marker\": {\"color\": \"black\", \"size\": 7, \"symbol\": [\"triangle-nw\", \"triangle-ne\"]}, \"mode\": \"markers\", \"showlegend\": false, \"text\": [\"Latency: 0.0697s<br>Fibre Index: None\", \"Offset: 0.0723s\"], \"type\": \"scatter\", \"x\": [0.06974999999999909, 0.07234999999997171], \"y\": [405.62265, 405.62265]}, {\"hovertemplate\": \"%{text}\", \"marker\": {\"color\": \"black\", \"size\": 7, \"symbol\": [\"triangle-nw\", \"triangle-ne\"]}, \"mode\": \"markers\", \"showlegend\": false, \"text\": [\"Latency: 0.0697s<br>Fibre Index: None\", \"Offset: 0.0723s\"], \"type\": \"scatter\", \"x\": [0.06974999999999909, 0.07234999999997171], \"y\": [409.6229, 409.6229]}, {\"hovertemplate\": \"%{text}\", \"marker\": {\"color\": \"black\", \"size\": 7, \"symbol\": [\"triangle-nw\", \"triangle-ne\"]}, \"mode\": \"markers\", \"showlegend\": false, \"text\": [\"Latency: 0.0777s<br>Fibre Index: None\", \"Offset: 0.0803s\"], \"type\": \"scatter\", \"x\": [0.077699999999993, 0.08030000000002246], \"y\": [417.6237, 417.6237]}, {\"hovertemplate\": \"%{text}\", \"marker\": {\"color\": \"black\", \"size\": 7, \"symbol\": [\"triangle-nw\", \"triangle-ne\"]}, \"mode\": \"markers\", \"showlegend\": false, \"text\": [\"Latency: 0.0752s<br>Fibre Index: None\", \"Offset: 0.0778s\"], \"type\": \"scatter\", \"x\": [0.07519999999999527, 0.07780000000002474], \"y\": [421.6239, 421.6239]}, {\"hovertemplate\": \"%{text}\", \"marker\": {\"color\": \"black\", \"size\": 7, \"symbol\": [\"triangle-nw\", \"triangle-ne\"]}, \"mode\": \"markers\", \"showlegend\": false, \"text\": [\"Latency: 0.0731s<br>Fibre Index: None\", \"Offset: 0.0757s\"], \"type\": \"scatter\", \"x\": [0.07310000000001082, 0.07570000000004029], \"y\": [425.62415, 425.62415]}, {\"hovertemplate\": \"%{text}\", \"marker\": {\"color\": \"black\", \"size\": 7, \"symbol\": [\"triangle-nw\", \"triangle-ne\"]}, \"mode\": \"markers\", \"showlegend\": false, \"text\": [\"Latency: 0.0721s<br>Fibre Index: None\", \"Offset: 0.0747s\"], \"type\": \"scatter\", \"x\": [0.07210000000003447, 0.0747000000000071], \"y\": [429.6244, 429.6244]}, {\"hovertemplate\": \"%{text}\", \"marker\": {\"color\": \"black\", \"size\": 7, \"symbol\": [\"triangle-nw\", \"triangle-ne\"]}, \"mode\": \"markers\", \"showlegend\": false, \"text\": [\"Latency: 0.0718s<br>Fibre Index: None\", \"Offset: 0.0744s\"], \"type\": \"scatter\", \"x\": [0.07175000000000864, 0.07435000000003811], \"y\": [433.62465, 433.62465]}, {\"line\": {\"color\": \"red\", \"width\": 0.75}, \"mode\": \"lines\", \"name\": \"AP Track\", \"type\": \"scatter\", \"x\": [0.05664999999999987, 0.056550000000000544, 0.05670000000000108, 0.05680000000000085, 0.057000000000000384, 0.05729999999999791, 0.05765000000000242, 0.06265000000000498, 0.06119999999999948, 0.06044999999999945, 0.05964999999999776, 0.05979999999999919, 0.059899999999998954, 0.060549999999999216, 0.060050000000003934, 0.06494999999999607, 0.06345000000000312, 0.06244999999999834, 0.061599999999998545, 0.06074999999999875, 0.06034999999999968, 0.06030000000000513, 0.06051038961038975, 0.06235892151326947, 0.06453209109730862, 0.0638239273480144, 0.06333607129102792, 0.0627308363166625, 0.06241025742695315, 0.06203155045842608, 0.06119583199564616, 0.06305258665114574, 0.06515369614535509, 0.06349571473047344, 0.06280457823537795, 0.062420668631038734, 0.06198977489971544, 0.06231263492214584, 0.062274186267478104, 0.06303303855747973, 0.06306932674491728, 0.06310415151772066, 0.06313758256230105, 0.06276968470322696, 0.06276415470884632, 0.0627570085528495, 0.0627483165031329, 0.06313814434240798, 0.0635598870753, 0.06401326246125334, 0.06369798478598213, 0.06295102083620112, 0.06294191510663132, 0.06333164827401358, 0.06294989297179415, 0.06373823867967576, 0.06818268828366128, 0.06733540856433849, 0.0656075480827653, 0.06534549706933936, 0.06545700537794734, 0.06516851368655532, 0.06525421554355035, 0.06573971258743738, 0.07105001121862597, 0.0694803098498146, 0.06819182060221532, 0.06720925627546631, 0.06655680608392367, 0.06625814958377066, 0.06593647030929045, 0.06599193389195307, 0.0712469279910477, 0.06998639697598706, 0.0686408604074277, 0.0684108553703999, 0.06776007840354749, 0.06706787970053656, 0.06713452215636671, 0.06720077512826314, 0.07246664835332411, 0.07078894133147148, 0.06941487779049817, 0.06916429353251037, 0.06889477640016807, 0.06820643573841394, 0.06828077633520978, 0.06715479616215801, 0.07397395705493695, 0.0722981230549682, 0.07093449879282711, 0.07070113094094253, 0.07005056289794463, 0.06976567975443251, 0.0698636838220848, 0.07196150871840458, 0.0737424915094612, 0.07238971141391987, 0.07137221429754965, 0.07110647970437045, 0.07482474511119122, 0.07108550556751703, 0.07119002451733916, 0.07089439117323408, 0.07698322384854649, 0.07490040817221041, 0.07352788899183137], \"y\": [5.5959, 9.59615, 13.5964, 17.5966, 21.59685, 25.5971, 29.59735, 33.59775, 37.598, 41.59825, 45.5985, 49.5987, 53.59895, 57.5992, 61.59945, 65.59985, 69.6001, 73.60035, 77.6006, 81.6008, 85.60105, 89.6013, 93.60155, 97.60195, 101.6022, 105.60245, 109.6027, 113.6029, 117.60315, 121.6034, 125.60365, 129.60405, 133.6043, 137.60455, 141.6048, 145.605, 149.60525, 153.6055, 157.60575, 161.6061, 165.60635, 169.6066, 173.6068, 177.60705, 181.6073, 185.60755, 189.6078, 193.60815, 197.6084, 201.6086, 205.60885, 209.6091, 213.60935, 217.6096, 221.6098, 225.61035, 229.6106, 233.61085, 237.6111, 241.6113, 245.61155, 249.6118, 253.61205, 257.6126, 261.6128, 265.61305, 269.6133, 273.61355, 277.6138, 281.614, 285.61425, 289.6148, 293.61505, 297.6153, 301.6155, 305.61575, 309.616, 313.61625, 317.6165, 321.617, 325.61725, 329.6175, 333.61775, 337.618, 341.6182, 345.61845, 349.6187, 353.61925, 357.6195, 361.6197, 365.61995, 369.6202, 373.62045, 377.6207, 381.6209, 385.62145, 389.6217, 393.62195, 397.6222, 401.6224, 405.62265, 409.6229, 413.62315, 417.6237, 421.6239, 425.62415, 429.6244]}],\n",
       "                        {\"height\": 600, \"template\": {\"data\": {\"bar\": [{\"error_x\": {\"color\": \"#2a3f5f\"}, \"error_y\": {\"color\": \"#2a3f5f\"}, \"marker\": {\"line\": {\"color\": \"#E5ECF6\", \"width\": 0.5}}, \"type\": \"bar\"}], \"barpolar\": [{\"marker\": {\"line\": {\"color\": \"#E5ECF6\", \"width\": 0.5}}, \"type\": \"barpolar\"}], \"carpet\": [{\"aaxis\": {\"endlinecolor\": \"#2a3f5f\", \"gridcolor\": \"white\", \"linecolor\": \"white\", \"minorgridcolor\": \"white\", \"startlinecolor\": \"#2a3f5f\"}, \"baxis\": {\"endlinecolor\": \"#2a3f5f\", \"gridcolor\": \"white\", \"linecolor\": \"white\", \"minorgridcolor\": \"white\", \"startlinecolor\": \"#2a3f5f\"}, \"type\": \"carpet\"}], \"choropleth\": [{\"colorbar\": {\"outlinewidth\": 0, \"ticks\": \"\"}, \"type\": \"choropleth\"}], \"contour\": [{\"colorbar\": {\"outlinewidth\": 0, \"ticks\": \"\"}, \"colorscale\": [[0.0, \"#0d0887\"], [0.1111111111111111, \"#46039f\"], [0.2222222222222222, \"#7201a8\"], [0.3333333333333333, \"#9c179e\"], [0.4444444444444444, \"#bd3786\"], [0.5555555555555556, \"#d8576b\"], [0.6666666666666666, \"#ed7953\"], [0.7777777777777778, \"#fb9f3a\"], [0.8888888888888888, \"#fdca26\"], [1.0, \"#f0f921\"]], \"type\": \"contour\"}], \"contourcarpet\": [{\"colorbar\": {\"outlinewidth\": 0, \"ticks\": \"\"}, \"type\": \"contourcarpet\"}], \"heatmap\": [{\"colorbar\": {\"outlinewidth\": 0, \"ticks\": \"\"}, \"colorscale\": [[0.0, \"#0d0887\"], [0.1111111111111111, \"#46039f\"], [0.2222222222222222, \"#7201a8\"], [0.3333333333333333, \"#9c179e\"], [0.4444444444444444, \"#bd3786\"], [0.5555555555555556, \"#d8576b\"], [0.6666666666666666, \"#ed7953\"], [0.7777777777777778, \"#fb9f3a\"], [0.8888888888888888, \"#fdca26\"], [1.0, \"#f0f921\"]], \"type\": \"heatmap\"}], \"heatmapgl\": [{\"colorbar\": {\"outlinewidth\": 0, \"ticks\": \"\"}, \"colorscale\": [[0.0, \"#0d0887\"], [0.1111111111111111, \"#46039f\"], [0.2222222222222222, \"#7201a8\"], [0.3333333333333333, \"#9c179e\"], [0.4444444444444444, \"#bd3786\"], [0.5555555555555556, \"#d8576b\"], [0.6666666666666666, \"#ed7953\"], [0.7777777777777778, \"#fb9f3a\"], [0.8888888888888888, \"#fdca26\"], [1.0, \"#f0f921\"]], \"type\": \"heatmapgl\"}], \"histogram\": [{\"marker\": {\"colorbar\": {\"outlinewidth\": 0, \"ticks\": \"\"}}, \"type\": \"histogram\"}], \"histogram2d\": [{\"colorbar\": {\"outlinewidth\": 0, \"ticks\": \"\"}, \"colorscale\": [[0.0, \"#0d0887\"], [0.1111111111111111, \"#46039f\"], [0.2222222222222222, \"#7201a8\"], [0.3333333333333333, \"#9c179e\"], [0.4444444444444444, \"#bd3786\"], [0.5555555555555556, \"#d8576b\"], [0.6666666666666666, \"#ed7953\"], [0.7777777777777778, \"#fb9f3a\"], [0.8888888888888888, \"#fdca26\"], [1.0, \"#f0f921\"]], \"type\": \"histogram2d\"}], \"histogram2dcontour\": [{\"colorbar\": {\"outlinewidth\": 0, \"ticks\": \"\"}, \"colorscale\": [[0.0, \"#0d0887\"], [0.1111111111111111, \"#46039f\"], [0.2222222222222222, \"#7201a8\"], [0.3333333333333333, \"#9c179e\"], [0.4444444444444444, \"#bd3786\"], [0.5555555555555556, \"#d8576b\"], [0.6666666666666666, \"#ed7953\"], [0.7777777777777778, \"#fb9f3a\"], [0.8888888888888888, \"#fdca26\"], [1.0, \"#f0f921\"]], \"type\": \"histogram2dcontour\"}], \"mesh3d\": [{\"colorbar\": {\"outlinewidth\": 0, \"ticks\": \"\"}, \"type\": \"mesh3d\"}], \"parcoords\": [{\"line\": {\"colorbar\": {\"outlinewidth\": 0, \"ticks\": \"\"}}, \"type\": \"parcoords\"}], \"pie\": [{\"automargin\": true, \"type\": \"pie\"}], \"scatter\": [{\"marker\": {\"colorbar\": {\"outlinewidth\": 0, \"ticks\": \"\"}}, \"type\": \"scatter\"}], \"scatter3d\": [{\"line\": {\"colorbar\": {\"outlinewidth\": 0, \"ticks\": \"\"}}, \"marker\": {\"colorbar\": {\"outlinewidth\": 0, \"ticks\": \"\"}}, \"type\": \"scatter3d\"}], \"scattercarpet\": [{\"marker\": {\"colorbar\": {\"outlinewidth\": 0, \"ticks\": \"\"}}, \"type\": \"scattercarpet\"}], \"scattergeo\": [{\"marker\": {\"colorbar\": {\"outlinewidth\": 0, \"ticks\": \"\"}}, \"type\": \"scattergeo\"}], \"scattergl\": [{\"marker\": {\"colorbar\": {\"outlinewidth\": 0, \"ticks\": \"\"}}, \"type\": \"scattergl\"}], \"scattermapbox\": [{\"marker\": {\"colorbar\": {\"outlinewidth\": 0, \"ticks\": \"\"}}, \"type\": \"scattermapbox\"}], \"scatterpolar\": [{\"marker\": {\"colorbar\": {\"outlinewidth\": 0, \"ticks\": \"\"}}, \"type\": \"scatterpolar\"}], \"scatterpolargl\": [{\"marker\": {\"colorbar\": {\"outlinewidth\": 0, \"ticks\": \"\"}}, \"type\": \"scatterpolargl\"}], \"scatterternary\": [{\"marker\": {\"colorbar\": {\"outlinewidth\": 0, \"ticks\": \"\"}}, \"type\": \"scatterternary\"}], \"surface\": [{\"colorbar\": {\"outlinewidth\": 0, \"ticks\": \"\"}, \"colorscale\": [[0.0, \"#0d0887\"], [0.1111111111111111, \"#46039f\"], [0.2222222222222222, \"#7201a8\"], [0.3333333333333333, \"#9c179e\"], [0.4444444444444444, \"#bd3786\"], [0.5555555555555556, \"#d8576b\"], [0.6666666666666666, \"#ed7953\"], [0.7777777777777778, \"#fb9f3a\"], [0.8888888888888888, \"#fdca26\"], [1.0, \"#f0f921\"]], \"type\": \"surface\"}], \"table\": [{\"cells\": {\"fill\": {\"color\": \"#EBF0F8\"}, \"line\": {\"color\": \"white\"}}, \"header\": {\"fill\": {\"color\": \"#C8D4E3\"}, \"line\": {\"color\": \"white\"}}, \"type\": \"table\"}]}, \"layout\": {\"annotationdefaults\": {\"arrowcolor\": \"#2a3f5f\", \"arrowhead\": 0, \"arrowwidth\": 1}, \"coloraxis\": {\"colorbar\": {\"outlinewidth\": 0, \"ticks\": \"\"}}, \"colorscale\": {\"diverging\": [[0, \"#8e0152\"], [0.1, \"#c51b7d\"], [0.2, \"#de77ae\"], [0.3, \"#f1b6da\"], [0.4, \"#fde0ef\"], [0.5, \"#f7f7f7\"], [0.6, \"#e6f5d0\"], [0.7, \"#b8e186\"], [0.8, \"#7fbc41\"], [0.9, \"#4d9221\"], [1, \"#276419\"]], \"sequential\": [[0.0, \"#0d0887\"], [0.1111111111111111, \"#46039f\"], [0.2222222222222222, \"#7201a8\"], [0.3333333333333333, \"#9c179e\"], [0.4444444444444444, \"#bd3786\"], [0.5555555555555556, \"#d8576b\"], [0.6666666666666666, \"#ed7953\"], [0.7777777777777778, \"#fb9f3a\"], [0.8888888888888888, \"#fdca26\"], [1.0, \"#f0f921\"]], \"sequentialminus\": [[0.0, \"#0d0887\"], [0.1111111111111111, \"#46039f\"], [0.2222222222222222, \"#7201a8\"], [0.3333333333333333, \"#9c179e\"], [0.4444444444444444, \"#bd3786\"], [0.5555555555555556, \"#d8576b\"], [0.6666666666666666, \"#ed7953\"], [0.7777777777777778, \"#fb9f3a\"], [0.8888888888888888, \"#fdca26\"], [1.0, \"#f0f921\"]]}, \"colorway\": [\"#636efa\", \"#EF553B\", \"#00cc96\", \"#ab63fa\", \"#FFA15A\", \"#19d3f3\", \"#FF6692\", \"#B6E880\", \"#FF97FF\", \"#FECB52\"], \"font\": {\"color\": \"#2a3f5f\"}, \"geo\": {\"bgcolor\": \"white\", \"lakecolor\": \"white\", \"landcolor\": \"#E5ECF6\", \"showlakes\": true, \"showland\": true, \"subunitcolor\": \"white\"}, \"hoverlabel\": {\"align\": \"left\"}, \"hovermode\": \"closest\", \"mapbox\": {\"style\": \"light\"}, \"paper_bgcolor\": \"white\", \"plot_bgcolor\": \"#E5ECF6\", \"polar\": {\"angularaxis\": {\"gridcolor\": \"white\", \"linecolor\": \"white\", \"ticks\": \"\"}, \"bgcolor\": \"#E5ECF6\", \"radialaxis\": {\"gridcolor\": \"white\", \"linecolor\": \"white\", \"ticks\": \"\"}}, \"scene\": {\"xaxis\": {\"backgroundcolor\": \"#E5ECF6\", \"gridcolor\": \"white\", \"gridwidth\": 2, \"linecolor\": \"white\", \"showbackground\": true, \"ticks\": \"\", \"zerolinecolor\": \"white\"}, \"yaxis\": {\"backgroundcolor\": \"#E5ECF6\", \"gridcolor\": \"white\", \"gridwidth\": 2, \"linecolor\": \"white\", \"showbackground\": true, \"ticks\": \"\", \"zerolinecolor\": \"white\"}, \"zaxis\": {\"backgroundcolor\": \"#E5ECF6\", \"gridcolor\": \"white\", \"gridwidth\": 2, \"linecolor\": \"white\", \"showbackground\": true, \"ticks\": \"\", \"zerolinecolor\": \"white\"}}, \"shapedefaults\": {\"line\": {\"color\": \"#2a3f5f\"}}, \"ternary\": {\"aaxis\": {\"gridcolor\": \"white\", \"linecolor\": \"white\", \"ticks\": \"\"}, \"baxis\": {\"gridcolor\": \"white\", \"linecolor\": \"white\", \"ticks\": \"\"}, \"bgcolor\": \"#E5ECF6\", \"caxis\": {\"gridcolor\": \"white\", \"linecolor\": \"white\", \"ticks\": \"\"}}, \"title\": {\"x\": 0.05}, \"xaxis\": {\"automargin\": true, \"gridcolor\": \"white\", \"linecolor\": \"white\", \"ticks\": \"\", \"title\": {\"standoff\": 15}, \"zerolinecolor\": \"white\", \"zerolinewidth\": 2}, \"yaxis\": {\"automargin\": true, \"gridcolor\": \"white\", \"linecolor\": \"white\", \"ticks\": \"\", \"title\": {\"standoff\": 15}, \"zerolinecolor\": \"white\", \"zerolinewidth\": 2}}}, \"width\": 1000, \"xaxis\": {\"title\": {\"text\": \"Latency (s)\"}}, \"yaxis\": {\"autorange\": \"reversed\", \"title\": {\"text\": \"Time (s)\"}}},\n",
       "                        {\"responsive\": true}\n",
       "                    ).then(function(){\n",
       "                            \n",
       "var gd = document.getElementById('f5691655-b2d9-4545-ab53-7ee085e29fd5');\n",
       "var x = new MutationObserver(function (mutations, observer) {{\n",
       "        var display = window.getComputedStyle(gd).display;\n",
       "        if (!display || display === 'none') {{\n",
       "            console.log([gd, 'removed!']);\n",
       "            Plotly.purge(gd);\n",
       "            observer.disconnect();\n",
       "        }}\n",
       "}});\n",
       "\n",
       "// Listen for the removal of the full notebook cells\n",
       "var notebookContainer = gd.closest('#notebook-container');\n",
       "if (notebookContainer) {{\n",
       "    x.observe(notebookContainer, {childList: true});\n",
       "}}\n",
       "\n",
       "// Listen for the clearing of the current output cell\n",
       "var outputEl = gd.closest('.output');\n",
       "if (outputEl) {{\n",
       "    x.observe(outputEl, {childList: true});\n",
       "}}\n",
       "\n",
       "                        })\n",
       "                };\n",
       "                });\n",
       "            </script>\n",
       "        </div>"
      ]
     },
     "metadata": {},
     "output_type": "display_data"
    }
   ],
   "source": [
    "%autoreload 2\n",
    "from fibre_tracking.ap_track import APTrack\n",
    "from plotting import FallingLeafPlot\n",
    "\n",
    "# for how many intervals do we want to extend the track?\n",
    "EXT_NUM_INTV = 500\n",
    "# Starting point for the falling leaf plot\n",
    "FLP_START_TIME = recording.sweeps[ap_track.sweep_idcs[0]].t_start\n",
    "FLP_POST_ST_TIMEFRAME = max(ap_track.latencies) * 1.5\n",
    "\n",
    "# extend the track for the given number of intervals\n",
    "ap_track.extend_downwards(recording.sweeps, num_sweeps = EXT_NUM_INTV, max_shift = 0.01, radius = 2, verbose = False)\n",
    "\n",
    "flplot = FallingLeafPlot()\n",
    "flplot.plot(regular_stimuli = recording.el_stimuli, action_potentials = recording.actpots, t_start = FLP_START_TIME, \\\n",
    "            num_intervals = len(ap_track), ap_tracks = [ap_track], post_stimulus_timeframe = FLP_POST_ST_TIMEFRAME, \\\n",
    "            plot_raw_signal= False)"
   ]
  },
  {
   "cell_type": "code",
   "execution_count": 44,
   "metadata": {},
   "outputs": [
    {
     "name": "stdout",
     "output_type": "stream",
     "text": [
      "There are no APs in sweep nr. 31\n",
      "There are no APs in sweep nr. 72\n"
     ]
    },
    {
     "data": {
      "application/vnd.plotly.v1+json": {
       "config": {
        "plotlyServerURL": "https://plot.ly"
       },
       "data": [
        {
         "hovertemplate": "%{text}",
         "marker": {
          "color": "Black",
          "symbol": "star"
         },
         "mode": "markers",
         "name": "Electrical Stimuli",
         "text": [
          "time = 9.5961s<br>Index = 0",
          "time = 13.5964s<br>Index = 1",
          "time = 17.5966s<br>Index = 2",
          "time = 21.5968s<br>Index = 3",
          "time = 25.5971s<br>Index = 4",
          "time = 29.5973s<br>Index = 5",
          "time = 33.5977s<br>Index = 6",
          "time = 37.5980s<br>Index = 7",
          "time = 41.5983s<br>Index = 8",
          "time = 45.5985s<br>Index = 9",
          "time = 49.5987s<br>Index = 10",
          "time = 53.5990s<br>Index = 11",
          "time = 57.5992s<br>Index = 12",
          "time = 61.5994s<br>Index = 13",
          "time = 65.5999s<br>Index = 14",
          "time = 69.6001s<br>Index = 15",
          "time = 73.6004s<br>Index = 16",
          "time = 77.6006s<br>Index = 17",
          "time = 81.6008s<br>Index = 18",
          "time = 85.6011s<br>Index = 19",
          "time = 89.6013s<br>Index = 20",
          "time = 93.6016s<br>Index = 21",
          "time = 97.6020s<br>Index = 22",
          "time = 101.6022s<br>Index = 23",
          "time = 105.6025s<br>Index = 24",
          "time = 109.6027s<br>Index = 25",
          "time = 113.6029s<br>Index = 26",
          "time = 117.6031s<br>Index = 27",
          "time = 121.6034s<br>Index = 28",
          "time = 125.6037s<br>Index = 29",
          "time = 129.6041s<br>Index = 30",
          "time = 133.6043s<br>Index = 31",
          "time = 137.6045s<br>Index = 32",
          "time = 141.6048s<br>Index = 33",
          "time = 145.6050s<br>Index = 34",
          "time = 149.6053s<br>Index = 35",
          "time = 153.6055s<br>Index = 36",
          "time = 157.6058s<br>Index = 37",
          "time = 161.6061s<br>Index = 38",
          "time = 165.6063s<br>Index = 39",
          "time = 169.6066s<br>Index = 40",
          "time = 173.6068s<br>Index = 41",
          "time = 177.6070s<br>Index = 42",
          "time = 181.6073s<br>Index = 43",
          "time = 185.6076s<br>Index = 44",
          "time = 189.6078s<br>Index = 45",
          "time = 193.6081s<br>Index = 46",
          "time = 197.6084s<br>Index = 47",
          "time = 201.6086s<br>Index = 48",
          "time = 205.6088s<br>Index = 49",
          "time = 209.6091s<br>Index = 50",
          "time = 213.6094s<br>Index = 51",
          "time = 217.6096s<br>Index = 52",
          "time = 221.6098s<br>Index = 53",
          "time = 225.6104s<br>Index = 54",
          "time = 229.6106s<br>Index = 55",
          "time = 233.6108s<br>Index = 56",
          "time = 237.6111s<br>Index = 57",
          "time = 241.6113s<br>Index = 58",
          "time = 245.6115s<br>Index = 59",
          "time = 249.6118s<br>Index = 60",
          "time = 253.6121s<br>Index = 61",
          "time = 257.6126s<br>Index = 62",
          "time = 261.6128s<br>Index = 63",
          "time = 265.6130s<br>Index = 64",
          "time = 269.6133s<br>Index = 65",
          "time = 273.6135s<br>Index = 66",
          "time = 277.6138s<br>Index = 67",
          "time = 281.6140s<br>Index = 68",
          "time = 285.6143s<br>Index = 69",
          "time = 289.6148s<br>Index = 70",
          "time = 293.6150s<br>Index = 71",
          "time = 297.6153s<br>Index = 72",
          "time = 301.6155s<br>Index = 73",
          "time = 305.6157s<br>Index = 74",
          "time = 309.6160s<br>Index = 75",
          "time = 313.6162s<br>Index = 76",
          "time = 317.6165s<br>Index = 77",
          "time = 321.6170s<br>Index = 78",
          "time = 325.6173s<br>Index = 79",
          "time = 329.6175s<br>Index = 80",
          "time = 333.6178s<br>Index = 81",
          "time = 337.6180s<br>Index = 82",
          "time = 341.6182s<br>Index = 83",
          "time = 345.6184s<br>Index = 84",
          "time = 349.6187s<br>Index = 85",
          "time = 353.6193s<br>Index = 86",
          "time = 357.6195s<br>Index = 87",
          "time = 361.6197s<br>Index = 88",
          "time = 365.6200s<br>Index = 89",
          "time = 369.6202s<br>Index = 90",
          "time = 373.6205s<br>Index = 91",
          "time = 377.6207s<br>Index = 92",
          "time = 381.6209s<br>Index = 93",
          "time = 385.6214s<br>Index = 94",
          "time = 389.6217s<br>Index = 95",
          "time = 393.6220s<br>Index = 96",
          "time = 397.6222s<br>Index = 97",
          "time = 401.6224s<br>Index = 98",
          "time = 405.6227s<br>Index = 99",
          "time = 409.6229s<br>Index = 100",
          "time = 413.6232s<br>Index = 101",
          "time = 417.6237s<br>Index = 102",
          "time = 421.6239s<br>Index = 103",
          "time = 425.6241s<br>Index = 104",
          "time = 429.6244s<br>Index = 105",
          "time = 433.6246s<br>Index = 106"
         ],
         "type": "scatter",
         "x": [
          0,
          0,
          0,
          0,
          0,
          0,
          0,
          0,
          0,
          0,
          0,
          0,
          0,
          0,
          0,
          0,
          0,
          0,
          0,
          0,
          0,
          0,
          0,
          0,
          0,
          0,
          0,
          0,
          0,
          0,
          0,
          0,
          0,
          0,
          0,
          0,
          0,
          0,
          0,
          0,
          0,
          0,
          0,
          0,
          0,
          0,
          0,
          0,
          0,
          0,
          0,
          0,
          0,
          0,
          0,
          0,
          0,
          0,
          0,
          0,
          0,
          0,
          0,
          0,
          0,
          0,
          0,
          0,
          0,
          0,
          0,
          0,
          0,
          0,
          0,
          0,
          0,
          0,
          0,
          0,
          0,
          0,
          0,
          0,
          0,
          0,
          0,
          0,
          0,
          0,
          0,
          0,
          0,
          0,
          0,
          0,
          0,
          0,
          0,
          0,
          0,
          0,
          0,
          0,
          0,
          0,
          0
         ],
         "y": [
          9.59615,
          13.5964,
          17.5966,
          21.59685,
          25.5971,
          29.59735,
          33.59775,
          37.598,
          41.59825,
          45.5985,
          49.5987,
          53.59895,
          57.5992,
          61.59945,
          65.59985,
          69.6001,
          73.60035,
          77.6006,
          81.6008,
          85.60105,
          89.6013,
          93.60155,
          97.60195,
          101.6022,
          105.60245,
          109.6027,
          113.6029,
          117.60315,
          121.6034,
          125.60365,
          129.60405,
          133.6043,
          137.60455,
          141.6048,
          145.605,
          149.60525,
          153.6055,
          157.60575,
          161.6061,
          165.60635,
          169.6066,
          173.6068,
          177.60705,
          181.6073,
          185.60755,
          189.6078,
          193.60815,
          197.6084,
          201.6086,
          205.60885,
          209.6091,
          213.60935,
          217.6096,
          221.6098,
          225.61035,
          229.6106,
          233.61085,
          237.6111,
          241.6113,
          245.61155,
          249.6118,
          253.61205,
          257.6126,
          261.6128,
          265.61305,
          269.6133,
          273.61355,
          277.6138,
          281.614,
          285.61425,
          289.6148,
          293.61505,
          297.6153,
          301.6155,
          305.61575,
          309.616,
          313.61625,
          317.6165,
          321.617,
          325.61725,
          329.6175,
          333.61775,
          337.618,
          341.6182,
          345.61845,
          349.6187,
          353.61925,
          357.6195,
          361.6197,
          365.61995,
          369.6202,
          373.62045,
          377.6207,
          381.6209,
          385.62145,
          389.6217,
          393.62195,
          397.6222,
          401.6224,
          405.62265,
          409.6229,
          413.62315,
          417.6237,
          421.6239,
          425.62415,
          429.6244,
          433.62465
         ]
        },
        {
         "hovertemplate": "%{text}",
         "marker": {
          "color": "black",
          "size": 7,
          "symbol": [
           "triangle-nw",
           "triangle-ne"
          ]
         },
         "mode": "markers",
         "showlegend": false,
         "text": [
          "Latency: 0.0553s<br>Fibre Index: None",
          "Offset: 0.0579s"
         ],
         "type": "scatter",
         "x": [
          0.05525000000000091,
          0.05785000000000018
         ],
         "y": [
          9.59615,
          9.59615
         ]
        },
        {
         "hovertemplate": "%{text}",
         "marker": {
          "color": "black",
          "size": 7,
          "symbol": [
           "triangle-nw",
           "triangle-ne"
          ]
         },
         "mode": "markers",
         "showlegend": false,
         "text": [
          "Latency: 0.0554s<br>Fibre Index: None",
          "Offset: 0.0580s"
         ],
         "type": "scatter",
         "x": [
          0.05540000000000056,
          0.058000000000001606
         ],
         "y": [
          13.5964,
          13.5964
         ]
        },
        {
         "hovertemplate": "%{text}",
         "marker": {
          "color": "black",
          "size": 7,
          "symbol": [
           "triangle-nw",
           "triangle-ne"
          ]
         },
         "mode": "markers",
         "showlegend": false,
         "text": [
          "Latency: 0.0555s<br>Fibre Index: None",
          "Offset: 0.0581s"
         ],
         "type": "scatter",
         "x": [
          0.0555000000000021,
          0.058099999999999596
         ],
         "y": [
          17.5966,
          17.5966
         ]
        },
        {
         "hovertemplate": "%{text}",
         "marker": {
          "color": "black",
          "size": 7,
          "symbol": [
           "triangle-nw",
           "triangle-ne"
          ]
         },
         "mode": "markers",
         "showlegend": false,
         "text": [
          "Latency: 0.0557s<br>Fibre Index: None",
          "Offset: 0.0583s"
         ],
         "type": "scatter",
         "x": [
          0.05570000000000164,
          0.05829999999999913
         ],
         "y": [
          21.59685,
          21.59685
         ]
        },
        {
         "hovertemplate": "%{text}",
         "marker": {
          "color": "black",
          "size": 7,
          "symbol": [
           "triangle-nw",
           "triangle-ne"
          ]
         },
         "mode": "markers",
         "showlegend": false,
         "text": [
          "Latency: 0.0560s<br>Fibre Index: None",
          "Offset: 0.0586s"
         ],
         "type": "scatter",
         "x": [
          0.055999999999997385,
          0.05859999999999843
         ],
         "y": [
          25.5971,
          25.5971
         ]
        },
        {
         "hovertemplate": "%{text}",
         "marker": {
          "color": "black",
          "size": 7,
          "symbol": [
           "triangle-nw",
           "triangle-ne"
          ]
         },
         "mode": "markers",
         "showlegend": false,
         "text": [
          "Latency: 0.0564s<br>Fibre Index: None",
          "Offset: 0.0590s"
         ],
         "type": "scatter",
         "x": [
          0.0563500000000019,
          0.058950000000002944
         ],
         "y": [
          29.59735,
          29.59735
         ]
        },
        {
         "hovertemplate": "%{text}",
         "marker": {
          "color": "black",
          "size": 7,
          "symbol": [
           "triangle-nw",
           "triangle-ne"
          ]
         },
         "mode": "markers",
         "showlegend": false,
         "text": [
          "Latency: 0.0614s<br>Fibre Index: None",
          "Offset: 0.0640s"
         ],
         "type": "scatter",
         "x": [
          0.061350000000004457,
          0.0639500000000055
         ],
         "y": [
          33.59775,
          33.59775
         ]
        },
        {
         "hovertemplate": "%{text}",
         "marker": {
          "color": "black",
          "size": 7,
          "symbol": [
           "triangle-nw",
           "triangle-ne"
          ]
         },
         "mode": "markers",
         "showlegend": false,
         "text": [
          "Latency: 0.0599s<br>Fibre Index: None",
          "Offset: 0.0625s"
         ],
         "type": "scatter",
         "x": [
          0.059899999999998954,
          0.0625
         ],
         "y": [
          37.598,
          37.598
         ]
        },
        {
         "hovertemplate": "%{text}",
         "marker": {
          "color": "black",
          "size": 7,
          "symbol": [
           "triangle-nw",
           "triangle-ne"
          ]
         },
         "mode": "markers",
         "showlegend": false,
         "text": [
          "Latency: 0.0592s<br>Fibre Index: None",
          "Offset: 0.0617s"
         ],
         "type": "scatter",
         "x": [
          0.05915000000000248,
          0.06174999999999642
         ],
         "y": [
          41.59825,
          41.59825
         ]
        },
        {
         "hovertemplate": "%{text}",
         "marker": {
          "color": "black",
          "size": 7,
          "symbol": [
           "triangle-nw",
           "triangle-ne"
          ]
         },
         "mode": "markers",
         "showlegend": false,
         "text": [
          "Latency: 0.0583s<br>Fibre Index: None",
          "Offset: 0.0609s"
         ],
         "type": "scatter",
         "x": [
          0.05834999999999724,
          0.06094999999999828
         ],
         "y": [
          45.5985,
          45.5985
         ]
        },
        {
         "hovertemplate": "%{text}",
         "marker": {
          "color": "black",
          "size": 7,
          "symbol": [
           "triangle-nw",
           "triangle-ne"
          ]
         },
         "mode": "markers",
         "showlegend": false,
         "text": [
          "Latency: 0.0585s<br>Fibre Index: None",
          "Offset: 0.0611s"
         ],
         "type": "scatter",
         "x": [
          0.05850000000000222,
          0.06109999999999616
         ],
         "y": [
          49.5987,
          49.5987
         ]
        },
        {
         "hovertemplate": "%{text}",
         "marker": {
          "color": "black",
          "size": 7,
          "symbol": [
           "triangle-nw",
           "triangle-ne"
          ]
         },
         "mode": "markers",
         "showlegend": false,
         "text": [
          "Latency: 0.0586s<br>Fibre Index: None",
          "Offset: 0.0612s"
         ],
         "type": "scatter",
         "x": [
          0.05859999999999843,
          0.06119999999999948
         ],
         "y": [
          53.59895,
          53.59895
         ]
        },
        {
         "hovertemplate": "%{text}",
         "marker": {
          "color": "black",
          "size": 7,
          "symbol": [
           "triangle-nw",
           "triangle-ne"
          ]
         },
         "mode": "markers",
         "showlegend": false,
         "text": [
          "Latency: 0.0592s<br>Fibre Index: None",
          "Offset: 0.0618s"
         ],
         "type": "scatter",
         "x": [
          0.05924999999999869,
          0.06184999999999974
         ],
         "y": [
          57.5992,
          57.5992
         ]
        },
        {
         "hovertemplate": "%{text}",
         "marker": {
          "color": "black",
          "size": 7,
          "symbol": [
           "triangle-nw",
           "triangle-ne"
          ]
         },
         "mode": "markers",
         "showlegend": false,
         "text": [
          "Latency: 0.0588s<br>Fibre Index: None",
          "Offset: 0.0614s"
         ],
         "type": "scatter",
         "x": [
          0.05875000000000341,
          0.061350000000004457
         ],
         "y": [
          61.59945,
          61.59945
         ]
        },
        {
         "hovertemplate": "%{text}",
         "marker": {
          "color": "black",
          "size": 7,
          "symbol": [
           "triangle-nw",
           "triangle-ne"
          ]
         },
         "mode": "markers",
         "showlegend": false,
         "text": [
          "Latency: 0.0636s<br>Fibre Index: None",
          "Offset: 0.0662s"
         ],
         "type": "scatter",
         "x": [
          0.06364999999999554,
          0.06624999999999659
         ],
         "y": [
          65.59985,
          65.59985
         ]
        },
        {
         "hovertemplate": "%{text}",
         "marker": {
          "color": "black",
          "size": 7,
          "symbol": [
           "triangle-nw",
           "triangle-ne"
          ]
         },
         "mode": "markers",
         "showlegend": false,
         "text": [
          "Latency: 0.0622s<br>Fibre Index: None",
          "Offset: 0.0648s"
         ],
         "type": "scatter",
         "x": [
          0.06215000000000259,
          0.06475000000000364
         ],
         "y": [
          69.6001,
          69.6001
         ]
        },
        {
         "hovertemplate": "%{text}",
         "marker": {
          "color": "black",
          "size": 7,
          "symbol": [
           "triangle-nw",
           "triangle-ne"
          ]
         },
         "mode": "markers",
         "showlegend": false,
         "text": [
          "Latency: 0.0611s<br>Fibre Index: None",
          "Offset: 0.0637s"
         ],
         "type": "scatter",
         "x": [
          0.06114999999999782,
          0.06374999999999886
         ],
         "y": [
          73.60035,
          73.60035
         ]
        },
        {
         "hovertemplate": "%{text}",
         "marker": {
          "color": "black",
          "size": 7,
          "symbol": [
           "triangle-nw",
           "triangle-ne"
          ]
         },
         "mode": "markers",
         "showlegend": false,
         "text": [
          "Latency: 0.0603s<br>Fibre Index: None",
          "Offset: 0.0629s"
         ],
         "type": "scatter",
         "x": [
          0.06029999999999802,
          0.06289999999999907
         ],
         "y": [
          77.6006,
          77.6006
         ]
        },
        {
         "hovertemplate": "%{text}",
         "marker": {
          "color": "black",
          "size": 7,
          "symbol": [
           "triangle-nw",
           "triangle-ne"
          ]
         },
         "mode": "markers",
         "showlegend": false,
         "text": [
          "Latency: 0.0594s<br>Fibre Index: None",
          "Offset: 0.0620s"
         ],
         "type": "scatter",
         "x": [
          0.059449999999998226,
          0.06204999999999927
         ],
         "y": [
          81.6008,
          81.6008
         ]
        },
        {
         "hovertemplate": "%{text}",
         "marker": {
          "color": "black",
          "size": 7,
          "symbol": [
           "triangle-nw",
           "triangle-ne"
          ]
         },
         "mode": "markers",
         "showlegend": false,
         "text": [
          "Latency: 0.0590s<br>Fibre Index: None",
          "Offset: 0.0617s"
         ],
         "type": "scatter",
         "x": [
          0.05904999999999916,
          0.061650000000000205
         ],
         "y": [
          85.60105,
          85.60105
         ]
        },
        {
         "hovertemplate": "%{text}",
         "marker": {
          "color": "black",
          "size": 7,
          "symbol": [
           "triangle-nw",
           "triangle-ne"
          ]
         },
         "mode": "markers",
         "showlegend": false,
         "text": [
          "Latency: 0.0590s<br>Fibre Index: None",
          "Offset: 0.0616s"
         ],
         "type": "scatter",
         "x": [
          0.05900000000001171,
          0.061599999999998545
         ],
         "y": [
          89.6013,
          89.6013
         ]
        },
        {
         "hovertemplate": "%{text}",
         "marker": {
          "color": "black",
          "size": 7,
          "symbol": [
           "triangle-nw",
           "triangle-ne"
          ]
         },
         "mode": "markers",
         "showlegend": false,
         "text": [
          "Latency: 0.0649s<br>Fibre Index: None",
          "Offset: 0.0675s"
         ],
         "type": "scatter",
         "x": [
          0.0648999999999944,
          0.06749999999999545
         ],
         "y": [
          97.60195,
          97.60195
         ]
        },
        {
         "hovertemplate": "%{text}",
         "marker": {
          "color": "black",
          "size": 7,
          "symbol": [
           "triangle-nw",
           "triangle-ne"
          ]
         },
         "mode": "markers",
         "showlegend": false,
         "text": [
          "Latency: 0.0628s<br>Fibre Index: None",
          "Offset: 0.0654s"
         ],
         "type": "scatter",
         "x": [
          0.06284999999999741,
          0.06544999999999845
         ],
         "y": [
          101.6022,
          101.6022
         ]
        },
        {
         "hovertemplate": "%{text}",
         "marker": {
          "color": "black",
          "size": 7,
          "symbol": [
           "triangle-nw",
           "triangle-ne"
          ]
         },
         "mode": "markers",
         "showlegend": false,
         "text": [
          "Latency: 0.0622s<br>Fibre Index: None",
          "Offset: 0.0648s"
         ],
         "type": "scatter",
         "x": [
          0.06219999999999004,
          0.06479999999999109
         ],
         "y": [
          105.60245,
          105.60245
         ]
        },
        {
         "hovertemplate": "%{text}",
         "marker": {
          "color": "black",
          "size": 7,
          "symbol": [
           "triangle-nw",
           "triangle-ne"
          ]
         },
         "mode": "markers",
         "showlegend": false,
         "text": [
          "Latency: 0.0619s<br>Fibre Index: None",
          "Offset: 0.0645s"
         ],
         "type": "scatter",
         "x": [
          0.06189999999999429,
          0.06449999999999534
         ],
         "y": [
          109.6027,
          109.6027
         ]
        },
        {
         "hovertemplate": "%{text}",
         "marker": {
          "color": "black",
          "size": 7,
          "symbol": [
           "triangle-nw",
           "triangle-ne"
          ]
         },
         "mode": "markers",
         "showlegend": false,
         "text": [
          "Latency: 0.0609s<br>Fibre Index: None",
          "Offset: 0.0635s"
         ],
         "type": "scatter",
         "x": [
          0.06094999999999118,
          0.06354999999999222
         ],
         "y": [
          113.6029,
          113.6029
         ]
        },
        {
         "hovertemplate": "%{text}",
         "marker": {
          "color": "black",
          "size": 7,
          "symbol": [
           "triangle-nw",
           "triangle-ne"
          ]
         },
         "mode": "markers",
         "showlegend": false,
         "text": [
          "Latency: 0.0610s<br>Fibre Index: None",
          "Offset: 0.0636s"
         ],
         "type": "scatter",
         "x": [
          0.06100000000000705,
          0.06359999999999388
         ],
         "y": [
          117.60315,
          117.60315
         ]
        },
        {
         "hovertemplate": "%{text}",
         "marker": {
          "color": "black",
          "size": 7,
          "symbol": [
           "triangle-nw",
           "triangle-ne"
          ]
         },
         "mode": "markers",
         "showlegend": false,
         "text": [
          "Latency: 0.0604s<br>Fibre Index: None",
          "Offset: 0.0630s"
         ],
         "type": "scatter",
         "x": [
          0.06040000000000134,
          0.06300000000000239
         ],
         "y": [
          121.6034,
          121.6034
         ]
        },
        {
         "hovertemplate": "%{text}",
         "marker": {
          "color": "black",
          "size": 7,
          "symbol": [
           "triangle-nw",
           "triangle-ne"
          ]
         },
         "mode": "markers",
         "showlegend": false,
         "text": [
          "Latency: 0.0602s<br>Fibre Index: None",
          "Offset: 0.0628s"
         ],
         "type": "scatter",
         "x": [
          0.0601999999999947,
          0.06279999999999575
         ],
         "y": [
          125.60365,
          125.60365
         ]
        },
        {
         "hovertemplate": "%{text}",
         "marker": {
          "color": "black",
          "size": 7,
          "symbol": [
           "triangle-nw",
           "triangle-ne"
          ]
         },
         "mode": "markers",
         "showlegend": false,
         "text": [
          "Latency: 0.0635s<br>Fibre Index: None",
          "Offset: 0.0661s"
         ],
         "type": "scatter",
         "x": [
          0.06345000000001733,
          0.06605000000001837
         ],
         "y": [
          133.6043,
          133.6043
         ]
        },
        {
         "hovertemplate": "%{text}",
         "marker": {
          "color": "black",
          "size": 7,
          "symbol": [
           "triangle-nw",
           "triangle-ne"
          ]
         },
         "mode": "markers",
         "showlegend": false,
         "text": [
          "Latency: 0.0620s<br>Fibre Index: None",
          "Offset: 0.0645s"
         ],
         "type": "scatter",
         "x": [
          0.061950000000024374,
          0.064549999999997
         ],
         "y": [
          137.60455,
          137.60455
         ]
        },
        {
         "hovertemplate": "%{text}",
         "marker": {
          "color": "black",
          "size": 7,
          "symbol": [
           "triangle-nw",
           "triangle-ne"
          ]
         },
         "mode": "markers",
         "showlegend": false,
         "text": [
          "Latency: 0.0614s<br>Fibre Index: None",
          "Offset: 0.0640s"
         ],
         "type": "scatter",
         "x": [
          0.061399999999991905,
          0.06399999999999295
         ],
         "y": [
          141.6048,
          141.6048
         ]
        },
        {
         "hovertemplate": "%{text}",
         "marker": {
          "color": "black",
          "size": 7,
          "symbol": [
           "triangle-nw",
           "triangle-ne"
          ]
         },
         "mode": "markers",
         "showlegend": false,
         "text": [
          "Latency: 0.0611s<br>Fibre Index: None",
          "Offset: 0.0637s"
         ],
         "type": "scatter",
         "x": [
          0.06110000000001037,
          0.06370000000001141
         ],
         "y": [
          145.605,
          145.605
         ]
        },
        {
         "hovertemplate": "%{text}",
         "marker": {
          "color": "black",
          "size": 7,
          "symbol": [
           "triangle-nw",
           "triangle-ne"
          ]
         },
         "mode": "markers",
         "showlegend": false,
         "text": [
          "Latency: 0.0609s<br>Fibre Index: None",
          "Offset: 0.0635s"
         ],
         "type": "scatter",
         "x": [
          0.06094999999999118,
          0.06354999999999222
         ],
         "y": [
          149.60525,
          149.60525
         ]
        },
        {
         "hovertemplate": "%{text}",
         "marker": {
          "color": "black",
          "size": 7,
          "symbol": [
           "triangle-nw",
           "triangle-ne"
          ]
         },
         "mode": "markers",
         "showlegend": false,
         "text": [
          "Latency: 0.0609s<br>Fibre Index: None",
          "Offset: 0.0635s"
         ],
         "type": "scatter",
         "x": [
          0.06094999999999118,
          0.06354999999999222
         ],
         "y": [
          153.6055,
          153.6055
         ]
        },
        {
         "hovertemplate": "%{text}",
         "marker": {
          "color": "black",
          "size": 7,
          "symbol": [
           "triangle-nw",
           "triangle-ne"
          ]
         },
         "mode": "markers",
         "showlegend": false,
         "text": [
          "Latency: 0.0609s<br>Fibre Index: None",
          "Offset: 0.0635s"
         ],
         "type": "scatter",
         "x": [
          0.06090000000000373,
          0.06350000000000477
         ],
         "y": [
          157.60575,
          157.60575
         ]
        },
        {
         "hovertemplate": "%{text}",
         "marker": {
          "color": "black",
          "size": 7,
          "symbol": [
           "triangle-nw",
           "triangle-ne"
          ]
         },
         "mode": "markers",
         "showlegend": false,
         "text": [
          "Latency: 0.0630s<br>Fibre Index: None",
          "Offset: 0.0656s"
         ],
         "type": "scatter",
         "x": [
          0.06299999999998818,
          0.06559999999998922
         ],
         "y": [
          161.6061,
          161.6061
         ]
        },
        {
         "hovertemplate": "%{text}",
         "marker": {
          "color": "black",
          "size": 7,
          "symbol": [
           "triangle-nw",
           "triangle-ne"
          ]
         },
         "mode": "markers",
         "showlegend": false,
         "text": [
          "Latency: 0.0622s<br>Fibre Index: None",
          "Offset: 0.0648s"
         ],
         "type": "scatter",
         "x": [
          0.06215000000000259,
          0.06475000000000364
         ],
         "y": [
          165.60635,
          165.60635
         ]
        },
        {
         "hovertemplate": "%{text}",
         "marker": {
          "color": "black",
          "size": 7,
          "symbol": [
           "triangle-nw",
           "triangle-ne"
          ]
         },
         "mode": "markers",
         "showlegend": false,
         "text": [
          "Latency: 0.0617s<br>Fibre Index: None",
          "Offset: 0.0643s"
         ],
         "type": "scatter",
         "x": [
          0.061650000000014415,
          0.06425000000001546
         ],
         "y": [
          169.6066,
          169.6066
         ]
        },
        {
         "hovertemplate": "%{text}",
         "marker": {
          "color": "black",
          "size": 7,
          "symbol": [
           "triangle-nw",
           "triangle-ne"
          ]
         },
         "mode": "markers",
         "showlegend": false,
         "text": [
          "Latency: 0.0616s<br>Fibre Index: None",
          "Offset: 0.0642s"
         ],
         "type": "scatter",
         "x": [
          0.061599999999998545,
          0.06419999999999959
         ],
         "y": [
          173.6068,
          173.6068
         ]
        },
        {
         "hovertemplate": "%{text}",
         "marker": {
          "color": "black",
          "size": 7,
          "symbol": [
           "triangle-nw",
           "triangle-ne"
          ]
         },
         "mode": "markers",
         "showlegend": false,
         "text": [
          "Latency: 0.0614s<br>Fibre Index: None",
          "Offset: 0.0640s"
         ],
         "type": "scatter",
         "x": [
          0.06140000000002033,
          0.06400000000002137
         ],
         "y": [
          177.60705,
          177.60705
         ]
        },
        {
         "hovertemplate": "%{text}",
         "marker": {
          "color": "black",
          "size": 7,
          "symbol": [
           "triangle-nw",
           "triangle-ne"
          ]
         },
         "mode": "markers",
         "showlegend": false,
         "text": [
          "Latency: 0.0611s<br>Fibre Index: None",
          "Offset: 0.0637s"
         ],
         "type": "scatter",
         "x": [
          0.06114999999999782,
          0.06374999999999886
         ],
         "y": [
          181.6073,
          181.6073
         ]
        },
        {
         "hovertemplate": "%{text}",
         "marker": {
          "color": "black",
          "size": 7,
          "symbol": [
           "triangle-nw",
           "triangle-ne"
          ]
         },
         "mode": "markers",
         "showlegend": false,
         "text": [
          "Latency: 0.0612s<br>Fibre Index: None",
          "Offset: 0.0638s"
         ],
         "type": "scatter",
         "x": [
          0.061199999999985266,
          0.06379999999998631
         ],
         "y": [
          185.60755,
          185.60755
         ]
        },
        {
         "hovertemplate": "%{text}",
         "marker": {
          "color": "black",
          "size": 7,
          "symbol": [
           "triangle-nw",
           "triangle-ne"
          ]
         },
         "mode": "markers",
         "showlegend": false,
         "text": [
          "Latency: 0.0611s<br>Fibre Index: None",
          "Offset: 0.0637s"
         ],
         "type": "scatter",
         "x": [
          0.06110000000001037,
          0.06370000000001141
         ],
         "y": [
          189.6078,
          189.6078
         ]
        },
        {
         "hovertemplate": "%{text}",
         "marker": {
          "color": "black",
          "size": 7,
          "symbol": [
           "triangle-nw",
           "triangle-ne"
          ]
         },
         "mode": "markers",
         "showlegend": false,
         "text": [
          "Latency: 0.0644s<br>Fibre Index: None",
          "Offset: 0.0670s"
         ],
         "type": "scatter",
         "x": [
          0.06444999999999368,
          0.06704999999999472
         ],
         "y": [
          193.60815,
          193.60815
         ]
        },
        {
         "hovertemplate": "%{text}",
         "marker": {
          "color": "black",
          "size": 7,
          "symbol": [
           "triangle-nw",
           "triangle-ne"
          ]
         },
         "mode": "markers",
         "showlegend": false,
         "text": [
          "Latency: 0.0625s<br>Fibre Index: None",
          "Offset: 0.0651s"
         ],
         "type": "scatter",
         "x": [
          0.0625,
          0.06510000000000105
         ],
         "y": [
          197.6084,
          197.6084
         ]
        },
        {
         "hovertemplate": "%{text}",
         "marker": {
          "color": "black",
          "size": 7,
          "symbol": [
           "triangle-nw",
           "triangle-ne"
          ]
         },
         "mode": "markers",
         "showlegend": false,
         "text": [
          "Latency: 0.0624s<br>Fibre Index: None",
          "Offset: 0.0650s"
         ],
         "type": "scatter",
         "x": [
          0.06239999999999668,
          0.06499999999999773
         ],
         "y": [
          201.6086,
          201.6086
         ]
        },
        {
         "hovertemplate": "%{text}",
         "marker": {
          "color": "black",
          "size": 7,
          "symbol": [
           "triangle-nw",
           "triangle-ne"
          ]
         },
         "mode": "markers",
         "showlegend": false,
         "text": [
          "Latency: 0.0624s<br>Fibre Index: None",
          "Offset: 0.0650s"
         ],
         "type": "scatter",
         "x": [
          0.06239999999999668,
          0.06499999999999773
         ],
         "y": [
          205.60885,
          205.60885
         ]
        },
        {
         "hovertemplate": "%{text}",
         "marker": {
          "color": "black",
          "size": 7,
          "symbol": [
           "triangle-nw",
           "triangle-ne"
          ]
         },
         "mode": "markers",
         "showlegend": false,
         "text": [
          "Latency: 0.0620s<br>Fibre Index: None",
          "Offset: 0.0646s"
         ],
         "type": "scatter",
         "x": [
          0.0619999999999834,
          0.06459999999998445
         ],
         "y": [
          209.6091,
          209.6091
         ]
        },
        {
         "hovertemplate": "%{text}",
         "marker": {
          "color": "black",
          "size": 7,
          "symbol": [
           "triangle-nw",
           "triangle-ne"
          ]
         },
         "mode": "markers",
         "showlegend": false,
         "text": [
          "Latency: 0.0618s<br>Fibre Index: None",
          "Offset: 0.0644s"
         ],
         "type": "scatter",
         "x": [
          0.06184999999999263,
          0.06444999999999368
         ],
         "y": [
          213.60935,
          213.60935
         ]
        },
        {
         "hovertemplate": "%{text}",
         "marker": {
          "color": "black",
          "size": 7,
          "symbol": [
           "triangle-nw",
           "triangle-ne"
          ]
         },
         "mode": "markers",
         "showlegend": false,
         "text": [
          "Latency: 0.0618s<br>Fibre Index: None",
          "Offset: 0.0644s"
         ],
         "type": "scatter",
         "x": [
          0.061800000000005184,
          0.06440000000000623
         ],
         "y": [
          217.6096,
          217.6096
         ]
        },
        {
         "hovertemplate": "%{text}",
         "marker": {
          "color": "black",
          "size": 7,
          "symbol": [
           "triangle-nw",
           "triangle-ne"
          ]
         },
         "mode": "markers",
         "showlegend": false,
         "text": [
          "Latency: 0.0619s<br>Fibre Index: None",
          "Offset: 0.0645s"
         ],
         "type": "scatter",
         "x": [
          0.06189999999998008,
          0.06449999999998113
         ],
         "y": [
          221.6098,
          221.6098
         ]
        },
        {
         "hovertemplate": "%{text}",
         "marker": {
          "color": "black",
          "size": 7,
          "symbol": [
           "triangle-nw",
           "triangle-ne"
          ]
         },
         "mode": "markers",
         "showlegend": false,
         "text": [
          "Latency: 0.0691s<br>Fibre Index: None",
          "Offset: 0.0717s"
         ],
         "type": "scatter",
         "x": [
          0.06909999999999172,
          0.07169999999999277
         ],
         "y": [
          225.61035,
          225.61035
         ]
        },
        {
         "hovertemplate": "%{text}",
         "marker": {
          "color": "black",
          "size": 7,
          "symbol": [
           "triangle-nw",
           "triangle-ne"
          ]
         },
         "mode": "markers",
         "showlegend": false,
         "text": [
          "Latency: 0.0670s<br>Fibre Index: None",
          "Offset: 0.0696s"
         ],
         "type": "scatter",
         "x": [
          0.06704999999999472,
          0.06964999999999577
         ],
         "y": [
          229.6106,
          229.6106
         ]
        },
        {
         "hovertemplate": "%{text}",
         "marker": {
          "color": "black",
          "size": 7,
          "symbol": [
           "triangle-nw",
           "triangle-ne"
          ]
         },
         "mode": "markers",
         "showlegend": false,
         "text": [
          "Latency: 0.0653s<br>Fibre Index: None",
          "Offset: 0.0679s"
         ],
         "type": "scatter",
         "x": [
          0.06534999999999513,
          0.06794999999999618
         ],
         "y": [
          233.61085,
          233.61085
         ]
        },
        {
         "hovertemplate": "%{text}",
         "marker": {
          "color": "black",
          "size": 7,
          "symbol": [
           "triangle-nw",
           "triangle-ne"
          ]
         },
         "mode": "markers",
         "showlegend": false,
         "text": [
          "Latency: 0.0643s<br>Fibre Index: None",
          "Offset: 0.0669s"
         ],
         "type": "scatter",
         "x": [
          0.06430000000000291,
          0.06690000000000396
         ],
         "y": [
          237.6111,
          237.6111
         ]
        },
        {
         "hovertemplate": "%{text}",
         "marker": {
          "color": "black",
          "size": 7,
          "symbol": [
           "triangle-nw",
           "triangle-ne"
          ]
         },
         "mode": "markers",
         "showlegend": false,
         "text": [
          "Latency: 0.0639s<br>Fibre Index: None",
          "Offset: 0.0665s"
         ],
         "type": "scatter",
         "x": [
          0.06385000000000218,
          0.06645000000000323
         ],
         "y": [
          241.6113,
          241.6113
         ]
        },
        {
         "hovertemplate": "%{text}",
         "marker": {
          "color": "black",
          "size": 7,
          "symbol": [
           "triangle-nw",
           "triangle-ne"
          ]
         },
         "mode": "markers",
         "showlegend": false,
         "text": [
          "Latency: 0.0636s<br>Fibre Index: None",
          "Offset: 0.0662s"
         ],
         "type": "scatter",
         "x": [
          0.0636000000000081,
          0.06620000000000914
         ],
         "y": [
          245.61155,
          245.61155
         ]
        },
        {
         "hovertemplate": "%{text}",
         "marker": {
          "color": "black",
          "size": 7,
          "symbol": [
           "triangle-nw",
           "triangle-ne"
          ]
         },
         "mode": "markers",
         "showlegend": false,
         "text": [
          "Latency: 0.0639s<br>Fibre Index: None",
          "Offset: 0.0665s"
         ],
         "type": "scatter",
         "x": [
          0.06385000000000218,
          0.06645000000000323
         ],
         "y": [
          249.6118,
          249.6118
         ]
        },
        {
         "hovertemplate": "%{text}",
         "marker": {
          "color": "black",
          "size": 7,
          "symbol": [
           "triangle-nw",
           "triangle-ne"
          ]
         },
         "mode": "markers",
         "showlegend": false,
         "text": [
          "Latency: 0.0636s<br>Fibre Index: None",
          "Offset: 0.0662s"
         ],
         "type": "scatter",
         "x": [
          0.06364999999999554,
          0.06624999999999659
         ],
         "y": [
          253.61205,
          253.61205
         ]
        },
        {
         "hovertemplate": "%{text}",
         "marker": {
          "color": "black",
          "size": 7,
          "symbol": [
           "triangle-nw",
           "triangle-ne"
          ]
         },
         "mode": "markers",
         "showlegend": false,
         "text": [
          "Latency: 0.0724s<br>Fibre Index: None",
          "Offset: 0.0750s"
         ],
         "type": "scatter",
         "x": [
          0.07240000000001601,
          0.07499999999998863
         ],
         "y": [
          257.6126,
          257.6126
         ]
        },
        {
         "hovertemplate": "%{text}",
         "marker": {
          "color": "black",
          "size": 7,
          "symbol": [
           "triangle-nw",
           "triangle-ne"
          ]
         },
         "mode": "markers",
         "showlegend": false,
         "text": [
          "Latency: 0.0697s<br>Fibre Index: None",
          "Offset: 0.0723s"
         ],
         "type": "scatter",
         "x": [
          0.06970000000001164,
          0.07229999999998427
         ],
         "y": [
          261.6128,
          261.6128
         ]
        },
        {
         "hovertemplate": "%{text}",
         "marker": {
          "color": "black",
          "size": 7,
          "symbol": [
           "triangle-nw",
           "triangle-ne"
          ]
         },
         "mode": "markers",
         "showlegend": false,
         "text": [
          "Latency: 0.0679s<br>Fibre Index: None",
          "Offset: 0.0706s"
         ],
         "type": "scatter",
         "x": [
          0.06794999999999618,
          0.07055000000002565
         ],
         "y": [
          265.61305,
          265.61305
         ]
        },
        {
         "hovertemplate": "%{text}",
         "marker": {
          "color": "black",
          "size": 7,
          "symbol": [
           "triangle-nw",
           "triangle-ne"
          ]
         },
         "mode": "markers",
         "showlegend": false,
         "text": [
          "Latency: 0.0668s<br>Fibre Index: None",
          "Offset: 0.0694s"
         ],
         "type": "scatter",
         "x": [
          0.06680000000000064,
          0.0694000000000301
         ],
         "y": [
          269.6133,
          269.6133
         ]
        },
        {
         "hovertemplate": "%{text}",
         "marker": {
          "color": "black",
          "size": 7,
          "symbol": [
           "triangle-nw",
           "triangle-ne"
          ]
         },
         "mode": "markers",
         "showlegend": false,
         "text": [
          "Latency: 0.0658s<br>Fibre Index: None",
          "Offset: 0.0684s"
         ],
         "type": "scatter",
         "x": [
          0.06575000000003683,
          0.06835000000000946
         ],
         "y": [
          273.61355,
          273.61355
         ]
        },
        {
         "hovertemplate": "%{text}",
         "marker": {
          "color": "black",
          "size": 7,
          "symbol": [
           "triangle-nw",
           "triangle-ne"
          ]
         },
         "mode": "markers",
         "showlegend": false,
         "text": [
          "Latency: 0.0652s<br>Fibre Index: None",
          "Offset: 0.0678s"
         ],
         "type": "scatter",
         "x": [
          0.06519999999994752,
          0.06779999999997699
         ],
         "y": [
          277.6138,
          277.6138
         ]
        },
        {
         "hovertemplate": "%{text}",
         "marker": {
          "color": "black",
          "size": 7,
          "symbol": [
           "triangle-nw",
           "triangle-ne"
          ]
         },
         "mode": "markers",
         "showlegend": false,
         "text": [
          "Latency: 0.0648s<br>Fibre Index: None",
          "Offset: 0.0674s"
         ],
         "type": "scatter",
         "x": [
          0.06480000000004793,
          0.06740000000002055
         ],
         "y": [
          281.614,
          281.614
         ]
        },
        {
         "hovertemplate": "%{text}",
         "marker": {
          "color": "black",
          "size": 7,
          "symbol": [
           "triangle-nw",
           "triangle-ne"
          ]
         },
         "mode": "markers",
         "showlegend": false,
         "text": [
          "Latency: 0.0645s<br>Fibre Index: None",
          "Offset: 0.0671s"
         ],
         "type": "scatter",
         "x": [
          0.064549999999997,
          0.06714999999996962
         ],
         "y": [
          285.61425,
          285.61425
         ]
        },
        {
         "hovertemplate": "%{text}",
         "marker": {
          "color": "black",
          "size": 7,
          "symbol": [
           "triangle-nw",
           "triangle-ne"
          ]
         },
         "mode": "markers",
         "showlegend": false,
         "text": [
          "Latency: 0.0722s<br>Fibre Index: None",
          "Offset: 0.0747s"
         ],
         "type": "scatter",
         "x": [
          0.07215000000002192,
          0.07474999999999454
         ],
         "y": [
          289.6148,
          289.6148
         ]
        },
        {
         "hovertemplate": "%{text}",
         "marker": {
          "color": "black",
          "size": 7,
          "symbol": [
           "triangle-nw",
           "triangle-ne"
          ]
         },
         "mode": "markers",
         "showlegend": false,
         "text": [
          "Latency: 0.0677s<br>Fibre Index: None",
          "Offset: 0.0704s"
         ],
         "type": "scatter",
         "x": [
          0.06774999999998954,
          0.07035000000001901
         ],
         "y": [
          297.6153,
          297.6153
         ]
        },
        {
         "hovertemplate": "%{text}",
         "marker": {
          "color": "black",
          "size": 7,
          "symbol": [
           "triangle-nw",
           "triangle-ne"
          ]
         },
         "mode": "markers",
         "showlegend": false,
         "text": [
          "Latency: 0.1151s<br>Fibre Index: None",
          "Offset: 0.1177s"
         ],
         "type": "scatter",
         "x": [
          0.11509999999998399,
          0.11770000000001346
         ],
         "y": [
          301.6155,
          301.6155
         ]
        },
        {
         "hovertemplate": "%{text}",
         "marker": {
          "color": "black",
          "size": 7,
          "symbol": [
           "triangle-nw",
           "triangle-ne"
          ]
         },
         "mode": "markers",
         "showlegend": false,
         "text": [
          "Latency: 0.0667s<br>Fibre Index: None",
          "Offset: 0.0693s"
         ],
         "type": "scatter",
         "x": [
          0.06670000000002574,
          0.06929999999999836
         ],
         "y": [
          305.61575,
          305.61575
         ]
        },
        {
         "hovertemplate": "%{text}",
         "marker": {
          "color": "black",
          "size": 7,
          "symbol": [
           "triangle-nw",
           "triangle-ne"
          ]
         },
         "mode": "markers",
         "showlegend": false,
         "text": [
          "Latency: 0.0661s<br>Fibre Index: None",
          "Offset: 0.0687s"
         ],
         "type": "scatter",
         "x": [
          0.06610000000000582,
          0.06870000000003529
         ],
         "y": [
          309.616,
          309.616
         ]
        },
        {
         "hovertemplate": "%{text}",
         "marker": {
          "color": "black",
          "size": 7,
          "symbol": [
           "triangle-nw",
           "triangle-ne"
          ]
         },
         "mode": "markers",
         "showlegend": false,
         "text": [
          "Latency: 0.0658s<br>Fibre Index: None",
          "Offset: 0.0684s"
         ],
         "type": "scatter",
         "x": [
          0.06575000000003683,
          0.06835000000000946
         ],
         "y": [
          313.61625,
          313.61625
         ]
        },
        {
         "hovertemplate": "%{text}",
         "marker": {
          "color": "black",
          "size": 7,
          "symbol": [
           "triangle-nw",
           "triangle-ne"
          ]
         },
         "mode": "markers",
         "showlegend": false,
         "text": [
          "Latency: 0.0655s<br>Fibre Index: None",
          "Offset: 0.0681s"
         ],
         "type": "scatter",
         "x": [
          0.06550000000004275,
          0.06810000000001537
         ],
         "y": [
          317.6165,
          317.6165
         ]
        },
        {
         "hovertemplate": "%{text}",
         "marker": {
          "color": "black",
          "size": 7,
          "symbol": [
           "triangle-nw",
           "triangle-ne"
          ]
         },
         "mode": "markers",
         "showlegend": false,
         "text": [
          "Latency: 0.0741s<br>Fibre Index: None",
          "Offset: 0.0767s"
         ],
         "type": "scatter",
         "x": [
          0.07409999999998718,
          0.0766999999999598
         ],
         "y": [
          321.617,
          321.617
         ]
        },
        {
         "hovertemplate": "%{text}",
         "marker": {
          "color": "black",
          "size": 7,
          "symbol": [
           "triangle-nw",
           "triangle-ne"
          ]
         },
         "mode": "markers",
         "showlegend": false,
         "text": [
          "Latency: 0.0711s<br>Fibre Index: None",
          "Offset: 0.0737s"
         ],
         "type": "scatter",
         "x": [
          0.07110000000000127,
          0.0736999999999739
         ],
         "y": [
          325.61725,
          325.61725
         ]
        },
        {
         "hovertemplate": "%{text}",
         "marker": {
          "color": "black",
          "size": 7,
          "symbol": [
           "triangle-nw",
           "triangle-ne"
          ]
         },
         "mode": "markers",
         "showlegend": false,
         "text": [
          "Latency: 0.0691s<br>Fibre Index: None",
          "Offset: 0.0716s"
         ],
         "type": "scatter",
         "x": [
          0.06905000000000427,
          0.0716499999999769
         ],
         "y": [
          329.6175,
          329.6175
         ]
        },
        {
         "hovertemplate": "%{text}",
         "marker": {
          "color": "black",
          "size": 7,
          "symbol": [
           "triangle-nw",
           "triangle-ne"
          ]
         },
         "mode": "markers",
         "showlegend": false,
         "text": [
          "Latency: 0.0681s<br>Fibre Index: None",
          "Offset: 0.0707s"
         ],
         "type": "scatter",
         "x": [
          0.06810000000001537,
          0.070699999999988
         ],
         "y": [
          333.61775,
          333.61775
         ]
        },
        {
         "hovertemplate": "%{text}",
         "marker": {
          "color": "black",
          "size": 7,
          "symbol": [
           "triangle-nw",
           "triangle-ne"
          ]
         },
         "mode": "markers",
         "showlegend": false,
         "text": [
          "Latency: 0.0679s<br>Fibre Index: None",
          "Offset: 0.0705s"
         ],
         "type": "scatter",
         "x": [
          0.06790000000000873,
          0.07049999999998136
         ],
         "y": [
          337.618,
          337.618
         ]
        },
        {
         "hovertemplate": "%{text}",
         "marker": {
          "color": "black",
          "size": 7,
          "symbol": [
           "triangle-nw",
           "triangle-ne"
          ]
         },
         "mode": "markers",
         "showlegend": false,
         "text": [
          "Latency: 0.0674s<br>Fibre Index: None",
          "Offset: 0.0700s"
         ],
         "type": "scatter",
         "x": [
          0.06740000000002055,
          0.06999999999999318
         ],
         "y": [
          341.6182,
          341.6182
         ]
        },
        {
         "hovertemplate": "%{text}",
         "marker": {
          "color": "black",
          "size": 7,
          "symbol": [
           "triangle-nw",
           "triangle-ne"
          ]
         },
         "mode": "markers",
         "showlegend": false,
         "text": [
          "Latency: 0.0671s<br>Fibre Index: None",
          "Offset: 0.0697s"
         ],
         "type": "scatter",
         "x": [
          0.06709999999998217,
          0.06970000000001164
         ],
         "y": [
          345.61845,
          345.61845
         ]
        },
        {
         "hovertemplate": "%{text}",
         "marker": {
          "color": "black",
          "size": 7,
          "symbol": [
           "triangle-nw",
           "triangle-ne"
          ]
         },
         "mode": "markers",
         "showlegend": false,
         "text": [
          "Latency: 0.0667s<br>Fibre Index: None",
          "Offset: 0.0693s"
         ],
         "type": "scatter",
         "x": [
          0.06670000000002574,
          0.06929999999999836
         ],
         "y": [
          349.6187,
          349.6187
         ]
        },
        {
         "hovertemplate": "%{text}",
         "marker": {
          "color": "black",
          "size": 7,
          "symbol": [
           "triangle-nw",
           "triangle-ne"
          ]
         },
         "mode": "markers",
         "showlegend": false,
         "text": [
          "Latency: 0.0745s<br>Fibre Index: None",
          "Offset: 0.0771s"
         ],
         "type": "scatter",
         "x": [
          0.0745499999999879,
          0.07714999999996053
         ],
         "y": [
          353.61925,
          353.61925
         ]
        },
        {
         "hovertemplate": "%{text}",
         "marker": {
          "color": "black",
          "size": 7,
          "symbol": [
           "triangle-nw",
           "triangle-ne"
          ]
         },
         "mode": "markers",
         "showlegend": false,
         "text": [
          "Latency: 0.0725s<br>Fibre Index: None",
          "Offset: 0.0750s"
         ],
         "type": "scatter",
         "x": [
          0.07245000000000346,
          0.07504999999997608
         ],
         "y": [
          357.6195,
          357.6195
         ]
        },
        {
         "hovertemplate": "%{text}",
         "marker": {
          "color": "black",
          "size": 7,
          "symbol": [
           "triangle-nw",
           "triangle-ne"
          ]
         },
         "mode": "markers",
         "showlegend": false,
         "text": [
          "Latency: 0.0708s<br>Fibre Index: None",
          "Offset: 0.0734s"
         ],
         "type": "scatter",
         "x": [
          0.07079999999996289,
          0.07339999999999236
         ],
         "y": [
          361.6197,
          361.6197
         ]
        },
        {
         "hovertemplate": "%{text}",
         "marker": {
          "color": "black",
          "size": 7,
          "symbol": [
           "triangle-nw",
           "triangle-ne"
          ]
         },
         "mode": "markers",
         "showlegend": false,
         "text": [
          "Latency: 0.0694s<br>Fibre Index: None",
          "Offset: 0.0720s"
         ],
         "type": "scatter",
         "x": [
          0.06944999999996071,
          0.07204999999999018
         ],
         "y": [
          365.61995,
          365.61995
         ]
        },
        {
         "hovertemplate": "%{text}",
         "marker": {
          "color": "black",
          "size": 7,
          "symbol": [
           "triangle-nw",
           "triangle-ne"
          ]
         },
         "mode": "markers",
         "showlegend": false,
         "text": [
          "Latency: 0.0686s<br>Fibre Index: None",
          "Offset: 0.0711s"
         ],
         "type": "scatter",
         "x": [
          0.0685500000000161,
          0.07114999999998872
         ],
         "y": [
          369.6202,
          369.6202
         ]
        },
        {
         "hovertemplate": "%{text}",
         "marker": {
          "color": "black",
          "size": 7,
          "symbol": [
           "triangle-nw",
           "triangle-ne"
          ]
         },
         "mode": "markers",
         "showlegend": false,
         "text": [
          "Latency: 0.0688s<br>Fibre Index: None",
          "Offset: 0.0714s"
         ],
         "type": "scatter",
         "x": [
          0.06880000000001019,
          0.07139999999998281
         ],
         "y": [
          373.62045,
          373.62045
         ]
        },
        {
         "hovertemplate": "%{text}",
         "marker": {
          "color": "black",
          "size": 7,
          "symbol": [
           "triangle-nw",
           "triangle-ne"
          ]
         },
         "mode": "markers",
         "showlegend": false,
         "text": [
          "Latency: 0.0684s<br>Fibre Index: None",
          "Offset: 0.0709s"
         ],
         "type": "scatter",
         "x": [
          0.06835000000000946,
          0.07094999999998208
         ],
         "y": [
          377.6207,
          377.6207
         ]
        },
        {
         "hovertemplate": "%{text}",
         "marker": {
          "color": "black",
          "size": 7,
          "symbol": [
           "triangle-nw",
           "triangle-ne"
          ]
         },
         "mode": "markers",
         "showlegend": false,
         "text": [
          "Latency: 0.0752s<br>Fibre Index: None",
          "Offset: 0.0778s"
         ],
         "type": "scatter",
         "x": [
          0.07515000000000782,
          0.07775000000003729
         ],
         "y": [
          385.62145,
          385.62145
         ]
        },
        {
         "hovertemplate": "%{text}",
         "marker": {
          "color": "black",
          "size": 7,
          "symbol": [
           "triangle-nw",
           "triangle-ne"
          ]
         },
         "mode": "markers",
         "showlegend": false,
         "text": [
          "Latency: 0.0724s<br>Fibre Index: None",
          "Offset: 0.0750s"
         ],
         "type": "scatter",
         "x": [
          0.07240000000001601,
          0.07500000000004547
         ],
         "y": [
          389.6217,
          389.6217
         ]
        },
        {
         "hovertemplate": "%{text}",
         "marker": {
          "color": "black",
          "size": 7,
          "symbol": [
           "triangle-nw",
           "triangle-ne"
          ]
         },
         "mode": "markers",
         "showlegend": false,
         "text": [
          "Latency: 0.0707s<br>Fibre Index: None",
          "Offset: 0.0733s"
         ],
         "type": "scatter",
         "x": [
          0.07074999999997544,
          0.07334999999994807
         ],
         "y": [
          393.62195,
          393.62195
         ]
        },
        {
         "hovertemplate": "%{text}",
         "marker": {
          "color": "black",
          "size": 7,
          "symbol": [
           "triangle-nw",
           "triangle-ne"
          ]
         },
         "mode": "markers",
         "showlegend": false,
         "text": [
          "Latency: 0.0700s<br>Fibre Index: None",
          "Offset: 0.0725s"
         ],
         "type": "scatter",
         "x": [
          0.06995000000000573,
          0.07254999999997835
         ],
         "y": [
          397.6222,
          397.6222
         ]
        },
        {
         "hovertemplate": "%{text}",
         "marker": {
          "color": "black",
          "size": 7,
          "symbol": [
           "triangle-nw",
           "triangle-ne"
          ]
         },
         "mode": "markers",
         "showlegend": false,
         "text": [
          "Latency: 0.0694s<br>Fibre Index: None",
          "Offset: 0.0720s"
         ],
         "type": "scatter",
         "x": [
          0.06939999999997326,
          0.07199999999994589
         ],
         "y": [
          401.6224,
          401.6224
         ]
        },
        {
         "hovertemplate": "%{text}",
         "marker": {
          "color": "black",
          "size": 7,
          "symbol": [
           "triangle-nw",
           "triangle-ne"
          ]
         },
         "mode": "markers",
         "showlegend": false,
         "text": [
          "Latency: 0.0697s<br>Fibre Index: None",
          "Offset: 0.0723s"
         ],
         "type": "scatter",
         "x": [
          0.06974999999999909,
          0.07234999999997171
         ],
         "y": [
          405.62265,
          405.62265
         ]
        },
        {
         "hovertemplate": "%{text}",
         "marker": {
          "color": "black",
          "size": 7,
          "symbol": [
           "triangle-nw",
           "triangle-ne"
          ]
         },
         "mode": "markers",
         "showlegend": false,
         "text": [
          "Latency: 0.0697s<br>Fibre Index: None",
          "Offset: 0.0723s"
         ],
         "type": "scatter",
         "x": [
          0.06974999999999909,
          0.07234999999997171
         ],
         "y": [
          409.6229,
          409.6229
         ]
        },
        {
         "hovertemplate": "%{text}",
         "marker": {
          "color": "black",
          "size": 7,
          "symbol": [
           "triangle-nw",
           "triangle-ne"
          ]
         },
         "mode": "markers",
         "showlegend": false,
         "text": [
          "Latency: 0.0777s<br>Fibre Index: None",
          "Offset: 0.0803s"
         ],
         "type": "scatter",
         "x": [
          0.077699999999993,
          0.08030000000002246
         ],
         "y": [
          417.6237,
          417.6237
         ]
        },
        {
         "hovertemplate": "%{text}",
         "marker": {
          "color": "black",
          "size": 7,
          "symbol": [
           "triangle-nw",
           "triangle-ne"
          ]
         },
         "mode": "markers",
         "showlegend": false,
         "text": [
          "Latency: 0.0752s<br>Fibre Index: None",
          "Offset: 0.0778s"
         ],
         "type": "scatter",
         "x": [
          0.07519999999999527,
          0.07780000000002474
         ],
         "y": [
          421.6239,
          421.6239
         ]
        },
        {
         "hovertemplate": "%{text}",
         "marker": {
          "color": "black",
          "size": 7,
          "symbol": [
           "triangle-nw",
           "triangle-ne"
          ]
         },
         "mode": "markers",
         "showlegend": false,
         "text": [
          "Latency: 0.0731s<br>Fibre Index: None",
          "Offset: 0.0757s"
         ],
         "type": "scatter",
         "x": [
          0.07310000000001082,
          0.07570000000004029
         ],
         "y": [
          425.62415,
          425.62415
         ]
        },
        {
         "hovertemplate": "%{text}",
         "marker": {
          "color": "black",
          "size": 7,
          "symbol": [
           "triangle-nw",
           "triangle-ne"
          ]
         },
         "mode": "markers",
         "showlegend": false,
         "text": [
          "Latency: 0.0721s<br>Fibre Index: None",
          "Offset: 0.0747s"
         ],
         "type": "scatter",
         "x": [
          0.07210000000003447,
          0.0747000000000071
         ],
         "y": [
          429.6244,
          429.6244
         ]
        },
        {
         "line": {
          "color": "green",
          "width": 0.75
         },
         "mode": "lines",
         "name": "AP Track",
         "type": "scatter",
         "x": [
          0.05664999999999987,
          0.056550000000000544,
          0.05670000000000108,
          0.05680000000000085,
          0.057000000000000384,
          0.05729999999999791,
          0.05765000000000242,
          0.06265000000000498,
          0.06119999999999948,
          0.06044999999999945,
          0.05964999999999776,
          0.05979999999999919,
          0.059899999999998954,
          0.060549999999999216,
          0.060050000000003934,
          0.06494999999999607,
          0.06345000000000312,
          0.06244999999999834,
          0.061599999999998545,
          0.06074999999999875,
          0.06034999999999968,
          0.06030000000000513,
          0.06051038961038975,
          0.06235892151326947,
          0.06453209109730862,
          0.0638239273480144,
          0.06333607129102792,
          0.0627308363166625,
          0.06241025742695315,
          0.06203155045842608,
          0.06119583199564616,
          0.06305258665114574,
          0.06515369614535509,
          0.06349571473047344,
          0.06280457823537795,
          0.062420668631038734,
          0.06198977489971544,
          0.06231263492214584,
          0.062274186267478104,
          0.06303303855747973,
          0.06306932674491728,
          0.06310415151772066,
          0.06313758256230105,
          0.06276968470322696,
          0.06276415470884632,
          0.0627570085528495,
          0.0627483165031329,
          0.06313814434240798,
          0.0635598870753,
          0.06401326246125334,
          0.06369798478598213,
          0.06295102083620112,
          0.06294191510663132,
          0.06333164827401358,
          0.06294989297179415,
          0.06373823867967576,
          0.06818268828366128,
          0.06733540856433849,
          0.0656075480827653,
          0.06534549706933936,
          0.06545700537794734,
          0.06516851368655532,
          0.06525421554355035,
          0.06573971258743738,
          0.07105001121862597,
          0.0694803098498146,
          0.06819182060221532,
          0.06720925627546631,
          0.06655680608392367,
          0.06625814958377066,
          0.06593647030929045,
          0.06599193389195307,
          0.0712469279910477,
          0.06998639697598706,
          0.0686408604074277,
          0.0684108553703999,
          0.06776007840354749,
          0.06706787970053656,
          0.06713452215636671,
          0.06720077512826314,
          0.07246664835332411,
          0.07078894133147148,
          0.06941487779049817,
          0.06916429353251037,
          0.06889477640016807,
          0.06820643573841394,
          0.06828077633520978,
          0.06715479616215801,
          0.07397395705493695,
          0.0722981230549682,
          0.07093449879282711,
          0.07070113094094253,
          0.07005056289794463,
          0.06976567975443251,
          0.0698636838220848,
          0.07196150871840458,
          0.0737424915094612,
          0.07238971141391987,
          0.07137221429754965,
          0.07110647970437045,
          0.07482474511119122,
          0.07108550556751703,
          0.07119002451733916,
          0.07089439117323408,
          0.07698322384854649,
          0.07490040817221041,
          0.07352788899183137
         ],
         "y": [
          5.5959,
          9.59615,
          13.5964,
          17.5966,
          21.59685,
          25.5971,
          29.59735,
          33.59775,
          37.598,
          41.59825,
          45.5985,
          49.5987,
          53.59895,
          57.5992,
          61.59945,
          65.59985,
          69.6001,
          73.60035,
          77.6006,
          81.6008,
          85.60105,
          89.6013,
          93.60155,
          97.60195,
          101.6022,
          105.60245,
          109.6027,
          113.6029,
          117.60315,
          121.6034,
          125.60365,
          129.60405,
          133.6043,
          137.60455,
          141.6048,
          145.605,
          149.60525,
          153.6055,
          157.60575,
          161.6061,
          165.60635,
          169.6066,
          173.6068,
          177.60705,
          181.6073,
          185.60755,
          189.6078,
          193.60815,
          197.6084,
          201.6086,
          205.60885,
          209.6091,
          213.60935,
          217.6096,
          221.6098,
          225.61035,
          229.6106,
          233.61085,
          237.6111,
          241.6113,
          245.61155,
          249.6118,
          253.61205,
          257.6126,
          261.6128,
          265.61305,
          269.6133,
          273.61355,
          277.6138,
          281.614,
          285.61425,
          289.6148,
          293.61505,
          297.6153,
          301.6155,
          305.61575,
          309.616,
          313.61625,
          317.6165,
          321.617,
          325.61725,
          329.6175,
          333.61775,
          337.618,
          341.6182,
          345.61845,
          349.6187,
          353.61925,
          357.6195,
          361.6197,
          365.61995,
          369.6202,
          373.62045,
          377.6207,
          381.6209,
          385.62145,
          389.6217,
          393.62195,
          397.6222,
          401.6224,
          405.62265,
          409.6229,
          413.62315,
          417.6237,
          421.6239,
          425.62415,
          429.6244
         ]
        }
       ],
       "layout": {
        "height": 600,
        "template": {
         "data": {
          "bar": [
           {
            "error_x": {
             "color": "#2a3f5f"
            },
            "error_y": {
             "color": "#2a3f5f"
            },
            "marker": {
             "line": {
              "color": "#E5ECF6",
              "width": 0.5
             }
            },
            "type": "bar"
           }
          ],
          "barpolar": [
           {
            "marker": {
             "line": {
              "color": "#E5ECF6",
              "width": 0.5
             }
            },
            "type": "barpolar"
           }
          ],
          "carpet": [
           {
            "aaxis": {
             "endlinecolor": "#2a3f5f",
             "gridcolor": "white",
             "linecolor": "white",
             "minorgridcolor": "white",
             "startlinecolor": "#2a3f5f"
            },
            "baxis": {
             "endlinecolor": "#2a3f5f",
             "gridcolor": "white",
             "linecolor": "white",
             "minorgridcolor": "white",
             "startlinecolor": "#2a3f5f"
            },
            "type": "carpet"
           }
          ],
          "choropleth": [
           {
            "colorbar": {
             "outlinewidth": 0,
             "ticks": ""
            },
            "type": "choropleth"
           }
          ],
          "contour": [
           {
            "colorbar": {
             "outlinewidth": 0,
             "ticks": ""
            },
            "colorscale": [
             [
              0,
              "#0d0887"
             ],
             [
              0.1111111111111111,
              "#46039f"
             ],
             [
              0.2222222222222222,
              "#7201a8"
             ],
             [
              0.3333333333333333,
              "#9c179e"
             ],
             [
              0.4444444444444444,
              "#bd3786"
             ],
             [
              0.5555555555555556,
              "#d8576b"
             ],
             [
              0.6666666666666666,
              "#ed7953"
             ],
             [
              0.7777777777777778,
              "#fb9f3a"
             ],
             [
              0.8888888888888888,
              "#fdca26"
             ],
             [
              1,
              "#f0f921"
             ]
            ],
            "type": "contour"
           }
          ],
          "contourcarpet": [
           {
            "colorbar": {
             "outlinewidth": 0,
             "ticks": ""
            },
            "type": "contourcarpet"
           }
          ],
          "heatmap": [
           {
            "colorbar": {
             "outlinewidth": 0,
             "ticks": ""
            },
            "colorscale": [
             [
              0,
              "#0d0887"
             ],
             [
              0.1111111111111111,
              "#46039f"
             ],
             [
              0.2222222222222222,
              "#7201a8"
             ],
             [
              0.3333333333333333,
              "#9c179e"
             ],
             [
              0.4444444444444444,
              "#bd3786"
             ],
             [
              0.5555555555555556,
              "#d8576b"
             ],
             [
              0.6666666666666666,
              "#ed7953"
             ],
             [
              0.7777777777777778,
              "#fb9f3a"
             ],
             [
              0.8888888888888888,
              "#fdca26"
             ],
             [
              1,
              "#f0f921"
             ]
            ],
            "type": "heatmap"
           }
          ],
          "heatmapgl": [
           {
            "colorbar": {
             "outlinewidth": 0,
             "ticks": ""
            },
            "colorscale": [
             [
              0,
              "#0d0887"
             ],
             [
              0.1111111111111111,
              "#46039f"
             ],
             [
              0.2222222222222222,
              "#7201a8"
             ],
             [
              0.3333333333333333,
              "#9c179e"
             ],
             [
              0.4444444444444444,
              "#bd3786"
             ],
             [
              0.5555555555555556,
              "#d8576b"
             ],
             [
              0.6666666666666666,
              "#ed7953"
             ],
             [
              0.7777777777777778,
              "#fb9f3a"
             ],
             [
              0.8888888888888888,
              "#fdca26"
             ],
             [
              1,
              "#f0f921"
             ]
            ],
            "type": "heatmapgl"
           }
          ],
          "histogram": [
           {
            "marker": {
             "colorbar": {
              "outlinewidth": 0,
              "ticks": ""
             }
            },
            "type": "histogram"
           }
          ],
          "histogram2d": [
           {
            "colorbar": {
             "outlinewidth": 0,
             "ticks": ""
            },
            "colorscale": [
             [
              0,
              "#0d0887"
             ],
             [
              0.1111111111111111,
              "#46039f"
             ],
             [
              0.2222222222222222,
              "#7201a8"
             ],
             [
              0.3333333333333333,
              "#9c179e"
             ],
             [
              0.4444444444444444,
              "#bd3786"
             ],
             [
              0.5555555555555556,
              "#d8576b"
             ],
             [
              0.6666666666666666,
              "#ed7953"
             ],
             [
              0.7777777777777778,
              "#fb9f3a"
             ],
             [
              0.8888888888888888,
              "#fdca26"
             ],
             [
              1,
              "#f0f921"
             ]
            ],
            "type": "histogram2d"
           }
          ],
          "histogram2dcontour": [
           {
            "colorbar": {
             "outlinewidth": 0,
             "ticks": ""
            },
            "colorscale": [
             [
              0,
              "#0d0887"
             ],
             [
              0.1111111111111111,
              "#46039f"
             ],
             [
              0.2222222222222222,
              "#7201a8"
             ],
             [
              0.3333333333333333,
              "#9c179e"
             ],
             [
              0.4444444444444444,
              "#bd3786"
             ],
             [
              0.5555555555555556,
              "#d8576b"
             ],
             [
              0.6666666666666666,
              "#ed7953"
             ],
             [
              0.7777777777777778,
              "#fb9f3a"
             ],
             [
              0.8888888888888888,
              "#fdca26"
             ],
             [
              1,
              "#f0f921"
             ]
            ],
            "type": "histogram2dcontour"
           }
          ],
          "mesh3d": [
           {
            "colorbar": {
             "outlinewidth": 0,
             "ticks": ""
            },
            "type": "mesh3d"
           }
          ],
          "parcoords": [
           {
            "line": {
             "colorbar": {
              "outlinewidth": 0,
              "ticks": ""
             }
            },
            "type": "parcoords"
           }
          ],
          "pie": [
           {
            "automargin": true,
            "type": "pie"
           }
          ],
          "scatter": [
           {
            "marker": {
             "colorbar": {
              "outlinewidth": 0,
              "ticks": ""
             }
            },
            "type": "scatter"
           }
          ],
          "scatter3d": [
           {
            "line": {
             "colorbar": {
              "outlinewidth": 0,
              "ticks": ""
             }
            },
            "marker": {
             "colorbar": {
              "outlinewidth": 0,
              "ticks": ""
             }
            },
            "type": "scatter3d"
           }
          ],
          "scattercarpet": [
           {
            "marker": {
             "colorbar": {
              "outlinewidth": 0,
              "ticks": ""
             }
            },
            "type": "scattercarpet"
           }
          ],
          "scattergeo": [
           {
            "marker": {
             "colorbar": {
              "outlinewidth": 0,
              "ticks": ""
             }
            },
            "type": "scattergeo"
           }
          ],
          "scattergl": [
           {
            "marker": {
             "colorbar": {
              "outlinewidth": 0,
              "ticks": ""
             }
            },
            "type": "scattergl"
           }
          ],
          "scattermapbox": [
           {
            "marker": {
             "colorbar": {
              "outlinewidth": 0,
              "ticks": ""
             }
            },
            "type": "scattermapbox"
           }
          ],
          "scatterpolar": [
           {
            "marker": {
             "colorbar": {
              "outlinewidth": 0,
              "ticks": ""
             }
            },
            "type": "scatterpolar"
           }
          ],
          "scatterpolargl": [
           {
            "marker": {
             "colorbar": {
              "outlinewidth": 0,
              "ticks": ""
             }
            },
            "type": "scatterpolargl"
           }
          ],
          "scatterternary": [
           {
            "marker": {
             "colorbar": {
              "outlinewidth": 0,
              "ticks": ""
             }
            },
            "type": "scatterternary"
           }
          ],
          "surface": [
           {
            "colorbar": {
             "outlinewidth": 0,
             "ticks": ""
            },
            "colorscale": [
             [
              0,
              "#0d0887"
             ],
             [
              0.1111111111111111,
              "#46039f"
             ],
             [
              0.2222222222222222,
              "#7201a8"
             ],
             [
              0.3333333333333333,
              "#9c179e"
             ],
             [
              0.4444444444444444,
              "#bd3786"
             ],
             [
              0.5555555555555556,
              "#d8576b"
             ],
             [
              0.6666666666666666,
              "#ed7953"
             ],
             [
              0.7777777777777778,
              "#fb9f3a"
             ],
             [
              0.8888888888888888,
              "#fdca26"
             ],
             [
              1,
              "#f0f921"
             ]
            ],
            "type": "surface"
           }
          ],
          "table": [
           {
            "cells": {
             "fill": {
              "color": "#EBF0F8"
             },
             "line": {
              "color": "white"
             }
            },
            "header": {
             "fill": {
              "color": "#C8D4E3"
             },
             "line": {
              "color": "white"
             }
            },
            "type": "table"
           }
          ]
         },
         "layout": {
          "annotationdefaults": {
           "arrowcolor": "#2a3f5f",
           "arrowhead": 0,
           "arrowwidth": 1
          },
          "coloraxis": {
           "colorbar": {
            "outlinewidth": 0,
            "ticks": ""
           }
          },
          "colorscale": {
           "diverging": [
            [
             0,
             "#8e0152"
            ],
            [
             0.1,
             "#c51b7d"
            ],
            [
             0.2,
             "#de77ae"
            ],
            [
             0.3,
             "#f1b6da"
            ],
            [
             0.4,
             "#fde0ef"
            ],
            [
             0.5,
             "#f7f7f7"
            ],
            [
             0.6,
             "#e6f5d0"
            ],
            [
             0.7,
             "#b8e186"
            ],
            [
             0.8,
             "#7fbc41"
            ],
            [
             0.9,
             "#4d9221"
            ],
            [
             1,
             "#276419"
            ]
           ],
           "sequential": [
            [
             0,
             "#0d0887"
            ],
            [
             0.1111111111111111,
             "#46039f"
            ],
            [
             0.2222222222222222,
             "#7201a8"
            ],
            [
             0.3333333333333333,
             "#9c179e"
            ],
            [
             0.4444444444444444,
             "#bd3786"
            ],
            [
             0.5555555555555556,
             "#d8576b"
            ],
            [
             0.6666666666666666,
             "#ed7953"
            ],
            [
             0.7777777777777778,
             "#fb9f3a"
            ],
            [
             0.8888888888888888,
             "#fdca26"
            ],
            [
             1,
             "#f0f921"
            ]
           ],
           "sequentialminus": [
            [
             0,
             "#0d0887"
            ],
            [
             0.1111111111111111,
             "#46039f"
            ],
            [
             0.2222222222222222,
             "#7201a8"
            ],
            [
             0.3333333333333333,
             "#9c179e"
            ],
            [
             0.4444444444444444,
             "#bd3786"
            ],
            [
             0.5555555555555556,
             "#d8576b"
            ],
            [
             0.6666666666666666,
             "#ed7953"
            ],
            [
             0.7777777777777778,
             "#fb9f3a"
            ],
            [
             0.8888888888888888,
             "#fdca26"
            ],
            [
             1,
             "#f0f921"
            ]
           ]
          },
          "colorway": [
           "#636efa",
           "#EF553B",
           "#00cc96",
           "#ab63fa",
           "#FFA15A",
           "#19d3f3",
           "#FF6692",
           "#B6E880",
           "#FF97FF",
           "#FECB52"
          ],
          "font": {
           "color": "#2a3f5f"
          },
          "geo": {
           "bgcolor": "white",
           "lakecolor": "white",
           "landcolor": "#E5ECF6",
           "showlakes": true,
           "showland": true,
           "subunitcolor": "white"
          },
          "hoverlabel": {
           "align": "left"
          },
          "hovermode": "closest",
          "mapbox": {
           "style": "light"
          },
          "paper_bgcolor": "white",
          "plot_bgcolor": "#E5ECF6",
          "polar": {
           "angularaxis": {
            "gridcolor": "white",
            "linecolor": "white",
            "ticks": ""
           },
           "bgcolor": "#E5ECF6",
           "radialaxis": {
            "gridcolor": "white",
            "linecolor": "white",
            "ticks": ""
           }
          },
          "scene": {
           "xaxis": {
            "backgroundcolor": "#E5ECF6",
            "gridcolor": "white",
            "gridwidth": 2,
            "linecolor": "white",
            "showbackground": true,
            "ticks": "",
            "zerolinecolor": "white"
           },
           "yaxis": {
            "backgroundcolor": "#E5ECF6",
            "gridcolor": "white",
            "gridwidth": 2,
            "linecolor": "white",
            "showbackground": true,
            "ticks": "",
            "zerolinecolor": "white"
           },
           "zaxis": {
            "backgroundcolor": "#E5ECF6",
            "gridcolor": "white",
            "gridwidth": 2,
            "linecolor": "white",
            "showbackground": true,
            "ticks": "",
            "zerolinecolor": "white"
           }
          },
          "shapedefaults": {
           "line": {
            "color": "#2a3f5f"
           }
          },
          "ternary": {
           "aaxis": {
            "gridcolor": "white",
            "linecolor": "white",
            "ticks": ""
           },
           "baxis": {
            "gridcolor": "white",
            "linecolor": "white",
            "ticks": ""
           },
           "bgcolor": "#E5ECF6",
           "caxis": {
            "gridcolor": "white",
            "linecolor": "white",
            "ticks": ""
           }
          },
          "title": {
           "x": 0.05
          },
          "xaxis": {
           "automargin": true,
           "gridcolor": "white",
           "linecolor": "white",
           "ticks": "",
           "title": {
            "standoff": 15
           },
           "zerolinecolor": "white",
           "zerolinewidth": 2
          },
          "yaxis": {
           "automargin": true,
           "gridcolor": "white",
           "linecolor": "white",
           "ticks": "",
           "title": {
            "standoff": 15
           },
           "zerolinecolor": "white",
           "zerolinewidth": 2
          }
         }
        },
        "width": 1000,
        "xaxis": {
         "title": {
          "text": "Latency (s)"
         }
        },
        "yaxis": {
         "autorange": "reversed",
         "title": {
          "text": "Time (s)"
         }
        }
       }
      },
      "text/html": [
       "<div>\n",
       "        \n",
       "        \n",
       "            <div id=\"11a65f8a-0120-48ec-b253-d2c0146b892b\" class=\"plotly-graph-div\" style=\"height:600px; width:1000px;\"></div>\n",
       "            <script type=\"text/javascript\">\n",
       "                require([\"plotly\"], function(Plotly) {\n",
       "                    window.PLOTLYENV=window.PLOTLYENV || {};\n",
       "                    \n",
       "                if (document.getElementById(\"11a65f8a-0120-48ec-b253-d2c0146b892b\")) {\n",
       "                    Plotly.newPlot(\n",
       "                        '11a65f8a-0120-48ec-b253-d2c0146b892b',\n",
       "                        [{\"hovertemplate\": \"%{text}\", \"marker\": {\"color\": \"Black\", \"symbol\": \"star\"}, \"mode\": \"markers\", \"name\": \"Electrical Stimuli\", \"text\": [\"time = 9.5961s<br>Index = 0\", \"time = 13.5964s<br>Index = 1\", \"time = 17.5966s<br>Index = 2\", \"time = 21.5968s<br>Index = 3\", \"time = 25.5971s<br>Index = 4\", \"time = 29.5973s<br>Index = 5\", \"time = 33.5977s<br>Index = 6\", \"time = 37.5980s<br>Index = 7\", \"time = 41.5983s<br>Index = 8\", \"time = 45.5985s<br>Index = 9\", \"time = 49.5987s<br>Index = 10\", \"time = 53.5990s<br>Index = 11\", \"time = 57.5992s<br>Index = 12\", \"time = 61.5994s<br>Index = 13\", \"time = 65.5999s<br>Index = 14\", \"time = 69.6001s<br>Index = 15\", \"time = 73.6004s<br>Index = 16\", \"time = 77.6006s<br>Index = 17\", \"time = 81.6008s<br>Index = 18\", \"time = 85.6011s<br>Index = 19\", \"time = 89.6013s<br>Index = 20\", \"time = 93.6016s<br>Index = 21\", \"time = 97.6020s<br>Index = 22\", \"time = 101.6022s<br>Index = 23\", \"time = 105.6025s<br>Index = 24\", \"time = 109.6027s<br>Index = 25\", \"time = 113.6029s<br>Index = 26\", \"time = 117.6031s<br>Index = 27\", \"time = 121.6034s<br>Index = 28\", \"time = 125.6037s<br>Index = 29\", \"time = 129.6041s<br>Index = 30\", \"time = 133.6043s<br>Index = 31\", \"time = 137.6045s<br>Index = 32\", \"time = 141.6048s<br>Index = 33\", \"time = 145.6050s<br>Index = 34\", \"time = 149.6053s<br>Index = 35\", \"time = 153.6055s<br>Index = 36\", \"time = 157.6058s<br>Index = 37\", \"time = 161.6061s<br>Index = 38\", \"time = 165.6063s<br>Index = 39\", \"time = 169.6066s<br>Index = 40\", \"time = 173.6068s<br>Index = 41\", \"time = 177.6070s<br>Index = 42\", \"time = 181.6073s<br>Index = 43\", \"time = 185.6076s<br>Index = 44\", \"time = 189.6078s<br>Index = 45\", \"time = 193.6081s<br>Index = 46\", \"time = 197.6084s<br>Index = 47\", \"time = 201.6086s<br>Index = 48\", \"time = 205.6088s<br>Index = 49\", \"time = 209.6091s<br>Index = 50\", \"time = 213.6094s<br>Index = 51\", \"time = 217.6096s<br>Index = 52\", \"time = 221.6098s<br>Index = 53\", \"time = 225.6104s<br>Index = 54\", \"time = 229.6106s<br>Index = 55\", \"time = 233.6108s<br>Index = 56\", \"time = 237.6111s<br>Index = 57\", \"time = 241.6113s<br>Index = 58\", \"time = 245.6115s<br>Index = 59\", \"time = 249.6118s<br>Index = 60\", \"time = 253.6121s<br>Index = 61\", \"time = 257.6126s<br>Index = 62\", \"time = 261.6128s<br>Index = 63\", \"time = 265.6130s<br>Index = 64\", \"time = 269.6133s<br>Index = 65\", \"time = 273.6135s<br>Index = 66\", \"time = 277.6138s<br>Index = 67\", \"time = 281.6140s<br>Index = 68\", \"time = 285.6143s<br>Index = 69\", \"time = 289.6148s<br>Index = 70\", \"time = 293.6150s<br>Index = 71\", \"time = 297.6153s<br>Index = 72\", \"time = 301.6155s<br>Index = 73\", \"time = 305.6157s<br>Index = 74\", \"time = 309.6160s<br>Index = 75\", \"time = 313.6162s<br>Index = 76\", \"time = 317.6165s<br>Index = 77\", \"time = 321.6170s<br>Index = 78\", \"time = 325.6173s<br>Index = 79\", \"time = 329.6175s<br>Index = 80\", \"time = 333.6178s<br>Index = 81\", \"time = 337.6180s<br>Index = 82\", \"time = 341.6182s<br>Index = 83\", \"time = 345.6184s<br>Index = 84\", \"time = 349.6187s<br>Index = 85\", \"time = 353.6193s<br>Index = 86\", \"time = 357.6195s<br>Index = 87\", \"time = 361.6197s<br>Index = 88\", \"time = 365.6200s<br>Index = 89\", \"time = 369.6202s<br>Index = 90\", \"time = 373.6205s<br>Index = 91\", \"time = 377.6207s<br>Index = 92\", \"time = 381.6209s<br>Index = 93\", \"time = 385.6214s<br>Index = 94\", \"time = 389.6217s<br>Index = 95\", \"time = 393.6220s<br>Index = 96\", \"time = 397.6222s<br>Index = 97\", \"time = 401.6224s<br>Index = 98\", \"time = 405.6227s<br>Index = 99\", \"time = 409.6229s<br>Index = 100\", \"time = 413.6232s<br>Index = 101\", \"time = 417.6237s<br>Index = 102\", \"time = 421.6239s<br>Index = 103\", \"time = 425.6241s<br>Index = 104\", \"time = 429.6244s<br>Index = 105\", \"time = 433.6246s<br>Index = 106\"], \"type\": \"scatter\", \"x\": [0, 0, 0, 0, 0, 0, 0, 0, 0, 0, 0, 0, 0, 0, 0, 0, 0, 0, 0, 0, 0, 0, 0, 0, 0, 0, 0, 0, 0, 0, 0, 0, 0, 0, 0, 0, 0, 0, 0, 0, 0, 0, 0, 0, 0, 0, 0, 0, 0, 0, 0, 0, 0, 0, 0, 0, 0, 0, 0, 0, 0, 0, 0, 0, 0, 0, 0, 0, 0, 0, 0, 0, 0, 0, 0, 0, 0, 0, 0, 0, 0, 0, 0, 0, 0, 0, 0, 0, 0, 0, 0, 0, 0, 0, 0, 0, 0, 0, 0, 0, 0, 0, 0, 0, 0, 0, 0], \"y\": [9.59615, 13.5964, 17.5966, 21.59685, 25.5971, 29.59735, 33.59775, 37.598, 41.59825, 45.5985, 49.5987, 53.59895, 57.5992, 61.59945, 65.59985, 69.6001, 73.60035, 77.6006, 81.6008, 85.60105, 89.6013, 93.60155, 97.60195, 101.6022, 105.60245, 109.6027, 113.6029, 117.60315, 121.6034, 125.60365, 129.60405, 133.6043, 137.60455, 141.6048, 145.605, 149.60525, 153.6055, 157.60575, 161.6061, 165.60635, 169.6066, 173.6068, 177.60705, 181.6073, 185.60755, 189.6078, 193.60815, 197.6084, 201.6086, 205.60885, 209.6091, 213.60935, 217.6096, 221.6098, 225.61035, 229.6106, 233.61085, 237.6111, 241.6113, 245.61155, 249.6118, 253.61205, 257.6126, 261.6128, 265.61305, 269.6133, 273.61355, 277.6138, 281.614, 285.61425, 289.6148, 293.61505, 297.6153, 301.6155, 305.61575, 309.616, 313.61625, 317.6165, 321.617, 325.61725, 329.6175, 333.61775, 337.618, 341.6182, 345.61845, 349.6187, 353.61925, 357.6195, 361.6197, 365.61995, 369.6202, 373.62045, 377.6207, 381.6209, 385.62145, 389.6217, 393.62195, 397.6222, 401.6224, 405.62265, 409.6229, 413.62315, 417.6237, 421.6239, 425.62415, 429.6244, 433.62465]}, {\"hovertemplate\": \"%{text}\", \"marker\": {\"color\": \"black\", \"size\": 7, \"symbol\": [\"triangle-nw\", \"triangle-ne\"]}, \"mode\": \"markers\", \"showlegend\": false, \"text\": [\"Latency: 0.0553s<br>Fibre Index: None\", \"Offset: 0.0579s\"], \"type\": \"scatter\", \"x\": [0.05525000000000091, 0.05785000000000018], \"y\": [9.59615, 9.59615]}, {\"hovertemplate\": \"%{text}\", \"marker\": {\"color\": \"black\", \"size\": 7, \"symbol\": [\"triangle-nw\", \"triangle-ne\"]}, \"mode\": \"markers\", \"showlegend\": false, \"text\": [\"Latency: 0.0554s<br>Fibre Index: None\", \"Offset: 0.0580s\"], \"type\": \"scatter\", \"x\": [0.05540000000000056, 0.058000000000001606], \"y\": [13.5964, 13.5964]}, {\"hovertemplate\": \"%{text}\", \"marker\": {\"color\": \"black\", \"size\": 7, \"symbol\": [\"triangle-nw\", \"triangle-ne\"]}, \"mode\": \"markers\", \"showlegend\": false, \"text\": [\"Latency: 0.0555s<br>Fibre Index: None\", \"Offset: 0.0581s\"], \"type\": \"scatter\", \"x\": [0.0555000000000021, 0.058099999999999596], \"y\": [17.5966, 17.5966]}, {\"hovertemplate\": \"%{text}\", \"marker\": {\"color\": \"black\", \"size\": 7, \"symbol\": [\"triangle-nw\", \"triangle-ne\"]}, \"mode\": \"markers\", \"showlegend\": false, \"text\": [\"Latency: 0.0557s<br>Fibre Index: None\", \"Offset: 0.0583s\"], \"type\": \"scatter\", \"x\": [0.05570000000000164, 0.05829999999999913], \"y\": [21.59685, 21.59685]}, {\"hovertemplate\": \"%{text}\", \"marker\": {\"color\": \"black\", \"size\": 7, \"symbol\": [\"triangle-nw\", \"triangle-ne\"]}, \"mode\": \"markers\", \"showlegend\": false, \"text\": [\"Latency: 0.0560s<br>Fibre Index: None\", \"Offset: 0.0586s\"], \"type\": \"scatter\", \"x\": [0.055999999999997385, 0.05859999999999843], \"y\": [25.5971, 25.5971]}, {\"hovertemplate\": \"%{text}\", \"marker\": {\"color\": \"black\", \"size\": 7, \"symbol\": [\"triangle-nw\", \"triangle-ne\"]}, \"mode\": \"markers\", \"showlegend\": false, \"text\": [\"Latency: 0.0564s<br>Fibre Index: None\", \"Offset: 0.0590s\"], \"type\": \"scatter\", \"x\": [0.0563500000000019, 0.058950000000002944], \"y\": [29.59735, 29.59735]}, {\"hovertemplate\": \"%{text}\", \"marker\": {\"color\": \"black\", \"size\": 7, \"symbol\": [\"triangle-nw\", \"triangle-ne\"]}, \"mode\": \"markers\", \"showlegend\": false, \"text\": [\"Latency: 0.0614s<br>Fibre Index: None\", \"Offset: 0.0640s\"], \"type\": \"scatter\", \"x\": [0.061350000000004457, 0.0639500000000055], \"y\": [33.59775, 33.59775]}, {\"hovertemplate\": \"%{text}\", \"marker\": {\"color\": \"black\", \"size\": 7, \"symbol\": [\"triangle-nw\", \"triangle-ne\"]}, \"mode\": \"markers\", \"showlegend\": false, \"text\": [\"Latency: 0.0599s<br>Fibre Index: None\", \"Offset: 0.0625s\"], \"type\": \"scatter\", \"x\": [0.059899999999998954, 0.0625], \"y\": [37.598, 37.598]}, {\"hovertemplate\": \"%{text}\", \"marker\": {\"color\": \"black\", \"size\": 7, \"symbol\": [\"triangle-nw\", \"triangle-ne\"]}, \"mode\": \"markers\", \"showlegend\": false, \"text\": [\"Latency: 0.0592s<br>Fibre Index: None\", \"Offset: 0.0617s\"], \"type\": \"scatter\", \"x\": [0.05915000000000248, 0.06174999999999642], \"y\": [41.59825, 41.59825]}, {\"hovertemplate\": \"%{text}\", \"marker\": {\"color\": \"black\", \"size\": 7, \"symbol\": [\"triangle-nw\", \"triangle-ne\"]}, \"mode\": \"markers\", \"showlegend\": false, \"text\": [\"Latency: 0.0583s<br>Fibre Index: None\", \"Offset: 0.0609s\"], \"type\": \"scatter\", \"x\": [0.05834999999999724, 0.06094999999999828], \"y\": [45.5985, 45.5985]}, {\"hovertemplate\": \"%{text}\", \"marker\": {\"color\": \"black\", \"size\": 7, \"symbol\": [\"triangle-nw\", \"triangle-ne\"]}, \"mode\": \"markers\", \"showlegend\": false, \"text\": [\"Latency: 0.0585s<br>Fibre Index: None\", \"Offset: 0.0611s\"], \"type\": \"scatter\", \"x\": [0.05850000000000222, 0.06109999999999616], \"y\": [49.5987, 49.5987]}, {\"hovertemplate\": \"%{text}\", \"marker\": {\"color\": \"black\", \"size\": 7, \"symbol\": [\"triangle-nw\", \"triangle-ne\"]}, \"mode\": \"markers\", \"showlegend\": false, \"text\": [\"Latency: 0.0586s<br>Fibre Index: None\", \"Offset: 0.0612s\"], \"type\": \"scatter\", \"x\": [0.05859999999999843, 0.06119999999999948], \"y\": [53.59895, 53.59895]}, {\"hovertemplate\": \"%{text}\", \"marker\": {\"color\": \"black\", \"size\": 7, \"symbol\": [\"triangle-nw\", \"triangle-ne\"]}, \"mode\": \"markers\", \"showlegend\": false, \"text\": [\"Latency: 0.0592s<br>Fibre Index: None\", \"Offset: 0.0618s\"], \"type\": \"scatter\", \"x\": [0.05924999999999869, 0.06184999999999974], \"y\": [57.5992, 57.5992]}, {\"hovertemplate\": \"%{text}\", \"marker\": {\"color\": \"black\", \"size\": 7, \"symbol\": [\"triangle-nw\", \"triangle-ne\"]}, \"mode\": \"markers\", \"showlegend\": false, \"text\": [\"Latency: 0.0588s<br>Fibre Index: None\", \"Offset: 0.0614s\"], \"type\": \"scatter\", \"x\": [0.05875000000000341, 0.061350000000004457], \"y\": [61.59945, 61.59945]}, {\"hovertemplate\": \"%{text}\", \"marker\": {\"color\": \"black\", \"size\": 7, \"symbol\": [\"triangle-nw\", \"triangle-ne\"]}, \"mode\": \"markers\", \"showlegend\": false, \"text\": [\"Latency: 0.0636s<br>Fibre Index: None\", \"Offset: 0.0662s\"], \"type\": \"scatter\", \"x\": [0.06364999999999554, 0.06624999999999659], \"y\": [65.59985, 65.59985]}, {\"hovertemplate\": \"%{text}\", \"marker\": {\"color\": \"black\", \"size\": 7, \"symbol\": [\"triangle-nw\", \"triangle-ne\"]}, \"mode\": \"markers\", \"showlegend\": false, \"text\": [\"Latency: 0.0622s<br>Fibre Index: None\", \"Offset: 0.0648s\"], \"type\": \"scatter\", \"x\": [0.06215000000000259, 0.06475000000000364], \"y\": [69.6001, 69.6001]}, {\"hovertemplate\": \"%{text}\", \"marker\": {\"color\": \"black\", \"size\": 7, \"symbol\": [\"triangle-nw\", \"triangle-ne\"]}, \"mode\": \"markers\", \"showlegend\": false, \"text\": [\"Latency: 0.0611s<br>Fibre Index: None\", \"Offset: 0.0637s\"], \"type\": \"scatter\", \"x\": [0.06114999999999782, 0.06374999999999886], \"y\": [73.60035, 73.60035]}, {\"hovertemplate\": \"%{text}\", \"marker\": {\"color\": \"black\", \"size\": 7, \"symbol\": [\"triangle-nw\", \"triangle-ne\"]}, \"mode\": \"markers\", \"showlegend\": false, \"text\": [\"Latency: 0.0603s<br>Fibre Index: None\", \"Offset: 0.0629s\"], \"type\": \"scatter\", \"x\": [0.06029999999999802, 0.06289999999999907], \"y\": [77.6006, 77.6006]}, {\"hovertemplate\": \"%{text}\", \"marker\": {\"color\": \"black\", \"size\": 7, \"symbol\": [\"triangle-nw\", \"triangle-ne\"]}, \"mode\": \"markers\", \"showlegend\": false, \"text\": [\"Latency: 0.0594s<br>Fibre Index: None\", \"Offset: 0.0620s\"], \"type\": \"scatter\", \"x\": [0.059449999999998226, 0.06204999999999927], \"y\": [81.6008, 81.6008]}, {\"hovertemplate\": \"%{text}\", \"marker\": {\"color\": \"black\", \"size\": 7, \"symbol\": [\"triangle-nw\", \"triangle-ne\"]}, \"mode\": \"markers\", \"showlegend\": false, \"text\": [\"Latency: 0.0590s<br>Fibre Index: None\", \"Offset: 0.0617s\"], \"type\": \"scatter\", \"x\": [0.05904999999999916, 0.061650000000000205], \"y\": [85.60105, 85.60105]}, {\"hovertemplate\": \"%{text}\", \"marker\": {\"color\": \"black\", \"size\": 7, \"symbol\": [\"triangle-nw\", \"triangle-ne\"]}, \"mode\": \"markers\", \"showlegend\": false, \"text\": [\"Latency: 0.0590s<br>Fibre Index: None\", \"Offset: 0.0616s\"], \"type\": \"scatter\", \"x\": [0.05900000000001171, 0.061599999999998545], \"y\": [89.6013, 89.6013]}, {\"hovertemplate\": \"%{text}\", \"marker\": {\"color\": \"black\", \"size\": 7, \"symbol\": [\"triangle-nw\", \"triangle-ne\"]}, \"mode\": \"markers\", \"showlegend\": false, \"text\": [\"Latency: 0.0649s<br>Fibre Index: None\", \"Offset: 0.0675s\"], \"type\": \"scatter\", \"x\": [0.0648999999999944, 0.06749999999999545], \"y\": [97.60195, 97.60195]}, {\"hovertemplate\": \"%{text}\", \"marker\": {\"color\": \"black\", \"size\": 7, \"symbol\": [\"triangle-nw\", \"triangle-ne\"]}, \"mode\": \"markers\", \"showlegend\": false, \"text\": [\"Latency: 0.0628s<br>Fibre Index: None\", \"Offset: 0.0654s\"], \"type\": \"scatter\", \"x\": [0.06284999999999741, 0.06544999999999845], \"y\": [101.6022, 101.6022]}, {\"hovertemplate\": \"%{text}\", \"marker\": {\"color\": \"black\", \"size\": 7, \"symbol\": [\"triangle-nw\", \"triangle-ne\"]}, \"mode\": \"markers\", \"showlegend\": false, \"text\": [\"Latency: 0.0622s<br>Fibre Index: None\", \"Offset: 0.0648s\"], \"type\": \"scatter\", \"x\": [0.06219999999999004, 0.06479999999999109], \"y\": [105.60245, 105.60245]}, {\"hovertemplate\": \"%{text}\", \"marker\": {\"color\": \"black\", \"size\": 7, \"symbol\": [\"triangle-nw\", \"triangle-ne\"]}, \"mode\": \"markers\", \"showlegend\": false, \"text\": [\"Latency: 0.0619s<br>Fibre Index: None\", \"Offset: 0.0645s\"], \"type\": \"scatter\", \"x\": [0.06189999999999429, 0.06449999999999534], \"y\": [109.6027, 109.6027]}, {\"hovertemplate\": \"%{text}\", \"marker\": {\"color\": \"black\", \"size\": 7, \"symbol\": [\"triangle-nw\", \"triangle-ne\"]}, \"mode\": \"markers\", \"showlegend\": false, \"text\": [\"Latency: 0.0609s<br>Fibre Index: None\", \"Offset: 0.0635s\"], \"type\": \"scatter\", \"x\": [0.06094999999999118, 0.06354999999999222], \"y\": [113.6029, 113.6029]}, {\"hovertemplate\": \"%{text}\", \"marker\": {\"color\": \"black\", \"size\": 7, \"symbol\": [\"triangle-nw\", \"triangle-ne\"]}, \"mode\": \"markers\", \"showlegend\": false, \"text\": [\"Latency: 0.0610s<br>Fibre Index: None\", \"Offset: 0.0636s\"], \"type\": \"scatter\", \"x\": [0.06100000000000705, 0.06359999999999388], \"y\": [117.60315, 117.60315]}, {\"hovertemplate\": \"%{text}\", \"marker\": {\"color\": \"black\", \"size\": 7, \"symbol\": [\"triangle-nw\", \"triangle-ne\"]}, \"mode\": \"markers\", \"showlegend\": false, \"text\": [\"Latency: 0.0604s<br>Fibre Index: None\", \"Offset: 0.0630s\"], \"type\": \"scatter\", \"x\": [0.06040000000000134, 0.06300000000000239], \"y\": [121.6034, 121.6034]}, {\"hovertemplate\": \"%{text}\", \"marker\": {\"color\": \"black\", \"size\": 7, \"symbol\": [\"triangle-nw\", \"triangle-ne\"]}, \"mode\": \"markers\", \"showlegend\": false, \"text\": [\"Latency: 0.0602s<br>Fibre Index: None\", \"Offset: 0.0628s\"], \"type\": \"scatter\", \"x\": [0.0601999999999947, 0.06279999999999575], \"y\": [125.60365, 125.60365]}, {\"hovertemplate\": \"%{text}\", \"marker\": {\"color\": \"black\", \"size\": 7, \"symbol\": [\"triangle-nw\", \"triangle-ne\"]}, \"mode\": \"markers\", \"showlegend\": false, \"text\": [\"Latency: 0.0635s<br>Fibre Index: None\", \"Offset: 0.0661s\"], \"type\": \"scatter\", \"x\": [0.06345000000001733, 0.06605000000001837], \"y\": [133.6043, 133.6043]}, {\"hovertemplate\": \"%{text}\", \"marker\": {\"color\": \"black\", \"size\": 7, \"symbol\": [\"triangle-nw\", \"triangle-ne\"]}, \"mode\": \"markers\", \"showlegend\": false, \"text\": [\"Latency: 0.0620s<br>Fibre Index: None\", \"Offset: 0.0645s\"], \"type\": \"scatter\", \"x\": [0.061950000000024374, 0.064549999999997], \"y\": [137.60455, 137.60455]}, {\"hovertemplate\": \"%{text}\", \"marker\": {\"color\": \"black\", \"size\": 7, \"symbol\": [\"triangle-nw\", \"triangle-ne\"]}, \"mode\": \"markers\", \"showlegend\": false, \"text\": [\"Latency: 0.0614s<br>Fibre Index: None\", \"Offset: 0.0640s\"], \"type\": \"scatter\", \"x\": [0.061399999999991905, 0.06399999999999295], \"y\": [141.6048, 141.6048]}, {\"hovertemplate\": \"%{text}\", \"marker\": {\"color\": \"black\", \"size\": 7, \"symbol\": [\"triangle-nw\", \"triangle-ne\"]}, \"mode\": \"markers\", \"showlegend\": false, \"text\": [\"Latency: 0.0611s<br>Fibre Index: None\", \"Offset: 0.0637s\"], \"type\": \"scatter\", \"x\": [0.06110000000001037, 0.06370000000001141], \"y\": [145.605, 145.605]}, {\"hovertemplate\": \"%{text}\", \"marker\": {\"color\": \"black\", \"size\": 7, \"symbol\": [\"triangle-nw\", \"triangle-ne\"]}, \"mode\": \"markers\", \"showlegend\": false, \"text\": [\"Latency: 0.0609s<br>Fibre Index: None\", \"Offset: 0.0635s\"], \"type\": \"scatter\", \"x\": [0.06094999999999118, 0.06354999999999222], \"y\": [149.60525, 149.60525]}, {\"hovertemplate\": \"%{text}\", \"marker\": {\"color\": \"black\", \"size\": 7, \"symbol\": [\"triangle-nw\", \"triangle-ne\"]}, \"mode\": \"markers\", \"showlegend\": false, \"text\": [\"Latency: 0.0609s<br>Fibre Index: None\", \"Offset: 0.0635s\"], \"type\": \"scatter\", \"x\": [0.06094999999999118, 0.06354999999999222], \"y\": [153.6055, 153.6055]}, {\"hovertemplate\": \"%{text}\", \"marker\": {\"color\": \"black\", \"size\": 7, \"symbol\": [\"triangle-nw\", \"triangle-ne\"]}, \"mode\": \"markers\", \"showlegend\": false, \"text\": [\"Latency: 0.0609s<br>Fibre Index: None\", \"Offset: 0.0635s\"], \"type\": \"scatter\", \"x\": [0.06090000000000373, 0.06350000000000477], \"y\": [157.60575, 157.60575]}, {\"hovertemplate\": \"%{text}\", \"marker\": {\"color\": \"black\", \"size\": 7, \"symbol\": [\"triangle-nw\", \"triangle-ne\"]}, \"mode\": \"markers\", \"showlegend\": false, \"text\": [\"Latency: 0.0630s<br>Fibre Index: None\", \"Offset: 0.0656s\"], \"type\": \"scatter\", \"x\": [0.06299999999998818, 0.06559999999998922], \"y\": [161.6061, 161.6061]}, {\"hovertemplate\": \"%{text}\", \"marker\": {\"color\": \"black\", \"size\": 7, \"symbol\": [\"triangle-nw\", \"triangle-ne\"]}, \"mode\": \"markers\", \"showlegend\": false, \"text\": [\"Latency: 0.0622s<br>Fibre Index: None\", \"Offset: 0.0648s\"], \"type\": \"scatter\", \"x\": [0.06215000000000259, 0.06475000000000364], \"y\": [165.60635, 165.60635]}, {\"hovertemplate\": \"%{text}\", \"marker\": {\"color\": \"black\", \"size\": 7, \"symbol\": [\"triangle-nw\", \"triangle-ne\"]}, \"mode\": \"markers\", \"showlegend\": false, \"text\": [\"Latency: 0.0617s<br>Fibre Index: None\", \"Offset: 0.0643s\"], \"type\": \"scatter\", \"x\": [0.061650000000014415, 0.06425000000001546], \"y\": [169.6066, 169.6066]}, {\"hovertemplate\": \"%{text}\", \"marker\": {\"color\": \"black\", \"size\": 7, \"symbol\": [\"triangle-nw\", \"triangle-ne\"]}, \"mode\": \"markers\", \"showlegend\": false, \"text\": [\"Latency: 0.0616s<br>Fibre Index: None\", \"Offset: 0.0642s\"], \"type\": \"scatter\", \"x\": [0.061599999999998545, 0.06419999999999959], \"y\": [173.6068, 173.6068]}, {\"hovertemplate\": \"%{text}\", \"marker\": {\"color\": \"black\", \"size\": 7, \"symbol\": [\"triangle-nw\", \"triangle-ne\"]}, \"mode\": \"markers\", \"showlegend\": false, \"text\": [\"Latency: 0.0614s<br>Fibre Index: None\", \"Offset: 0.0640s\"], \"type\": \"scatter\", \"x\": [0.06140000000002033, 0.06400000000002137], \"y\": [177.60705, 177.60705]}, {\"hovertemplate\": \"%{text}\", \"marker\": {\"color\": \"black\", \"size\": 7, \"symbol\": [\"triangle-nw\", \"triangle-ne\"]}, \"mode\": \"markers\", \"showlegend\": false, \"text\": [\"Latency: 0.0611s<br>Fibre Index: None\", \"Offset: 0.0637s\"], \"type\": \"scatter\", \"x\": [0.06114999999999782, 0.06374999999999886], \"y\": [181.6073, 181.6073]}, {\"hovertemplate\": \"%{text}\", \"marker\": {\"color\": \"black\", \"size\": 7, \"symbol\": [\"triangle-nw\", \"triangle-ne\"]}, \"mode\": \"markers\", \"showlegend\": false, \"text\": [\"Latency: 0.0612s<br>Fibre Index: None\", \"Offset: 0.0638s\"], \"type\": \"scatter\", \"x\": [0.061199999999985266, 0.06379999999998631], \"y\": [185.60755, 185.60755]}, {\"hovertemplate\": \"%{text}\", \"marker\": {\"color\": \"black\", \"size\": 7, \"symbol\": [\"triangle-nw\", \"triangle-ne\"]}, \"mode\": \"markers\", \"showlegend\": false, \"text\": [\"Latency: 0.0611s<br>Fibre Index: None\", \"Offset: 0.0637s\"], \"type\": \"scatter\", \"x\": [0.06110000000001037, 0.06370000000001141], \"y\": [189.6078, 189.6078]}, {\"hovertemplate\": \"%{text}\", \"marker\": {\"color\": \"black\", \"size\": 7, \"symbol\": [\"triangle-nw\", \"triangle-ne\"]}, \"mode\": \"markers\", \"showlegend\": false, \"text\": [\"Latency: 0.0644s<br>Fibre Index: None\", \"Offset: 0.0670s\"], \"type\": \"scatter\", \"x\": [0.06444999999999368, 0.06704999999999472], \"y\": [193.60815, 193.60815]}, {\"hovertemplate\": \"%{text}\", \"marker\": {\"color\": \"black\", \"size\": 7, \"symbol\": [\"triangle-nw\", \"triangle-ne\"]}, \"mode\": \"markers\", \"showlegend\": false, \"text\": [\"Latency: 0.0625s<br>Fibre Index: None\", \"Offset: 0.0651s\"], \"type\": \"scatter\", \"x\": [0.0625, 0.06510000000000105], \"y\": [197.6084, 197.6084]}, {\"hovertemplate\": \"%{text}\", \"marker\": {\"color\": \"black\", \"size\": 7, \"symbol\": [\"triangle-nw\", \"triangle-ne\"]}, \"mode\": \"markers\", \"showlegend\": false, \"text\": [\"Latency: 0.0624s<br>Fibre Index: None\", \"Offset: 0.0650s\"], \"type\": \"scatter\", \"x\": [0.06239999999999668, 0.06499999999999773], \"y\": [201.6086, 201.6086]}, {\"hovertemplate\": \"%{text}\", \"marker\": {\"color\": \"black\", \"size\": 7, \"symbol\": [\"triangle-nw\", \"triangle-ne\"]}, \"mode\": \"markers\", \"showlegend\": false, \"text\": [\"Latency: 0.0624s<br>Fibre Index: None\", \"Offset: 0.0650s\"], \"type\": \"scatter\", \"x\": [0.06239999999999668, 0.06499999999999773], \"y\": [205.60885, 205.60885]}, {\"hovertemplate\": \"%{text}\", \"marker\": {\"color\": \"black\", \"size\": 7, \"symbol\": [\"triangle-nw\", \"triangle-ne\"]}, \"mode\": \"markers\", \"showlegend\": false, \"text\": [\"Latency: 0.0620s<br>Fibre Index: None\", \"Offset: 0.0646s\"], \"type\": \"scatter\", \"x\": [0.0619999999999834, 0.06459999999998445], \"y\": [209.6091, 209.6091]}, {\"hovertemplate\": \"%{text}\", \"marker\": {\"color\": \"black\", \"size\": 7, \"symbol\": [\"triangle-nw\", \"triangle-ne\"]}, \"mode\": \"markers\", \"showlegend\": false, \"text\": [\"Latency: 0.0618s<br>Fibre Index: None\", \"Offset: 0.0644s\"], \"type\": \"scatter\", \"x\": [0.06184999999999263, 0.06444999999999368], \"y\": [213.60935, 213.60935]}, {\"hovertemplate\": \"%{text}\", \"marker\": {\"color\": \"black\", \"size\": 7, \"symbol\": [\"triangle-nw\", \"triangle-ne\"]}, \"mode\": \"markers\", \"showlegend\": false, \"text\": [\"Latency: 0.0618s<br>Fibre Index: None\", \"Offset: 0.0644s\"], \"type\": \"scatter\", \"x\": [0.061800000000005184, 0.06440000000000623], \"y\": [217.6096, 217.6096]}, {\"hovertemplate\": \"%{text}\", \"marker\": {\"color\": \"black\", \"size\": 7, \"symbol\": [\"triangle-nw\", \"triangle-ne\"]}, \"mode\": \"markers\", \"showlegend\": false, \"text\": [\"Latency: 0.0619s<br>Fibre Index: None\", \"Offset: 0.0645s\"], \"type\": \"scatter\", \"x\": [0.06189999999998008, 0.06449999999998113], \"y\": [221.6098, 221.6098]}, {\"hovertemplate\": \"%{text}\", \"marker\": {\"color\": \"black\", \"size\": 7, \"symbol\": [\"triangle-nw\", \"triangle-ne\"]}, \"mode\": \"markers\", \"showlegend\": false, \"text\": [\"Latency: 0.0691s<br>Fibre Index: None\", \"Offset: 0.0717s\"], \"type\": \"scatter\", \"x\": [0.06909999999999172, 0.07169999999999277], \"y\": [225.61035, 225.61035]}, {\"hovertemplate\": \"%{text}\", \"marker\": {\"color\": \"black\", \"size\": 7, \"symbol\": [\"triangle-nw\", \"triangle-ne\"]}, \"mode\": \"markers\", \"showlegend\": false, \"text\": [\"Latency: 0.0670s<br>Fibre Index: None\", \"Offset: 0.0696s\"], \"type\": \"scatter\", \"x\": [0.06704999999999472, 0.06964999999999577], \"y\": [229.6106, 229.6106]}, {\"hovertemplate\": \"%{text}\", \"marker\": {\"color\": \"black\", \"size\": 7, \"symbol\": [\"triangle-nw\", \"triangle-ne\"]}, \"mode\": \"markers\", \"showlegend\": false, \"text\": [\"Latency: 0.0653s<br>Fibre Index: None\", \"Offset: 0.0679s\"], \"type\": \"scatter\", \"x\": [0.06534999999999513, 0.06794999999999618], \"y\": [233.61085, 233.61085]}, {\"hovertemplate\": \"%{text}\", \"marker\": {\"color\": \"black\", \"size\": 7, \"symbol\": [\"triangle-nw\", \"triangle-ne\"]}, \"mode\": \"markers\", \"showlegend\": false, \"text\": [\"Latency: 0.0643s<br>Fibre Index: None\", \"Offset: 0.0669s\"], \"type\": \"scatter\", \"x\": [0.06430000000000291, 0.06690000000000396], \"y\": [237.6111, 237.6111]}, {\"hovertemplate\": \"%{text}\", \"marker\": {\"color\": \"black\", \"size\": 7, \"symbol\": [\"triangle-nw\", \"triangle-ne\"]}, \"mode\": \"markers\", \"showlegend\": false, \"text\": [\"Latency: 0.0639s<br>Fibre Index: None\", \"Offset: 0.0665s\"], \"type\": \"scatter\", \"x\": [0.06385000000000218, 0.06645000000000323], \"y\": [241.6113, 241.6113]}, {\"hovertemplate\": \"%{text}\", \"marker\": {\"color\": \"black\", \"size\": 7, \"symbol\": [\"triangle-nw\", \"triangle-ne\"]}, \"mode\": \"markers\", \"showlegend\": false, \"text\": [\"Latency: 0.0636s<br>Fibre Index: None\", \"Offset: 0.0662s\"], \"type\": \"scatter\", \"x\": [0.0636000000000081, 0.06620000000000914], \"y\": [245.61155, 245.61155]}, {\"hovertemplate\": \"%{text}\", \"marker\": {\"color\": \"black\", \"size\": 7, \"symbol\": [\"triangle-nw\", \"triangle-ne\"]}, \"mode\": \"markers\", \"showlegend\": false, \"text\": [\"Latency: 0.0639s<br>Fibre Index: None\", \"Offset: 0.0665s\"], \"type\": \"scatter\", \"x\": [0.06385000000000218, 0.06645000000000323], \"y\": [249.6118, 249.6118]}, {\"hovertemplate\": \"%{text}\", \"marker\": {\"color\": \"black\", \"size\": 7, \"symbol\": [\"triangle-nw\", \"triangle-ne\"]}, \"mode\": \"markers\", \"showlegend\": false, \"text\": [\"Latency: 0.0636s<br>Fibre Index: None\", \"Offset: 0.0662s\"], \"type\": \"scatter\", \"x\": [0.06364999999999554, 0.06624999999999659], \"y\": [253.61205, 253.61205]}, {\"hovertemplate\": \"%{text}\", \"marker\": {\"color\": \"black\", \"size\": 7, \"symbol\": [\"triangle-nw\", \"triangle-ne\"]}, \"mode\": \"markers\", \"showlegend\": false, \"text\": [\"Latency: 0.0724s<br>Fibre Index: None\", \"Offset: 0.0750s\"], \"type\": \"scatter\", \"x\": [0.07240000000001601, 0.07499999999998863], \"y\": [257.6126, 257.6126]}, {\"hovertemplate\": \"%{text}\", \"marker\": {\"color\": \"black\", \"size\": 7, \"symbol\": [\"triangle-nw\", \"triangle-ne\"]}, \"mode\": \"markers\", \"showlegend\": false, \"text\": [\"Latency: 0.0697s<br>Fibre Index: None\", \"Offset: 0.0723s\"], \"type\": \"scatter\", \"x\": [0.06970000000001164, 0.07229999999998427], \"y\": [261.6128, 261.6128]}, {\"hovertemplate\": \"%{text}\", \"marker\": {\"color\": \"black\", \"size\": 7, \"symbol\": [\"triangle-nw\", \"triangle-ne\"]}, \"mode\": \"markers\", \"showlegend\": false, \"text\": [\"Latency: 0.0679s<br>Fibre Index: None\", \"Offset: 0.0706s\"], \"type\": \"scatter\", \"x\": [0.06794999999999618, 0.07055000000002565], \"y\": [265.61305, 265.61305]}, {\"hovertemplate\": \"%{text}\", \"marker\": {\"color\": \"black\", \"size\": 7, \"symbol\": [\"triangle-nw\", \"triangle-ne\"]}, \"mode\": \"markers\", \"showlegend\": false, \"text\": [\"Latency: 0.0668s<br>Fibre Index: None\", \"Offset: 0.0694s\"], \"type\": \"scatter\", \"x\": [0.06680000000000064, 0.0694000000000301], \"y\": [269.6133, 269.6133]}, {\"hovertemplate\": \"%{text}\", \"marker\": {\"color\": \"black\", \"size\": 7, \"symbol\": [\"triangle-nw\", \"triangle-ne\"]}, \"mode\": \"markers\", \"showlegend\": false, \"text\": [\"Latency: 0.0658s<br>Fibre Index: None\", \"Offset: 0.0684s\"], \"type\": \"scatter\", \"x\": [0.06575000000003683, 0.06835000000000946], \"y\": [273.61355, 273.61355]}, {\"hovertemplate\": \"%{text}\", \"marker\": {\"color\": \"black\", \"size\": 7, \"symbol\": [\"triangle-nw\", \"triangle-ne\"]}, \"mode\": \"markers\", \"showlegend\": false, \"text\": [\"Latency: 0.0652s<br>Fibre Index: None\", \"Offset: 0.0678s\"], \"type\": \"scatter\", \"x\": [0.06519999999994752, 0.06779999999997699], \"y\": [277.6138, 277.6138]}, {\"hovertemplate\": \"%{text}\", \"marker\": {\"color\": \"black\", \"size\": 7, \"symbol\": [\"triangle-nw\", \"triangle-ne\"]}, \"mode\": \"markers\", \"showlegend\": false, \"text\": [\"Latency: 0.0648s<br>Fibre Index: None\", \"Offset: 0.0674s\"], \"type\": \"scatter\", \"x\": [0.06480000000004793, 0.06740000000002055], \"y\": [281.614, 281.614]}, {\"hovertemplate\": \"%{text}\", \"marker\": {\"color\": \"black\", \"size\": 7, \"symbol\": [\"triangle-nw\", \"triangle-ne\"]}, \"mode\": \"markers\", \"showlegend\": false, \"text\": [\"Latency: 0.0645s<br>Fibre Index: None\", \"Offset: 0.0671s\"], \"type\": \"scatter\", \"x\": [0.064549999999997, 0.06714999999996962], \"y\": [285.61425, 285.61425]}, {\"hovertemplate\": \"%{text}\", \"marker\": {\"color\": \"black\", \"size\": 7, \"symbol\": [\"triangle-nw\", \"triangle-ne\"]}, \"mode\": \"markers\", \"showlegend\": false, \"text\": [\"Latency: 0.0722s<br>Fibre Index: None\", \"Offset: 0.0747s\"], \"type\": \"scatter\", \"x\": [0.07215000000002192, 0.07474999999999454], \"y\": [289.6148, 289.6148]}, {\"hovertemplate\": \"%{text}\", \"marker\": {\"color\": \"black\", \"size\": 7, \"symbol\": [\"triangle-nw\", \"triangle-ne\"]}, \"mode\": \"markers\", \"showlegend\": false, \"text\": [\"Latency: 0.0677s<br>Fibre Index: None\", \"Offset: 0.0704s\"], \"type\": \"scatter\", \"x\": [0.06774999999998954, 0.07035000000001901], \"y\": [297.6153, 297.6153]}, {\"hovertemplate\": \"%{text}\", \"marker\": {\"color\": \"black\", \"size\": 7, \"symbol\": [\"triangle-nw\", \"triangle-ne\"]}, \"mode\": \"markers\", \"showlegend\": false, \"text\": [\"Latency: 0.1151s<br>Fibre Index: None\", \"Offset: 0.1177s\"], \"type\": \"scatter\", \"x\": [0.11509999999998399, 0.11770000000001346], \"y\": [301.6155, 301.6155]}, {\"hovertemplate\": \"%{text}\", \"marker\": {\"color\": \"black\", \"size\": 7, \"symbol\": [\"triangle-nw\", \"triangle-ne\"]}, \"mode\": \"markers\", \"showlegend\": false, \"text\": [\"Latency: 0.0667s<br>Fibre Index: None\", \"Offset: 0.0693s\"], \"type\": \"scatter\", \"x\": [0.06670000000002574, 0.06929999999999836], \"y\": [305.61575, 305.61575]}, {\"hovertemplate\": \"%{text}\", \"marker\": {\"color\": \"black\", \"size\": 7, \"symbol\": [\"triangle-nw\", \"triangle-ne\"]}, \"mode\": \"markers\", \"showlegend\": false, \"text\": [\"Latency: 0.0661s<br>Fibre Index: None\", \"Offset: 0.0687s\"], \"type\": \"scatter\", \"x\": [0.06610000000000582, 0.06870000000003529], \"y\": [309.616, 309.616]}, {\"hovertemplate\": \"%{text}\", \"marker\": {\"color\": \"black\", \"size\": 7, \"symbol\": [\"triangle-nw\", \"triangle-ne\"]}, \"mode\": \"markers\", \"showlegend\": false, \"text\": [\"Latency: 0.0658s<br>Fibre Index: None\", \"Offset: 0.0684s\"], \"type\": \"scatter\", \"x\": [0.06575000000003683, 0.06835000000000946], \"y\": [313.61625, 313.61625]}, {\"hovertemplate\": \"%{text}\", \"marker\": {\"color\": \"black\", \"size\": 7, \"symbol\": [\"triangle-nw\", \"triangle-ne\"]}, \"mode\": \"markers\", \"showlegend\": false, \"text\": [\"Latency: 0.0655s<br>Fibre Index: None\", \"Offset: 0.0681s\"], \"type\": \"scatter\", \"x\": [0.06550000000004275, 0.06810000000001537], \"y\": [317.6165, 317.6165]}, {\"hovertemplate\": \"%{text}\", \"marker\": {\"color\": \"black\", \"size\": 7, \"symbol\": [\"triangle-nw\", \"triangle-ne\"]}, \"mode\": \"markers\", \"showlegend\": false, \"text\": [\"Latency: 0.0741s<br>Fibre Index: None\", \"Offset: 0.0767s\"], \"type\": \"scatter\", \"x\": [0.07409999999998718, 0.0766999999999598], \"y\": [321.617, 321.617]}, {\"hovertemplate\": \"%{text}\", \"marker\": {\"color\": \"black\", \"size\": 7, \"symbol\": [\"triangle-nw\", \"triangle-ne\"]}, \"mode\": \"markers\", \"showlegend\": false, \"text\": [\"Latency: 0.0711s<br>Fibre Index: None\", \"Offset: 0.0737s\"], \"type\": \"scatter\", \"x\": [0.07110000000000127, 0.0736999999999739], \"y\": [325.61725, 325.61725]}, {\"hovertemplate\": \"%{text}\", \"marker\": {\"color\": \"black\", \"size\": 7, \"symbol\": [\"triangle-nw\", \"triangle-ne\"]}, \"mode\": \"markers\", \"showlegend\": false, \"text\": [\"Latency: 0.0691s<br>Fibre Index: None\", \"Offset: 0.0716s\"], \"type\": \"scatter\", \"x\": [0.06905000000000427, 0.0716499999999769], \"y\": [329.6175, 329.6175]}, {\"hovertemplate\": \"%{text}\", \"marker\": {\"color\": \"black\", \"size\": 7, \"symbol\": [\"triangle-nw\", \"triangle-ne\"]}, \"mode\": \"markers\", \"showlegend\": false, \"text\": [\"Latency: 0.0681s<br>Fibre Index: None\", \"Offset: 0.0707s\"], \"type\": \"scatter\", \"x\": [0.06810000000001537, 0.070699999999988], \"y\": [333.61775, 333.61775]}, {\"hovertemplate\": \"%{text}\", \"marker\": {\"color\": \"black\", \"size\": 7, \"symbol\": [\"triangle-nw\", \"triangle-ne\"]}, \"mode\": \"markers\", \"showlegend\": false, \"text\": [\"Latency: 0.0679s<br>Fibre Index: None\", \"Offset: 0.0705s\"], \"type\": \"scatter\", \"x\": [0.06790000000000873, 0.07049999999998136], \"y\": [337.618, 337.618]}, {\"hovertemplate\": \"%{text}\", \"marker\": {\"color\": \"black\", \"size\": 7, \"symbol\": [\"triangle-nw\", \"triangle-ne\"]}, \"mode\": \"markers\", \"showlegend\": false, \"text\": [\"Latency: 0.0674s<br>Fibre Index: None\", \"Offset: 0.0700s\"], \"type\": \"scatter\", \"x\": [0.06740000000002055, 0.06999999999999318], \"y\": [341.6182, 341.6182]}, {\"hovertemplate\": \"%{text}\", \"marker\": {\"color\": \"black\", \"size\": 7, \"symbol\": [\"triangle-nw\", \"triangle-ne\"]}, \"mode\": \"markers\", \"showlegend\": false, \"text\": [\"Latency: 0.0671s<br>Fibre Index: None\", \"Offset: 0.0697s\"], \"type\": \"scatter\", \"x\": [0.06709999999998217, 0.06970000000001164], \"y\": [345.61845, 345.61845]}, {\"hovertemplate\": \"%{text}\", \"marker\": {\"color\": \"black\", \"size\": 7, \"symbol\": [\"triangle-nw\", \"triangle-ne\"]}, \"mode\": \"markers\", \"showlegend\": false, \"text\": [\"Latency: 0.0667s<br>Fibre Index: None\", \"Offset: 0.0693s\"], \"type\": \"scatter\", \"x\": [0.06670000000002574, 0.06929999999999836], \"y\": [349.6187, 349.6187]}, {\"hovertemplate\": \"%{text}\", \"marker\": {\"color\": \"black\", \"size\": 7, \"symbol\": [\"triangle-nw\", \"triangle-ne\"]}, \"mode\": \"markers\", \"showlegend\": false, \"text\": [\"Latency: 0.0745s<br>Fibre Index: None\", \"Offset: 0.0771s\"], \"type\": \"scatter\", \"x\": [0.0745499999999879, 0.07714999999996053], \"y\": [353.61925, 353.61925]}, {\"hovertemplate\": \"%{text}\", \"marker\": {\"color\": \"black\", \"size\": 7, \"symbol\": [\"triangle-nw\", \"triangle-ne\"]}, \"mode\": \"markers\", \"showlegend\": false, \"text\": [\"Latency: 0.0725s<br>Fibre Index: None\", \"Offset: 0.0750s\"], \"type\": \"scatter\", \"x\": [0.07245000000000346, 0.07504999999997608], \"y\": [357.6195, 357.6195]}, {\"hovertemplate\": \"%{text}\", \"marker\": {\"color\": \"black\", \"size\": 7, \"symbol\": [\"triangle-nw\", \"triangle-ne\"]}, \"mode\": \"markers\", \"showlegend\": false, \"text\": [\"Latency: 0.0708s<br>Fibre Index: None\", \"Offset: 0.0734s\"], \"type\": \"scatter\", \"x\": [0.07079999999996289, 0.07339999999999236], \"y\": [361.6197, 361.6197]}, {\"hovertemplate\": \"%{text}\", \"marker\": {\"color\": \"black\", \"size\": 7, \"symbol\": [\"triangle-nw\", \"triangle-ne\"]}, \"mode\": \"markers\", \"showlegend\": false, \"text\": [\"Latency: 0.0694s<br>Fibre Index: None\", \"Offset: 0.0720s\"], \"type\": \"scatter\", \"x\": [0.06944999999996071, 0.07204999999999018], \"y\": [365.61995, 365.61995]}, {\"hovertemplate\": \"%{text}\", \"marker\": {\"color\": \"black\", \"size\": 7, \"symbol\": [\"triangle-nw\", \"triangle-ne\"]}, \"mode\": \"markers\", \"showlegend\": false, \"text\": [\"Latency: 0.0686s<br>Fibre Index: None\", \"Offset: 0.0711s\"], \"type\": \"scatter\", \"x\": [0.0685500000000161, 0.07114999999998872], \"y\": [369.6202, 369.6202]}, {\"hovertemplate\": \"%{text}\", \"marker\": {\"color\": \"black\", \"size\": 7, \"symbol\": [\"triangle-nw\", \"triangle-ne\"]}, \"mode\": \"markers\", \"showlegend\": false, \"text\": [\"Latency: 0.0688s<br>Fibre Index: None\", \"Offset: 0.0714s\"], \"type\": \"scatter\", \"x\": [0.06880000000001019, 0.07139999999998281], \"y\": [373.62045, 373.62045]}, {\"hovertemplate\": \"%{text}\", \"marker\": {\"color\": \"black\", \"size\": 7, \"symbol\": [\"triangle-nw\", \"triangle-ne\"]}, \"mode\": \"markers\", \"showlegend\": false, \"text\": [\"Latency: 0.0684s<br>Fibre Index: None\", \"Offset: 0.0709s\"], \"type\": \"scatter\", \"x\": [0.06835000000000946, 0.07094999999998208], \"y\": [377.6207, 377.6207]}, {\"hovertemplate\": \"%{text}\", \"marker\": {\"color\": \"black\", \"size\": 7, \"symbol\": [\"triangle-nw\", \"triangle-ne\"]}, \"mode\": \"markers\", \"showlegend\": false, \"text\": [\"Latency: 0.0752s<br>Fibre Index: None\", \"Offset: 0.0778s\"], \"type\": \"scatter\", \"x\": [0.07515000000000782, 0.07775000000003729], \"y\": [385.62145, 385.62145]}, {\"hovertemplate\": \"%{text}\", \"marker\": {\"color\": \"black\", \"size\": 7, \"symbol\": [\"triangle-nw\", \"triangle-ne\"]}, \"mode\": \"markers\", \"showlegend\": false, \"text\": [\"Latency: 0.0724s<br>Fibre Index: None\", \"Offset: 0.0750s\"], \"type\": \"scatter\", \"x\": [0.07240000000001601, 0.07500000000004547], \"y\": [389.6217, 389.6217]}, {\"hovertemplate\": \"%{text}\", \"marker\": {\"color\": \"black\", \"size\": 7, \"symbol\": [\"triangle-nw\", \"triangle-ne\"]}, \"mode\": \"markers\", \"showlegend\": false, \"text\": [\"Latency: 0.0707s<br>Fibre Index: None\", \"Offset: 0.0733s\"], \"type\": \"scatter\", \"x\": [0.07074999999997544, 0.07334999999994807], \"y\": [393.62195, 393.62195]}, {\"hovertemplate\": \"%{text}\", \"marker\": {\"color\": \"black\", \"size\": 7, \"symbol\": [\"triangle-nw\", \"triangle-ne\"]}, \"mode\": \"markers\", \"showlegend\": false, \"text\": [\"Latency: 0.0700s<br>Fibre Index: None\", \"Offset: 0.0725s\"], \"type\": \"scatter\", \"x\": [0.06995000000000573, 0.07254999999997835], \"y\": [397.6222, 397.6222]}, {\"hovertemplate\": \"%{text}\", \"marker\": {\"color\": \"black\", \"size\": 7, \"symbol\": [\"triangle-nw\", \"triangle-ne\"]}, \"mode\": \"markers\", \"showlegend\": false, \"text\": [\"Latency: 0.0694s<br>Fibre Index: None\", \"Offset: 0.0720s\"], \"type\": \"scatter\", \"x\": [0.06939999999997326, 0.07199999999994589], \"y\": [401.6224, 401.6224]}, {\"hovertemplate\": \"%{text}\", \"marker\": {\"color\": \"black\", \"size\": 7, \"symbol\": [\"triangle-nw\", \"triangle-ne\"]}, \"mode\": \"markers\", \"showlegend\": false, \"text\": [\"Latency: 0.0697s<br>Fibre Index: None\", \"Offset: 0.0723s\"], \"type\": \"scatter\", \"x\": [0.06974999999999909, 0.07234999999997171], \"y\": [405.62265, 405.62265]}, {\"hovertemplate\": \"%{text}\", \"marker\": {\"color\": \"black\", \"size\": 7, \"symbol\": [\"triangle-nw\", \"triangle-ne\"]}, \"mode\": \"markers\", \"showlegend\": false, \"text\": [\"Latency: 0.0697s<br>Fibre Index: None\", \"Offset: 0.0723s\"], \"type\": \"scatter\", \"x\": [0.06974999999999909, 0.07234999999997171], \"y\": [409.6229, 409.6229]}, {\"hovertemplate\": \"%{text}\", \"marker\": {\"color\": \"black\", \"size\": 7, \"symbol\": [\"triangle-nw\", \"triangle-ne\"]}, \"mode\": \"markers\", \"showlegend\": false, \"text\": [\"Latency: 0.0777s<br>Fibre Index: None\", \"Offset: 0.0803s\"], \"type\": \"scatter\", \"x\": [0.077699999999993, 0.08030000000002246], \"y\": [417.6237, 417.6237]}, {\"hovertemplate\": \"%{text}\", \"marker\": {\"color\": \"black\", \"size\": 7, \"symbol\": [\"triangle-nw\", \"triangle-ne\"]}, \"mode\": \"markers\", \"showlegend\": false, \"text\": [\"Latency: 0.0752s<br>Fibre Index: None\", \"Offset: 0.0778s\"], \"type\": \"scatter\", \"x\": [0.07519999999999527, 0.07780000000002474], \"y\": [421.6239, 421.6239]}, {\"hovertemplate\": \"%{text}\", \"marker\": {\"color\": \"black\", \"size\": 7, \"symbol\": [\"triangle-nw\", \"triangle-ne\"]}, \"mode\": \"markers\", \"showlegend\": false, \"text\": [\"Latency: 0.0731s<br>Fibre Index: None\", \"Offset: 0.0757s\"], \"type\": \"scatter\", \"x\": [0.07310000000001082, 0.07570000000004029], \"y\": [425.62415, 425.62415]}, {\"hovertemplate\": \"%{text}\", \"marker\": {\"color\": \"black\", \"size\": 7, \"symbol\": [\"triangle-nw\", \"triangle-ne\"]}, \"mode\": \"markers\", \"showlegend\": false, \"text\": [\"Latency: 0.0721s<br>Fibre Index: None\", \"Offset: 0.0747s\"], \"type\": \"scatter\", \"x\": [0.07210000000003447, 0.0747000000000071], \"y\": [429.6244, 429.6244]}, {\"line\": {\"color\": \"green\", \"width\": 0.75}, \"mode\": \"lines\", \"name\": \"AP Track\", \"type\": \"scatter\", \"x\": [0.05664999999999987, 0.056550000000000544, 0.05670000000000108, 0.05680000000000085, 0.057000000000000384, 0.05729999999999791, 0.05765000000000242, 0.06265000000000498, 0.06119999999999948, 0.06044999999999945, 0.05964999999999776, 0.05979999999999919, 0.059899999999998954, 0.060549999999999216, 0.060050000000003934, 0.06494999999999607, 0.06345000000000312, 0.06244999999999834, 0.061599999999998545, 0.06074999999999875, 0.06034999999999968, 0.06030000000000513, 0.06051038961038975, 0.06235892151326947, 0.06453209109730862, 0.0638239273480144, 0.06333607129102792, 0.0627308363166625, 0.06241025742695315, 0.06203155045842608, 0.06119583199564616, 0.06305258665114574, 0.06515369614535509, 0.06349571473047344, 0.06280457823537795, 0.062420668631038734, 0.06198977489971544, 0.06231263492214584, 0.062274186267478104, 0.06303303855747973, 0.06306932674491728, 0.06310415151772066, 0.06313758256230105, 0.06276968470322696, 0.06276415470884632, 0.0627570085528495, 0.0627483165031329, 0.06313814434240798, 0.0635598870753, 0.06401326246125334, 0.06369798478598213, 0.06295102083620112, 0.06294191510663132, 0.06333164827401358, 0.06294989297179415, 0.06373823867967576, 0.06818268828366128, 0.06733540856433849, 0.0656075480827653, 0.06534549706933936, 0.06545700537794734, 0.06516851368655532, 0.06525421554355035, 0.06573971258743738, 0.07105001121862597, 0.0694803098498146, 0.06819182060221532, 0.06720925627546631, 0.06655680608392367, 0.06625814958377066, 0.06593647030929045, 0.06599193389195307, 0.0712469279910477, 0.06998639697598706, 0.0686408604074277, 0.0684108553703999, 0.06776007840354749, 0.06706787970053656, 0.06713452215636671, 0.06720077512826314, 0.07246664835332411, 0.07078894133147148, 0.06941487779049817, 0.06916429353251037, 0.06889477640016807, 0.06820643573841394, 0.06828077633520978, 0.06715479616215801, 0.07397395705493695, 0.0722981230549682, 0.07093449879282711, 0.07070113094094253, 0.07005056289794463, 0.06976567975443251, 0.0698636838220848, 0.07196150871840458, 0.0737424915094612, 0.07238971141391987, 0.07137221429754965, 0.07110647970437045, 0.07482474511119122, 0.07108550556751703, 0.07119002451733916, 0.07089439117323408, 0.07698322384854649, 0.07490040817221041, 0.07352788899183137], \"y\": [5.5959, 9.59615, 13.5964, 17.5966, 21.59685, 25.5971, 29.59735, 33.59775, 37.598, 41.59825, 45.5985, 49.5987, 53.59895, 57.5992, 61.59945, 65.59985, 69.6001, 73.60035, 77.6006, 81.6008, 85.60105, 89.6013, 93.60155, 97.60195, 101.6022, 105.60245, 109.6027, 113.6029, 117.60315, 121.6034, 125.60365, 129.60405, 133.6043, 137.60455, 141.6048, 145.605, 149.60525, 153.6055, 157.60575, 161.6061, 165.60635, 169.6066, 173.6068, 177.60705, 181.6073, 185.60755, 189.6078, 193.60815, 197.6084, 201.6086, 205.60885, 209.6091, 213.60935, 217.6096, 221.6098, 225.61035, 229.6106, 233.61085, 237.6111, 241.6113, 245.61155, 249.6118, 253.61205, 257.6126, 261.6128, 265.61305, 269.6133, 273.61355, 277.6138, 281.614, 285.61425, 289.6148, 293.61505, 297.6153, 301.6155, 305.61575, 309.616, 313.61625, 317.6165, 321.617, 325.61725, 329.6175, 333.61775, 337.618, 341.6182, 345.61845, 349.6187, 353.61925, 357.6195, 361.6197, 365.61995, 369.6202, 373.62045, 377.6207, 381.6209, 385.62145, 389.6217, 393.62195, 397.6222, 401.6224, 405.62265, 409.6229, 413.62315, 417.6237, 421.6239, 425.62415, 429.6244]}],\n",
       "                        {\"height\": 600, \"template\": {\"data\": {\"bar\": [{\"error_x\": {\"color\": \"#2a3f5f\"}, \"error_y\": {\"color\": \"#2a3f5f\"}, \"marker\": {\"line\": {\"color\": \"#E5ECF6\", \"width\": 0.5}}, \"type\": \"bar\"}], \"barpolar\": [{\"marker\": {\"line\": {\"color\": \"#E5ECF6\", \"width\": 0.5}}, \"type\": \"barpolar\"}], \"carpet\": [{\"aaxis\": {\"endlinecolor\": \"#2a3f5f\", \"gridcolor\": \"white\", \"linecolor\": \"white\", \"minorgridcolor\": \"white\", \"startlinecolor\": \"#2a3f5f\"}, \"baxis\": {\"endlinecolor\": \"#2a3f5f\", \"gridcolor\": \"white\", \"linecolor\": \"white\", \"minorgridcolor\": \"white\", \"startlinecolor\": \"#2a3f5f\"}, \"type\": \"carpet\"}], \"choropleth\": [{\"colorbar\": {\"outlinewidth\": 0, \"ticks\": \"\"}, \"type\": \"choropleth\"}], \"contour\": [{\"colorbar\": {\"outlinewidth\": 0, \"ticks\": \"\"}, \"colorscale\": [[0.0, \"#0d0887\"], [0.1111111111111111, \"#46039f\"], [0.2222222222222222, \"#7201a8\"], [0.3333333333333333, \"#9c179e\"], [0.4444444444444444, \"#bd3786\"], [0.5555555555555556, \"#d8576b\"], [0.6666666666666666, \"#ed7953\"], [0.7777777777777778, \"#fb9f3a\"], [0.8888888888888888, \"#fdca26\"], [1.0, \"#f0f921\"]], \"type\": \"contour\"}], \"contourcarpet\": [{\"colorbar\": {\"outlinewidth\": 0, \"ticks\": \"\"}, \"type\": \"contourcarpet\"}], \"heatmap\": [{\"colorbar\": {\"outlinewidth\": 0, \"ticks\": \"\"}, \"colorscale\": [[0.0, \"#0d0887\"], [0.1111111111111111, \"#46039f\"], [0.2222222222222222, \"#7201a8\"], [0.3333333333333333, \"#9c179e\"], [0.4444444444444444, \"#bd3786\"], [0.5555555555555556, \"#d8576b\"], [0.6666666666666666, \"#ed7953\"], [0.7777777777777778, \"#fb9f3a\"], [0.8888888888888888, \"#fdca26\"], [1.0, \"#f0f921\"]], \"type\": \"heatmap\"}], \"heatmapgl\": [{\"colorbar\": {\"outlinewidth\": 0, \"ticks\": \"\"}, \"colorscale\": [[0.0, \"#0d0887\"], [0.1111111111111111, \"#46039f\"], [0.2222222222222222, \"#7201a8\"], [0.3333333333333333, \"#9c179e\"], [0.4444444444444444, \"#bd3786\"], [0.5555555555555556, \"#d8576b\"], [0.6666666666666666, \"#ed7953\"], [0.7777777777777778, \"#fb9f3a\"], [0.8888888888888888, \"#fdca26\"], [1.0, \"#f0f921\"]], \"type\": \"heatmapgl\"}], \"histogram\": [{\"marker\": {\"colorbar\": {\"outlinewidth\": 0, \"ticks\": \"\"}}, \"type\": \"histogram\"}], \"histogram2d\": [{\"colorbar\": {\"outlinewidth\": 0, \"ticks\": \"\"}, \"colorscale\": [[0.0, \"#0d0887\"], [0.1111111111111111, \"#46039f\"], [0.2222222222222222, \"#7201a8\"], [0.3333333333333333, \"#9c179e\"], [0.4444444444444444, \"#bd3786\"], [0.5555555555555556, \"#d8576b\"], [0.6666666666666666, \"#ed7953\"], [0.7777777777777778, \"#fb9f3a\"], [0.8888888888888888, \"#fdca26\"], [1.0, \"#f0f921\"]], \"type\": \"histogram2d\"}], \"histogram2dcontour\": [{\"colorbar\": {\"outlinewidth\": 0, \"ticks\": \"\"}, \"colorscale\": [[0.0, \"#0d0887\"], [0.1111111111111111, \"#46039f\"], [0.2222222222222222, \"#7201a8\"], [0.3333333333333333, \"#9c179e\"], [0.4444444444444444, \"#bd3786\"], [0.5555555555555556, \"#d8576b\"], [0.6666666666666666, \"#ed7953\"], [0.7777777777777778, \"#fb9f3a\"], [0.8888888888888888, \"#fdca26\"], [1.0, \"#f0f921\"]], \"type\": \"histogram2dcontour\"}], \"mesh3d\": [{\"colorbar\": {\"outlinewidth\": 0, \"ticks\": \"\"}, \"type\": \"mesh3d\"}], \"parcoords\": [{\"line\": {\"colorbar\": {\"outlinewidth\": 0, \"ticks\": \"\"}}, \"type\": \"parcoords\"}], \"pie\": [{\"automargin\": true, \"type\": \"pie\"}], \"scatter\": [{\"marker\": {\"colorbar\": {\"outlinewidth\": 0, \"ticks\": \"\"}}, \"type\": \"scatter\"}], \"scatter3d\": [{\"line\": {\"colorbar\": {\"outlinewidth\": 0, \"ticks\": \"\"}}, \"marker\": {\"colorbar\": {\"outlinewidth\": 0, \"ticks\": \"\"}}, \"type\": \"scatter3d\"}], \"scattercarpet\": [{\"marker\": {\"colorbar\": {\"outlinewidth\": 0, \"ticks\": \"\"}}, \"type\": \"scattercarpet\"}], \"scattergeo\": [{\"marker\": {\"colorbar\": {\"outlinewidth\": 0, \"ticks\": \"\"}}, \"type\": \"scattergeo\"}], \"scattergl\": [{\"marker\": {\"colorbar\": {\"outlinewidth\": 0, \"ticks\": \"\"}}, \"type\": \"scattergl\"}], \"scattermapbox\": [{\"marker\": {\"colorbar\": {\"outlinewidth\": 0, \"ticks\": \"\"}}, \"type\": \"scattermapbox\"}], \"scatterpolar\": [{\"marker\": {\"colorbar\": {\"outlinewidth\": 0, \"ticks\": \"\"}}, \"type\": \"scatterpolar\"}], \"scatterpolargl\": [{\"marker\": {\"colorbar\": {\"outlinewidth\": 0, \"ticks\": \"\"}}, \"type\": \"scatterpolargl\"}], \"scatterternary\": [{\"marker\": {\"colorbar\": {\"outlinewidth\": 0, \"ticks\": \"\"}}, \"type\": \"scatterternary\"}], \"surface\": [{\"colorbar\": {\"outlinewidth\": 0, \"ticks\": \"\"}, \"colorscale\": [[0.0, \"#0d0887\"], [0.1111111111111111, \"#46039f\"], [0.2222222222222222, \"#7201a8\"], [0.3333333333333333, \"#9c179e\"], [0.4444444444444444, \"#bd3786\"], [0.5555555555555556, \"#d8576b\"], [0.6666666666666666, \"#ed7953\"], [0.7777777777777778, \"#fb9f3a\"], [0.8888888888888888, \"#fdca26\"], [1.0, \"#f0f921\"]], \"type\": \"surface\"}], \"table\": [{\"cells\": {\"fill\": {\"color\": \"#EBF0F8\"}, \"line\": {\"color\": \"white\"}}, \"header\": {\"fill\": {\"color\": \"#C8D4E3\"}, \"line\": {\"color\": \"white\"}}, \"type\": \"table\"}]}, \"layout\": {\"annotationdefaults\": {\"arrowcolor\": \"#2a3f5f\", \"arrowhead\": 0, \"arrowwidth\": 1}, \"coloraxis\": {\"colorbar\": {\"outlinewidth\": 0, \"ticks\": \"\"}}, \"colorscale\": {\"diverging\": [[0, \"#8e0152\"], [0.1, \"#c51b7d\"], [0.2, \"#de77ae\"], [0.3, \"#f1b6da\"], [0.4, \"#fde0ef\"], [0.5, \"#f7f7f7\"], [0.6, \"#e6f5d0\"], [0.7, \"#b8e186\"], [0.8, \"#7fbc41\"], [0.9, \"#4d9221\"], [1, \"#276419\"]], \"sequential\": [[0.0, \"#0d0887\"], [0.1111111111111111, \"#46039f\"], [0.2222222222222222, \"#7201a8\"], [0.3333333333333333, \"#9c179e\"], [0.4444444444444444, \"#bd3786\"], [0.5555555555555556, \"#d8576b\"], [0.6666666666666666, \"#ed7953\"], [0.7777777777777778, \"#fb9f3a\"], [0.8888888888888888, \"#fdca26\"], [1.0, \"#f0f921\"]], \"sequentialminus\": [[0.0, \"#0d0887\"], [0.1111111111111111, \"#46039f\"], [0.2222222222222222, \"#7201a8\"], [0.3333333333333333, \"#9c179e\"], [0.4444444444444444, \"#bd3786\"], [0.5555555555555556, \"#d8576b\"], [0.6666666666666666, \"#ed7953\"], [0.7777777777777778, \"#fb9f3a\"], [0.8888888888888888, \"#fdca26\"], [1.0, \"#f0f921\"]]}, \"colorway\": [\"#636efa\", \"#EF553B\", \"#00cc96\", \"#ab63fa\", \"#FFA15A\", \"#19d3f3\", \"#FF6692\", \"#B6E880\", \"#FF97FF\", \"#FECB52\"], \"font\": {\"color\": \"#2a3f5f\"}, \"geo\": {\"bgcolor\": \"white\", \"lakecolor\": \"white\", \"landcolor\": \"#E5ECF6\", \"showlakes\": true, \"showland\": true, \"subunitcolor\": \"white\"}, \"hoverlabel\": {\"align\": \"left\"}, \"hovermode\": \"closest\", \"mapbox\": {\"style\": \"light\"}, \"paper_bgcolor\": \"white\", \"plot_bgcolor\": \"#E5ECF6\", \"polar\": {\"angularaxis\": {\"gridcolor\": \"white\", \"linecolor\": \"white\", \"ticks\": \"\"}, \"bgcolor\": \"#E5ECF6\", \"radialaxis\": {\"gridcolor\": \"white\", \"linecolor\": \"white\", \"ticks\": \"\"}}, \"scene\": {\"xaxis\": {\"backgroundcolor\": \"#E5ECF6\", \"gridcolor\": \"white\", \"gridwidth\": 2, \"linecolor\": \"white\", \"showbackground\": true, \"ticks\": \"\", \"zerolinecolor\": \"white\"}, \"yaxis\": {\"backgroundcolor\": \"#E5ECF6\", \"gridcolor\": \"white\", \"gridwidth\": 2, \"linecolor\": \"white\", \"showbackground\": true, \"ticks\": \"\", \"zerolinecolor\": \"white\"}, \"zaxis\": {\"backgroundcolor\": \"#E5ECF6\", \"gridcolor\": \"white\", \"gridwidth\": 2, \"linecolor\": \"white\", \"showbackground\": true, \"ticks\": \"\", \"zerolinecolor\": \"white\"}}, \"shapedefaults\": {\"line\": {\"color\": \"#2a3f5f\"}}, \"ternary\": {\"aaxis\": {\"gridcolor\": \"white\", \"linecolor\": \"white\", \"ticks\": \"\"}, \"baxis\": {\"gridcolor\": \"white\", \"linecolor\": \"white\", \"ticks\": \"\"}, \"bgcolor\": \"#E5ECF6\", \"caxis\": {\"gridcolor\": \"white\", \"linecolor\": \"white\", \"ticks\": \"\"}}, \"title\": {\"x\": 0.05}, \"xaxis\": {\"automargin\": true, \"gridcolor\": \"white\", \"linecolor\": \"white\", \"ticks\": \"\", \"title\": {\"standoff\": 15}, \"zerolinecolor\": \"white\", \"zerolinewidth\": 2}, \"yaxis\": {\"automargin\": true, \"gridcolor\": \"white\", \"linecolor\": \"white\", \"ticks\": \"\", \"title\": {\"standoff\": 15}, \"zerolinecolor\": \"white\", \"zerolinewidth\": 2}}}, \"width\": 1000, \"xaxis\": {\"title\": {\"text\": \"Latency (s)\"}}, \"yaxis\": {\"autorange\": \"reversed\", \"title\": {\"text\": \"Time (s)\"}}},\n",
       "                        {\"responsive\": true}\n",
       "                    ).then(function(){\n",
       "                            \n",
       "var gd = document.getElementById('11a65f8a-0120-48ec-b253-d2c0146b892b');\n",
       "var x = new MutationObserver(function (mutations, observer) {{\n",
       "        var display = window.getComputedStyle(gd).display;\n",
       "        if (!display || display === 'none') {{\n",
       "            console.log([gd, 'removed!']);\n",
       "            Plotly.purge(gd);\n",
       "            observer.disconnect();\n",
       "        }}\n",
       "}});\n",
       "\n",
       "// Listen for the removal of the full notebook cells\n",
       "var notebookContainer = gd.closest('#notebook-container');\n",
       "if (notebookContainer) {{\n",
       "    x.observe(notebookContainer, {childList: true});\n",
       "}}\n",
       "\n",
       "// Listen for the clearing of the current output cell\n",
       "var outputEl = gd.closest('.output');\n",
       "if (outputEl) {{\n",
       "    x.observe(outputEl, {childList: true});\n",
       "}}\n",
       "\n",
       "                        })\n",
       "                };\n",
       "                });\n",
       "            </script>\n",
       "        </div>"
      ]
     },
     "metadata": {},
     "output_type": "display_data"
    }
   ],
   "source": [
    "%autoreload 2\n",
    "from fibre_tracking.ap_track import APTrack\n",
    "from plotting import FallingLeafPlot\n",
    "\n",
    "# and now, we can extract the nearest action potentials\n",
    "aps = ap_track.get_nearest_existing_aps(sweeps = recording.sweeps)\n",
    "\n",
    "# also, we may want to change the track's color :)\n",
    "ap_track.color = \"green\"\n",
    "\n",
    "# Starting point for the falling leaf plot\n",
    "FLP_START_TIME = recording.sweeps[ap_track.sweep_idcs[0]].t_start\n",
    "FLP_POST_ST_TIMEFRAME = max(ap_track.latencies) * 1.5\n",
    "\n",
    "flplot = FallingLeafPlot()\n",
    "flplot.plot(regular_stimuli = recording.el_stimuli, action_potentials = aps, t_start = FLP_START_TIME, num_intervals = len(ap_track), \\\n",
    "            ap_tracks = [ap_track], post_stimulus_timeframe = FLP_POST_ST_TIMEFRAME, plot_raw_signal = False)"
   ]
  },
  {
   "cell_type": "code",
   "execution_count": 55,
   "metadata": {},
   "outputs": [
    {
     "name": "stderr",
     "output_type": "stream",
     "text": [
      "100%|██████████████████████████████████████████████████████████████████████████████| 105/105 [00:00<00:00, 3501.17it/s]\n"
     ]
    }
   ],
   "source": [
    "%autoreload 2\n",
    "from signal_artifacts import ActionPotential\n",
    "\n",
    "ActionPotential.save_aps_to_csv(actpots = aps, fpath = \"../data/test_ap_export.csv\")"
   ]
  },
  {
   "cell_type": "code",
   "execution_count": null,
   "metadata": {},
   "outputs": [],
   "source": []
  }
 ],
 "metadata": {
  "kernelspec": {
   "display_name": "Python 3",
   "language": "python",
   "name": "python3"
  },
  "language_info": {
   "codemirror_mode": {
    "name": "ipython",
    "version": 3
   },
   "file_extension": ".py",
   "mimetype": "text/x-python",
   "name": "python",
   "nbconvert_exporter": "python",
   "pygments_lexer": "ipython3",
   "version": "3.7.0"
  }
 },
 "nbformat": 4,
 "nbformat_minor": 4
}
