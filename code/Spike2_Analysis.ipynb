{
 "cells": [
  {
   "cell_type": "code",
   "execution_count": 2,
   "metadata": {},
   "outputs": [
    {
     "name": "stdout",
     "output_type": "stream",
     "text": [
      "The autoreload extension is already loaded. To reload it, use:\n",
      "  %reload_ext autoreload\n",
      "List of eletrical stimuli created.\n",
      "List of extra eletrical stimuli created.\n",
      "Finished processing AP channel 1 out of 1\n",
      "List of APs created.\n",
      "Done with cropping the intervals\n"
     ]
    }
   ],
   "source": [
    "%load_ext autoreload\n",
    "%autoreload 2\n",
    "from gui import SpikeImportGUI\n",
    "from importers import SpikeImporter\n",
    "from recordings import MNGRecording\n",
    "\n",
    "# present the Spike GUI and let the user make his choices\n",
    "spike_gui = SpikeImportGUI()\n",
    "\n",
    "importer = SpikeImporter(filepath = spike_gui.filepath, time_channel = spike_gui.time_channel, signal_channel = spike_gui.signal_channel)\n",
    "    \n",
    "recording = MNGRecording.from_importer(importer = importer, stimulus_channels = spike_gui.stimulus_channels, \\\n",
    "                                      ap_channels = spike_gui.ap_channels, force_threshold = spike_gui.force_threshold, \\\n",
    "                                      max_ap_gap_time = spike_gui.max_ap_gap)"
   ]
  },
  {
   "cell_type": "code",
   "execution_count": 3,
   "metadata": {},
   "outputs": [
    {
     "name": "stderr",
     "output_type": "stream",
     "text": [
      " 18%|██████████████                                                                  | 40/227 [00:00<00:00, 396.09it/s]"
     ]
    },
    {
     "name": "stdout",
     "output_type": "stream",
     "text": [
      "Extracting features from every AP\n"
     ]
    },
    {
     "name": "stderr",
     "output_type": "stream",
     "text": [
      "100%|███████████████████████████████████████████████████████████████████████████████| 227/227 [00:00<00:00, 485.26it/s]\n"
     ]
    }
   ],
   "source": [
    "'''\n",
    "Here, we extract some features from the APs:\n",
    "- postpulse distance (aka latency)\n",
    "- normalized signal energy\n",
    "'''\n",
    "%autoreload 2\n",
    "from tqdm import tqdm\n",
    "from feature_extraction import ResponseLatency, NormalizedSignalEnergy, SpikeCount, AdaptiveSpikeCount\n",
    "\n",
    "print(\"Extracting features from every AP\")\n",
    "features = [ResponseLatency(regular_el_stimuli = recording.el_stimuli), \\\n",
    "            NormalizedSignalEnergy(), \\\n",
    "            SpikeCount(actpots = recording.actpots, timeframe = 100, num_intervals = 16), \\\n",
    "            AdaptiveSpikeCount(actpots = recording.actpots, timeframe = 100, num_splits = 8)]\n",
    "\n",
    "for ap in tqdm(recording.actpots):\n",
    "    # for each of the features, calculate and store in the ap's dict\n",
    "    for feature in features:\n",
    "        ap.features[feature.get_feature_name()] = feature.get_feature_value(ap)\n",
    "\n",
    "    # also, save a reference to the previous electrical stimulus.\n",
    "    # we might need that later.\n",
    "    ap.prev_stimuli[\"regular\"] = MNGRecording.get_prev_el_stimulus(ap, recording.el_stimuli)"
   ]
  },
  {
   "cell_type": "code",
   "execution_count": 6,
   "metadata": {},
   "outputs": [
    {
     "data": {
      "application/vnd.jupyter.widget-view+json": {
       "model_id": "f4cb3450352846899309d83d70ce526c",
       "version_major": 2,
       "version_minor": 0
      },
      "text/plain": [
       "interactive(children=(FloatSlider(value=0.005, description='eps', max=0.05, min=0.001, readout_format='.3f', s…"
      ]
     },
     "metadata": {},
     "output_type": "display_data"
    }
   ],
   "source": [
    "''' \n",
    "This cell performs the clustering according to\n",
    "- distance to previous stimulus\n",
    "- normalized signal energy of the APs\n",
    "'''\n",
    "%autoreload 2\n",
    "from fibre_tracking import DBSCANClustering\n",
    "from ipywidgets import interact_manual, fixed, IntSlider, FloatSlider\n",
    "\n",
    "dbscan = DBSCANClustering()\n",
    "x = interact_manual(dbscan.perform_clustering, actpots = fixed(recording.actpots), \\\n",
    "                eps = FloatSlider(min = 0.001, max = 0.05, step = 0.001, value = 0.005, readout_format='.3f'), \\\n",
    "                min_samples = IntSlider(min = 1, max = 50, value = 10, step = 1), \\\n",
    "                save_fibre_prediction = fixed(True), \\\n",
    "                plot_results = fixed(True), \\\n",
    "                manual_name = \"Update Plot\")"
   ]
  },
  {
   "cell_type": "code",
   "execution_count": 7,
   "metadata": {},
   "outputs": [
    {
     "data": {
      "application/vnd.jupyter.widget-view+json": {
       "model_id": "a81803806b454cef9b2d112603565a3f",
       "version_major": 2,
       "version_minor": 0
      },
      "text/plain": [
       "interactive(children=(FloatSlider(value=0.0, description='t_start', max=440.0), IntSlider(value=5, description…"
      ]
     },
     "metadata": {},
     "output_type": "display_data"
    },
    {
     "data": {
      "text/plain": [
       "<function ipywidgets.widgets.interaction._InteractFactory.__call__.<locals>.<lambda>(*args, **kwargs)>"
      ]
     },
     "execution_count": 7,
     "metadata": {},
     "output_type": "execute_result"
    }
   ],
   "source": [
    "%autoreload 2\n",
    "from plotting import FallingLeafPlot\n",
    "from ipywidgets import interact_manual, fixed, IntSlider, FloatSlider\n",
    "\n",
    "tmin, tmax = importer.get_time_range()\n",
    "max_interval_length = max([stim.interval_length for stim in recording.el_stimuli])\n",
    "\n",
    "flplot = FallingLeafPlot()\n",
    "interact_manual(flplot.plot, regular_stimuli = fixed(recording.el_stimuli), action_potentials = fixed(recording.actpots), \\\n",
    "                t_start = FloatSlider(min = tmin, max = tmax, value = 0), \\\n",
    "                num_intervals = IntSlider(min = 1, max = len(recording.el_stimuli), step = 1, value = 5), \\\n",
    "                post_stimulus_timeframe = FloatSlider(min = 0, max = max_interval_length, value = 0.1), \\\n",
    "                manual_name = \"Update Plot\")"
   ]
  },
  {
   "cell_type": "code",
   "execution_count": null,
   "metadata": {},
   "outputs": [],
   "source": [
    "%autoreload 2\n",
    "from fibre_tracking import ActionPotentialTemplate\n",
    "from metrics import normalized_cross_correlation\n",
    "import numpy as np\n",
    "import matplotlib.pyplot as plt\n",
    "\n",
    "# get the APs for a certain cluster number\n",
    "cluster_idcs = [0]\n",
    "filtered_aps = list(filter(lambda ap: ap.implied_fibre_index in cluster_idcs, recording.actpots))\n",
    "\n",
    "template_candidate = ActionPotentialTemplate.from_ap_list(aps = filtered_aps)\n",
    "    \n",
    "template = template_candidate.signal_template\n",
    "corr = np.array([normalized_cross_correlation(template, ap.raw_signal) for ap in recording.actpots])\n",
    "\n",
    "plt.figure()\n",
    "plt.hist(x = corr, bins = 100)\n",
    "plt.grid(axis = 'both')\n",
    "plt.xlabel(\"Normalized correlation coefficient\")\n",
    "plt.ylabel(\"Frequency\")\n",
    "plt.title(\"Histogram of correlation for the fibre candidate template\")\n",
    "plt.show()"
   ]
  },
  {
   "cell_type": "code",
   "execution_count": 14,
   "metadata": {},
   "outputs": [
    {
     "name": "stderr",
     "output_type": "stream",
     "text": [
      "100%|███████████████████████████████████████████████████████████████████████████████| 227/227 [00:00<00:00, 440.29it/s]\n"
     ]
    }
   ],
   "source": [
    "sc = SpikeCount(actpots = recording.actpots, timeframe = 1600, num_intervals = 16)\n",
    "\n",
    "# calculate spike count for every AP\n",
    "for ap in tqdm(recording.actpots):\n",
    "    ap.features[sc.get_feature_name()] = sc.get_feature_value(ap)"
   ]
  },
  {
   "cell_type": "code",
   "execution_count": 16,
   "metadata": {},
   "outputs": [
    {
     "data": {
      "image/png": "[encoded data removed]",
      "text/plain": [
       "<Figure size 432x288 with 1 Axes>"
      ]
     },
     "metadata": {
      "needs_background": "light"
     },
     "output_type": "display_data"
    },
    {
     "data": {
      "image/png": "[encoded data removed]",
      "text/plain": [
       "<Figure size 432x288 with 1 Axes>"
      ]
     },
     "metadata": {
      "needs_background": "light"
     },
     "output_type": "display_data"
    },
    {
     "name": "stdout",
     "output_type": "stream",
     "text": [
      "63\n",
      "40\n"
     ]
    }
   ],
   "source": [
    "'''\n",
    "    Try to perform some linear regression using the spike counts\n",
    "'''\n",
    "from sklearn.linear_model import LinearRegression\n",
    "from sklearn.model_selection import train_test_split\n",
    "from sklearn.metrics import mean_squared_error, r2_score\n",
    "\n",
    "from machine_learning import timebased_train_test_split\n",
    "import matplotlib.pyplot as plt\n",
    "\n",
    "\n",
    "# restrict to only the \"interesting\" APs that we suspect as candidates\n",
    "candidate_aps = [ap for ap in recording.actpots if ap.implied_fibre_index == 0]\n",
    "\n",
    "# get the features as lists\n",
    "spike_counts = [ap.features[\"spike_count\"] for ap in candidate_aps]\n",
    "latencies = [ap.features[\"latency\"] for ap in candidate_aps]\n",
    "\n",
    "# perform a split on the set to get some data for training and some for evaluation\n",
    "train_aps, test_aps = timebased_train_test_split(candidate_aps, test_percentage = 0.3, num_test_intervals = 10)\n",
    "\n",
    "cnts_train = [ap.features[\"spike_count\"] for ap in train_aps]\n",
    "lat_train = [ap.features[\"latency\"] for ap in train_aps]\n",
    "cnts_test = [ap.features[\"spike_count\"] for ap in test_aps]\n",
    "lat_test = [ap.features[\"latency\"] for ap in test_aps]\n",
    "\n",
    "# plot the segments that have been selected for training and testing\n",
    "plt.figure()\n",
    "plt.scatter([ap.onset for ap in train_aps], [ap.features[\"latency\"] for ap in train_aps], label = \"Training\")\n",
    "plt.scatter([ap.onset for ap in test_aps], [ap.features[\"latency\"] for ap in test_aps], label = \"Test\")\n",
    "plt.legend()\n",
    "plt.show()\n",
    "\n",
    "# we should not use this sklearn function because it samples random data points from anywhere in the recording\n",
    "# cnts_train, cnts_test, lat_train, lat_test = train_test_split(spike_counts, latencies, test_size = 0.2)\n",
    "\n",
    "regression = LinearRegression().fit(X = cnts_train, y = lat_train)\n",
    "\n",
    "lat_pred = regression.predict(cnts_test)\n",
    "\n",
    "plt.figure()\n",
    "plt.scatter(lat_test, lat_pred)\n",
    "plt.gca().plot([0, 1], [0, 1], transform = plt.gca().transAxes, color = \"r\")\n",
    "plt.xlabel(\"Observed Latency (ms)\")\n",
    "plt.ylabel(\"Predicted Latency (ms)\")\n",
    "plt.title(\"R^2 score: \" + \"{:.2f}\".format(r2_score(lat_test, lat_pred)))\n",
    "plt.gca().set_ylim(ymin=0)\n",
    "plt.gca().set_xlim(xmin=0)\n",
    "plt.show()\n",
    "\n",
    "print(len(cnts_train))\n",
    "\n",
    "print(len(cnts_test))"
   ]
  },
  {
   "cell_type": "code",
   "execution_count": null,
   "metadata": {},
   "outputs": [],
   "source": [
    "from feature_extraction import get_spike_count\n",
    "\n",
    "# restrict to only the \"interesting\" APs that we suspect as candidates\n",
    "candidate_aps = [ap for ap in recording.actpots if ap.implied_fibre_index == 0]\n",
    "\n",
    "timeframe_len = 400\n",
    "\n",
    "spike_counts = [get_spike_count(actpot = ap, actpots = recording.actpots, timeframe = timeframe_len, num_intervals = 1) for ap in candidate_aps]\n",
    "latencies = [ap.features[\"latency\"] for ap in candidate_aps]\n",
    "\n",
    "plt.figure()\n",
    "plt.scatter(spike_counts, latencies)\n",
    "plt.xlabel(\"Number of action potentials in previous \" + str(timeframe_len) + \"s\")\n",
    "plt.ylabel(\"Latency of response to stimulus (s)\")\n",
    "plt.gca().set_ylim(ymin=0)\n",
    "plt.gca().set_xlim(xmin=0)\n",
    "plt.show()"
   ]
  },
  {
   "cell_type": "code",
   "execution_count": null,
   "metadata": {},
   "outputs": [],
   "source": []
  }
 ],
 "metadata": {
  "kernelspec": {
   "display_name": "Python 3",
   "language": "python",
   "name": "python3"
  },
  "language_info": {
   "codemirror_mode": {
    "name": "ipython",
    "version": 3
   },
   "file_extension": ".py",
   "mimetype": "text/x-python",
   "name": "python",
   "nbconvert_exporter": "python",
   "pygments_lexer": "ipython3",
   "version": "3.7.0"
  }
 },
 "nbformat": 4,
 "nbformat_minor": 2
}
